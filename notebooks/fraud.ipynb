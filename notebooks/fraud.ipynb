{
 "cells": [
  {
   "cell_type": "code",
   "execution_count": 1,
   "metadata": {},
   "outputs": [
    {
     "name": "stderr",
     "output_type": "stream",
     "text": [
      "22/09/12 12:56:58 WARN Utils: Your hostname, Kes-MacBook-Pro.local resolves to a loopback address: 127.0.0.1; using 10.13.243.118 instead (on interface en0)\n",
      "22/09/12 12:56:58 WARN Utils: Set SPARK_LOCAL_IP if you need to bind to another address\n",
      "WARNING: An illegal reflective access operation has occurred\n",
      "WARNING: Illegal reflective access by org.apache.spark.unsafe.Platform (file:/Users/ke/opt/anaconda3/envs/ML/lib/python3.9/site-packages/pyspark/jars/spark-unsafe_2.12-3.1.2.jar) to constructor java.nio.DirectByteBuffer(long,int)\n",
      "WARNING: Please consider reporting this to the maintainers of org.apache.spark.unsafe.Platform\n",
      "WARNING: Use --illegal-access=warn to enable warnings of further illegal reflective access operations\n",
      "WARNING: All illegal access operations will be denied in a future release\n",
      "22/09/12 12:56:58 WARN NativeCodeLoader: Unable to load native-hadoop library for your platform... using builtin-java classes where applicable\n",
      "Using Spark's default log4j profile: org/apache/spark/log4j-defaults.properties\n",
      "Setting default log level to \"WARN\".\n",
      "To adjust logging level use sc.setLogLevel(newLevel). For SparkR, use setLogLevel(newLevel).\n",
      "22/09/12 12:56:59 WARN Utils: Service 'SparkUI' could not bind on port 4040. Attempting port 4041.\n",
      "22/09/12 12:56:59 WARN Utils: Service 'SparkUI' could not bind on port 4041. Attempting port 4042.\n"
     ]
    },
    {
     "name": "stdout",
     "output_type": "stream",
     "text": [
      "Welcome to\n",
      "      ____              __\n",
      "     / __/__  ___ _____/ /__\n",
      "    _\\ \\/ _ \\/ _ `/ __/  '_/\n",
      "   /__ / .__/\\_,_/_/ /_/\\_\\   version 3.1.2\n",
      "      /_/\n",
      "\n",
      "Using Python version 3.9.7 (default, Sep 16 2021 08:50:36)\n",
      "Spark context Web UI available at http://10.13.243.118:4042\n",
      "Spark context available as 'sc' (master = local[*], app id = local-1662951419283).\n",
      "SparkSession available as 'spark'.\n"
     ]
    }
   ],
   "source": [
    "import pandas as pd\n",
    "import numpy as np\n",
    "import os\n",
    "import re\n",
    "\n",
    "# # Set working directory\n",
    "# if not \"/data/tables\" in os.getcwd():\n",
    "#     os.chdir(\"../data/tables\")\n",
    "\n",
    "from pyspark.sql import SparkSession\n",
    "from pyspark.shell import spark\n",
    "from pyspark.sql import SQLContext\n",
    "from pyspark.sql.functions import *\n",
    "import matplotlib.pyplot as plt\n",
    "\n",
    "spark = (\n",
    "    SparkSession.builder.appName(\"MAST30034 Project 2\")\n",
    "    .config(\"spark.sql.repl.eagerEval.enabled\", True) \n",
    "    .config(\"spark.sql.parquet.cacheMetadata\", \"true\")\n",
    "    .config(\"spark.sql.session.timeZone\", \"Etc/UTC\")\n",
    "    .config(\"spark.driver.memory\", \"4g\")\n",
    "    .getOrCreate()\n",
    ")"
   ]
  },
  {
   "cell_type": "code",
   "execution_count": 2,
   "metadata": {},
   "outputs": [
    {
     "name": "stderr",
     "output_type": "stream",
     "text": [
      "                                                                                \r"
     ]
    }
   ],
   "source": [
    "sdf = spark.read.parquet(\"../data/tables/transactions_20220228_20220828_snapshot\")"
   ]
  },
  {
   "cell_type": "code",
   "execution_count": 5,
   "metadata": {},
   "outputs": [
    {
     "name": "stdout",
     "output_type": "stream",
     "text": [
      "root\n",
      " |-- user_id: long (nullable = true)\n",
      " |-- merchant_abn: long (nullable = true)\n",
      " |-- dollar_value: double (nullable = true)\n",
      " |-- order_id: string (nullable = true)\n",
      " |-- order_datetime: date (nullable = true)\n",
      "\n"
     ]
    }
   ],
   "source": [
    "sdf.printSchema()"
   ]
  },
  {
   "cell_type": "code",
   "execution_count": 7,
   "metadata": {},
   "outputs": [],
   "source": [
    "consumer_fraud_df = pd.read_csv(\"../data/tables/consumer_fraud_probability.csv\")\n",
    "merchant_fraud_df = pd.read_csv(\"../data/tables/merchant_fraud_probability.csv\")"
   ]
  },
  {
   "cell_type": "code",
   "execution_count": 11,
   "metadata": {},
   "outputs": [
    {
     "data": {
      "text/html": [
       "<div>\n",
       "<style scoped>\n",
       "    .dataframe tbody tr th:only-of-type {\n",
       "        vertical-align: middle;\n",
       "    }\n",
       "\n",
       "    .dataframe tbody tr th {\n",
       "        vertical-align: top;\n",
       "    }\n",
       "\n",
       "    .dataframe thead th {\n",
       "        text-align: right;\n",
       "    }\n",
       "</style>\n",
       "<table border=\"1\" class=\"dataframe\">\n",
       "  <thead>\n",
       "    <tr style=\"text-align: right;\">\n",
       "      <th></th>\n",
       "      <th>user_id</th>\n",
       "      <th>order_datetime</th>\n",
       "      <th>fraud_probability</th>\n",
       "    </tr>\n",
       "  </thead>\n",
       "  <tbody>\n",
       "    <tr>\n",
       "      <th>0</th>\n",
       "      <td>6228</td>\n",
       "      <td>2021-12-19</td>\n",
       "      <td>97.629808</td>\n",
       "    </tr>\n",
       "    <tr>\n",
       "      <th>1</th>\n",
       "      <td>21419</td>\n",
       "      <td>2021-12-10</td>\n",
       "      <td>99.247380</td>\n",
       "    </tr>\n",
       "    <tr>\n",
       "      <th>2</th>\n",
       "      <td>5606</td>\n",
       "      <td>2021-10-17</td>\n",
       "      <td>84.058250</td>\n",
       "    </tr>\n",
       "    <tr>\n",
       "      <th>3</th>\n",
       "      <td>3101</td>\n",
       "      <td>2021-04-17</td>\n",
       "      <td>91.421921</td>\n",
       "    </tr>\n",
       "    <tr>\n",
       "      <th>4</th>\n",
       "      <td>22239</td>\n",
       "      <td>2021-10-19</td>\n",
       "      <td>94.703425</td>\n",
       "    </tr>\n",
       "    <tr>\n",
       "      <th>5</th>\n",
       "      <td>16556</td>\n",
       "      <td>2022-02-20</td>\n",
       "      <td>89.656633</td>\n",
       "    </tr>\n",
       "    <tr>\n",
       "      <th>6</th>\n",
       "      <td>10278</td>\n",
       "      <td>2021-09-28</td>\n",
       "      <td>83.591367</td>\n",
       "    </tr>\n",
       "    <tr>\n",
       "      <th>7</th>\n",
       "      <td>15790</td>\n",
       "      <td>2021-12-30</td>\n",
       "      <td>71.770659</td>\n",
       "    </tr>\n",
       "    <tr>\n",
       "      <th>8</th>\n",
       "      <td>5233</td>\n",
       "      <td>2021-08-29</td>\n",
       "      <td>85.871233</td>\n",
       "    </tr>\n",
       "    <tr>\n",
       "      <th>9</th>\n",
       "      <td>230</td>\n",
       "      <td>2021-08-28</td>\n",
       "      <td>86.283288</td>\n",
       "    </tr>\n",
       "  </tbody>\n",
       "</table>\n",
       "</div>"
      ],
      "text/plain": [
       "   user_id order_datetime  fraud_probability\n",
       "0     6228     2021-12-19          97.629808\n",
       "1    21419     2021-12-10          99.247380\n",
       "2     5606     2021-10-17          84.058250\n",
       "3     3101     2021-04-17          91.421921\n",
       "4    22239     2021-10-19          94.703425\n",
       "5    16556     2022-02-20          89.656633\n",
       "6    10278     2021-09-28          83.591367\n",
       "7    15790     2021-12-30          71.770659\n",
       "8     5233     2021-08-29          85.871233\n",
       "9      230     2021-08-28          86.283288"
      ]
     },
     "execution_count": 11,
     "metadata": {},
     "output_type": "execute_result"
    }
   ],
   "source": [
    "consumer_fraud_df.head(10)"
   ]
  },
  {
   "cell_type": "code",
   "execution_count": 12,
   "metadata": {},
   "outputs": [
    {
     "data": {
      "text/html": [
       "<div>\n",
       "<style scoped>\n",
       "    .dataframe tbody tr th:only-of-type {\n",
       "        vertical-align: middle;\n",
       "    }\n",
       "\n",
       "    .dataframe tbody tr th {\n",
       "        vertical-align: top;\n",
       "    }\n",
       "\n",
       "    .dataframe thead th {\n",
       "        text-align: right;\n",
       "    }\n",
       "</style>\n",
       "<table border=\"1\" class=\"dataframe\">\n",
       "  <thead>\n",
       "    <tr style=\"text-align: right;\">\n",
       "      <th></th>\n",
       "      <th>merchant_abn</th>\n",
       "      <th>order_datetime</th>\n",
       "      <th>fraud_probability</th>\n",
       "    </tr>\n",
       "  </thead>\n",
       "  <tbody>\n",
       "    <tr>\n",
       "      <th>0</th>\n",
       "      <td>19492220327</td>\n",
       "      <td>2021-11-28</td>\n",
       "      <td>44.403659</td>\n",
       "    </tr>\n",
       "    <tr>\n",
       "      <th>1</th>\n",
       "      <td>31334588839</td>\n",
       "      <td>2021-10-02</td>\n",
       "      <td>42.755301</td>\n",
       "    </tr>\n",
       "    <tr>\n",
       "      <th>2</th>\n",
       "      <td>19492220327</td>\n",
       "      <td>2021-12-22</td>\n",
       "      <td>38.867790</td>\n",
       "    </tr>\n",
       "    <tr>\n",
       "      <th>3</th>\n",
       "      <td>82999039227</td>\n",
       "      <td>2021-12-19</td>\n",
       "      <td>94.134700</td>\n",
       "    </tr>\n",
       "    <tr>\n",
       "      <th>4</th>\n",
       "      <td>90918180829</td>\n",
       "      <td>2021-09-02</td>\n",
       "      <td>43.325517</td>\n",
       "    </tr>\n",
       "    <tr>\n",
       "      <th>5</th>\n",
       "      <td>31334588839</td>\n",
       "      <td>2021-12-26</td>\n",
       "      <td>38.361660</td>\n",
       "    </tr>\n",
       "    <tr>\n",
       "      <th>6</th>\n",
       "      <td>23686790459</td>\n",
       "      <td>2021-12-10</td>\n",
       "      <td>79.454344</td>\n",
       "    </tr>\n",
       "    <tr>\n",
       "      <th>7</th>\n",
       "      <td>14827550074</td>\n",
       "      <td>2021-11-26</td>\n",
       "      <td>46.457756</td>\n",
       "    </tr>\n",
       "    <tr>\n",
       "      <th>8</th>\n",
       "      <td>31334588839</td>\n",
       "      <td>2021-11-26</td>\n",
       "      <td>36.209713</td>\n",
       "    </tr>\n",
       "    <tr>\n",
       "      <th>9</th>\n",
       "      <td>19492220327</td>\n",
       "      <td>2021-12-18</td>\n",
       "      <td>33.819672</td>\n",
       "    </tr>\n",
       "    <tr>\n",
       "      <th>10</th>\n",
       "      <td>31334588839</td>\n",
       "      <td>2021-11-29</td>\n",
       "      <td>35.386213</td>\n",
       "    </tr>\n",
       "    <tr>\n",
       "      <th>11</th>\n",
       "      <td>14827550074</td>\n",
       "      <td>2021-12-05</td>\n",
       "      <td>43.855195</td>\n",
       "    </tr>\n",
       "    <tr>\n",
       "      <th>12</th>\n",
       "      <td>19492220327</td>\n",
       "      <td>2021-11-18</td>\n",
       "      <td>32.193140</td>\n",
       "    </tr>\n",
       "    <tr>\n",
       "      <th>13</th>\n",
       "      <td>93260930990</td>\n",
       "      <td>2021-11-30</td>\n",
       "      <td>37.871972</td>\n",
       "    </tr>\n",
       "    <tr>\n",
       "      <th>14</th>\n",
       "      <td>90918180829</td>\n",
       "      <td>2021-09-16</td>\n",
       "      <td>36.620014</td>\n",
       "    </tr>\n",
       "    <tr>\n",
       "      <th>15</th>\n",
       "      <td>83199298021</td>\n",
       "      <td>2022-02-27</td>\n",
       "      <td>26.025159</td>\n",
       "    </tr>\n",
       "    <tr>\n",
       "      <th>16</th>\n",
       "      <td>83199298021</td>\n",
       "      <td>2022-02-17</td>\n",
       "      <td>25.779984</td>\n",
       "    </tr>\n",
       "    <tr>\n",
       "      <th>17</th>\n",
       "      <td>94311056026</td>\n",
       "      <td>2021-12-16</td>\n",
       "      <td>30.851502</td>\n",
       "    </tr>\n",
       "    <tr>\n",
       "      <th>18</th>\n",
       "      <td>97217894162</td>\n",
       "      <td>2022-01-21</td>\n",
       "      <td>34.945827</td>\n",
       "    </tr>\n",
       "    <tr>\n",
       "      <th>19</th>\n",
       "      <td>43083074133</td>\n",
       "      <td>2021-12-18</td>\n",
       "      <td>48.668907</td>\n",
       "    </tr>\n",
       "  </tbody>\n",
       "</table>\n",
       "</div>"
      ],
      "text/plain": [
       "    merchant_abn order_datetime  fraud_probability\n",
       "0    19492220327     2021-11-28          44.403659\n",
       "1    31334588839     2021-10-02          42.755301\n",
       "2    19492220327     2021-12-22          38.867790\n",
       "3    82999039227     2021-12-19          94.134700\n",
       "4    90918180829     2021-09-02          43.325517\n",
       "5    31334588839     2021-12-26          38.361660\n",
       "6    23686790459     2021-12-10          79.454344\n",
       "7    14827550074     2021-11-26          46.457756\n",
       "8    31334588839     2021-11-26          36.209713\n",
       "9    19492220327     2021-12-18          33.819672\n",
       "10   31334588839     2021-11-29          35.386213\n",
       "11   14827550074     2021-12-05          43.855195\n",
       "12   19492220327     2021-11-18          32.193140\n",
       "13   93260930990     2021-11-30          37.871972\n",
       "14   90918180829     2021-09-16          36.620014\n",
       "15   83199298021     2022-02-27          26.025159\n",
       "16   83199298021     2022-02-17          25.779984\n",
       "17   94311056026     2021-12-16          30.851502\n",
       "18   97217894162     2022-01-21          34.945827\n",
       "19   43083074133     2021-12-18          48.668907"
      ]
     },
     "execution_count": 12,
     "metadata": {},
     "output_type": "execute_result"
    }
   ],
   "source": [
    "merchant_fraud_df.head(20)"
   ]
  },
  {
   "cell_type": "markdown",
   "metadata": {},
   "source": [
    "## Merchant Fraud\n",
    "Check if there is missing data"
   ]
  },
  {
   "cell_type": "code",
   "execution_count": 47,
   "metadata": {},
   "outputs": [
    {
     "name": "stdout",
     "output_type": "stream",
     "text": [
      "root\n",
      " |-- name: string (nullable = true)\n",
      " |-- tags: string (nullable = true)\n",
      " |-- merchant_abn: long (nullable = true)\n",
      "\n"
     ]
    }
   ],
   "source": [
    "merchant_sdf = spark.read.parquet(\"../data/tables/tbl_merchants.parquet\")\n",
    "merchant_sdf.printSchema()\n",
    "merchant_df = merchant_sdf.toPandas()"
   ]
  },
  {
   "cell_type": "code",
   "execution_count": 54,
   "metadata": {},
   "outputs": [
    {
     "data": {
      "text/plain": [
       "48"
      ]
     },
     "execution_count": 54,
     "metadata": {},
     "output_type": "execute_result"
    }
   ],
   "source": [
    "#merchant_sdf.select(\"merchant_abn\").distinct().count()\n",
    "# 4026 entries distince values of merchant\n",
    "\n",
    "fraud_union = set(merchant_fraud_df[\"merchant_abn\"].unique()) # 61? unique cases\n",
    "all_union = set(merchant_df[\"merchant_abn\"].unique())\n",
    "len(all_union.intersection(fraud_union))\n",
    "\n"
   ]
  },
  {
   "cell_type": "markdown",
   "metadata": {},
   "source": [
    "Only 48/4026 merchants have fraud data\n",
    "13/61 of the fraud data cannot be matched with any merchant abn"
   ]
  },
  {
   "cell_type": "code",
   "execution_count": 41,
   "metadata": {},
   "outputs": [
    {
     "data": {
      "text/plain": [
       "48"
      ]
     },
     "execution_count": 41,
     "metadata": {},
     "output_type": "execute_result"
    }
   ],
   "source": [
    "merchant_df = merchant_sdf.toPandas()\n",
    "merge_df = merchant_fraud_df.merge(merchant_df,on=\"merchant_abn\")[\"merchant_abn\"].unique()\n"
   ]
  }
 ],
 "metadata": {
  "interpreter": {
   "hash": "6a51a4850383970a9d31be9f5e2bfc463bf284d7bc14ecdb113d3b740d850690"
  },
  "kernelspec": {
   "display_name": "Python 3.9.7 ('ML')",
   "language": "python",
   "name": "python3"
  },
  "language_info": {
   "codemirror_mode": {
    "name": "ipython",
    "version": 3
   },
   "file_extension": ".py",
   "mimetype": "text/x-python",
   "name": "python",
   "nbconvert_exporter": "python",
   "pygments_lexer": "ipython3",
   "version": "3.9.7"
  },
  "orig_nbformat": 4
 },
 "nbformat": 4,
 "nbformat_minor": 2
}
