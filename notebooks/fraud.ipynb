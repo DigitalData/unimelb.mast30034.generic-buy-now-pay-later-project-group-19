{
 "cells": [
  {
   "cell_type": "markdown",
   "metadata": {},
   "source": [
    "## Fraud Consumer metric\n"
   ]
  },
  {
   "cell_type": "code",
   "execution_count": 28,
   "metadata": {},
   "outputs": [],
   "source": [
    "import pandas as pd\n",
    "import numpy as np\n",
    "import os\n",
    "import re\n",
    "\n",
    "from pyspark.sql import SparkSession\n",
    "from pyspark.shell import spark\n",
    "from pyspark.sql import SQLContext\n",
    "from pyspark.sql.functions import *\n",
    "import matplotlib.pyplot as plt\n",
    "\n",
    "spark = (\n",
    "    SparkSession.builder.appName(\"MAST30034 Project 2\")\n",
    "    .config(\"spark.sql.repl.eagerEval.enabled\", True) \n",
    "    .config(\"spark.sql.parquet.cacheMetadata\", \"true\")\n",
    "    .config(\"spark.sql.session.timeZone\", \"Etc/UTC\")\n",
    "    .config(\"spark.driver.memory\", \"4g\")\n",
    "    .getOrCreate()\n",
    ")\n",
    "spark.sparkContext.setLogLevel(\"ERROR\")"
   ]
  },
  {
   "cell_type": "markdown",
   "metadata": {},
   "source": [
    "# Regression"
   ]
  },
  {
   "cell_type": "code",
   "execution_count": 29,
   "metadata": {},
   "outputs": [],
   "source": [
    "consumer_fraud_sdf = spark.read.parquet(\"../data/temp/consumer_fraud\")\n",
    "transaction_sdf1 = spark.read.parquet(\"../data/tables/transactions_20210228_20210827_snapshot\")\n",
    "transaction_sdf2 = spark.read.parquet(\"../data/tables/transactions_20210828_20220227_snapshot\")\n",
    "transaction_sdf3 = spark.read.parquet(\"../data/tables/transactions_20220228_20220828_snapshot\")\n",
    "transaction = transaction_sdf1.union(transaction_sdf2).union(transaction_sdf3)"
   ]
  },
  {
   "cell_type": "code",
   "execution_count": 30,
   "metadata": {},
   "outputs": [
    {
     "name": "stdout",
     "output_type": "stream",
     "text": [
      "root\n",
      " |-- user_id: long (nullable = true)\n",
      " |-- merchant_abn: long (nullable = true)\n",
      " |-- dollar_value: double (nullable = true)\n",
      " |-- order_id: string (nullable = true)\n",
      " |-- order_datetime: date (nullable = true)\n",
      "\n"
     ]
    }
   ],
   "source": [
    "transaction_sdf1.printSchema()"
   ]
  },
  {
   "cell_type": "markdown",
   "metadata": {},
   "source": [
    "### plot on transaction 1"
   ]
  },
  {
   "cell_type": "code",
   "execution_count": 31,
   "metadata": {},
   "outputs": [
    {
     "name": "stderr",
     "output_type": "stream",
     "text": [
      "                                                                                \r"
     ]
    }
   ],
   "source": [
    "from pyspark.sql import functions as F\n",
    "\n",
    "consumer_agg_daily_sdf1 = transaction_sdf1.groupBy([\"user_id\",\"order_datetime\"]).agg(\n",
    "    F.sum(F.col('dollar_value')).alias('total_amount'),\n",
    "    F.countDistinct(F.col('order_id')).alias(\"total_order\")\n",
    ")\n",
    "\n",
    "consumer_fraud_join_df1 = consumer_agg_daily_sdf1.join(consumer_fraud_sdf,on=[\"user_id\",\"order_datetime\"]).toPandas()"
   ]
  },
  {
   "cell_type": "code",
   "execution_count": 32,
   "metadata": {},
   "outputs": [
    {
     "data": {
      "text/plain": [
       "Text(0.5, 1.0, 'total_amount vs fraud_probability')"
      ]
     },
     "execution_count": 32,
     "metadata": {},
     "output_type": "execute_result"
    },
    {
     "data": {
      "image/png": "[encoded data removed]",
      "text/plain": [
       "<Figure size 432x288 with 1 Axes>"
      ]
     },
     "metadata": {
      "needs_background": "light"
     },
     "output_type": "display_data"
    }
   ],
   "source": [
    "import matplotlib.pyplot as plt\n",
    "plt.scatter(x=consumer_fraud_join_df1[\"total_amount\"],y=consumer_fraud_join_df1[\"fraud_probability\"])\n",
    "plt.xlabel('total_amount')\n",
    "plt.ylabel('fraud_probability') \n",
    "plt.title('total_amount vs fraud_probability')\n"
   ]
  },
  {
   "cell_type": "code",
   "execution_count": 33,
   "metadata": {},
   "outputs": [
    {
     "data": {
      "text/plain": [
       "Text(0.5, 1.0, 'total_order vs fraud_probability')"
      ]
     },
     "execution_count": 33,
     "metadata": {},
     "output_type": "execute_result"
    },
    {
     "data": {
      "image/png": "[encoded data removed]",
      "text/plain": [
       "<Figure size 432x288 with 1 Axes>"
      ]
     },
     "metadata": {
      "needs_background": "light"
     },
     "output_type": "display_data"
    }
   ],
   "source": [
    "plt.scatter(x=consumer_fraud_join_df1[\"total_order\"],y=consumer_fraud_join_df1[\"fraud_probability\"])\n",
    "plt.xlabel('total_order')\n",
    "plt.ylabel('fraud_probability') \n",
    "plt.title('total_order vs fraud_probability')"
   ]
  },
  {
   "cell_type": "markdown",
   "metadata": {},
   "source": [
    "### plot on transaction 2"
   ]
  },
  {
   "cell_type": "code",
   "execution_count": 34,
   "metadata": {},
   "outputs": [
    {
     "name": "stderr",
     "output_type": "stream",
     "text": [
      "                                                                                \r"
     ]
    }
   ],
   "source": [
    "consumer_agg_daily_sdf2 = transaction_sdf2.groupBy([\"user_id\",\"order_datetime\"]).agg(\n",
    "    F.sum(F.col('dollar_value')).alias('total_amount'),\n",
    "    F.countDistinct(F.col('order_id')).alias(\"total_order\")\n",
    ")\n",
    "\n",
    "consumer_fraud_join_df2 = consumer_agg_daily_sdf2.join(consumer_fraud_sdf,on=[\"user_id\",\"order_datetime\"]).toPandas()"
   ]
  },
  {
   "cell_type": "code",
   "execution_count": 35,
   "metadata": {},
   "outputs": [
    {
     "data": {
      "text/plain": [
       "Text(0.5, 1.0, 'total_amount vs fraud_probability')"
      ]
     },
     "execution_count": 35,
     "metadata": {},
     "output_type": "execute_result"
    },
    {
     "data": {
      "image/png": "[encoded data removed]",
      "text/plain": [
       "<Figure size 432x288 with 1 Axes>"
      ]
     },
     "metadata": {
      "needs_background": "light"
     },
     "output_type": "display_data"
    }
   ],
   "source": [
    "plt.scatter(x=consumer_fraud_join_df2[\"total_amount\"],y=consumer_fraud_join_df2[\"fraud_probability\"])\n",
    "plt.xlabel('total_amount')\n",
    "plt.ylabel('fraud_probability') \n",
    "plt.title('total_amount vs fraud_probability')"
   ]
  },
  {
   "cell_type": "code",
   "execution_count": 36,
   "metadata": {},
   "outputs": [
    {
     "data": {
      "text/plain": [
       "Text(0.5, 1.0, 'total_order vs fraud_probability')"
      ]
     },
     "execution_count": 36,
     "metadata": {},
     "output_type": "execute_result"
    },
    {
     "data": {
      "image/png": "[encoded data removed]",
      "text/plain": [
       "<Figure size 432x288 with 1 Axes>"
      ]
     },
     "metadata": {
      "needs_background": "light"
     },
     "output_type": "display_data"
    }
   ],
   "source": [
    "plt.scatter(x=consumer_fraud_join_df2[\"total_order\"],y=consumer_fraud_join_df2[\"fraud_probability\"])\n",
    "plt.xlabel('total_order')\n",
    "plt.ylabel('fraud_probability') \n",
    "plt.title('total_order vs fraud_probability')"
   ]
  },
  {
   "cell_type": "markdown",
   "metadata": {},
   "source": [
    "## check distribution of normal transaction"
   ]
  },
  {
   "cell_type": "code",
   "execution_count": 37,
   "metadata": {},
   "outputs": [
    {
     "name": "stderr",
     "output_type": "stream",
     "text": [
      "                                                                                \r"
     ]
    }
   ],
   "source": [
    "consumer_agg_daily_df1 = consumer_agg_daily_sdf1.toPandas()"
   ]
  },
  {
   "cell_type": "code",
   "execution_count": 38,
   "metadata": {},
   "outputs": [
    {
     "data": {
      "image/png": "[encoded data removed]",
      "text/plain": [
       "<Figure size 432x288 with 1 Axes>"
      ]
     },
     "metadata": {
      "needs_background": "light"
     },
     "output_type": "display_data"
    }
   ],
   "source": [
    "fig = plt.figure()\n",
    "ax1 = fig.add_subplot(111)\n",
    "\n",
    "ax1.scatter(x=consumer_agg_daily_df1['total_amount'], y=[0]*consumer_agg_daily_df1['total_amount'].count(),label=\"transaction 1\")\n",
    "ax1.scatter(x=consumer_fraud_join_df2[\"total_amount\"],y=consumer_fraud_join_df2[\"fraud_probability\"],label=\"fraud transaction\")\n",
    "plt.legend(loc='upper left')\n",
    "plt.show()\n",
    "\n",
    "# plt.scatter(x=consumer_agg_daily_df1['total_amount'], y=[np.mean(consumer_agg_daily_df1['total_amount'])]*consumer_agg_daily_df1['total_amount'].count())"
   ]
  },
  {
   "cell_type": "code",
   "execution_count": 39,
   "metadata": {},
   "outputs": [
    {
     "data": {
      "image/png": "[encoded data removed]",
      "text/plain": [
       "<Figure size 432x288 with 1 Axes>"
      ]
     },
     "metadata": {
      "needs_background": "light"
     },
     "output_type": "display_data"
    }
   ],
   "source": [
    "fig = plt.figure()\n",
    "ax1 = fig.add_subplot(111)\n",
    "\n",
    "ax1.hist(x=consumer_agg_daily_df1['total_amount'],label=\"transaction 1\")\n",
    "ax1.hist(x=consumer_fraud_join_df2[\"total_amount\"],label=\"fraud transaction\")\n",
    "plt.legend(loc='upper left')\n",
    "plt.show()"
   ]
  },
  {
   "cell_type": "markdown",
   "metadata": {},
   "source": [
    "# Regression on fraud probability"
   ]
  },
  {
   "cell_type": "code",
   "execution_count": 40,
   "metadata": {},
   "outputs": [
    {
     "name": "stdout",
     "output_type": "stream",
     "text": [
      "                            OLS Regression Results                            \n",
      "==============================================================================\n",
      "Dep. Variable:      fraud_probability   R-squared:                       0.818\n",
      "Model:                            OLS   Adj. R-squared:                  0.818\n",
      "Method:                 Least Squares   F-statistic:                 5.208e+04\n",
      "Date:                Thu, 06 Oct 2022   Prob (F-statistic):               0.00\n",
      "Time:                        20:34:52   Log-Likelihood:                -99899.\n",
      "No. Observations:               34864   AIC:                         1.998e+05\n",
      "Df Residuals:                   34860   BIC:                         1.998e+05\n",
      "Df Model:                           3                                         \n",
      "Covariance Type:            nonrobust                                         \n",
      "============================================================================================\n",
      "                               coef    std err          t      P>|t|      [0.025      0.975]\n",
      "--------------------------------------------------------------------------------------------\n",
      "Intercept                    5.9526      0.071     83.517      0.000       5.813       6.092\n",
      "total_amount                 0.0020   1.09e-05    179.650      0.000       0.002       0.002\n",
      "total_order                  0.0046      0.028      0.164      0.870      -0.050       0.059\n",
      "total_amount:total_order  -4.58e-05   4.44e-06    -10.305      0.000   -5.45e-05   -3.71e-05\n",
      "==============================================================================\n",
      "Omnibus:                    15795.972   Durbin-Watson:                   1.295\n",
      "Prob(Omnibus):                  0.000   Jarque-Bera (JB):          1380308.952\n",
      "Skew:                          -1.275   Prob(JB):                         0.00\n",
      "Kurtosis:                      33.720   Cond. No.                     6.09e+04\n",
      "==============================================================================\n",
      "\n",
      "Notes:\n",
      "[1] Standard Errors assume that the covariance matrix of the errors is correctly specified.\n",
      "[2] The condition number is large, 6.09e+04. This might indicate that there are\n",
      "strong multicollinearity or other numerical problems.\n"
     ]
    },
    {
     "name": "stderr",
     "output_type": "stream",
     "text": [
      "/var/folders/vm/4b2l4xh10_71ktbck3tm2plr0000gn/T/ipykernel_93246/3345461682.py:5: FutureWarning: The frame.append method is deprecated and will be removed from pandas in a future version. Use pandas.concat instead.\n",
      "  consumer_fraud_join_df_1_2 = consumer_fraud_join_df1.append(consumer_fraud_join_df2, ignore_index=True)\n"
     ]
    }
   ],
   "source": [
    "from statsmodels.formula.api import ols, glm\n",
    "from pyspark.ml.feature import VectorAssembler\n",
    "from pyspark.ml.regression import LinearRegression\n",
    "\n",
    "consumer_fraud_join_df_1_2 = consumer_fraud_join_df1.append(consumer_fraud_join_df2, ignore_index=True)\n",
    "\n",
    "fit = ols(\n",
    "    formula=\"fraud_probability ~ total_amount + total_order + total_amount/total_order\",\n",
    "    data=consumer_fraud_join_df_1_2\n",
    ").fit()\n",
    "\n",
    "print(fit.summary())"
   ]
  },
  {
   "cell_type": "markdown",
   "metadata": {},
   "source": [
    "total_order is no longer significant, but the interaction term is.\n",
    "the interaction term explains why the scatter plot has a log like shape. \n",
    "When total amount is the same, less avg dollar value meaning less fraud prob\n",
    "\n",
    "### Formula: fraud_probability ~ total_amount + total_amount/total_order"
   ]
  },
  {
   "cell_type": "markdown",
   "metadata": {},
   "source": [
    "## Train model with pyspark model\n",
    " consider scalability we will use pyspark module instead\n",
    "\n",
    "\n",
    "edit: use logistic regression with identity link instead , because our response is 0-1, and the g(response) = response follows a linear trend with our predictors"
   ]
  },
  {
   "cell_type": "code",
   "execution_count": 41,
   "metadata": {},
   "outputs": [],
   "source": [
    "consumer_agg_daily_train = spark.createDataFrame(consumer_fraud_join_df_1_2).withColumn(\n",
    "    \"avg_dollar_value_per_order\",\n",
    "    F.col(\"total_amount\")/F.col(\"total_order\") # interaction feature added\n",
    ")"
   ]
  },
  {
   "cell_type": "code",
   "execution_count": 42,
   "metadata": {},
   "outputs": [
    {
     "data": {
      "text/plain": [
       "([Row(features=DenseVector([6727.7169, 3363.8585])),\n",
       "  Row(features=DenseVector([6143.6003, 3071.8001])),\n",
       "  Row(features=DenseVector([4175.3948, 2087.6974])),\n",
       "  Row(features=DenseVector([21873.3539, 10936.6769])),\n",
       "  Row(features=DenseVector([8453.9698, 2113.4924]))],\n",
       " [Row(fraud_probability=12.35590520479631),\n",
       "  Row(fraud_probability=9.613837691105958),\n",
       "  Row(fraud_probability=8.707459655061616),\n",
       "  Row(fraud_probability=35.081845582853106),\n",
       "  Row(fraud_probability=16.34958640412933)])"
      ]
     },
     "execution_count": 42,
     "metadata": {},
     "output_type": "execute_result"
    }
   ],
   "source": [
    "from pyspark.ml.regression import LinearRegression\n",
    "# from pyspark.ml.regression import GeneralizedLinearRegression\n",
    "from pyspark.ml.feature import VectorAssembler\n",
    "# from pyspark.ml.feature import Interaction\n",
    "# consumer_regression = consumer_agg_daily_all[[]].apply(lambda row:join_prob_p_val(row[0],row[1],row[2],row[3],row[4],row[5]),axis=1)\n",
    "features = 'features'\n",
    "input_cols = ['total_amount','avg_dollar_value_per_order'] \n",
    "# assembler = Interaction()\n",
    "# assembler.setInputCols([\"total_amount\", \"total_order\"])\n",
    "# assembler.setOutputCol(\"interaction\")\n",
    "assembler = VectorAssembler(\n",
    "    # which column to combine\n",
    "    inputCols=input_cols, \n",
    "    # How should the combined columns be named\n",
    "    outputCol=features\n",
    ")\n",
    "\n",
    "model_sdf = assembler.transform(consumer_agg_daily_train.dropna('any'))\n",
    "# Display the features and targets for our model\n",
    "model_sdf.select('features').head(5), model_sdf.select('fraud_probability').head(5)\n",
    "\n"
   ]
  },
  {
   "cell_type": "code",
   "execution_count": 43,
   "metadata": {},
   "outputs": [],
   "source": [
    "lm = LinearRegression(\n",
    "    featuresCol='features', \n",
    "    labelCol='fraud_probability',\n",
    "    maxIter=1000\n",
    ").fit(model_sdf)\n",
    "\n",
    "# glm = GeneralizedLinearRegression(\n",
    "#     family=\"binomial\", \n",
    "#     link=\"identity\",\n",
    "#     predictionCol='prediction',\n",
    "#     labelCol='fraud_probability',\n",
    "# ).fit(model_sdf)\n"
   ]
  },
  {
   "cell_type": "code",
   "execution_count": 44,
   "metadata": {},
   "outputs": [
    {
     "name": "stdout",
     "output_type": "stream",
     "text": [
      "[0.0016218241615437194,0.00041564163640096026]\n",
      "5.956216426350265\n"
     ]
    }
   ],
   "source": [
    "# print(lm.coefficients)\n",
    "# print(lm.intercept)\n",
    "# coefficient is different, investigate"
   ]
  },
  {
   "cell_type": "code",
   "execution_count": null,
   "metadata": {},
   "outputs": [],
   "source": [
    "# save model\n",
    "\n",
    "model_path = \"../models\" + \"/lr_model\"\n",
    "lm.save(model_path)\n"
   ]
  },
  {
   "cell_type": "markdown",
   "metadata": {},
   "source": [
    "## apply the pyspark model to all data"
   ]
  },
  {
   "cell_type": "code",
   "execution_count": 46,
   "metadata": {},
   "outputs": [],
   "source": [
    "consumer_agg_daily_all = transaction.groupBy([\"user_id\",\"order_datetime\"]).agg(\n",
    "    F.sum(F.col('dollar_value')).alias('total_amount'),\n",
    "    F.countDistinct(F.col('order_id')).alias(\"total_order\")\n",
    ").withColumn(\n",
    "    \"avg_dollar_value_per_order\",\n",
    "    F.col(\"total_amount\")/F.col(\"total_order\") # interaction feature added\n",
    ")\n",
    "#consumer_agg_daily_all.count() # 9 mil data\n"
   ]
  },
  {
   "cell_type": "code",
   "execution_count": 47,
   "metadata": {},
   "outputs": [
    {
     "name": "stderr",
     "output_type": "stream",
     "text": [
      "                                                                                \r"
     ]
    },
    {
     "data": {
      "text/plain": [
       "Row(features=DenseVector([8.7082, 8.7082]), prediction=5.973959006808364)"
      ]
     },
     "execution_count": 47,
     "metadata": {},
     "output_type": "execute_result"
    }
   ],
   "source": [
    "from pyspark.ml.regression import LinearRegressionModel\n",
    "from pyspark.ml.feature import VectorAssembler\n",
    "model_path = \"../models\" + \"/lr_model\"\n",
    "lm = LinearRegressionModel.load(model_path)\n",
    "features = 'features'\n",
    "input_cols = ['total_amount','avg_dollar_value_per_order'] \n",
    "# assembler = Interaction()\n",
    "# assembler.setInputCols([\"total_amount\", \"total_order\"])\n",
    "# assembler.setOutputCol(\"interaction\")\n",
    "assembler = VectorAssembler(\n",
    "    # which column to combine\n",
    "    inputCols=input_cols, \n",
    "    # How should the combined columns be named\n",
    "    outputCol=features\n",
    ")\n",
    "\n",
    "predict_sdf = assembler.transform(consumer_agg_daily_all).select(features)\n",
    "result_sdf = lm.transform(predict_sdf)\n"
   ]
  },
  {
   "cell_type": "code",
   "execution_count": 48,
   "metadata": {},
   "outputs": [
    {
     "name": "stderr",
     "output_type": "stream",
     "text": [
      "                                                                                \r"
     ]
    }
   ],
   "source": [
    "from pyspark.sql.types import StructType, StructField, LongType\n",
    "\n",
    "def with_column_index(sdf): \n",
    "    new_schema = StructType(sdf.schema.fields + [StructField(\"ColumnIndex\", LongType(), False),])\n",
    "    return sdf.rdd.zipWithIndex().map(lambda row: row[0] + (row[1],)).toDF(schema=new_schema)\n",
    "\n",
    "df1_ci = with_column_index(consumer_agg_daily_all)\n",
    "df2_ci = with_column_index(result_sdf)\n",
    "\n",
    "\n",
    "user_datetime_predict_sdf = df1_ci.join(df2_ci, df1_ci.ColumnIndex == df2_ci.ColumnIndex, 'inner').drop(\"ColumnIndex\")\n",
    "\n",
    "\n",
    "#user_datetime_predict_sdf = consumer_agg_daily_all.join(result_sdf.select([\"prediction\",\"columnindex\"]),on=\"columnindex\")\n",
    "user_datetime_predict_sdf= user_datetime_predict_sdf.withColumnRenamed(\n",
    "    \"prediction\",\n",
    "    \"fraud_prob\"\n",
    ")"
   ]
  },
  {
   "cell_type": "markdown",
   "metadata": {},
   "source": [
    "## "
   ]
  },
  {
   "cell_type": "markdown",
   "metadata": {},
   "source": [
    "## calculate the discounted revenue"
   ]
  },
  {
   "cell_type": "code",
   "execution_count": 49,
   "metadata": {},
   "outputs": [],
   "source": [
    "from pyspark.sql.functions import udf, array\n",
    "from pyspark.sql.types import FloatType\n",
    "THRESHHOLD = lm.intercept\n",
    "\n",
    "def calculate_discounted_revenue(rate):\n",
    "    if rate < THRESHHOLD:\n",
    "        return 1\n",
    "    elif rate > 100:\n",
    "        return 0\n",
    "    else: \n",
    "        return 1-(rate*0.01)\n",
    "       \n",
    "# sdf = sdf.withColumn(\n",
    "#     'transformed_col',\n",
    "#     some_udf(F.col('raw_col'))\n",
    "# )\n",
    "convert_rate = udf(lambda z: calculate_discounted_revenue(z),FloatType())"
   ]
  },
  {
   "cell_type": "code",
   "execution_count": 57,
   "metadata": {},
   "outputs": [
    {
     "name": "stderr",
     "output_type": "stream",
     "text": [
      "                                                                                \r"
     ]
    }
   ],
   "source": [
    "# run slice by slice\n",
    "transaction_slices = [transaction_sdf1,transaction_sdf2,transaction_sdf3]\n",
    "\n",
    "for i in range(3):\n",
    "    merchant_user_agg_sdf = transaction_slices[i].groupBy([\"merchant_abn\",\"order_datetime\",\"user_id\"]).agg(\n",
    "        F.countDistinct(F.col(\"order_id\")).alias(\"no_order\"),\n",
    "        F.sum(F.col(\"dollar_value\")).alias(\"dollar_amount\")\n",
    "    )\n",
    "\n",
    "\n",
    "\n",
    "    user_discounted_spending_sdf = merchant_user_agg_sdf \\\n",
    "        .join(user_datetime_predict_sdf.select([\"user_id\",\"order_datetime\",\"fraud_prob\"]),on=[\"user_id\",\"order_datetime\"]) \\\n",
    "        .withColumn(\n",
    "            \"convert_rate\",\n",
    "            convert_rate(F.col(\"fraud_prob\"))\n",
    "        ).withColumn(\n",
    "            \"discounted_spending\",\n",
    "            F.col(\"convert_rate\") * F.col(\"dollar_amount\")\n",
    "        )\n",
    "\n",
    "    merchant_discounted_daily_revenue = user_discounted_spending_sdf.groupBy([\"merchant_abn\",\"order_datetime\"]).agg(\n",
    "        F.sum(F.col(\"discounted_spending\")).alias(\"discounted_daily_revenue\")\n",
    "    )\n",
    "\n",
    "    merchant_discounted_daily_revenue.write.mode('overwrite').parquet(f'../data/curated/merchant_discounted_daily_revenue_slice_{i}.parquet')\n"
   ]
  },
  {
   "cell_type": "markdown",
   "metadata": {},
   "source": [
    "### debug (dont need to put into the script)"
   ]
  },
  {
   "cell_type": "code",
   "execution_count": 59,
   "metadata": {},
   "outputs": [],
   "source": [
    "test = merchant_discounted_daily_revenue.where(\n",
    "    F.col(\"discounted_daily_revenue\")<0\n",
    ")\n",
    "############\n",
    "# merchant_user_agg_sdf =transaction_sdf1.groupBy([\"merchant_abn\",\"order_datetime\",\"user_id\"]).agg(\n",
    "#     F.countDistinct(F.col(\"order_id\")).alias(\"no_order\"),\n",
    "#     F.sum(F.col(\"dollar_value\")).alias(\"dollar_amount\")\n",
    "# )\n",
    "\n",
    "\n",
    "\n",
    "# test = merchant_user_agg_sdf \\\n",
    "#     .join(user_datetime_predict_sdf.select([\"user_id\",\"order_datetime\",\"fraud_prob\"]),on=[\"user_id\",\"order_datetime\"]) \\\n",
    "#     .withColumn(\n",
    "#         \"convert_rate\",\n",
    "#         convert_rate(F.col(\"fraud_prob\"))\n",
    "#     )\n",
    "\n",
    "# test_filter = test.where(\n",
    "#     F.col(\"convert_rate\") < 0\n",
    "# )"
   ]
  },
  {
   "cell_type": "code",
   "execution_count": 60,
   "metadata": {},
   "outputs": [
    {
     "name": "stderr",
     "output_type": "stream",
     "text": [
      "                                                                                \r"
     ]
    },
    {
     "data": {
      "text/plain": [
       "0"
      ]
     },
     "execution_count": 60,
     "metadata": {},
     "output_type": "execute_result"
    }
   ],
   "source": [
    "test.count()"
   ]
  },
  {
   "cell_type": "code",
   "execution_count": 63,
   "metadata": {},
   "outputs": [
    {
     "name": "stderr",
     "output_type": "stream",
     "text": [
      "                                                                                \r"
     ]
    },
    {
     "data": {
      "text/plain": [
       "[Row(user_id=2, order_datetime=datetime.date(2022, 3, 12), merchant_abn=51016899219, no_order=1, dollar_amount=25.92488559459871, fraud_prob=6.09613567658092, convert_rate=0.9390386343002319, discounted_spending=24.344469163141728),\n",
       " Row(user_id=2, order_datetime=datetime.date(2022, 3, 12), merchant_abn=28935822912, no_order=1, dollar_amount=50.54855694736198, fraud_prob=6.09613567658092, convert_rate=0.9390386343002319, discounted_spending=47.46704788169829),\n",
       " Row(user_id=2, order_datetime=datetime.date(2022, 8, 18), merchant_abn=86578477987, no_order=1, dollar_amount=98.08014557588547, fraud_prob=6.1560513684185665, convert_rate=0.9384394884109497, discounted_spending=92.04228163750543),\n",
       " Row(user_id=4, order_datetime=datetime.date(2022, 5, 11), merchant_abn=91720867026, no_order=1, dollar_amount=36.51854801361019, fraud_prob=6.082253951436002, convert_rate=0.9391774535179138, discounted_spending=34.29739692959409),\n",
       " Row(user_id=4, order_datetime=datetime.date(2022, 5, 11), merchant_abn=64203420245, no_order=1, dollar_amount=32.367780471469814, fraud_prob=6.082253951436002, convert_rate=0.9391774535179138, discounted_spending=30.39908963922188)]"
      ]
     },
     "execution_count": 63,
     "metadata": {},
     "output_type": "execute_result"
    }
   ],
   "source": [
    "user_discounted_spending_sdf.head(5)"
   ]
  },
  {
   "cell_type": "code",
   "execution_count": 56,
   "metadata": {},
   "outputs": [
    {
     "name": "stderr",
     "output_type": "stream",
     "text": [
      "                                                                                \r"
     ]
    },
    {
     "data": {
      "text/plain": [
       "0"
      ]
     },
     "execution_count": 56,
     "metadata": {},
     "output_type": "execute_result"
    }
   ],
   "source": [
    "#test_filter.count() # 0"
   ]
  },
  {
   "cell_type": "code",
   "execution_count": 50,
   "metadata": {},
   "outputs": [
    {
     "ename": "NameError",
     "evalue": "name 'merchant_user_agg_sdf' is not defined",
     "output_type": "error",
     "traceback": [
      "\u001b[0;31m---------------------------------------------------------------------------\u001b[0m",
      "\u001b[0;31mNameError\u001b[0m                                 Traceback (most recent call last)",
      "\u001b[0;32m/var/folders/vm/4b2l4xh10_71ktbck3tm2plr0000gn/T/ipykernel_93246/2769375694.py\u001b[0m in \u001b[0;36m<module>\u001b[0;34m\u001b[0m\n\u001b[1;32m      1\u001b[0m \u001b[0;31m#user_datetime_predict_sdf.head()\u001b[0m\u001b[0;34m\u001b[0m\u001b[0;34m\u001b[0m\u001b[0m\n\u001b[0;32m----> 2\u001b[0;31m \u001b[0muser_discounted_spending_sdf\u001b[0m \u001b[0;34m=\u001b[0m \u001b[0mmerchant_user_agg_sdf\u001b[0m\u001b[0;31m \u001b[0m\u001b[0;31m\\\u001b[0m\u001b[0;34m\u001b[0m\u001b[0;34m\u001b[0m\u001b[0m\n\u001b[0m\u001b[1;32m      3\u001b[0m         \u001b[0;34m.\u001b[0m\u001b[0mjoin\u001b[0m\u001b[0;34m(\u001b[0m\u001b[0muser_datetime_predict_sdf\u001b[0m\u001b[0;34m.\u001b[0m\u001b[0mselect\u001b[0m\u001b[0;34m(\u001b[0m\u001b[0;34m[\u001b[0m\u001b[0;34m\"user_id\"\u001b[0m\u001b[0;34m,\u001b[0m\u001b[0;34m\"order_datetime\"\u001b[0m\u001b[0;34m,\u001b[0m\u001b[0;34m\"fraud_prob\"\u001b[0m\u001b[0;34m]\u001b[0m\u001b[0;34m)\u001b[0m\u001b[0;34m,\u001b[0m\u001b[0mon\u001b[0m\u001b[0;34m=\u001b[0m\u001b[0;34m[\u001b[0m\u001b[0;34m\"user_id\"\u001b[0m\u001b[0;34m,\u001b[0m\u001b[0;34m\"order_datetime\"\u001b[0m\u001b[0;34m]\u001b[0m\u001b[0;34m)\u001b[0m\u001b[0;31m \u001b[0m\u001b[0;31m\\\u001b[0m\u001b[0;34m\u001b[0m\u001b[0;34m\u001b[0m\u001b[0m\n\u001b[1;32m      4\u001b[0m         .withColumn(\n\u001b[1;32m      5\u001b[0m             \u001b[0;34m\"convert_rate\"\u001b[0m\u001b[0;34m,\u001b[0m\u001b[0;34m\u001b[0m\u001b[0;34m\u001b[0m\u001b[0m\n",
      "\u001b[0;31mNameError\u001b[0m: name 'merchant_user_agg_sdf' is not defined"
     ]
    }
   ],
   "source": [
    "#user_datetime_predict_sdf.head()\n",
    "user_discounted_spending_sdf = merchant_user_agg_sdf \\\n",
    "        .join(user_datetime_predict_sdf.select([\"user_id\",\"order_datetime\",\"fraud_prob\"]),on=[\"user_id\",\"order_datetime\"]) \\\n",
    "        .withColumn(\n",
    "            \"convert_rate\",\n",
    "            convert_rate(F.col(\"fraud_prob\"))\n",
    "        )"
   ]
  },
  {
   "cell_type": "code",
   "execution_count": null,
   "metadata": {},
   "outputs": [],
   "source": [
    "test = user_discounted_spending_sdf.where(\n",
    "    F.col(\"convert_rate\") < 0\n",
    ")"
   ]
  },
  {
   "cell_type": "code",
   "execution_count": null,
   "metadata": {},
   "outputs": [],
   "source": [
    "test.head()"
   ]
  },
  {
   "cell_type": "code",
   "execution_count": null,
   "metadata": {},
   "outputs": [],
   "source": [
    "merchant_discounted_daily_revenue = user_discounted_spending_sdf.groupBy([\"merchant_abn\",\"order_datetime\"]).agg(\n",
    "    F.sum(F.col(\"discounted_spending\")).alias(\"discounted_daily_revenue\")\n",
    ")"
   ]
  },
  {
   "cell_type": "code",
   "execution_count": null,
   "metadata": {},
   "outputs": [],
   "source": [
    "merchant_discounted_daily_revenue.printSchema()"
   ]
  },
  {
   "cell_type": "code",
   "execution_count": null,
   "metadata": {},
   "outputs": [],
   "source": [
    "merchant_discounted_daily_revenue.head()"
   ]
  },
  {
   "cell_type": "code",
   "execution_count": null,
   "metadata": {},
   "outputs": [],
   "source": [
    "#merchant_discounted_daily_revenue.head() # cant run"
   ]
  },
  {
   "cell_type": "code",
   "execution_count": null,
   "metadata": {},
   "outputs": [],
   "source": [
    "# from pyspark.sql import functions as F\n",
    "# slice0 = spark.read.parquet(\"../data/curated/merchant_discounted_daily_revenue_slice_0.parquet\")\n",
    "# slice1 = spark.read.parquet(\"../data/curated/merchant_discounted_daily_revenue_slice_1.parquet\")\n",
    "# slice3 = spark.read.parquet(\"../data/curated/merchant_discounted_daily_revenue_slice_2.parquet\")\n",
    "\n",
    "# combine_slices = slice0.union(slice1).union(slice3)\n",
    "\n",
    "# test = combine_slices.where(\n",
    "#     F.col(\"discounted_daily_revenue\") < 0\n",
    "# ).count()\n",
    "\n",
    "# test"
   ]
  },
  {
   "cell_type": "markdown",
   "metadata": {},
   "source": [
    "### Remove Fraud data from the transaction set(don't put it into script)\n",
    "since fraud data is only a small subset of the data, consider remove all transaction entries with fraud probability\n"
   ]
  },
  {
   "cell_type": "code",
   "execution_count": null,
   "metadata": {},
   "outputs": [],
   "source": [
    "# convert merchant fraud, consumer fraud to spark df\n",
    "merchant_fraud_df = pd.read_csv(\"../data/tables/merchant_fraud_probability.csv\")\n",
    "merchant_fraud_df.to_parquet(\"../data/temp/merchant_fraud\")\n",
    "merchant_fraud_sdf = spark.read.parquet(\"../data/temp/merchant_fraud\")\n",
    "\n",
    "consumer_fraud_df = pd.read_csv(\"../data/tables/consumer_fraud_probability.csv\")\n",
    "consumer_fraud_df.to_parquet(\"../data/temp/consumer_fraud\")\n",
    "consumer_fraud_sdf = spark.read.parquet(\"../data/temp/consumer_fraud\")"
   ]
  },
  {
   "cell_type": "code",
   "execution_count": null,
   "metadata": {},
   "outputs": [],
   "source": [
    "# save all transaction data to a spark dataframe: transaction\n",
    "transaction_sdf1 = spark.read.parquet(\"../data/tables/transactions_20210228_20210827_snapshot\")\n",
    "transaction_sdf2 = spark.read.parquet(\"../data/tables/transactions_20210828_20220227_snapshot\")\n",
    "transaction_sdf3 = spark.read.parquet(\"../data/tables/transactions_20220228_20220828_snapshot\")\n",
    "transaction = transaction_sdf1.union(transaction_sdf2).union(transaction_sdf3)"
   ]
  },
  {
   "cell_type": "code",
   "execution_count": null,
   "metadata": {},
   "outputs": [],
   "source": [
    "# find all transaction on merchant fraud day\n",
    "merchant_fraud_sdf = spark.read.parquet(\"../data/temp/merchant_fraud\")\n",
    "merchant_transaction_on_fraud_day = transaction.join(merchant_fraud_sdf.select([\"merchant_abn\",\"order_datetime\"]), on=[\"merchant_abn\",\"order_datetime\"])"
   ]
  },
  {
   "cell_type": "code",
   "execution_count": null,
   "metadata": {},
   "outputs": [],
   "source": [
    "transaction.printSchema()"
   ]
  },
  {
   "cell_type": "code",
   "execution_count": null,
   "metadata": {},
   "outputs": [],
   "source": [
    "merchant_transaction_on_fraud_day.printSchema()"
   ]
  },
  {
   "cell_type": "code",
   "execution_count": null,
   "metadata": {},
   "outputs": [],
   "source": [
    "# find all transaction on consumer fraud day\n",
    "consumer_fraud_sdf = spark.read.parquet(\"../data/temp/consumer_fraud\")\n",
    "consumer_transaction_on_fraud_day = transaction.join(consumer_fraud_sdf.select([\"user_id\",\"order_datetime\"]), on=[\"user_id\",\"order_datetime\"])"
   ]
  },
  {
   "cell_type": "code",
   "execution_count": null,
   "metadata": {},
   "outputs": [],
   "source": [
    "# filter fraud transactions\n",
    "\n",
    "order = [\"user_id\",\"merchant_abn\",\"dollar_value\",\"order_id\",\"order_datetime\"]\n",
    "transaction_fraud_rm = transaction.subtract(merchant_transaction_on_fraud_day.select(order)).subtract(consumer_transaction_on_fraud_day.select(order))"
   ]
  },
  {
   "cell_type": "markdown",
   "metadata": {},
   "source": [
    "transaction_fraud_rm can be used for further analysis"
   ]
  },
  {
   "cell_type": "markdown",
   "metadata": {},
   "source": [
    "### Derive fraud rate and other features\n",
    "\n",
    "#### Definition:\n",
    "\n",
    "Merchant Fraud rate: weighted fraud orders / total orders\n",
    "Fraud \n"
   ]
  }
 ],
 "metadata": {
  "interpreter": {
   "hash": "6a51a4850383970a9d31be9f5e2bfc463bf284d7bc14ecdb113d3b740d850690"
  },
  "kernelspec": {
   "display_name": "Python 3.9.7 ('ML')",
   "language": "python",
   "name": "python3"
  },
  "language_info": {
   "codemirror_mode": {
    "name": "ipython",
    "version": 3
   },
   "file_extension": ".py",
   "mimetype": "text/x-python",
   "name": "python",
   "nbconvert_exporter": "python",
   "pygments_lexer": "ipython3",
   "version": "3.9.7"
  },
  "orig_nbformat": 4
 },
 "nbformat": 4,
 "nbformat_minor": 2
}
