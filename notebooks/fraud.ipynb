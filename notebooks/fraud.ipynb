{
 "cells": [
  {
   "cell_type": "code",
   "execution_count": 9,
   "metadata": {},
   "outputs": [],
   "source": [
    "import pandas as pd\n",
    "import numpy as np\n",
    "import os\n",
    "import re\n",
    "\n",
    "# # Set working directory\n",
    "# if not \"/data/tables\" in os.getcwd():\n",
    "#     os.chdir(\"../data/tables\")\n",
    "\n",
    "from pyspark.sql import SparkSession\n",
    "from pyspark.shell import spark\n",
    "from pyspark.sql import SQLContext\n",
    "from pyspark.sql.functions import *\n",
    "import matplotlib.pyplot as plt\n",
    "\n",
    "spark = (\n",
    "    SparkSession.builder.appName(\"MAST30034 Project 2\")\n",
    "    .config(\"spark.sql.repl.eagerEval.enabled\", True) \n",
    "    .config(\"spark.sql.parquet.cacheMetadata\", \"true\")\n",
    "    .config(\"spark.sql.session.timeZone\", \"Etc/UTC\")\n",
    "    .config(\"spark.driver.memory\", \"4g\")\n",
    "    .getOrCreate()\n",
    ")"
   ]
  },
  {
   "cell_type": "code",
   "execution_count": 10,
   "metadata": {},
   "outputs": [],
   "source": [
    "sdf = spark.read.parquet(\"../data/tables/transactions_20220228_20220828_snapshot\")"
   ]
  },
  {
   "cell_type": "code",
   "execution_count": 11,
   "metadata": {},
   "outputs": [],
   "source": [
    "consumer_fraud_df = pd.read_csv(\"../data/tables/consumer_fraud_probability.csv\")\n",
    "merchant_fraud_df = pd.read_csv(\"../data/tables/merchant_fraud_probability.csv\")"
   ]
  },
  {
   "cell_type": "markdown",
   "metadata": {},
   "source": [
    "## Merchant Fraud\n",
    "Check if there is missing data"
   ]
  },
  {
   "cell_type": "code",
   "execution_count": 12,
   "metadata": {},
   "outputs": [],
   "source": [
    "merchant_sdf = spark.read.parquet(\"../data/tables/tbl_merchants.parquet\")\n",
    "merchant_df = merchant_sdf.toPandas()"
   ]
  },
  {
   "cell_type": "code",
   "execution_count": 13,
   "metadata": {},
   "outputs": [
    {
     "data": {
      "text/plain": [
       "48"
      ]
     },
     "execution_count": 13,
     "metadata": {},
     "output_type": "execute_result"
    }
   ],
   "source": [
    "#merchant_sdf.select(\"merchant_abn\").distinct().count()\n",
    "# 4026 entries distince values of merchant\n",
    "\n",
    "fraud_union = set(merchant_fraud_df[\"merchant_abn\"].unique()) # 61 unique cases\n",
    "all_union = set(merchant_df[\"merchant_abn\"].unique())\n",
    "len(all_union.intersection(fraud_union))\n",
    "\n"
   ]
  },
  {
   "cell_type": "markdown",
   "metadata": {},
   "source": [
    "Only 48/4026 merchants have fraud data\n",
    "13/61 of the fraud data cannot be matched with any merchant abn"
   ]
  },
  {
   "cell_type": "markdown",
   "metadata": {},
   "source": [
    "Try merge the merchant fraud data with transactions on order date + abn ????"
   ]
  },
  {
   "cell_type": "markdown",
   "metadata": {},
   "source": [
    "## Costumer Fraud"
   ]
  },
  {
   "cell_type": "code",
   "execution_count": 14,
   "metadata": {},
   "outputs": [
    {
     "data": {
      "text/html": [
       "<div>\n",
       "<style scoped>\n",
       "    .dataframe tbody tr th:only-of-type {\n",
       "        vertical-align: middle;\n",
       "    }\n",
       "\n",
       "    .dataframe tbody tr th {\n",
       "        vertical-align: top;\n",
       "    }\n",
       "\n",
       "    .dataframe thead th {\n",
       "        text-align: right;\n",
       "    }\n",
       "</style>\n",
       "<table border=\"1\" class=\"dataframe\">\n",
       "  <thead>\n",
       "    <tr style=\"text-align: right;\">\n",
       "      <th></th>\n",
       "      <th>user_id</th>\n",
       "      <th>consumer_id</th>\n",
       "    </tr>\n",
       "  </thead>\n",
       "  <tbody>\n",
       "    <tr>\n",
       "      <th>0</th>\n",
       "      <td>1</td>\n",
       "      <td>1195503</td>\n",
       "    </tr>\n",
       "    <tr>\n",
       "      <th>1</th>\n",
       "      <td>2</td>\n",
       "      <td>179208</td>\n",
       "    </tr>\n",
       "    <tr>\n",
       "      <th>2</th>\n",
       "      <td>3</td>\n",
       "      <td>1194530</td>\n",
       "    </tr>\n",
       "    <tr>\n",
       "      <th>3</th>\n",
       "      <td>4</td>\n",
       "      <td>154128</td>\n",
       "    </tr>\n",
       "    <tr>\n",
       "      <th>4</th>\n",
       "      <td>5</td>\n",
       "      <td>712975</td>\n",
       "    </tr>\n",
       "  </tbody>\n",
       "</table>\n",
       "</div>"
      ],
      "text/plain": [
       "   user_id  consumer_id\n",
       "0        1      1195503\n",
       "1        2       179208\n",
       "2        3      1194530\n",
       "3        4       154128\n",
       "4        5       712975"
      ]
     },
     "execution_count": 14,
     "metadata": {},
     "output_type": "execute_result"
    }
   ],
   "source": [
    "costumer_sdf = spark.read.parquet(\"../data/tables/consumer_user_details.parquet\")\n",
    "costumer_df = costumer_sdf.toPandas()\n",
    "costumer_df.head()"
   ]
  },
  {
   "cell_type": "code",
   "execution_count": 15,
   "metadata": {},
   "outputs": [],
   "source": [
    "# costumer_sdf.distinct().count() # 499999 distinc values"
   ]
  },
  {
   "cell_type": "code",
   "execution_count": 16,
   "metadata": {},
   "outputs": [],
   "source": [
    "from pyspark.sql import functions as F\n",
    "transaction_df1 = spark.read.parquet(\"../data/tables/transactions_20210228_20210827_snapshot\")\n",
    "transaction_df2 = spark.read.parquet(\"../data/tables/transactions_20210828_20220227_snapshot\")\n",
    "transaction_df3 = spark.read.parquet(\"../data/tables/transactions_20220228_20220828_snapshot\")\n",
    "transaction = transaction_df1.union(transaction_df2).union(transaction_df3)\n",
    "\n",
    "transaction = transaction.withColumn('log(dollar_value)',\n",
    "                                     F.log(F.col('dollar_value')))\n",
    "# lwr, upr = transaction.approxQuantile('log(dollar_value)', [0.25, 0.75], 0.001)\n",
    "# iqr = upr - lwr\n",
    "# lwr_bound = lwr - 1.5 * iqr\n",
    "# upr_bound = upr + 1.5 * iqr\n",
    "# lwr_bound, upr_bound = np.exp(lwr_bound), np.exp(upr_bound)\n",
    "\n",
    "# new_transaction = transaction.where(\n",
    "#     (F.col('dollar_value') >= lwr_bound) &\n",
    "#     (F.col('dollar_value') <= upr_bound)\n",
    "# )\n",
    "merchant = spark.read.parquet(\"../data/tables/tbl_merchants.parquet\")\n",
    "merchant_abn = merchant.toPandas()['merchant_abn'].unique().tolist()\n",
    "filtered_transaction = transaction.where(F.col('merchant_abn').isin(merchant_abn))\n",
    "merchant_daily_transaction = filtered_transaction.groupby(['merchant_abn','order_datetime','user_id']).agg(\n",
    "    F.countDistinct(F.col('order_id')).alias('no_order'),\n",
    "    F.sum(F.col('dollar_value')).alias('dollar_amount')\n",
    ") \n"
   ]
  },
  {
   "cell_type": "code",
   "execution_count": 17,
   "metadata": {},
   "outputs": [],
   "source": [
    "#merchant_daily_transaction.count() # 13584371"
   ]
  },
  {
   "cell_type": "code",
   "execution_count": 18,
   "metadata": {},
   "outputs": [
    {
     "name": "stderr",
     "output_type": "stream",
     "text": [
      "                                                                                \r"
     ]
    },
    {
     "data": {
      "text/html": [
       "<table border='1'>\n",
       "<tr><th>max(no_order)</th></tr>\n",
       "<tr><td>3</td></tr>\n",
       "</table>\n"
      ],
      "text/plain": [
       "+-------------+\n",
       "|max(no_order)|\n",
       "+-------------+\n",
       "|            3|\n",
       "+-------------+"
      ]
     },
     "execution_count": 18,
     "metadata": {},
     "output_type": "execute_result"
    }
   ],
   "source": [
    "merchant_daily_transaction.select(max ('no_order'))\n",
    "\n",
    "# MAX order is 3 "
   ]
  },
  {
   "cell_type": "markdown",
   "metadata": {},
   "source": [
    "The granularity level of the analysis is day level."
   ]
  },
  {
   "cell_type": "code",
   "execution_count": 19,
   "metadata": {},
   "outputs": [
    {
     "data": {
      "text/html": [
       "<table border='1'>\n",
       "<tr><th>merchant_abn</th><th>order_datetime</th><th>user_id</th><th>no_order</th><th>dollar_amount</th></tr>\n",
       "<tr><td>35575706403</td><td>2022-02-20</td><td>16556</td><td>1</td><td>50209.505438673325</td></tr>\n",
       "</table>\n"
      ],
      "text/plain": [
       "+------------+--------------+-------+--------+------------------+\n",
       "|merchant_abn|order_datetime|user_id|no_order|     dollar_amount|\n",
       "+------------+--------------+-------+--------+------------------+\n",
       "| 35575706403|    2022-02-20|  16556|       1|50209.505438673325|\n",
       "+------------+--------------+-------+--------+------------------+"
      ]
     },
     "execution_count": 19,
     "metadata": {},
     "output_type": "execute_result"
    }
   ],
   "source": [
    "# entry 5 has high fraud rate, investigate this instance\n",
    "# 82999039227,2021-12-19\n",
    "# 35575706403,2022-02-20 entrie 43 \n",
    "# 97884414539,2021-10-19,89.79919971536573\n",
    "\n",
    "import datetime\n",
    "merchant_daily_transaction.where(\n",
    "   # != 0 is fine, but let's also take into account some more realistic filters\n",
    "   (F.col('merchant_abn') == 35575706403)\n",
    "    & (F.col('order_datetime') == \"2022-02-20\")\n",
    ")\n",
    "\n",
    "# print(35575706403 in merchant_abn)\n"
   ]
  },
  {
   "cell_type": "code",
   "execution_count": 20,
   "metadata": {},
   "outputs": [
    {
     "data": {
      "text/html": [
       "<table border='1'>\n",
       "<tr><th>merchant_abn</th><th>order_datetime</th><th>user_id</th><th>no_order</th><th>dollar_amount</th></tr>\n",
       "<tr><td>19492220327</td><td>2021-11-28</td><td>21706</td><td>1</td><td>1903.7191517251547</td></tr>\n",
       "</table>\n"
      ],
      "text/plain": [
       "+------------+--------------+-------+--------+------------------+\n",
       "|merchant_abn|order_datetime|user_id|no_order|     dollar_amount|\n",
       "+------------+--------------+-------+--------+------------------+\n",
       "| 19492220327|    2021-11-28|  21706|       1|1903.7191517251547|\n",
       "+------------+--------------+-------+--------+------------------+"
      ]
     },
     "execution_count": 20,
     "metadata": {},
     "output_type": "execute_result"
    }
   ],
   "source": [
    "merchant_daily_transaction.where(\n",
    "   # != 0 is fine, but let's also take into account some more realistic filters\n",
    "   (F.col('merchant_abn') == 19492220327)\n",
    "   # & (F.col('order_datetime') == datetime.date(2021, 11, 28)\n",
    "   & (F.col('user_id') == 21706)\n",
    ")"
   ]
  },
  {
   "cell_type": "code",
   "execution_count": 21,
   "metadata": {},
   "outputs": [
    {
     "name": "stderr",
     "output_type": "stream",
     "text": [
      "                                                                                \r"
     ]
    },
    {
     "data": {
      "text/html": [
       "<table border='1'>\n",
       "<tr><th>merchant_abn</th><th>order_datetime</th><th>user_id</th><th>no_order</th><th>dollar_amount</th></tr>\n",
       "<tr><td>27093785141</td><td>2021-08-19</td><td>21706</td><td>1</td><td>297.1060630006161</td></tr>\n",
       "<tr><td>32656335530</td><td>2021-05-15</td><td>21706</td><td>1</td><td>45.95924058414554</td></tr>\n",
       "<tr><td>14639489823</td><td>2022-05-10</td><td>21706</td><td>1</td><td>73.82891944981822</td></tr>\n",
       "<tr><td>79269463423</td><td>2022-06-10</td><td>21706</td><td>1</td><td>192.44624685911833</td></tr>\n",
       "<tr><td>46804135891</td><td>2021-11-12</td><td>21706</td><td>1</td><td>15.1040241409343</td></tr>\n",
       "<tr><td>93561083066</td><td>2021-09-04</td><td>21706</td><td>1</td><td>71.9166019734691</td></tr>\n",
       "<tr><td>86578477987</td><td>2022-06-27</td><td>21706</td><td>1</td><td>25.86363096512127</td></tr>\n",
       "<tr><td>77013874702</td><td>2022-05-03</td><td>21706</td><td>1</td><td>3.684141987613139</td></tr>\n",
       "<tr><td>92207241352</td><td>2021-08-22</td><td>21706</td><td>1</td><td>75.9671958496898</td></tr>\n",
       "<tr><td>63465140133</td><td>2022-08-20</td><td>21706</td><td>1</td><td>8.25922769029275</td></tr>\n",
       "<tr><td>54550134954</td><td>2021-05-15</td><td>21706</td><td>1</td><td>57.36112616050551</td></tr>\n",
       "<tr><td>35223308778</td><td>2022-04-27</td><td>21706</td><td>1</td><td>395.0138930903732</td></tr>\n",
       "<tr><td>89726005175</td><td>2021-10-30</td><td>21706</td><td>1</td><td>43.023842796586116</td></tr>\n",
       "<tr><td>24852446429</td><td>2022-03-13</td><td>21706</td><td>1</td><td>41.351990543737564</td></tr>\n",
       "<tr><td>74046727484</td><td>2021-12-20</td><td>21706</td><td>1</td><td>85.73786802597947</td></tr>\n",
       "<tr><td>77013874702</td><td>2021-06-08</td><td>21706</td><td>1</td><td>18.24439627141508</td></tr>\n",
       "<tr><td>63290521567</td><td>2021-06-29</td><td>21706</td><td>1</td><td>45.20294293448521</td></tr>\n",
       "<tr><td>90578415511</td><td>2022-09-26</td><td>21706</td><td>1</td><td>140.48571917370944</td></tr>\n",
       "<tr><td>48534649627</td><td>2021-10-13</td><td>21706</td><td>1</td><td>152.14570343252728</td></tr>\n",
       "<tr><td>67392173147</td><td>2021-03-20</td><td>21706</td><td>1</td><td>210.99176183319216</td></tr>\n",
       "</table>\n",
       "only showing top 20 rows\n"
      ],
      "text/plain": [
       "+------------+--------------+-------+--------+------------------+\n",
       "|merchant_abn|order_datetime|user_id|no_order|     dollar_amount|\n",
       "+------------+--------------+-------+--------+------------------+\n",
       "| 27093785141|    2021-08-19|  21706|       1| 297.1060630006161|\n",
       "| 32656335530|    2021-05-15|  21706|       1| 45.95924058414554|\n",
       "| 14639489823|    2022-05-10|  21706|       1| 73.82891944981822|\n",
       "| 79269463423|    2022-06-10|  21706|       1|192.44624685911833|\n",
       "| 46804135891|    2021-11-12|  21706|       1|  15.1040241409343|\n",
       "| 93561083066|    2021-09-04|  21706|       1|  71.9166019734691|\n",
       "| 86578477987|    2022-06-27|  21706|       1| 25.86363096512127|\n",
       "| 77013874702|    2022-05-03|  21706|       1| 3.684141987613139|\n",
       "| 92207241352|    2021-08-22|  21706|       1|  75.9671958496898|\n",
       "| 63465140133|    2022-08-20|  21706|       1|  8.25922769029275|\n",
       "| 54550134954|    2021-05-15|  21706|       1| 57.36112616050551|\n",
       "| 35223308778|    2022-04-27|  21706|       1| 395.0138930903732|\n",
       "| 89726005175|    2021-10-30|  21706|       1|43.023842796586116|\n",
       "| 24852446429|    2022-03-13|  21706|       1|41.351990543737564|\n",
       "| 74046727484|    2021-12-20|  21706|       1| 85.73786802597947|\n",
       "| 77013874702|    2021-06-08|  21706|       1| 18.24439627141508|\n",
       "| 63290521567|    2021-06-29|  21706|       1| 45.20294293448521|\n",
       "| 90578415511|    2022-09-26|  21706|       1|140.48571917370944|\n",
       "| 48534649627|    2021-10-13|  21706|       1|152.14570343252728|\n",
       "| 67392173147|    2021-03-20|  21706|       1|210.99176183319216|\n",
       "+------------+--------------+-------+--------+------------------+\n",
       "only showing top 20 rows"
      ]
     },
     "execution_count": 21,
     "metadata": {},
     "output_type": "execute_result"
    }
   ],
   "source": [
    "merchant_daily_transaction.where(\n",
    "   # != 0 is fine, but let's also take into account some more realistic filters\n",
    "#    (F.col('merchant_abn') == 19492220327)\n",
    "   # & (F.col('order_datetime') == datetime.date(2021, 11, 28)\n",
    "    (F.col('user_id') == 21706)\n",
    ")"
   ]
  },
  {
   "cell_type": "code",
   "execution_count": 22,
   "metadata": {},
   "outputs": [
    {
     "name": "stderr",
     "output_type": "stream",
     "text": [
      "                                                                                \r"
     ]
    },
    {
     "name": "stdout",
     "output_type": "stream",
     "text": [
      "0        250.808535\n",
      "1        408.057444\n",
      "2        438.018593\n",
      "3        445.260618\n",
      "4        481.082374\n",
      "           ...     \n",
      "819    34199.004178\n",
      "820    34926.955075\n",
      "821    35535.112447\n",
      "822    38156.497147\n",
      "823    43409.810489\n",
      "Name: dollar_amount, Length: 824, dtype: float64\n"
     ]
    },
    {
     "data": {
      "image/png": "[encoded data removed]",
      "text/plain": [
       "<Figure size 432x288 with 1 Axes>"
      ]
     },
     "metadata": {
      "needs_background": "light"
     },
     "output_type": "display_data"
    }
   ],
   "source": [
    "test_dollar_amout = merchant_daily_transaction.where(\n",
    "   # != 0 is fine, but let's also take into account some more realistic filters\n",
    "   (F.col('merchant_abn') == 19492220327)\n",
    "   # & (F.col('order_datetime') == datetime.date(2021, 11, 28)\n",
    "#    & (F.col('user_id') == 21706)\n",
    ").select(\"dollar_amount\").toPandas()\n",
    "\n",
    "import matplotlib.pyplot as plt\n",
    "\n",
    "\n",
    "\n",
    "sorted = test_dollar_amout.sort_values(by=\"dollar_amount\").reset_index()[\"dollar_amount\"]\n",
    "# plt.plot(sorted)\n",
    "plt.hist(sorted) # mixure model?\n",
    "# print(test_dollar_amout.mean())\n",
    "# print(test_dollar_amout.std())\n",
    "print(sorted)"
   ]
  },
  {
   "cell_type": "markdown",
   "metadata": {},
   "source": [
    "# transaction level fraud detection\n",
    "### idea 1 \n",
    "\n",
    "\n",
    "fit a kmeans model to each merchant using ADK(automatic determination of Kmeans. granularity level is month since sku is unlikely to change too often), find std of each cluster, each cluster is seen as a normal distribution. \n",
    "\n",
    "When new transaction data come, first sort it to one cluster, then use quantile method of normal to determine the probability of it being a fraud.\n",
    "\n",
    "\n",
    "\n",
    "### idea 2\n",
    "\n",
    "Based on bayesian statistic. Fit a distribution (start with poisson) to every merchant. Use quantile method \n"
   ]
  },
  {
   "cell_type": "code",
   "execution_count": 23,
   "metadata": {},
   "outputs": [
    {
     "name": "stderr",
     "output_type": "stream",
     "text": [
      "                                                                                \r"
     ]
    },
    {
     "data": {
      "text/html": [
       "<table border='1'>\n",
       "<tr><th>merchant_abn</th><th>order_datetime</th><th>user_id</th><th>no_order</th><th>dollar_amount</th></tr>\n",
       "<tr><td>81776569986</td><td>2021-03-03</td><td>6228</td><td>1</td><td>1278.315571140402</td></tr>\n",
       "</table>\n"
      ],
      "text/plain": [
       "+------------+--------------+-------+--------+-----------------+\n",
       "|merchant_abn|order_datetime|user_id|no_order|    dollar_amount|\n",
       "+------------+--------------+-------+--------+-----------------+\n",
       "| 81776569986|    2021-03-03|   6228|       1|1278.315571140402|\n",
       "+------------+--------------+-------+--------+-----------------+"
      ]
     },
     "execution_count": 23,
     "metadata": {},
     "output_type": "execute_result"
    }
   ],
   "source": [
    "# user_id,order_datetime,fraud_probability\n",
    "# 6228,2021-12-19,97.6298077657765 investigate this\n",
    "\n",
    "merchant_daily_transaction.where(\n",
    "   # != 0 is fine, but let's also take into account some more realistic filters\n",
    "   (F.col('user_id') == 6228)\n",
    "   # & (F.col('order_datetime') == datetime.date(2021, 11, 28)\n",
    "   # &\n",
    "   # (F.col('order_datetime') == datetime.date(2021, 12, 19))\n",
    " & (F.col('dollar_amount') <= 1279.315571)\n",
    "& (F.col('dollar_amount') >= 1277.315571)\n",
    "\n",
    "#    & (F.col('user_id') == 21706)\n",
    ")"
   ]
  },
  {
   "cell_type": "code",
   "execution_count": 24,
   "metadata": {},
   "outputs": [
    {
     "data": {
      "text/html": [
       "<div>\n",
       "<style scoped>\n",
       "    .dataframe tbody tr th:only-of-type {\n",
       "        vertical-align: middle;\n",
       "    }\n",
       "\n",
       "    .dataframe tbody tr th {\n",
       "        vertical-align: top;\n",
       "    }\n",
       "\n",
       "    .dataframe thead th {\n",
       "        text-align: right;\n",
       "    }\n",
       "</style>\n",
       "<table border=\"1\" class=\"dataframe\">\n",
       "  <thead>\n",
       "    <tr style=\"text-align: right;\">\n",
       "      <th></th>\n",
       "      <th>dollar_amount</th>\n",
       "    </tr>\n",
       "  </thead>\n",
       "  <tbody>\n",
       "    <tr>\n",
       "      <th>0</th>\n",
       "      <td>502.107659</td>\n",
       "    </tr>\n",
       "    <tr>\n",
       "      <th>1</th>\n",
       "      <td>1278.315571</td>\n",
       "    </tr>\n",
       "    <tr>\n",
       "      <th>2</th>\n",
       "      <td>62.893256</td>\n",
       "    </tr>\n",
       "    <tr>\n",
       "      <th>3</th>\n",
       "      <td>230.216561</td>\n",
       "    </tr>\n",
       "    <tr>\n",
       "      <th>4</th>\n",
       "      <td>84.566328</td>\n",
       "    </tr>\n",
       "    <tr>\n",
       "      <th>...</th>\n",
       "      <td>...</td>\n",
       "    </tr>\n",
       "    <tr>\n",
       "      <th>553</th>\n",
       "      <td>74.979890</td>\n",
       "    </tr>\n",
       "    <tr>\n",
       "      <th>554</th>\n",
       "      <td>75.176187</td>\n",
       "    </tr>\n",
       "    <tr>\n",
       "      <th>555</th>\n",
       "      <td>60.498921</td>\n",
       "    </tr>\n",
       "    <tr>\n",
       "      <th>556</th>\n",
       "      <td>75.781941</td>\n",
       "    </tr>\n",
       "    <tr>\n",
       "      <th>557</th>\n",
       "      <td>41.638145</td>\n",
       "    </tr>\n",
       "  </tbody>\n",
       "</table>\n",
       "<p>558 rows × 1 columns</p>\n",
       "</div>"
      ],
      "text/plain": [
       "     dollar_amount\n",
       "0       502.107659\n",
       "1      1278.315571\n",
       "2        62.893256\n",
       "3       230.216561\n",
       "4        84.566328\n",
       "..             ...\n",
       "553      74.979890\n",
       "554      75.176187\n",
       "555      60.498921\n",
       "556      75.781941\n",
       "557      41.638145\n",
       "\n",
       "[558 rows x 1 columns]"
      ]
     },
     "execution_count": 24,
     "metadata": {},
     "output_type": "execute_result"
    },
    {
     "data": {
      "image/png": "[encoded data removed]",
      "text/plain": [
       "<Figure size 432x288 with 1 Axes>"
      ]
     },
     "metadata": {
      "needs_background": "light"
     },
     "output_type": "display_data"
    }
   ],
   "source": [
    "consumer = merchant_daily_transaction.where(\n",
    "   # != 0 is fine, but let's also take into account some more realistic filters\n",
    "   (F.col('user_id') == 6228)\n",
    "  \n",
    "   # & (F.col('order_datetime') == datetime.date(2021, 11, 28)\n",
    "#    &\n",
    "#    (F.col('order_datetime') == datetime.date(2021, 12, 19))\n",
    "#    & (F.col('user_id') == 21706)\n",
    ").select(\"dollar_amount\").toPandas()\n",
    "\n",
    "plt.hist(consumer[\"dollar_amount\"]) \n",
    "consumer"
   ]
  },
  {
   "cell_type": "markdown",
   "metadata": {},
   "source": [
    "# For Sprint (ignore above code section)\n",
    "\n",
    "## Mechant Data"
   ]
  },
  {
   "cell_type": "code",
   "execution_count": 25,
   "metadata": {},
   "outputs": [],
   "source": [
    "# join merchant daily transaction data and merchant fraud\n",
    "merchant_fraud_df.to_parquet(\"../data/temp/merchant_fraud\")\n",
    "\n",
    "merchant_fraud_sdf = spark.read.parquet(\"../data/temp/merchant_fraud\")\n"
   ]
  },
  {
   "cell_type": "code",
   "execution_count": 26,
   "metadata": {},
   "outputs": [
    {
     "name": "stdout",
     "output_type": "stream",
     "text": [
      "root\n",
      " |-- merchant_abn: long (nullable = true)\n",
      " |-- order_datetime: string (nullable = true)\n",
      " |-- fraud_probability: double (nullable = true)\n",
      " |-- user_id: long (nullable = true)\n",
      " |-- no_order: long (nullable = false)\n",
      " |-- dollar_amount: double (nullable = true)\n",
      "\n"
     ]
    }
   ],
   "source": [
    "# join merchant daily transaction data and merchant fraud\n",
    "#join_df = merchant_fraud_sdf.join(merchant_daily_transaction, on=[\"merchant_abn\",\"order_datetime\"])\n",
    "# join_df.count() #3981\n",
    "\n",
    "join_df = merchant_fraud_sdf.join(merchant_daily_transaction, on=[\"merchant_abn\",\"order_datetime\"]).distinct()\n",
    "# join_df.select(\"merchant_abn\").distinct().count() #48\n",
    "join_df.printSchema()\n"
   ]
  },
  {
   "cell_type": "code",
   "execution_count": 27,
   "metadata": {},
   "outputs": [],
   "source": [
    "#join_df.count()"
   ]
  },
  {
   "cell_type": "code",
   "execution_count": 28,
   "metadata": {},
   "outputs": [
    {
     "name": "stderr",
     "output_type": "stream",
     "text": [
      "                                                                                \r"
     ]
    },
    {
     "data": {
      "text/plain": [
       "95"
      ]
     },
     "execution_count": 28,
     "metadata": {},
     "output_type": "execute_result"
    }
   ],
   "source": [
    "# join dataframe only contains merchant transaction contained in merchant_fraud data\n",
    "agg_sdf = join_df.groupBy(['merchant_abn','order_datetime']).agg(\n",
    "     F.countDistinct(F.col('user_id')).alias('no_customer'),\n",
    "     F.sum(F.col(\"no_order\")).alias(\"total_order\"),\n",
    "     F.avg(F.col(\"dollar_amount\")).alias(\"avg_dollar_amount\"), # changed to avg for independence\n",
    "     F.mean(F.col(\"fraud_probability\")).alias(\"fraud_prob\")\n",
    ")\n",
    "\n",
    "agg_sdf.count() # 95\n",
    "\n",
    "\n",
    "#total_dollar_amount"
   ]
  },
  {
   "cell_type": "code",
   "execution_count": 29,
   "metadata": {},
   "outputs": [
    {
     "name": "stdout",
     "output_type": "stream",
     "text": [
      "root\n",
      " |-- merchant_abn: long (nullable = true)\n",
      " |-- order_datetime: string (nullable = true)\n",
      " |-- no_customer: long (nullable = false)\n",
      " |-- total_order: long (nullable = true)\n",
      " |-- avg_dollar_amount: double (nullable = true)\n",
      " |-- fraud_prob: double (nullable = true)\n",
      "\n"
     ]
    }
   ],
   "source": [
    "agg_sdf.printSchema()"
   ]
  },
  {
   "cell_type": "code",
   "execution_count": 30,
   "metadata": {},
   "outputs": [
    {
     "name": "stderr",
     "output_type": "stream",
     "text": [
      "                                                                                \r"
     ]
    },
    {
     "data": {
      "text/plain": [
       "(array([ 7., 43., 17.,  5.,  3.,  3., 12.,  2.,  1.,  2.]),\n",
       " array([18.21089143, 25.49940913, 32.78792684, 40.07644454, 47.36496225,\n",
       "        54.65347995, 61.94199765, 69.23051536, 76.51903306, 83.80755077,\n",
       "        91.09606847]),\n",
       " <BarContainer object of 10 artists>)"
      ]
     },
     "execution_count": 30,
     "metadata": {},
     "output_type": "execute_result"
    },
    {
     "data": {
      "image/png": "[encoded data removed]",
      "text/plain": [
       "<Figure size 432x288 with 1 Axes>"
      ]
     },
     "metadata": {
      "needs_background": "light"
     },
     "output_type": "display_data"
    }
   ],
   "source": [
    "# histogram of fraud distribution\n",
    "agg_df = agg_sdf.toPandas()\n",
    "\n",
    "plt.hist(agg_df[\"fraud_prob\"])"
   ]
  },
  {
   "cell_type": "markdown",
   "metadata": {},
   "source": [
    "## test normal on the most major merchant"
   ]
  },
  {
   "cell_type": "code",
   "execution_count": 89,
   "metadata": {},
   "outputs": [
    {
     "name": "stderr",
     "output_type": "stream",
     "text": [
      "                                                                                \r"
     ]
    }
   ],
   "source": [
    "# find most major merchant\n",
    "\n",
    "test_transaction = filtered_transaction.groupby(['merchant_abn','order_datetime']).agg(\n",
    "    F.countDistinct(F.col('user_id')).alias('no_customer'),\n",
    "    F.countDistinct(F.col(\"order_id\")).alias(\"total_order\"),\n",
    "    F.avg(F.col(\"dollar_value\")).alias(\"avg_dollar_value\"), # changed to average per order for independence\n",
    ") \n",
    "\n",
    "\n",
    "max = test_transaction.groupby(\"merchant_abn\").agg(\n",
    "    F.sum(F.col(\"total_order\")).alias(\"total_all_time_order\") \n",
    ").agg(\n",
    "    F.max(F.col(\"total_all_time_order\")).alias(\"max\")\n",
    ").collect()[0][\"max\"]\n",
    "\n",
    "\n",
    "max_abn = test_transaction.groupby(\"merchant_abn\").agg(\n",
    "    F.sum(F.col(\"total_order\")).alias(\"total_all_time_order\") \n",
    ").where(\n",
    "    F.col(\"total_all_time_order\") ==  max\n",
    ").collect()[0][\"merchant_abn\"]"
   ]
  },
  {
   "cell_type": "code",
   "execution_count": 96,
   "metadata": {},
   "outputs": [],
   "source": [
    "# test 2nd and 3rd as well\n",
    "order_abn = test_transaction.groupby(\"merchant_abn\").agg(\n",
    "    F.sum(F.col(\"total_order\")).alias(\"total_all_time_order\") \n",
    ").orderBy(\n",
    "    F.col(\"total_all_time_order\"),\n",
    "    ascending=False\n",
    ")"
   ]
  },
  {
   "cell_type": "code",
   "execution_count": 97,
   "metadata": {},
   "outputs": [
    {
     "name": "stderr",
     "output_type": "stream",
     "text": [
      "                                                                                \r"
     ]
    },
    {
     "data": {
      "text/plain": [
       "[Row(merchant_abn=24852446429, total_all_time_order=289513),\n",
       " Row(merchant_abn=86578477987, total_all_time_order=272674),\n",
       " Row(merchant_abn=64203420245, total_all_time_order=260780)]"
      ]
     },
     "execution_count": 97,
     "metadata": {},
     "output_type": "execute_result"
    }
   ],
   "source": [
    "order_abn.head(3)"
   ]
  },
  {
   "cell_type": "code",
   "execution_count": 92,
   "metadata": {},
   "outputs": [
    {
     "name": "stderr",
     "output_type": "stream",
     "text": [
      "                                                                                \r"
     ]
    }
   ],
   "source": [
    "max_abn_agg = test_transaction.where(\n",
    "    F.col(\"merchant_abn\") == max_abn\n",
    ").toPandas()\n",
    "\n",
    "snd_abn_agg = test_transaction.where(\n",
    "    F.col(\"merchant_abn\") == 86578477987\n",
    ").toPandas()\n",
    "\n",
    "trd_abn_agg = test_transaction.where(\n",
    "    F.col(\"merchant_abn\") == 64203420245\n",
    ").toPandas()"
   ]
  },
  {
   "cell_type": "code",
   "execution_count": 94,
   "metadata": {},
   "outputs": [
    {
     "data": {
      "text/plain": [
       "24852446429"
      ]
     },
     "execution_count": 94,
     "metadata": {},
     "output_type": "execute_result"
    }
   ],
   "source": [
    "max_abn"
   ]
  },
  {
   "cell_type": "code",
   "execution_count": 93,
   "metadata": {},
   "outputs": [
    {
     "data": {
      "text/plain": [
       "(array([  1.,   1.,  12.,  41.,  94., 146., 165.,  96.,  36.,  14.]),\n",
       " array([26.00845407, 26.6825839 , 27.35671373, 28.03084356, 28.70497339,\n",
       "        29.37910322, 30.05323305, 30.72736288, 31.40149271, 32.07562254,\n",
       "        32.74975237]),\n",
       " <BarContainer object of 10 artists>)"
      ]
     },
     "execution_count": 93,
     "metadata": {},
     "output_type": "execute_result"
    },
    {
     "data": {
      "image/png": "[encoded data removed]",
      "text/plain": [
       "<Figure size 432x288 with 1 Axes>"
      ]
     },
     "metadata": {
      "needs_background": "light"
     },
     "output_type": "display_data"
    }
   ],
   "source": [
    "plt.hist(max_abn_agg[\"avg_dollar_value\"])"
   ]
  },
  {
   "cell_type": "code",
   "execution_count": 88,
   "metadata": {},
   "outputs": [
    {
     "data": {
      "text/html": [
       "<div>\n",
       "<style scoped>\n",
       "    .dataframe tbody tr th:only-of-type {\n",
       "        vertical-align: middle;\n",
       "    }\n",
       "\n",
       "    .dataframe tbody tr th {\n",
       "        vertical-align: top;\n",
       "    }\n",
       "\n",
       "    .dataframe thead th {\n",
       "        text-align: right;\n",
       "    }\n",
       "</style>\n",
       "<table border=\"1\" class=\"dataframe\">\n",
       "  <thead>\n",
       "    <tr style=\"text-align: right;\">\n",
       "      <th></th>\n",
       "      <th>merchant_abn</th>\n",
       "      <th>order_datetime</th>\n",
       "      <th>no_customer</th>\n",
       "      <th>total_order</th>\n",
       "      <th>avg_dollar_amount</th>\n",
       "      <th>fraud_prob</th>\n",
       "    </tr>\n",
       "  </thead>\n",
       "  <tbody>\n",
       "    <tr>\n",
       "      <th>0</th>\n",
       "      <td>48534649627</td>\n",
       "      <td>2021-11-26</td>\n",
       "      <td>282</td>\n",
       "      <td>283</td>\n",
       "      <td>153.301320</td>\n",
       "      <td>29.005907</td>\n",
       "    </tr>\n",
       "    <tr>\n",
       "      <th>1</th>\n",
       "      <td>48534649627</td>\n",
       "      <td>2021-11-29</td>\n",
       "      <td>257</td>\n",
       "      <td>260</td>\n",
       "      <td>162.887116</td>\n",
       "      <td>28.360522</td>\n",
       "    </tr>\n",
       "    <tr>\n",
       "      <th>2</th>\n",
       "      <td>48534649627</td>\n",
       "      <td>2021-11-27</td>\n",
       "      <td>271</td>\n",
       "      <td>272</td>\n",
       "      <td>154.291071</td>\n",
       "      <td>28.337370</td>\n",
       "    </tr>\n",
       "  </tbody>\n",
       "</table>\n",
       "</div>"
      ],
      "text/plain": [
       "   merchant_abn order_datetime  no_customer  total_order  avg_dollar_amount  \\\n",
       "0   48534649627     2021-11-26          282          283         153.301320   \n",
       "1   48534649627     2021-11-29          257          260         162.887116   \n",
       "2   48534649627     2021-11-27          271          272         154.291071   \n",
       "\n",
       "   fraud_prob  \n",
       "0   29.005907  \n",
       "1   28.360522  \n",
       "2   28.337370  "
      ]
     },
     "execution_count": 88,
     "metadata": {},
     "output_type": "execute_result"
    }
   ],
   "source": [
    "max_abn_agg.head()"
   ]
  },
  {
   "cell_type": "code",
   "execution_count": null,
   "metadata": {},
   "outputs": [],
   "source": [
    "max_merchant = agg_sdf.where(\n",
    "    F.col(\"merchant\")\n",
    ")"
   ]
  },
  {
   "cell_type": "code",
   "execution_count": 31,
   "metadata": {},
   "outputs": [
    {
     "name": "stdout",
     "output_type": "stream",
     "text": [
      "root\n",
      " |-- user_id: long (nullable = true)\n",
      " |-- merchant_abn: long (nullable = true)\n",
      " |-- dollar_value: double (nullable = true)\n",
      " |-- order_id: string (nullable = true)\n",
      " |-- order_datetime: date (nullable = true)\n",
      " |-- log(dollar_value): double (nullable = true)\n",
      "\n"
     ]
    }
   ],
   "source": [
    "filtered_transaction.printSchema()"
   ]
  },
  {
   "cell_type": "markdown",
   "metadata": {},
   "source": [
    "### standardize customer number, total order, total_dollar_amount by its mean and var"
   ]
  },
  {
   "cell_type": "code",
   "execution_count": 32,
   "metadata": {},
   "outputs": [
    {
     "name": "stderr",
     "output_type": "stream",
     "text": [
      "                                                                                \r"
     ]
    },
    {
     "data": {
      "text/plain": [
       "18656"
      ]
     },
     "execution_count": 32,
     "metadata": {},
     "output_type": "execute_result"
    }
   ],
   "source": [
    "# first find the average \n",
    "labeled_merchant = merchant_fraud_df['merchant_abn'].unique().tolist()\n",
    "labeled_merchant_transaction = transaction.where(F.col('merchant_abn').isin(labeled_merchant))\n",
    "\n",
    "all_time_daily_merchant_transaction = labeled_merchant_transaction.groupby(['merchant_abn','order_datetime']).agg(\n",
    "    F.countDistinct(F.col('user_id')).alias('no_customer'),\n",
    "    F.countDistinct(F.col(\"order_id\")).alias(\"total_order\"),\n",
    "    F.avg(F.col(\"dollar_value\")).alias(\"avg_dollar_value\"), # changed to average per consumer for independence\n",
    ") \n",
    "\n",
    "all_time_daily_merchant_transaction.count()"
   ]
  },
  {
   "cell_type": "code",
   "execution_count": 33,
   "metadata": {},
   "outputs": [
    {
     "name": "stdout",
     "output_type": "stream",
     "text": [
      "root\n",
      " |-- merchant_abn: long (nullable = true)\n",
      " |-- avg_daily_no_customer: double (nullable = true)\n",
      " |-- stddev_daily_no_customer: double (nullable = true)\n",
      " |-- avg_daily_total_order: double (nullable = true)\n",
      " |-- stddev_daily_total_order: double (nullable = true)\n",
      " |-- avg_daily_avg_dollar_value: double (nullable = true)\n",
      " |-- stddev_daily_avg_dollar_value: double (nullable = true)\n",
      "\n"
     ]
    }
   ],
   "source": [
    "all_time_agg = all_time_daily_merchant_transaction.groupBy(\"merchant_abn\").agg(\n",
    "    F.avg(F.col(\"no_customer\")).alias(\"avg_daily_no_customer\"),\n",
    "    F.stddev(F.col(\"no_customer\")).alias(\"stddev_daily_no_customer\"),\n",
    "    F.avg(F.col(\"total_order\")).alias(\"avg_daily_total_order\"),\n",
    "    F.stddev(F.col(\"total_order\")).alias(\"stddev_daily_total_order\"),\n",
    "    F.avg(F.col(\"avg_dollar_value\")).alias(\"avg_daily_avg_dollar_value\"), # avg customer spending\n",
    "    F.stddev(F.col(\"avg_dollar_value\")).alias(\"stddev_daily_avg_dollar_value\"),\n",
    ")\n",
    "\n",
    "all_time_agg.printSchema()\n"
   ]
  },
  {
   "cell_type": "code",
   "execution_count": 34,
   "metadata": {},
   "outputs": [
    {
     "name": "stderr",
     "output_type": "stream",
     "text": [
      "                                                                                \r"
     ]
    }
   ],
   "source": [
    "#all_time_agg.count() # 61 checked\n",
    "all_time_agg_df = all_time_agg.toPandas()"
   ]
  },
  {
   "cell_type": "code",
   "execution_count": 35,
   "metadata": {},
   "outputs": [
    {
     "data": {
      "text/html": [
       "<div>\n",
       "<style scoped>\n",
       "    .dataframe tbody tr th:only-of-type {\n",
       "        vertical-align: middle;\n",
       "    }\n",
       "\n",
       "    .dataframe tbody tr th {\n",
       "        vertical-align: top;\n",
       "    }\n",
       "\n",
       "    .dataframe thead th {\n",
       "        text-align: right;\n",
       "    }\n",
       "</style>\n",
       "<table border=\"1\" class=\"dataframe\">\n",
       "  <thead>\n",
       "    <tr style=\"text-align: right;\">\n",
       "      <th></th>\n",
       "      <th>merchant_abn</th>\n",
       "      <th>order_datetime</th>\n",
       "      <th>no_customer</th>\n",
       "      <th>total_order</th>\n",
       "      <th>avg_dollar_amount</th>\n",
       "      <th>fraud_prob</th>\n",
       "    </tr>\n",
       "  </thead>\n",
       "  <tbody>\n",
       "    <tr>\n",
       "      <th>0</th>\n",
       "      <td>27093785141</td>\n",
       "      <td>2021-11-27</td>\n",
       "      <td>116</td>\n",
       "      <td>117</td>\n",
       "      <td>400.528232</td>\n",
       "      <td>29.539473</td>\n",
       "    </tr>\n",
       "  </tbody>\n",
       "</table>\n",
       "</div>"
      ],
      "text/plain": [
       "   merchant_abn order_datetime  no_customer  total_order  avg_dollar_amount  \\\n",
       "0   27093785141     2021-11-27          116          117         400.528232   \n",
       "\n",
       "   fraud_prob  \n",
       "0   29.539473  "
      ]
     },
     "execution_count": 35,
     "metadata": {},
     "output_type": "execute_result"
    }
   ],
   "source": [
    "agg_df.head(1)"
   ]
  },
  {
   "cell_type": "code",
   "execution_count": 36,
   "metadata": {},
   "outputs": [
    {
     "name": "stderr",
     "output_type": "stream",
     "text": [
      "/Users/ke/opt/anaconda3/envs/ML/lib/python3.9/site-packages/scipy/stats/_distn_infrastructure.py:1953: RuntimeWarning: invalid value encountered in double_scalars\n",
      "  x = np.asarray((x - loc)/scale, dtype=dtyp)\n",
      "/Users/ke/opt/anaconda3/envs/ML/lib/python3.9/site-packages/scipy/stats/_distn_infrastructure.py:1953: RuntimeWarning: invalid value encountered in double_scalars\n",
      "  x = np.asarray((x - loc)/scale, dtype=dtyp)\n",
      "/Users/ke/opt/anaconda3/envs/ML/lib/python3.9/site-packages/scipy/stats/_distn_infrastructure.py:1953: RuntimeWarning: invalid value encountered in double_scalars\n",
      "  x = np.asarray((x - loc)/scale, dtype=dtyp)\n"
     ]
    }
   ],
   "source": [
    "# discuss about the modeling idea during standup, use normal(t test) for now\n",
    "# Joint probability \n",
    "# assume independence (avg spending and number of customer are independent )\n",
    "# cdf F(x<X, y<Y) = F(x)F(y)\n",
    "# since order and customer are highly correlated(almost identical), we choose avg_dollar_value as X and \n",
    "# no of orders as Y\n",
    "\n",
    "\n",
    "\n",
    "from scipy import stats\n",
    "def two_side_p_val(mean, stddev, test):\n",
    "    norm_dist = stats.norm(loc=mean, scale=stddev)\n",
    "    if test > mean:\n",
    "        return 2* (1-norm_dist.cdf(test))\n",
    "    else:\n",
    "        return 2*norm_dist.cdf(test)\n",
    "\n",
    "def join_prob_p_val(mux, stdx, muy, stdy, testx, testy):\n",
    "    distx = stats.norm(loc=mux, scale=stdx)\n",
    "    disty = stats.norm(loc=muy, scale=stdy)\n",
    "    joint_prob = distx.cdf(testx) * disty.cdf(testy)\n",
    "    if joint_prob>0.5:\n",
    "        return 2* (1-joint_prob)\n",
    "    else:\n",
    "        return 2*joint_prob\n",
    "\n",
    "\n",
    "agg_join_df = all_time_agg_df.merge(agg_df, on=\"merchant_abn\")\n",
    "\n",
    "agg_join_df[\"no_order_p_val\"] = agg_join_df[['avg_daily_total_order','stddev_daily_total_order',\"total_order\"]].\\\n",
    "    apply(lambda row:two_side_p_val(row[0],row[1],row[2]),axis=1)\n",
    "\n",
    "agg_join_df[\"no_customer_p_val\"] = agg_join_df[['avg_daily_no_customer','stddev_daily_no_customer',\"no_customer\"]].\\\n",
    "    apply(lambda row:two_side_p_val(row[0],row[1],row[2]),axis=1)\n",
    "\n",
    "agg_join_df[\"avg_dollar_value_p_val\"] = agg_join_df[['avg_daily_avg_dollar_value','stddev_daily_avg_dollar_value',\"avg_dollar_amount\"]].\\\n",
    "    apply(lambda row:two_side_p_val(row[0],row[1],row[2]),axis=1)\n",
    "\n",
    "\n",
    "# not good feature\n",
    "agg_join_df[\"joint_dist_p_val\"] =  agg_join_df[['avg_daily_avg_dollar_value','stddev_daily_avg_dollar_value',\\\n",
    "    'avg_daily_total_order','stddev_daily_total_order','avg_dollar_amount',\"total_order\"]].\\\n",
    "         apply(lambda row:join_prob_p_val(row[0],row[1],row[2],row[3],row[4],row[5]),axis=1)\n",
    "\n",
    "# # p_val_x * p_val_y\n",
    "# agg_join_df[\"p_val_multiple\"] = agg_join_df[['avg_dollar_value_p_val','no_order_p_val']].apply(lambda row:\n",
    "# np.exp(row[0])*np.exp(row[1]),axis=1)\n",
    "\n",
    "\n"
   ]
  },
  {
   "cell_type": "code",
   "execution_count": 37,
   "metadata": {},
   "outputs": [
    {
     "data": {
      "text/html": [
       "<table border='1'>\n",
       "<tr><th>user_id</th><th>merchant_abn</th><th>dollar_value</th><th>order_id</th><th>order_datetime</th><th>log(dollar_value)</th></tr>\n",
       "<tr><td>22239</td><td>67264251405</td><td>51876.637563877644</td><td>09206be9-492c-414...</td><td>2021-10-19</td><td>10.856623824531193</td></tr>\n",
       "</table>\n"
      ],
      "text/plain": [
       "+-------+------------+------------------+--------------------+--------------+------------------+\n",
       "|user_id|merchant_abn|      dollar_value|            order_id|order_datetime| log(dollar_value)|\n",
       "+-------+------------+------------------+--------------------+--------------+------------------+\n",
       "|  22239| 67264251405|51876.637563877644|09206be9-492c-414...|    2021-10-19|10.856623824531193|\n",
       "+-------+------------+------------------+--------------------+--------------+------------------+"
      ]
     },
     "execution_count": 37,
     "metadata": {},
     "output_type": "execute_result"
    }
   ],
   "source": [
    "# just one transaction, so dev is nan\n",
    "transaction.where(\n",
    "    F.col(\"merchant_abn\") == 67264251405\n",
    ")"
   ]
  },
  {
   "cell_type": "code",
   "execution_count": 38,
   "metadata": {},
   "outputs": [
    {
     "data": {
      "text/plain": [
       "<matplotlib.collections.PathCollection at 0x7f8ed212d340>"
      ]
     },
     "execution_count": 38,
     "metadata": {},
     "output_type": "execute_result"
    },
    {
     "data": {
      "image/png": "[encoded data removed]",
      "text/plain": [
       "<Figure size 432x288 with 1 Axes>"
      ]
     },
     "metadata": {
      "needs_background": "light"
     },
     "output_type": "display_data"
    }
   ],
   "source": [
    "# graphs\n",
    "agg_join_df = agg_join_df.dropna()\n",
    "plt.scatter(agg_join_df[\"no_order_p_val\"],agg_join_df[\"fraud_prob\"])\n",
    "# agg_join_df[\"no_order_p_val\"] = agg_join_df[\"no_order_p_val\"]"
   ]
  },
  {
   "cell_type": "code",
   "execution_count": 39,
   "metadata": {},
   "outputs": [
    {
     "data": {
      "text/plain": [
       "<matplotlib.collections.PathCollection at 0x7f8ea067fc70>"
      ]
     },
     "execution_count": 39,
     "metadata": {},
     "output_type": "execute_result"
    },
    {
     "data": {
      "image/png": "[encoded data removed]",
      "text/plain": [
       "<Figure size 432x288 with 1 Axes>"
      ]
     },
     "metadata": {
      "needs_background": "light"
     },
     "output_type": "display_data"
    }
   ],
   "source": [
    "plt.scatter(agg_join_df[\"no_customer_p_val\"],agg_join_df[\"fraud_prob\"])\n",
    "\n",
    "#plt.scatter(np.log(agg_join_df[\"no_customer_p_val\"]),agg_join_df[\"fraud_prob\"])"
   ]
  },
  {
   "cell_type": "code",
   "execution_count": 40,
   "metadata": {},
   "outputs": [
    {
     "data": {
      "text/html": [
       "<div>\n",
       "<style scoped>\n",
       "    .dataframe tbody tr th:only-of-type {\n",
       "        vertical-align: middle;\n",
       "    }\n",
       "\n",
       "    .dataframe tbody tr th {\n",
       "        vertical-align: top;\n",
       "    }\n",
       "\n",
       "    .dataframe thead th {\n",
       "        text-align: right;\n",
       "    }\n",
       "</style>\n",
       "<table border=\"1\" class=\"dataframe\">\n",
       "  <thead>\n",
       "    <tr style=\"text-align: right;\">\n",
       "      <th></th>\n",
       "      <th>merchant_abn</th>\n",
       "      <th>avg_daily_no_customer</th>\n",
       "      <th>stddev_daily_no_customer</th>\n",
       "      <th>avg_daily_total_order</th>\n",
       "      <th>stddev_daily_total_order</th>\n",
       "      <th>avg_daily_avg_dollar_value</th>\n",
       "      <th>stddev_daily_avg_dollar_value</th>\n",
       "      <th>order_datetime</th>\n",
       "      <th>no_customer</th>\n",
       "      <th>total_order</th>\n",
       "      <th>avg_dollar_amount</th>\n",
       "      <th>fraud_prob</th>\n",
       "      <th>no_order_p_val</th>\n",
       "      <th>no_customer_p_val</th>\n",
       "      <th>avg_dollar_value_p_val</th>\n",
       "      <th>joint_dist_p_val</th>\n",
       "    </tr>\n",
       "  </thead>\n",
       "  <tbody>\n",
       "    <tr>\n",
       "      <th>36</th>\n",
       "      <td>35575706403</td>\n",
       "      <td>1.072464</td>\n",
       "      <td>0.261154</td>\n",
       "      <td>1.072464</td>\n",
       "      <td>0.261154</td>\n",
       "      <td>11275.779495</td>\n",
       "      <td>8551.62989</td>\n",
       "      <td>2022-02-20</td>\n",
       "      <td>1</td>\n",
       "      <td>1</td>\n",
       "      <td>50209.505439</td>\n",
       "      <td>91.096068</td>\n",
       "      <td>0.781415</td>\n",
       "      <td>0.781415</td>\n",
       "      <td>0.000005</td>\n",
       "      <td>0.781413</td>\n",
       "    </tr>\n",
       "  </tbody>\n",
       "</table>\n",
       "</div>"
      ],
      "text/plain": [
       "    merchant_abn  avg_daily_no_customer  stddev_daily_no_customer  \\\n",
       "36   35575706403               1.072464                  0.261154   \n",
       "\n",
       "    avg_daily_total_order  stddev_daily_total_order  \\\n",
       "36               1.072464                  0.261154   \n",
       "\n",
       "    avg_daily_avg_dollar_value  stddev_daily_avg_dollar_value order_datetime  \\\n",
       "36                11275.779495                     8551.62989     2022-02-20   \n",
       "\n",
       "    no_customer  total_order  avg_dollar_amount  fraud_prob  no_order_p_val  \\\n",
       "36            1            1       50209.505439   91.096068        0.781415   \n",
       "\n",
       "    no_customer_p_val  avg_dollar_value_p_val  joint_dist_p_val  \n",
       "36           0.781415                0.000005          0.781413  "
      ]
     },
     "execution_count": 40,
     "metadata": {},
     "output_type": "execute_result"
    }
   ],
   "source": [
    "agg_join_df.loc[agg_join_df[\"fraud_prob\"] >= 90]"
   ]
  },
  {
   "cell_type": "code",
   "execution_count": 41,
   "metadata": {},
   "outputs": [
    {
     "data": {
      "text/plain": [
       "<matplotlib.collections.PathCollection at 0x7f8ed218e4f0>"
      ]
     },
     "execution_count": 41,
     "metadata": {},
     "output_type": "execute_result"
    },
    {
     "data": {
      "image/png": "[encoded data removed]",
      "text/plain": [
       "<Figure size 432x288 with 1 Axes>"
      ]
     },
     "metadata": {
      "needs_background": "light"
     },
     "output_type": "display_data"
    }
   ],
   "source": [
    "\n",
    "\n",
    "\n",
    "\n",
    "plt.scatter(np.exp(agg_join_df[\"avg_dollar_value_p_val\"]),agg_join_df[\"fraud_prob\"])\n",
    "# plt.scatter(np.log(agg_join_df[\"total_dollar_value_p_val\"]),agg_join_df[\"fraud_prob\"])\n"
   ]
  },
  {
   "cell_type": "code",
   "execution_count": 42,
   "metadata": {},
   "outputs": [],
   "source": [
    "# Joint probability \n",
    "# assume independence (avg spending and number of customer are independent )\n",
    "# cdf F(x<X, y<Y) = F(x)F(y)\n",
    "\n"
   ]
  },
  {
   "cell_type": "code",
   "execution_count": 43,
   "metadata": {},
   "outputs": [
    {
     "data": {
      "text/plain": [
       "<matplotlib.collections.PathCollection at 0x7f8eb055afd0>"
      ]
     },
     "execution_count": 43,
     "metadata": {},
     "output_type": "execute_result"
    },
    {
     "data": {
      "image/png": "[encoded data removed]",
      "text/plain": [
       "<Figure size 432x288 with 1 Axes>"
      ]
     },
     "metadata": {
      "needs_background": "light"
     },
     "output_type": "display_data"
    }
   ],
   "source": [
    "# not optimal....\n",
    "plt.scatter(agg_join_df[\"joint_dist_p_val\"],agg_join_df[\"fraud_prob\"])"
   ]
  },
  {
   "cell_type": "code",
   "execution_count": 44,
   "metadata": {},
   "outputs": [],
   "source": [
    "# # p val multiple\n",
    "\n",
    "# plt.scatter(agg_join_df[\"p_val_multiple\"],agg_join_df[\"fraud_prob\"])"
   ]
  },
  {
   "cell_type": "code",
   "execution_count": 45,
   "metadata": {},
   "outputs": [],
   "source": [
    "agg_join_df.to_csv(\"../data/curated/merchant_fraud_join.csv\")"
   ]
  },
  {
   "cell_type": "markdown",
   "metadata": {},
   "source": [
    "dollar amount it self has a nice negtaive relation\n",
    "when we use joint prob it is almost uniformly distributed\n",
    "it appears to be the dollar amount is the most significant feature in terms of determine fraud probability\n",
    "\n",
    "This doesn't suggest that other features we have are noises. Maybe the other features contributes to distinguish the fraud from the normal ones."
   ]
  },
  {
   "cell_type": "markdown",
   "metadata": {},
   "source": [
    "## additional analysis from customer fraud featues"
   ]
  },
  {
   "cell_type": "code",
   "execution_count": 46,
   "metadata": {},
   "outputs": [],
   "source": [
    "# consumer: fraud_order_share, fraud_consumer_share, weighted_fraud_value_share\n",
    "consumer_fraud_sdf = spark.read.parquet(\"../data/curated/consumer_fraud.parquet\")\n",
    "\n",
    "merchant_transaction_on_fraud_day = labeled_merchant_transaction.join(merchant_fraud_sdf.withColumnRenamed(\"fraud_probability\", \"merchant_fraud_prob\"),on=[\"merchant_abn\",\"order_datetime\"])\n",
    "\n",
    "# merchant_transaction_on_fraud_day_with_consumer_prob = merchant_transaction_on_fraud_day.join(consumer_fraud_sdf.withColumnRenamed(\"fraud_probability\",\"consumer_fraud_prob\").select(\"\"), on=\"order_datetime\"])\n",
    "\n",
    "merchant_agg_on_fraud_day = merchant_transaction_on_fraud_day.groupBy([\"merchant_abn\",\"order_datetime\"]).agg(\n",
    "    F.countDistinct(F.col('user_id')).alias('no_customer'),\n",
    "    F.countDistinct(F.col(\"order_id\")).alias(\"no_order\"),\n",
    "    F.sum(F.col(\"dollar_value\")).alias(\"sum_dollar_value\"), \n",
    ")"
   ]
  },
  {
   "cell_type": "code",
   "execution_count": 47,
   "metadata": {},
   "outputs": [],
   "source": [
    "fraud_transaction = merchant_transaction_on_fraud_day.join(consumer_fraud_sdf.withColumnRenamed(\"fraud_probability\",\"consumer_fraud_prob\").distinct(), on=[\"user_id\", \"order_datetime\"])\n"
   ]
  },
  {
   "cell_type": "code",
   "execution_count": 48,
   "metadata": {},
   "outputs": [
    {
     "data": {
      "text/plain": [
       "[Row(user_id=3101, order_datetime=datetime.date(2021, 4, 17), merchant_abn=91880575299, dollar_value=105193.88578925544, order_id='2ab65c8f-11b2-41cb-8889-001ce62c005d', log(dollar_value)=11.563560457722723, merchant_fraud_prob=32.99497823665355, consumer_fraud_prob=91.42192091901347)]"
      ]
     },
     "execution_count": 48,
     "metadata": {},
     "output_type": "execute_result"
    }
   ],
   "source": [
    "fraud_transaction.head(1)"
   ]
  },
  {
   "cell_type": "code",
   "execution_count": 77,
   "metadata": {},
   "outputs": [],
   "source": [
    "fraud_transaction_agg = fraud_transaction.groupBy([\"merchant_abn\",\"order_datetime\"]).agg(\n",
    "    F.sum(F.col(\"consumer_fraud_prob\") * F.col(\"dollar_value\")*0.01).alias(\"weighted_fraud_value\"),\n",
    "    F.countDistinct(F.col(\"user_id\")).alias(\"no_fraud_consumer\"),\n",
    "    F.countDistinct(F.col(\"order_id\")).alias(\"no_fraud_order\"),\n",
    "    F.mean(F.col(\"merchant_fraud_prob\")).alias(\"merchant_fraud_prob\"),   # any other way to work around this? want to preserve merchant_fraud_prob\n",
    "    F.sum(F.col(\"consumer_fraud_prob\")*0.01).alias(\"no_fraud_consumer_weighted\"),\n",
    ")"
   ]
  },
  {
   "cell_type": "code",
   "execution_count": 50,
   "metadata": {},
   "outputs": [],
   "source": [
    "merchant_fraud_share_agg = merchant_agg_on_fraud_day.join(fraud_transaction_agg, on=[\"merchant_abn\",\"order_datetime\"])\\\n",
    "    .withColumn(\n",
    "        'fraud_customer_share',\n",
    "        F.col(\"no_fraud_consumer\")/F.col('no_customer')\n",
    "    ).withColumn(\n",
    "        'fraud_order_share',\n",
    "        F.col(\"no_fraud_order\")/F.col('no_order')\n",
    "    ).withColumn(\n",
    "        'weighted_fraud_value_share',\n",
    "        F.col(\"weighted_fraud_value\")/F.col('sum_dollar_value')\n",
    "    )\n"
   ]
  },
  {
   "cell_type": "code",
   "execution_count": 51,
   "metadata": {},
   "outputs": [
    {
     "name": "stderr",
     "output_type": "stream",
     "text": [
      "                                                                                \r"
     ]
    }
   ],
   "source": [
    "merchant_fraud_share_agg_df = merchant_fraud_share_agg.toPandas()"
   ]
  },
  {
   "cell_type": "code",
   "execution_count": 52,
   "metadata": {},
   "outputs": [
    {
     "data": {
      "text/html": [
       "<div>\n",
       "<style scoped>\n",
       "    .dataframe tbody tr th:only-of-type {\n",
       "        vertical-align: middle;\n",
       "    }\n",
       "\n",
       "    .dataframe tbody tr th {\n",
       "        vertical-align: top;\n",
       "    }\n",
       "\n",
       "    .dataframe thead th {\n",
       "        text-align: right;\n",
       "    }\n",
       "</style>\n",
       "<table border=\"1\" class=\"dataframe\">\n",
       "  <thead>\n",
       "    <tr style=\"text-align: right;\">\n",
       "      <th></th>\n",
       "      <th>merchant_abn</th>\n",
       "      <th>order_datetime</th>\n",
       "      <th>no_customer</th>\n",
       "      <th>no_order</th>\n",
       "      <th>sum_dollar_value</th>\n",
       "      <th>weighted_fraud_value</th>\n",
       "      <th>no_fraud_consumer</th>\n",
       "      <th>no_fraud_order</th>\n",
       "      <th>merchant_fraud_prob</th>\n",
       "      <th>fraud_customer_share</th>\n",
       "      <th>fraud_order_share</th>\n",
       "      <th>weighted_fraud_value_share</th>\n",
       "    </tr>\n",
       "  </thead>\n",
       "  <tbody>\n",
       "    <tr>\n",
       "      <th>0</th>\n",
       "      <td>11149063370</td>\n",
       "      <td>2021-08-28</td>\n",
       "      <td>1</td>\n",
       "      <td>1</td>\n",
       "      <td>47346.113374</td>\n",
       "      <td>40851.783402</td>\n",
       "      <td>1</td>\n",
       "      <td>1</td>\n",
       "      <td>56.437613</td>\n",
       "      <td>1.0</td>\n",
       "      <td>1.0</td>\n",
       "      <td>0.862833</td>\n",
       "    </tr>\n",
       "  </tbody>\n",
       "</table>\n",
       "</div>"
      ],
      "text/plain": [
       "   merchant_abn order_datetime  no_customer  no_order  sum_dollar_value  \\\n",
       "0   11149063370     2021-08-28            1         1      47346.113374   \n",
       "\n",
       "   weighted_fraud_value  no_fraud_consumer  no_fraud_order  \\\n",
       "0          40851.783402                  1               1   \n",
       "\n",
       "   merchant_fraud_prob  fraud_customer_share  fraud_order_share  \\\n",
       "0            56.437613                   1.0                1.0   \n",
       "\n",
       "   weighted_fraud_value_share  \n",
       "0                    0.862833  "
      ]
     },
     "execution_count": 52,
     "metadata": {},
     "output_type": "execute_result"
    }
   ],
   "source": [
    "merchant_fraud_share_agg_df.head(1)"
   ]
  },
  {
   "cell_type": "code",
   "execution_count": 53,
   "metadata": {},
   "outputs": [
    {
     "data": {
      "text/plain": [
       "<matplotlib.collections.PathCollection at 0x7f8ee21fe250>"
      ]
     },
     "execution_count": 53,
     "metadata": {},
     "output_type": "execute_result"
    },
    {
     "data": {
      "image/png": "[encoded data removed]",
      "text/plain": [
       "<Figure size 432x288 with 1 Axes>"
      ]
     },
     "metadata": {
      "needs_background": "light"
     },
     "output_type": "display_data"
    }
   ],
   "source": [
    "# plot the plots\n",
    "plt.scatter(merchant_fraud_share_agg_df[\"fraud_customer_share\"], merchant_fraud_share_agg_df[\"merchant_fraud_prob\"])"
   ]
  },
  {
   "cell_type": "code",
   "execution_count": 54,
   "metadata": {},
   "outputs": [
    {
     "data": {
      "text/plain": [
       "<matplotlib.collections.PathCollection at 0x7f8ee22a3220>"
      ]
     },
     "execution_count": 54,
     "metadata": {},
     "output_type": "execute_result"
    },
    {
     "data": {
      "image/png": "[encoded data removed]",
      "text/plain": [
       "<Figure size 432x288 with 1 Axes>"
      ]
     },
     "metadata": {
      "needs_background": "light"
     },
     "output_type": "display_data"
    }
   ],
   "source": [
    "plt.scatter(merchant_fraud_share_agg_df[\"fraud_order_share\"], merchant_fraud_share_agg_df[\"merchant_fraud_prob\"])"
   ]
  },
  {
   "cell_type": "code",
   "execution_count": 55,
   "metadata": {},
   "outputs": [
    {
     "data": {
      "text/plain": [
       "<matplotlib.collections.PathCollection at 0x7f8ed239d2e0>"
      ]
     },
     "execution_count": 55,
     "metadata": {},
     "output_type": "execute_result"
    },
    {
     "data": {
      "image/png": "[encoded data removed]",
      "text/plain": [
       "<Figure size 432x288 with 1 Axes>"
      ]
     },
     "metadata": {
      "needs_background": "light"
     },
     "output_type": "display_data"
    }
   ],
   "source": [
    "plt.scatter(merchant_fraud_share_agg_df[\"weighted_fraud_value_share\"], merchant_fraud_share_agg_df[\"merchant_fraud_prob\"])"
   ]
  },
  {
   "cell_type": "markdown",
   "metadata": {},
   "source": [
    "Interaction between fraud consumer and merchant fraud is not obvious"
   ]
  },
  {
   "cell_type": "markdown",
   "metadata": {},
   "source": [
    "## Customer data\n",
    "\n",
    "definition: \n",
    "transaction : raw transaction data in parquet dataframe\n",
    "consumer_fraud_df : pandas dataframe from consumer fraud csv\n",
    "\n"
   ]
  },
  {
   "cell_type": "markdown",
   "metadata": {},
   "source": []
  },
  {
   "cell_type": "code",
   "execution_count": 56,
   "metadata": {},
   "outputs": [
    {
     "name": "stdout",
     "output_type": "stream",
     "text": [
      "root\n",
      " |-- user_id: long (nullable = true)\n",
      " |-- merchant_abn: long (nullable = true)\n",
      " |-- dollar_value: double (nullable = true)\n",
      " |-- order_id: string (nullable = true)\n",
      " |-- order_datetime: date (nullable = true)\n",
      " |-- log(dollar_value): double (nullable = true)\n",
      "\n"
     ]
    }
   ],
   "source": [
    "# join transaction and consumer_fraud by orderdate time and userid\n",
    "# filtered_transaction_drop = filtered_transaction.drop(\"log(dollar_value)\")\n",
    "consumer_fraud_df.to_parquet(\"../data/curated/consumer_fraud.parquet\")\n",
    "transaction.printSchema()\n",
    "# filtered_transaction_drop.printSchema()"
   ]
  },
  {
   "cell_type": "code",
   "execution_count": 57,
   "metadata": {},
   "outputs": [],
   "source": [
    "consumer_fraud_sdf = spark.read.parquet(\"../data/curated/consumer_fraud.parquet\")"
   ]
  },
  {
   "cell_type": "code",
   "execution_count": 58,
   "metadata": {},
   "outputs": [
    {
     "name": "stdout",
     "output_type": "stream",
     "text": [
      "root\n",
      " |-- user_id: long (nullable = true)\n",
      " |-- order_datetime: string (nullable = true)\n",
      " |-- fraud_probability: double (nullable = true)\n",
      "\n"
     ]
    }
   ],
   "source": [
    "consumer_fraud_sdf.printSchema()\n",
    "# print(consumer_fraud_sdf.distinct().count()) #34765 distince fraud transactions"
   ]
  },
  {
   "cell_type": "code",
   "execution_count": 59,
   "metadata": {},
   "outputs": [
    {
     "name": "stderr",
     "output_type": "stream",
     "text": [
      "                                                                                \r"
     ]
    },
    {
     "data": {
      "text/plain": [
       "24081"
      ]
     },
     "execution_count": 59,
     "metadata": {},
     "output_type": "execute_result"
    }
   ],
   "source": [
    "consumer_fraud_sdf.select(\"user_id\").distinct().count() #20128 distinct user id in consumer fraud\n",
    "transaction.select(\"user_id\").distinct().count() #24081 distinct user_id in historical transactions"
   ]
  },
  {
   "cell_type": "code",
   "execution_count": 60,
   "metadata": {},
   "outputs": [],
   "source": [
    "labeled_consumer = consumer_fraud_df[\"user_id\"].unique().tolist() # len(labeled_consumer) = 20128\n",
    "label_consumer_historical_transaction_sdf = transaction.where(F.col('user_id').isin(labeled_consumer))\n",
    "\n",
    "label_consumer_fraud_transaction_sdf = label_consumer_historical_transaction_sdf.join(consumer_fraud_sdf, on=[\"user_id\",\"order_datetime\"])"
   ]
  },
  {
   "cell_type": "code",
   "execution_count": 61,
   "metadata": {},
   "outputs": [
    {
     "name": "stderr",
     "output_type": "stream",
     "text": [
      "22/09/21 15:30:38 WARN DAGScheduler: Broadcasting large task binary with size 2.1 MiB\n",
      "22/09/21 15:30:38 WARN RowBasedKeyValueBatch: Calling spill() on RowBasedKeyValueBatch. Will not spill but return 0.\n",
      "22/09/21 15:30:38 WARN RowBasedKeyValueBatch: Calling spill() on RowBasedKeyValueBatch. Will not spill but return 0.\n",
      "22/09/21 15:30:38 WARN RowBasedKeyValueBatch: Calling spill() on RowBasedKeyValueBatch. Will not spill but return 0.\n",
      "22/09/21 15:30:38 WARN RowBasedKeyValueBatch: Calling spill() on RowBasedKeyValueBatch. Will not spill but return 0.\n",
      "22/09/21 15:30:38 WARN RowBasedKeyValueBatch: Calling spill() on RowBasedKeyValueBatch. Will not spill but return 0.\n",
      "22/09/21 15:30:38 WARN RowBasedKeyValueBatch: Calling spill() on RowBasedKeyValueBatch. Will not spill but return 0.\n",
      "22/09/21 15:30:38 WARN RowBasedKeyValueBatch: Calling spill() on RowBasedKeyValueBatch. Will not spill but return 0.\n",
      "22/09/21 15:30:38 WARN RowBasedKeyValueBatch: Calling spill() on RowBasedKeyValueBatch. Will not spill but return 0.\n",
      "22/09/21 15:30:38 WARN RowBasedKeyValueBatch: Calling spill() on RowBasedKeyValueBatch. Will not spill but return 0.\n",
      "22/09/21 15:30:38 WARN RowBasedKeyValueBatch: Calling spill() on RowBasedKeyValueBatch. Will not spill but return 0.\n",
      "22/09/21 15:30:39 WARN RowBasedKeyValueBatch: Calling spill() on RowBasedKeyValueBatch. Will not spill but return 0.\n",
      "22/09/21 15:30:39 WARN RowBasedKeyValueBatch: Calling spill() on RowBasedKeyValueBatch. Will not spill but return 0.\n",
      "22/09/21 15:30:39 WARN RowBasedKeyValueBatch: Calling spill() on RowBasedKeyValueBatch. Will not spill but return 0.\n",
      "22/09/21 15:30:39 WARN RowBasedKeyValueBatch: Calling spill() on RowBasedKeyValueBatch. Will not spill but return 0.\n",
      "22/09/21 15:30:39 WARN RowBasedKeyValueBatch: Calling spill() on RowBasedKeyValueBatch. Will not spill but return 0.\n",
      "22/09/21 15:30:39 WARN RowBasedKeyValueBatch: Calling spill() on RowBasedKeyValueBatch. Will not spill but return 0.\n",
      "22/09/21 15:30:39 WARN RowBasedKeyValueBatch: Calling spill() on RowBasedKeyValueBatch. Will not spill but return 0.\n",
      "22/09/21 15:30:39 WARN RowBasedKeyValueBatch: Calling spill() on RowBasedKeyValueBatch. Will not spill but return 0.\n",
      "22/09/21 15:30:39 WARN RowBasedKeyValueBatch: Calling spill() on RowBasedKeyValueBatch. Will not spill but return 0.\n",
      "22/09/21 15:30:39 WARN RowBasedKeyValueBatch: Calling spill() on RowBasedKeyValueBatch. Will not spill but return 0.\n",
      "22/09/21 15:30:40 WARN RowBasedKeyValueBatch: Calling spill() on RowBasedKeyValueBatch. Will not spill but return 0.\n",
      "22/09/21 15:30:40 WARN RowBasedKeyValueBatch: Calling spill() on RowBasedKeyValueBatch. Will not spill but return 0.\n",
      "22/09/21 15:30:40 WARN RowBasedKeyValueBatch: Calling spill() on RowBasedKeyValueBatch. Will not spill but return 0.\n",
      "22/09/21 15:30:40 WARN RowBasedKeyValueBatch: Calling spill() on RowBasedKeyValueBatch. Will not spill but return 0.\n",
      "22/09/21 15:30:41 WARN RowBasedKeyValueBatch: Calling spill() on RowBasedKeyValueBatch. Will not spill but return 0.\n",
      "22/09/21 15:30:41 WARN RowBasedKeyValueBatch: Calling spill() on RowBasedKeyValueBatch. Will not spill but return 0.\n",
      "22/09/21 15:30:41 WARN RowBasedKeyValueBatch: Calling spill() on RowBasedKeyValueBatch. Will not spill but return 0.\n",
      "22/09/21 15:30:42 WARN RowBasedKeyValueBatch: Calling spill() on RowBasedKeyValueBatch. Will not spill but return 0.\n",
      "22/09/21 15:30:42 WARN RowBasedKeyValueBatch: Calling spill() on RowBasedKeyValueBatch. Will not spill but return 0.\n",
      "22/09/21 15:30:42 WARN TaskMemoryManager: Failed to allocate a page (16777216 bytes), try again.\n",
      "22/09/21 15:30:42 WARN TaskMemoryManager: Failed to allocate a page (16777216 bytes), try again.\n",
      "22/09/21 15:30:42 WARN RowBasedKeyValueBatch: Calling spill() on RowBasedKeyValueBatch. Will not spill but return 0.\n",
      "22/09/21 15:30:42 WARN RowBasedKeyValueBatch: Calling spill() on RowBasedKeyValueBatch. Will not spill but return 0.\n",
      "22/09/21 15:30:42 WARN RowBasedKeyValueBatch: Calling spill() on RowBasedKeyValueBatch. Will not spill but return 0.\n",
      "22/09/21 15:30:42 WARN RowBasedKeyValueBatch: Calling spill() on RowBasedKeyValueBatch. Will not spill but return 0.\n",
      "22/09/21 15:30:42 WARN RowBasedKeyValueBatch: Calling spill() on RowBasedKeyValueBatch. Will not spill but return 0.\n",
      "22/09/21 15:30:42 WARN RowBasedKeyValueBatch: Calling spill() on RowBasedKeyValueBatch. Will not spill but return 0.\n",
      "22/09/21 15:30:42 WARN RowBasedKeyValueBatch: Calling spill() on RowBasedKeyValueBatch. Will not spill but return 0.\n",
      "22/09/21 15:30:42 WARN RowBasedKeyValueBatch: Calling spill() on RowBasedKeyValueBatch. Will not spill but return 0.\n",
      "22/09/21 15:30:42 WARN RowBasedKeyValueBatch: Calling spill() on RowBasedKeyValueBatch. Will not spill but return 0.\n",
      "22/09/21 15:30:42 WARN RowBasedKeyValueBatch: Calling spill() on RowBasedKeyValueBatch. Will not spill but return 0.\n",
      "22/09/21 15:30:42 WARN RowBasedKeyValueBatch: Calling spill() on RowBasedKeyValueBatch. Will not spill but return 0.\n",
      "22/09/21 15:30:42 WARN RowBasedKeyValueBatch: Calling spill() on RowBasedKeyValueBatch. Will not spill but return 0.\n",
      "22/09/21 15:30:42 WARN RowBasedKeyValueBatch: Calling spill() on RowBasedKeyValueBatch. Will not spill but return 0.\n",
      "22/09/21 15:30:43 WARN RowBasedKeyValueBatch: Calling spill() on RowBasedKeyValueBatch. Will not spill but return 0.\n",
      "22/09/21 15:30:43 WARN RowBasedKeyValueBatch: Calling spill() on RowBasedKeyValueBatch. Will not spill but return 0.\n",
      "22/09/21 15:30:43 WARN RowBasedKeyValueBatch: Calling spill() on RowBasedKeyValueBatch. Will not spill but return 0.\n",
      "22/09/21 15:30:43 WARN RowBasedKeyValueBatch: Calling spill() on RowBasedKeyValueBatch. Will not spill but return 0.\n",
      "22/09/21 15:30:43 WARN RowBasedKeyValueBatch: Calling spill() on RowBasedKeyValueBatch. Will not spill but return 0.\n",
      "22/09/21 15:30:43 WARN RowBasedKeyValueBatch: Calling spill() on RowBasedKeyValueBatch. Will not spill but return 0.\n",
      "22/09/21 15:30:43 WARN RowBasedKeyValueBatch: Calling spill() on RowBasedKeyValueBatch. Will not spill but return 0.\n",
      "22/09/21 15:30:43 WARN RowBasedKeyValueBatch: Calling spill() on RowBasedKeyValueBatch. Will not spill but return 0.\n",
      "22/09/21 15:30:43 WARN RowBasedKeyValueBatch: Calling spill() on RowBasedKeyValueBatch. Will not spill but return 0.\n",
      "22/09/21 15:30:43 WARN RowBasedKeyValueBatch: Calling spill() on RowBasedKeyValueBatch. Will not spill but return 0.\n",
      "22/09/21 15:30:43 WARN RowBasedKeyValueBatch: Calling spill() on RowBasedKeyValueBatch. Will not spill but return 0.\n",
      "22/09/21 15:30:43 WARN RowBasedKeyValueBatch: Calling spill() on RowBasedKeyValueBatch. Will not spill but return 0.\n",
      "22/09/21 15:30:43 WARN RowBasedKeyValueBatch: Calling spill() on RowBasedKeyValueBatch. Will not spill but return 0.\n",
      "22/09/21 15:30:44 WARN RowBasedKeyValueBatch: Calling spill() on RowBasedKeyValueBatch. Will not spill but return 0.\n",
      "22/09/21 15:30:44 WARN RowBasedKeyValueBatch: Calling spill() on RowBasedKeyValueBatch. Will not spill but return 0.\n",
      "22/09/21 15:30:44 WARN RowBasedKeyValueBatch: Calling spill() on RowBasedKeyValueBatch. Will not spill but return 0.\n",
      "22/09/21 15:30:44 WARN RowBasedKeyValueBatch: Calling spill() on RowBasedKeyValueBatch. Will not spill but return 0.\n",
      "22/09/21 15:30:44 WARN RowBasedKeyValueBatch: Calling spill() on RowBasedKeyValueBatch. Will not spill but return 0.\n",
      "22/09/21 15:30:45 WARN RowBasedKeyValueBatch: Calling spill() on RowBasedKeyValueBatch. Will not spill but return 0.\n",
      "22/09/21 15:30:45 WARN RowBasedKeyValueBatch: Calling spill() on RowBasedKeyValueBatch. Will not spill but return 0.\n",
      "22/09/21 15:30:45 WARN RowBasedKeyValueBatch: Calling spill() on RowBasedKeyValueBatch. Will not spill but return 0.\n",
      "22/09/21 15:30:45 WARN RowBasedKeyValueBatch: Calling spill() on RowBasedKeyValueBatch. Will not spill but return 0.\n",
      "22/09/21 15:30:45 WARN RowBasedKeyValueBatch: Calling spill() on RowBasedKeyValueBatch. Will not spill but return 0.\n",
      "22/09/21 15:30:45 WARN RowBasedKeyValueBatch: Calling spill() on RowBasedKeyValueBatch. Will not spill but return 0.\n",
      "22/09/21 15:30:45 WARN RowBasedKeyValueBatch: Calling spill() on RowBasedKeyValueBatch. Will not spill but return 0.\n",
      "22/09/21 15:30:45 WARN TaskMemoryManager: Failed to allocate a page (16777216 bytes), try again.\n",
      "22/09/21 15:30:45 WARN TaskMemoryManager: Failed to allocate a page (16777216 bytes), try again.\n",
      "22/09/21 15:30:45 WARN RowBasedKeyValueBatch: Calling spill() on RowBasedKeyValueBatch. Will not spill but return 0.\n",
      "22/09/21 15:30:45 WARN RowBasedKeyValueBatch: Calling spill() on RowBasedKeyValueBatch. Will not spill but return 0.\n",
      "22/09/21 15:30:45 WARN RowBasedKeyValueBatch: Calling spill() on RowBasedKeyValueBatch. Will not spill but return 0.\n",
      "22/09/21 15:30:46 WARN RowBasedKeyValueBatch: Calling spill() on RowBasedKeyValueBatch. Will not spill but return 0.\n",
      "22/09/21 15:30:46 WARN RowBasedKeyValueBatch: Calling spill() on RowBasedKeyValueBatch. Will not spill but return 0.\n",
      "22/09/21 15:30:46 WARN RowBasedKeyValueBatch: Calling spill() on RowBasedKeyValueBatch. Will not spill but return 0.\n",
      "22/09/21 15:30:46 WARN RowBasedKeyValueBatch: Calling spill() on RowBasedKeyValueBatch. Will not spill but return 0.\n",
      "22/09/21 15:30:46 WARN RowBasedKeyValueBatch: Calling spill() on RowBasedKeyValueBatch. Will not spill but return 0.\n",
      "22/09/21 15:30:46 WARN RowBasedKeyValueBatch: Calling spill() on RowBasedKeyValueBatch. Will not spill but return 0.\n",
      "22/09/21 15:30:46 WARN RowBasedKeyValueBatch: Calling spill() on RowBasedKeyValueBatch. Will not spill but return 0.\n",
      "22/09/21 15:30:46 WARN RowBasedKeyValueBatch: Calling spill() on RowBasedKeyValueBatch. Will not spill but return 0.\n",
      "22/09/21 15:30:46 WARN RowBasedKeyValueBatch: Calling spill() on RowBasedKeyValueBatch. Will not spill but return 0.\n",
      "22/09/21 15:30:46 WARN RowBasedKeyValueBatch: Calling spill() on RowBasedKeyValueBatch. Will not spill but return 0.\n",
      "22/09/21 15:30:46 WARN RowBasedKeyValueBatch: Calling spill() on RowBasedKeyValueBatch. Will not spill but return 0.\n",
      "22/09/21 15:30:46 WARN RowBasedKeyValueBatch: Calling spill() on RowBasedKeyValueBatch. Will not spill but return 0.\n",
      "22/09/21 15:30:46 WARN RowBasedKeyValueBatch: Calling spill() on RowBasedKeyValueBatch. Will not spill but return 0.\n",
      "22/09/21 15:30:47 WARN RowBasedKeyValueBatch: Calling spill() on RowBasedKeyValueBatch. Will not spill but return 0.\n",
      "22/09/21 15:30:47 WARN RowBasedKeyValueBatch: Calling spill() on RowBasedKeyValueBatch. Will not spill but return 0.\n",
      "22/09/21 15:30:47 WARN RowBasedKeyValueBatch: Calling spill() on RowBasedKeyValueBatch. Will not spill but return 0.\n",
      "22/09/21 15:30:47 WARN RowBasedKeyValueBatch: Calling spill() on RowBasedKeyValueBatch. Will not spill but return 0.\n",
      "22/09/21 15:30:47 WARN RowBasedKeyValueBatch: Calling spill() on RowBasedKeyValueBatch. Will not spill but return 0.\n",
      "22/09/21 15:30:47 WARN RowBasedKeyValueBatch: Calling spill() on RowBasedKeyValueBatch. Will not spill but return 0.\n",
      "22/09/21 15:30:48 WARN RowBasedKeyValueBatch: Calling spill() on RowBasedKeyValueBatch. Will not spill but return 0.\n",
      "22/09/21 15:30:48 WARN RowBasedKeyValueBatch: Calling spill() on RowBasedKeyValueBatch. Will not spill but return 0.\n",
      "22/09/21 15:30:48 WARN RowBasedKeyValueBatch: Calling spill() on RowBasedKeyValueBatch. Will not spill but return 0.\n",
      "22/09/21 15:30:48 WARN RowBasedKeyValueBatch: Calling spill() on RowBasedKeyValueBatch. Will not spill but return 0.\n",
      "22/09/21 15:30:49 WARN DAGScheduler: Broadcasting large task binary with size 1828.7 KiB\n",
      "22/09/21 15:30:58 WARN DAGScheduler: Broadcasting large task binary with size 1857.6 KiB\n",
      "22/09/21 15:31:04 WARN DAGScheduler: Broadcasting large task binary with size 1856.8 KiB\n",
      "                                                                                \r"
     ]
    }
   ],
   "source": [
    "# get historical avg for consumer \n",
    "# consumer profile: avg_spending_per_order, no_store, no_order\n",
    "\n",
    "consumer_daily_agg_sdf = label_consumer_historical_transaction_sdf.groupBy([\"user_id\",\"order_datetime\"]).agg(\n",
    "    F.countDistinct(F.col('merchant_abn')).alias('no_store'),\n",
    "    F.countDistinct(F.col('order_id')).alias('no_order'),\n",
    "    F.avg(F.col(\"dollar_value\")).alias(\"avg_spending_per_order\"),    \n",
    ")\n",
    "\n",
    "consumer_agg_sdf = consumer_daily_agg_sdf.groupby('user_id').agg(\n",
    "    F.avg(F.col(\"no_store\")).alias(\"avg_daily_no_store\"),\n",
    "    F.stddev(F.col(\"no_store\")).alias(\"stddev_daily_no_store\"),\n",
    "    F.avg(F.col(\"no_order\")).alias(\"avg_daily_no_order\"),\n",
    "    F.stddev(F.col(\"no_order\")).alias(\"stddev_daily_no_order\"),\n",
    "    F.avg(F.col(\"avg_spending_per_order\")).alias(\"all_time_avg_spending_per_order\"),\n",
    "    F.stddev(F.col(\"avg_spending_per_order\")).alias(\"all_time_stddev_spending_per_order\"),\n",
    ") \n",
    "\n",
    "\n",
    "consumer_agg_df = consumer_agg_sdf.toPandas()"
   ]
  },
  {
   "cell_type": "code",
   "execution_count": 62,
   "metadata": {},
   "outputs": [
    {
     "data": {
      "text/html": [
       "<div>\n",
       "<style scoped>\n",
       "    .dataframe tbody tr th:only-of-type {\n",
       "        vertical-align: middle;\n",
       "    }\n",
       "\n",
       "    .dataframe tbody tr th {\n",
       "        vertical-align: top;\n",
       "    }\n",
       "\n",
       "    .dataframe thead th {\n",
       "        text-align: right;\n",
       "    }\n",
       "</style>\n",
       "<table border=\"1\" class=\"dataframe\">\n",
       "  <thead>\n",
       "    <tr style=\"text-align: right;\">\n",
       "      <th></th>\n",
       "      <th>user_id</th>\n",
       "      <th>avg_daily_no_store</th>\n",
       "      <th>stddev_daily_no_store</th>\n",
       "      <th>avg_daily_no_order</th>\n",
       "      <th>stddev_daily_no_order</th>\n",
       "      <th>all_time_avg_spending_per_order</th>\n",
       "      <th>all_time_stddev_spending_per_order</th>\n",
       "    </tr>\n",
       "  </thead>\n",
       "  <tbody>\n",
       "    <tr>\n",
       "      <th>0</th>\n",
       "      <td>11625</td>\n",
       "      <td>1.582173</td>\n",
       "      <td>0.824428</td>\n",
       "      <td>1.587744</td>\n",
       "      <td>0.827236</td>\n",
       "      <td>139.612291</td>\n",
       "      <td>211.252577</td>\n",
       "    </tr>\n",
       "  </tbody>\n",
       "</table>\n",
       "</div>"
      ],
      "text/plain": [
       "   user_id  avg_daily_no_store  stddev_daily_no_store  avg_daily_no_order  \\\n",
       "0    11625            1.582173               0.824428            1.587744   \n",
       "\n",
       "   stddev_daily_no_order  all_time_avg_spending_per_order  \\\n",
       "0               0.827236                       139.612291   \n",
       "\n",
       "   all_time_stddev_spending_per_order  \n",
       "0                          211.252577  "
      ]
     },
     "execution_count": 62,
     "metadata": {},
     "output_type": "execute_result"
    }
   ],
   "source": [
    "consumer_agg_df.head(1)"
   ]
  },
  {
   "cell_type": "code",
   "execution_count": 63,
   "metadata": {},
   "outputs": [
    {
     "name": "stderr",
     "output_type": "stream",
     "text": [
      "22/09/21 15:31:10 WARN DAGScheduler: Broadcasting large task binary with size 2.4 MiB\n",
      "22/09/21 15:31:11 WARN DAGScheduler: Broadcasting large task binary with size 2.2 MiB\n",
      "22/09/21 15:31:16 WARN DAGScheduler: Broadcasting large task binary with size 2.2 MiB\n",
      "                                                                                \r"
     ]
    }
   ],
   "source": [
    "# get the avg_spending_per_order, no_store, no_order from fraud data\n",
    "consumer_fraud_agg_sdf = label_consumer_fraud_transaction_sdf.groupBy([\"user_id\",\"order_datetime\"]).agg(\n",
    "    F.countDistinct(F.col('merchant_abn')).alias('no_store'),\n",
    "    F.countDistinct(F.col('order_id')).alias('no_order'),\n",
    "    F.avg(F.col(\"dollar_value\")).alias(\"avg_spending_per_order\"),  \n",
    "    F.mean(F.col(\"fraud_probability\")).alias(\"fraud_prob\")  # suggestions?\n",
    ")\n",
    "\n",
    "consumer_fraud_agg_df = consumer_fraud_agg_sdf.toPandas()"
   ]
  },
  {
   "cell_type": "code",
   "execution_count": 64,
   "metadata": {},
   "outputs": [
    {
     "data": {
      "text/html": [
       "<div>\n",
       "<style scoped>\n",
       "    .dataframe tbody tr th:only-of-type {\n",
       "        vertical-align: middle;\n",
       "    }\n",
       "\n",
       "    .dataframe tbody tr th {\n",
       "        vertical-align: top;\n",
       "    }\n",
       "\n",
       "    .dataframe thead th {\n",
       "        text-align: right;\n",
       "    }\n",
       "</style>\n",
       "<table border=\"1\" class=\"dataframe\">\n",
       "  <thead>\n",
       "    <tr style=\"text-align: right;\">\n",
       "      <th></th>\n",
       "      <th>user_id</th>\n",
       "      <th>order_datetime</th>\n",
       "      <th>no_store</th>\n",
       "      <th>no_order</th>\n",
       "      <th>avg_spending_per_order</th>\n",
       "      <th>fraud_prob</th>\n",
       "    </tr>\n",
       "  </thead>\n",
       "  <tbody>\n",
       "    <tr>\n",
       "      <th>0</th>\n",
       "      <td>8814</td>\n",
       "      <td>2021-11-29</td>\n",
       "      <td>6</td>\n",
       "      <td>6</td>\n",
       "      <td>374.408441</td>\n",
       "      <td>8.880672</td>\n",
       "    </tr>\n",
       "  </tbody>\n",
       "</table>\n",
       "</div>"
      ],
      "text/plain": [
       "   user_id order_datetime  no_store  no_order  avg_spending_per_order  \\\n",
       "0     8814     2021-11-29         6         6              374.408441   \n",
       "\n",
       "   fraud_prob  \n",
       "0    8.880672  "
      ]
     },
     "execution_count": 64,
     "metadata": {},
     "output_type": "execute_result"
    }
   ],
   "source": [
    "consumer_fraud_agg_df.head(1)"
   ]
  },
  {
   "cell_type": "code",
   "execution_count": 65,
   "metadata": {},
   "outputs": [
    {
     "data": {
      "text/html": [
       "<div>\n",
       "<style scoped>\n",
       "    .dataframe tbody tr th:only-of-type {\n",
       "        vertical-align: middle;\n",
       "    }\n",
       "\n",
       "    .dataframe tbody tr th {\n",
       "        vertical-align: top;\n",
       "    }\n",
       "\n",
       "    .dataframe thead th {\n",
       "        text-align: right;\n",
       "    }\n",
       "</style>\n",
       "<table border=\"1\" class=\"dataframe\">\n",
       "  <thead>\n",
       "    <tr style=\"text-align: right;\">\n",
       "      <th></th>\n",
       "      <th>user_id</th>\n",
       "      <th>avg_daily_no_store</th>\n",
       "      <th>stddev_daily_no_store</th>\n",
       "      <th>avg_daily_no_order</th>\n",
       "      <th>stddev_daily_no_order</th>\n",
       "      <th>all_time_avg_spending_per_order</th>\n",
       "      <th>all_time_stddev_spending_per_order</th>\n",
       "    </tr>\n",
       "  </thead>\n",
       "  <tbody>\n",
       "    <tr>\n",
       "      <th>0</th>\n",
       "      <td>11625</td>\n",
       "      <td>1.582173</td>\n",
       "      <td>0.824428</td>\n",
       "      <td>1.587744</td>\n",
       "      <td>0.827236</td>\n",
       "      <td>139.612291</td>\n",
       "      <td>211.252577</td>\n",
       "    </tr>\n",
       "  </tbody>\n",
       "</table>\n",
       "</div>"
      ],
      "text/plain": [
       "   user_id  avg_daily_no_store  stddev_daily_no_store  avg_daily_no_order  \\\n",
       "0    11625            1.582173               0.824428            1.587744   \n",
       "\n",
       "   stddev_daily_no_order  all_time_avg_spending_per_order  \\\n",
       "0               0.827236                       139.612291   \n",
       "\n",
       "   all_time_stddev_spending_per_order  \n",
       "0                          211.252577  "
      ]
     },
     "execution_count": 65,
     "metadata": {},
     "output_type": "execute_result"
    }
   ],
   "source": [
    "consumer_agg_df.head(1)"
   ]
  },
  {
   "cell_type": "code",
   "execution_count": 66,
   "metadata": {},
   "outputs": [],
   "source": [
    "# calculate the p vals\n",
    "\n",
    "from scipy import stats\n",
    "def two_side_p_val(mean, stddev, test):\n",
    "    norm_dist = stats.norm(loc=mean, scale=stddev)\n",
    "    if test > mean:\n",
    "        return 2* (1-norm_dist.cdf(test))\n",
    "    else:\n",
    "        return 2*norm_dist.cdf(test)\n",
    "\n",
    "def join_prob_p_val(mux, stdx, muy, stdy, testx, testy):\n",
    "    distx = stats.norm(loc=mux, scale=stdx)\n",
    "    disty = stats.norm(loc=muy, scale=stdy)\n",
    "    joint_prob = distx.cdf(testx) * disty.cdf(testy)\n",
    "    if joint_prob>0.5:\n",
    "        return 2* (1-joint_prob)\n",
    "    else:\n",
    "        return 2*joint_prob\n",
    "\n",
    "\n",
    "consumer_fraud_join_df = consumer_agg_df.merge(consumer_fraud_agg_df,on=\"user_id\")\n",
    "\n",
    "\n",
    "consumer_fraud_join_df[\"no_order_p_val\"] = consumer_fraud_join_df[['avg_daily_no_order','stddev_daily_no_order',\"no_order\"]].\\\n",
    "    apply(lambda row:two_side_p_val(row[0],row[1],row[2]),axis=1)\n",
    "\n",
    "consumer_fraud_join_df[\"no_store_p_val\"] = consumer_fraud_join_df[['avg_daily_no_store','stddev_daily_no_store',\"no_store\"]].\\\n",
    "    apply(lambda row:two_side_p_val(row[0],row[1],row[2]),axis=1)\n",
    "\n",
    "consumer_fraud_join_df[\"avg_spending_per_order_p_val\"] = consumer_fraud_join_df[['all_time_avg_spending_per_order','all_time_stddev_spending_per_order',\"avg_spending_per_order\"]].\\\n",
    "    apply(lambda row:two_side_p_val(row[0],row[1],row[2]),axis=1)"
   ]
  },
  {
   "cell_type": "code",
   "execution_count": 67,
   "metadata": {},
   "outputs": [
    {
     "data": {
      "text/plain": [
       "<matplotlib.collections.PathCollection at 0x7f8ef2e7fb20>"
      ]
     },
     "execution_count": 67,
     "metadata": {},
     "output_type": "execute_result"
    },
    {
     "data": {
      "image/png": "[encoded data removed]",
      "text/plain": [
       "<Figure size 432x288 with 1 Axes>"
      ]
     },
     "metadata": {
      "needs_background": "light"
     },
     "output_type": "display_data"
    }
   ],
   "source": [
    "# draw the graphs\n",
    "# bimodal, uniform distributed\n",
    "plt.scatter(consumer_fraud_join_df[\"no_order_p_val\"],consumer_fraud_join_df[\"fraud_prob\"])"
   ]
  },
  {
   "cell_type": "code",
   "execution_count": 68,
   "metadata": {},
   "outputs": [
    {
     "data": {
      "text/plain": [
       "<matplotlib.collections.PathCollection at 0x7f8ef4a33130>"
      ]
     },
     "execution_count": 68,
     "metadata": {},
     "output_type": "execute_result"
    },
    {
     "data": {
      "image/png": "[encoded data removed]",
      "text/plain": [
       "<Figure size 432x288 with 1 Axes>"
      ]
     },
     "metadata": {
      "needs_background": "light"
     },
     "output_type": "display_data"
    }
   ],
   "source": [
    "plt.scatter(consumer_fraud_join_df[\"no_store_p_val\"],consumer_fraud_join_df[\"fraud_prob\"])"
   ]
  },
  {
   "cell_type": "code",
   "execution_count": 69,
   "metadata": {},
   "outputs": [
    {
     "data": {
      "text/plain": [
       "<matplotlib.collections.PathCollection at 0x7f8ef18e0df0>"
      ]
     },
     "execution_count": 69,
     "metadata": {},
     "output_type": "execute_result"
    },
    {
     "data": {
      "image/png": "[encoded data removed]",
      "text/plain": [
       "<Figure size 432x288 with 1 Axes>"
      ]
     },
     "metadata": {
      "needs_background": "light"
     },
     "output_type": "display_data"
    }
   ],
   "source": [
    "plt.scatter(np.exp(consumer_fraud_join_df[\"avg_spending_per_order_p_val\"]),consumer_fraud_join_df[\"fraud_prob\"])"
   ]
  },
  {
   "cell_type": "code",
   "execution_count": 70,
   "metadata": {},
   "outputs": [],
   "source": [
    "consumer_fraud_join_df.to_csv(\"../data/curated/consumer_fraud_join.csv\")"
   ]
  },
  {
   "cell_type": "markdown",
   "metadata": {},
   "source": [
    "Similar to merchant data, the avg daily spending per order shows a nice negative trend. \n",
    "\n",
    "no Order and no stores shows a bimodal model, which shows possible artificiality of the data??"
   ]
  },
  {
   "cell_type": "markdown",
   "metadata": {},
   "source": [
    "### for team to discuss\n",
    "\n",
    "should we remove/discount transaction using the delta transaction file?"
   ]
  },
  {
   "cell_type": "markdown",
   "metadata": {},
   "source": [
    "# Semi Supervised SVM Idea\n",
    "output features: is_fraud for merchant and customer\n",
    "two svm model\n",
    "Threshold 50%? (which ever separates them the best cross validation)\n",
    "\n",
    "\n",
    "### Features\n",
    "#### Coming from merchant: \n",
    "no_order_p_val, no_customer_p_val, total_dollar_value_p_val\n",
    "\n",
    "#### Coming from customer(discounted by fraudulent probability):\n",
    "fraud_customer_share\n",
    "fraud_order_share\n",
    "fraud_dollar_amount_share\n",
    "\n",
    "### Method\n"
   ]
  },
  {
   "cell_type": "code",
   "execution_count": 71,
   "metadata": {},
   "outputs": [],
   "source": [
    "consumer = spark.read.parquet(\"../data/tables/consumer_user_details.parquet\")\n",
    "# consumer.toPandas() # 49999 distinct consumers\n",
    "\n"
   ]
  },
  {
   "cell_type": "code",
   "execution_count": 72,
   "metadata": {},
   "outputs": [],
   "source": [
    "consumer_transaction_sdf = transaction.join(consumer.select(\"user_id\"), on=\"user_id\")"
   ]
  }
 ],
 "metadata": {
  "interpreter": {
   "hash": "6a51a4850383970a9d31be9f5e2bfc463bf284d7bc14ecdb113d3b740d850690"
  },
  "kernelspec": {
   "display_name": "Python 3.9.7 ('ML')",
   "language": "python",
   "name": "python3"
  },
  "language_info": {
   "codemirror_mode": {
    "name": "ipython",
    "version": 3
   },
   "file_extension": ".py",
   "mimetype": "text/x-python",
   "name": "python",
   "nbconvert_exporter": "python",
   "pygments_lexer": "ipython3",
   "version": "3.9.7"
  },
  "orig_nbformat": 4
 },
 "nbformat": 4,
 "nbformat_minor": 2
}
