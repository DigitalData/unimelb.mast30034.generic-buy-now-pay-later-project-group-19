{
 "cells": [
  {
   "cell_type": "code",
   "execution_count": 2,
   "metadata": {},
   "outputs": [],
   "source": [
    "import pandas as pd\n",
    "import numpy as np\n",
    "import os\n",
    "import re\n",
    "\n",
    "# # Set working directory\n",
    "# if not \"/data/tables\" in os.getcwd():\n",
    "#     os.chdir(\"../data/tables\")\n",
    "\n",
    "from pyspark.sql import SparkSession\n",
    "from pyspark.shell import spark\n",
    "from pyspark.sql import SQLContext\n",
    "from pyspark.sql.functions import *\n",
    "import matplotlib.pyplot as plt\n",
    "\n",
    "spark = (\n",
    "    SparkSession.builder.appName(\"MAST30034 Project 2\")\n",
    "    .config(\"spark.sql.repl.eagerEval.enabled\", True) \n",
    "    .config(\"spark.sql.parquet.cacheMetadata\", \"true\")\n",
    "    .config(\"spark.sql.session.timeZone\", \"Etc/UTC\")\n",
    "    .config(\"spark.driver.memory\", \"4g\")\n",
    "    .getOrCreate()\n",
    ")"
   ]
  },
  {
   "cell_type": "code",
   "execution_count": 3,
   "metadata": {},
   "outputs": [
    {
     "name": "stderr",
     "output_type": "stream",
     "text": [
      "                                                                                \r"
     ]
    }
   ],
   "source": [
    "sdf = spark.read.parquet(\"../data/tables/transactions_20220228_20220828_snapshot\")"
   ]
  },
  {
   "cell_type": "code",
   "execution_count": 4,
   "metadata": {},
   "outputs": [
    {
     "name": "stdout",
     "output_type": "stream",
     "text": [
      "root\n",
      " |-- user_id: long (nullable = true)\n",
      " |-- merchant_abn: long (nullable = true)\n",
      " |-- dollar_value: double (nullable = true)\n",
      " |-- order_id: string (nullable = true)\n",
      " |-- order_datetime: date (nullable = true)\n",
      "\n"
     ]
    }
   ],
   "source": [
    "sdf.printSchema()"
   ]
  },
  {
   "cell_type": "code",
   "execution_count": 5,
   "metadata": {},
   "outputs": [],
   "source": [
    "consumer_fraud_df = pd.read_csv(\"../data/tables/consumer_fraud_probability.csv\")\n",
    "merchant_fraud_df = pd.read_csv(\"../data/tables/merchant_fraud_probability.csv\")"
   ]
  },
  {
   "cell_type": "code",
   "execution_count": 6,
   "metadata": {},
   "outputs": [
    {
     "data": {
      "text/html": [
       "<div>\n",
       "<style scoped>\n",
       "    .dataframe tbody tr th:only-of-type {\n",
       "        vertical-align: middle;\n",
       "    }\n",
       "\n",
       "    .dataframe tbody tr th {\n",
       "        vertical-align: top;\n",
       "    }\n",
       "\n",
       "    .dataframe thead th {\n",
       "        text-align: right;\n",
       "    }\n",
       "</style>\n",
       "<table border=\"1\" class=\"dataframe\">\n",
       "  <thead>\n",
       "    <tr style=\"text-align: right;\">\n",
       "      <th></th>\n",
       "      <th>user_id</th>\n",
       "      <th>order_datetime</th>\n",
       "      <th>fraud_probability</th>\n",
       "    </tr>\n",
       "  </thead>\n",
       "  <tbody>\n",
       "    <tr>\n",
       "      <th>0</th>\n",
       "      <td>6228</td>\n",
       "      <td>2021-12-19</td>\n",
       "      <td>97.629808</td>\n",
       "    </tr>\n",
       "    <tr>\n",
       "      <th>1</th>\n",
       "      <td>21419</td>\n",
       "      <td>2021-12-10</td>\n",
       "      <td>99.247380</td>\n",
       "    </tr>\n",
       "    <tr>\n",
       "      <th>2</th>\n",
       "      <td>5606</td>\n",
       "      <td>2021-10-17</td>\n",
       "      <td>84.058250</td>\n",
       "    </tr>\n",
       "    <tr>\n",
       "      <th>3</th>\n",
       "      <td>3101</td>\n",
       "      <td>2021-04-17</td>\n",
       "      <td>91.421921</td>\n",
       "    </tr>\n",
       "    <tr>\n",
       "      <th>4</th>\n",
       "      <td>22239</td>\n",
       "      <td>2021-10-19</td>\n",
       "      <td>94.703425</td>\n",
       "    </tr>\n",
       "    <tr>\n",
       "      <th>5</th>\n",
       "      <td>16556</td>\n",
       "      <td>2022-02-20</td>\n",
       "      <td>89.656633</td>\n",
       "    </tr>\n",
       "    <tr>\n",
       "      <th>6</th>\n",
       "      <td>10278</td>\n",
       "      <td>2021-09-28</td>\n",
       "      <td>83.591367</td>\n",
       "    </tr>\n",
       "    <tr>\n",
       "      <th>7</th>\n",
       "      <td>15790</td>\n",
       "      <td>2021-12-30</td>\n",
       "      <td>71.770659</td>\n",
       "    </tr>\n",
       "    <tr>\n",
       "      <th>8</th>\n",
       "      <td>5233</td>\n",
       "      <td>2021-08-29</td>\n",
       "      <td>85.871233</td>\n",
       "    </tr>\n",
       "    <tr>\n",
       "      <th>9</th>\n",
       "      <td>230</td>\n",
       "      <td>2021-08-28</td>\n",
       "      <td>86.283288</td>\n",
       "    </tr>\n",
       "  </tbody>\n",
       "</table>\n",
       "</div>"
      ],
      "text/plain": [
       "   user_id order_datetime  fraud_probability\n",
       "0     6228     2021-12-19          97.629808\n",
       "1    21419     2021-12-10          99.247380\n",
       "2     5606     2021-10-17          84.058250\n",
       "3     3101     2021-04-17          91.421921\n",
       "4    22239     2021-10-19          94.703425\n",
       "5    16556     2022-02-20          89.656633\n",
       "6    10278     2021-09-28          83.591367\n",
       "7    15790     2021-12-30          71.770659\n",
       "8     5233     2021-08-29          85.871233\n",
       "9      230     2021-08-28          86.283288"
      ]
     },
     "execution_count": 6,
     "metadata": {},
     "output_type": "execute_result"
    }
   ],
   "source": [
    "consumer_fraud_df.head(10)"
   ]
  },
  {
   "cell_type": "code",
   "execution_count": 7,
   "metadata": {},
   "outputs": [
    {
     "data": {
      "text/plain": [
       "114"
      ]
     },
     "execution_count": 7,
     "metadata": {},
     "output_type": "execute_result"
    }
   ],
   "source": [
    "#merchant_fraud_df.head(20)\n",
    "merchant_fraud_df[merchant_fraud_df[\"merchant_abn\"] == 19492220327]\n",
    "merchant_fraud_df.shape[0]"
   ]
  },
  {
   "cell_type": "markdown",
   "metadata": {},
   "source": [
    "## Merchant Fraud\n",
    "Check if there is missing data"
   ]
  },
  {
   "cell_type": "code",
   "execution_count": 8,
   "metadata": {},
   "outputs": [
    {
     "name": "stdout",
     "output_type": "stream",
     "text": [
      "root\n",
      " |-- name: string (nullable = true)\n",
      " |-- tags: string (nullable = true)\n",
      " |-- merchant_abn: long (nullable = true)\n",
      "\n"
     ]
    }
   ],
   "source": [
    "merchant_sdf = spark.read.parquet(\"../data/tables/tbl_merchants.parquet\")\n",
    "merchant_sdf.printSchema()\n",
    "merchant_df = merchant_sdf.toPandas()"
   ]
  },
  {
   "cell_type": "code",
   "execution_count": 9,
   "metadata": {},
   "outputs": [
    {
     "data": {
      "text/plain": [
       "48"
      ]
     },
     "execution_count": 9,
     "metadata": {},
     "output_type": "execute_result"
    }
   ],
   "source": [
    "#merchant_sdf.select(\"merchant_abn\").distinct().count()\n",
    "# 4026 entries distince values of merchant\n",
    "\n",
    "fraud_union = set(merchant_fraud_df[\"merchant_abn\"].unique()) # 61 unique cases\n",
    "all_union = set(merchant_df[\"merchant_abn\"].unique())\n",
    "len(all_union.intersection(fraud_union))\n",
    "\n"
   ]
  },
  {
   "cell_type": "markdown",
   "metadata": {},
   "source": [
    "Only 48/4026 merchants have fraud data\n",
    "13/61 of the fraud data cannot be matched with any merchant abn"
   ]
  },
  {
   "cell_type": "markdown",
   "metadata": {},
   "source": [
    "Try merge the merchant fraud data with transactions on order date + abn ????"
   ]
  },
  {
   "cell_type": "markdown",
   "metadata": {},
   "source": [
    "## Costumer Fraud"
   ]
  },
  {
   "cell_type": "code",
   "execution_count": 10,
   "metadata": {},
   "outputs": [
    {
     "data": {
      "text/html": [
       "<div>\n",
       "<style scoped>\n",
       "    .dataframe tbody tr th:only-of-type {\n",
       "        vertical-align: middle;\n",
       "    }\n",
       "\n",
       "    .dataframe tbody tr th {\n",
       "        vertical-align: top;\n",
       "    }\n",
       "\n",
       "    .dataframe thead th {\n",
       "        text-align: right;\n",
       "    }\n",
       "</style>\n",
       "<table border=\"1\" class=\"dataframe\">\n",
       "  <thead>\n",
       "    <tr style=\"text-align: right;\">\n",
       "      <th></th>\n",
       "      <th>user_id</th>\n",
       "      <th>consumer_id</th>\n",
       "    </tr>\n",
       "  </thead>\n",
       "  <tbody>\n",
       "    <tr>\n",
       "      <th>0</th>\n",
       "      <td>1</td>\n",
       "      <td>1195503</td>\n",
       "    </tr>\n",
       "    <tr>\n",
       "      <th>1</th>\n",
       "      <td>2</td>\n",
       "      <td>179208</td>\n",
       "    </tr>\n",
       "    <tr>\n",
       "      <th>2</th>\n",
       "      <td>3</td>\n",
       "      <td>1194530</td>\n",
       "    </tr>\n",
       "    <tr>\n",
       "      <th>3</th>\n",
       "      <td>4</td>\n",
       "      <td>154128</td>\n",
       "    </tr>\n",
       "    <tr>\n",
       "      <th>4</th>\n",
       "      <td>5</td>\n",
       "      <td>712975</td>\n",
       "    </tr>\n",
       "  </tbody>\n",
       "</table>\n",
       "</div>"
      ],
      "text/plain": [
       "   user_id  consumer_id\n",
       "0        1      1195503\n",
       "1        2       179208\n",
       "2        3      1194530\n",
       "3        4       154128\n",
       "4        5       712975"
      ]
     },
     "execution_count": 10,
     "metadata": {},
     "output_type": "execute_result"
    }
   ],
   "source": [
    "costumer_sdf = spark.read.parquet(\"../data/tables/consumer_user_details.parquet\")\n",
    "costumer_df = costumer_sdf.toPandas()\n",
    "costumer_df.head()"
   ]
  },
  {
   "cell_type": "code",
   "execution_count": 11,
   "metadata": {},
   "outputs": [],
   "source": [
    "# costumer_sdf.distinct().count() # 499999 distinc values"
   ]
  },
  {
   "cell_type": "code",
   "execution_count": 12,
   "metadata": {},
   "outputs": [],
   "source": [
    "from pyspark.sql import functions as F\n",
    "transaction_df1 = spark.read.parquet(\"../data/tables/transactions_20210228_20210827_snapshot\")\n",
    "transaction_df2 = spark.read.parquet(\"../data/tables/transactions_20210828_20220227_snapshot\")\n",
    "transaction_df3 = spark.read.parquet(\"../data/tables/transactions_20220228_20220828_snapshot\")\n",
    "transaction = transaction_df1.union(transaction_df2).union(transaction_df3)\n",
    "\n",
    "transaction = transaction.withColumn('log(dollar_value)',\n",
    "                                     F.log(F.col('dollar_value')))\n",
    "# lwr, upr = transaction.approxQuantile('log(dollar_value)', [0.25, 0.75], 0.001)\n",
    "# iqr = upr - lwr\n",
    "# lwr_bound = lwr - 1.5 * iqr\n",
    "# upr_bound = upr + 1.5 * iqr\n",
    "# lwr_bound, upr_bound = np.exp(lwr_bound), np.exp(upr_bound)\n",
    "\n",
    "# new_transaction = transaction.where(\n",
    "#     (F.col('dollar_value') >= lwr_bound) &\n",
    "#     (F.col('dollar_value') <= upr_bound)\n",
    "# )\n",
    "merchant = spark.read.parquet(\"../data/tables/tbl_merchants.parquet\")\n",
    "merchant_abn = merchant.toPandas()['merchant_abn'].unique().tolist()\n",
    "filtered_transaction = transaction.where(F.col('merchant_abn').isin(merchant_abn))\n",
    "merchant_daily_transaction = filtered_transaction.groupby(['merchant_abn','order_datetime','user_id']).agg(\n",
    "    F.countDistinct(F.col('order_id')).alias('no_order'),\n",
    "    F.sum(F.col('dollar_value')).alias('dollar_amount')\n",
    ") \n"
   ]
  },
  {
   "cell_type": "code",
   "execution_count": 13,
   "metadata": {},
   "outputs": [],
   "source": [
    "#merchant_daily_transaction.count() # 13584371"
   ]
  },
  {
   "cell_type": "code",
   "execution_count": 14,
   "metadata": {},
   "outputs": [
    {
     "name": "stderr",
     "output_type": "stream",
     "text": [
      "22/09/14 20:49:38 WARN RowBasedKeyValueBatch: Calling spill() on RowBasedKeyValueBatch. Will not spill but return 0.\n",
      "22/09/14 20:49:38 WARN RowBasedKeyValueBatch: Calling spill() on RowBasedKeyValueBatch. Will not spill but return 0.\n",
      "22/09/14 20:49:38 WARN RowBasedKeyValueBatch: Calling spill() on RowBasedKeyValueBatch. Will not spill but return 0.\n",
      "22/09/14 20:49:38 WARN RowBasedKeyValueBatch: Calling spill() on RowBasedKeyValueBatch. Will not spill but return 0.\n",
      "22/09/14 20:49:38 WARN RowBasedKeyValueBatch: Calling spill() on RowBasedKeyValueBatch. Will not spill but return 0.\n",
      "22/09/14 20:49:38 WARN RowBasedKeyValueBatch: Calling spill() on RowBasedKeyValueBatch. Will not spill but return 0.\n",
      "22/09/14 20:49:38 WARN RowBasedKeyValueBatch: Calling spill() on RowBasedKeyValueBatch. Will not spill but return 0.\n",
      "22/09/14 20:49:38 WARN RowBasedKeyValueBatch: Calling spill() on RowBasedKeyValueBatch. Will not spill but return 0.\n",
      "22/09/14 20:49:38 WARN RowBasedKeyValueBatch: Calling spill() on RowBasedKeyValueBatch. Will not spill but return 0.\n",
      "22/09/14 20:49:39 WARN RowBasedKeyValueBatch: Calling spill() on RowBasedKeyValueBatch. Will not spill but return 0.\n",
      "22/09/14 20:49:41 WARN RowBasedKeyValueBatch: Calling spill() on RowBasedKeyValueBatch. Will not spill but return 0.\n",
      "22/09/14 20:49:41 WARN RowBasedKeyValueBatch: Calling spill() on RowBasedKeyValueBatch. Will not spill but return 0.\n",
      "22/09/14 20:49:41 WARN RowBasedKeyValueBatch: Calling spill() on RowBasedKeyValueBatch. Will not spill but return 0.\n",
      "22/09/14 20:49:41 WARN RowBasedKeyValueBatch: Calling spill() on RowBasedKeyValueBatch. Will not spill but return 0.\n",
      "22/09/14 20:49:41 WARN RowBasedKeyValueBatch: Calling spill() on RowBasedKeyValueBatch. Will not spill but return 0.\n",
      "22/09/14 20:49:41 WARN RowBasedKeyValueBatch: Calling spill() on RowBasedKeyValueBatch. Will not spill but return 0.\n",
      "22/09/14 20:49:41 WARN RowBasedKeyValueBatch: Calling spill() on RowBasedKeyValueBatch. Will not spill but return 0.\n",
      "22/09/14 20:49:41 WARN RowBasedKeyValueBatch: Calling spill() on RowBasedKeyValueBatch. Will not spill but return 0.\n",
      "22/09/14 20:49:42 WARN RowBasedKeyValueBatch: Calling spill() on RowBasedKeyValueBatch. Will not spill but return 0.\n",
      "22/09/14 20:49:42 WARN RowBasedKeyValueBatch: Calling spill() on RowBasedKeyValueBatch. Will not spill but return 0.\n",
      "22/09/14 20:49:43 WARN RowBasedKeyValueBatch: Calling spill() on RowBasedKeyValueBatch. Will not spill but return 0.\n",
      "22/09/14 20:49:43 WARN RowBasedKeyValueBatch: Calling spill() on RowBasedKeyValueBatch. Will not spill but return 0.\n",
      "22/09/14 20:49:43 WARN RowBasedKeyValueBatch: Calling spill() on RowBasedKeyValueBatch. Will not spill but return 0.\n",
      "22/09/14 20:49:43 WARN RowBasedKeyValueBatch: Calling spill() on RowBasedKeyValueBatch. Will not spill but return 0.\n",
      "22/09/14 20:49:43 WARN RowBasedKeyValueBatch: Calling spill() on RowBasedKeyValueBatch. Will not spill but return 0.\n",
      "22/09/14 20:49:43 WARN RowBasedKeyValueBatch: Calling spill() on RowBasedKeyValueBatch. Will not spill but return 0.\n",
      "22/09/14 20:49:43 WARN RowBasedKeyValueBatch: Calling spill() on RowBasedKeyValueBatch. Will not spill but return 0.\n",
      "22/09/14 20:49:43 WARN RowBasedKeyValueBatch: Calling spill() on RowBasedKeyValueBatch. Will not spill but return 0.\n",
      "22/09/14 20:49:43 WARN RowBasedKeyValueBatch: Calling spill() on RowBasedKeyValueBatch. Will not spill but return 0.\n",
      "22/09/14 20:49:43 WARN RowBasedKeyValueBatch: Calling spill() on RowBasedKeyValueBatch. Will not spill but return 0.\n",
      "22/09/14 20:49:44 WARN RowBasedKeyValueBatch: Calling spill() on RowBasedKeyValueBatch. Will not spill but return 0.\n",
      "22/09/14 20:49:44 WARN RowBasedKeyValueBatch: Calling spill() on RowBasedKeyValueBatch. Will not spill but return 0.\n",
      "22/09/14 20:49:44 WARN RowBasedKeyValueBatch: Calling spill() on RowBasedKeyValueBatch. Will not spill but return 0.\n",
      "22/09/14 20:49:44 WARN RowBasedKeyValueBatch: Calling spill() on RowBasedKeyValueBatch. Will not spill but return 0.\n",
      "22/09/14 20:49:44 WARN RowBasedKeyValueBatch: Calling spill() on RowBasedKeyValueBatch. Will not spill but return 0.\n",
      "22/09/14 20:49:44 WARN RowBasedKeyValueBatch: Calling spill() on RowBasedKeyValueBatch. Will not spill but return 0.\n",
      "                                                                                \r"
     ]
    },
    {
     "data": {
      "text/plain": [
       "Row(merchant_abn=13839274306, order_datetime=datetime.date(2021, 8, 20), user_id=3968, no_order=1, dollar_amount=88.4084826726033)"
      ]
     },
     "execution_count": 14,
     "metadata": {},
     "output_type": "execute_result"
    }
   ],
   "source": [
    "merchant_daily_transaction.head()"
   ]
  },
  {
   "cell_type": "code",
   "execution_count": 15,
   "metadata": {},
   "outputs": [
    {
     "name": "stderr",
     "output_type": "stream",
     "text": [
      "                                                                                \r"
     ]
    },
    {
     "data": {
      "text/html": [
       "<table border='1'>\n",
       "<tr><th>max(no_order)</th></tr>\n",
       "<tr><td>3</td></tr>\n",
       "</table>\n"
      ],
      "text/plain": [
       "+-------------+\n",
       "|max(no_order)|\n",
       "+-------------+\n",
       "|            3|\n",
       "+-------------+"
      ]
     },
     "execution_count": 15,
     "metadata": {},
     "output_type": "execute_result"
    }
   ],
   "source": [
    "merchant_daily_transaction.select(max ('no_order'))\n",
    "\n",
    "# MAX order is 3 "
   ]
  },
  {
   "cell_type": "markdown",
   "metadata": {},
   "source": [
    "The granularity level of the analysis is day level."
   ]
  },
  {
   "cell_type": "code",
   "execution_count": 16,
   "metadata": {},
   "outputs": [
    {
     "name": "stderr",
     "output_type": "stream",
     "text": [
      "                                                                                \r"
     ]
    },
    {
     "data": {
      "text/html": [
       "<table border='1'>\n",
       "<tr><th>merchant_abn</th><th>order_datetime</th><th>user_id</th><th>no_order</th><th>dollar_amount</th></tr>\n",
       "<tr><td>35575706403</td><td>2022-02-20</td><td>16556</td><td>1</td><td>50209.505438673325</td></tr>\n",
       "</table>\n"
      ],
      "text/plain": [
       "+------------+--------------+-------+--------+------------------+\n",
       "|merchant_abn|order_datetime|user_id|no_order|     dollar_amount|\n",
       "+------------+--------------+-------+--------+------------------+\n",
       "| 35575706403|    2022-02-20|  16556|       1|50209.505438673325|\n",
       "+------------+--------------+-------+--------+------------------+"
      ]
     },
     "execution_count": 16,
     "metadata": {},
     "output_type": "execute_result"
    }
   ],
   "source": [
    "# entry 5 has high fraud rate, investigate this instance\n",
    "# 82999039227,2021-12-19\n",
    "# 35575706403,2022-02-20 entrie 43 \n",
    "# 97884414539,2021-10-19,89.79919971536573\n",
    "\n",
    "import datetime\n",
    "merchant_daily_transaction.where(\n",
    "   # != 0 is fine, but let's also take into account some more realistic filters\n",
    "   (F.col('merchant_abn') == 35575706403)\n",
    "    & (F.col('order_datetime') == \"2022-02-20\")\n",
    ")\n",
    "\n",
    "# print(35575706403 in merchant_abn)\n"
   ]
  },
  {
   "cell_type": "code",
   "execution_count": 17,
   "metadata": {},
   "outputs": [
    {
     "data": {
      "text/html": [
       "<table border='1'>\n",
       "<tr><th>merchant_abn</th><th>order_datetime</th><th>user_id</th><th>no_order</th><th>dollar_amount</th></tr>\n",
       "<tr><td>19492220327</td><td>2021-11-28</td><td>21706</td><td>1</td><td>1903.7191517251547</td></tr>\n",
       "</table>\n"
      ],
      "text/plain": [
       "+------------+--------------+-------+--------+------------------+\n",
       "|merchant_abn|order_datetime|user_id|no_order|     dollar_amount|\n",
       "+------------+--------------+-------+--------+------------------+\n",
       "| 19492220327|    2021-11-28|  21706|       1|1903.7191517251547|\n",
       "+------------+--------------+-------+--------+------------------+"
      ]
     },
     "execution_count": 17,
     "metadata": {},
     "output_type": "execute_result"
    }
   ],
   "source": [
    "merchant_daily_transaction.where(\n",
    "   # != 0 is fine, but let's also take into account some more realistic filters\n",
    "   (F.col('merchant_abn') == 19492220327)\n",
    "   # & (F.col('order_datetime') == datetime.date(2021, 11, 28)\n",
    "   & (F.col('user_id') == 21706)\n",
    ")"
   ]
  },
  {
   "cell_type": "code",
   "execution_count": 18,
   "metadata": {},
   "outputs": [
    {
     "name": "stderr",
     "output_type": "stream",
     "text": [
      "                                                                                \r"
     ]
    },
    {
     "data": {
      "text/html": [
       "<table border='1'>\n",
       "<tr><th>merchant_abn</th><th>order_datetime</th><th>user_id</th><th>no_order</th><th>dollar_amount</th></tr>\n",
       "<tr><td>27093785141</td><td>2021-08-19</td><td>21706</td><td>1</td><td>297.1060630006161</td></tr>\n",
       "<tr><td>32656335530</td><td>2021-05-15</td><td>21706</td><td>1</td><td>45.95924058414554</td></tr>\n",
       "<tr><td>14639489823</td><td>2022-05-10</td><td>21706</td><td>1</td><td>73.82891944981822</td></tr>\n",
       "<tr><td>79269463423</td><td>2022-06-10</td><td>21706</td><td>1</td><td>192.44624685911833</td></tr>\n",
       "<tr><td>46804135891</td><td>2021-11-12</td><td>21706</td><td>1</td><td>15.1040241409343</td></tr>\n",
       "<tr><td>93561083066</td><td>2021-09-04</td><td>21706</td><td>1</td><td>71.9166019734691</td></tr>\n",
       "<tr><td>86578477987</td><td>2022-06-27</td><td>21706</td><td>1</td><td>25.86363096512127</td></tr>\n",
       "<tr><td>77013874702</td><td>2022-05-03</td><td>21706</td><td>1</td><td>3.684141987613139</td></tr>\n",
       "<tr><td>92207241352</td><td>2021-08-22</td><td>21706</td><td>1</td><td>75.9671958496898</td></tr>\n",
       "<tr><td>63465140133</td><td>2022-08-20</td><td>21706</td><td>1</td><td>8.25922769029275</td></tr>\n",
       "<tr><td>54550134954</td><td>2021-05-15</td><td>21706</td><td>1</td><td>57.36112616050551</td></tr>\n",
       "<tr><td>35223308778</td><td>2022-04-27</td><td>21706</td><td>1</td><td>395.0138930903732</td></tr>\n",
       "<tr><td>89726005175</td><td>2021-10-30</td><td>21706</td><td>1</td><td>43.023842796586116</td></tr>\n",
       "<tr><td>24852446429</td><td>2022-03-13</td><td>21706</td><td>1</td><td>41.351990543737564</td></tr>\n",
       "<tr><td>74046727484</td><td>2021-12-20</td><td>21706</td><td>1</td><td>85.73786802597947</td></tr>\n",
       "<tr><td>77013874702</td><td>2021-06-08</td><td>21706</td><td>1</td><td>18.24439627141508</td></tr>\n",
       "<tr><td>63290521567</td><td>2021-06-29</td><td>21706</td><td>1</td><td>45.20294293448521</td></tr>\n",
       "<tr><td>90578415511</td><td>2022-09-26</td><td>21706</td><td>1</td><td>140.48571917370944</td></tr>\n",
       "<tr><td>48534649627</td><td>2021-10-13</td><td>21706</td><td>1</td><td>152.14570343252728</td></tr>\n",
       "<tr><td>67392173147</td><td>2021-03-20</td><td>21706</td><td>1</td><td>210.99176183319216</td></tr>\n",
       "</table>\n",
       "only showing top 20 rows\n"
      ],
      "text/plain": [
       "+------------+--------------+-------+--------+------------------+\n",
       "|merchant_abn|order_datetime|user_id|no_order|     dollar_amount|\n",
       "+------------+--------------+-------+--------+------------------+\n",
       "| 27093785141|    2021-08-19|  21706|       1| 297.1060630006161|\n",
       "| 32656335530|    2021-05-15|  21706|       1| 45.95924058414554|\n",
       "| 14639489823|    2022-05-10|  21706|       1| 73.82891944981822|\n",
       "| 79269463423|    2022-06-10|  21706|       1|192.44624685911833|\n",
       "| 46804135891|    2021-11-12|  21706|       1|  15.1040241409343|\n",
       "| 93561083066|    2021-09-04|  21706|       1|  71.9166019734691|\n",
       "| 86578477987|    2022-06-27|  21706|       1| 25.86363096512127|\n",
       "| 77013874702|    2022-05-03|  21706|       1| 3.684141987613139|\n",
       "| 92207241352|    2021-08-22|  21706|       1|  75.9671958496898|\n",
       "| 63465140133|    2022-08-20|  21706|       1|  8.25922769029275|\n",
       "| 54550134954|    2021-05-15|  21706|       1| 57.36112616050551|\n",
       "| 35223308778|    2022-04-27|  21706|       1| 395.0138930903732|\n",
       "| 89726005175|    2021-10-30|  21706|       1|43.023842796586116|\n",
       "| 24852446429|    2022-03-13|  21706|       1|41.351990543737564|\n",
       "| 74046727484|    2021-12-20|  21706|       1| 85.73786802597947|\n",
       "| 77013874702|    2021-06-08|  21706|       1| 18.24439627141508|\n",
       "| 63290521567|    2021-06-29|  21706|       1| 45.20294293448521|\n",
       "| 90578415511|    2022-09-26|  21706|       1|140.48571917370944|\n",
       "| 48534649627|    2021-10-13|  21706|       1|152.14570343252728|\n",
       "| 67392173147|    2021-03-20|  21706|       1|210.99176183319216|\n",
       "+------------+--------------+-------+--------+------------------+\n",
       "only showing top 20 rows"
      ]
     },
     "execution_count": 18,
     "metadata": {},
     "output_type": "execute_result"
    }
   ],
   "source": [
    "merchant_daily_transaction.where(\n",
    "   # != 0 is fine, but let's also take into account some more realistic filters\n",
    "#    (F.col('merchant_abn') == 19492220327)\n",
    "   # & (F.col('order_datetime') == datetime.date(2021, 11, 28)\n",
    "    (F.col('user_id') == 21706)\n",
    ")"
   ]
  },
  {
   "cell_type": "code",
   "execution_count": 19,
   "metadata": {},
   "outputs": [
    {
     "name": "stderr",
     "output_type": "stream",
     "text": [
      "                                                                                \r"
     ]
    },
    {
     "name": "stdout",
     "output_type": "stream",
     "text": [
      "0        250.808535\n",
      "1        408.057444\n",
      "2        438.018593\n",
      "3        445.260618\n",
      "4        481.082374\n",
      "           ...     \n",
      "819    34199.004178\n",
      "820    34926.955075\n",
      "821    35535.112447\n",
      "822    38156.497147\n",
      "823    43409.810489\n",
      "Name: dollar_amount, Length: 824, dtype: float64\n"
     ]
    },
    {
     "data": {
      "image/png": "[encoded data removed]",
      "text/plain": [
       "<Figure size 432x288 with 1 Axes>"
      ]
     },
     "metadata": {
      "needs_background": "light"
     },
     "output_type": "display_data"
    }
   ],
   "source": [
    "test_dollar_amout = merchant_daily_transaction.where(\n",
    "   # != 0 is fine, but let's also take into account some more realistic filters\n",
    "   (F.col('merchant_abn') == 19492220327)\n",
    "   # & (F.col('order_datetime') == datetime.date(2021, 11, 28)\n",
    "#    & (F.col('user_id') == 21706)\n",
    ").select(\"dollar_amount\").toPandas()\n",
    "\n",
    "import matplotlib.pyplot as plt\n",
    "\n",
    "\n",
    "\n",
    "sorted = test_dollar_amout.sort_values(by=\"dollar_amount\").reset_index()[\"dollar_amount\"]\n",
    "# plt.plot(sorted)\n",
    "plt.hist(sorted) # mixure model?\n",
    "# print(test_dollar_amout.mean())\n",
    "# print(test_dollar_amout.std())\n",
    "print(sorted)"
   ]
  },
  {
   "cell_type": "markdown",
   "metadata": {},
   "source": [
    "# transaction level fraud detection\n",
    "### idea 1 \n",
    "\n",
    "\n",
    "fit a kmeans model to each merchant using ADK(automatic determination of Kmeans. granularity level is month since sku is unlikely to change too often), find std of each cluster, each cluster is seen as a normal distribution. \n",
    "\n",
    "When new transaction data come, first sort it to one cluster, then use quantile method of normal to determine the probability of it being a fraud.\n",
    "\n",
    "\n",
    "\n",
    "### idea 2\n",
    "\n",
    "Based on bayesian statistic. Fit a distribution (start with poisson) to every merchant. Use quantile method \n"
   ]
  },
  {
   "cell_type": "code",
   "execution_count": 20,
   "metadata": {},
   "outputs": [
    {
     "name": "stderr",
     "output_type": "stream",
     "text": [
      "                                                                                \r"
     ]
    },
    {
     "data": {
      "text/html": [
       "<table border='1'>\n",
       "<tr><th>merchant_abn</th><th>order_datetime</th><th>user_id</th><th>no_order</th><th>dollar_amount</th></tr>\n",
       "<tr><td>81776569986</td><td>2021-03-03</td><td>6228</td><td>1</td><td>1278.315571140402</td></tr>\n",
       "</table>\n"
      ],
      "text/plain": [
       "+------------+--------------+-------+--------+-----------------+\n",
       "|merchant_abn|order_datetime|user_id|no_order|    dollar_amount|\n",
       "+------------+--------------+-------+--------+-----------------+\n",
       "| 81776569986|    2021-03-03|   6228|       1|1278.315571140402|\n",
       "+------------+--------------+-------+--------+-----------------+"
      ]
     },
     "execution_count": 20,
     "metadata": {},
     "output_type": "execute_result"
    }
   ],
   "source": [
    "# user_id,order_datetime,fraud_probability\n",
    "# 6228,2021-12-19,97.6298077657765 investigate this\n",
    "\n",
    "merchant_daily_transaction.where(\n",
    "   # != 0 is fine, but let's also take into account some more realistic filters\n",
    "   (F.col('user_id') == 6228)\n",
    "   # & (F.col('order_datetime') == datetime.date(2021, 11, 28)\n",
    "   # &\n",
    "   # (F.col('order_datetime') == datetime.date(2021, 12, 19))\n",
    " & (F.col('dollar_amount') <= 1279.315571)\n",
    "& (F.col('dollar_amount') >= 1277.315571)\n",
    "\n",
    "#    & (F.col('user_id') == 21706)\n",
    ")"
   ]
  },
  {
   "cell_type": "code",
   "execution_count": 21,
   "metadata": {},
   "outputs": [
    {
     "data": {
      "text/html": [
       "<div>\n",
       "<style scoped>\n",
       "    .dataframe tbody tr th:only-of-type {\n",
       "        vertical-align: middle;\n",
       "    }\n",
       "\n",
       "    .dataframe tbody tr th {\n",
       "        vertical-align: top;\n",
       "    }\n",
       "\n",
       "    .dataframe thead th {\n",
       "        text-align: right;\n",
       "    }\n",
       "</style>\n",
       "<table border=\"1\" class=\"dataframe\">\n",
       "  <thead>\n",
       "    <tr style=\"text-align: right;\">\n",
       "      <th></th>\n",
       "      <th>dollar_amount</th>\n",
       "    </tr>\n",
       "  </thead>\n",
       "  <tbody>\n",
       "    <tr>\n",
       "      <th>0</th>\n",
       "      <td>502.107659</td>\n",
       "    </tr>\n",
       "    <tr>\n",
       "      <th>1</th>\n",
       "      <td>1278.315571</td>\n",
       "    </tr>\n",
       "    <tr>\n",
       "      <th>2</th>\n",
       "      <td>62.893256</td>\n",
       "    </tr>\n",
       "    <tr>\n",
       "      <th>3</th>\n",
       "      <td>230.216561</td>\n",
       "    </tr>\n",
       "    <tr>\n",
       "      <th>4</th>\n",
       "      <td>84.566328</td>\n",
       "    </tr>\n",
       "    <tr>\n",
       "      <th>...</th>\n",
       "      <td>...</td>\n",
       "    </tr>\n",
       "    <tr>\n",
       "      <th>553</th>\n",
       "      <td>74.979890</td>\n",
       "    </tr>\n",
       "    <tr>\n",
       "      <th>554</th>\n",
       "      <td>75.176187</td>\n",
       "    </tr>\n",
       "    <tr>\n",
       "      <th>555</th>\n",
       "      <td>60.498921</td>\n",
       "    </tr>\n",
       "    <tr>\n",
       "      <th>556</th>\n",
       "      <td>75.781941</td>\n",
       "    </tr>\n",
       "    <tr>\n",
       "      <th>557</th>\n",
       "      <td>41.638145</td>\n",
       "    </tr>\n",
       "  </tbody>\n",
       "</table>\n",
       "<p>558 rows × 1 columns</p>\n",
       "</div>"
      ],
      "text/plain": [
       "     dollar_amount\n",
       "0       502.107659\n",
       "1      1278.315571\n",
       "2        62.893256\n",
       "3       230.216561\n",
       "4        84.566328\n",
       "..             ...\n",
       "553      74.979890\n",
       "554      75.176187\n",
       "555      60.498921\n",
       "556      75.781941\n",
       "557      41.638145\n",
       "\n",
       "[558 rows x 1 columns]"
      ]
     },
     "execution_count": 21,
     "metadata": {},
     "output_type": "execute_result"
    },
    {
     "data": {
      "image/png": "[encoded data removed]",
      "text/plain": [
       "<Figure size 432x288 with 1 Axes>"
      ]
     },
     "metadata": {
      "needs_background": "light"
     },
     "output_type": "display_data"
    }
   ],
   "source": [
    "consumer = merchant_daily_transaction.where(\n",
    "   # != 0 is fine, but let's also take into account some more realistic filters\n",
    "   (F.col('user_id') == 6228)\n",
    "  \n",
    "   # & (F.col('order_datetime') == datetime.date(2021, 11, 28)\n",
    "#    &\n",
    "#    (F.col('order_datetime') == datetime.date(2021, 12, 19))\n",
    "#    & (F.col('user_id') == 21706)\n",
    ").select(\"dollar_amount\").toPandas()\n",
    "\n",
    "plt.hist(consumer[\"dollar_amount\"]) \n",
    "consumer"
   ]
  },
  {
   "cell_type": "markdown",
   "metadata": {},
   "source": [
    "# For Sprint \n",
    "\n",
    "Focus on merchant data"
   ]
  },
  {
   "cell_type": "code",
   "execution_count": 22,
   "metadata": {},
   "outputs": [],
   "source": [
    "# join merchant daily transaction data and merchant fraud\n",
    "merchant_fraud_df.to_parquet(\"../data/temp/merchant_fraud\")\n",
    "\n",
    "merchant_fraud_sdf = spark.read.parquet(\"../data/temp/merchant_fraud\")\n"
   ]
  },
  {
   "cell_type": "code",
   "execution_count": 23,
   "metadata": {},
   "outputs": [
    {
     "name": "stdout",
     "output_type": "stream",
     "text": [
      "root\n",
      " |-- merchant_abn: long (nullable = true)\n",
      " |-- order_datetime: string (nullable = true)\n",
      " |-- fraud_probability: double (nullable = true)\n",
      " |-- user_id: long (nullable = true)\n",
      " |-- no_order: long (nullable = false)\n",
      " |-- dollar_amount: double (nullable = true)\n",
      "\n"
     ]
    }
   ],
   "source": [
    "# join merchant daily transaction data and merchant fraud\n",
    "#join_df = merchant_fraud_sdf.join(merchant_daily_transaction, on=[\"merchant_abn\",\"order_datetime\"])\n",
    "# join_df.count() #3981\n",
    "\n",
    "join_df = merchant_fraud_sdf.join(merchant_daily_transaction, on=[\"merchant_abn\",\"order_datetime\"]).distinct()\n",
    "# join_df.select(\"merchant_abn\").distinct().count() #48\n",
    "join_df.printSchema()\n"
   ]
  },
  {
   "cell_type": "code",
   "execution_count": 28,
   "metadata": {},
   "outputs": [
    {
     "name": "stderr",
     "output_type": "stream",
     "text": [
      "                                                                                \r"
     ]
    },
    {
     "data": {
      "text/plain": [
       "95"
      ]
     },
     "execution_count": 28,
     "metadata": {},
     "output_type": "execute_result"
    }
   ],
   "source": [
    "# \n",
    "agg_sdf = join_df.groupBy(['merchant_abn','order_datetime']).agg(\n",
    "     F.countDistinct(F.col('user_id')).alias('no_customer'),\n",
    "     F.sum(F.col(\"no_order\")).alias(\"total_order\"),\n",
    "     F.sum(F.col(\"dollar_amount\")).alias(\"total_dollar_amount\"),\n",
    "     F.mean(F.col(\"fraud_probability\")).alias(\"fraud_prob\")\n",
    ")\n",
    "\n",
    "agg_sdf.count() # 95"
   ]
  },
  {
   "cell_type": "code",
   "execution_count": 25,
   "metadata": {},
   "outputs": [
    {
     "name": "stdout",
     "output_type": "stream",
     "text": [
      "root\n",
      " |-- merchant_abn: long (nullable = true)\n",
      " |-- order_datetime: string (nullable = true)\n",
      " |-- no_customer: long (nullable = false)\n",
      " |-- total_order: long (nullable = true)\n",
      " |-- total_dollar_amount: double (nullable = true)\n",
      " |-- fraud_prob: double (nullable = true)\n",
      "\n"
     ]
    }
   ],
   "source": [
    "agg_sdf.printSchema()"
   ]
  },
  {
   "cell_type": "code",
   "execution_count": 27,
   "metadata": {},
   "outputs": [
    {
     "name": "stderr",
     "output_type": "stream",
     "text": [
      "                                                                                \r"
     ]
    },
    {
     "data": {
      "text/plain": [
       "(array([ 7., 43., 17.,  5.,  3.,  3., 12.,  2.,  1.,  2.]),\n",
       " array([18.21089143, 25.49940913, 32.78792684, 40.07644454, 47.36496225,\n",
       "        54.65347995, 61.94199765, 69.23051536, 76.51903306, 83.80755077,\n",
       "        91.09606847]),\n",
       " <BarContainer object of 10 artists>)"
      ]
     },
     "execution_count": 27,
     "metadata": {},
     "output_type": "execute_result"
    },
    {
     "data": {
      "image/png": "[encoded data removed]",
      "text/plain": [
       "<Figure size 432x288 with 1 Axes>"
      ]
     },
     "metadata": {
      "needs_background": "light"
     },
     "output_type": "display_data"
    }
   ],
   "source": [
    "# histogram of fraud distribution\n",
    "agg_df = agg_sdf.toPandas()\n",
    "\n",
    "plt.hist(agg_df[\"fraud_prob\"])"
   ]
  },
  {
   "cell_type": "code",
   "execution_count": 35,
   "metadata": {},
   "outputs": [
    {
     "name": "stdout",
     "output_type": "stream",
     "text": [
      "root\n",
      " |-- user_id: long (nullable = true)\n",
      " |-- merchant_abn: long (nullable = true)\n",
      " |-- dollar_value: double (nullable = true)\n",
      " |-- order_id: string (nullable = true)\n",
      " |-- order_datetime: date (nullable = true)\n",
      " |-- log(dollar_value): double (nullable = true)\n",
      "\n"
     ]
    }
   ],
   "source": [
    "filtered_transaction.printSchema()"
   ]
  },
  {
   "cell_type": "markdown",
   "metadata": {},
   "source": [
    "### standardize customer number, total order, total_dollar_amount by its mean and var"
   ]
  },
  {
   "cell_type": "code",
   "execution_count": 44,
   "metadata": {},
   "outputs": [
    {
     "name": "stderr",
     "output_type": "stream",
     "text": [
      "                                                                                \r"
     ]
    },
    {
     "data": {
      "text/plain": [
       "18656"
      ]
     },
     "execution_count": 44,
     "metadata": {},
     "output_type": "execute_result"
    }
   ],
   "source": [
    "# first find the average \n",
    "labeled_merchant = merchant_fraud_df['merchant_abn'].unique().tolist()\n",
    "labeled_merchant_transaction = transaction.where(F.col('merchant_abn').isin(labeled_merchant))\n",
    "\n",
    "all_time_daily_merchant_transaction = labeled_merchant_transaction.groupby(['merchant_abn','order_datetime']).agg(\n",
    "    F.countDistinct(F.col('user_id')).alias('no_customer'),\n",
    "    F.countDistinct(F.col(\"order_id\")).alias(\"total_order\"),\n",
    "    F.sum(F.col(\"dollar_value\")).alias(\"total_dollar_value\"),\n",
    ") \n",
    "\n",
    "all_time_daily_merchant_transaction.count()"
   ]
  },
  {
   "cell_type": "code",
   "execution_count": 45,
   "metadata": {},
   "outputs": [
    {
     "name": "stdout",
     "output_type": "stream",
     "text": [
      "root\n",
      " |-- merchant_abn: long (nullable = true)\n",
      " |-- avg_daily_no_customer: double (nullable = true)\n",
      " |-- stddev_daily_no_customer: double (nullable = true)\n",
      " |-- avg_daily_total_order: double (nullable = true)\n",
      " |-- stddev_daily_total_order: double (nullable = true)\n",
      " |-- avg_daily_total_dollar_value: double (nullable = true)\n",
      " |-- stddev_daily_total_dollar_value: double (nullable = true)\n",
      "\n"
     ]
    }
   ],
   "source": [
    "all_time_agg = all_time_daily_merchant_transaction.groupBy(\"merchant_abn\").agg(\n",
    "    F.avg(F.col(\"no_customer\")).alias(\"avg_daily_no_customer\"),\n",
    "    F.stddev(F.col(\"no_customer\")).alias(\"stddev_daily_no_customer\"),\n",
    "    F.avg(F.col(\"total_order\")).alias(\"avg_daily_total_order\"),\n",
    "    F.stddev(F.col(\"total_order\")).alias(\"stddev_daily_total_order\"),\n",
    "    F.avg(F.col(\"total_dollar_value\")).alias(\"avg_daily_total_dollar_value\"),\n",
    "    F.stddev(F.col(\"total_dollar_value\")).alias(\"stddev_daily_total_dollar_value\"),\n",
    ")\n",
    "\n",
    "all_time_agg.printSchema()\n"
   ]
  },
  {
   "cell_type": "code",
   "execution_count": 48,
   "metadata": {},
   "outputs": [
    {
     "name": "stderr",
     "output_type": "stream",
     "text": [
      "                                                                                \r"
     ]
    }
   ],
   "source": [
    "#all_time_agg.count() # 61 checkedí\n",
    "all_time_agg_df = all_time_agg.toPandas()"
   ]
  },
  {
   "cell_type": "code",
   "execution_count": 70,
   "metadata": {},
   "outputs": [
    {
     "data": {
      "text/html": [
       "<div>\n",
       "<style scoped>\n",
       "    .dataframe tbody tr th:only-of-type {\n",
       "        vertical-align: middle;\n",
       "    }\n",
       "\n",
       "    .dataframe tbody tr th {\n",
       "        vertical-align: top;\n",
       "    }\n",
       "\n",
       "    .dataframe thead th {\n",
       "        text-align: right;\n",
       "    }\n",
       "</style>\n",
       "<table border=\"1\" class=\"dataframe\">\n",
       "  <thead>\n",
       "    <tr style=\"text-align: right;\">\n",
       "      <th></th>\n",
       "      <th>merchant_abn</th>\n",
       "      <th>avg_daily_no_customer</th>\n",
       "      <th>stddev_daily_no_customer</th>\n",
       "      <th>avg_daily_total_order</th>\n",
       "      <th>stddev_daily_total_order</th>\n",
       "      <th>avg_daily_total_dollar_value</th>\n",
       "      <th>stddev_daily_total_dollar_value</th>\n",
       "      <th>order_datetime</th>\n",
       "      <th>no_customer</th>\n",
       "      <th>total_order</th>\n",
       "      <th>total_dollar_amount</th>\n",
       "      <th>fraud_prob</th>\n",
       "      <th>no_order_p_val</th>\n",
       "    </tr>\n",
       "  </thead>\n",
       "  <tbody>\n",
       "    <tr>\n",
       "      <th>0</th>\n",
       "      <td>90568944804</td>\n",
       "      <td>17.702970</td>\n",
       "      <td>5.546577</td>\n",
       "      <td>17.709571</td>\n",
       "      <td>5.558239</td>\n",
       "      <td>15871.822658</td>\n",
       "      <td>5930.817004</td>\n",
       "      <td>2021-11-26</td>\n",
       "      <td>52</td>\n",
       "      <td>53</td>\n",
       "      <td>41981.494881</td>\n",
       "      <td>28.583031</td>\n",
       "      <td>2.164233e-10</td>\n",
       "    </tr>\n",
       "    <tr>\n",
       "      <th>1</th>\n",
       "      <td>90568944804</td>\n",
       "      <td>17.702970</td>\n",
       "      <td>5.546577</td>\n",
       "      <td>17.709571</td>\n",
       "      <td>5.558239</td>\n",
       "      <td>15871.822658</td>\n",
       "      <td>5930.817004</td>\n",
       "      <td>2021-11-29</td>\n",
       "      <td>49</td>\n",
       "      <td>49</td>\n",
       "      <td>51635.553860</td>\n",
       "      <td>33.172495</td>\n",
       "      <td>1.806723e-08</td>\n",
       "    </tr>\n",
       "    <tr>\n",
       "      <th>2</th>\n",
       "      <td>90568944804</td>\n",
       "      <td>17.702970</td>\n",
       "      <td>5.546577</td>\n",
       "      <td>17.709571</td>\n",
       "      <td>5.558239</td>\n",
       "      <td>15871.822658</td>\n",
       "      <td>5930.817004</td>\n",
       "      <td>2021-11-28</td>\n",
       "      <td>38</td>\n",
       "      <td>38</td>\n",
       "      <td>45831.786462</td>\n",
       "      <td>30.413429</td>\n",
       "      <td>2.617163e-04</td>\n",
       "    </tr>\n",
       "    <tr>\n",
       "      <th>3</th>\n",
       "      <td>27093785141</td>\n",
       "      <td>42.745875</td>\n",
       "      <td>11.534129</td>\n",
       "      <td>42.785479</td>\n",
       "      <td>11.549256</td>\n",
       "      <td>16094.725800</td>\n",
       "      <td>4706.143222</td>\n",
       "      <td>2021-11-27</td>\n",
       "      <td>116</td>\n",
       "      <td>117</td>\n",
       "      <td>46461.274914</td>\n",
       "      <td>29.539473</td>\n",
       "      <td>1.310798e-10</td>\n",
       "    </tr>\n",
       "    <tr>\n",
       "      <th>4</th>\n",
       "      <td>27093785141</td>\n",
       "      <td>42.745875</td>\n",
       "      <td>11.534129</td>\n",
       "      <td>42.785479</td>\n",
       "      <td>11.549256</td>\n",
       "      <td>16094.725800</td>\n",
       "      <td>4706.143222</td>\n",
       "      <td>2021-11-29</td>\n",
       "      <td>130</td>\n",
       "      <td>130</td>\n",
       "      <td>46418.267362</td>\n",
       "      <td>29.520114</td>\n",
       "      <td>4.307665e-14</td>\n",
       "    </tr>\n",
       "  </tbody>\n",
       "</table>\n",
       "</div>"
      ],
      "text/plain": [
       "   merchant_abn  avg_daily_no_customer  stddev_daily_no_customer  \\\n",
       "0   90568944804              17.702970                  5.546577   \n",
       "1   90568944804              17.702970                  5.546577   \n",
       "2   90568944804              17.702970                  5.546577   \n",
       "3   27093785141              42.745875                 11.534129   \n",
       "4   27093785141              42.745875                 11.534129   \n",
       "\n",
       "   avg_daily_total_order  stddev_daily_total_order  \\\n",
       "0              17.709571                  5.558239   \n",
       "1              17.709571                  5.558239   \n",
       "2              17.709571                  5.558239   \n",
       "3              42.785479                 11.549256   \n",
       "4              42.785479                 11.549256   \n",
       "\n",
       "   avg_daily_total_dollar_value  stddev_daily_total_dollar_value  \\\n",
       "0                  15871.822658                      5930.817004   \n",
       "1                  15871.822658                      5930.817004   \n",
       "2                  15871.822658                      5930.817004   \n",
       "3                  16094.725800                      4706.143222   \n",
       "4                  16094.725800                      4706.143222   \n",
       "\n",
       "  order_datetime  no_customer  total_order  total_dollar_amount  fraud_prob  \\\n",
       "0     2021-11-26           52           53         41981.494881   28.583031   \n",
       "1     2021-11-29           49           49         51635.553860   33.172495   \n",
       "2     2021-11-28           38           38         45831.786462   30.413429   \n",
       "3     2021-11-27          116          117         46461.274914   29.539473   \n",
       "4     2021-11-29          130          130         46418.267362   29.520114   \n",
       "\n",
       "   no_order_p_val  \n",
       "0    2.164233e-10  \n",
       "1    1.806723e-08  \n",
       "2    2.617163e-04  \n",
       "3    1.310798e-10  \n",
       "4    4.307665e-14  "
      ]
     },
     "execution_count": 70,
     "metadata": {},
     "output_type": "execute_result"
    }
   ],
   "source": [
    "agg_join_df.head()"
   ]
  },
  {
   "cell_type": "code",
   "execution_count": 71,
   "metadata": {},
   "outputs": [
    {
     "name": "stderr",
     "output_type": "stream",
     "text": [
      "/Users/ke/opt/anaconda3/envs/ML/lib/python3.9/site-packages/scipy/stats/_distn_infrastructure.py:1953: RuntimeWarning: invalid value encountered in double_scalars\n",
      "  x = np.asarray((x - loc)/scale, dtype=dtyp)\n",
      "/Users/ke/opt/anaconda3/envs/ML/lib/python3.9/site-packages/scipy/stats/_distn_infrastructure.py:1953: RuntimeWarning: invalid value encountered in double_scalars\n",
      "  x = np.asarray((x - loc)/scale, dtype=dtyp)\n"
     ]
    }
   ],
   "source": [
    "# discuss about the modeling idea during standup, use normal(t test) for now\n",
    "from scipy import stats\n",
    "def two_side_p_val(mean, stddev, test):\n",
    "    norm_dist = stats.norm(loc=mean, scale=stddev)\n",
    "    if test > mean:\n",
    "        return 2* (1-norm_dist.cdf(test))\n",
    "    else:\n",
    "        return 2*norm_dist.cdf(test)\n",
    "\n",
    "\n",
    "\n",
    "agg_join_df = all_time_agg_df.merge(agg_df, on=\"merchant_abn\")\n",
    "\n",
    "agg_join_df[\"no_order_p_val\"] = agg_join_df[['avg_daily_total_order','stddev_daily_total_order',\"total_order\"]].\\\n",
    "    apply(lambda row:two_side_p_val(row[0],row[1],row[2]),axis=1)\n",
    "\n",
    "agg_join_df[\"no_customer_p_val\"] = agg_join_df[['avg_daily_no_customer','stddev_daily_no_customer',\"no_customer\"]].\\\n",
    "    apply(lambda row:two_side_p_val(row[0],row[1],row[2]),axis=1)\n",
    "\n",
    "agg_join_df[\"total_dollar_value_p_val\"] = agg_join_df[['avg_daily_total_dollar_value','stddev_daily_total_dollar_value',\"total_dollar_amount\"]].\\\n",
    "    apply(lambda row:two_side_p_val(row[0],row[1],row[2]),axis=1)\n",
    "\n",
    "\n"
   ]
  },
  {
   "cell_type": "code",
   "execution_count": 69,
   "metadata": {},
   "outputs": [
    {
     "data": {
      "text/html": [
       "<table border='1'>\n",
       "<tr><th>user_id</th><th>merchant_abn</th><th>dollar_value</th><th>order_id</th><th>order_datetime</th><th>log(dollar_value)</th></tr>\n",
       "<tr><td>22239</td><td>67264251405</td><td>51876.637563877644</td><td>09206be9-492c-414...</td><td>2021-10-19</td><td>10.856623824531193</td></tr>\n",
       "</table>\n"
      ],
      "text/plain": [
       "+-------+------------+------------------+--------------------+--------------+------------------+\n",
       "|user_id|merchant_abn|      dollar_value|            order_id|order_datetime| log(dollar_value)|\n",
       "+-------+------------+------------------+--------------------+--------------+------------------+\n",
       "|  22239| 67264251405|51876.637563877644|09206be9-492c-414...|    2021-10-19|10.856623824531193|\n",
       "+-------+------------+------------------+--------------------+--------------+------------------+"
      ]
     },
     "execution_count": 69,
     "metadata": {},
     "output_type": "execute_result"
    }
   ],
   "source": [
    "# just one transaction, so dev is nan\n",
    "transaction.where(\n",
    "    F.col(\"merchant_abn\") == 67264251405\n",
    ")"
   ]
  },
  {
   "cell_type": "code",
   "execution_count": 104,
   "metadata": {},
   "outputs": [
    {
     "ename": "TypeError",
     "evalue": "Invalid argument, not a string or column: 0     2.164233e-10\n1     1.806723e-08\n2     2.617163e-04\n3     1.310798e-10\n4     4.307665e-14\n          ...     \n89    2.749395e-03\n90    3.735727e-01\n91    2.190225e-04\n92    2.185371e-02\n93    6.478120e-06\nName: no_order_p_val, Length: 92, dtype: float64 of type <class 'pandas.core.series.Series'>. For column literals, use 'lit', 'array', 'struct' or 'create_map' function.",
     "output_type": "error",
     "traceback": [
      "\u001b[0;31m---------------------------------------------------------------------------\u001b[0m",
      "\u001b[0;31mTypeError\u001b[0m                                 Traceback (most recent call last)",
      "\u001b[0;32m/var/folders/vm/4b2l4xh10_71ktbck3tm2plr0000gn/T/ipykernel_7468/2712414454.py\u001b[0m in \u001b[0;36m<module>\u001b[0;34m\u001b[0m\n\u001b[1;32m      2\u001b[0m \u001b[0magg_join_df\u001b[0m \u001b[0;34m=\u001b[0m \u001b[0magg_join_df\u001b[0m\u001b[0;34m.\u001b[0m\u001b[0mdropna\u001b[0m\u001b[0;34m(\u001b[0m\u001b[0;34m)\u001b[0m\u001b[0;34m\u001b[0m\u001b[0;34m\u001b[0m\u001b[0m\n\u001b[1;32m      3\u001b[0m \u001b[0;31m# plt.scatter(agg_join_df[\"no_order_p_val\"],agg_join_df[\"fraud_prob\"])\u001b[0m\u001b[0;34m\u001b[0m\u001b[0;34m\u001b[0m\u001b[0m\n\u001b[0;32m----> 4\u001b[0;31m \u001b[0magg_join_df\u001b[0m\u001b[0;34m[\u001b[0m\u001b[0;34m\"no_order_p_val\"\u001b[0m\u001b[0;34m]\u001b[0m \u001b[0;34m=\u001b[0m \u001b[0mexp\u001b[0m\u001b[0;34m(\u001b[0m\u001b[0magg_join_df\u001b[0m\u001b[0;34m[\u001b[0m\u001b[0;34m\"no_order_p_val\"\u001b[0m\u001b[0;34m]\u001b[0m\u001b[0;34m)\u001b[0m\u001b[0;34m\u001b[0m\u001b[0;34m\u001b[0m\u001b[0m\n\u001b[0m",
      "\u001b[0;32m~/opt/anaconda3/envs/ML/lib/python3.9/site-packages/pyspark/sql/functions.py\u001b[0m in \u001b[0;36mexp\u001b[0;34m(col)\u001b[0m\n\u001b[1;32m    340\u001b[0m     \u001b[0mComputes\u001b[0m \u001b[0mthe\u001b[0m \u001b[0mexponential\u001b[0m \u001b[0mof\u001b[0m \u001b[0mthe\u001b[0m \u001b[0mgiven\u001b[0m \u001b[0mvalue\u001b[0m\u001b[0;34m.\u001b[0m\u001b[0;34m\u001b[0m\u001b[0;34m\u001b[0m\u001b[0m\n\u001b[1;32m    341\u001b[0m     \"\"\"\n\u001b[0;32m--> 342\u001b[0;31m     \u001b[0;32mreturn\u001b[0m \u001b[0m_invoke_function_over_column\u001b[0m\u001b[0;34m(\u001b[0m\u001b[0;34m\"exp\"\u001b[0m\u001b[0;34m,\u001b[0m \u001b[0mcol\u001b[0m\u001b[0;34m)\u001b[0m\u001b[0;34m\u001b[0m\u001b[0;34m\u001b[0m\u001b[0m\n\u001b[0m\u001b[1;32m    343\u001b[0m \u001b[0;34m\u001b[0m\u001b[0m\n\u001b[1;32m    344\u001b[0m \u001b[0;34m\u001b[0m\u001b[0m\n",
      "\u001b[0;32m~/opt/anaconda3/envs/ML/lib/python3.9/site-packages/pyspark/sql/functions.py\u001b[0m in \u001b[0;36m_invoke_function_over_column\u001b[0;34m(name, col)\u001b[0m\n\u001b[1;32m     64\u001b[0m     \u001b[0;32mand\u001b[0m \u001b[0mwraps\u001b[0m \u001b[0mthe\u001b[0m \u001b[0mresult\u001b[0m \u001b[0;32mwith\u001b[0m \u001b[0;34m:\u001b[0m\u001b[0;32mclass\u001b[0m\u001b[0;34m:\u001b[0m\u001b[0;31m`\u001b[0m\u001b[0;34m~\u001b[0m\u001b[0mpyspark\u001b[0m\u001b[0;34m.\u001b[0m\u001b[0msql\u001b[0m\u001b[0;34m.\u001b[0m\u001b[0mColumn\u001b[0m\u001b[0;31m`\u001b[0m\u001b[0;34m.\u001b[0m\u001b[0;34m\u001b[0m\u001b[0;34m\u001b[0m\u001b[0m\n\u001b[1;32m     65\u001b[0m     \"\"\"\n\u001b[0;32m---> 66\u001b[0;31m     \u001b[0;32mreturn\u001b[0m \u001b[0m_invoke_function\u001b[0m\u001b[0;34m(\u001b[0m\u001b[0mname\u001b[0m\u001b[0;34m,\u001b[0m \u001b[0m_to_java_column\u001b[0m\u001b[0;34m(\u001b[0m\u001b[0mcol\u001b[0m\u001b[0;34m)\u001b[0m\u001b[0;34m)\u001b[0m\u001b[0;34m\u001b[0m\u001b[0;34m\u001b[0m\u001b[0m\n\u001b[0m\u001b[1;32m     67\u001b[0m \u001b[0;34m\u001b[0m\u001b[0m\n\u001b[1;32m     68\u001b[0m \u001b[0;34m\u001b[0m\u001b[0m\n",
      "\u001b[0;32m~/opt/anaconda3/envs/ML/lib/python3.9/site-packages/pyspark/sql/column.py\u001b[0m in \u001b[0;36m_to_java_column\u001b[0;34m(col)\u001b[0m\n\u001b[1;32m     43\u001b[0m         \u001b[0mjcol\u001b[0m \u001b[0;34m=\u001b[0m \u001b[0m_create_column_from_name\u001b[0m\u001b[0;34m(\u001b[0m\u001b[0mcol\u001b[0m\u001b[0;34m)\u001b[0m\u001b[0;34m\u001b[0m\u001b[0;34m\u001b[0m\u001b[0m\n\u001b[1;32m     44\u001b[0m     \u001b[0;32melse\u001b[0m\u001b[0;34m:\u001b[0m\u001b[0;34m\u001b[0m\u001b[0;34m\u001b[0m\u001b[0m\n\u001b[0;32m---> 45\u001b[0;31m         raise TypeError(\n\u001b[0m\u001b[1;32m     46\u001b[0m             \u001b[0;34m\"Invalid argument, not a string or column: \"\u001b[0m\u001b[0;34m\u001b[0m\u001b[0;34m\u001b[0m\u001b[0m\n\u001b[1;32m     47\u001b[0m             \u001b[0;34m\"{0} of type {1}. \"\u001b[0m\u001b[0;34m\u001b[0m\u001b[0;34m\u001b[0m\u001b[0m\n",
      "\u001b[0;31mTypeError\u001b[0m: Invalid argument, not a string or column: 0     2.164233e-10\n1     1.806723e-08\n2     2.617163e-04\n3     1.310798e-10\n4     4.307665e-14\n          ...     \n89    2.749395e-03\n90    3.735727e-01\n91    2.190225e-04\n92    2.185371e-02\n93    6.478120e-06\nName: no_order_p_val, Length: 92, dtype: float64 of type <class 'pandas.core.series.Series'>. For column literals, use 'lit', 'array', 'struct' or 'create_map' function."
     ]
    }
   ],
   "source": [
    "# graphs\n",
    "agg_join_df = agg_join_df.dropna()\n",
    "plt.scatter(agg_join_df[\"no_order_p_val\"],agg_join_df[\"fraud_prob\"])\n",
    "# agg_join_df[\"no_order_p_val\"] = agg_join_df[\"no_order_p_val\"]"
   ]
  },
  {
   "cell_type": "code",
   "execution_count": 96,
   "metadata": {},
   "outputs": [
    {
     "data": {
      "text/plain": [
       "<matplotlib.collections.PathCollection at 0x7fa88a962190>"
      ]
     },
     "execution_count": 96,
     "metadata": {},
     "output_type": "execute_result"
    },
    {
     "data": {
      "image/png": "[encoded data removed]",
      "text/plain": [
       "<Figure size 432x288 with 1 Axes>"
      ]
     },
     "metadata": {
      "needs_background": "light"
     },
     "output_type": "display_data"
    }
   ],
   "source": [
    "plt.scatter(agg_join_df[\"no_customer_p_val\"],agg_join_df[\"fraud_prob\"])"
   ]
  },
  {
   "cell_type": "code",
   "execution_count": 97,
   "metadata": {},
   "outputs": [
    {
     "data": {
      "text/plain": [
       "<matplotlib.collections.PathCollection at 0x7fa8685e96a0>"
      ]
     },
     "execution_count": 97,
     "metadata": {},
     "output_type": "execute_result"
    },
    {
     "data": {
      "image/png": "[encoded data removed]",
      "text/plain": [
       "<Figure size 432x288 with 1 Axes>"
      ]
     },
     "metadata": {
      "needs_background": "light"
     },
     "output_type": "display_data"
    }
   ],
   "source": [
    "plt.scatter(agg_join_df[\"total_dollar_value_p_val\"],agg_join_df[\"fraud_prob\"])"
   ]
  },
  {
   "cell_type": "markdown",
   "metadata": {},
   "source": []
  }
 ],
 "metadata": {
  "interpreter": {
   "hash": "6a51a4850383970a9d31be9f5e2bfc463bf284d7bc14ecdb113d3b740d850690"
  },
  "kernelspec": {
   "display_name": "Python 3.9.7 ('ML')",
   "language": "python",
   "name": "python3"
  },
  "language_info": {
   "codemirror_mode": {
    "name": "ipython",
    "version": 3
   },
   "file_extension": ".py",
   "mimetype": "text/x-python",
   "name": "python",
   "nbconvert_exporter": "python",
   "pygments_lexer": "ipython3",
   "version": "3.9.7"
  },
  "orig_nbformat": 4
 },
 "nbformat": 4,
 "nbformat_minor": 2
}
