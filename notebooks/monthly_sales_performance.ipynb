{
 "cells": [
  {
   "cell_type": "code",
   "execution_count": 1,
   "metadata": {},
   "outputs": [
    {
     "name": "stdout",
     "output_type": "stream",
     "text": [
      "22/10/09 06:44:04 WARN Utils: Your hostname, Polaris resolves to a loopback address: 127.0.1.1; using 172.21.131.106 instead (on interface eth0)\n",
      "22/10/09 06:44:04 WARN Utils: Set SPARK_LOCAL_IP if you need to bind to another address\n"
     ]
    },
    {
     "name": "stderr",
     "output_type": "stream",
     "text": [
      "Setting default log level to \"WARN\".\n",
      "To adjust logging level use sc.setLogLevel(newLevel). For SparkR, use setLogLevel(newLevel).\n"
     ]
    },
    {
     "name": "stdout",
     "output_type": "stream",
     "text": [
      "22/10/09 06:44:05 WARN NativeCodeLoader: Unable to load native-hadoop library for your platform... using builtin-java classes where applicable\n",
      "Welcome to\n",
      "      ____              __\n",
      "     / __/__  ___ _____/ /__\n",
      "    _\\ \\/ _ \\/ _ `/ __/  '_/\n",
      "   /__ / .__/\\_,_/_/ /_/\\_\\   version 3.3.0\n",
      "      /_/\n",
      "\n",
      "Using Python version 3.8.10 (default, Jun 22 2022 20:18:18)\n",
      "Spark context Web UI available at http://172.21.131.106:4040\n",
      "Spark context available as 'sc' (master = local[*], app id = local-1665258246232).\n",
      "SparkSession available as 'spark'.\n",
      "22/10/09 06:44:07 WARN SparkSession: Using an existing Spark session; only runtime SQL configurations will take effect.\n"
     ]
    }
   ],
   "source": [
    "import pandas as pd\n",
    "import numpy as np\n",
    "import seaborn as sns\n",
    "import os\n",
    "import re\n",
    "\n",
    "from pyspark.sql import SparkSession\n",
    "from pyspark.shell import spark\n",
    "from pyspark.sql import SQLContext\n",
    "from pyspark.sql import functions as F\n",
    "import matplotlib.pyplot as plt\n",
    "\n",
    "spark = (\n",
    "    SparkSession.builder.appName(\"MAST30034 Project 2\")\n",
    "    .config(\"spark.sql.repl.eagerEval.enabled\", True) \n",
    "    .config(\"spark.sql.parquet.cacheMetadata\", \"true\")\n",
    "    .config(\"spark.sql.session.timeZone\", \"Etc/UTC\")\n",
    "    .config(\"spark.driver.memory\", \"4g\")\n",
    "    .getOrCreate()\n",
    ")"
   ]
  },
  {
   "cell_type": "code",
   "execution_count": 2,
   "metadata": {},
   "outputs": [],
   "source": [
    "monthly_data_df = spark.read.parquet('../data/curated/merchant_monthly_sales')"
   ]
  },
  {
   "cell_type": "code",
   "execution_count": 3,
   "metadata": {},
   "outputs": [
    {
     "data": {
      "text/plain": [
       "[Row(merchant_abn=76767266140, order_month=10, order_year=2021, tot_dollar_value=474775.29981215525, tot_discounted_value=442752.88030585117, num_order_id=2218, num_fraud_order=146.17635035934018),\n",
       " Row(merchant_abn=51221851716, order_month=7, order_year=2021, tot_dollar_value=423.1366894513822, tot_discounted_value=395.3835509096228, num_order_id=18, num_fraud_order=1.1530352184143875),\n",
       " Row(merchant_abn=86578477987, order_month=5, order_year=2021, tot_dollar_value=421536.9555053424, tot_discounted_value=395115.6001930482, num_order_id=12023, num_fraud_order=749.3187413658477),\n",
       " Row(merchant_abn=66079287213, order_month=11, order_year=2021, tot_dollar_value=74098.80712409382, tot_discounted_value=69280.69386019278, num_order_id=1325, num_fraud_order=85.34816584845879),\n",
       " Row(merchant_abn=30389290864, order_month=8, order_year=2021, tot_dollar_value=59970.731683154445, tot_discounted_value=56086.75802877634, num_order_id=568, num_fraud_order=36.294655454228106)]"
      ]
     },
     "execution_count": 3,
     "metadata": {},
     "output_type": "execute_result"
    }
   ],
   "source": [
    "monthly_data_df.head(5)"
   ]
  },
  {
   "cell_type": "code",
   "execution_count": 4,
   "metadata": {},
   "outputs": [
    {
     "data": {
      "text/html": [
       "<table border='1'>\n",
       "<tr><th>merchant_abn</th><th>order_month</th><th>order_year</th><th>tot_dollar_value</th><th>tot_discounted_value</th><th>num_order_id</th><th>num_fraud_order</th><th>year_month</th></tr>\n",
       "<tr><td>36758807067</td><td>10</td><td>2021</td><td>1000.0473491632412</td><td>935.5269312518756</td><td>18</td><td>1.1559422188389994</td><td>2021-10</td></tr>\n",
       "<tr><td>36758807067</td><td>3</td><td>2022</td><td>1217.1763031854964</td><td>1138.3842502846687</td><td>17</td><td>1.0864624791144397</td><td>2022-03</td></tr>\n",
       "<tr><td>36758807067</td><td>6</td><td>2021</td><td>922.6355093435778</td><td>865.5450597676299</td><td>17</td><td>1.046413306613753</td><td>2021-06</td></tr>\n",
       "<tr><td>78916025936</td><td>10</td><td>2021</td><td>2064.0370220224804</td><td>1920.6896227647196</td><td>7</td><td>0.4699328561334517</td><td>2021-10</td></tr>\n",
       "<tr><td>78916025936</td><td>1</td><td>2022</td><td>498.5479266675171</td><td>465.0205563583551</td><td>2</td><td>0.13159026344470123</td><td>2022-01</td></tr>\n",
       "<tr><td>78916025936</td><td>5</td><td>2021</td><td>864.4252321511935</td><td>807.4912084469139</td><td>4</td><td>0.2578809808691624</td><td>2021-05</td></tr>\n",
       "<tr><td>36758807067</td><td>12</td><td>2021</td><td>1721.5471710987626</td><td>1612.1476766343783</td><td>26</td><td>1.6301820295642526</td><td>2021-12</td></tr>\n",
       "<tr><td>36758807067</td><td>4</td><td>2021</td><td>1454.062723275021</td><td>1363.2013617560917</td><td>20</td><td>1.240893526884592</td><td>2021-04</td></tr>\n",
       "<tr><td>78916025936</td><td>10</td><td>2022</td><td>173.25623190633792</td><td>162.17760028873644</td><td>1</td><td>0.0639436255521855</td><td>2022-10</td></tr>\n",
       "<tr><td>78916025936</td><td>9</td><td>2022</td><td>382.82117282068407</td><td>354.92631307187617</td><td>2</td><td>0.1462311852768181</td><td>2022-09</td></tr>\n",
       "<tr><td>78916025936</td><td>3</td><td>2022</td><td>396.7852155921401</td><td>367.5842945250861</td><td>3</td><td>0.20546134160273977</td><td>2022-03</td></tr>\n",
       "<tr><td>78916025936</td><td>4</td><td>2021</td><td>990.648601339291</td><td>917.4712274692936</td><td>3</td><td>0.2182073383763855</td><td>2021-04</td></tr>\n",
       "<tr><td>36758807067</td><td>3</td><td>2021</td><td>615.7110825432433</td><td>576.9787867031224</td><td>14</td><td>0.8867532548735132</td><td>2021-03</td></tr>\n",
       "<tr><td>78916025936</td><td>11</td><td>2021</td><td>2693.57427651062</td><td>2507.791450158382</td><td>9</td><td>0.5997233898998644</td><td>2021-11</td></tr>\n",
       "<tr><td>36758807067</td><td>1</td><td>2022</td><td>1090.1488741511264</td><td>1020.5270598579974</td><td>13</td><td>0.8218351176944723</td><td>2022-01</td></tr>\n",
       "<tr><td>36758807067</td><td>9</td><td>2021</td><td>1257.1096094811062</td><td>1176.2843943831394</td><td>21</td><td>1.3107347861033336</td><td>2021-09</td></tr>\n",
       "<tr><td>36758807067</td><td>7</td><td>2022</td><td>1053.3656727395896</td><td>985.793237171251</td><td>26</td><td>1.6354232864470648</td><td>2022-07</td></tr>\n",
       "<tr><td>78916025936</td><td>8</td><td>2021</td><td>2130.032823490846</td><td>1976.916570767414</td><td>6</td><td>0.4163580839121616</td><td>2021-08</td></tr>\n",
       "<tr><td>78916025936</td><td>8</td><td>2022</td><td>2331.743353537364</td><td>2170.920152801253</td><td>7</td><td>0.474017993082936</td><td>2022-08</td></tr>\n",
       "<tr><td>78916025936</td><td>4</td><td>2022</td><td>811.0981656722217</td><td>757.0634412358716</td><td>3</td><td>0.19521234050383524</td><td>2022-04</td></tr>\n",
       "</table>\n",
       "only showing top 20 rows\n"
      ],
      "text/plain": [
       "+------------+-----------+----------+------------------+--------------------+------------+-------------------+----------+\n",
       "|merchant_abn|order_month|order_year|  tot_dollar_value|tot_discounted_value|num_order_id|    num_fraud_order|year_month|\n",
       "+------------+-----------+----------+------------------+--------------------+------------+-------------------+----------+\n",
       "| 36758807067|         10|      2021|1000.0473491632412|   935.5269312518756|          18| 1.1559422188389994|   2021-10|\n",
       "| 36758807067|          3|      2022|1217.1763031854964|  1138.3842502846687|          17| 1.0864624791144397|   2022-03|\n",
       "| 36758807067|          6|      2021| 922.6355093435778|   865.5450597676299|          17|  1.046413306613753|   2021-06|\n",
       "| 78916025936|         10|      2021|2064.0370220224804|  1920.6896227647196|           7| 0.4699328561334517|   2021-10|\n",
       "| 78916025936|          1|      2022| 498.5479266675171|   465.0205563583551|           2|0.13159026344470123|   2022-01|\n",
       "| 78916025936|          5|      2021| 864.4252321511935|   807.4912084469139|           4| 0.2578809808691624|   2021-05|\n",
       "| 36758807067|         12|      2021|1721.5471710987626|  1612.1476766343783|          26| 1.6301820295642526|   2021-12|\n",
       "| 36758807067|          4|      2021| 1454.062723275021|  1363.2013617560917|          20|  1.240893526884592|   2021-04|\n",
       "| 78916025936|         10|      2022|173.25623190633792|  162.17760028873644|           1| 0.0639436255521855|   2022-10|\n",
       "| 78916025936|          9|      2022|382.82117282068407|  354.92631307187617|           2| 0.1462311852768181|   2022-09|\n",
       "| 78916025936|          3|      2022| 396.7852155921401|   367.5842945250861|           3|0.20546134160273977|   2022-03|\n",
       "| 78916025936|          4|      2021|  990.648601339291|   917.4712274692936|           3| 0.2182073383763855|   2021-04|\n",
       "| 36758807067|          3|      2021| 615.7110825432433|   576.9787867031224|          14| 0.8867532548735132|   2021-03|\n",
       "| 78916025936|         11|      2021|  2693.57427651062|   2507.791450158382|           9| 0.5997233898998644|   2021-11|\n",
       "| 36758807067|          1|      2022|1090.1488741511264|  1020.5270598579974|          13| 0.8218351176944723|   2022-01|\n",
       "| 36758807067|          9|      2021|1257.1096094811062|  1176.2843943831394|          21| 1.3107347861033336|   2021-09|\n",
       "| 36758807067|          7|      2022|1053.3656727395896|    985.793237171251|          26| 1.6354232864470648|   2022-07|\n",
       "| 78916025936|          8|      2021| 2130.032823490846|   1976.916570767414|           6| 0.4163580839121616|   2021-08|\n",
       "| 78916025936|          8|      2022| 2331.743353537364|   2170.920152801253|           7|  0.474017993082936|   2022-08|\n",
       "| 78916025936|          4|      2022| 811.0981656722217|   757.0634412358716|           3|0.19521234050383524|   2022-04|\n",
       "+------------+-----------+----------+------------------+--------------------+------------+-------------------+----------+\n",
       "only showing top 20 rows"
      ]
     },
     "execution_count": 4,
     "metadata": {},
     "output_type": "execute_result"
    }
   ],
   "source": [
    "two_abns_df = monthly_data_df.where(\n",
    "    F.col('merchant_abn').isin([78916025936, 36758807067])\n",
    ").withColumn(\n",
    "    'year_month',\n",
    "    F.format_string('%d-%02d', 'order_year', 'order_month')\n",
    ")\n",
    "two_abns_df"
   ]
  },
  {
   "cell_type": "code",
   "execution_count": 5,
   "metadata": {},
   "outputs": [
    {
     "ename": "ValueError",
     "evalue": "Could not interpret value `sales_revenue` for parameter `y`",
     "output_type": "error",
     "traceback": [
      "\u001b[0;31m---------------------------------------------------------------------------\u001b[0m",
      "\u001b[0;31mValueError\u001b[0m                                Traceback (most recent call last)",
      "\u001b[1;32m/mnt/c/Users/Xavier Travers/Desktop/Uni/ADS/generic-buy-now-pay-later-project-group-19/notebooks/monthly_sales_performance.ipynb Cell 5\u001b[0m in \u001b[0;36m<cell line: 5>\u001b[0;34m()\u001b[0m\n\u001b[1;32m      <a href='vscode-notebook-cell://wsl%2Bubuntu/mnt/c/Users/Xavier%20Travers/Desktop/Uni/ADS/generic-buy-now-pay-later-project-group-19/notebooks/monthly_sales_performance.ipynb#W4sdnNjb2RlLXJlbW90ZQ%3D%3D?line=0'>1</a>\u001b[0m two_abns_pdf \u001b[39m=\u001b[39m two_abns_df\u001b[39m.\u001b[39mtoPandas()\u001b[39m.\u001b[39msort_values(\n\u001b[1;32m      <a href='vscode-notebook-cell://wsl%2Bubuntu/mnt/c/Users/Xavier%20Travers/Desktop/Uni/ADS/generic-buy-now-pay-later-project-group-19/notebooks/monthly_sales_performance.ipynb#W4sdnNjb2RlLXJlbW90ZQ%3D%3D?line=1'>2</a>\u001b[0m     [\u001b[39m'\u001b[39m\u001b[39mmerchant_abn\u001b[39m\u001b[39m'\u001b[39m, \u001b[39m'\u001b[39m\u001b[39myear_month\u001b[39m\u001b[39m'\u001b[39m]\n\u001b[1;32m      <a href='vscode-notebook-cell://wsl%2Bubuntu/mnt/c/Users/Xavier%20Travers/Desktop/Uni/ADS/generic-buy-now-pay-later-project-group-19/notebooks/monthly_sales_performance.ipynb#W4sdnNjb2RlLXJlbW90ZQ%3D%3D?line=2'>3</a>\u001b[0m )\n\u001b[0;32m----> <a href='vscode-notebook-cell://wsl%2Bubuntu/mnt/c/Users/Xavier%20Travers/Desktop/Uni/ADS/generic-buy-now-pay-later-project-group-19/notebooks/monthly_sales_performance.ipynb#W4sdnNjb2RlLXJlbW90ZQ%3D%3D?line=4'>5</a>\u001b[0m rev_v_month_plt \u001b[39m=\u001b[39m sns\u001b[39m.\u001b[39;49mlineplot(\n\u001b[1;32m      <a href='vscode-notebook-cell://wsl%2Bubuntu/mnt/c/Users/Xavier%20Travers/Desktop/Uni/ADS/generic-buy-now-pay-later-project-group-19/notebooks/monthly_sales_performance.ipynb#W4sdnNjb2RlLXJlbW90ZQ%3D%3D?line=5'>6</a>\u001b[0m     x \u001b[39m=\u001b[39;49m \u001b[39m'\u001b[39;49m\u001b[39myear_month\u001b[39;49m\u001b[39m'\u001b[39;49m, \n\u001b[1;32m      <a href='vscode-notebook-cell://wsl%2Bubuntu/mnt/c/Users/Xavier%20Travers/Desktop/Uni/ADS/generic-buy-now-pay-later-project-group-19/notebooks/monthly_sales_performance.ipynb#W4sdnNjb2RlLXJlbW90ZQ%3D%3D?line=6'>7</a>\u001b[0m     y \u001b[39m=\u001b[39;49m \u001b[39m\"\u001b[39;49m\u001b[39msales_revenue\u001b[39;49m\u001b[39m\"\u001b[39;49m,\n\u001b[1;32m      <a href='vscode-notebook-cell://wsl%2Bubuntu/mnt/c/Users/Xavier%20Travers/Desktop/Uni/ADS/generic-buy-now-pay-later-project-group-19/notebooks/monthly_sales_performance.ipynb#W4sdnNjb2RlLXJlbW90ZQ%3D%3D?line=7'>8</a>\u001b[0m     hue \u001b[39m=\u001b[39;49m \u001b[39m'\u001b[39;49m\u001b[39mmerchant_abn\u001b[39;49m\u001b[39m'\u001b[39;49m,\n\u001b[1;32m      <a href='vscode-notebook-cell://wsl%2Bubuntu/mnt/c/Users/Xavier%20Travers/Desktop/Uni/ADS/generic-buy-now-pay-later-project-group-19/notebooks/monthly_sales_performance.ipynb#W4sdnNjb2RlLXJlbW90ZQ%3D%3D?line=8'>9</a>\u001b[0m     palette\u001b[39m=\u001b[39;49m[\u001b[39m'\u001b[39;49m\u001b[39m#234a55\u001b[39;49m\u001b[39m'\u001b[39;49m,\u001b[39m'\u001b[39;49m\u001b[39m#988c55\u001b[39;49m\u001b[39m'\u001b[39;49m],\n\u001b[1;32m     <a href='vscode-notebook-cell://wsl%2Bubuntu/mnt/c/Users/Xavier%20Travers/Desktop/Uni/ADS/generic-buy-now-pay-later-project-group-19/notebooks/monthly_sales_performance.ipynb#W4sdnNjb2RlLXJlbW90ZQ%3D%3D?line=9'>10</a>\u001b[0m     data \u001b[39m=\u001b[39;49m two_abns_pdf \u001b[39m#[two_abns_pdf['year_month'] != '2021-02']\u001b[39;49;00m\n\u001b[1;32m     <a href='vscode-notebook-cell://wsl%2Bubuntu/mnt/c/Users/Xavier%20Travers/Desktop/Uni/ADS/generic-buy-now-pay-later-project-group-19/notebooks/monthly_sales_performance.ipynb#W4sdnNjb2RlLXJlbW90ZQ%3D%3D?line=10'>11</a>\u001b[0m )\n\u001b[1;32m     <a href='vscode-notebook-cell://wsl%2Bubuntu/mnt/c/Users/Xavier%20Travers/Desktop/Uni/ADS/generic-buy-now-pay-later-project-group-19/notebooks/monthly_sales_performance.ipynb#W4sdnNjb2RlLXJlbW90ZQ%3D%3D?line=11'>12</a>\u001b[0m plt\u001b[39m.\u001b[39mxlabel(\u001b[39m'\u001b[39m\u001b[39mMonth\u001b[39m\u001b[39m'\u001b[39m)\n\u001b[1;32m     <a href='vscode-notebook-cell://wsl%2Bubuntu/mnt/c/Users/Xavier%20Travers/Desktop/Uni/ADS/generic-buy-now-pay-later-project-group-19/notebooks/monthly_sales_performance.ipynb#W4sdnNjb2RlLXJlbW90ZQ%3D%3D?line=12'>13</a>\u001b[0m plt\u001b[39m.\u001b[39mylabel(\u001b[39m'\u001b[39m\u001b[39mSales Revenue (AUD)\u001b[39m\u001b[39m'\u001b[39m)\n",
      "File \u001b[0;32m~/.local/lib/python3.8/site-packages/seaborn/_decorators.py:46\u001b[0m, in \u001b[0;36m_deprecate_positional_args.<locals>.inner_f\u001b[0;34m(*args, **kwargs)\u001b[0m\n\u001b[1;32m     36\u001b[0m     warnings\u001b[39m.\u001b[39mwarn(\n\u001b[1;32m     37\u001b[0m         \u001b[39m\"\u001b[39m\u001b[39mPass the following variable\u001b[39m\u001b[39m{}\u001b[39;00m\u001b[39m as \u001b[39m\u001b[39m{}\u001b[39;00m\u001b[39mkeyword arg\u001b[39m\u001b[39m{}\u001b[39;00m\u001b[39m: \u001b[39m\u001b[39m{}\u001b[39;00m\u001b[39m. \u001b[39m\u001b[39m\"\u001b[39m\n\u001b[1;32m     38\u001b[0m         \u001b[39m\"\u001b[39m\u001b[39mFrom version 0.12, the only valid positional argument \u001b[39m\u001b[39m\"\u001b[39m\n\u001b[0;32m   (...)\u001b[0m\n\u001b[1;32m     43\u001b[0m         \u001b[39mFutureWarning\u001b[39;00m\n\u001b[1;32m     44\u001b[0m     )\n\u001b[1;32m     45\u001b[0m kwargs\u001b[39m.\u001b[39mupdate({k: arg \u001b[39mfor\u001b[39;00m k, arg \u001b[39min\u001b[39;00m \u001b[39mzip\u001b[39m(sig\u001b[39m.\u001b[39mparameters, args)})\n\u001b[0;32m---> 46\u001b[0m \u001b[39mreturn\u001b[39;00m f(\u001b[39m*\u001b[39;49m\u001b[39m*\u001b[39;49mkwargs)\n",
      "File \u001b[0;32m~/.local/lib/python3.8/site-packages/seaborn/relational.py:692\u001b[0m, in \u001b[0;36mlineplot\u001b[0;34m(x, y, hue, size, style, data, palette, hue_order, hue_norm, sizes, size_order, size_norm, dashes, markers, style_order, units, estimator, ci, n_boot, seed, sort, err_style, err_kws, legend, ax, **kwargs)\u001b[0m\n\u001b[1;32m    677\u001b[0m \u001b[39m@_deprecate_positional_args\u001b[39m\n\u001b[1;32m    678\u001b[0m \u001b[39mdef\u001b[39;00m \u001b[39mlineplot\u001b[39m(\n\u001b[1;32m    679\u001b[0m     \u001b[39m*\u001b[39m,\n\u001b[0;32m   (...)\u001b[0m\n\u001b[1;32m    688\u001b[0m     legend\u001b[39m=\u001b[39m\u001b[39m\"\u001b[39m\u001b[39mauto\u001b[39m\u001b[39m\"\u001b[39m, ax\u001b[39m=\u001b[39m\u001b[39mNone\u001b[39;00m, \u001b[39m*\u001b[39m\u001b[39m*\u001b[39mkwargs\n\u001b[1;32m    689\u001b[0m ):\n\u001b[1;32m    691\u001b[0m     variables \u001b[39m=\u001b[39m _LinePlotter\u001b[39m.\u001b[39mget_semantics(\u001b[39mlocals\u001b[39m())\n\u001b[0;32m--> 692\u001b[0m     p \u001b[39m=\u001b[39m _LinePlotter(\n\u001b[1;32m    693\u001b[0m         data\u001b[39m=\u001b[39;49mdata, variables\u001b[39m=\u001b[39;49mvariables,\n\u001b[1;32m    694\u001b[0m         estimator\u001b[39m=\u001b[39;49mestimator, ci\u001b[39m=\u001b[39;49mci, n_boot\u001b[39m=\u001b[39;49mn_boot, seed\u001b[39m=\u001b[39;49mseed,\n\u001b[1;32m    695\u001b[0m         sort\u001b[39m=\u001b[39;49msort, err_style\u001b[39m=\u001b[39;49merr_style, err_kws\u001b[39m=\u001b[39;49merr_kws, legend\u001b[39m=\u001b[39;49mlegend,\n\u001b[1;32m    696\u001b[0m     )\n\u001b[1;32m    698\u001b[0m     p\u001b[39m.\u001b[39mmap_hue(palette\u001b[39m=\u001b[39mpalette, order\u001b[39m=\u001b[39mhue_order, norm\u001b[39m=\u001b[39mhue_norm)\n\u001b[1;32m    699\u001b[0m     p\u001b[39m.\u001b[39mmap_size(sizes\u001b[39m=\u001b[39msizes, order\u001b[39m=\u001b[39msize_order, norm\u001b[39m=\u001b[39msize_norm)\n",
      "File \u001b[0;32m~/.local/lib/python3.8/site-packages/seaborn/relational.py:367\u001b[0m, in \u001b[0;36m_LinePlotter.__init__\u001b[0;34m(self, data, variables, estimator, ci, n_boot, seed, sort, err_style, err_kws, legend)\u001b[0m\n\u001b[1;32m    353\u001b[0m \u001b[39mdef\u001b[39;00m \u001b[39m__init__\u001b[39m(\n\u001b[1;32m    354\u001b[0m     \u001b[39mself\u001b[39m, \u001b[39m*\u001b[39m,\n\u001b[1;32m    355\u001b[0m     data\u001b[39m=\u001b[39m\u001b[39mNone\u001b[39;00m, variables\u001b[39m=\u001b[39m{},\n\u001b[0;32m   (...)\u001b[0m\n\u001b[1;32m    361\u001b[0m     \u001b[39m# the kind of plot to draw, but for the time being we need to set\u001b[39;00m\n\u001b[1;32m    362\u001b[0m     \u001b[39m# this information so the SizeMapping can use it\u001b[39;00m\n\u001b[1;32m    363\u001b[0m     \u001b[39mself\u001b[39m\u001b[39m.\u001b[39m_default_size_range \u001b[39m=\u001b[39m (\n\u001b[1;32m    364\u001b[0m         np\u001b[39m.\u001b[39mr_[\u001b[39m.5\u001b[39m, \u001b[39m2\u001b[39m] \u001b[39m*\u001b[39m mpl\u001b[39m.\u001b[39mrcParams[\u001b[39m\"\u001b[39m\u001b[39mlines.linewidth\u001b[39m\u001b[39m\"\u001b[39m]\n\u001b[1;32m    365\u001b[0m     )\n\u001b[0;32m--> 367\u001b[0m     \u001b[39msuper\u001b[39;49m()\u001b[39m.\u001b[39;49m\u001b[39m__init__\u001b[39;49m(data\u001b[39m=\u001b[39;49mdata, variables\u001b[39m=\u001b[39;49mvariables)\n\u001b[1;32m    369\u001b[0m     \u001b[39mself\u001b[39m\u001b[39m.\u001b[39mestimator \u001b[39m=\u001b[39m estimator\n\u001b[1;32m    370\u001b[0m     \u001b[39mself\u001b[39m\u001b[39m.\u001b[39mci \u001b[39m=\u001b[39m ci\n",
      "File \u001b[0;32m~/.local/lib/python3.8/site-packages/seaborn/_core.py:605\u001b[0m, in \u001b[0;36mVectorPlotter.__init__\u001b[0;34m(self, data, variables)\u001b[0m\n\u001b[1;32m    603\u001b[0m \u001b[39mdef\u001b[39;00m \u001b[39m__init__\u001b[39m(\u001b[39mself\u001b[39m, data\u001b[39m=\u001b[39m\u001b[39mNone\u001b[39;00m, variables\u001b[39m=\u001b[39m{}):\n\u001b[0;32m--> 605\u001b[0m     \u001b[39mself\u001b[39;49m\u001b[39m.\u001b[39;49massign_variables(data, variables)\n\u001b[1;32m    607\u001b[0m     \u001b[39mfor\u001b[39;00m var, \u001b[39mcls\u001b[39m \u001b[39min\u001b[39;00m \u001b[39mself\u001b[39m\u001b[39m.\u001b[39m_semantic_mappings\u001b[39m.\u001b[39mitems():\n\u001b[1;32m    608\u001b[0m \n\u001b[1;32m    609\u001b[0m         \u001b[39m# Create the mapping function\u001b[39;00m\n\u001b[1;32m    610\u001b[0m         map_func \u001b[39m=\u001b[39m partial(\u001b[39mcls\u001b[39m\u001b[39m.\u001b[39mmap, plotter\u001b[39m=\u001b[39m\u001b[39mself\u001b[39m)\n",
      "File \u001b[0;32m~/.local/lib/python3.8/site-packages/seaborn/_core.py:668\u001b[0m, in \u001b[0;36mVectorPlotter.assign_variables\u001b[0;34m(self, data, variables)\u001b[0m\n\u001b[1;32m    666\u001b[0m \u001b[39melse\u001b[39;00m:\n\u001b[1;32m    667\u001b[0m     \u001b[39mself\u001b[39m\u001b[39m.\u001b[39minput_format \u001b[39m=\u001b[39m \u001b[39m\"\u001b[39m\u001b[39mlong\u001b[39m\u001b[39m\"\u001b[39m\n\u001b[0;32m--> 668\u001b[0m     plot_data, variables \u001b[39m=\u001b[39m \u001b[39mself\u001b[39;49m\u001b[39m.\u001b[39;49m_assign_variables_longform(\n\u001b[1;32m    669\u001b[0m         data, \u001b[39m*\u001b[39;49m\u001b[39m*\u001b[39;49mvariables,\n\u001b[1;32m    670\u001b[0m     )\n\u001b[1;32m    672\u001b[0m \u001b[39mself\u001b[39m\u001b[39m.\u001b[39mplot_data \u001b[39m=\u001b[39m plot_data\n\u001b[1;32m    673\u001b[0m \u001b[39mself\u001b[39m\u001b[39m.\u001b[39mvariables \u001b[39m=\u001b[39m variables\n",
      "File \u001b[0;32m~/.local/lib/python3.8/site-packages/seaborn/_core.py:903\u001b[0m, in \u001b[0;36mVectorPlotter._assign_variables_longform\u001b[0;34m(self, data, **kwargs)\u001b[0m\n\u001b[1;32m    898\u001b[0m \u001b[39melif\u001b[39;00m \u001b[39misinstance\u001b[39m(val, (\u001b[39mstr\u001b[39m, \u001b[39mbytes\u001b[39m)):\n\u001b[1;32m    899\u001b[0m \n\u001b[1;32m    900\u001b[0m     \u001b[39m# This looks like a column name but we don't know what it means!\u001b[39;00m\n\u001b[1;32m    902\u001b[0m     err \u001b[39m=\u001b[39m \u001b[39mf\u001b[39m\u001b[39m\"\u001b[39m\u001b[39mCould not interpret value `\u001b[39m\u001b[39m{\u001b[39;00mval\u001b[39m}\u001b[39;00m\u001b[39m` for parameter `\u001b[39m\u001b[39m{\u001b[39;00mkey\u001b[39m}\u001b[39;00m\u001b[39m`\u001b[39m\u001b[39m\"\u001b[39m\n\u001b[0;32m--> 903\u001b[0m     \u001b[39mraise\u001b[39;00m \u001b[39mValueError\u001b[39;00m(err)\n\u001b[1;32m    905\u001b[0m \u001b[39melse\u001b[39;00m:\n\u001b[1;32m    906\u001b[0m \n\u001b[1;32m    907\u001b[0m     \u001b[39m# Otherwise, assume the value is itself data\u001b[39;00m\n\u001b[1;32m    908\u001b[0m \n\u001b[1;32m    909\u001b[0m     \u001b[39m# Raise when data object is present and a vector can't matched\u001b[39;00m\n\u001b[1;32m    910\u001b[0m     \u001b[39mif\u001b[39;00m \u001b[39misinstance\u001b[39m(data, pd\u001b[39m.\u001b[39mDataFrame) \u001b[39mand\u001b[39;00m \u001b[39mnot\u001b[39;00m \u001b[39misinstance\u001b[39m(val, pd\u001b[39m.\u001b[39mSeries):\n",
      "\u001b[0;31mValueError\u001b[0m: Could not interpret value `sales_revenue` for parameter `y`"
     ]
    }
   ],
   "source": [
    "two_abns_pdf = two_abns_df.toPandas().sort_values(\n",
    "    ['merchant_abn', 'year_month']\n",
    ")\n",
    "\n",
    "rev_v_month_plt = sns.lineplot(\n",
    "    x = 'year_month', \n",
    "    y = \"tot_dollar_value\",\n",
    "    hue = 'merchant_abn',\n",
    "    palette=['#234a55','#988c55'],\n",
    "    data = two_abns_pdf #[two_abns_pdf['year_month'] != '2021-02']\n",
    ")\n",
    "plt.xlabel('Month')\n",
    "plt.ylabel('Sales Revenue (AUD)')\n",
    "# plt.title('How sales revenue changes monthly between high and low variance')\n",
    "plt.xticks(rotation=60, ha='right')\n",
    "plt.yticks(rotation=0)\n",
    "plt.legend().set_visible(False)\n",
    "# plt.legend(['Merchant 1', 'Merchant 2'], loc='upper left')\n",
    "rev_v_month_plt.figure.savefig(f'../plots/revenue-vs-month-78916025936-36758807067.png', \n",
    "        bbox_inches = 'tight', dpi = 500)"
   ]
  }
 ],
 "metadata": {
  "kernelspec": {
   "display_name": "Python 3.8.10 64-bit",
   "language": "python",
   "name": "python3"
  },
  "language_info": {
   "codemirror_mode": {
    "name": "ipython",
    "version": 3
   },
   "file_extension": ".py",
   "mimetype": "text/x-python",
   "name": "python",
   "nbconvert_exporter": "python",
   "pygments_lexer": "ipython3",
   "version": "3.8.10"
  },
  "orig_nbformat": 4,
  "vscode": {
   "interpreter": {
    "hash": "916dbcbb3f70747c44a77c7bcd40155683ae19c65e1c03b4aa3499c5328201f1"
   }
  }
 },
 "nbformat": 4,
 "nbformat_minor": 2
}
