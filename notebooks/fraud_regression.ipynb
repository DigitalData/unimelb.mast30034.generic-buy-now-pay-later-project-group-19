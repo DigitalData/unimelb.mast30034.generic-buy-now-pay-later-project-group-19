{
 "cells": [
  {
   "cell_type": "markdown",
   "metadata": {},
   "source": [
    "## Fraudulent Consumer Modelling\n"
   ]
  },
  {
   "cell_type": "code",
   "execution_count": 1,
   "metadata": {},
   "outputs": [
    {
     "name": "stderr",
     "output_type": "stream",
     "text": [
      "22/10/15 17:42:16 WARN Utils: Your hostname, Kes-MacBook-Pro.local resolves to a loopback address: 127.0.0.1; using 10.130.224.57 instead (on interface en0)\n",
      "22/10/15 17:42:16 WARN Utils: Set SPARK_LOCAL_IP if you need to bind to another address\n",
      "WARNING: An illegal reflective access operation has occurred\n",
      "WARNING: Illegal reflective access by org.apache.spark.unsafe.Platform (file:/Users/ke/opt/anaconda3/envs/ML/lib/python3.9/site-packages/pyspark/jars/spark-unsafe_2.12-3.1.2.jar) to constructor java.nio.DirectByteBuffer(long,int)\n",
      "WARNING: Please consider reporting this to the maintainers of org.apache.spark.unsafe.Platform\n",
      "WARNING: Use --illegal-access=warn to enable warnings of further illegal reflective access operations\n",
      "WARNING: All illegal access operations will be denied in a future release\n",
      "22/10/15 17:42:16 WARN NativeCodeLoader: Unable to load native-hadoop library for your platform... using builtin-java classes where applicable\n",
      "Using Spark's default log4j profile: org/apache/spark/log4j-defaults.properties\n",
      "Setting default log level to \"WARN\".\n",
      "To adjust logging level use sc.setLogLevel(newLevel). For SparkR, use setLogLevel(newLevel).\n",
      "22/10/15 17:42:17 WARN Utils: Service 'SparkUI' could not bind on port 4040. Attempting port 4041.\n",
      "22/10/15 17:42:17 WARN Utils: Service 'SparkUI' could not bind on port 4041. Attempting port 4042.\n"
     ]
    },
    {
     "name": "stdout",
     "output_type": "stream",
     "text": [
      "Welcome to\n",
      "      ____              __\n",
      "     / __/__  ___ _____/ /__\n",
      "    _\\ \\/ _ \\/ _ `/ __/  '_/\n",
      "   /__ / .__/\\_,_/_/ /_/\\_\\   version 3.1.2\n",
      "      /_/\n",
      "\n",
      "Using Python version 3.9.7 (default, Sep 16 2021 08:50:36)\n",
      "Spark context Web UI available at http://10.130.224.57:4042\n",
      "Spark context available as 'sc' (master = local[*], app id = local-1665816137444).\n",
      "SparkSession available as 'spark'.\n"
     ]
    }
   ],
   "source": [
    "import pandas as pd\n",
    "import numpy as np\n",
    "import os\n",
    "import re\n",
    "\n",
    "from pyspark.sql import SparkSession\n",
    "from pyspark.shell import spark\n",
    "from pyspark.sql import SQLContext\n",
    "from pyspark.sql.functions import *\n",
    "import matplotlib.pyplot as plt\n",
    "\n",
    "spark = (\n",
    "    SparkSession.builder.appName(\"MAST30034 Project 2\")\n",
    "    .config(\"spark.sql.repl.eagerEval.enabled\", True) \n",
    "    .config(\"spark.sql.parquet.cacheMetadata\", \"true\")\n",
    "    .config(\"spark.sql.session.timeZone\", \"Etc/UTC\")\n",
    "    .config(\"spark.driver.memory\", \"4g\")\n",
    "    .getOrCreate()\n",
    ")\n",
    "spark.sparkContext.setLogLevel(\"ERROR\")"
   ]
  },
  {
   "cell_type": "markdown",
   "metadata": {},
   "source": [
    "## read transactions"
   ]
  },
  {
   "cell_type": "code",
   "execution_count": 2,
   "metadata": {},
   "outputs": [],
   "source": [
    "consumer_fraud_sdf = spark.read.parquet(\"../data/temp/consumer_fraud\")\n",
    "transaction_sdf1 = spark.read.parquet(\"../data/tables/transactions_20210228_20210827_snapshot\")\n",
    "transaction_sdf2 = spark.read.parquet(\"../data/tables/transactions_20210828_20220227_snapshot\")\n",
    "transaction_sdf3 = spark.read.parquet(\"../data/tables/transactions_20220228_20220828_snapshot\")\n",
    "transaction = transaction_sdf1.union(transaction_sdf2).union(transaction_sdf3)"
   ]
  },
  {
   "cell_type": "code",
   "execution_count": 3,
   "metadata": {},
   "outputs": [
    {
     "name": "stdout",
     "output_type": "stream",
     "text": [
      "root\n",
      " |-- user_id: long (nullable = true)\n",
      " |-- merchant_abn: long (nullable = true)\n",
      " |-- dollar_value: double (nullable = true)\n",
      " |-- order_id: string (nullable = true)\n",
      " |-- order_datetime: date (nullable = true)\n",
      "\n"
     ]
    }
   ],
   "source": [
    "transaction_sdf1.printSchema()"
   ]
  },
  {
   "cell_type": "markdown",
   "metadata": {},
   "source": [
    "### plot on transaction 1"
   ]
  },
  {
   "cell_type": "code",
   "execution_count": 4,
   "metadata": {},
   "outputs": [
    {
     "name": "stderr",
     "output_type": "stream",
     "text": [
      "                                                                                \r"
     ]
    }
   ],
   "source": [
    "from pyspark.sql import functions as F\n",
    "\n",
    "consumer_agg_daily_sdf1 = transaction_sdf1.groupBy([\"user_id\",\"order_datetime\"]).agg(\n",
    "    F.sum(F.col('dollar_value')).alias('tot_dollar_value'),\n",
    "    F.countDistinct(F.col('order_id')).alias(\"total_order\")\n",
    ")\n",
    "\n",
    "consumer_fraud_join_df1 = consumer_agg_daily_sdf1.join(consumer_fraud_sdf,on=[\"user_id\",\"order_datetime\"]).toPandas()"
   ]
  },
  {
   "cell_type": "code",
   "execution_count": 5,
   "metadata": {},
   "outputs": [
    {
     "data": {
      "text/plain": [
       "Text(0.5, 1.0, 'tot_dollar_value vs fraud_probability')"
      ]
     },
     "execution_count": 5,
     "metadata": {},
     "output_type": "execute_result"
    },
    {
     "data": {
      "image/png": "[encoded data removed]",
      "text/plain": [
       "<Figure size 432x288 with 1 Axes>"
      ]
     },
     "metadata": {
      "needs_background": "light"
     },
     "output_type": "display_data"
    }
   ],
   "source": [
    "import matplotlib.pyplot as plt\n",
    "plt.scatter(x=consumer_fraud_join_df1[\"tot_dollar_value\"],y=consumer_fraud_join_df1[\"fraud_probability\"])\n",
    "plt.xlabel('tot_dollar_value')\n",
    "plt.ylabel('fraud_probability') \n",
    "plt.title('tot_dollar_value vs fraud_probability')\n"
   ]
  },
  {
   "cell_type": "code",
   "execution_count": 6,
   "metadata": {},
   "outputs": [
    {
     "data": {
      "text/plain": [
       "Text(0.5, 1.0, 'total_order vs fraud_probability')"
      ]
     },
     "execution_count": 6,
     "metadata": {},
     "output_type": "execute_result"
    },
    {
     "data": {
      "image/png": "[encoded data removed]",
      "text/plain": [
       "<Figure size 432x288 with 1 Axes>"
      ]
     },
     "metadata": {
      "needs_background": "light"
     },
     "output_type": "display_data"
    }
   ],
   "source": [
    "plt.scatter(x=consumer_fraud_join_df1[\"total_order\"],y=consumer_fraud_join_df1[\"fraud_probability\"])\n",
    "plt.xlabel('total_order')\n",
    "plt.ylabel('fraud_probability') \n",
    "plt.title('total_order vs fraud_probability')"
   ]
  },
  {
   "cell_type": "markdown",
   "metadata": {},
   "source": [
    "### plot on transaction 2"
   ]
  },
  {
   "cell_type": "code",
   "execution_count": 7,
   "metadata": {},
   "outputs": [
    {
     "name": "stderr",
     "output_type": "stream",
     "text": [
      "                                                                                \r"
     ]
    }
   ],
   "source": [
    "consumer_agg_daily_sdf2 = transaction_sdf2.groupBy([\"user_id\",\"order_datetime\"]).agg(\n",
    "    F.sum(F.col('dollar_value')).alias('tot_dollar_value'),\n",
    "    F.countDistinct(F.col('order_id')).alias(\"total_order\")\n",
    ")\n",
    "\n",
    "consumer_fraud_join_df2 = consumer_agg_daily_sdf2.join(consumer_fraud_sdf,on=[\"user_id\",\"order_datetime\"]).toPandas()"
   ]
  },
  {
   "cell_type": "code",
   "execution_count": 8,
   "metadata": {},
   "outputs": [
    {
     "data": {
      "text/plain": [
       "Text(0.5, 1.0, 'tot_dollar_value vs fraud_probability')"
      ]
     },
     "execution_count": 8,
     "metadata": {},
     "output_type": "execute_result"
    },
    {
     "data": {
      "image/png": "[encoded data removed]",
      "text/plain": [
       "<Figure size 432x288 with 1 Axes>"
      ]
     },
     "metadata": {
      "needs_background": "light"
     },
     "output_type": "display_data"
    }
   ],
   "source": [
    "plt.scatter(x=consumer_fraud_join_df2[\"tot_dollar_value\"],y=consumer_fraud_join_df2[\"fraud_probability\"])\n",
    "plt.xlabel('tot_dollar_value')\n",
    "plt.ylabel('fraud_probability') \n",
    "plt.title('tot_dollar_value vs fraud_probability')"
   ]
  },
  {
   "cell_type": "code",
   "execution_count": 9,
   "metadata": {},
   "outputs": [
    {
     "data": {
      "text/plain": [
       "Text(0.5, 1.0, 'total_order vs fraud_probability')"
      ]
     },
     "execution_count": 9,
     "metadata": {},
     "output_type": "execute_result"
    },
    {
     "data": {
      "image/png": "[encoded data removed]",
      "text/plain": [
       "<Figure size 432x288 with 1 Axes>"
      ]
     },
     "metadata": {
      "needs_background": "light"
     },
     "output_type": "display_data"
    }
   ],
   "source": [
    "plt.scatter(x=consumer_fraud_join_df2[\"total_order\"],y=consumer_fraud_join_df2[\"fraud_probability\"])\n",
    "plt.xlabel('total_order')\n",
    "plt.ylabel('fraud_probability') \n",
    "plt.title('total_order vs fraud_probability')"
   ]
  },
  {
   "cell_type": "markdown",
   "metadata": {},
   "source": [
    "## check distribution of normal transaction"
   ]
  },
  {
   "cell_type": "code",
   "execution_count": 10,
   "metadata": {},
   "outputs": [
    {
     "name": "stderr",
     "output_type": "stream",
     "text": [
      "                                                                                \r"
     ]
    }
   ],
   "source": [
    "consumer_agg_daily_df1 = consumer_agg_daily_sdf1.toPandas()"
   ]
  },
  {
   "cell_type": "code",
   "execution_count": 11,
   "metadata": {},
   "outputs": [
    {
     "data": {
      "image/png": "[encoded data removed]",
      "text/plain": [
       "<Figure size 432x288 with 1 Axes>"
      ]
     },
     "metadata": {
      "needs_background": "light"
     },
     "output_type": "display_data"
    }
   ],
   "source": [
    "fig = plt.figure()\n",
    "ax1 = fig.add_subplot(111)\n",
    "\n",
    "ax1.scatter(x=consumer_agg_daily_df1['tot_dollar_value'], y=[0]*consumer_agg_daily_df1['tot_dollar_value'].count(),label=\"transaction 1\")\n",
    "ax1.scatter(x=consumer_fraud_join_df2[\"tot_dollar_value\"],y=consumer_fraud_join_df2[\"fraud_probability\"],label=\"fraud transaction\")\n",
    "plt.legend(loc='upper left')\n",
    "plt.show()\n",
    "\n",
    "# plt.scatter(x=consumer_agg_daily_df1['tot_dollar_value'], y=[np.mean(consumer_agg_daily_df1['tot_dollar_value'])]*consumer_agg_daily_df1['tot_dollar_value'].count())"
   ]
  },
  {
   "cell_type": "code",
   "execution_count": 12,
   "metadata": {},
   "outputs": [
    {
     "data": {
      "image/png": "[encoded data removed]",
      "text/plain": [
       "<Figure size 432x288 with 1 Axes>"
      ]
     },
     "metadata": {
      "needs_background": "light"
     },
     "output_type": "display_data"
    }
   ],
   "source": [
    "fig = plt.figure()\n",
    "ax1 = fig.add_subplot(111)\n",
    "\n",
    "ax1.hist(x=consumer_agg_daily_df1['tot_dollar_value'],label=\"transaction 1\")\n",
    "ax1.hist(x=consumer_fraud_join_df2[\"tot_dollar_value\"],label=\"fraud transaction\")\n",
    "plt.legend(loc='upper left')\n",
    "plt.show()"
   ]
  },
  {
   "cell_type": "markdown",
   "metadata": {},
   "source": [
    "# Regression on fraud probability"
   ]
  },
  {
   "cell_type": "code",
   "execution_count": 13,
   "metadata": {},
   "outputs": [
    {
     "name": "stdout",
     "output_type": "stream",
     "text": [
      "                            OLS Regression Results                            \n",
      "==============================================================================\n",
      "Dep. Variable:      fraud_probability   R-squared:                       0.818\n",
      "Model:                            OLS   Adj. R-squared:                  0.818\n",
      "Method:                 Least Squares   F-statistic:                 5.208e+04\n",
      "Date:                Sat, 15 Oct 2022   Prob (F-statistic):               0.00\n",
      "Time:                        17:43:01   Log-Likelihood:                -99899.\n",
      "No. Observations:               34864   AIC:                         1.998e+05\n",
      "Df Residuals:                   34860   BIC:                         1.998e+05\n",
      "Df Model:                           3                                         \n",
      "Covariance Type:            nonrobust                                         \n",
      "================================================================================================\n",
      "                                   coef    std err          t      P>|t|      [0.025      0.975]\n",
      "------------------------------------------------------------------------------------------------\n",
      "Intercept                        5.9526      0.071     83.517      0.000       5.813       6.092\n",
      "tot_dollar_value                 0.0020   1.09e-05    179.650      0.000       0.002       0.002\n",
      "total_order                      0.0046      0.028      0.164      0.870      -0.050       0.059\n",
      "tot_dollar_value:total_order  -4.58e-05   4.44e-06    -10.305      0.000   -5.45e-05   -3.71e-05\n",
      "==============================================================================\n",
      "Omnibus:                    15795.972   Durbin-Watson:                   1.295\n",
      "Prob(Omnibus):                  0.000   Jarque-Bera (JB):          1380308.952\n",
      "Skew:                          -1.275   Prob(JB):                         0.00\n",
      "Kurtosis:                      33.720   Cond. No.                     6.09e+04\n",
      "==============================================================================\n",
      "\n",
      "Notes:\n",
      "[1] Standard Errors assume that the covariance matrix of the errors is correctly specified.\n",
      "[2] The condition number is large, 6.09e+04. This might indicate that there are\n",
      "strong multicollinearity or other numerical problems.\n"
     ]
    },
    {
     "name": "stderr",
     "output_type": "stream",
     "text": [
      "/var/folders/vm/4b2l4xh10_71ktbck3tm2plr0000gn/T/ipykernel_22683/3275048092.py:5: FutureWarning: The frame.append method is deprecated and will be removed from pandas in a future version. Use pandas.concat instead.\n",
      "  consumer_fraud_join_df_1_2 = consumer_fraud_join_df1.append(consumer_fraud_join_df2, ignore_index=True)\n"
     ]
    }
   ],
   "source": [
    "from statsmodels.formula.api import ols, glm\n",
    "from pyspark.ml.feature import VectorAssembler\n",
    "from pyspark.ml.regression import LinearRegression\n",
    "\n",
    "consumer_fraud_join_df_1_2 = consumer_fraud_join_df1.append(consumer_fraud_join_df2, ignore_index=True)\n",
    "\n",
    "fit = ols(\n",
    "    formula=\"fraud_probability ~ tot_dollar_value + total_order + tot_dollar_value/total_order\",\n",
    "    data=consumer_fraud_join_df_1_2\n",
    ").fit()\n",
    "\n",
    "print(fit.summary())"
   ]
  },
  {
   "cell_type": "markdown",
   "metadata": {},
   "source": [
    "total_order is no longer significant, but the interaction term is.\n",
    "the interaction term explains why the scatter plot has a log like shape. \n",
    "When total amount is the same, less avg dollar value meaning less fraud prob\n",
    "\n",
    "### Formula: fraud_probability ~ tot_dollar_value + tot_dollar_value/total_order"
   ]
  },
  {
   "cell_type": "markdown",
   "metadata": {},
   "source": [
    "## Train model with pyspark model\n",
    " consider scalability we will use pyspark module instead\n",
    "\n",
    "\n",
    "edit: use logistic regression with identity link instead , because our response is 0-1, and the g(response) = response follows a linear trend with our predictors"
   ]
  },
  {
   "cell_type": "code",
   "execution_count": 14,
   "metadata": {},
   "outputs": [],
   "source": [
    "consumer_agg_daily_train = spark.createDataFrame(consumer_fraud_join_df_1_2) \\\n",
    "    .withColumn(\n",
    "        \"avg_dollar_value\",\n",
    "        F.col(\"tot_dollar_value\")/F.col(\"total_order\") # interaction feature added\n",
    "    )"
   ]
  },
  {
   "cell_type": "code",
   "execution_count": 15,
   "metadata": {},
   "outputs": [
    {
     "name": "stderr",
     "output_type": "stream",
     "text": [
      "                                                                                \r"
     ]
    },
    {
     "data": {
      "text/plain": [
       "([Row(fraud_features=DenseVector([6727.7169, 3363.8585])),\n",
       "  Row(fraud_features=DenseVector([6143.6003, 3071.8001])),\n",
       "  Row(fraud_features=DenseVector([4175.3948, 2087.6974])),\n",
       "  Row(fraud_features=DenseVector([21873.3539, 10936.6769])),\n",
       "  Row(fraud_features=DenseVector([8453.9698, 2113.4924]))],\n",
       " [Row(fraud_probability=12.35590520479631),\n",
       "  Row(fraud_probability=9.613837691105958),\n",
       "  Row(fraud_probability=8.707459655061616),\n",
       "  Row(fraud_probability=35.081845582853106),\n",
       "  Row(fraud_probability=16.34958640412933)])"
      ]
     },
     "execution_count": 15,
     "metadata": {},
     "output_type": "execute_result"
    }
   ],
   "source": [
    "from pyspark.ml.regression import LinearRegression\n",
    "# from pyspark.ml.regression import GeneralizedLinearRegression\n",
    "from pyspark.ml.feature import VectorAssembler\n",
    "# from pyspark.ml.feature import Interaction\n",
    "# consumer_regression = consumer_agg_daily_all[[]].apply(lambda row:join_prob_p_val(row[0],row[1],row[2],row[3],row[4],row[5]),axis=1)\n",
    "features = 'fraud_features'\n",
    "input_cols = ['tot_dollar_value','avg_dollar_value'] \n",
    "# assembler = Interaction()\n",
    "# assembler.setInputCols([\"tot_dollar_value\", \"total_order\"])\n",
    "# assembler.setOutputCol(\"interaction\")\n",
    "assembler = VectorAssembler(\n",
    "    # which column to combine\n",
    "    inputCols=input_cols, \n",
    "    # How should the combined columns be named\n",
    "    outputCol=features\n",
    ")\n",
    "\n",
    "model_sdf = assembler.transform(consumer_agg_daily_train.dropna('any'))\n",
    "# Display the features and targets for our model\n",
    "model_sdf.select(features).head(5), model_sdf.select('fraud_probability').head(5)\n",
    "\n"
   ]
  },
  {
   "cell_type": "code",
   "execution_count": 16,
   "metadata": {},
   "outputs": [],
   "source": [
    "lm = LinearRegression(\n",
    "    featuresCol=features, \n",
    "    labelCol='fraud_probability',\n",
    "    maxIter=1000\n",
    ").fit(model_sdf)\n",
    "\n",
    "# glm = GeneralizedLinearRegression(\n",
    "#     family=\"binomial\", \n",
    "#     link=\"identity\",\n",
    "#     predictionCol='prediction',\n",
    "#     labelCol='fraud_probability',\n",
    "# ).fit(model_sdf)\n"
   ]
  },
  {
   "cell_type": "code",
   "execution_count": 17,
   "metadata": {},
   "outputs": [],
   "source": [
    "# print(lm.coefficients)\n",
    "# print(lm.intercept)\n",
    "# coefficient is different, investigate"
   ]
  },
  {
   "cell_type": "code",
   "execution_count": 18,
   "metadata": {},
   "outputs": [],
   "source": [
    "# save model\n",
    "\n",
    "model_path = \"../models\" + \"/fraud_regression\"\n",
    "lm.write().overwrite().save(model_path)\n"
   ]
  },
  {
   "cell_type": "markdown",
   "metadata": {},
   "source": [
    "## apply the pyspark model to all data"
   ]
  },
  {
   "cell_type": "code",
   "execution_count": 19,
   "metadata": {},
   "outputs": [],
   "source": [
    "consumer_agg_daily_all = transaction.groupBy([\"user_id\",\"order_datetime\"]).agg(\n",
    "    F.sum(F.col('dollar_value')).alias('tot_dollar_value'),\n",
    "    F.countDistinct(F.col('order_id')).alias(\"total_order\")\n",
    ").withColumn(\n",
    "    \"avg_dollar_value\",\n",
    "    F.col(\"tot_dollar_value\")/F.col(\"total_order\") # interaction feature added\n",
    ")\n",
    "#consumer_agg_daily_all.count() # 9 mil data\n"
   ]
  },
  {
   "cell_type": "code",
   "execution_count": 20,
   "metadata": {},
   "outputs": [],
   "source": [
    "from pyspark.ml.regression import LinearRegressionModel\n",
    "from pyspark.ml.feature import VectorAssembler\n",
    "model_path = \"../models\" + \"/fraud_regression\"\n",
    "lm = LinearRegressionModel.load(model_path)\n",
    "features = 'fraud_features'\n",
    "input_cols = ['tot_dollar_value','avg_dollar_value'] \n",
    "# assembler = Interaction()\n",
    "# assembler.setInputCols([\"tot_dollar_value\", \"total_order\"])\n",
    "# assembler.setOutputCol(\"interaction\")\n",
    "assembler = VectorAssembler(\n",
    "    # which column to combine\n",
    "    inputCols=input_cols, \n",
    "    # How should the combined columns be named\n",
    "    outputCol=features\n",
    ")\n",
    "\n",
    "predict_sdf = assembler.transform(consumer_agg_daily_all)\n",
    "result_sdf = lm.transform(predict_sdf)\n"
   ]
  },
  {
   "cell_type": "code",
   "execution_count": 21,
   "metadata": {},
   "outputs": [
    {
     "name": "stderr",
     "output_type": "stream",
     "text": [
      "[Stage 31:==================================================>  (189 + 10) / 200]\r"
     ]
    },
    {
     "name": "stdout",
     "output_type": "stream",
     "text": [
      "+-------+--------------+------------------+-----------+------------------+--------------------+-----------------+\n",
      "|user_id|order_datetime|  tot_dollar_value|total_order|  avg_dollar_value|      fraud_features|       prediction|\n",
      "+-------+--------------+------------------+-----------+------------------+--------------------+-----------------+\n",
      "|   4909|    2021-08-14| 8.708161126433486|          1| 8.708161126433486|[8.70816112643348...|5.973959006808364|\n",
      "|   6733|    2021-08-06| 692.9174793294284|          2| 346.4587396647142|[692.917479329428...|7.224009413782358|\n",
      "|   7353|    2021-08-21|1481.0680965297024|          1|1481.0680965297024|[1481.06809652970...|8.973842017456562|\n",
      "|  10922|    2021-08-27|432.90400267568697|          5|  86.5808005351374|[432.904002675686...|6.694297183134011|\n",
      "|  11326|    2021-08-16| 82.27732319306581|          1| 82.27732319306581|[82.2773231930658...|6.123853658302577|\n",
      "+-------+--------------+------------------+-----------+------------------+--------------------+-----------------+\n",
      "only showing top 5 rows\n",
      "\n"
     ]
    },
    {
     "name": "stderr",
     "output_type": "stream",
     "text": [
      "                                                                                \r"
     ]
    }
   ],
   "source": [
    "result_sdf.show(5)"
   ]
  },
  {
   "cell_type": "code",
   "execution_count": 22,
   "metadata": {},
   "outputs": [
    {
     "name": "stderr",
     "output_type": "stream",
     "text": [
      "                                                                                \r"
     ]
    }
   ],
   "source": [
    "from pyspark.sql.types import StructType, StructField, LongType\n",
    "\n",
    "def with_column_index(sdf): \n",
    "    new_schema = StructType(sdf.schema.fields + [StructField(\"ColumnIndex\", LongType(), False),])\n",
    "    return sdf.rdd.zipWithIndex().map(lambda row: row[0] + (row[1],)).toDF(schema=new_schema)\n",
    "\n",
    "df1_ci = with_column_index(consumer_agg_daily_all)\n",
    "df2_ci = with_column_index(result_sdf)\n",
    "\n",
    "\n",
    "user_datetime_predict_sdf = df1_ci.join(df2_ci, df1_ci.ColumnIndex == df2_ci.ColumnIndex, 'inner').drop(\"ColumnIndex\")\n",
    "\n",
    "\n",
    "#user_datetime_predict_sdf = consumer_agg_daily_all.join(result_sdf.select([\"prediction\",\"columnindex\"]),on=\"columnindex\")\n",
    "user_datetime_predict_sdf= user_datetime_predict_sdf.withColumnRenamed(\n",
    "    \"prediction\",\n",
    "    \"fraud_prob\"\n",
    ")"
   ]
  },
  {
   "cell_type": "markdown",
   "metadata": {},
   "source": [
    "## "
   ]
  },
  {
   "cell_type": "markdown",
   "metadata": {},
   "source": [
    "## calculate the discounted revenue"
   ]
  },
  {
   "cell_type": "code",
   "execution_count": 23,
   "metadata": {},
   "outputs": [],
   "source": [
    "from pyspark.sql.functions import udf, array\n",
    "from pyspark.sql.types import FloatType\n",
    "THRESHHOLD = lm.intercept\n",
    "\n",
    "def calculate_discounted_revenue(rate):\n",
    "    if rate < THRESHHOLD:\n",
    "        return 1\n",
    "    elif rate > 100:\n",
    "        return 0\n",
    "    else: \n",
    "        return 1-(rate*0.01)\n",
    "       \n",
    "# sdf = sdf.withColumn(\n",
    "#     'transformed_col',\n",
    "#     some_udf(F.col('raw_col'))\n",
    "# )\n",
    "convert_rate = udf(lambda z: calculate_discounted_revenue(z),FloatType())"
   ]
  },
  {
   "cell_type": "code",
   "execution_count": 24,
   "metadata": {},
   "outputs": [
    {
     "ename": "AnalysisException",
     "evalue": "Reference 'user_id' is ambiguous, could be: user_id, user_id.",
     "output_type": "error",
     "traceback": [
      "\u001b[0;31m---------------------------------------------------------------------------\u001b[0m",
      "\u001b[0;31mAnalysisException\u001b[0m                         Traceback (most recent call last)",
      "\u001b[0;32m/var/folders/vm/4b2l4xh10_71ktbck3tm2plr0000gn/T/ipykernel_22683/1050572882.py\u001b[0m in \u001b[0;36m<module>\u001b[0;34m\u001b[0m\n\u001b[1;32m     11\u001b[0m \u001b[0;34m\u001b[0m\u001b[0m\n\u001b[1;32m     12\u001b[0m     \u001b[0muser_discounted_spending_sdf\u001b[0m \u001b[0;34m=\u001b[0m \u001b[0mmerchant_user_agg_sdf\u001b[0m\u001b[0;31m \u001b[0m\u001b[0;31m\\\u001b[0m\u001b[0;34m\u001b[0m\u001b[0;34m\u001b[0m\u001b[0m\n\u001b[0;32m---> 13\u001b[0;31m         \u001b[0;34m.\u001b[0m\u001b[0mjoin\u001b[0m\u001b[0;34m(\u001b[0m\u001b[0muser_datetime_predict_sdf\u001b[0m\u001b[0;34m.\u001b[0m\u001b[0mselect\u001b[0m\u001b[0;34m(\u001b[0m\u001b[0;34m[\u001b[0m\u001b[0;34m\"user_id\"\u001b[0m\u001b[0;34m,\u001b[0m\u001b[0;34m\"order_datetime\"\u001b[0m\u001b[0;34m,\u001b[0m\u001b[0;34m\"fraud_prob\"\u001b[0m\u001b[0;34m]\u001b[0m\u001b[0;34m)\u001b[0m\u001b[0;34m,\u001b[0m\u001b[0mon\u001b[0m\u001b[0;34m=\u001b[0m\u001b[0;34m[\u001b[0m\u001b[0;34m\"user_id\"\u001b[0m\u001b[0;34m,\u001b[0m\u001b[0;34m\"order_datetime\"\u001b[0m\u001b[0;34m]\u001b[0m\u001b[0;34m)\u001b[0m\u001b[0;31m \u001b[0m\u001b[0;31m\\\u001b[0m\u001b[0;34m\u001b[0m\u001b[0;34m\u001b[0m\u001b[0m\n\u001b[0m\u001b[1;32m     14\u001b[0m         .withColumn(\n\u001b[1;32m     15\u001b[0m             \u001b[0;34m\"convert_rate\"\u001b[0m\u001b[0;34m,\u001b[0m\u001b[0;34m\u001b[0m\u001b[0;34m\u001b[0m\u001b[0m\n",
      "\u001b[0;32m~/opt/anaconda3/envs/ML/lib/python3.9/site-packages/pyspark/sql/dataframe.py\u001b[0m in \u001b[0;36mselect\u001b[0;34m(self, *cols)\u001b[0m\n\u001b[1;32m   1667\u001b[0m         \u001b[0;34m[\u001b[0m\u001b[0mRow\u001b[0m\u001b[0;34m(\u001b[0m\u001b[0mname\u001b[0m\u001b[0;34m=\u001b[0m\u001b[0;34m'Alice'\u001b[0m\u001b[0;34m,\u001b[0m \u001b[0mage\u001b[0m\u001b[0;34m=\u001b[0m\u001b[0;36m12\u001b[0m\u001b[0;34m)\u001b[0m\u001b[0;34m,\u001b[0m \u001b[0mRow\u001b[0m\u001b[0;34m(\u001b[0m\u001b[0mname\u001b[0m\u001b[0;34m=\u001b[0m\u001b[0;34m'Bob'\u001b[0m\u001b[0;34m,\u001b[0m \u001b[0mage\u001b[0m\u001b[0;34m=\u001b[0m\u001b[0;36m15\u001b[0m\u001b[0;34m)\u001b[0m\u001b[0;34m]\u001b[0m\u001b[0;34m\u001b[0m\u001b[0;34m\u001b[0m\u001b[0m\n\u001b[1;32m   1668\u001b[0m         \"\"\"\n\u001b[0;32m-> 1669\u001b[0;31m         \u001b[0mjdf\u001b[0m \u001b[0;34m=\u001b[0m \u001b[0mself\u001b[0m\u001b[0;34m.\u001b[0m\u001b[0m_jdf\u001b[0m\u001b[0;34m.\u001b[0m\u001b[0mselect\u001b[0m\u001b[0;34m(\u001b[0m\u001b[0mself\u001b[0m\u001b[0;34m.\u001b[0m\u001b[0m_jcols\u001b[0m\u001b[0;34m(\u001b[0m\u001b[0;34m*\u001b[0m\u001b[0mcols\u001b[0m\u001b[0;34m)\u001b[0m\u001b[0;34m)\u001b[0m\u001b[0;34m\u001b[0m\u001b[0;34m\u001b[0m\u001b[0m\n\u001b[0m\u001b[1;32m   1670\u001b[0m         \u001b[0;32mreturn\u001b[0m \u001b[0mDataFrame\u001b[0m\u001b[0;34m(\u001b[0m\u001b[0mjdf\u001b[0m\u001b[0;34m,\u001b[0m \u001b[0mself\u001b[0m\u001b[0;34m.\u001b[0m\u001b[0msql_ctx\u001b[0m\u001b[0;34m)\u001b[0m\u001b[0;34m\u001b[0m\u001b[0;34m\u001b[0m\u001b[0m\n\u001b[1;32m   1671\u001b[0m \u001b[0;34m\u001b[0m\u001b[0m\n",
      "\u001b[0;32m~/opt/anaconda3/envs/ML/lib/python3.9/site-packages/py4j/java_gateway.py\u001b[0m in \u001b[0;36m__call__\u001b[0;34m(self, *args)\u001b[0m\n\u001b[1;32m   1302\u001b[0m \u001b[0;34m\u001b[0m\u001b[0m\n\u001b[1;32m   1303\u001b[0m         \u001b[0manswer\u001b[0m \u001b[0;34m=\u001b[0m \u001b[0mself\u001b[0m\u001b[0;34m.\u001b[0m\u001b[0mgateway_client\u001b[0m\u001b[0;34m.\u001b[0m\u001b[0msend_command\u001b[0m\u001b[0;34m(\u001b[0m\u001b[0mcommand\u001b[0m\u001b[0;34m)\u001b[0m\u001b[0;34m\u001b[0m\u001b[0;34m\u001b[0m\u001b[0m\n\u001b[0;32m-> 1304\u001b[0;31m         return_value = get_return_value(\n\u001b[0m\u001b[1;32m   1305\u001b[0m             answer, self.gateway_client, self.target_id, self.name)\n\u001b[1;32m   1306\u001b[0m \u001b[0;34m\u001b[0m\u001b[0m\n",
      "\u001b[0;32m~/opt/anaconda3/envs/ML/lib/python3.9/site-packages/pyspark/sql/utils.py\u001b[0m in \u001b[0;36mdeco\u001b[0;34m(*a, **kw)\u001b[0m\n\u001b[1;32m    115\u001b[0m                 \u001b[0;31m# Hide where the exception came from that shows a non-Pythonic\u001b[0m\u001b[0;34m\u001b[0m\u001b[0;34m\u001b[0m\u001b[0m\n\u001b[1;32m    116\u001b[0m                 \u001b[0;31m# JVM exception message.\u001b[0m\u001b[0;34m\u001b[0m\u001b[0;34m\u001b[0m\u001b[0m\n\u001b[0;32m--> 117\u001b[0;31m                 \u001b[0;32mraise\u001b[0m \u001b[0mconverted\u001b[0m \u001b[0;32mfrom\u001b[0m \u001b[0;32mNone\u001b[0m\u001b[0;34m\u001b[0m\u001b[0;34m\u001b[0m\u001b[0m\n\u001b[0m\u001b[1;32m    118\u001b[0m             \u001b[0;32melse\u001b[0m\u001b[0;34m:\u001b[0m\u001b[0;34m\u001b[0m\u001b[0;34m\u001b[0m\u001b[0m\n\u001b[1;32m    119\u001b[0m                 \u001b[0;32mraise\u001b[0m\u001b[0;34m\u001b[0m\u001b[0;34m\u001b[0m\u001b[0m\n",
      "\u001b[0;31mAnalysisException\u001b[0m: Reference 'user_id' is ambiguous, could be: user_id, user_id."
     ]
    }
   ],
   "source": [
    "# run slice by slice\n",
    "transaction_slices = [transaction_sdf1,transaction_sdf2,transaction_sdf3]\n",
    "\n",
    "for i in range(3):\n",
    "    merchant_user_agg_sdf = transaction_slices[i].groupBy([\"merchant_abn\",\"order_datetime\",\"user_id\"]).agg(\n",
    "        F.countDistinct(F.col(\"order_id\")).alias(\"no_order\"),\n",
    "        F.sum(F.col(\"dollar_value\")).alias(\"dollar_amount\")\n",
    "    )\n",
    "\n",
    "\n",
    "\n",
    "    user_discounted_spending_sdf = merchant_user_agg_sdf \\\n",
    "        .join(user_datetime_predict_sdf.select([\"user_id\",\"order_datetime\",\"fraud_prob\"]),on=[\"user_id\",\"order_datetime\"]) \\\n",
    "        .withColumn(\n",
    "            \"convert_rate\",\n",
    "            convert_rate(F.col(\"fraud_prob\"))\n",
    "        ).withColumn(\n",
    "            \"discounted_spending\",\n",
    "            F.col(\"convert_rate\") * F.col(\"dollar_amount\")\n",
    "        )\n",
    "\n",
    "    merchant_discounted_daily_revenue = user_discounted_spending_sdf.groupBy([\"merchant_abn\",\"order_datetime\"]).agg(\n",
    "        F.sum(F.col(\"discounted_spending\")).alias(\"discounted_daily_revenue\")\n",
    "    )\n",
    "\n",
    "    merchant_discounted_daily_revenue.write.mode('overwrite').parquet(f'../data/curated/merchant_discounted_daily_revenue_slice_{i}.parquet')\n"
   ]
  },
  {
   "cell_type": "markdown",
   "metadata": {},
   "source": [
    "### debug (dont need to put into the script)"
   ]
  },
  {
   "cell_type": "code",
   "execution_count": null,
   "metadata": {},
   "outputs": [],
   "source": [
    "test = merchant_discounted_daily_revenue.where(\n",
    "    F.col(\"discounted_daily_revenue\")<0\n",
    ")\n",
    "############\n",
    "# merchant_user_agg_sdf =transaction_sdf1.groupBy([\"merchant_abn\",\"order_datetime\",\"user_id\"]).agg(\n",
    "#     F.countDistinct(F.col(\"order_id\")).alias(\"no_order\"),\n",
    "#     F.sum(F.col(\"dollar_value\")).alias(\"dollar_amount\")\n",
    "# )\n",
    "\n",
    "\n",
    "\n",
    "# test = merchant_user_agg_sdf \\\n",
    "#     .join(user_datetime_predict_sdf.select([\"user_id\",\"order_datetime\",\"fraud_prob\"]),on=[\"user_id\",\"order_datetime\"]) \\\n",
    "#     .withColumn(\n",
    "#         \"convert_rate\",\n",
    "#         convert_rate(F.col(\"fraud_prob\"))\n",
    "#     )\n",
    "\n",
    "# test_filter = test.where(\n",
    "#     F.col(\"convert_rate\") < 0\n",
    "# )"
   ]
  },
  {
   "cell_type": "code",
   "execution_count": null,
   "metadata": {},
   "outputs": [],
   "source": [
    "test.count()"
   ]
  },
  {
   "cell_type": "code",
   "execution_count": null,
   "metadata": {},
   "outputs": [],
   "source": [
    "user_discounted_spending_sdf.head(5)"
   ]
  },
  {
   "cell_type": "code",
   "execution_count": null,
   "metadata": {},
   "outputs": [],
   "source": [
    "#test_filter.count() # 0"
   ]
  },
  {
   "cell_type": "code",
   "execution_count": null,
   "metadata": {},
   "outputs": [],
   "source": [
    "#user_datetime_predict_sdf.head()\n",
    "user_discounted_spending_sdf = merchant_user_agg_sdf \\\n",
    "        .join(user_datetime_predict_sdf.select([\"user_id\",\"order_datetime\",\"fraud_prob\"]),on=[\"user_id\",\"order_datetime\"]) \\\n",
    "        .withColumn(\n",
    "            \"convert_rate\",\n",
    "            convert_rate(F.col(\"fraud_prob\"))\n",
    "        )"
   ]
  },
  {
   "cell_type": "code",
   "execution_count": null,
   "metadata": {},
   "outputs": [],
   "source": [
    "test = user_discounted_spending_sdf.where(\n",
    "    F.col(\"convert_rate\") < 0\n",
    ")"
   ]
  },
  {
   "cell_type": "code",
   "execution_count": null,
   "metadata": {},
   "outputs": [],
   "source": [
    "test.head()"
   ]
  },
  {
   "cell_type": "code",
   "execution_count": null,
   "metadata": {},
   "outputs": [],
   "source": [
    "merchant_discounted_daily_revenue = user_discounted_spending_sdf.groupBy([\"merchant_abn\",\"order_datetime\"]).agg(\n",
    "    F.sum(F.col(\"discounted_spending\")).alias(\"discounted_daily_revenue\")\n",
    ")"
   ]
  },
  {
   "cell_type": "code",
   "execution_count": null,
   "metadata": {},
   "outputs": [],
   "source": [
    "merchant_discounted_daily_revenue.printSchema()"
   ]
  },
  {
   "cell_type": "code",
   "execution_count": null,
   "metadata": {},
   "outputs": [],
   "source": [
    "merchant_discounted_daily_revenue.head()"
   ]
  },
  {
   "cell_type": "code",
   "execution_count": null,
   "metadata": {},
   "outputs": [],
   "source": [
    "#merchant_discounted_daily_revenue.head() # cant run"
   ]
  },
  {
   "cell_type": "code",
   "execution_count": null,
   "metadata": {},
   "outputs": [],
   "source": [
    "# from pyspark.sql import functions as F\n",
    "# slice0 = spark.read.parquet(\"../data/curated/merchant_discounted_daily_revenue_slice_0.parquet\")\n",
    "# slice1 = spark.read.parquet(\"../data/curated/merchant_discounted_daily_revenue_slice_1.parquet\")\n",
    "# slice3 = spark.read.parquet(\"../data/curated/merchant_discounted_daily_revenue_slice_2.parquet\")\n",
    "\n",
    "# combine_slices = slice0.union(slice1).union(slice3)\n",
    "\n",
    "# test = combine_slices.where(\n",
    "#     F.col(\"discounted_daily_revenue\") < 0\n",
    "# ).count()\n",
    "\n",
    "# test"
   ]
  },
  {
   "cell_type": "markdown",
   "metadata": {},
   "source": [
    "### Remove Fraud data from the transaction set(don't put it into script)\n",
    "since fraud data is only a small subset of the data, consider remove all transaction entries with fraud probability\n"
   ]
  },
  {
   "cell_type": "code",
   "execution_count": null,
   "metadata": {},
   "outputs": [],
   "source": [
    "# convert merchant fraud, consumer fraud to spark df\n",
    "merchant_fraud_df = pd.read_csv(\"../data/tables/merchant_fraud_probability.csv\")\n",
    "merchant_fraud_df.to_parquet(\"../data/temp/merchant_fraud\")\n",
    "merchant_fraud_sdf = spark.read.parquet(\"../data/temp/merchant_fraud\")\n",
    "\n",
    "consumer_fraud_df = pd.read_csv(\"../data/tables/consumer_fraud_probability.csv\")\n",
    "consumer_fraud_df.to_parquet(\"../data/temp/consumer_fraud\")\n",
    "consumer_fraud_sdf = spark.read.parquet(\"../data/temp/consumer_fraud\")"
   ]
  },
  {
   "cell_type": "code",
   "execution_count": null,
   "metadata": {},
   "outputs": [],
   "source": [
    "# save all transaction data to a spark dataframe: transaction\n",
    "transaction_sdf1 = spark.read.parquet(\"../data/tables/transactions_20210228_20210827_snapshot\")\n",
    "transaction_sdf2 = spark.read.parquet(\"../data/tables/transactions_20210828_20220227_snapshot\")\n",
    "transaction_sdf3 = spark.read.parquet(\"../data/tables/transactions_20220228_20220828_snapshot\")\n",
    "transaction = transaction_sdf1.union(transaction_sdf2).union(transaction_sdf3)"
   ]
  },
  {
   "cell_type": "code",
   "execution_count": null,
   "metadata": {},
   "outputs": [],
   "source": [
    "# find all transaction on merchant fraud day\n",
    "merchant_fraud_sdf = spark.read.parquet(\"../data/temp/merchant_fraud\")\n",
    "merchant_transaction_on_fraud_day = transaction.join(merchant_fraud_sdf.select([\"merchant_abn\",\"order_datetime\"]), on=[\"merchant_abn\",\"order_datetime\"])"
   ]
  },
  {
   "cell_type": "code",
   "execution_count": null,
   "metadata": {},
   "outputs": [],
   "source": [
    "transaction.printSchema()"
   ]
  },
  {
   "cell_type": "code",
   "execution_count": null,
   "metadata": {},
   "outputs": [],
   "source": [
    "merchant_transaction_on_fraud_day.printSchema()"
   ]
  },
  {
   "cell_type": "code",
   "execution_count": null,
   "metadata": {},
   "outputs": [],
   "source": [
    "# find all transaction on consumer fraud day\n",
    "consumer_fraud_sdf = spark.read.parquet(\"../data/temp/consumer_fraud\")\n",
    "consumer_transaction_on_fraud_day = transaction.join(consumer_fraud_sdf.select([\"user_id\",\"order_datetime\"]), on=[\"user_id\",\"order_datetime\"])"
   ]
  },
  {
   "cell_type": "code",
   "execution_count": null,
   "metadata": {},
   "outputs": [],
   "source": [
    "# filter fraud transactions\n",
    "\n",
    "order = [\"user_id\",\"merchant_abn\",\"dollar_value\",\"order_id\",\"order_datetime\"]\n",
    "transaction_fraud_rm = transaction.subtract(merchant_transaction_on_fraud_day.select(order)).subtract(consumer_transaction_on_fraud_day.select(order))"
   ]
  },
  {
   "cell_type": "markdown",
   "metadata": {},
   "source": [
    "transaction_fraud_rm can be used for further analysis"
   ]
  },
  {
   "cell_type": "markdown",
   "metadata": {},
   "source": [
    "### Derive fraud rate and other features\n",
    "\n",
    "#### Definition:\n",
    "\n",
    "Merchant Fraud rate: weighted fraud orders / total orders\n",
    "Fraud \n"
   ]
  }
 ],
 "metadata": {
  "kernelspec": {
   "display_name": "Python 3.8.10 64-bit",
   "language": "python",
   "name": "python3"
  },
  "language_info": {
   "codemirror_mode": {
    "name": "ipython",
    "version": 3
   },
   "file_extension": ".py",
   "mimetype": "text/x-python",
   "name": "python",
   "nbconvert_exporter": "python",
   "pygments_lexer": "ipython3",
   "version": "3.9.7"
  },
  "orig_nbformat": 4,
  "vscode": {
   "interpreter": {
    "hash": "916dbcbb3f70747c44a77c7bcd40155683ae19c65e1c03b4aa3499c5328201f1"
   }
  }
 },
 "nbformat": 4,
 "nbformat_minor": 2
}
