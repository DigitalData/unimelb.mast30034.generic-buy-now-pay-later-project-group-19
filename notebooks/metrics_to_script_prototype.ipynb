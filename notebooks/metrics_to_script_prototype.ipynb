{
 "cells": [
  {
   "cell_type": "markdown",
   "id": "787f07e0",
   "metadata": {},
   "source": [
    "# Testing environment to transfer functions to script"
   ]
  },
  {
   "cell_type": "code",
   "execution_count": 1,
   "id": "a1d13065",
   "metadata": {},
   "outputs": [
    {
     "name": "stderr",
     "output_type": "stream",
     "text": [
      "[nltk_data] Downloading package omw-1.4 to /Users/oliver/nltk_data...\n",
      "[nltk_data]   Package omw-1.4 is already up-to-date!\n",
      "[nltk_data] Downloading package stopwords to\n",
      "[nltk_data]     /Users/oliver/nltk_data...\n",
      "[nltk_data]   Package stopwords is already up-to-date!\n",
      "[nltk_data] Downloading package words to /Users/oliver/nltk_data...\n",
      "[nltk_data]   Package words is already up-to-date!\n",
      "[nltk_data] Downloading package punkt to /Users/oliver/nltk_data...\n",
      "[nltk_data]   Package punkt is already up-to-date!\n",
      "[nltk_data] Downloading package wordnet to /Users/oliver/nltk_data...\n",
      "[nltk_data]   Package wordnet is already up-to-date!\n"
     ]
    }
   ],
   "source": [
    "from collections import defaultdict\n",
    "import os\n",
    "os.chdir(\"/Users/oliver/Documents/GitHub/generic-buy-now-pay-later-project-group-19/scripts\")\n",
    "import sys\n",
    "import argparse\n",
    "import re\n",
    "# ... TODO: Add to this as necessary\n",
    "\n",
    "# External Libraries\n",
    "import pandas as pd\n",
    "import numpy as np\n",
    "from pyspark.sql import SparkSession, DataFrame\n",
    "# ... TODO: Add to this as necessary\n",
    "\n",
    "# Our Modules\n",
    "from utilities.log_utilities import logger\n",
    "import utilities.print_utilities as PRINT\n",
    "import utilities.read_utilities as READ\n",
    "import utilities.clean_utilities as CLEAN\n",
    "import utilities.agg_utilities as AGG\n",
    "import utilities.write_utilities as WRITE"
   ]
  },
  {
   "cell_type": "code",
   "execution_count": 2,
   "id": "62d76e8b",
   "metadata": {},
   "outputs": [],
   "source": [
    "spark = (\n",
    "        SparkSession.builder.appName(\"MAST30034 Project 2\")\n",
    "        .config(\"spark.sql.repl.eagerEval.enabled\", True) \n",
    "        .config(\"spark.sql.parquet.cacheMetadata\", \"true\")\n",
    "        .config(\"spark.sql.session.timeZone\", \"Etc/UTC\")\n",
    "        .config(\"spark.driver.memory\", \"4g\")\n",
    "        .getOrCreate()\n",
    "    )"
   ]
  },
  {
   "cell_type": "code",
   "execution_count": null,
   "id": "f223f104",
   "metadata": {},
   "outputs": [],
   "source": [
    "os.getcwd()"
   ]
  },
  {
   "cell_type": "code",
   "execution_count": null,
   "id": "fe03fab2",
   "metadata": {},
   "outputs": [],
   "source": [
    "data_dict = READ.read_data(spark, \"../data/tables\")"
   ]
  },
  {
   "cell_type": "code",
   "execution_count": null,
   "id": "6321f7fe",
   "metadata": {},
   "outputs": [],
   "source": [
    "CLEAN.clean_data(spark, data_dict)"
   ]
  },
  {
   "cell_type": "code",
   "execution_count": null,
   "id": "7e7f9050",
   "metadata": {},
   "outputs": [],
   "source": [
    "data_dict.keys()"
   ]
  },
  {
   "cell_type": "code",
   "execution_count": null,
   "id": "ce305e36",
   "metadata": {},
   "outputs": [],
   "source": [
    "data_dict_2 = data_dict.copy()"
   ]
  },
  {
   "cell_type": "code",
   "execution_count": null,
   "id": "cbab8744",
   "metadata": {},
   "outputs": [],
   "source": [
    "spark.catalog.clearCache()"
   ]
  },
  {
   "cell_type": "code",
   "execution_count": null,
   "id": "55079c17",
   "metadata": {},
   "outputs": [],
   "source": [
    "AGG.compute_aggregates(spark, data_dict)"
   ]
  },
  {
   "cell_type": "code",
   "execution_count": null,
   "id": "87780fba",
   "metadata": {},
   "outputs": [],
   "source": [
    "data_dict.keys()"
   ]
  },
  {
   "cell_type": "code",
   "execution_count": 16,
   "id": "08456289",
   "metadata": {},
   "outputs": [],
   "source": [
    "from pyspark.sql import functions as F\n",
    "import pandas as pd\n",
    "from datetime import datetime\n",
    "\n",
    "def compute_merchant_metric(spark: SparkSession, merchant_sales: DataFrame,\n",
    "                           merchant: DataFrame) -> DataFrame:\n",
    "    \n",
    "    \n",
    "    # This part is taking a while \n",
    "    date_range = merchant_sales.select(F.min(F.col(\"order_datetime\")), \n",
    "                                       F.max(F.col(\"order_datetime\"))\n",
    "                                      ).first()\n",
    "    \n",
    "    min_date, max_date = (datetime.strptime(date_range[0], \"%Y-%m-%d\"), \n",
    "                          datetime.strptime(date_range[1], \"%Y-%m-%d\"))\n",
    "    \n",
    "    num_days = (max_date - min_date).days\n",
    "    \n",
    "    # Group first to reduce the table size before joining\n",
    "    merchant_daily_sales = merchant_sales.groupby('merchant_abn').agg(\n",
    "        (F.sum(F.col('sales_revenue')) / num_days).alias('avg_daily_rev'),\n",
    "        (F.sum(F.col('sales_revenue')) / F.sum(F.col('no_orders'))).alias('avg_value_per_order'),\n",
    "        (F.sum(F.col('no_orders')) / num_days).alias('avg_daily_order')\n",
    "    )\n",
    "    \n",
    "    merchant_daily_sales = merchant.join(\n",
    "        merchant_daily_sales, \n",
    "        on=[\"merchant_abn\"],\n",
    "        how='left'\n",
    "    ).toPandas()\n",
    "    \n",
    "    \n",
    "    merchant_daily_sales['avg_daily_commission'] = merchant_daily_sales['avg_daily_rev'] * (merchant_daily_sales['take_rate']/100)\n",
    "    merchant_daily_sales['avg_commission_per_order'] = merchant_daily_sales['avg_value_per_order'] * (merchant_daily_sales['take_rate']/100)\n",
    "    \n",
    "    return merchant_daily_sales\n",
    "    "
   ]
  },
  {
   "cell_type": "code",
   "execution_count": null,
   "id": "31b31b9b",
   "metadata": {},
   "outputs": [],
   "source": [
    "data_dict['merchant_summary'] = compute_merchant_metric(spark, data_dict['merchant_sales'], data_dict['merchants'])"
   ]
  },
  {
   "cell_type": "code",
   "execution_count": null,
   "id": "ad18ad4f",
   "metadata": {},
   "outputs": [],
   "source": [
    "date_range = data_dict['merchant_sales'].select(F.min(F.col(\"order_datetime\")), F.max(F.col(\"order_datetime\"))).first()"
   ]
  },
  {
   "cell_type": "code",
   "execution_count": 7,
   "id": "ff0ca18a",
   "metadata": {},
   "outputs": [],
   "source": [
    "def compute_merchant_consumer(spark: SparkSession, transaction_df: DataFrame) -> DataFrame:\n",
    "    return transaction_df \\\n",
    "        .groupby(['merchant_abn', 'user_id']) \\\n",
    "        .agg({'dollar_value':'sum', 'order_id':'count'}) \\\n",
    "        .withColumnRenamed('sum(dollar_value)', 'dollar_spent') \\\n",
    "        .withColumnRenamed('count(order_id)', 'no_orders')\n",
    "\n",
    "\n",
    "    "
   ]
  },
  {
   "cell_type": "code",
   "execution_count": null,
   "id": "9723b1f3",
   "metadata": {},
   "outputs": [],
   "source": [
    "merchant_customer = compute_merchant_customer(spark, data_dict['transactions'])"
   ]
  },
  {
   "cell_type": "code",
   "execution_count": null,
   "id": "c8de8c9f",
   "metadata": {},
   "outputs": [],
   "source": [
    "merchant_customer"
   ]
  },
  {
   "cell_type": "code",
   "execution_count": null,
   "id": "8dc91663",
   "metadata": {},
   "outputs": [],
   "source": [
    "merchant_customer.count()"
   ]
  },
  {
   "cell_type": "code",
   "execution_count": null,
   "id": "fa226122",
   "metadata": {},
   "outputs": [],
   "source": [
    "data_dict['consumer_user_mappings']"
   ]
  },
  {
   "cell_type": "code",
   "execution_count": null,
   "id": "445232bf",
   "metadata": {},
   "outputs": [],
   "source": [
    "data_dict['postcodes'].select('sa2_code').distinct().count()"
   ]
  },
  {
   "cell_type": "code",
   "execution_count": null,
   "id": "daa2cd5e",
   "metadata": {},
   "outputs": [],
   "source": [
    "consumer_sa2_data = data_dict['consumers'].select(['consumer_id','postcode']).join(data_dict['postcodes'], 'postcode', 'left')\n",
    "consumer_sa2_data = consumer_sa2_data.withColumn('sa2_code', consumer_sa2_data['sa2_code'].cast(IntegerType()))\n",
    "consumer_sa2_data = consumer_sa2_data.join(data_dict['consumer_user_mappings'], 'consumer_id', 'left')"
   ]
  },
  {
   "cell_type": "code",
   "execution_count": null,
   "id": "b319d379",
   "metadata": {},
   "outputs": [],
   "source": [
    "merchant_cust_detail = merchant_customer.select(['merchant_abn', 'user_id']).join(consumer_sa2_data, 'user_id', 'left')"
   ]
  },
  {
   "cell_type": "code",
   "execution_count": null,
   "id": "ed5edbda",
   "metadata": {},
   "outputs": [],
   "source": [
    "merchant_cust_detail_v2 = merchant_cust_detail.sample(0.1)"
   ]
  },
  {
   "cell_type": "code",
   "execution_count": null,
   "id": "d4609023",
   "metadata": {},
   "outputs": [],
   "source": [
    "merchant_cust_detail_v2.groupby('merchant_abn').agg(F.countDistinct('sa2_code').alias('sa2_region_count'))"
   ]
  },
  {
   "cell_type": "code",
   "execution_count": null,
   "id": "ea856997",
   "metadata": {},
   "outputs": [],
   "source": [
    "from pyspark.sql.types import IntegerType\n",
    "census_data = census_data.withColumn(\"sa2_code\", census_data['sa2_code'].cast(IntegerType()))"
   ]
  },
  {
   "cell_type": "code",
   "execution_count": null,
   "id": "7ae40196",
   "metadata": {},
   "outputs": [],
   "source": [
    "census_data = data_dict['census'].select(['sa2_code','median_tot_prsnl_inc_weekly'])"
   ]
  },
  {
   "cell_type": "code",
   "execution_count": null,
   "id": "843d5860",
   "metadata": {},
   "outputs": [],
   "source": [
    "#example 1213496 consumer_id 9389 user_id"
   ]
  },
  {
   "cell_type": "code",
   "execution_count": null,
   "id": "8f1ef21c",
   "metadata": {},
   "outputs": [],
   "source": [
    "consumer_sa2_data"
   ]
  },
  {
   "cell_type": "code",
   "execution_count": null,
   "id": "9560c167",
   "metadata": {},
   "outputs": [],
   "source": [
    "inc_join = consumer_sa2_data.join(data_dict['census'].select(['sa2_code','median_tot_prsnl_inc_weekly']), 'sa2_code','left')"
   ]
  },
  {
   "cell_type": "code",
   "execution_count": null,
   "id": "b458b09a",
   "metadata": {},
   "outputs": [],
   "source": [
    "inc_agg = inc_join.groupby('user_id').agg({'median_tot_prsnl_inc_weekly':'mean'})"
   ]
  },
  {
   "cell_type": "code",
   "execution_count": null,
   "id": "71a439cd",
   "metadata": {},
   "outputs": [],
   "source": [
    "inc_agg.where(F.col('user_id') == 9389)"
   ]
  },
  {
   "cell_type": "code",
   "execution_count": null,
   "id": "f1469f23",
   "metadata": {},
   "outputs": [],
   "source": [
    "from pyspark.sql.types import IntegerType\n",
    "census_df = spark.read.csv(f\"/Users/oliver/Documents/GitHub/generic-buy-now-pay-later-project-group-19/data/tables/SA2/AUS/2021Census_G02_AUST_SA2.csv\", header = True)\n",
    "census_df = census_df.select([\n",
    "    F.col(colname).alias(colname.lower()) for colname in census_df.columns\n",
    "])\n",
    "\n",
    "sa2_code_colname = ''\n",
    "for colname in census_df.columns:\n",
    "    if re.search(r'sa2_code_\\d{4}', colname.lower()) is not None:\n",
    "        logger.debug(f'The SA2 colname is \"{colname}\"')\n",
    "        sa2_code_colname = colname.lower()\n",
    "\n",
    "census_df = census_df.withColumn(\n",
    "    sa2_code_colname, \n",
    "    census_df[sa2_code_colname].cast(IntegerType())\n",
    ")\n",
    "\n",
    "data_dict['census'] = census_df.select([\n",
    "    F.col(colname).alias(colname.lower()) for colname in census_df.columns\n",
    "]).withColumnRenamed(sa2_code_colname, 'sa2_code')"
   ]
  },
  {
   "cell_type": "code",
   "execution_count": 54,
   "id": "1ce5b1f2",
   "metadata": {},
   "outputs": [],
   "source": [
    "def compute_consumer_region(spark: SparkSession, consumers: DataFrame, \n",
    "                            postcodes: DataFrame, user_mapping: DataFrame) -> DataFrame:\n",
    "    \n",
    "    return consumers.select(\n",
    "            ['consumer_id','postcode']\n",
    "        ).join(\n",
    "            postcodes, \n",
    "            'postcode', \n",
    "            'left'\n",
    "        ).withColumn(\n",
    "            'sa2_code', \n",
    "            F.col('sa2_code').cast(IntegerType())\n",
    "        ).join(\n",
    "            user_mapping, \n",
    "            'consumer_id', \n",
    "            'left'\n",
    "        )\n",
    "\n",
    "\n",
    "def compute_region_income(spark: SparkSession, consumer_region: DataFrame,\n",
    "                         census: DataFrame) -> DataFrame:\n",
    "    \n",
    "    return consumer_region.join(\n",
    "                census.select([\n",
    "                    'sa2_code',\n",
    "                    'median_tot_prsnl_inc_weekly'\n",
    "                ]), \n",
    "                'sa2_code',\n",
    "                'left'\n",
    "            ).groupby(\n",
    "                'user_id'\n",
    "            ).agg(\n",
    "                {'median_tot_prsnl_inc_weekly':'mean'}\n",
    "            ).withColumnRenamed(\n",
    "                'avg(median_tot_prsnl_inc_weekly)', \n",
    "                'median_weekly_income'\n",
    "            )\n",
    "    \n",
    "    \n",
    "def compute_merchant_region(spark: SparkSession, merchant_consumer: DataFrame,\n",
    "                           consumer_region: DataFrame) -> DataFrame:\n",
    "    \n",
    "    return merchant_consumer.select([\n",
    "            'merchant_abn', \n",
    "            'user_id'\n",
    "        ]).join(\n",
    "            consumer_region, \n",
    "            'user_id', \n",
    "            'left'\n",
    "        ).groupby(\n",
    "            'merchant_abn'\n",
    "        ).agg(\n",
    "            F.countDistinct('sa2_code').alias('sa2_region_count')\n",
    "        )\n",
    "\n",
    "def compute_merchant_customer_income(spark: SparkSession, merchant_consumer: DataFrame,\n",
    "                           consumer_region_income: DataFrame) -> DataFrame:\n",
    "    \n",
    "    return merchant_consumer.select([\n",
    "            'merchant_abn', \n",
    "            'user_id'\n",
    "        ]).join(\n",
    "            consumer_region_income, \n",
    "            'user_id', \n",
    "            'left'\n",
    "        ).groupby(\n",
    "            'merchant_abn'\n",
    "        ).agg(\n",
    "            F.mean(F.col('median_weekly_income')).alias('median_customer_income')\n",
    "        )\n",
    "\n",
    "def compute_returning_customer(spark: SparkSession, \n",
    "                               merchant_consumer: DataFrame) -> DataFrame:\n",
    "    \n",
    "    return merchant_consumer.groupby(\n",
    "            'merchant_abn'\n",
    "        ).agg(\n",
    "            F.count(\n",
    "                    F.when(F.col('no_orders')>2, True)\n",
    "                ).alias(\n",
    "                    'returning_customer'\n",
    "                ),\n",
    "            F.mean(F.col('dollar_spent')).alias('mean_spending'),\n",
    "            F.stddev(F.col('dollar_spent')).alias('std_spending')\n",
    "        )\n",
    "\n",
    "\n",
    "def compute_vip_customer(spark: SparkSession, merchant_consumer: DataFrame,\n",
    "                        merchant_statistics: DataFrame) -> DataFrame:\n",
    "\n",
    "    return merchant_consumer.join(\n",
    "        merchant_statistics, \n",
    "        'merchant_abn',\n",
    "        'left'\n",
    "    ).groupby(\n",
    "        'merchant_abn'\n",
    "    ).agg(\n",
    "        F.count(\n",
    "            F.when(\n",
    "                (F.col('dollar_spent') > 100) &\n",
    "                (F.col('dollar_spent') > F.col('mean_spending') + 2 * F.col('std_spending')),\n",
    "                True\n",
    "            )\n",
    "        ).alias(\n",
    "            'vip_customer'\n",
    "        )\n",
    "    )"
   ]
  },
  {
   "cell_type": "code",
   "execution_count": null,
   "id": "c1992da0",
   "metadata": {},
   "outputs": [],
   "source": [
    "region = compute_consumer_region(spark, data_dict['consumers'], data_dict['postcodes'], data_dict['consumer_user_mappings'])"
   ]
  },
  {
   "cell_type": "code",
   "execution_count": null,
   "id": "07eff263",
   "metadata": {},
   "outputs": [],
   "source": [
    "inc = compute_region_income(spark, region, census_data)"
   ]
  },
  {
   "cell_type": "code",
   "execution_count": null,
   "id": "f9516a9f",
   "metadata": {},
   "outputs": [],
   "source": [
    "inc"
   ]
  },
  {
   "cell_type": "code",
   "execution_count": 4,
   "id": "d6342685",
   "metadata": {},
   "outputs": [],
   "source": [
    "path = \"/Users/oliver/Documents/GitHub/generic-buy-now-pay-later-project-group-19/data/tables/transactions_20210228_20210827_snapshot/\"\n",
    "transaction = spark.read.parquet(path,header = True)\n"
   ]
  },
  {
   "cell_type": "code",
   "execution_count": 8,
   "id": "c000bc9d",
   "metadata": {},
   "outputs": [],
   "source": [
    "merc_cons = compute_merchant_consumer(spark, transaction)"
   ]
  },
  {
   "cell_type": "code",
   "execution_count": 44,
   "id": "1ae1f505",
   "metadata": {},
   "outputs": [
    {
     "data": {
      "text/html": [
       "<table border='1'>\n",
       "<tr><th>merchant_abn</th><th>vip_customer</th></tr>\n",
       "<tr><td>12516851436</td><td>0</td></tr>\n",
       "<tr><td>15613631617</td><td>10</td></tr>\n",
       "<tr><td>19839532017</td><td>2</td></tr>\n",
       "<tr><td>24406529929</td><td>19</td></tr>\n",
       "<tr><td>28767881738</td><td>0</td></tr>\n",
       "<tr><td>34440496342</td><td>1</td></tr>\n",
       "<tr><td>35344855546</td><td>5</td></tr>\n",
       "<tr><td>37935728745</td><td>0</td></tr>\n",
       "<tr><td>38700038932</td><td>18</td></tr>\n",
       "<tr><td>38986645707</td><td>0</td></tr>\n",
       "<tr><td>41956465747</td><td>1</td></tr>\n",
       "<tr><td>48214071373</td><td>4</td></tr>\n",
       "<tr><td>52763133264</td><td>1</td></tr>\n",
       "<tr><td>56395390867</td><td>0</td></tr>\n",
       "<tr><td>57798993346</td><td>0</td></tr>\n",
       "<tr><td>60654402457</td><td>0</td></tr>\n",
       "<tr><td>73256306726</td><td>26</td></tr>\n",
       "<tr><td>73841664453</td><td>4</td></tr>\n",
       "<tr><td>78916025936</td><td>0</td></tr>\n",
       "<tr><td>83412691377</td><td>51</td></tr>\n",
       "</table>\n",
       "only showing top 20 rows\n"
      ],
      "text/plain": [
       "+------------+------------+\n",
       "|merchant_abn|vip_customer|\n",
       "+------------+------------+\n",
       "| 12516851436|           0|\n",
       "| 15613631617|          10|\n",
       "| 19839532017|           2|\n",
       "| 24406529929|          19|\n",
       "| 28767881738|           0|\n",
       "| 34440496342|           1|\n",
       "| 35344855546|           5|\n",
       "| 37935728745|           0|\n",
       "| 38700038932|          18|\n",
       "| 38986645707|           0|\n",
       "| 41956465747|           1|\n",
       "| 48214071373|           4|\n",
       "| 52763133264|           1|\n",
       "| 56395390867|           0|\n",
       "| 57798993346|           0|\n",
       "| 60654402457|           0|\n",
       "| 73256306726|          26|\n",
       "| 73841664453|           4|\n",
       "| 78916025936|           0|\n",
       "| 83412691377|          51|\n",
       "+------------+------------+\n",
       "only showing top 20 rows"
      ]
     },
     "execution_count": 44,
     "metadata": {},
     "output_type": "execute_result"
    }
   ],
   "source": [
    "merchant_statistics = merc_cons.groupby(\n",
    "    'merchant_abn'\n",
    ").agg(\n",
    "    F.mean(F.col('dollar_spent')).alias('mean_spending'),\n",
    "    F.stddev(F.col('dollar_spent')).alias('std_spending')\n",
    ")\n",
    "\n",
    "merc_cons.join(\n",
    "    merchant_statistics, \n",
    "    'merchant_abn',\n",
    "    'left'\n",
    ").groupby(\n",
    "    'merchant_abn'\n",
    ").agg(\n",
    "    F.count(\n",
    "        F.when(\n",
    "            (F.col('dollar_spent') > 100) &\n",
    "            (F.col('dollar_spent') > F.col('mean_spending') + 2 * F.col('std_spending')),\n",
    "            True\n",
    "        )\n",
    "    ).alias(\n",
    "        'vip_customer'\n",
    "    )\n",
    ")"
   ]
  },
  {
   "cell_type": "code",
   "execution_count": 48,
   "id": "0e365c2d",
   "metadata": {},
   "outputs": [],
   "source": [
    "merchant_statistics = compute_returning_customer(spark, merc_cons)"
   ]
  },
  {
   "cell_type": "code",
   "execution_count": 55,
   "id": "c88da72d",
   "metadata": {},
   "outputs": [
    {
     "data": {
      "text/html": [
       "<table border='1'>\n",
       "<tr><th>merchant_abn</th><th>returning_customer</th><th>mean_spending</th><th>std_spending</th><th>new</th></tr>\n",
       "<tr><td>24406529929</td><td>0</td><td>68.45607596038252</td><td>63.91682510434578</td><td>6845.607596038252</td></tr>\n",
       "<tr><td>15613631617</td><td>0</td><td>302.4760492581066</td><td>200.53183984696304</td><td>30247.60492581066</td></tr>\n",
       "<tr><td>83412691377</td><td>11</td><td>37.62677301716173</td><td>27.28524252497756</td><td>3762.677301716173</td></tr>\n",
       "<tr><td>38700038932</td><td>0</td><td>1361.0240586198474</td><td>795.7031236859461</td><td>136102.40586198473</td></tr>\n",
       "<tr><td>73256306726</td><td>0</td><td>301.32681089641665</td><td>251.34510497612197</td><td>30132.681089641665</td></tr>\n",
       "<tr><td>35344855546</td><td>0</td><td>88.94095273560168</td><td>64.37579959825493</td><td>8894.095273560168</td></tr>\n",
       "<tr><td>48214071373</td><td>0</td><td>292.4918702910962</td><td>209.91786087901653</td><td>29249.187029109617</td></tr>\n",
       "<tr><td>96946925998</td><td>0</td><td>960.4679852638474</td><td>675.4122858954569</td><td>96046.79852638474</td></tr>\n",
       "<tr><td>73841664453</td><td>0</td><td>89.56630681095595</td><td>55.29437738358223</td><td>8956.630681095596</td></tr>\n",
       "<tr><td>19839532017</td><td>0</td><td>158.67021276595744</td><td>16.149957896584137</td><td>15867.021276595744</td></tr>\n",
       "<tr><td>52763133264</td><td>0</td><td>114.28108156911779</td><td>86.92007591541703</td><td>11428.10815691178</td></tr>\n",
       "<tr><td>78916025936</td><td>0</td><td>354.1591683038211</td><td>211.8291511072213</td><td>35415.91683038211</td></tr>\n",
       "<tr><td>60654402457</td><td>0</td><td>85.89400701511872</td><td>32.35446560674658</td><td>8589.400701511871</td></tr>\n",
       "<tr><td>38986645707</td><td>0</td><td>983.1061316040801</td><td>785.8035271066751</td><td>98310.61316040801</td></tr>\n",
       "<tr><td>12516851436</td><td>0</td><td>141.29232703715246</td><td>77.82758359843776</td><td>14129.232703715246</td></tr>\n",
       "<tr><td>34440496342</td><td>0</td><td>85.88446821921984</td><td>49.808171707854896</td><td>8588.446821921983</td></tr>\n",
       "<tr><td>41956465747</td><td>0</td><td>238.38372164186754</td><td>151.29671045363415</td><td>23838.372164186752</td></tr>\n",
       "<tr><td>57798993346</td><td>0</td><td>1283.9622370652303</td><td>494.46411957940074</td><td>128396.22370652303</td></tr>\n",
       "<tr><td>92202115241</td><td>0</td><td>292.6976080874729</td><td>162.13512945657226</td><td>29269.760808747287</td></tr>\n",
       "<tr><td>56395390867</td><td>0</td><td>1265.770916170346</td><td>627.2242068103562</td><td>126577.0916170346</td></tr>\n",
       "</table>\n",
       "only showing top 20 rows\n"
      ],
      "text/plain": [
       "+------------+------------------+------------------+------------------+------------------+\n",
       "|merchant_abn|returning_customer|     mean_spending|      std_spending|               new|\n",
       "+------------+------------------+------------------+------------------+------------------+\n",
       "| 24406529929|                 0| 68.45607596038252| 63.91682510434578| 6845.607596038252|\n",
       "| 15613631617|                 0| 302.4760492581066|200.53183984696304| 30247.60492581066|\n",
       "| 83412691377|                11| 37.62677301716173| 27.28524252497756| 3762.677301716173|\n",
       "| 38700038932|                 0|1361.0240586198474| 795.7031236859461|136102.40586198473|\n",
       "| 73256306726|                 0|301.32681089641665|251.34510497612197|30132.681089641665|\n",
       "| 35344855546|                 0| 88.94095273560168| 64.37579959825493| 8894.095273560168|\n",
       "| 48214071373|                 0| 292.4918702910962|209.91786087901653|29249.187029109617|\n",
       "| 96946925998|                 0| 960.4679852638474| 675.4122858954569| 96046.79852638474|\n",
       "| 73841664453|                 0| 89.56630681095595| 55.29437738358223| 8956.630681095596|\n",
       "| 19839532017|                 0|158.67021276595744|16.149957896584137|15867.021276595744|\n",
       "| 52763133264|                 0|114.28108156911779| 86.92007591541703| 11428.10815691178|\n",
       "| 78916025936|                 0| 354.1591683038211| 211.8291511072213| 35415.91683038211|\n",
       "| 60654402457|                 0| 85.89400701511872| 32.35446560674658| 8589.400701511871|\n",
       "| 38986645707|                 0| 983.1061316040801| 785.8035271066751| 98310.61316040801|\n",
       "| 12516851436|                 0|141.29232703715246| 77.82758359843776|14129.232703715246|\n",
       "| 34440496342|                 0| 85.88446821921984|49.808171707854896| 8588.446821921983|\n",
       "| 41956465747|                 0|238.38372164186754|151.29671045363415|23838.372164186752|\n",
       "| 57798993346|                 0|1283.9622370652303|494.46411957940074|128396.22370652303|\n",
       "| 92202115241|                 0| 292.6976080874729|162.13512945657226|29269.760808747287|\n",
       "| 56395390867|                 0| 1265.770916170346| 627.2242068103562| 126577.0916170346|\n",
       "+------------+------------------+------------------+------------------+------------------+\n",
       "only showing top 20 rows"
      ]
     },
     "execution_count": 55,
     "metadata": {},
     "output_type": "execute_result"
    }
   ],
   "source": [
    "merchant_statistics.withColumn('new', F.col('mean_spending')*100)"
   ]
  },
  {
   "cell_type": "code",
   "execution_count": 53,
   "id": "fe7bc3fc",
   "metadata": {},
   "outputs": [
    {
     "data": {
      "text/plain": [
       "4359"
      ]
     },
     "execution_count": 53,
     "metadata": {},
     "output_type": "execute_result"
    }
   ],
   "source": [
    "compute_vip_customer(spark, merc_cons, merchant_statistics).count()"
   ]
  },
  {
   "cell_type": "code",
   "execution_count": null,
   "id": "37e35b11",
   "metadata": {},
   "outputs": [],
   "source": []
  }
 ],
 "metadata": {
  "kernelspec": {
   "display_name": "Python 3",
   "language": "python",
   "name": "python3"
  },
  "language_info": {
   "codemirror_mode": {
    "name": "ipython",
    "version": 3
   },
   "file_extension": ".py",
   "mimetype": "text/x-python",
   "name": "python",
   "nbconvert_exporter": "python",
   "pygments_lexer": "ipython3",
   "version": "3.7.4"
  }
 },
 "nbformat": 4,
 "nbformat_minor": 5
}
