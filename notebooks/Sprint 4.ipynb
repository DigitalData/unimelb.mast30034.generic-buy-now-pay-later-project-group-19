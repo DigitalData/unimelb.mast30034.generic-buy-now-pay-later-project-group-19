{
 "cells": [
  {
   "cell_type": "markdown",
   "id": "b111b297",
   "metadata": {},
   "source": [
    "# Sprint 4"
   ]
  },
  {
   "cell_type": "markdown",
   "id": "404f886d",
   "metadata": {},
   "source": [
    "Short summary of this week's checkpoints."
   ]
  },
  {
   "cell_type": "markdown",
   "id": "8d1b2dd8",
   "metadata": {},
   "source": [
    "## Completed and tested the ETL script\n",
    "We have completed and finalized the ETL script."
   ]
  },
  {
   "cell_type": "markdown",
   "id": "221ca176",
   "metadata": {},
   "source": [
    "## Curated merchant dataset"
   ]
  },
  {
   "cell_type": "markdown",
   "id": "ac7933ea",
   "metadata": {},
   "source": [
    "Metrics includes:\n",
    "- **Tags**: Specifying the categories/industry of the merchants products (one-hot encoded) <br><br>\n",
    "\n",
    "- **Average Daily Revenue**: Average earnings from merchant per day\n",
    "$$\\text{Average Daily Revenue}=\\frac{\\text{Total revenue}}{\\text{Number of days in the transaction data}}$$\n",
    "<br>\n",
    "- **Average Daily Order Count**: Average number of orders per day\n",
    "$$\\text{Average Daily Order Count}=\\frac{\\text{Total number of order}}{\\text{Number of days in the transaction data}}$$\n",
    "<br>\n",
    "- **Average Value per Order**: Average number of orders per day\n",
    "$$\\text{Average Value per Order}=\\frac{\\text{Total revenue}}{\\text{Total number of orders}}$$\n",
    "<br>\n",
    "- **Revenue Level**: Alphabetical order representation of the level of revenue bands\n",
    "$$\\text{Revenue Level}\\in\\{a,b,c,d,e\\}$$\n",
    "<br>\n",
    "- **Average Daily Commission**: Average daily commission that BNPL firm receives if 100\\% of the merchants' transaction is paid through the BNPL's platform\n",
    "$$\\text{Average Daily Commission}=\\text{Average Daily Revenue}\\times\\text{Take rate}$$\n",
    "<br>\n",
    "- **Average Commission per Order**: Average commission that BNPL firm receives per order from the merchant\n",
    "$$\\text{Average Commission per Order}=\\text{Average Value per Order}\\times\\text{Take rate}$$\n",
    "<br>\n",
    "- **Number of Sales Region**: Number of SA2 region that the merchant sells to.\n",
    "<br>\n",
    "- **Average Weekly Income of Consumer Base**: Average weekly income of the consumer base for the merchant. This indirectly tells us the repayability of the target consumers.\n",
    "<br>\n",
    "- **Number of Returning Customers**: Refers to number of returning customer (has ordered more than 2 times) of the merchant. \n",
    "<br>\n",
    "- **Average Customer Spending**: Refers to the average total spending of each customer on the merchant.\n",
    "$$\\text{Average Customer Spending}=\\frac{\\text{Total Revenue}}{\\text{Number of Customer}}$$\n",
    "<br>\n",
    "- **Standard Deviation of Customer Spending**: Refers to the standard deviation of the total spending of each customer on the merchant.\n",
    "<br>\n",
    "- **Fraud Rate**: Refer to the probability of fraudulent transactions of each merchant.\n",
    "<br>\n",
    "- **Number of VIP Customers**: Refers to the number of high value customer (VIP) of the merchant. Full derivation of the \"VIP\" standard is in the following [section](#Deriving-Merchant's-VIP-Customer)."
   ]
  },
  {
   "cell_type": "markdown",
   "id": "64b73362",
   "metadata": {},
   "source": [
    "## Overview of the Curated Data"
   ]
  },
  {
   "cell_type": "code",
   "execution_count": 26,
   "id": "4ed9aaae",
   "metadata": {},
   "outputs": [
    {
     "data": {
      "text/html": [
       "<table border='1'>\n",
       "<tr><th>merchant_abn</th><th>name</th><th>revenue_level</th><th>take_rate</th><th>and_appliance_rent_and_leasing</th><th>and_eyeglass</th><th>and_flower</th><th>and_integrated_system_design_service</th><th>and_jewelry_repair_shop</th><th>and_manufacturer</th><th>and_newspaper</th><th>and_other_pay_television_and_radio_service</th><th>and_restoration_service</th><th>and_sheet_music</th><th>and_silverware_shop</th><th>and_software</th><th>and_souvenir_shop</th><th>antique_shop_sale</th><th>art_dealer_and_gallery</th><th>artist_supply_and_craft_shop</th><th>bicycle_shop_sale_and_service</th><th>book</th><th>cable</th><th>card</th><th>clock</th><th>computer</th><th>computer_peripheral_equipment</th><th>computer_programming</th><th>data_processing</th><th>digital_good_book</th><th>equipment</th><th>except_appliance</th><th>florist_supply</th><th>furniture</th><th>gift</th><th>health_and_beauty_spa</th><th>hobby</th><th>home_furnishing_and_equipment_shop</th><th>including_nursery</th><th>jewelry</th><th>lawn_and_garden_supply_outlet</th><th>motor_vehicle_supply_and_new_part</th><th>movie</th><th>music</th><th>music_shop_musical_instrument</th><th>novelty</th><th>nursery_stock</th><th>office_supply_and_printing_and_writing_paper</th><th>optical_good</th><th>optician</th><th>periodical</th><th>piano</th><th>repair</th><th>satellite</th><th>shoe_shop</th><th>stationery</th><th>telecom</th><th>tent_and_awning_shop</th><th>tool</th><th>toy_and_game_shop</th><th>watch</th><th>avg_daily_rev</th><th>avg_value_per_order</th><th>avg_daily_order</th><th>avg_daily_commission</th><th>avg_commission_per_order</th><th>sa2_region_count</th><th>median_customer_income</th><th>returning_customer</th><th>mean_spending</th><th>std_spending</th><th>vip_customer</th></tr>\n",
       "<tr><td>10023283211</td><td>Felis Limited</td><td>e</td><td>0.18</td><td>0</td><td>0</td><td>0</td><td>0</td><td>0</td><td>1</td><td>0</td><td>0</td><td>0</td><td>0</td><td>0</td><td>0</td><td>0</td><td>0</td><td>0</td><td>0</td><td>0</td><td>0</td><td>0</td><td>0</td><td>0</td><td>0</td><td>0</td><td>0</td><td>0</td><td>0</td><td>0</td><td>1</td><td>0</td><td>1</td><td>0</td><td>0</td><td>0</td><td>1</td><td>0</td><td>0</td><td>0</td><td>0</td><td>0</td><td>0</td><td>0</td><td>0</td><td>0</td><td>0</td><td>0</td><td>0</td><td>0</td><td>0</td><td>0</td><td>0</td><td>0</td><td>0</td><td>0</td><td>0</td><td>0</td><td>0</td><td>0</td><td>1162.4424982659962</td><td>215.66320498341847</td><td>5.390082644628099</td><td>2.092396496878793</td><td>0.38819376897015323</td><td>1717</td><td>800.2595466118013</td><td>11</td><td>231.95175179779935</td><td>155.4244387797281</td><td>137</td></tr>\n",
       "<tr><td>10346855916</td><td>Odio Institute</td><td>b</td><td>3.57</td><td>1</td><td>0</td><td>0</td><td>0</td><td>0</td><td>0</td><td>0</td><td>0</td><td>0</td><td>0</td><td>0</td><td>0</td><td>0</td><td>0</td><td>0</td><td>0</td><td>0</td><td>0</td><td>0</td><td>0</td><td>0</td><td>0</td><td>0</td><td>0</td><td>0</td><td>0</td><td>1</td><td>0</td><td>0</td><td>1</td><td>0</td><td>0</td><td>0</td><td>0</td><td>0</td><td>0</td><td>0</td><td>0</td><td>0</td><td>0</td><td>0</td><td>0</td><td>0</td><td>0</td><td>0</td><td>0</td><td>0</td><td>0</td><td>0</td><td>0</td><td>0</td><td>0</td><td>0</td><td>0</td><td>1</td><td>0</td><td>0</td><td>11.198642107797072</td><td>1129.196412536205</td><td>0.009917355371900827</td><td>0.39979152324835543</td><td>40.31231192754251</td><td>7</td><td>795.4</td><td>0</td><td>1129.1964125362047</td><td>717.9884232271605</td><td>0</td></tr>\n",
       "<tr><td>10385163239</td><td>Sed Et Company</td><td>a</td><td>6.61</td><td>0</td><td>0</td><td>1</td><td>0</td><td>0</td><td>0</td><td>0</td><td>0</td><td>0</td><td>0</td><td>0</td><td>0</td><td>0</td><td>0</td><td>0</td><td>0</td><td>0</td><td>0</td><td>0</td><td>0</td><td>0</td><td>0</td><td>0</td><td>0</td><td>0</td><td>0</td><td>0</td><td>0</td><td>1</td><td>0</td><td>0</td><td>0</td><td>0</td><td>0</td><td>0</td><td>0</td><td>0</td><td>0</td><td>0</td><td>0</td><td>0</td><td>0</td><td>1</td><td>0</td><td>0</td><td>0</td><td>0</td><td>0</td><td>0</td><td>0</td><td>0</td><td>0</td><td>0</td><td>0</td><td>0</td><td>0</td><td>0</td><td>41.64208777760284</td><td>340.4522041276989</td><td>0.12231404958677686</td><td>2.7525420020995477</td><td>22.5038906928409</td><td>132</td><td>800.8532865502912</td><td>0</td><td>345.1159329513659</td><td>203.49632573045284</td><td>3</td></tr>\n",
       "<tr><td>10648956813</td><td>Proin Nisl Institute</td><td>a</td><td>6.66</td><td>0</td><td>0</td><td>0</td><td>0</td><td>0</td><td>0</td><td>0</td><td>0</td><td>0</td><td>0</td><td>0</td><td>1</td><td>0</td><td>0</td><td>0</td><td>0</td><td>0</td><td>0</td><td>0</td><td>0</td><td>0</td><td>1</td><td>1</td><td>0</td><td>0</td><td>0</td><td>0</td><td>0</td><td>0</td><td>0</td><td>0</td><td>0</td><td>0</td><td>0</td><td>0</td><td>0</td><td>0</td><td>0</td><td>0</td><td>0</td><td>0</td><td>0</td><td>0</td><td>0</td><td>0</td><td>0</td><td>0</td><td>0</td><td>0</td><td>0</td><td>0</td><td>0</td><td>0</td><td>0</td><td>0</td><td>0</td><td>0</td><td>2346.446772147432</td><td>64.58306251531762</td><td>36.33223140495868</td><td>156.273355025019</td><td>4.301231963520154</td><td>2208</td><td>835.3667664222346</td><td>1574</td><td>98.72046572664792</td><td>57.08381670151312</td><td>710</td></tr>\n",
       "<tr><td>10714068705</td><td>Sollicitudin Comm...</td><td>c</td><td>2.51</td><td>0</td><td>0</td><td>0</td><td>0</td><td>0</td><td>1</td><td>0</td><td>0</td><td>0</td><td>0</td><td>0</td><td>0</td><td>0</td><td>0</td><td>0</td><td>0</td><td>0</td><td>0</td><td>0</td><td>0</td><td>0</td><td>0</td><td>0</td><td>0</td><td>0</td><td>0</td><td>0</td><td>1</td><td>0</td><td>1</td><td>0</td><td>0</td><td>0</td><td>1</td><td>0</td><td>0</td><td>0</td><td>0</td><td>0</td><td>0</td><td>0</td><td>0</td><td>0</td><td>0</td><td>0</td><td>0</td><td>0</td><td>0</td><td>0</td><td>0</td><td>0</td><td>0</td><td>0</td><td>0</td><td>0</td><td>0</td><td>0</td><td>719.8511581173573</td><td>126.67537831908119</td><td>5.682644628099173</td><td>18.068264068745666</td><td>3.1795519958089375</td><td>1715</td><td>802.5061274870069</td><td>10</td><td>135.20954692983582</td><td>113.73704384014175</td><td>145</td></tr>\n",
       "<tr><td>11024352823</td><td>Aliquet Metus Urn...</td><td>c</td><td>2.62</td><td>0</td><td>0</td><td>0</td><td>0</td><td>0</td><td>0</td><td>0</td><td>0</td><td>1</td><td>0</td><td>0</td><td>0</td><td>0</td><td>1</td><td>0</td><td>0</td><td>0</td><td>0</td><td>0</td><td>0</td><td>0</td><td>0</td><td>0</td><td>0</td><td>0</td><td>0</td><td>0</td><td>0</td><td>0</td><td>0</td><td>0</td><td>0</td><td>0</td><td>0</td><td>0</td><td>0</td><td>0</td><td>0</td><td>0</td><td>0</td><td>0</td><td>0</td><td>0</td><td>0</td><td>0</td><td>0</td><td>0</td><td>0</td><td>1</td><td>0</td><td>0</td><td>0</td><td>0</td><td>0</td><td>0</td><td>0</td><td>0</td><td>158.05683709307078</td><td>213.92480188212042</td><td>0.7388429752066116</td><td>4.141089131838455</td><td>5.604829809311555</td><td>560</td><td>789.7292742572032</td><td>0</td><td>216.8353434043261</td><td>127.10127868459809</td><td>25</td></tr>\n",
       "<tr><td>11076688542</td><td>Amet Diam Industries</td><td>c</td><td>2.52</td><td>0</td><td>0</td><td>0</td><td>0</td><td>0</td><td>0</td><td>0</td><td>0</td><td>0</td><td>0</td><td>0</td><td>0</td><td>0</td><td>0</td><td>0</td><td>0</td><td>0</td><td>0</td><td>0</td><td>0</td><td>0</td><td>0</td><td>0</td><td>0</td><td>0</td><td>0</td><td>0</td><td>0</td><td>0</td><td>0</td><td>0</td><td>0</td><td>0</td><td>0</td><td>0</td><td>0</td><td>0</td><td>0</td><td>0</td><td>0</td><td>0</td><td>0</td><td>0</td><td>1</td><td>0</td><td>0</td><td>0</td><td>0</td><td>0</td><td>0</td><td>0</td><td>1</td><td>0</td><td>0</td><td>0</td><td>0</td><td>0</td><td>59.6638229574545</td><td>694.1656324857687</td><td>0.0859504132231405</td><td>1.5035283385278535</td><td>17.49297393864137</td><td>77</td><td>793.5411835748791</td><td>0</td><td>694.1656324857687</td><td>203.90943864074208</td><td>0</td></tr>\n",
       "<tr><td>11243046390</td><td>Ornare Placerat F...</td><td>c</td><td>1.94</td><td>0</td><td>0</td><td>0</td><td>0</td><td>0</td><td>0</td><td>1</td><td>0</td><td>0</td><td>0</td><td>0</td><td>0</td><td>0</td><td>0</td><td>0</td><td>0</td><td>0</td><td>1</td><td>0</td><td>0</td><td>0</td><td>0</td><td>0</td><td>0</td><td>0</td><td>0</td><td>0</td><td>0</td><td>0</td><td>0</td><td>0</td><td>0</td><td>0</td><td>0</td><td>0</td><td>0</td><td>0</td><td>0</td><td>0</td><td>0</td><td>0</td><td>0</td><td>0</td><td>0</td><td>0</td><td>0</td><td>1</td><td>0</td><td>0</td><td>0</td><td>0</td><td>0</td><td>0</td><td>0</td><td>0</td><td>0</td><td>0</td><td>184.62881122021696</td><td>243.35605836215962</td><td>0.7586776859504132</td><td>3.5817989376722092</td><td>4.721107532225897</td><td>548</td><td>797.8194877576402</td><td>0</td><td>247.12484687661785</td><td>216.31903746773241</td><td>16</td></tr>\n",
       "<tr><td>11848576000</td><td>Aenean Eget Corpo...</td><td>c</td><td>1.57</td><td>0</td><td>0</td><td>0</td><td>0</td><td>0</td><td>0</td><td>0</td><td>0</td><td>0</td><td>0</td><td>0</td><td>0</td><td>0</td><td>0</td><td>0</td><td>0</td><td>0</td><td>0</td><td>0</td><td>0</td><td>0</td><td>0</td><td>0</td><td>0</td><td>0</td><td>0</td><td>0</td><td>0</td><td>0</td><td>0</td><td>0</td><td>0</td><td>1</td><td>0</td><td>0</td><td>0</td><td>0</td><td>0</td><td>0</td><td>0</td><td>0</td><td>0</td><td>0</td><td>0</td><td>0</td><td>0</td><td>0</td><td>0</td><td>0</td><td>0</td><td>0</td><td>0</td><td>0</td><td>0</td><td>0</td><td>1</td><td>0</td><td>128.01897631218898</td><td>1358.7979064714793</td><td>0.09421487603305785</td><td>2.0098979281013674</td><td>21.33312713160223</td><td>100</td><td>805.5733037597951</td><td>0</td><td>1358.797906471479</td><td>517.2691602107512</td><td>0</td></tr>\n",
       "<tr><td>11944993446</td><td>Tincidunt Dui Corp.</td><td>a</td><td>6.6</td><td>0</td><td>0</td><td>0</td><td>0</td><td>0</td><td>0</td><td>0</td><td>0</td><td>0</td><td>0</td><td>0</td><td>0</td><td>1</td><td>0</td><td>0</td><td>0</td><td>0</td><td>0</td><td>0</td><td>1</td><td>0</td><td>0</td><td>0</td><td>0</td><td>0</td><td>0</td><td>0</td><td>0</td><td>0</td><td>0</td><td>1</td><td>0</td><td>0</td><td>0</td><td>0</td><td>0</td><td>0</td><td>0</td><td>0</td><td>0</td><td>0</td><td>1</td><td>0</td><td>0</td><td>0</td><td>0</td><td>0</td><td>0</td><td>0</td><td>0</td><td>0</td><td>0</td><td>0</td><td>0</td><td>0</td><td>0</td><td>0</td><td>1337.7112473510363</td><td>73.37400767428622</td><td>18.231404958677686</td><td>88.28894232516839</td><td>4.8426845065028905</td><td>2111</td><td>818.7385376488972</td><td>296</td><td>92.55664508776037</td><td>69.80528811996666</td><td>408</td></tr>\n",
       "<tr><td>12516851436</td><td>Mollis Corp.</td><td>a</td><td>6.71</td><td>0</td><td>0</td><td>0</td><td>0</td><td>1</td><td>0</td><td>0</td><td>0</td><td>0</td><td>0</td><td>0</td><td>0</td><td>0</td><td>0</td><td>0</td><td>0</td><td>0</td><td>0</td><td>0</td><td>0</td><td>1</td><td>0</td><td>0</td><td>0</td><td>0</td><td>0</td><td>0</td><td>0</td><td>0</td><td>0</td><td>0</td><td>0</td><td>0</td><td>0</td><td>0</td><td>0</td><td>0</td><td>0</td><td>0</td><td>0</td><td>0</td><td>0</td><td>0</td><td>0</td><td>0</td><td>0</td><td>0</td><td>0</td><td>0</td><td>0</td><td>0</td><td>0</td><td>0</td><td>0</td><td>0</td><td>0</td><td>1</td><td>53.43055264419514</td><td>153.93087785589552</td><td>0.34710743801652894</td><td>3.5851900824254934</td><td>10.328761904130587</td><td>311</td><td>804.1571499552758</td><td>0</td><td>153.9308778558955</td><td>101.16065931508525</td><td>12</td></tr>\n",
       "<tr><td>12771097467</td><td>At Pretium Corp.</td><td>a</td><td>6.95</td><td>0</td><td>0</td><td>0</td><td>0</td><td>0</td><td>0</td><td>0</td><td>0</td><td>0</td><td>0</td><td>0</td><td>0</td><td>0</td><td>0</td><td>0</td><td>0</td><td>0</td><td>0</td><td>0</td><td>0</td><td>0</td><td>0</td><td>0</td><td>0</td><td>0</td><td>0</td><td>0</td><td>0</td><td>0</td><td>0</td><td>0</td><td>0</td><td>0</td><td>0</td><td>0</td><td>0</td><td>0</td><td>1</td><td>0</td><td>0</td><td>0</td><td>0</td><td>0</td><td>0</td><td>0</td><td>0</td><td>0</td><td>0</td><td>0</td><td>0</td><td>0</td><td>0</td><td>0</td><td>0</td><td>0</td><td>0</td><td>0</td><td>789.2733834815808</td><td>1341.3213399054955</td><td>0.5884297520661157</td><td>54.85450015196987</td><td>93.22183312343195</td><td>469</td><td>804.2486114027027</td><td>0</td><td>1352.7206714061087</td><td>498.6189479452639</td><td>2</td></tr>\n",
       "<tr><td>13066244467</td><td>Ac Orci Industries</td><td>a</td><td>5.69</td><td>0</td><td>0</td><td>0</td><td>0</td><td>0</td><td>0</td><td>0</td><td>0</td><td>0</td><td>0</td><td>0</td><td>0</td><td>0</td><td>0</td><td>0</td><td>0</td><td>0</td><td>0</td><td>0</td><td>0</td><td>0</td><td>0</td><td>0</td><td>0</td><td>0</td><td>0</td><td>0</td><td>0</td><td>0</td><td>0</td><td>0</td><td>0</td><td>0</td><td>0</td><td>0</td><td>0</td><td>0</td><td>0</td><td>0</td><td>0</td><td>0</td><td>0</td><td>0</td><td>1</td><td>0</td><td>0</td><td>0</td><td>0</td><td>0</td><td>0</td><td>0</td><td>1</td><td>0</td><td>0</td><td>0</td><td>0</td><td>0</td><td>64.92642947881524</td><td>727.4164784200597</td><td>0.08925619834710743</td><td>3.694313837344587</td><td>41.3899976221014</td><td>103</td><td>891.8371850949976</td><td>0</td><td>727.4164784200598</td><td>394.81186211088806</td><td>2</td></tr>\n",
       "<tr><td>13120157976</td><td>Sem Egestas Bland...</td><td>a</td><td>6.83</td><td>0</td><td>0</td><td>0</td><td>0</td><td>0</td><td>0</td><td>0</td><td>0</td><td>1</td><td>0</td><td>0</td><td>0</td><td>0</td><td>1</td><td>0</td><td>0</td><td>0</td><td>0</td><td>0</td><td>0</td><td>0</td><td>0</td><td>0</td><td>0</td><td>0</td><td>0</td><td>0</td><td>0</td><td>0</td><td>0</td><td>0</td><td>0</td><td>0</td><td>0</td><td>0</td><td>0</td><td>0</td><td>0</td><td>0</td><td>0</td><td>0</td><td>0</td><td>0</td><td>0</td><td>0</td><td>0</td><td>0</td><td>0</td><td>1</td><td>0</td><td>0</td><td>0</td><td>0</td><td>0</td><td>0</td><td>0</td><td>0</td><td>204.9992790022845</td><td>208.09490569862774</td><td>0.9851239669421488</td><td>14.001450755856032</td><td>14.212882059216275</td><td>706</td><td>982.8362543611674</td><td>0</td><td>212.3708284184626</td><td>123.47564915225522</td><td>28</td></tr>\n",
       "<tr><td>13467303030</td><td>Duis LLP</td><td>a</td><td>5.51</td><td>0</td><td>0</td><td>0</td><td>0</td><td>0</td><td>0</td><td>0</td><td>0</td><td>0</td><td>0</td><td>0</td><td>0</td><td>0</td><td>0</td><td>0</td><td>0</td><td>0</td><td>0</td><td>0</td><td>0</td><td>0</td><td>0</td><td>0</td><td>0</td><td>0</td><td>0</td><td>0</td><td>0</td><td>0</td><td>0</td><td>0</td><td>0</td><td>0</td><td>0</td><td>0</td><td>0</td><td>0</td><td>0</td><td>0</td><td>0</td><td>0</td><td>0</td><td>0</td><td>0</td><td>0</td><td>0</td><td>0</td><td>0</td><td>0</td><td>0</td><td>0</td><td>0</td><td>0</td><td>1</td><td>0</td><td>0</td><td>0</td><td>8.901530612722956</td><td>897.5710034495647</td><td>0.009917355371900827</td><td>0.49047433676103486</td><td>49.45616229007101</td><td>10</td><td>687.310606060606</td><td>0</td><td>897.571003449565</td><td>556.3495573012563</td><td>0</td></tr>\n",
       "<tr><td>13747603419</td><td>Fermentum Vel Mau...</td><td>c</td><td>1.86</td><td>1</td><td>0</td><td>0</td><td>0</td><td>0</td><td>0</td><td>0</td><td>0</td><td>0</td><td>0</td><td>0</td><td>0</td><td>0</td><td>0</td><td>0</td><td>0</td><td>0</td><td>0</td><td>0</td><td>0</td><td>0</td><td>0</td><td>0</td><td>0</td><td>0</td><td>0</td><td>1</td><td>0</td><td>0</td><td>1</td><td>0</td><td>0</td><td>0</td><td>0</td><td>0</td><td>0</td><td>0</td><td>0</td><td>0</td><td>0</td><td>0</td><td>0</td><td>0</td><td>0</td><td>0</td><td>0</td><td>0</td><td>0</td><td>0</td><td>0</td><td>0</td><td>0</td><td>0</td><td>0</td><td>1</td><td>0</td><td>0</td><td>12.731907020386785</td><td>1283.8006245556676</td><td>0.009917355371900827</td><td>0.23681347057919422</td><td>23.87869161673542</td><td>10</td><td>633.0386904761905</td><td>0</td><td>1283.8006245556678</td><td>308.6728741669306</td><td>0</td></tr>\n",
       "<tr><td>13823979247</td><td>Egestas Limited</td><td>a</td><td>6.6</td><td>0</td><td>0</td><td>0</td><td>0</td><td>0</td><td>0</td><td>0</td><td>0</td><td>0</td><td>0</td><td>0</td><td>0</td><td>0</td><td>0</td><td>0</td><td>0</td><td>0</td><td>0</td><td>0</td><td>0</td><td>0</td><td>0</td><td>0</td><td>0</td><td>0</td><td>0</td><td>0</td><td>0</td><td>0</td><td>0</td><td>0</td><td>0</td><td>1</td><td>0</td><td>0</td><td>0</td><td>0</td><td>0</td><td>0</td><td>0</td><td>0</td><td>0</td><td>0</td><td>0</td><td>0</td><td>0</td><td>0</td><td>0</td><td>0</td><td>0</td><td>0</td><td>0</td><td>0</td><td>0</td><td>0</td><td>1</td><td>0</td><td>234.27230012391263</td><td>583.2705414607701</td><td>0.40165289256198344</td><td>15.461971808178234</td><td>38.49585573641083</td><td>374</td><td>796.1231464554793</td><td>0</td><td>585.6807503097816</td><td>457.6891684019166</td><td>13</td></tr>\n",
       "<tr><td>14081759429</td><td>Velit Pellentesqu...</td><td>b</td><td>4.71</td><td>0</td><td>0</td><td>0</td><td>0</td><td>0</td><td>0</td><td>1</td><td>0</td><td>0</td><td>0</td><td>0</td><td>0</td><td>0</td><td>0</td><td>0</td><td>0</td><td>0</td><td>1</td><td>0</td><td>0</td><td>0</td><td>0</td><td>0</td><td>0</td><td>0</td><td>0</td><td>0</td><td>0</td><td>0</td><td>0</td><td>0</td><td>0</td><td>0</td><td>0</td><td>0</td><td>0</td><td>0</td><td>0</td><td>0</td><td>0</td><td>0</td><td>0</td><td>0</td><td>0</td><td>0</td><td>0</td><td>1</td><td>0</td><td>0</td><td>0</td><td>0</td><td>0</td><td>0</td><td>0</td><td>0</td><td>0</td><td>0</td><td>201.62142076897274</td><td>521.286151988156</td><td>0.3867768595041322</td><td>9.496368918218616</td><td>24.55257775864215</td><td>341</td><td>1243.5931636811224</td><td>0</td><td>525.7799981259849</td><td>310.65017116349935</td><td>8</td></tr>\n",
       "<tr><td>14148282104</td><td>Dictum Magna Ltd</td><td>a</td><td>6.12</td><td>0</td><td>0</td><td>0</td><td>0</td><td>0</td><td>0</td><td>0</td><td>0</td><td>0</td><td>0</td><td>0</td><td>0</td><td>0</td><td>0</td><td>0</td><td>1</td><td>0</td><td>0</td><td>0</td><td>0</td><td>0</td><td>0</td><td>0</td><td>0</td><td>0</td><td>0</td><td>0</td><td>0</td><td>0</td><td>0</td><td>0</td><td>0</td><td>0</td><td>0</td><td>0</td><td>0</td><td>0</td><td>0</td><td>0</td><td>0</td><td>0</td><td>0</td><td>0</td><td>0</td><td>0</td><td>0</td><td>0</td><td>0</td><td>0</td><td>0</td><td>0</td><td>0</td><td>0</td><td>0</td><td>0</td><td>0</td><td>0</td><td>1230.1118934892477</td><td>851.5076608249368</td><td>1.4446280991735536</td><td>75.28284788154197</td><td>52.11226884248614</td><td>914</td><td>787.600981141453</td><td>0</td><td>865.3694134430174</td><td>450.11829972991967</td><td>37</td></tr>\n",
       "<tr><td>14315147591</td><td>Vitae Orci Institute</td><td>a</td><td>6.51</td><td>1</td><td>0</td><td>0</td><td>0</td><td>0</td><td>0</td><td>0</td><td>0</td><td>0</td><td>0</td><td>0</td><td>0</td><td>0</td><td>0</td><td>0</td><td>0</td><td>0</td><td>0</td><td>0</td><td>0</td><td>0</td><td>0</td><td>0</td><td>0</td><td>0</td><td>0</td><td>1</td><td>0</td><td>0</td><td>1</td><td>0</td><td>0</td><td>0</td><td>0</td><td>0</td><td>0</td><td>0</td><td>0</td><td>0</td><td>0</td><td>0</td><td>0</td><td>0</td><td>0</td><td>0</td><td>0</td><td>0</td><td>0</td><td>0</td><td>0</td><td>0</td><td>0</td><td>0</td><td>0</td><td>1</td><td>0</td><td>0</td><td>32.53077138067893</td><td>1157.71274619475</td><td>0.02809917355371901</td><td>2.117753216882198</td><td>75.36709977727821</td><td>30</td><td>801.00625</td><td>0</td><td>1157.71274619475</td><td>488.66961474295977</td><td>0</td></tr>\n",
       "</table>\n",
       "only showing top 20 rows\n"
      ],
      "text/plain": [
       "DataFrame[merchant_abn: string, name: string, revenue_level: string, take_rate: string, and_appliance_rent_and_leasing: string, and_eyeglass: string, and_flower: string, and_integrated_system_design_service: string, and_jewelry_repair_shop: string, and_manufacturer: string, and_newspaper: string, and_other_pay_television_and_radio_service: string, and_restoration_service: string, and_sheet_music: string, and_silverware_shop: string, and_software: string, and_souvenir_shop: string, antique_shop_sale: string, art_dealer_and_gallery: string, artist_supply_and_craft_shop: string, bicycle_shop_sale_and_service: string, book: string, cable: string, card: string, clock: string, computer: string, computer_peripheral_equipment: string, computer_programming: string, data_processing: string, digital_good_book: string, equipment: string, except_appliance: string, florist_supply: string, furniture: string, gift: string, health_and_beauty_spa: string, hobby: string, home_furnishing_and_equipment_shop: string, including_nursery: string, jewelry: string, lawn_and_garden_supply_outlet: string, motor_vehicle_supply_and_new_part: string, movie: string, music: string, music_shop_musical_instrument: string, novelty: string, nursery_stock: string, office_supply_and_printing_and_writing_paper: string, optical_good: string, optician: string, periodical: string, piano: string, repair: string, satellite: string, shoe_shop: string, stationery: string, telecom: string, tent_and_awning_shop: string, tool: string, toy_and_game_shop: string, watch: string, avg_daily_rev: string, avg_value_per_order: string, avg_daily_order: string, avg_daily_commission: string, avg_commission_per_order: string, sa2_region_count: string, median_customer_income: string, returning_customer: string, mean_spending: string, std_spending: string, vip_customer: string]"
      ]
     },
     "execution_count": 26,
     "metadata": {},
     "output_type": "execute_result"
    }
   ],
   "source": [
    "df"
   ]
  },
  {
   "cell_type": "markdown",
   "id": "abfb906e",
   "metadata": {},
   "source": [
    "## Deriving Merchant's VIP/High Value Customer"
   ]
  },
  {
   "cell_type": "markdown",
   "id": "6043b902",
   "metadata": {},
   "source": [
    "### For each consumer (user_id), which merchants and how much did they spend in total on that merchant?\n",
    "\n",
    "We first aggregate transaction table by `merchant_abn` and `user_id`, then we find the average and standard deviation of the total spending of customer of each merchant. \n",
    "\n",
    "Using these information, we then count the number of `user_id` who has **atleast** spent **\\$100** dollars on the merchant **and** has spent a total amount with the merchant exceeding the threshold derived below."
   ]
  },
  {
   "cell_type": "markdown",
   "id": "6109b2cf",
   "metadata": {},
   "source": [
    "$$\\text{Threshold} = E\\;[\\text{Total Spending of Customer | Merchant}] + 2 \\times SE\\;[\\text{Total Spending of Customer | Merchant}]$$\n",
    "<br>\n"
   ]
  },
  {
   "cell_type": "markdown",
   "id": "683ae07b",
   "metadata": {},
   "source": [
    "## Baseline Model for Merchant Ranking\n",
    "\n",
    "For our baseline model, we are planning to run a **Weighted-Average-Ranking (WAR)** model that ranks the merchant individually by each column and then output the Weighted-Average-Rank of the merchant based on their ranking in each attribute.\n",
    "\n",
    "We will then base our ranking on the final WAR of the merchants."
   ]
  },
  {
   "cell_type": "markdown",
   "id": "84294e18",
   "metadata": {},
   "source": [
    "## How to Evaluate? \n",
    "\n",
    "- ### Training and Ranking Set\n",
    "\n",
    "    We will train and rank based on dataset from period 2021-02-28 to 2022-08-28 using different models.\n",
    "\n",
    "- ### Testing and Evaluation Set\n",
    "\n",
    "    We will use the remaining dataset from 2022-08-28 to 2022-10-18 as our test set and determine the **Revenue/Commission** that the BNPL will get using the top 10 merchants evaluated under x model compared to y model during these period."
   ]
  },
  {
   "cell_type": "code",
   "execution_count": null,
   "id": "26bbb98b",
   "metadata": {},
   "outputs": [],
   "source": []
  }
 ],
 "metadata": {
  "kernelspec": {
   "display_name": "Python 3",
   "language": "python",
   "name": "python3"
  },
  "language_info": {
   "codemirror_mode": {
    "name": "ipython",
    "version": 3
   },
   "file_extension": ".py",
   "mimetype": "text/x-python",
   "name": "python",
   "nbconvert_exporter": "python",
   "pygments_lexer": "ipython3",
   "version": "3.7.4"
  }
 },
 "nbformat": 4,
 "nbformat_minor": 5
}
