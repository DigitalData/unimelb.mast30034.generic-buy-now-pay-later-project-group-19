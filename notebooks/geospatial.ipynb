{
 "cells": [
  {
   "cell_type": "code",
   "execution_count": 1,
   "metadata": {},
   "outputs": [
    {
     "name": "stdout",
     "output_type": "stream",
     "text": [
      "22/09/08 02:37:30 WARN Utils: Your hostname, DESKTOP-IK201ES resolves to a loopback address: 127.0.1.1; using 172.29.212.84 instead (on interface eth0)\n",
      "22/09/08 02:37:30 WARN Utils: Set SPARK_LOCAL_IP if you need to bind to another address\n"
     ]
    },
    {
     "name": "stderr",
     "output_type": "stream",
     "text": [
      "Setting default log level to \"WARN\".\n",
      "To adjust logging level use sc.setLogLevel(newLevel). For SparkR, use setLogLevel(newLevel).\n"
     ]
    },
    {
     "name": "stdout",
     "output_type": "stream",
     "text": [
      "22/09/08 02:37:32 WARN NativeCodeLoader: Unable to load native-hadoop library for your platform... using builtin-java classes where applicable\n",
      "Welcome to\n",
      "      ____              __\n",
      "     / __/__  ___ _____/ /__\n",
      "    _\\ \\/ _ \\/ _ `/ __/  '_/\n",
      "   /__ / .__/\\_,_/_/ /_/\\_\\   version 3.3.0\n",
      "      /_/\n",
      "\n",
      "Using Python version 3.8.10 (default, Jun 22 2022 20:18:18)\n",
      "Spark context Web UI available at http://172.29.212.84:4040\n",
      "Spark context available as 'sc' (master = local[*], app id = local-1662568653237).\n",
      "SparkSession available as 'spark'.\n",
      "22/09/08 02:37:34 WARN SparkSession: Using an existing Spark session; only runtime SQL configurations will take effect.\n"
     ]
    }
   ],
   "source": [
    "import pandas as pd\n",
    "import numpy as np\n",
    "import os\n",
    "import re\n",
    "\n",
    "from pyspark.sql import SparkSession\n",
    "from pyspark.shell import spark\n",
    "from pyspark.sql import SQLContext\n",
    "from pyspark.sql.functions import *\n",
    "from pyspark.sql import functions as F\n",
    "import matplotlib.pyplot as plt\n",
    "\n",
    "spark = (\n",
    "    SparkSession.builder.appName(\"MAST30034 Project 2\")\n",
    "    .config(\"spark.sql.repl.eagerEval.enabled\", True) \n",
    "    .config(\"spark.sql.parquet.cacheMetadata\", \"true\")\n",
    "    .config(\"spark.sql.session.timeZone\", \"Etc/UTC\")\n",
    "    .config(\"spark.driver.memory\", \"4g\")\n",
    "    .getOrCreate()\n",
    ")"
   ]
  },
  {
   "cell_type": "markdown",
   "metadata": {},
   "source": [
    "## Loading all datasets\n",
    "- We will be performing basic analysis on each of the dataset\n",
    "- Choose certain features that seem to be appropriate for geospatial visualisation\n",
    "\n",
    "### Customer transaction details"
   ]
  },
  {
   "cell_type": "code",
   "execution_count": 2,
   "metadata": {},
   "outputs": [
    {
     "name": "stderr",
     "output_type": "stream",
     "text": [
      "                                                                                \r"
     ]
    }
   ],
   "source": [
    "customer_join_transaction = spark.read.parquet(\"../data/curated/customer_join_transaction.parquet/\")"
   ]
  },
  {
   "cell_type": "code",
   "execution_count": 3,
   "metadata": {},
   "outputs": [
    {
     "name": "stderr",
     "output_type": "stream",
     "text": [
      "                                                                                \r"
     ]
    },
    {
     "data": {
      "text/plain": [
       "3643266"
      ]
     },
     "execution_count": 3,
     "metadata": {},
     "output_type": "execute_result"
    }
   ],
   "source": [
    "customer_join_transaction.count()"
   ]
  },
  {
   "cell_type": "code",
   "execution_count": 4,
   "metadata": {},
   "outputs": [
    {
     "name": "stdout",
     "output_type": "stream",
     "text": [
      "+-------+------------+------------------+--------------------+--------------+--------+-----+------+\n",
      "|user_id|merchant_abn|      dollar_value|            order_id|order_datetime|postcode|state|gender|\n",
      "+-------+------------+------------------+--------------------+--------------+--------+-----+------+\n",
      "|  14409| 64403598239|116.41150553221357|5474e46e-7073-442...|    2021-08-21|    3874|  VIC|  Male|\n",
      "|  14409| 45629217853|28.600613410021932|f539493d-175d-48b...|    2021-04-09|    3874|  VIC|  Male|\n",
      "|  14409| 77505747217|440.68714072131945|99f8e136-0ca2-491...|    2021-08-22|    3874|  VIC|  Male|\n",
      "|  14409| 68216911708|22.960774428094698|f4ea2269-3509-411...|    2021-04-10|    3874|  VIC|  Male|\n",
      "|  14409| 24852446429|30.776665837082245|4b1413e3-3ee9-430...|    2021-08-16|    3874|  VIC|  Male|\n",
      "|  14409| 98072939449| 1118.263275036643|e597537b-d4a9-446...|    2021-04-10|    3874|  VIC|  Male|\n",
      "|  14409| 22718657980|307.02232595923795|82c8d263-9d95-424...|    2021-08-27|    3874|  VIC|  Male|\n",
      "|  14409| 18645942609|26.379690675720212|732cdcb6-8216-4a8...|    2021-04-10|    3874|  VIC|  Male|\n",
      "|  14409| 86578477987|  74.0580865342764|562374b9-31e8-4bb...|    2021-07-16|    3874|  VIC|  Male|\n",
      "|  14409| 15912561882| 147.5216320577597|2a3890dd-2736-473...|    2021-04-01|    3874|  VIC|  Male|\n",
      "|  14409| 64203420245|29.308017614658745|cce9879f-04c8-47d...|    2021-07-23|    3874|  VIC|  Male|\n",
      "|  14409| 79417999332|122.82956091928793|04564788-c89b-44f...|    2021-03-14|    3874|  VIC|  Male|\n",
      "|  14409| 54197321846| 28.39304580248183|62fef653-b21b-4d6...|    2021-06-30|    3874|  VIC|  Male|\n",
      "|  14409| 29521780474|20.627431449187966|73838fda-1fbe-493...|    2021-03-14|    3874|  VIC|  Male|\n",
      "|  14409| 49891706470|30.355141437095337|cf2b6154-c951-46d...|    2021-06-30|    3874|  VIC|  Male|\n",
      "|  14409| 14492521225| 17.74953501779443|5c838bee-1ca8-4a4...|    2021-04-03|    3874|  VIC|  Male|\n",
      "|  14409| 21807339153| 66.44038215414356|6310fd61-94e5-48f...|    2021-05-28|    3874|  VIC|  Male|\n",
      "|  14409| 32361057556| 239.1684700702729|05fca4da-4b8e-47a...|    2021-04-14|    3874|  VIC|  Male|\n",
      "|  14409| 28690231799|48.098821167195226|29154360-dfb4-45d...|    2021-08-26|    3874|  VIC|  Male|\n",
      "|  14409| 84703983173|61.575303372442924|802aba78-1be3-4e2...|    2021-04-14|    3874|  VIC|  Male|\n",
      "+-------+------------+------------------+--------------------+--------------+--------+-----+------+\n",
      "only showing top 20 rows\n",
      "\n"
     ]
    }
   ],
   "source": [
    "customer_join_transaction.show()"
   ]
  },
  {
   "cell_type": "markdown",
   "metadata": {},
   "source": [
    "### Customer behaviour\n",
    "- Only notable feature is no_orders of each customer at a particular date"
   ]
  },
  {
   "cell_type": "code",
   "execution_count": 5,
   "metadata": {},
   "outputs": [],
   "source": [
    "customer_behaviour = spark.read.parquet(\"../data/curated/customer_purchase_behaviour.parquet/\")"
   ]
  },
  {
   "cell_type": "code",
   "execution_count": 6,
   "metadata": {},
   "outputs": [
    {
     "data": {
      "text/html": [
       "<table border='1'>\n",
       "<tr><th>user_id</th><th>order_datetime</th><th>dollar_spent</th><th>no_orders</th></tr>\n",
       "<tr><td>18585</td><td>2021-08-20</td><td>28.66078522665458</td><td>2</td></tr>\n",
       "<tr><td>271</td><td>2021-08-20</td><td>1851.9709565996084</td><td>2</td></tr>\n",
       "<tr><td>559</td><td>2021-08-20</td><td>519.619820268801</td><td>2</td></tr>\n",
       "<tr><td>19156</td><td>2021-08-20</td><td>302.72316980059384</td><td>2</td></tr>\n",
       "<tr><td>756</td><td>2021-08-20</td><td>169.25922159143067</td><td>2</td></tr>\n",
       "<tr><td>785</td><td>2021-08-20</td><td>49.4051194612238</td><td>1</td></tr>\n",
       "<tr><td>970</td><td>2021-08-20</td><td>12.28895749317062</td><td>1</td></tr>\n",
       "<tr><td>997</td><td>2021-08-20</td><td>57.1290091592229</td><td>1</td></tr>\n",
       "<tr><td>1069</td><td>2021-08-20</td><td>65.389116401826</td><td>1</td></tr>\n",
       "<tr><td>1256</td><td>2021-08-20</td><td>337.0946186819374</td><td>2</td></tr>\n",
       "<tr><td>1438</td><td>2021-08-20</td><td>109.93749176128246</td><td>2</td></tr>\n",
       "<tr><td>1654</td><td>2021-08-20</td><td>69.13542366223878</td><td>2</td></tr>\n",
       "<tr><td>20207</td><td>2021-08-20</td><td>206.3580537246843</td><td>2</td></tr>\n",
       "<tr><td>1802</td><td>2021-08-20</td><td>73.7957901843545</td><td>2</td></tr>\n",
       "<tr><td>20543</td><td>2021-08-20</td><td>542.1287165061228</td><td>2</td></tr>\n",
       "<tr><td>20845</td><td>2021-08-20</td><td>213.00260394874215</td><td>1</td></tr>\n",
       "<tr><td>2268</td><td>2021-08-20</td><td>36.19038952884676</td><td>1</td></tr>\n",
       "<tr><td>20938</td><td>2021-08-20</td><td>223.07676628422305</td><td>2</td></tr>\n",
       "<tr><td>21161</td><td>2021-08-20</td><td>363.4772371377298</td><td>2</td></tr>\n",
       "<tr><td>2597</td><td>2021-08-20</td><td>74.03519176228242</td><td>2</td></tr>\n",
       "</table>\n",
       "only showing top 20 rows\n"
      ],
      "text/plain": [
       "+-------+--------------+------------------+---------+\n",
       "|user_id|order_datetime|      dollar_spent|no_orders|\n",
       "+-------+--------------+------------------+---------+\n",
       "|  18585|    2021-08-20| 28.66078522665458|        2|\n",
       "|    271|    2021-08-20|1851.9709565996084|        2|\n",
       "|    559|    2021-08-20|  519.619820268801|        2|\n",
       "|  19156|    2021-08-20|302.72316980059384|        2|\n",
       "|    756|    2021-08-20|169.25922159143067|        2|\n",
       "|    785|    2021-08-20|  49.4051194612238|        1|\n",
       "|    970|    2021-08-20| 12.28895749317062|        1|\n",
       "|    997|    2021-08-20|  57.1290091592229|        1|\n",
       "|   1069|    2021-08-20|   65.389116401826|        1|\n",
       "|   1256|    2021-08-20| 337.0946186819374|        2|\n",
       "|   1438|    2021-08-20|109.93749176128246|        2|\n",
       "|   1654|    2021-08-20| 69.13542366223878|        2|\n",
       "|  20207|    2021-08-20| 206.3580537246843|        2|\n",
       "|   1802|    2021-08-20|  73.7957901843545|        2|\n",
       "|  20543|    2021-08-20| 542.1287165061228|        2|\n",
       "|  20845|    2021-08-20|213.00260394874215|        1|\n",
       "|   2268|    2021-08-20| 36.19038952884676|        1|\n",
       "|  20938|    2021-08-20|223.07676628422305|        2|\n",
       "|  21161|    2021-08-20| 363.4772371377298|        2|\n",
       "|   2597|    2021-08-20| 74.03519176228242|        2|\n",
       "+-------+--------------+------------------+---------+\n",
       "only showing top 20 rows"
      ]
     },
     "execution_count": 6,
     "metadata": {},
     "output_type": "execute_result"
    }
   ],
   "source": [
    "customer_behaviour"
   ]
  },
  {
   "cell_type": "code",
   "execution_count": 7,
   "metadata": {},
   "outputs": [],
   "source": [
    "merchant_sales = spark.read.parquet(\"../data/curated/merchant_sales.parquet/\")"
   ]
  },
  {
   "cell_type": "markdown",
   "metadata": {},
   "source": [
    "### Merchant Sales\n",
    "- Sales revenue per day\n",
    "- Number of orders"
   ]
  },
  {
   "cell_type": "code",
   "execution_count": 8,
   "metadata": {},
   "outputs": [
    {
     "data": {
      "text/html": [
       "<table border='1'>\n",
       "<tr><th>merchant_abn</th><th>order_datetime</th><th>sales_revenue</th><th>no_orders</th></tr>\n",
       "<tr><td>80324045558</td><td>2021-08-20</td><td>13598.201854339311</td><td>369</td></tr>\n",
       "<tr><td>98072939449</td><td>2021-08-20</td><td>5281.817739501697</td><td>6</td></tr>\n",
       "<tr><td>97785987616</td><td>2021-08-20</td><td>953.5840137769342</td><td>5</td></tr>\n",
       "<tr><td>28829519760</td><td>2021-08-20</td><td>159.9365755216398</td><td>3</td></tr>\n",
       "<tr><td>88795682549</td><td>2021-08-20</td><td>1120.173012819486</td><td>3</td></tr>\n",
       "<tr><td>26505333735</td><td>2021-08-20</td><td>2476.215150920252</td><td>5</td></tr>\n",
       "<tr><td>70561019208</td><td>2021-08-20</td><td>562.9418605668311</td><td>2</td></tr>\n",
       "<tr><td>55778594682</td><td>2021-08-20</td><td>153.90330586197558</td><td>3</td></tr>\n",
       "<tr><td>71946255432</td><td>2021-08-20</td><td>1279.8546655899863</td><td>7</td></tr>\n",
       "<tr><td>75242363611</td><td>2021-08-20</td><td>47.071978784780754</td><td>1</td></tr>\n",
       "<tr><td>21614701484</td><td>2021-08-20</td><td>645.414358212513</td><td>3</td></tr>\n",
       "<tr><td>76070803743</td><td>2021-08-20</td><td>60.416291362617265</td><td>1</td></tr>\n",
       "<tr><td>99271509353</td><td>2021-08-20</td><td>6010.610621926624</td><td>2</td></tr>\n",
       "<tr><td>48381670641</td><td>2021-08-20</td><td>46.173885589773384</td><td>1</td></tr>\n",
       "<tr><td>19054547079</td><td>2021-08-21</td><td>1295.2262420468576</td><td>28</td></tr>\n",
       "<tr><td>45322831450</td><td>2021-08-21</td><td>2356.161922015615</td><td>1</td></tr>\n",
       "<tr><td>52160665475</td><td>2021-08-21</td><td>2015.5870786099586</td><td>25</td></tr>\n",
       "<tr><td>33412969398</td><td>2021-08-21</td><td>3783.557589770119</td><td>2</td></tr>\n",
       "<tr><td>49125619545</td><td>2021-08-21</td><td>1851.7716565525034</td><td>16</td></tr>\n",
       "<tr><td>55559667703</td><td>2021-08-21</td><td>2245.1088569540543</td><td>4</td></tr>\n",
       "</table>\n",
       "only showing top 20 rows\n"
      ],
      "text/plain": [
       "+------------+--------------+------------------+---------+\n",
       "|merchant_abn|order_datetime|     sales_revenue|no_orders|\n",
       "+------------+--------------+------------------+---------+\n",
       "| 80324045558|    2021-08-20|13598.201854339311|      369|\n",
       "| 98072939449|    2021-08-20| 5281.817739501697|        6|\n",
       "| 97785987616|    2021-08-20| 953.5840137769342|        5|\n",
       "| 28829519760|    2021-08-20| 159.9365755216398|        3|\n",
       "| 88795682549|    2021-08-20| 1120.173012819486|        3|\n",
       "| 26505333735|    2021-08-20| 2476.215150920252|        5|\n",
       "| 70561019208|    2021-08-20| 562.9418605668311|        2|\n",
       "| 55778594682|    2021-08-20|153.90330586197558|        3|\n",
       "| 71946255432|    2021-08-20|1279.8546655899863|        7|\n",
       "| 75242363611|    2021-08-20|47.071978784780754|        1|\n",
       "| 21614701484|    2021-08-20|  645.414358212513|        3|\n",
       "| 76070803743|    2021-08-20|60.416291362617265|        1|\n",
       "| 99271509353|    2021-08-20| 6010.610621926624|        2|\n",
       "| 48381670641|    2021-08-20|46.173885589773384|        1|\n",
       "| 19054547079|    2021-08-21|1295.2262420468576|       28|\n",
       "| 45322831450|    2021-08-21| 2356.161922015615|        1|\n",
       "| 52160665475|    2021-08-21|2015.5870786099586|       25|\n",
       "| 33412969398|    2021-08-21| 3783.557589770119|        2|\n",
       "| 49125619545|    2021-08-21|1851.7716565525034|       16|\n",
       "| 55559667703|    2021-08-21|2245.1088569540543|        4|\n",
       "+------------+--------------+------------------+---------+\n",
       "only showing top 20 rows"
      ]
     },
     "execution_count": 8,
     "metadata": {},
     "output_type": "execute_result"
    }
   ],
   "source": [
    "merchant_sales"
   ]
  },
  {
   "cell_type": "markdown",
   "metadata": {},
   "source": [
    "### Sales by region\n",
    "- Information regarding sales made by customers of specific locations in Australia"
   ]
  },
  {
   "cell_type": "code",
   "execution_count": 9,
   "metadata": {},
   "outputs": [],
   "source": [
    "sales_by_region = pd.read_parquet(\"../data/curated/sales_by_region.parquet/\")"
   ]
  },
  {
   "cell_type": "code",
   "execution_count": 10,
   "metadata": {},
   "outputs": [
    {
     "data": {
      "text/html": [
       "<div>\n",
       "<style scoped>\n",
       "    .dataframe tbody tr th:only-of-type {\n",
       "        vertical-align: middle;\n",
       "    }\n",
       "\n",
       "    .dataframe tbody tr th {\n",
       "        vertical-align: top;\n",
       "    }\n",
       "\n",
       "    .dataframe thead th {\n",
       "        text-align: right;\n",
       "    }\n",
       "</style>\n",
       "<table border=\"1\" class=\"dataframe\">\n",
       "  <thead>\n",
       "    <tr style=\"text-align: right;\">\n",
       "      <th></th>\n",
       "      <th>state</th>\n",
       "      <th>postcode</th>\n",
       "      <th>order_datetime</th>\n",
       "      <th>dollar_spent</th>\n",
       "      <th>no_orders</th>\n",
       "    </tr>\n",
       "  </thead>\n",
       "  <tbody>\n",
       "    <tr>\n",
       "      <th>0</th>\n",
       "      <td>NSW</td>\n",
       "      <td>2323</td>\n",
       "      <td>2021-04-25</td>\n",
       "      <td>629.114612</td>\n",
       "      <td>6</td>\n",
       "    </tr>\n",
       "    <tr>\n",
       "      <th>1</th>\n",
       "      <td>WA</td>\n",
       "      <td>6057</td>\n",
       "      <td>2021-03-29</td>\n",
       "      <td>1310.850726</td>\n",
       "      <td>10</td>\n",
       "    </tr>\n",
       "    <tr>\n",
       "      <th>2</th>\n",
       "      <td>WA</td>\n",
       "      <td>6057</td>\n",
       "      <td>2021-07-17</td>\n",
       "      <td>812.452904</td>\n",
       "      <td>10</td>\n",
       "    </tr>\n",
       "    <tr>\n",
       "      <th>3</th>\n",
       "      <td>WA</td>\n",
       "      <td>6415</td>\n",
       "      <td>2021-03-08</td>\n",
       "      <td>1519.568907</td>\n",
       "      <td>8</td>\n",
       "    </tr>\n",
       "    <tr>\n",
       "      <th>4</th>\n",
       "      <td>WA</td>\n",
       "      <td>6034</td>\n",
       "      <td>2021-07-20</td>\n",
       "      <td>451.853650</td>\n",
       "      <td>8</td>\n",
       "    </tr>\n",
       "  </tbody>\n",
       "</table>\n",
       "</div>"
      ],
      "text/plain": [
       "  state postcode order_datetime  dollar_spent  no_orders\n",
       "0   NSW     2323     2021-04-25    629.114612          6\n",
       "1    WA     6057     2021-03-29   1310.850726         10\n",
       "2    WA     6057     2021-07-17    812.452904         10\n",
       "3    WA     6415     2021-03-08   1519.568907          8\n",
       "4    WA     6034     2021-07-20    451.853650          8"
      ]
     },
     "execution_count": 10,
     "metadata": {},
     "output_type": "execute_result"
    }
   ],
   "source": [
    "sales_by_region.head()"
   ]
  },
  {
   "cell_type": "code",
   "execution_count": 11,
   "metadata": {},
   "outputs": [
    {
     "data": {
      "text/plain": [
       "state                  8\n",
       "postcode            3165\n",
       "order_datetime       181\n",
       "dollar_spent      565366\n",
       "no_orders             31\n",
       "dtype: int64"
      ]
     },
     "execution_count": 11,
     "metadata": {},
     "output_type": "execute_result"
    }
   ],
   "source": [
    "sales_by_region.nunique()"
   ]
  },
  {
   "cell_type": "code",
   "execution_count": 12,
   "metadata": {},
   "outputs": [],
   "source": [
    "revenue_by_region = sales_by_region\\\n",
    "                    .groupby(['state', 'postcode'], as_index=False)\\\n",
    "                    .agg(\n",
    "                        {\n",
    "                            'dollar_spent': 'sum'\n",
    "                        }\n",
    "                    ).rename(columns={'dollar_spent': 'total_revenue_generated'})\n"
   ]
  },
  {
   "cell_type": "code",
   "execution_count": 13,
   "metadata": {},
   "outputs": [],
   "source": [
    "revenue_by_region['postcode'] = revenue_by_region['postcode'].astype(int)"
   ]
  },
  {
   "cell_type": "markdown",
   "metadata": {},
   "source": [
    "### Checking for unique values of the columns\n",
    "Mainly just looking out for inconsistencies in state and gender"
   ]
  },
  {
   "cell_type": "code",
   "execution_count": 14,
   "metadata": {},
   "outputs": [],
   "source": [
    "from pyspark.sql import functions as F"
   ]
  },
  {
   "cell_type": "code",
   "execution_count": 15,
   "metadata": {},
   "outputs": [
    {
     "name": "stdout",
     "output_type": "stream",
     "text": [
      "+-----------+\n",
      "|     gender|\n",
      "+-----------+\n",
      "|Undisclosed|\n",
      "|     Female|\n",
      "|       Male|\n",
      "+-----------+\n",
      "\n"
     ]
    }
   ],
   "source": [
    "customer_join_transaction.select(\"gender\").distinct().show()"
   ]
  },
  {
   "cell_type": "code",
   "execution_count": 16,
   "metadata": {},
   "outputs": [
    {
     "name": "stdout",
     "output_type": "stream",
     "text": [
      "+-----+\n",
      "|state|\n",
      "+-----+\n",
      "|   NT|\n",
      "|  ACT|\n",
      "|   SA|\n",
      "|  TAS|\n",
      "|   WA|\n",
      "|  QLD|\n",
      "|  VIC|\n",
      "|  NSW|\n",
      "+-----+\n",
      "\n"
     ]
    }
   ],
   "source": [
    "customer_join_transaction.select(\"state\").distinct().show()"
   ]
  },
  {
   "cell_type": "markdown",
   "metadata": {},
   "source": [
    "## External dataset\n",
    "- External dataset allows linking respective postcodes to their SA2 level index\n",
    "- External dataset contains geometry for SA2 level which allows for geospatial analysis\n"
   ]
  },
  {
   "cell_type": "code",
   "execution_count": 17,
   "metadata": {},
   "outputs": [
    {
     "name": "stderr",
     "output_type": "stream",
     "text": [
      "/usr/lib/python3/dist-packages/requests/__init__.py:89: RequestsDependencyWarning: urllib3 (1.26.12) or chardet (3.0.4) doesn't match a supported version!\n",
      "  warnings.warn(\"urllib3 ({}) or chardet ({}) doesn't match a supported \"\n"
     ]
    }
   ],
   "source": [
    "import pandas as pd\n",
    "import geopandas as gpd\n",
    "import io\n",
    "import requests\n",
    "\n",
    "url = \"https://www.matthewproctor.com/Content/postcodes/australian_postcodes.csv\"\n",
    "s = requests.get(url).content\n",
    "df = pd.read_csv(io.StringIO(s.decode('utf-8')))"
   ]
  },
  {
   "cell_type": "markdown",
   "metadata": {},
   "source": [
    "Dataset contains alot of useless features that are not required for our analysis, hence we will be retaining only some of the important features.\n",
    "- For instance, in this dataset, we have long, lat, long_precise, and lat_precise, we will retain the precise longitude and latitde as they are generated from Google Maps API "
   ]
  },
  {
   "cell_type": "code",
   "execution_count": 18,
   "metadata": {},
   "outputs": [],
   "source": [
    "postcode_sdf = spark.createDataFrame(df[['postcode', 'SA2_MAINCODE_2016']])\n",
    "postcode_df = postcode_sdf.toPandas()"
   ]
  },
  {
   "cell_type": "code",
   "execution_count": 19,
   "metadata": {},
   "outputs": [
    {
     "data": {
      "text/plain": [
       "state                      18416\n",
       "postcode                   18416\n",
       "total_revenue_generated    18416\n",
       "SA2_MAINCODE_2016          18239\n",
       "dtype: int64"
      ]
     },
     "execution_count": 19,
     "metadata": {},
     "output_type": "execute_result"
    }
   ],
   "source": [
    "revenue_by_region = revenue_by_region.merge(postcode_df, how='left', left_on='postcode', right_on='postcode')\n",
    "revenue_by_region.count()"
   ]
  },
  {
   "cell_type": "code",
   "execution_count": 28,
   "metadata": {},
   "outputs": [
    {
     "data": {
      "text/html": [
       "<div>\n",
       "<style scoped>\n",
       "    .dataframe tbody tr th:only-of-type {\n",
       "        vertical-align: middle;\n",
       "    }\n",
       "\n",
       "    .dataframe tbody tr th {\n",
       "        vertical-align: top;\n",
       "    }\n",
       "\n",
       "    .dataframe thead th {\n",
       "        text-align: right;\n",
       "    }\n",
       "</style>\n",
       "<table border=\"1\" class=\"dataframe\">\n",
       "  <thead>\n",
       "    <tr style=\"text-align: right;\">\n",
       "      <th></th>\n",
       "      <th>state</th>\n",
       "      <th>postcode</th>\n",
       "      <th>total_revenue_generated</th>\n",
       "      <th>SA2_CODE21</th>\n",
       "    </tr>\n",
       "  </thead>\n",
       "  <tbody>\n",
       "    <tr>\n",
       "      <th>0</th>\n",
       "      <td>ACT</td>\n",
       "      <td>200</td>\n",
       "      <td>86107.658731</td>\n",
       "      <td>801051049.0</td>\n",
       "    </tr>\n",
       "    <tr>\n",
       "      <th>1</th>\n",
       "      <td>ACT</td>\n",
       "      <td>200</td>\n",
       "      <td>86107.658731</td>\n",
       "      <td>801051049.0</td>\n",
       "    </tr>\n",
       "    <tr>\n",
       "      <th>2</th>\n",
       "      <td>ACT</td>\n",
       "      <td>2600</td>\n",
       "      <td>141718.545481</td>\n",
       "      <td>801061129.0</td>\n",
       "    </tr>\n",
       "    <tr>\n",
       "      <th>3</th>\n",
       "      <td>ACT</td>\n",
       "      <td>2600</td>\n",
       "      <td>141718.545481</td>\n",
       "      <td>801061070.0</td>\n",
       "    </tr>\n",
       "    <tr>\n",
       "      <th>4</th>\n",
       "      <td>ACT</td>\n",
       "      <td>2600</td>\n",
       "      <td>141718.545481</td>\n",
       "      <td>801061068.0</td>\n",
       "    </tr>\n",
       "    <tr>\n",
       "      <th>...</th>\n",
       "      <td>...</td>\n",
       "      <td>...</td>\n",
       "      <td>...</td>\n",
       "      <td>...</td>\n",
       "    </tr>\n",
       "    <tr>\n",
       "      <th>18411</th>\n",
       "      <td>WA</td>\n",
       "      <td>6989</td>\n",
       "      <td>216606.759192</td>\n",
       "      <td>506041136.0</td>\n",
       "    </tr>\n",
       "    <tr>\n",
       "      <th>18412</th>\n",
       "      <td>WA</td>\n",
       "      <td>6990</td>\n",
       "      <td>154148.478358</td>\n",
       "      <td>506041134.0</td>\n",
       "    </tr>\n",
       "    <tr>\n",
       "      <th>18413</th>\n",
       "      <td>WA</td>\n",
       "      <td>6991</td>\n",
       "      <td>239751.982000</td>\n",
       "      <td>506011114.0</td>\n",
       "    </tr>\n",
       "    <tr>\n",
       "      <th>18414</th>\n",
       "      <td>WA</td>\n",
       "      <td>6992</td>\n",
       "      <td>173698.464927</td>\n",
       "      <td>506011110.0</td>\n",
       "    </tr>\n",
       "    <tr>\n",
       "      <th>18415</th>\n",
       "      <td>WA</td>\n",
       "      <td>6997</td>\n",
       "      <td>211365.354387</td>\n",
       "      <td>506011114.0</td>\n",
       "    </tr>\n",
       "  </tbody>\n",
       "</table>\n",
       "<p>18416 rows × 4 columns</p>\n",
       "</div>"
      ],
      "text/plain": [
       "      state  postcode  total_revenue_generated   SA2_CODE21\n",
       "0       ACT       200             86107.658731  801051049.0\n",
       "1       ACT       200             86107.658731  801051049.0\n",
       "2       ACT      2600            141718.545481  801061129.0\n",
       "3       ACT      2600            141718.545481  801061070.0\n",
       "4       ACT      2600            141718.545481  801061068.0\n",
       "...     ...       ...                      ...          ...\n",
       "18411    WA      6989            216606.759192  506041136.0\n",
       "18412    WA      6990            154148.478358  506041134.0\n",
       "18413    WA      6991            239751.982000  506011114.0\n",
       "18414    WA      6992            173698.464927  506011110.0\n",
       "18415    WA      6997            211365.354387  506011114.0\n",
       "\n",
       "[18416 rows x 4 columns]"
      ]
     },
     "execution_count": 28,
     "metadata": {},
     "output_type": "execute_result"
    }
   ],
   "source": [
    "revenue_by_region = revenue_by_region.rename({'SA2_MAINCODE_2016': 'SA2_CODE21'}, axis=1)\n",
    "revenue_by_region "
   ]
  },
  {
   "cell_type": "markdown",
   "metadata": {},
   "source": [
    "## Statistical Areas Level 2 - 2021 - Shapefile"
   ]
  },
  {
   "cell_type": "code",
   "execution_count": 22,
   "metadata": {},
   "outputs": [],
   "source": [
    "sf = gpd.read_file(\"../data/SA2_2021_AUST_SHP_GDA2020/SA2_2021_AUST_GDA2020.shp\")"
   ]
  },
  {
   "cell_type": "code",
   "execution_count": 31,
   "metadata": {},
   "outputs": [],
   "source": [
    "filter_cols = ['SA2_CODE21', 'geometry']\n",
    "sf = sf[filter_cols]\n",
    "sf = sf.dropna(how='any',axis=0) \n",
    "sf['geometry'] = sf['geometry'].to_crs(\"+proj=longlat +ellps=WGS84 +datum=WGS84 +no_defs\")\n",
    "sf['SA2_CODE21'] = sf['SA2_CODE21'].astype(int)"
   ]
  },
  {
   "cell_type": "code",
   "execution_count": 32,
   "metadata": {},
   "outputs": [],
   "source": [
    "gdf = gpd.GeoDataFrame(\n",
    "    pd.merge(revenue_by_region, sf, on=\t'SA2_CODE21', how='left')\n",
    ")"
   ]
  },
  {
   "cell_type": "code",
   "execution_count": 33,
   "metadata": {},
   "outputs": [],
   "source": [
    "geoJSON = gdf[['postcode', 'geometry']].drop_duplicates('postcode').to_json()"
   ]
  },
  {
   "cell_type": "code",
   "execution_count": 34,
   "metadata": {},
   "outputs": [],
   "source": [
    "import folium\n",
    "\n",
    "_map = folium.Map(location=[144.96, -37.82], tiles=\"Stamen Terrain\", zoom_start=10)\n",
    "\n",
    "# refer to the folium documentations on how to plot aggregated data.\n",
    "_map.add_child(folium.Choropleth(\n",
    "    geo_data=geoJSON,\n",
    "    name='choropleth',\n",
    "))"
   ]
  }
 ],
 "metadata": {
  "kernelspec": {
   "display_name": "Python 3.8.10 64-bit",
   "language": "python",
   "name": "python3"
  },
  "language_info": {
   "codemirror_mode": {
    "name": "ipython",
    "version": 3
   },
   "file_extension": ".py",
   "mimetype": "text/x-python",
   "name": "python",
   "nbconvert_exporter": "python",
   "pygments_lexer": "ipython3",
   "version": "3.8.10"
  },
  "orig_nbformat": 4,
  "vscode": {
   "interpreter": {
    "hash": "31f2aee4e71d21fbe5cf8b01ff0e069b9275f58929596ceb00d14d90e3e16cd6"
   }
  }
 },
 "nbformat": 4,
 "nbformat_minor": 2
}
