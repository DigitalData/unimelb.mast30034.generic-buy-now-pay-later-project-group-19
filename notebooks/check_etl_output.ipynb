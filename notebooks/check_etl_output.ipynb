{
 "cells": [
  {
   "cell_type": "code",
   "execution_count": 1,
   "metadata": {},
   "outputs": [
    {
     "name": "stdout",
     "output_type": "stream",
     "text": [
      "22/10/02 18:23:31 WARN Utils: Your hostname, Polaris resolves to a loopback address: 127.0.1.1; using 172.26.153.20 instead (on interface eth0)\n",
      "22/10/02 18:23:31 WARN Utils: Set SPARK_LOCAL_IP if you need to bind to another address\n"
     ]
    },
    {
     "name": "stderr",
     "output_type": "stream",
     "text": [
      "Setting default log level to \"WARN\".\n",
      "To adjust logging level use sc.setLogLevel(newLevel). For SparkR, use setLogLevel(newLevel).\n"
     ]
    },
    {
     "name": "stdout",
     "output_type": "stream",
     "text": [
      "22/10/02 18:23:33 WARN NativeCodeLoader: Unable to load native-hadoop library for your platform... using builtin-java classes where applicable\n",
      "Welcome to\n",
      "      ____              __\n",
      "     / __/__  ___ _____/ /__\n",
      "    _\\ \\/ _ \\/ _ `/ __/  '_/\n",
      "   /__ / .__/\\_,_/_/ /_/\\_\\   version 3.3.0\n",
      "      /_/\n",
      "\n",
      "Using Python version 3.8.10 (default, Jun 22 2022 20:18:18)\n",
      "Spark context Web UI available at http://172.26.153.20:4040\n",
      "Spark context available as 'sc' (master = local[*], app id = local-1664695413881).\n",
      "SparkSession available as 'spark'.\n",
      "22/10/02 18:23:35 WARN SparkSession: Using an existing Spark session; only runtime SQL configurations will take effect.\n"
     ]
    }
   ],
   "source": [
    "import pandas as pd\n",
    "import numpy as np\n",
    "import os\n",
    "import re\n",
    "\n",
    "from pyspark.sql import SparkSession\n",
    "from pyspark.shell import spark\n",
    "from pyspark.sql import SQLContext\n",
    "from pyspark.sql.functions import *\n",
    "import matplotlib.pyplot as plt\n",
    "\n",
    "spark = (\n",
    "    SparkSession.builder.appName(\"MAST30034 Project 2\")\n",
    "    .config(\"spark.sql.repl.eagerEval.enabled\", True) \n",
    "    .config(\"spark.sql.parquet.cacheMetadata\", \"true\")\n",
    "    .config(\"spark.sql.session.timeZone\", \"Etc/UTC\")\n",
    "    .config(\"spark.driver.memory\", \"4g\")\n",
    "    .getOrCreate()\n",
    ")"
   ]
  },
  {
   "cell_type": "code",
   "execution_count": 2,
   "metadata": {},
   "outputs": [
    {
     "ename": "AnalysisException",
     "evalue": "Path does not exist: file:/mnt/c/Users/Xavier Travers/Desktop/Uni/ADS/generic-buy-now-pay-later-project-group-19/data/curated/curated",
     "output_type": "error",
     "traceback": [
      "\u001b[0;31m---------------------------------------------------------------------------\u001b[0m",
      "\u001b[0;31mAnalysisException\u001b[0m                         Traceback (most recent call last)",
      "\u001b[1;32m/mnt/c/Users/Xavier Travers/Desktop/Uni/ADS/generic-buy-now-pay-later-project-group-19/notebooks/check_etl_output.ipynb Cell 2\u001b[0m in \u001b[0;36m<cell line: 1>\u001b[0;34m()\u001b[0m\n\u001b[0;32m----> <a href='vscode-notebook-cell://wsl%2Bubuntu/mnt/c/Users/Xavier%20Travers/Desktop/Uni/ADS/generic-buy-now-pay-later-project-group-19/notebooks/check_etl_output.ipynb#W1sdnNjb2RlLXJlbW90ZQ%3D%3D?line=0'>1</a>\u001b[0m curated_df \u001b[39m=\u001b[39m spark\u001b[39m.\u001b[39;49mread\u001b[39m.\u001b[39;49mparquet(\u001b[39m'\u001b[39;49m\u001b[39m../data/curated/curated\u001b[39;49m\u001b[39m'\u001b[39;49m)\n",
      "File \u001b[0;32m~/.local/lib/python3.8/site-packages/pyspark/sql/readwriter.py:364\u001b[0m, in \u001b[0;36mDataFrameReader.parquet\u001b[0;34m(self, *paths, **options)\u001b[0m\n\u001b[1;32m    353\u001b[0m int96RebaseMode \u001b[39m=\u001b[39m options\u001b[39m.\u001b[39mget(\u001b[39m\"\u001b[39m\u001b[39mint96RebaseMode\u001b[39m\u001b[39m\"\u001b[39m, \u001b[39mNone\u001b[39;00m)\n\u001b[1;32m    354\u001b[0m \u001b[39mself\u001b[39m\u001b[39m.\u001b[39m_set_opts(\n\u001b[1;32m    355\u001b[0m     mergeSchema\u001b[39m=\u001b[39mmergeSchema,\n\u001b[1;32m    356\u001b[0m     pathGlobFilter\u001b[39m=\u001b[39mpathGlobFilter,\n\u001b[0;32m   (...)\u001b[0m\n\u001b[1;32m    361\u001b[0m     int96RebaseMode\u001b[39m=\u001b[39mint96RebaseMode,\n\u001b[1;32m    362\u001b[0m )\n\u001b[0;32m--> 364\u001b[0m \u001b[39mreturn\u001b[39;00m \u001b[39mself\u001b[39m\u001b[39m.\u001b[39m_df(\u001b[39mself\u001b[39;49m\u001b[39m.\u001b[39;49m_jreader\u001b[39m.\u001b[39;49mparquet(_to_seq(\u001b[39mself\u001b[39;49m\u001b[39m.\u001b[39;49m_spark\u001b[39m.\u001b[39;49m_sc, paths)))\n",
      "File \u001b[0;32m~/.local/lib/python3.8/site-packages/py4j/java_gateway.py:1321\u001b[0m, in \u001b[0;36mJavaMember.__call__\u001b[0;34m(self, *args)\u001b[0m\n\u001b[1;32m   1315\u001b[0m command \u001b[39m=\u001b[39m proto\u001b[39m.\u001b[39mCALL_COMMAND_NAME \u001b[39m+\u001b[39m\\\n\u001b[1;32m   1316\u001b[0m     \u001b[39mself\u001b[39m\u001b[39m.\u001b[39mcommand_header \u001b[39m+\u001b[39m\\\n\u001b[1;32m   1317\u001b[0m     args_command \u001b[39m+\u001b[39m\\\n\u001b[1;32m   1318\u001b[0m     proto\u001b[39m.\u001b[39mEND_COMMAND_PART\n\u001b[1;32m   1320\u001b[0m answer \u001b[39m=\u001b[39m \u001b[39mself\u001b[39m\u001b[39m.\u001b[39mgateway_client\u001b[39m.\u001b[39msend_command(command)\n\u001b[0;32m-> 1321\u001b[0m return_value \u001b[39m=\u001b[39m get_return_value(\n\u001b[1;32m   1322\u001b[0m     answer, \u001b[39mself\u001b[39;49m\u001b[39m.\u001b[39;49mgateway_client, \u001b[39mself\u001b[39;49m\u001b[39m.\u001b[39;49mtarget_id, \u001b[39mself\u001b[39;49m\u001b[39m.\u001b[39;49mname)\n\u001b[1;32m   1324\u001b[0m \u001b[39mfor\u001b[39;00m temp_arg \u001b[39min\u001b[39;00m temp_args:\n\u001b[1;32m   1325\u001b[0m     temp_arg\u001b[39m.\u001b[39m_detach()\n",
      "File \u001b[0;32m~/.local/lib/python3.8/site-packages/pyspark/sql/utils.py:196\u001b[0m, in \u001b[0;36mcapture_sql_exception.<locals>.deco\u001b[0;34m(*a, **kw)\u001b[0m\n\u001b[1;32m    192\u001b[0m converted \u001b[39m=\u001b[39m convert_exception(e\u001b[39m.\u001b[39mjava_exception)\n\u001b[1;32m    193\u001b[0m \u001b[39mif\u001b[39;00m \u001b[39mnot\u001b[39;00m \u001b[39misinstance\u001b[39m(converted, UnknownException):\n\u001b[1;32m    194\u001b[0m     \u001b[39m# Hide where the exception came from that shows a non-Pythonic\u001b[39;00m\n\u001b[1;32m    195\u001b[0m     \u001b[39m# JVM exception message.\u001b[39;00m\n\u001b[0;32m--> 196\u001b[0m     \u001b[39mraise\u001b[39;00m converted \u001b[39mfrom\u001b[39;00m \u001b[39mNone\u001b[39m\n\u001b[1;32m    197\u001b[0m \u001b[39melse\u001b[39;00m:\n\u001b[1;32m    198\u001b[0m     \u001b[39mraise\u001b[39;00m\n",
      "\u001b[0;31mAnalysisException\u001b[0m: Path does not exist: file:/mnt/c/Users/Xavier Travers/Desktop/Uni/ADS/generic-buy-now-pay-later-project-group-19/data/curated/curated"
     ]
    }
   ],
   "source": [
    "curated_df = spark.read.parquet('../data/curated/curated')"
   ]
  },
  {
   "cell_type": "code",
   "execution_count": null,
   "metadata": {},
   "outputs": [
    {
     "name": "stdout",
     "output_type": "stream",
     "text": [
      "+------------+--------------------+-------------+---------+------------------------------+------------+----------+------------------------------------+-----------------------+----------------+-------------+------------------------------------------+-----------------------+---------------+-------------------+------------+-----------------+-----------------+----------------------+----------------------------+-----------------------------+----+-----+----+-----+--------+-----------------------------+--------------------+---------------+-----------------+---------+----------------+--------------+---------+----+---------------------+-----+----------------------------------+-----------------+-------+-----------------------------+---------------------------------+-----+-----+-----------------------------+-------+-------------+--------------------------------------------+------------+--------+----------+-----+------+---------+---------+----------+-------+--------------------+----+-----------------+-----+------------------+-------------------+--------------------+--------------------+------------------------+----------------+----------------------+------------------+------------------+------------------+------------+\n",
      "|merchant_abn|                name|revenue_level|take_rate|and appliance rent and leasing|and eyeglass|and flower|and integrated system design service|and jewelry repair shop|and manufacturer|and newspaper|and other pay television and radio service|and restoration service|and sheet music|and silverware shop|and software|and souvenir shop|antique shop sale|art dealer and gallery|artist supply and craft shop|bicycle shop sale and service|book|cable|card|clock|computer|computer peripheral equipment|computer programming|data processing|digital good book|equipment|except appliance|florist supply|furniture|gift|health and beauty spa|hobby|home furnishing and equipment shop|including nursery|jewelry|lawn and garden supply outlet|motor vehicle supply and new part|movie|music|music shop musical instrument|novelty|nursery stock|office supply and printing and writing paper|optical good|optician|periodical|piano|repair|satellite|shoe shop|stationery|telecom|tent and awning shop|tool|toy and game shop|watch|     avg_daily_rev|avg_value_per_order|     avg_daily_order|avg_daily_commission|avg_commission_per_order|sa2_region_count|median_customer_income|returning_customer|     mean_spending|      std_spending|vip_customer|\n",
      "+------------+--------------------+-------------+---------+------------------------------+------------+----------+------------------------------------+-----------------------+----------------+-------------+------------------------------------------+-----------------------+---------------+-------------------+------------+-----------------+-----------------+----------------------+----------------------------+-----------------------------+----+-----+----+-----+--------+-----------------------------+--------------------+---------------+-----------------+---------+----------------+--------------+---------+----+---------------------+-----+----------------------------------+-----------------+-------+-----------------------------+---------------------------------+-----+-----+-----------------------------+-------+-------------+--------------------------------------------+------------+--------+----------+-----+------+---------+---------+----------+-------+--------------------+----+-----------------+-----+------------------+-------------------+--------------------+--------------------+------------------------+----------------+----------------------+------------------+------------------+------------------+------------+\n",
      "| 10023283211|       Felis Limited|            e|     0.18|                             0|           0|         0|                                   0|                      0|               1|            0|                                         0|                      0|              0|                  0|           0|                0|                0|                     0|                           0|                            0|   0|    0|   0|    0|       0|                            0|                   0|              0|                0|        0|               1|             0|        1|   0|                    0|    0|                                 1|                0|      0|                            0|                                0|    0|    0|                            0|      0|            0|                                           0|           0|       0|         0|    0|     0|        0|        0|         0|      0|                   0|   0|                0|    0|1162.4424982659957|  215.6632049834184|   5.390082644628099|  2.0923964968787923|      0.3881937689701531|            1717|     800.2595466118015|                11|231.95175179779932| 155.4244387797281|         137|\n",
      "| 10346855916|      Odio Institute|            b|     3.57|                             1|           0|         0|                                   0|                      0|               0|            0|                                         0|                      0|              0|                  0|           0|                0|                0|                     0|                           0|                            0|   0|    0|   0|    0|       0|                            0|                   0|              0|                0|        1|               0|             0|        1|   0|                    0|    0|                                 0|                0|      0|                            0|                                0|    0|    0|                            0|      0|            0|                                           0|           0|       0|         0|    0|     0|        0|        0|         0|      0|                   0|   1|                0|    0|11.198642107797072|  1129.196412536205|0.009917355371900827| 0.39979152324835543|       40.31231192754251|               7|                 795.4|                 0|1129.1964125362047| 717.9884232271605|           0|\n",
      "| 10385163239|      Sed Et Company|            a|     6.61|                             0|           0|         1|                                   0|                      0|               0|            0|                                         0|                      0|              0|                  0|           0|                0|                0|                     0|                           0|                            0|   0|    0|   0|    0|       0|                            0|                   0|              0|                0|        0|               0|             1|        0|   0|                    0|    0|                                 0|                0|      0|                            0|                                0|    0|    0|                            0|      0|            1|                                           0|           0|       0|         0|    0|     0|        0|        0|         0|      0|                   0|   0|                0|    0| 41.64208777760283| 340.45220412769885| 0.12231404958677686|  2.7525420020995472|      22.503890692840898|             132|     800.8532865502912|                 0|345.11593295136595| 203.4963257304528|           3|\n",
      "| 10648956813|Proin Nisl Institute|            a|     6.66|                             0|           0|         0|                                   0|                      0|               0|            0|                                         0|                      0|              0|                  0|           1|                0|                0|                     0|                           0|                            0|   0|    0|   0|    0|       1|                            1|                   0|              0|                0|        0|               0|             0|        0|   0|                    0|    0|                                 0|                0|      0|                            0|                                0|    0|    0|                            0|      0|            0|                                           0|           0|       0|         0|    0|     0|        0|        0|         0|      0|                   0|   0|                0|    0| 2346.446772147432|  64.58306251531761|   36.33223140495868|    156.273355025019|       4.301231963520153|            2208|     835.3667664222347|              1574| 98.72046572664787|57.083816701513115|         710|\n",
      "| 10714068705|Sollicitudin Comm...|            c|     2.51|                             0|           0|         0|                                   0|                      0|               1|            0|                                         0|                      0|              0|                  0|           0|                0|                0|                     0|                           0|                            0|   0|    0|   0|    0|       0|                            0|                   0|              0|                0|        0|               1|             0|        1|   0|                    0|    0|                                 1|                0|      0|                            0|                                0|    0|    0|                            0|      0|            0|                                           0|           0|       0|         0|    0|     0|        0|        0|         0|      0|                   0|   0|                0|    0| 719.8511581173573| 126.67537831908119|   5.682644628099173|  18.068264068745666|      3.1795519958089375|            1715|      802.506127487007|                10|135.20954692983582|113.73704384014175|         145|\n",
      "| 11024352823|Aliquet Metus Urn...|            c|     2.62|                             0|           0|         0|                                   0|                      0|               0|            0|                                         0|                      1|              0|                  0|           0|                0|                1|                     0|                           0|                            0|   0|    0|   0|    0|       0|                            0|                   0|              0|                0|        0|               0|             0|        0|   0|                    0|    0|                                 0|                0|      0|                            0|                                0|    0|    0|                            0|      0|            0|                                           0|           0|       0|         0|    0|     1|        0|        0|         0|      0|                   0|   0|                0|    0|158.05683709307073| 213.92480188212036|  0.7388429752066116|   4.141089131838453|       5.604829809311553|             560|     789.7292742572033|                 0| 216.8353434043261| 127.1012786845981|          25|\n",
      "| 11076688542|Amet Diam Industries|            c|     2.52|                             0|           0|         0|                                   0|                      0|               0|            0|                                         0|                      0|              0|                  0|           0|                0|                0|                     0|                           0|                            0|   0|    0|   0|    0|       0|                            0|                   0|              0|                0|        0|               0|             0|        0|   0|                    0|    0|                                 0|                0|      0|                            0|                                0|    0|    0|                            0|      0|            0|                                           1|           0|       0|         0|    0|     0|        0|        0|         1|      0|                   0|   0|                0|    0|  59.6638229574545|  694.1656324857687|  0.0859504132231405|  1.5035283385278535|       17.49297393864137|              77|     793.5411835748791|                 0| 694.1656324857688|203.90943864074208|           0|\n",
      "| 11944993446| Tincidunt Dui Corp.|            a|      6.6|                             0|           0|         0|                                   0|                      0|               0|            0|                                         0|                      0|              0|                  0|           0|                1|                0|                     0|                           0|                            0|   0|    0|   1|    0|       0|                            0|                   0|              0|                0|        0|               0|             0|        0|   1|                    0|    0|                                 0|                0|      0|                            0|                                0|    0|    0|                            0|      1|            0|                                           0|           0|       0|         0|    0|     0|        0|        0|         0|      0|                   0|   0|                0|    0|1337.7112473510363|   73.3740076742862|  18.231404958677686|   88.28894232516839|        4.84268450650289|            2111|     818.7385376488971|               296| 92.55664508776037| 69.80528811996665|         408|\n",
      "| 12516851436|        Mollis Corp.|            a|     6.71|                             0|           0|         0|                                   0|                      1|               0|            0|                                         0|                      0|              0|                  0|           0|                0|                0|                     0|                           0|                            0|   0|    0|   0|    1|       0|                            0|                   0|              0|                0|        0|               0|             0|        0|   0|                    0|    0|                                 0|                0|      0|                            0|                                0|    0|    0|                            0|      0|            0|                                           0|           0|       0|         0|    0|     0|        0|        0|         0|      0|                   0|   0|                0|    1| 53.43055264419514| 153.93087785589552| 0.34710743801652894|  3.5851900824254934|      10.328761904130587|             311|     804.1571499552759|                 0| 153.9308778558955|101.16065931508525|          12|\n",
      "| 13467303030|            Duis LLP|            a|     5.51|                             0|           0|         0|                                   0|                      0|               0|            0|                                         0|                      0|              0|                  0|           0|                0|                0|                     0|                           0|                            0|   0|    0|   0|    0|       0|                            0|                   0|              0|                0|        0|               0|             0|        0|   0|                    0|    0|                                 0|                0|      0|                            0|                                0|    0|    0|                            0|      0|            0|                                           0|           0|       0|         0|    0|     0|        0|        0|         0|      0|                   1|   0|                0|    0| 8.901530612722956|  897.5710034495647|0.009917355371900827| 0.49047433676103486|       49.45616229007101|              10|      687.310606060606|                 0|  897.571003449565| 556.3495573012563|           0|\n",
      "+------------+--------------------+-------------+---------+------------------------------+------------+----------+------------------------------------+-----------------------+----------------+-------------+------------------------------------------+-----------------------+---------------+-------------------+------------+-----------------+-----------------+----------------------+----------------------------+-----------------------------+----+-----+----+-----+--------+-----------------------------+--------------------+---------------+-----------------+---------+----------------+--------------+---------+----+---------------------+-----+----------------------------------+-----------------+-------+-----------------------------+---------------------------------+-----+-----+-----------------------------+-------+-------------+--------------------------------------------+------------+--------+----------+-----+------+---------+---------+----------+-------+--------------------+----+-----------------+-----+------------------+-------------------+--------------------+--------------------+------------------------+----------------+----------------------+------------------+------------------+------------------+------------+\n",
      "only showing top 10 rows\n",
      "\n"
     ]
    }
   ],
   "source": [
    "curated_df.show(10)"
   ]
  }
 ],
 "metadata": {
  "kernelspec": {
   "display_name": "Python 3 (ipykernel)",
   "language": "python",
   "name": "python3"
  },
  "orig_nbformat": 4,
  "vscode": {
   "interpreter": {
    "hash": "916dbcbb3f70747c44a77c7bcd40155683ae19c65e1c03b4aa3499c5328201f1"
   }
  }
 },
 "nbformat": 4,
 "nbformat_minor": 2
}
