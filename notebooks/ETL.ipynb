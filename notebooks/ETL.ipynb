{
 "cells": [
  {
   "cell_type": "markdown",
   "id": "371b205b",
   "metadata": {},
   "source": [
    "# ETL Processes\n",
    "***\n",
    "## Lists of tasks:\n",
    "- ### <del>Consolidating Datasets</del>\n",
    "- ### Normalising/Restructuring Tables\n",
    "- ### Exploratory Data Analysis\n",
    "- ### Data Cleaning\n",
    "- ### Package ETL.py into a Class\n",
    "***\n",
    "\n",
    "## Content:\n",
    "- ### [Consumer Dataset](#Consumer-dataset)\n",
    "- ### [Transaction Dataset](#Transaction-dataset)\n",
    "- ### [Merchant Dataset](#Merchant-dataset)\n",
    "- ### [Data Aggregations](#Aggregation)\n"
   ]
  },
  {
   "cell_type": "code",
   "execution_count": 3,
   "id": "79f83e0d",
   "metadata": {},
   "outputs": [
    {
     "name": "stdout",
     "output_type": "stream",
     "text": [
      "Welcome to\n",
      "      ____              __\n",
      "     / __/__  ___ _____/ /__\n",
      "    _\\ \\/ _ \\/ _ `/ __/  '_/\n",
      "   /__ / .__/\\_,_/_/ /_/\\_\\   version 3.1.2\n",
      "      /_/\n",
      "\n",
      "Using Python version 3.7.4 (default, Aug 13 2019 15:17:50)\n",
      "Spark context Web UI available at http://172.16.29.12:4041\n",
      "Spark context available as 'sc' (master = local[*], app id = local-1662576952633).\n",
      "SparkSession available as 'spark'.\n"
     ]
    }
   ],
   "source": [
    "import pandas as pd\n",
    "import numpy as np\n",
    "import os\n",
    "import re\n",
    "\n",
    "# Set working directory\n",
    "if not \"/data/tables\" in os.getcwd():\n",
    "    os.chdir(\"../data/tables\")\n",
    "\n",
    "from pyspark.sql import SparkSession\n",
    "from pyspark.shell import spark\n",
    "from pyspark.sql import SQLContext\n",
    "from pyspark.sql.functions import *\n",
    "import matplotlib.pyplot as plt\n",
    "\n",
    "spark = (\n",
    "    SparkSession.builder.appName(\"MAST30034 Project 2\")\n",
    "    .config(\"spark.sql.repl.eagerEval.enabled\", True) \n",
    "    .config(\"spark.sql.parquet.cacheMetadata\", \"true\")\n",
    "    .config(\"spark.sql.session.timeZone\", \"Etc/UTC\")\n",
    "    .config(\"spark.driver.memory\", \"4g\")\n",
    "    .config(\"spark.sql.broadcastTimeout\", -1)\n",
    "    .getOrCreate()\n",
    ")"
   ]
  },
  {
   "cell_type": "markdown",
   "id": "d5458a7a",
   "metadata": {},
   "source": [
    "# Consumer dataset"
   ]
  },
  {
   "cell_type": "code",
   "execution_count": 2,
   "id": "42f5285b",
   "metadata": {},
   "outputs": [
    {
     "data": {
      "text/html": [
       "<table border='1'>\n",
       "<tr><th>name</th><th>address</th><th>state</th><th>postcode</th><th>gender</th><th>consumer_id</th></tr>\n",
       "<tr><td>Yolanda Williams</td><td>413 Haney Gardens...</td><td>WA</td><td>6935</td><td>Female</td><td>1195503</td></tr>\n",
       "<tr><td>Mary Smith</td><td>3764 Amber Oval</td><td>NSW</td><td>2782</td><td>Female</td><td>179208</td></tr>\n",
       "<tr><td>Jill Jones MD</td><td>40693 Henry Greens</td><td>NT</td><td>862</td><td>Female</td><td>1194530</td></tr>\n",
       "<tr><td>Lindsay Jimenez</td><td>00653 Davenport C...</td><td>NSW</td><td>2780</td><td>Female</td><td>154128</td></tr>\n",
       "<tr><td>Rebecca Blanchard</td><td>9271 Michael Mano...</td><td>WA</td><td>6355</td><td>Female</td><td>712975</td></tr>\n",
       "<tr><td>Karen Chapman</td><td>2706 Stewart Oval...</td><td>NSW</td><td>2033</td><td>Female</td><td>407340</td></tr>\n",
       "<tr><td>Andrea Jones</td><td>122 Brandon Cliff</td><td>QLD</td><td>4606</td><td>Female</td><td>511685</td></tr>\n",
       "<tr><td>Stephen Williams</td><td>6804 Wright Crest...</td><td>WA</td><td>6056</td><td>Male</td><td>448088</td></tr>\n",
       "<tr><td>Stephanie Reyes</td><td>5813 Denise Land ...</td><td>NSW</td><td>2482</td><td>Female</td><td>650435</td></tr>\n",
       "<tr><td>Jillian Gonzales</td><td>461 Ryan Common S...</td><td>VIC</td><td>3220</td><td>Female</td><td>1058499</td></tr>\n",
       "<tr><td>Eugene Lucas</td><td>33983 Kevin Drive...</td><td>VIC</td><td>3063</td><td>Undisclosed</td><td>428325</td></tr>\n",
       "<tr><td>Melissa Jones</td><td>13706 Kimberly Port</td><td>WA</td><td>6743</td><td>Female</td><td>1494640</td></tr>\n",
       "<tr><td>Angela Brown PhD</td><td>0236 Mills Land S...</td><td>QLD</td><td>4673</td><td>Female</td><td>1146717</td></tr>\n",
       "<tr><td>Lance Butler</td><td>8943 Kenneth Camp</td><td>VIC</td><td>3332</td><td>Male</td><td>1343547</td></tr>\n",
       "<tr><td>Paul Abbott</td><td>60495 Ryan Hill</td><td>QLD</td><td>4512</td><td>Male</td><td>1463076</td></tr>\n",
       "<tr><td>Tracy Hart</td><td>9671 Jacob Harbor...</td><td>NSW</td><td>2452</td><td>Male</td><td>1356405</td></tr>\n",
       "<tr><td>Alyssa Wilson</td><td>44353 Nathan Ridge</td><td>VIC</td><td>3719</td><td>Female</td><td>1331093</td></tr>\n",
       "<tr><td>Michael Burnett</td><td>89400 Torres Fort</td><td>NSW</td><td>1109</td><td>Male</td><td>80965</td></tr>\n",
       "<tr><td>Victoria Gonzalez</td><td>68657 Johnson Gle...</td><td>TAS</td><td>7276</td><td>Female</td><td>1226530</td></tr>\n",
       "<tr><td>James Norris</td><td>790 Ramos Landing</td><td>VIC</td><td>3234</td><td>Undisclosed</td><td>1390367</td></tr>\n",
       "</table>\n",
       "only showing top 20 rows\n"
      ],
      "text/plain": [
       "+-----------------+--------------------+-----+--------+-----------+-----------+\n",
       "|             name|             address|state|postcode|     gender|consumer_id|\n",
       "+-----------------+--------------------+-----+--------+-----------+-----------+\n",
       "| Yolanda Williams|413 Haney Gardens...|   WA|    6935|     Female|    1195503|\n",
       "|       Mary Smith|     3764 Amber Oval|  NSW|    2782|     Female|     179208|\n",
       "|    Jill Jones MD|  40693 Henry Greens|   NT|     862|     Female|    1194530|\n",
       "|  Lindsay Jimenez|00653 Davenport C...|  NSW|    2780|     Female|     154128|\n",
       "|Rebecca Blanchard|9271 Michael Mano...|   WA|    6355|     Female|     712975|\n",
       "|    Karen Chapman|2706 Stewart Oval...|  NSW|    2033|     Female|     407340|\n",
       "|     Andrea Jones|   122 Brandon Cliff|  QLD|    4606|     Female|     511685|\n",
       "| Stephen Williams|6804 Wright Crest...|   WA|    6056|       Male|     448088|\n",
       "|  Stephanie Reyes|5813 Denise Land ...|  NSW|    2482|     Female|     650435|\n",
       "| Jillian Gonzales|461 Ryan Common S...|  VIC|    3220|     Female|    1058499|\n",
       "|     Eugene Lucas|33983 Kevin Drive...|  VIC|    3063|Undisclosed|     428325|\n",
       "|    Melissa Jones| 13706 Kimberly Port|   WA|    6743|     Female|    1494640|\n",
       "| Angela Brown PhD|0236 Mills Land S...|  QLD|    4673|     Female|    1146717|\n",
       "|     Lance Butler|   8943 Kenneth Camp|  VIC|    3332|       Male|    1343547|\n",
       "|      Paul Abbott|     60495 Ryan Hill|  QLD|    4512|       Male|    1463076|\n",
       "|       Tracy Hart|9671 Jacob Harbor...|  NSW|    2452|       Male|    1356405|\n",
       "|    Alyssa Wilson|  44353 Nathan Ridge|  VIC|    3719|     Female|    1331093|\n",
       "|  Michael Burnett|   89400 Torres Fort|  NSW|    1109|       Male|      80965|\n",
       "|Victoria Gonzalez|68657 Johnson Gle...|  TAS|    7276|     Female|    1226530|\n",
       "|     James Norris|   790 Ramos Landing|  VIC|    3234|Undisclosed|    1390367|\n",
       "+-----------------+--------------------+-----+--------+-----------+-----------+\n",
       "only showing top 20 rows"
      ]
     },
     "execution_count": 2,
     "metadata": {},
     "output_type": "execute_result"
    }
   ],
   "source": [
    "# Read csv file\n",
    "consumer = spark.read.option(\"delimiter\", \"|\").csv('tbl_consumer.csv', header = True)\n",
    "consumer"
   ]
  },
  {
   "cell_type": "code",
   "execution_count": null,
   "id": "09f56483",
   "metadata": {},
   "outputs": [],
   "source": [
    "consumer_id = consumer.toPandas()['consumer_id'].unique()"
   ]
  },
  {
   "cell_type": "code",
   "execution_count": null,
   "id": "2ad95aa9",
   "metadata": {},
   "outputs": [],
   "source": [
    "len(consumer_id)"
   ]
  },
  {
   "cell_type": "code",
   "execution_count": null,
   "id": "6fa95663",
   "metadata": {},
   "outputs": [],
   "source": [
    "print(f\"Dataset details: \\n\\tNumber of rows: {consumer.count()}\", \\\n",
    "      f\"\\n\\tNumber of distinct Consumer ID: {consumer.select('consumer_id').distinct().count()}\", \\\n",
    "      f\"\\n\\tNumber of distinct Postcodes: {consumer.select('postcode').distinct().count()}\")"
   ]
  },
  {
   "cell_type": "markdown",
   "id": "708e3afe",
   "metadata": {},
   "source": [
    "Note: \n",
    "- The **address field is fake** and derived from USA street names. We have included it to mimic a more realistic dataset, but the streets themselves are non-existent and if there are any matches, it will be a pure coincidence. <font color='red'>**Not sure what sort of information we can extract here if they are all fake</font> \n",
    "- The **postcode field is accurate** and should be **used for aggregated analysis** for joining with other geospatial datasets for demographic information (i.e ABS datasets) <font color='red'>**Highly relevant for geospatial analysis</font> \n",
    "- There is roughly a **uniform distribution at the state level** (i.e number of consumers per state is the same for all states)."
   ]
  },
  {
   "cell_type": "markdown",
   "id": "7eefd265",
   "metadata": {},
   "source": [
    "### Checking for missing values in consumer dataset"
   ]
  },
  {
   "cell_type": "code",
   "execution_count": 4,
   "id": "ce2c735e",
   "metadata": {},
   "outputs": [],
   "source": [
    "def missing_values_check(sdf):\n",
    "    \"\"\"Check missing values in each column of the spark dataframe\"\"\"\n",
    "    \n",
    "    col_summary = []\n",
    "    for c, dtype in sdf.dtypes:\n",
    "        if dtype == 'string':\n",
    "            col_summary.append(\n",
    "                count(\n",
    "                    when(\n",
    "                        col(c).contains('None') | \\\n",
    "                        col(c).contains('NULL') | \\\n",
    "                        (col(c) == '' ) | \\\n",
    "                        col(c).isNull() | \\\n",
    "                        isnan(c), c\n",
    "                    )\n",
    "                ).alias(c)\n",
    "            )\n",
    "        \n",
    "        elif dtype == 'date':\n",
    "            col_summary.append(\n",
    "                count(\n",
    "                    when(\n",
    "                        col(c).isNull(), c\n",
    "                    )\n",
    "                ).alias(c)\n",
    "            )\n",
    "            \n",
    "        else:\n",
    "            sdf = sdf.fillna({c:-99})\n",
    "            col_summary.append(\n",
    "                count(\n",
    "                    when(\n",
    "                        col(c) == -99, c\n",
    "                        \n",
    "                    )\n",
    "                ).alias(c)\n",
    "            )\n",
    "            \n",
    "    return sdf.select(col_summary)\n",
    "                               \n"
   ]
  },
  {
   "cell_type": "code",
   "execution_count": null,
   "id": "62fae5bd",
   "metadata": {},
   "outputs": [],
   "source": [
    "missing_values_check(consumer)"
   ]
  },
  {
   "cell_type": "markdown",
   "id": "6863fddb",
   "metadata": {},
   "source": [
    "### User detail dataset"
   ]
  },
  {
   "cell_type": "code",
   "execution_count": 3,
   "id": "69f48788",
   "metadata": {},
   "outputs": [
    {
     "data": {
      "text/html": [
       "<table border='1'>\n",
       "<tr><th>user_id</th><th>consumer_id</th></tr>\n",
       "<tr><td>1</td><td>1195503</td></tr>\n",
       "<tr><td>2</td><td>179208</td></tr>\n",
       "<tr><td>3</td><td>1194530</td></tr>\n",
       "<tr><td>4</td><td>154128</td></tr>\n",
       "<tr><td>5</td><td>712975</td></tr>\n",
       "<tr><td>6</td><td>407340</td></tr>\n",
       "<tr><td>7</td><td>511685</td></tr>\n",
       "<tr><td>8</td><td>448088</td></tr>\n",
       "<tr><td>9</td><td>650435</td></tr>\n",
       "<tr><td>10</td><td>1058499</td></tr>\n",
       "<tr><td>11</td><td>428325</td></tr>\n",
       "<tr><td>12</td><td>1494640</td></tr>\n",
       "<tr><td>13</td><td>1146717</td></tr>\n",
       "<tr><td>14</td><td>1343547</td></tr>\n",
       "<tr><td>15</td><td>1463076</td></tr>\n",
       "<tr><td>16</td><td>1356405</td></tr>\n",
       "<tr><td>17</td><td>1331093</td></tr>\n",
       "<tr><td>18</td><td>80965</td></tr>\n",
       "<tr><td>19</td><td>1226530</td></tr>\n",
       "<tr><td>20</td><td>1390367</td></tr>\n",
       "</table>\n",
       "only showing top 20 rows\n"
      ],
      "text/plain": [
       "+-------+-----------+\n",
       "|user_id|consumer_id|\n",
       "+-------+-----------+\n",
       "|      1|    1195503|\n",
       "|      2|     179208|\n",
       "|      3|    1194530|\n",
       "|      4|     154128|\n",
       "|      5|     712975|\n",
       "|      6|     407340|\n",
       "|      7|     511685|\n",
       "|      8|     448088|\n",
       "|      9|     650435|\n",
       "|     10|    1058499|\n",
       "|     11|     428325|\n",
       "|     12|    1494640|\n",
       "|     13|    1146717|\n",
       "|     14|    1343547|\n",
       "|     15|    1463076|\n",
       "|     16|    1356405|\n",
       "|     17|    1331093|\n",
       "|     18|      80965|\n",
       "|     19|    1226530|\n",
       "|     20|    1390367|\n",
       "+-------+-----------+\n",
       "only showing top 20 rows"
      ]
     },
     "execution_count": 3,
     "metadata": {},
     "output_type": "execute_result"
    }
   ],
   "source": [
    "user_detail = spark.read.parquet(\"consumer_user_details.parquet\")\n",
    "user_detail"
   ]
  },
  {
   "cell_type": "code",
   "execution_count": null,
   "id": "e8d52aab",
   "metadata": {},
   "outputs": [],
   "source": [
    "len(consumer_id)"
   ]
  },
  {
   "cell_type": "code",
   "execution_count": 15,
   "id": "e0aca93a",
   "metadata": {},
   "outputs": [],
   "source": [
    "consumer_id = user_detail.toPandas()['user_id'].unique()"
   ]
  },
  {
   "cell_type": "code",
   "execution_count": null,
   "id": "bbc5087a",
   "metadata": {},
   "outputs": [],
   "source": [
    "print(f\"Dataset details: \\n\\tNumber of rows: {user_detail.count()}\", \\\n",
    "      f\"\\n\\tNumber of distinct User ID: {user_detail.select('user_id').distinct().count()}\", \\\n",
    "      f\"\\n\\tNumber of distinct Consumer ID: {user_detail.select('consumer_id').distinct().count()}\")"
   ]
  },
  {
   "cell_type": "markdown",
   "id": "a6d6495b",
   "metadata": {},
   "source": [
    "### Checking for missing values in user detail dataset"
   ]
  },
  {
   "cell_type": "code",
   "execution_count": null,
   "id": "9a457919",
   "metadata": {},
   "outputs": [],
   "source": [
    "missing_values_check(user_detail)"
   ]
  },
  {
   "cell_type": "markdown",
   "id": "5c214cea",
   "metadata": {},
   "source": [
    "Note:\n",
    "- Due to a difference between the internal system and a poor design choice (for some reason), the transaction tables use a **surrogate key** for each new user_id. <font color='red'>**Transaction dataset uses `user_id` to map customer but customer data are mapped to their own unique `customer_id` so the user detail data serves to map those two together</font> \n",
    "- However, the Consumer table has a **unique ID (some are missing on purpose)** field which will require some form of mapping between consumer_id to user_id. <font color='red'>**Might require further investigation and decide on whether it is appropriate to remove</font> \n",
    "- An additional mapping table has been provided to join the two datasets together.\n"
   ]
  },
  {
   "cell_type": "markdown",
   "id": "48daeb03",
   "metadata": {},
   "source": [
    "# Transaction dataset"
   ]
  },
  {
   "cell_type": "code",
   "execution_count": 5,
   "id": "f22372cf",
   "metadata": {},
   "outputs": [],
   "source": [
    "transaction = spark.read.parquet(\"transactions_20210828_20220227_snapshot/\")"
   ]
  },
  {
   "cell_type": "markdown",
   "id": "73cf258a",
   "metadata": {},
   "source": [
    "<div class=\"alert alert-block alert-warning\">\n",
    "<b>Note:</b> Use the following code to load the transactions files if you have problems running the code above.\n",
    "</div>"
   ]
  },
  {
   "cell_type": "code",
   "execution_count": null,
   "id": "e6d6141d",
   "metadata": {},
   "outputs": [],
   "source": [
    "path = \"transactions_20210228_20210827_snapshot/\"\n",
    "list_files = os.listdir(path)\n",
    "list_files = list_files[1:(len(list_files)-1)]\n",
    "list_files"
   ]
  },
  {
   "cell_type": "code",
   "execution_count": null,
   "id": "8bfba2da",
   "metadata": {},
   "outputs": [],
   "source": [
    "# import modules\n",
    "from pyspark.sql import SparkSession\n",
    "import functools\n",
    " \n",
    "# explicit function\n",
    "def unionAll(dfs):\n",
    "    return functools.reduce(lambda df1, df2: df1.union(df2.select(df1.columns)), dfs)\n",
    "\n",
    "# insert datetime\n",
    "file_name = os.listdir(path+ list_files[0])[1]\n",
    "transaction = spark.read.parquet(path+ list_files[0] +\"/\" + file_name)\n",
    "for i in list_files[1:]:\n",
    "    file_name = os.listdir(path + i)[1]\n",
    "    tmp = spark.read.parquet(path+ i +\"/\" + file_name)\n",
    "    transaction = unionAll([transaction, tmp] )"
   ]
  },
  {
   "cell_type": "markdown",
   "id": "27a8f867",
   "metadata": {},
   "source": [
    "### Inspecting transaction dataset"
   ]
  },
  {
   "cell_type": "code",
   "execution_count": 9,
   "id": "5790fc47",
   "metadata": {},
   "outputs": [
    {
     "data": {
      "text/html": [
       "<table border='1'>\n",
       "<tr><th>user_id</th><th>merchant_abn</th><th>dollar_value</th><th>order_id</th><th>order_datetime</th></tr>\n",
       "<tr><td>14935</td><td>79417999332</td><td>136.06570809815838</td><td>23acbb7b-cf98-458...</td><td>2021-11-26</td></tr>\n",
       "<tr><td>1</td><td>46451548968</td><td>72.61581642788431</td><td>76bab304-fa2d-400...</td><td>2021-11-26</td></tr>\n",
       "<tr><td>14936</td><td>89518629617</td><td>3.0783487174439297</td><td>a2ae446a-2959-41c...</td><td>2021-11-26</td></tr>\n",
       "<tr><td>1</td><td>49167531725</td><td>51.58228625503599</td><td>7080c274-17f7-4cc...</td><td>2021-11-26</td></tr>\n",
       "<tr><td>14936</td><td>31101120643</td><td>25.228114942417797</td><td>8e301c0f-06ab-45c...</td><td>2021-11-26</td></tr>\n",
       "<tr><td>2</td><td>67978471888</td><td>691.5028234458998</td><td>0380e9ad-b0e8-420...</td><td>2021-11-26</td></tr>\n",
       "<tr><td>14936</td><td>60956456424</td><td>102.13952056640888</td><td>5ac3da9c-5147-452...</td><td>2021-11-26</td></tr>\n",
       "<tr><td>2</td><td>47644196714</td><td>644.5220654863093</td><td>4e368e44-86f8-4de...</td><td>2021-11-26</td></tr>\n",
       "<tr><td>14938</td><td>39649557865</td><td>209.12780951421405</td><td>4d78cd01-4bab-494...</td><td>2021-11-26</td></tr>\n",
       "<tr><td>3</td><td>88402174457</td><td>141.0387993699113</td><td>c50c957d-ecfc-430...</td><td>2021-11-26</td></tr>\n",
       "<tr><td>14938</td><td>32234779638</td><td>102.04090324888061</td><td>e94ff357-b036-493...</td><td>2021-11-26</td></tr>\n",
       "<tr><td>4</td><td>24015173965</td><td>157.0</td><td>5b867ac9-d1e0-430...</td><td>2021-11-26</td></tr>\n",
       "<tr><td>14939</td><td>79830510987</td><td>246.13590152514766</td><td>666909ed-79c2-45b...</td><td>2021-11-26</td></tr>\n",
       "<tr><td>5</td><td>76646764782</td><td>35.463129852951695</td><td>0c855413-67fa-467...</td><td>2021-11-26</td></tr>\n",
       "<tr><td>14939</td><td>17324645993</td><td>24.108258533478818</td><td>40fd2f7f-a274-420...</td><td>2021-11-26</td></tr>\n",
       "<tr><td>5</td><td>71041015148</td><td>89.76800577775657</td><td>93255de9-c8fe-426...</td><td>2021-11-26</td></tr>\n",
       "<tr><td>14939</td><td>75089928159</td><td>14.806519329659501</td><td>2c5ba1f3-1c5a-4e5...</td><td>2021-11-26</td></tr>\n",
       "<tr><td>5</td><td>80324045558</td><td>62.79195913018835</td><td>564f81c8-c3c1-4f4...</td><td>2021-11-26</td></tr>\n",
       "<tr><td>14939</td><td>50315283629</td><td>575.3321071340728</td><td>026c6d3d-4f7c-4f4...</td><td>2021-11-26</td></tr>\n",
       "<tr><td>6</td><td>11566786699</td><td>15.856637357709419</td><td>0230e104-aef0-48f...</td><td>2021-11-26</td></tr>\n",
       "</table>\n",
       "only showing top 20 rows\n"
      ],
      "text/plain": [
       "DataFrame[user_id: bigint, merchant_abn: bigint, dollar_value: double, order_id: string, order_datetime: date]"
      ]
     },
     "execution_count": 9,
     "metadata": {},
     "output_type": "execute_result"
    }
   ],
   "source": [
    "transaction"
   ]
  },
  {
   "cell_type": "code",
   "execution_count": null,
   "id": "06eb3520",
   "metadata": {},
   "outputs": [],
   "source": [
    "transaction.write.parquet(\"/Users/oliver/Downloads/sales_by_region.parquet\")"
   ]
  },
  {
   "cell_type": "code",
   "execution_count": null,
   "id": "d225b05d",
   "metadata": {},
   "outputs": [],
   "source": [
    "transaction.printSchema()"
   ]
  },
  {
   "cell_type": "code",
   "execution_count": null,
   "id": "9e64ddf9",
   "metadata": {},
   "outputs": [],
   "source": [
    "min_date, max_date = transaction.select(min(\"order_datetime\"), max(\"order_datetime\")).first()\n",
    "\n",
    "print(f\"Dataset details: \\n\\tNumber of rows: {transaction.count()}\", \\\n",
    "      f\"\\n\\tNumber of distinct order: {transaction.select('order_id').distinct().count()}\", \\\n",
    "      f\"\\n\\tPeriod: {min_date} - {max_date}\")"
   ]
  },
  {
   "cell_type": "markdown",
   "id": "169e0ae7",
   "metadata": {},
   "source": [
    "### Checking for missing values in transaction dataset"
   ]
  },
  {
   "cell_type": "code",
   "execution_count": 6,
   "id": "21080cb6",
   "metadata": {},
   "outputs": [
    {
     "data": {
      "text/html": [
       "<table border='1'>\n",
       "<tr><th>user_id</th><th>merchant_abn</th><th>dollar_value</th><th>order_id</th><th>order_datetime</th></tr>\n",
       "<tr><td>0</td><td>0</td><td>0</td><td>0</td><td>0</td></tr>\n",
       "</table>\n"
      ],
      "text/plain": [
       "+-------+------------+------------+--------+--------------+\n",
       "|user_id|merchant_abn|dollar_value|order_id|order_datetime|\n",
       "+-------+------------+------------+--------+--------------+\n",
       "|      0|           0|           0|       0|             0|\n",
       "+-------+------------+------------+--------+--------------+"
      ]
     },
     "execution_count": 6,
     "metadata": {},
     "output_type": "execute_result"
    }
   ],
   "source": [
    "missing_values_check(transaction)"
   ]
  },
  {
   "cell_type": "code",
   "execution_count": 14,
   "id": "5c7af2ff",
   "metadata": {},
   "outputs": [],
   "source": [
    "transaction_cust_id = transaction.select('user_id').toPandas()['user_id'].unique()"
   ]
  },
  {
   "cell_type": "code",
   "execution_count": 16,
   "id": "df15969e",
   "metadata": {},
   "outputs": [],
   "source": [
    "consumer_id = set(consumer_id)\n",
    "transaction_cust_id = set(transaction_cust_id)"
   ]
  },
  {
   "cell_type": "code",
   "execution_count": 18,
   "id": "1b524089",
   "metadata": {},
   "outputs": [
    {
     "data": {
      "text/plain": [
       "24081"
      ]
     },
     "execution_count": 18,
     "metadata": {},
     "output_type": "execute_result"
    }
   ],
   "source": [
    "len(transaction_cust_id)"
   ]
  },
  {
   "cell_type": "code",
   "execution_count": 17,
   "id": "c35784c3",
   "metadata": {},
   "outputs": [
    {
     "data": {
      "text/plain": [
       "24081"
      ]
     },
     "execution_count": 17,
     "metadata": {},
     "output_type": "execute_result"
    }
   ],
   "source": [
    "len(transaction_cust_id.intersection(consumer_id))"
   ]
  },
  {
   "cell_type": "code",
   "execution_count": null,
   "id": "d438def5",
   "metadata": {},
   "outputs": [],
   "source": [
    "transaction.count()"
   ]
  },
  {
   "cell_type": "markdown",
   "id": "7b7ae258",
   "metadata": {},
   "source": [
    "# Merchant dataset"
   ]
  },
  {
   "cell_type": "code",
   "execution_count": null,
   "id": "5ddc32c4",
   "metadata": {},
   "outputs": [],
   "source": [
    "merchant = spark.read.parquet(\"tbl_merchants.parquet\")\n",
    "merchant"
   ]
  },
  {
   "cell_type": "code",
   "execution_count": null,
   "id": "8d0eab7c",
   "metadata": {},
   "outputs": [],
   "source": [
    "merchant.printSchema()"
   ]
  },
  {
   "cell_type": "code",
   "execution_count": null,
   "id": "742580a3",
   "metadata": {},
   "outputs": [],
   "source": [
    "print(f\"Dataset details: \\n\\tNumber of rows: {merchant.count()}\", \\\n",
    "      f\"\\n\\tNumber of distinct Merchant ABN: {merchant.select('merchant_abn').distinct().count()}\")"
   ]
  },
  {
   "cell_type": "markdown",
   "id": "b3999afc",
   "metadata": {},
   "source": [
    "### Checking for missing values in merchant dataset"
   ]
  },
  {
   "cell_type": "code",
   "execution_count": null,
   "id": "3a3ae0c4",
   "metadata": {},
   "outputs": [],
   "source": [
    "missing_values_check(merchant)"
   ]
  },
  {
   "cell_type": "markdown",
   "id": "edad95ea",
   "metadata": {},
   "source": [
    "### The tags column consists of tags, revenue levels and take rate of a merchant\n",
    "- **Revenue Levels**: (a, b, c, d, e) represents the **level of revenue bands** (unknown to groups). a denotes the smallest band whilst e denotes the highest revenue band. <font color='red'>**Highly relevant in ranking merchant</font> \n",
    "- **Take Rate**: the **fee charged by the BNPL firm** to a merchant on a transaction. That is, for each transaction made, a certain percentage is taken by the BNPL firm.<font color='red'>**Highly relevant in ranking merchant</font> \n",
    "- The dataset has been created to mimic a Salesforce data extract (i.e salespeople will type in tags and segments within a **free-text** field). <font color='red'>This suggests use of lemmatizating/stemming/fuzzy methods to group similar texts?</font> \n",
    "- As such, please be aware of small **human errors** when parsing the dataset.\n",
    "- For Example, the tag field may have errors as they were manually input by employees."
   ]
  },
  {
   "cell_type": "markdown",
   "id": "864bcbb6",
   "metadata": {},
   "source": [
    "Since the data is small, we will be using Pandas to deal with Merchant data for convenience."
   ]
  },
  {
   "cell_type": "code",
   "execution_count": null,
   "id": "cd295f03",
   "metadata": {},
   "outputs": [],
   "source": [
    "merchant = merchant.toPandas()"
   ]
  },
  {
   "cell_type": "code",
   "execution_count": null,
   "id": "42711880",
   "metadata": {},
   "outputs": [],
   "source": [
    "# Display first 5 rows for \"tags\"\n",
    "for idx, row in merchant.head(5).iterrows():\n",
    "    print(row['tags'])\n"
   ]
  },
  {
   "cell_type": "markdown",
   "id": "9ba957ed",
   "metadata": {},
   "source": [
    "### Extract Revenue Levels and Take Rate columns"
   ]
  },
  {
   "cell_type": "code",
   "execution_count": null,
   "id": "fb2a176d",
   "metadata": {},
   "outputs": [],
   "source": [
    "extract_tags(merchant)"
   ]
  },
  {
   "cell_type": "code",
   "execution_count": null,
   "id": "f16619ed",
   "metadata": {},
   "outputs": [],
   "source": [
    "# Function to extract tags, revenue level and take rate from tags column\n",
    "def extract_tags(arr, category='tags'):\n",
    "    \n",
    "    # Split tags into the three components\n",
    "    arr = arr[1:-1]\n",
    "    split_arr = re.split('\\), \\(|\\], \\[', arr.strip('[()]'))\n",
    "    \n",
    "    if category == 'take_rate':\n",
    "        return re.findall('[\\d\\.\\d]+', split_arr[2])[0]\n",
    "    \n",
    "    elif category == 'revenue_level':\n",
    "        return split_arr[1].lower()\n",
    "    \n",
    "    # by default return tags\n",
    "    return split_arr[0].lower()\n"
   ]
  },
  {
   "cell_type": "code",
   "execution_count": null,
   "id": "edcf8d17",
   "metadata": {},
   "outputs": [],
   "source": [
    "# Extract all three components in tags as standalone columns\n",
    "merchant['take_rate'] = merchant['tags'].apply(lambda x : extract_tags(x, 'take_rate'))\n",
    "merchant['revenue_level'] = merchant['tags'].apply(lambda x : extract_tags(x, 'revenue_level'))\n",
    "merchant['tags'] = merchant['tags'].apply(lambda x : extract_tags(x, 'tags'))\n"
   ]
  },
  {
   "cell_type": "code",
   "execution_count": null,
   "id": "d5ce5f78",
   "metadata": {},
   "outputs": [],
   "source": [
    "# Check if we extracted the take_rate and rev_level values correctly\n",
    "print(f\"Unique value in Revenue Level: {merchant['revenue_level'].unique()}\")\n",
    "print(f\"Range of Take Rate: {merchant['take_rate'].min()} - {merchant['take_rate'].max()}\")\n"
   ]
  },
  {
   "cell_type": "code",
   "execution_count": null,
   "id": "5f51e0b6",
   "metadata": {},
   "outputs": [],
   "source": [
    "# Check data type for columns\n",
    "merchant.dtypes"
   ]
  },
  {
   "cell_type": "code",
   "execution_count": null,
   "id": "98a36470",
   "metadata": {},
   "outputs": [],
   "source": [
    "merchant['take_rate'] = pd.to_numeric(merchant['take_rate'])"
   ]
  },
  {
   "cell_type": "code",
   "execution_count": null,
   "id": "d9f7e3c2",
   "metadata": {},
   "outputs": [],
   "source": [
    "# Check data type for columns\n",
    "merchant.dtypes"
   ]
  },
  {
   "cell_type": "code",
   "execution_count": null,
   "id": "8d860f5a",
   "metadata": {},
   "outputs": [],
   "source": [
    "merchant.to_csv('../curated/clean_merchant.csv')"
   ]
  },
  {
   "cell_type": "markdown",
   "id": "ed5ce1fd",
   "metadata": {},
   "source": [
    "# Aggregation\n",
    "\n",
    "Here we generate various aggregate data to supplement our analyses and modelling."
   ]
  },
  {
   "cell_type": "markdown",
   "id": "826f6168",
   "metadata": {},
   "source": [
    "### Merchant Sales"
   ]
  },
  {
   "cell_type": "code",
   "execution_count": null,
   "id": "054be57d",
   "metadata": {},
   "outputs": [],
   "source": [
    "# Generate data which summarizes merchants' sales\n",
    "merchant_sales = (transaction.groupby('merchant_abn', 'order_datetime')\n",
    "                             .agg({'dollar_value':'sum',\n",
    "                                   'order_id':'count'})\n",
    "                             .withColumnRenamed('sum(dollar_value)', 'sales_revenue')\n",
    "                             .withColumnRenamed('count(order_id)', 'no_orders'))"
   ]
  },
  {
   "cell_type": "code",
   "execution_count": null,
   "id": "d356826d",
   "metadata": {},
   "outputs": [],
   "source": [
    "merchant_sales"
   ]
  },
  {
   "cell_type": "code",
   "execution_count": null,
   "id": "f88dd739",
   "metadata": {},
   "outputs": [],
   "source": [
    "# Download data\n",
    "merchant_sales.write.parquet(\"../curated/merchant_sales.parquet\")"
   ]
  },
  {
   "cell_type": "markdown",
   "id": "34b6df5b",
   "metadata": {},
   "source": [
    "### Customers Purchase Behaviour"
   ]
  },
  {
   "cell_type": "code",
   "execution_count": null,
   "id": "bfe2ca93",
   "metadata": {},
   "outputs": [],
   "source": [
    "transaction.columns"
   ]
  },
  {
   "cell_type": "code",
   "execution_count": null,
   "id": "a82e4258",
   "metadata": {},
   "outputs": [],
   "source": [
    "half_transaction = transaction"
   ]
  },
  {
   "cell_type": "code",
   "execution_count": null,
   "id": "4dd37443",
   "metadata": {},
   "outputs": [],
   "source": [
    "half_transaction.count()"
   ]
  },
  {
   "cell_type": "code",
   "execution_count": null,
   "id": "d4e1b548",
   "metadata": {},
   "outputs": [],
   "source": [
    "# Generate data which summarizes customers spendings\n",
    "customer_purchases = (transaction.groupby('user_id', 'order_datetime')\n",
    "                                 .agg({'dollar_value':'sum',\n",
    "                                       'order_id':'count'})\n",
    "                                 .withColumnRenamed('sum(dollar_value)', 'dollar_spent')\n",
    "                                 .withColumnRenamed('count(order_id)', 'no_orders'))\n"
   ]
  },
  {
   "cell_type": "code",
   "execution_count": null,
   "id": "3085f9eb",
   "metadata": {},
   "outputs": [],
   "source": [
    "customer_purchases"
   ]
  },
  {
   "cell_type": "code",
   "execution_count": null,
   "id": "b6f878ee",
   "metadata": {},
   "outputs": [],
   "source": []
  },
  {
   "cell_type": "code",
   "execution_count": null,
   "id": "546f16ab",
   "metadata": {},
   "outputs": [],
   "source": [
    "# Download data\n",
    "customer_purchases.write.parquet(\"../curated/customer_purchase_behaviour.parquet\")"
   ]
  },
  {
   "cell_type": "markdown",
   "id": "ba877e0a",
   "metadata": {},
   "source": [
    "### Sales by Region"
   ]
  },
  {
   "cell_type": "code",
   "execution_count": 12,
   "id": "19b4364c",
   "metadata": {},
   "outputs": [],
   "source": [
    "# Join transaction data with customer data\n",
    "customer_transaction = (transaction.join(\n",
    "                            user_detail, \n",
    "                            transaction.user_id == user_detail.user_id\n",
    "                        ).drop(\n",
    "                            user_detail.user_id\n",
    "                        ))\n",
    "\n",
    "# customer_transaction = (customer_transaction.join(consumer, customer_transaction.consumer_id == consumer.consumer_id)\n",
    "#                                             .drop(consumer.consumer_id)\n",
    "#                                             .select(transaction['*'], consumer.postcode, consumer.state, consumer.gender))"
   ]
  },
  {
   "cell_type": "code",
   "execution_count": 19,
   "id": "f1825f88",
   "metadata": {},
   "outputs": [],
   "source": [
    "customer_transaction = (customer_transaction.join(consumer, customer_transaction.consumer_id == consumer.consumer_id)\n",
    "                                            .drop(consumer.consumer_id)\n",
    "                                            .select(transaction['*'], consumer.postcode, consumer.state, consumer.gender))"
   ]
  },
  {
   "cell_type": "code",
   "execution_count": 20,
   "id": "409bfc9e",
   "metadata": {},
   "outputs": [
    {
     "data": {
      "text/html": [
       "<table border='1'>\n",
       "<tr><th>user_id</th><th>merchant_abn</th><th>dollar_value</th><th>order_id</th><th>order_datetime</th><th>postcode</th><th>state</th><th>gender</th></tr>\n",
       "<tr><td>5630</td><td>98269572896</td><td>98.23224171394759</td><td>4bbb1d9a-942e-45b...</td><td>2021-11-26</td><td>841</td><td>NT</td><td>Undisclosed</td></tr>\n",
       "<tr><td>5630</td><td>42368556376</td><td>130.23130251177145</td><td>f51e0fee-b80d-426...</td><td>2021-11-26</td><td>841</td><td>NT</td><td>Undisclosed</td></tr>\n",
       "<tr><td>5630</td><td>17488304283</td><td>20.048467422354804</td><td>c5eda903-4561-47e...</td><td>2021-11-26</td><td>841</td><td>NT</td><td>Undisclosed</td></tr>\n",
       "<tr><td>5630</td><td>79269463423</td><td>119.26400358360702</td><td>b295f541-e4ea-4df...</td><td>2021-11-29</td><td>841</td><td>NT</td><td>Undisclosed</td></tr>\n",
       "<tr><td>5630</td><td>71236652596</td><td>23.67833843453155</td><td>80136d90-56ce-4dc...</td><td>2021-11-29</td><td>841</td><td>NT</td><td>Undisclosed</td></tr>\n",
       "<tr><td>5630</td><td>91847992723</td><td>276.06149584934013</td><td>a1555bef-eeaf-429...</td><td>2021-11-27</td><td>841</td><td>NT</td><td>Undisclosed</td></tr>\n",
       "<tr><td>5630</td><td>60706491699</td><td>75.9483121241024</td><td>eec6bff6-4746-483...</td><td>2021-11-27</td><td>841</td><td>NT</td><td>Undisclosed</td></tr>\n",
       "<tr><td>5630</td><td>11240426404</td><td>91.00310927668939</td><td>d326a720-bc2c-474...</td><td>2021-11-27</td><td>841</td><td>NT</td><td>Undisclosed</td></tr>\n",
       "<tr><td>5630</td><td>11437621158</td><td>12.284810338412825</td><td>8a7a4359-d783-44c...</td><td>2021-11-27</td><td>841</td><td>NT</td><td>Undisclosed</td></tr>\n",
       "<tr><td>5630</td><td>22059270846</td><td>15.496111363650453</td><td>41c7e697-0b12-4cc...</td><td>2021-11-27</td><td>841</td><td>NT</td><td>Undisclosed</td></tr>\n",
       "<tr><td>5630</td><td>73499119023</td><td>1.02232621490286</td><td>8dd0c147-e841-4ef...</td><td>2021-11-27</td><td>841</td><td>NT</td><td>Undisclosed</td></tr>\n",
       "<tr><td>5630</td><td>89536028092</td><td>10.795822961078242</td><td>829e487d-5464-4a4...</td><td>2021-11-28</td><td>841</td><td>NT</td><td>Undisclosed</td></tr>\n",
       "<tr><td>5630</td><td>13839274306</td><td>146.01338277284543</td><td>3b616b84-7f2c-40a...</td><td>2021-11-28</td><td>841</td><td>NT</td><td>Undisclosed</td></tr>\n",
       "<tr><td>5630</td><td>72472909171</td><td>54.153803827006875</td><td>a5b39e52-04de-41c...</td><td>2021-12-26</td><td>841</td><td>NT</td><td>Undisclosed</td></tr>\n",
       "<tr><td>5630</td><td>94690988633</td><td>83.36191536923945</td><td>0ffef10d-4440-4e3...</td><td>2021-11-30</td><td>841</td><td>NT</td><td>Undisclosed</td></tr>\n",
       "<tr><td>5630</td><td>46804135891</td><td>29.289900806316822</td><td>884662e5-e8f6-44c...</td><td>2021-11-25</td><td>841</td><td>NT</td><td>Undisclosed</td></tr>\n",
       "<tr><td>5630</td><td>32234779638</td><td>20.232986394257697</td><td>ad07e4a9-15d8-4b8...</td><td>2021-11-24</td><td>841</td><td>NT</td><td>Undisclosed</td></tr>\n",
       "<tr><td>5630</td><td>45466221547</td><td>8.695135155003452</td><td>de3b4287-35fd-451...</td><td>2021-11-24</td><td>841</td><td>NT</td><td>Undisclosed</td></tr>\n",
       "<tr><td>5630</td><td>79269463423</td><td>22.56740195126256</td><td>297cd055-d3ef-47d...</td><td>2021-12-02</td><td>841</td><td>NT</td><td>Undisclosed</td></tr>\n",
       "<tr><td>5630</td><td>32234779638</td><td>124.39136058909959</td><td>4097b339-55e9-4b2...</td><td>2021-12-02</td><td>841</td><td>NT</td><td>Undisclosed</td></tr>\n",
       "</table>\n",
       "only showing top 20 rows\n"
      ],
      "text/plain": [
       "+-------+------------+------------------+--------------------+--------------+--------+-----+-----------+\n",
       "|user_id|merchant_abn|      dollar_value|            order_id|order_datetime|postcode|state|     gender|\n",
       "+-------+------------+------------------+--------------------+--------------+--------+-----+-----------+\n",
       "|   5630| 98269572896| 98.23224171394759|4bbb1d9a-942e-45b...|    2021-11-26|     841|   NT|Undisclosed|\n",
       "|   5630| 42368556376|130.23130251177145|f51e0fee-b80d-426...|    2021-11-26|     841|   NT|Undisclosed|\n",
       "|   5630| 17488304283|20.048467422354804|c5eda903-4561-47e...|    2021-11-26|     841|   NT|Undisclosed|\n",
       "|   5630| 79269463423|119.26400358360702|b295f541-e4ea-4df...|    2021-11-29|     841|   NT|Undisclosed|\n",
       "|   5630| 71236652596| 23.67833843453155|80136d90-56ce-4dc...|    2021-11-29|     841|   NT|Undisclosed|\n",
       "|   5630| 91847992723|276.06149584934013|a1555bef-eeaf-429...|    2021-11-27|     841|   NT|Undisclosed|\n",
       "|   5630| 60706491699|  75.9483121241024|eec6bff6-4746-483...|    2021-11-27|     841|   NT|Undisclosed|\n",
       "|   5630| 11240426404| 91.00310927668939|d326a720-bc2c-474...|    2021-11-27|     841|   NT|Undisclosed|\n",
       "|   5630| 11437621158|12.284810338412825|8a7a4359-d783-44c...|    2021-11-27|     841|   NT|Undisclosed|\n",
       "|   5630| 22059270846|15.496111363650453|41c7e697-0b12-4cc...|    2021-11-27|     841|   NT|Undisclosed|\n",
       "|   5630| 73499119023|  1.02232621490286|8dd0c147-e841-4ef...|    2021-11-27|     841|   NT|Undisclosed|\n",
       "|   5630| 89536028092|10.795822961078242|829e487d-5464-4a4...|    2021-11-28|     841|   NT|Undisclosed|\n",
       "|   5630| 13839274306|146.01338277284543|3b616b84-7f2c-40a...|    2021-11-28|     841|   NT|Undisclosed|\n",
       "|   5630| 72472909171|54.153803827006875|a5b39e52-04de-41c...|    2021-12-26|     841|   NT|Undisclosed|\n",
       "|   5630| 94690988633| 83.36191536923945|0ffef10d-4440-4e3...|    2021-11-30|     841|   NT|Undisclosed|\n",
       "|   5630| 46804135891|29.289900806316822|884662e5-e8f6-44c...|    2021-11-25|     841|   NT|Undisclosed|\n",
       "|   5630| 32234779638|20.232986394257697|ad07e4a9-15d8-4b8...|    2021-11-24|     841|   NT|Undisclosed|\n",
       "|   5630| 45466221547| 8.695135155003452|de3b4287-35fd-451...|    2021-11-24|     841|   NT|Undisclosed|\n",
       "|   5630| 79269463423| 22.56740195126256|297cd055-d3ef-47d...|    2021-12-02|     841|   NT|Undisclosed|\n",
       "|   5630| 32234779638|124.39136058909959|4097b339-55e9-4b2...|    2021-12-02|     841|   NT|Undisclosed|\n",
       "+-------+------------+------------------+--------------------+--------------+--------+-----+-----------+\n",
       "only showing top 20 rows"
      ]
     },
     "execution_count": 20,
     "metadata": {},
     "output_type": "execute_result"
    }
   ],
   "source": [
    "customer_transaction"
   ]
  },
  {
   "cell_type": "code",
   "execution_count": 21,
   "id": "19e6a7d8",
   "metadata": {},
   "outputs": [
    {
     "data": {
      "text/plain": [
       "4508106"
      ]
     },
     "execution_count": 21,
     "metadata": {},
     "output_type": "execute_result"
    }
   ],
   "source": [
    "customer_transaction.count()"
   ]
  },
  {
   "cell_type": "code",
   "execution_count": null,
   "id": "6af4bab7",
   "metadata": {},
   "outputs": [],
   "source": [
    "missing_values_check(customer_transaction)"
   ]
  },
  {
   "cell_type": "code",
   "execution_count": null,
   "id": "5a881a36",
   "metadata": {},
   "outputs": [],
   "source": [
    "customer_transaction.describe()"
   ]
  },
  {
   "cell_type": "code",
   "execution_count": null,
   "id": "ba55624c",
   "metadata": {},
   "outputs": [],
   "source": [
    "# Download data\n",
    "customer_transaction.write.parquet(\"../curated/customer_join_transaction.parquet\")\n"
   ]
  },
  {
   "cell_type": "code",
   "execution_count": null,
   "id": "0d4b4cba",
   "metadata": {},
   "outputs": [],
   "source": [
    "# Aggregate by state -> postcode -> date\n",
    "sales_by_region = (customer_transaction.groupby('state', 'postcode', 'order_datetime')\n",
    "                                       .agg({'dollar_value':'sum',\n",
    "                                             'order_id':'count'})\n",
    "                                       .withColumnRenamed('sum(dollar_value)', 'dollar_spent')\n",
    "                                       .withColumnRenamed('count(order_id)', 'no_orders'))\n"
   ]
  },
  {
   "cell_type": "code",
   "execution_count": null,
   "id": "379cb869",
   "metadata": {},
   "outputs": [],
   "source": [
    "sales_by_region"
   ]
  },
  {
   "cell_type": "code",
   "execution_count": null,
   "id": "46d53f4c",
   "metadata": {},
   "outputs": [],
   "source": [
    "# Download data\n",
    "sales_by_region.write.parquet(\"../curated/sales_by_region.parquet\")"
   ]
  }
 ],
 "metadata": {
  "kernelspec": {
   "display_name": "Python 3",
   "language": "python",
   "name": "python3"
  },
  "language_info": {
   "codemirror_mode": {
    "name": "ipython",
    "version": 3
   },
   "file_extension": ".py",
   "mimetype": "text/x-python",
   "name": "python",
   "nbconvert_exporter": "python",
   "pygments_lexer": "ipython3",
   "version": "3.7.4"
  }
 },
 "nbformat": 4,
 "nbformat_minor": 5
}
