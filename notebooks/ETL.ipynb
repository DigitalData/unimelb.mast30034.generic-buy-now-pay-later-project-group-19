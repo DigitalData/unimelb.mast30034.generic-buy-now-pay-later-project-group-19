{
 "cells": [
  {
   "cell_type": "markdown",
   "id": "371b205b",
   "metadata": {},
   "source": [
    "# ETL Processes\n",
    "***\n",
    "## Lists of tasks:\n",
    "- ### <del>Consolidating Datasets</del>\n",
    "- ### Normalising/Restructuring Tables\n",
    "- ### Exploratory Data Analysis\n",
    "- ### Data Cleaning\n",
    "- ### Package ETL.py into a Class\n",
    "***\n",
    "\n",
    "## Content:\n",
    "- ### [Consumer Dataset](#Consumer-dataset)\n",
    "- ### [Transaction Dataset](#Transaction-dataset)\n",
    "- ### [Merchant Dataset](#Merchant-dataset)\n",
    "- ### [Data Aggregations](#Aggregation)\n"
   ]
  },
  {
   "cell_type": "code",
   "execution_count": 30,
   "id": "79f83e0d",
   "metadata": {},
   "outputs": [],
   "source": [
    "import pandas as pd\n",
    "import numpy as np\n",
    "import os\n",
    "import re\n",
    "\n",
    "# Set working directory\n",
    "if not \"/data/tables\" in os.getcwd():\n",
    "    os.chdir(\"../data/tables\")\n",
    "\n",
    "from pyspark.sql import SparkSession\n",
    "from pyspark.shell import spark\n",
    "from pyspark.sql import SQLContext\n",
    "from pyspark.sql.functions import *\n",
    "import matplotlib.pyplot as plt\n",
    "\n",
    "spark = (\n",
    "    SparkSession.builder.appName(\"MAST30034 Project 2\")\n",
    "    .config(\"spark.sql.repl.eagerEval.enabled\", True) \n",
    "    .config(\"spark.sql.parquet.cacheMetadata\", \"true\")\n",
    "    .config(\"spark.sql.session.timeZone\", \"Etc/UTC\")\n",
    "    .config(\"spark.driver.memory\", \"4g\")\n",
    "    .getOrCreate()\n",
    ")"
   ]
  },
  {
   "cell_type": "markdown",
   "id": "d5458a7a",
   "metadata": {},
   "source": [
    "# Consumer dataset"
   ]
  },
  {
   "cell_type": "code",
   "execution_count": 31,
   "id": "42f5285b",
   "metadata": {},
   "outputs": [
    {
     "data": {
      "text/html": [
       "<table border='1'>\n",
       "<tr><th>name</th><th>address</th><th>state</th><th>postcode</th><th>gender</th><th>consumer_id</th></tr>\n",
       "<tr><td>Yolanda Williams</td><td>413 Haney Gardens...</td><td>WA</td><td>6935</td><td>Female</td><td>1195503</td></tr>\n",
       "<tr><td>Mary Smith</td><td>3764 Amber Oval</td><td>NSW</td><td>2782</td><td>Female</td><td>179208</td></tr>\n",
       "<tr><td>Jill Jones MD</td><td>40693 Henry Greens</td><td>NT</td><td>862</td><td>Female</td><td>1194530</td></tr>\n",
       "<tr><td>Lindsay Jimenez</td><td>00653 Davenport C...</td><td>NSW</td><td>2780</td><td>Female</td><td>154128</td></tr>\n",
       "<tr><td>Rebecca Blanchard</td><td>9271 Michael Mano...</td><td>WA</td><td>6355</td><td>Female</td><td>712975</td></tr>\n",
       "<tr><td>Karen Chapman</td><td>2706 Stewart Oval...</td><td>NSW</td><td>2033</td><td>Female</td><td>407340</td></tr>\n",
       "<tr><td>Andrea Jones</td><td>122 Brandon Cliff</td><td>QLD</td><td>4606</td><td>Female</td><td>511685</td></tr>\n",
       "<tr><td>Stephen Williams</td><td>6804 Wright Crest...</td><td>WA</td><td>6056</td><td>Male</td><td>448088</td></tr>\n",
       "<tr><td>Stephanie Reyes</td><td>5813 Denise Land ...</td><td>NSW</td><td>2482</td><td>Female</td><td>650435</td></tr>\n",
       "<tr><td>Jillian Gonzales</td><td>461 Ryan Common S...</td><td>VIC</td><td>3220</td><td>Female</td><td>1058499</td></tr>\n",
       "<tr><td>Eugene Lucas</td><td>33983 Kevin Drive...</td><td>VIC</td><td>3063</td><td>Undisclosed</td><td>428325</td></tr>\n",
       "<tr><td>Melissa Jones</td><td>13706 Kimberly Port</td><td>WA</td><td>6743</td><td>Female</td><td>1494640</td></tr>\n",
       "<tr><td>Angela Brown PhD</td><td>0236 Mills Land S...</td><td>QLD</td><td>4673</td><td>Female</td><td>1146717</td></tr>\n",
       "<tr><td>Lance Butler</td><td>8943 Kenneth Camp</td><td>VIC</td><td>3332</td><td>Male</td><td>1343547</td></tr>\n",
       "<tr><td>Paul Abbott</td><td>60495 Ryan Hill</td><td>QLD</td><td>4512</td><td>Male</td><td>1463076</td></tr>\n",
       "<tr><td>Tracy Hart</td><td>9671 Jacob Harbor...</td><td>NSW</td><td>2452</td><td>Male</td><td>1356405</td></tr>\n",
       "<tr><td>Alyssa Wilson</td><td>44353 Nathan Ridge</td><td>VIC</td><td>3719</td><td>Female</td><td>1331093</td></tr>\n",
       "<tr><td>Michael Burnett</td><td>89400 Torres Fort</td><td>NSW</td><td>1109</td><td>Male</td><td>80965</td></tr>\n",
       "<tr><td>Victoria Gonzalez</td><td>68657 Johnson Gle...</td><td>TAS</td><td>7276</td><td>Female</td><td>1226530</td></tr>\n",
       "<tr><td>James Norris</td><td>790 Ramos Landing</td><td>VIC</td><td>3234</td><td>Undisclosed</td><td>1390367</td></tr>\n",
       "</table>\n",
       "only showing top 20 rows\n"
      ],
      "text/plain": [
       "+-----------------+--------------------+-----+--------+-----------+-----------+\n",
       "|             name|             address|state|postcode|     gender|consumer_id|\n",
       "+-----------------+--------------------+-----+--------+-----------+-----------+\n",
       "| Yolanda Williams|413 Haney Gardens...|   WA|    6935|     Female|    1195503|\n",
       "|       Mary Smith|     3764 Amber Oval|  NSW|    2782|     Female|     179208|\n",
       "|    Jill Jones MD|  40693 Henry Greens|   NT|     862|     Female|    1194530|\n",
       "|  Lindsay Jimenez|00653 Davenport C...|  NSW|    2780|     Female|     154128|\n",
       "|Rebecca Blanchard|9271 Michael Mano...|   WA|    6355|     Female|     712975|\n",
       "|    Karen Chapman|2706 Stewart Oval...|  NSW|    2033|     Female|     407340|\n",
       "|     Andrea Jones|   122 Brandon Cliff|  QLD|    4606|     Female|     511685|\n",
       "| Stephen Williams|6804 Wright Crest...|   WA|    6056|       Male|     448088|\n",
       "|  Stephanie Reyes|5813 Denise Land ...|  NSW|    2482|     Female|     650435|\n",
       "| Jillian Gonzales|461 Ryan Common S...|  VIC|    3220|     Female|    1058499|\n",
       "|     Eugene Lucas|33983 Kevin Drive...|  VIC|    3063|Undisclosed|     428325|\n",
       "|    Melissa Jones| 13706 Kimberly Port|   WA|    6743|     Female|    1494640|\n",
       "| Angela Brown PhD|0236 Mills Land S...|  QLD|    4673|     Female|    1146717|\n",
       "|     Lance Butler|   8943 Kenneth Camp|  VIC|    3332|       Male|    1343547|\n",
       "|      Paul Abbott|     60495 Ryan Hill|  QLD|    4512|       Male|    1463076|\n",
       "|       Tracy Hart|9671 Jacob Harbor...|  NSW|    2452|       Male|    1356405|\n",
       "|    Alyssa Wilson|  44353 Nathan Ridge|  VIC|    3719|     Female|    1331093|\n",
       "|  Michael Burnett|   89400 Torres Fort|  NSW|    1109|       Male|      80965|\n",
       "|Victoria Gonzalez|68657 Johnson Gle...|  TAS|    7276|     Female|    1226530|\n",
       "|     James Norris|   790 Ramos Landing|  VIC|    3234|Undisclosed|    1390367|\n",
       "+-----------------+--------------------+-----+--------+-----------+-----------+\n",
       "only showing top 20 rows"
      ]
     },
     "execution_count": 31,
     "metadata": {},
     "output_type": "execute_result"
    }
   ],
   "source": [
    "# Read csv file\n",
    "consumer = spark.read.option(\"delimiter\", \"|\").csv('tbl_consumer.csv', header = True)\n",
    "consumer"
   ]
  },
  {
   "cell_type": "code",
   "execution_count": 32,
   "id": "6fa95663",
   "metadata": {},
   "outputs": [
    {
     "name": "stdout",
     "output_type": "stream",
     "text": [
      "Dataset details: \n",
      "\tNumber of rows: 499999 \n",
      "\tNumber of distinct Consumer ID: 499999 \n",
      "\tNumber of distinct Postcodes: 3167\n"
     ]
    }
   ],
   "source": [
    "print(f\"Dataset details: \\n\\tNumber of rows: {consumer.count()}\", \\\n",
    "      f\"\\n\\tNumber of distinct Consumer ID: {consumer.select('consumer_id').distinct().count()}\", \\\n",
    "      f\"\\n\\tNumber of distinct Postcodes: {consumer.select('postcode').distinct().count()}\")"
   ]
  },
  {
   "cell_type": "markdown",
   "id": "708e3afe",
   "metadata": {},
   "source": [
    "Note: \n",
    "- The **address field is fake** and derived from USA street names. We have included it to mimic a more realistic dataset, but the streets themselves are non-existent and if there are any matches, it will be a pure coincidence. <font color='red'>**Not sure what sort of information we can extract here if they are all fake</font> \n",
    "- The **postcode field is accurate** and should be **used for aggregated analysis** for joining with other geospatial datasets for demographic information (i.e ABS datasets) <font color='red'>**Highly relevant for geospatial analysis</font> \n",
    "- There is roughly a **uniform distribution at the state level** (i.e number of consumers per state is the same for all states)."
   ]
  },
  {
   "cell_type": "markdown",
   "id": "7eefd265",
   "metadata": {},
   "source": [
    "### Checking for missing values in consumer dataset"
   ]
  },
  {
   "cell_type": "code",
   "execution_count": 33,
   "id": "ce2c735e",
   "metadata": {},
   "outputs": [],
   "source": [
    "def missing_values_check(sdf):\n",
    "    \"\"\"Check missing values in each column of the spark dataframe\"\"\"\n",
    "    \n",
    "#     missing_count = sdf.select([count(when(col(c).contains('None') | \\\n",
    "#                                            col(c).contains('NULL') | \\\n",
    "#                                           (col(c) == '' ) | \\\n",
    "#                                            col(c).isNull() | \\\n",
    "#                                            isnan(c), c))\n",
    "#                                      .alias(c)\n",
    "#                                 for c, dtype in sdf.dtypes if dtype != 'date'])\n",
    "    \n",
    "    return sdf.select(\n",
    "        [count(when(col(c).contains('None') | \\\n",
    "                    col(c).contains('NULL') | \\\n",
    "                    (col(c) == '' ) | \\\n",
    "                    col(c).isNull() | \\\n",
    "                    isnan(c), c)\n",
    "              ).alias(c)\n",
    "         for c, dtype in sdf.dtypes if dtype != 'date'])\n"
   ]
  },
  {
   "cell_type": "code",
   "execution_count": 34,
   "id": "b7e0bf22",
   "metadata": {},
   "outputs": [
    {
     "data": {
      "text/plain": [
       "pyspark.sql.dataframe.DataFrame"
      ]
     },
     "execution_count": 34,
     "metadata": {},
     "output_type": "execute_result"
    }
   ],
   "source": [
    "type(missing_values_check(consumer))"
   ]
  },
  {
   "cell_type": "markdown",
   "id": "6863fddb",
   "metadata": {},
   "source": [
    "### User detail dataset"
   ]
  },
  {
   "cell_type": "code",
   "execution_count": 35,
   "id": "69f48788",
   "metadata": {},
   "outputs": [
    {
     "data": {
      "text/html": [
       "<table border='1'>\n",
       "<tr><th>user_id</th><th>consumer_id</th></tr>\n",
       "<tr><td>1</td><td>1195503</td></tr>\n",
       "<tr><td>2</td><td>179208</td></tr>\n",
       "<tr><td>3</td><td>1194530</td></tr>\n",
       "<tr><td>4</td><td>154128</td></tr>\n",
       "<tr><td>5</td><td>712975</td></tr>\n",
       "<tr><td>6</td><td>407340</td></tr>\n",
       "<tr><td>7</td><td>511685</td></tr>\n",
       "<tr><td>8</td><td>448088</td></tr>\n",
       "<tr><td>9</td><td>650435</td></tr>\n",
       "<tr><td>10</td><td>1058499</td></tr>\n",
       "<tr><td>11</td><td>428325</td></tr>\n",
       "<tr><td>12</td><td>1494640</td></tr>\n",
       "<tr><td>13</td><td>1146717</td></tr>\n",
       "<tr><td>14</td><td>1343547</td></tr>\n",
       "<tr><td>15</td><td>1463076</td></tr>\n",
       "<tr><td>16</td><td>1356405</td></tr>\n",
       "<tr><td>17</td><td>1331093</td></tr>\n",
       "<tr><td>18</td><td>80965</td></tr>\n",
       "<tr><td>19</td><td>1226530</td></tr>\n",
       "<tr><td>20</td><td>1390367</td></tr>\n",
       "</table>\n",
       "only showing top 20 rows\n"
      ],
      "text/plain": [
       "+-------+-----------+\n",
       "|user_id|consumer_id|\n",
       "+-------+-----------+\n",
       "|      1|    1195503|\n",
       "|      2|     179208|\n",
       "|      3|    1194530|\n",
       "|      4|     154128|\n",
       "|      5|     712975|\n",
       "|      6|     407340|\n",
       "|      7|     511685|\n",
       "|      8|     448088|\n",
       "|      9|     650435|\n",
       "|     10|    1058499|\n",
       "|     11|     428325|\n",
       "|     12|    1494640|\n",
       "|     13|    1146717|\n",
       "|     14|    1343547|\n",
       "|     15|    1463076|\n",
       "|     16|    1356405|\n",
       "|     17|    1331093|\n",
       "|     18|      80965|\n",
       "|     19|    1226530|\n",
       "|     20|    1390367|\n",
       "+-------+-----------+\n",
       "only showing top 20 rows"
      ]
     },
     "execution_count": 35,
     "metadata": {},
     "output_type": "execute_result"
    }
   ],
   "source": [
    "user_detail = spark.read.parquet(\"consumer_user_details.parquet\")\n",
    "user_detail"
   ]
  },
  {
   "cell_type": "code",
   "execution_count": 36,
   "id": "bbc5087a",
   "metadata": {},
   "outputs": [
    {
     "name": "stdout",
     "output_type": "stream",
     "text": [
      "Dataset details: \n",
      "\tNumber of rows: 499999 \n",
      "\tNumber of distinct User ID: 499999 \n",
      "\tNumber of distinct Consumer ID: 499999\n"
     ]
    }
   ],
   "source": [
    "print(f\"Dataset details: \\n\\tNumber of rows: {user_detail.count()}\", \\\n",
    "      f\"\\n\\tNumber of distinct User ID: {user_detail.select('user_id').distinct().count()}\", \\\n",
    "      f\"\\n\\tNumber of distinct Consumer ID: {user_detail.select('consumer_id').distinct().count()}\")"
   ]
  },
  {
   "cell_type": "markdown",
   "id": "a6d6495b",
   "metadata": {},
   "source": [
    "### Checking for missing values in user detail dataset"
   ]
  },
  {
   "cell_type": "code",
   "execution_count": 37,
   "id": "9a457919",
   "metadata": {},
   "outputs": [
    {
     "data": {
      "text/html": [
       "<table border='1'>\n",
       "<tr><th>user_id</th><th>consumer_id</th></tr>\n",
       "<tr><td>0</td><td>0</td></tr>\n",
       "</table>\n"
      ],
      "text/plain": [
       "+-------+-----------+\n",
       "|user_id|consumer_id|\n",
       "+-------+-----------+\n",
       "|      0|          0|\n",
       "+-------+-----------+"
      ]
     },
     "execution_count": 37,
     "metadata": {},
     "output_type": "execute_result"
    }
   ],
   "source": [
    "missing_values_check(user_detail)"
   ]
  },
  {
   "cell_type": "markdown",
   "id": "5c214cea",
   "metadata": {},
   "source": [
    "Note:\n",
    "- Due to a difference between the internal system and a poor design choice (for some reason), the transaction tables use a **surrogate key** for each new user_id. <font color='red'>**Transaction dataset uses `user_id` to map customer but customer data are mapped to their own unique `customer_id` so the user detail data serves to map those two together</font> \n",
    "- However, the Consumer table has a **unique ID (some are missing on purpose)** field which will require some form of mapping between consumer_id to user_id. <font color='red'>**Might require further investigation and decide on whether it is appropriate to remove</font> \n",
    "- An additional mapping table has been provided to join the two datasets together.\n"
   ]
  },
  {
   "cell_type": "markdown",
   "id": "48daeb03",
   "metadata": {},
   "source": [
    "# Transaction dataset"
   ]
  },
  {
   "cell_type": "code",
   "execution_count": 38,
   "id": "f22372cf",
   "metadata": {},
   "outputs": [],
   "source": [
    "transaction = spark.read.parquet(\"transactions_20220228_20220828_snapshot/\")"
   ]
  },
  {
   "cell_type": "markdown",
   "id": "73cf258a",
   "metadata": {},
   "source": [
    "<div class=\"alert alert-block alert-warning\">\n",
    "<b>Note:</b> Use the following code to load the transactions files if you have problems running the code above.\n",
    "</div>"
   ]
  },
  {
   "cell_type": "code",
   "execution_count": 10,
   "id": "e6d6141d",
   "metadata": {},
   "outputs": [
    {
     "data": {
      "text/plain": [
       "['order_datetime=2021-08-15',\n",
       " 'order_datetime=2021-08-23',\n",
       " 'order_datetime=2021-08-24',\n",
       " 'order_datetime=2021-04-20',\n",
       " 'order_datetime=2021-07-07',\n",
       " 'order_datetime=2021-03-08',\n",
       " 'order_datetime=2021-04-27',\n",
       " 'order_datetime=2021-03-30',\n",
       " 'order_datetime=2021-04-18',\n",
       " 'order_datetime=2021-04-11',\n",
       " 'order_datetime=2021-03-06',\n",
       " 'order_datetime=2021-07-09',\n",
       " 'order_datetime=2021-03-01',\n",
       " 'order_datetime=2021-04-16',\n",
       " 'order_datetime=2021-07-31',\n",
       " 'order_datetime=2021-04-29',\n",
       " 'order_datetime=2021-08-25',\n",
       " 'order_datetime=2021-08-22',\n",
       " 'order_datetime=2021-08-14',\n",
       " 'order_datetime=2021-08-13',\n",
       " 'order_datetime=2021-07-30',\n",
       " 'order_datetime=2021-04-17',\n",
       " 'order_datetime=2021-04-28',\n",
       " 'order_datetime=2021-03-07',\n",
       " 'order_datetime=2021-04-10',\n",
       " 'order_datetime=2021-07-08',\n",
       " 'order_datetime=2021-03-31',\n",
       " 'order_datetime=2021-04-26',\n",
       " 'order_datetime=2021-07-01',\n",
       " 'order_datetime=2021-04-19',\n",
       " 'order_datetime=2021-07-06',\n",
       " 'order_datetime=2021-04-21',\n",
       " 'order_datetime=2021-03-09',\n",
       " '.DS_Store',\n",
       " 'order_datetime=2021-06-30',\n",
       " 'order_datetime=2021-05-17',\n",
       " 'order_datetime=2021-05-28',\n",
       " 'order_datetime=2021-05-10',\n",
       " 'order_datetime=2021-06-08',\n",
       " 'order_datetime=2021-05-26',\n",
       " 'order_datetime=2021-06-01',\n",
       " 'order_datetime=2021-05-19',\n",
       " 'order_datetime=2021-06-06',\n",
       " 'order_datetime=2021-05-21',\n",
       " 'order_datetime=2021-05-20',\n",
       " 'order_datetime=2021-06-07',\n",
       " 'order_datetime=2021-05-27',\n",
       " 'order_datetime=2021-05-18',\n",
       " 'order_datetime=2021-05-11',\n",
       " 'order_datetime=2021-06-09',\n",
       " 'order_datetime=2021-05-16',\n",
       " 'order_datetime=2021-05-29',\n",
       " 'order_datetime=2021-06-13',\n",
       " 'order_datetime=2021-06-14',\n",
       " 'order_datetime=2021-06-22',\n",
       " 'order_datetime=2021-05-05',\n",
       " 'order_datetime=2021-05-02',\n",
       " 'order_datetime=2021-06-25',\n",
       " '._SUCCESS.crc',\n",
       " 'order_datetime=2021-06-24',\n",
       " 'order_datetime=2021-05-03',\n",
       " 'order_datetime=2021-05-04',\n",
       " 'order_datetime=2021-06-23',\n",
       " 'order_datetime=2021-06-15',\n",
       " 'order_datetime=2021-06-12',\n",
       " 'order_datetime=2021-07-24',\n",
       " 'order_datetime=2021-03-14',\n",
       " 'order_datetime=2021-04-03',\n",
       " 'order_datetime=2021-04-04',\n",
       " 'order_datetime=2021-03-13',\n",
       " 'order_datetime=2021-07-23',\n",
       " 'order_datetime=2021-03-25',\n",
       " 'order_datetime=2021-07-15',\n",
       " 'order_datetime=2021-07-12',\n",
       " 'order_datetime=2021-03-22',\n",
       " 'order_datetime=2021-08-09',\n",
       " 'order_datetime=2021-08-07',\n",
       " 'order_datetime=2021-03-23',\n",
       " 'order_datetime=2021-07-13',\n",
       " 'order_datetime=2021-07-14',\n",
       " 'order_datetime=2021-03-24',\n",
       " 'order_datetime=2021-07-22',\n",
       " 'order_datetime=2021-03-12',\n",
       " 'order_datetime=2021-04-05',\n",
       " 'order_datetime=2021-04-02',\n",
       " 'order_datetime=2021-03-15',\n",
       " 'order_datetime=2021-07-25',\n",
       " 'order_datetime=2021-08-06',\n",
       " 'order_datetime=2021-08-01',\n",
       " 'order_datetime=2021-08-08',\n",
       " 'order_datetime=2021-07-03',\n",
       " 'order_datetime=2021-04-24',\n",
       " 'order_datetime=2021-04-23',\n",
       " 'order_datetime=2021-07-04',\n",
       " 'order_datetime=2021-04-15',\n",
       " 'order_datetime=2021-03-02',\n",
       " 'order_datetime=2021-03-05',\n",
       " 'order_datetime=2021-04-12',\n",
       " 'order_datetime=2021-08-16',\n",
       " 'order_datetime=2021-08-11',\n",
       " 'order_datetime=2021-08-27',\n",
       " 'order_datetime=2021-08-18',\n",
       " 'order_datetime=2021-08-20',\n",
       " 'order_datetime=2021-04-13',\n",
       " 'order_datetime=2021-03-04',\n",
       " 'order_datetime=2021-03-03',\n",
       " 'order_datetime=2021-04-14',\n",
       " 'order_datetime=2021-07-05',\n",
       " 'order_datetime=2021-04-22',\n",
       " 'order_datetime=2021-04-25',\n",
       " 'order_datetime=2021-07-02',\n",
       " 'order_datetime=2021-08-21',\n",
       " 'order_datetime=2021-08-26',\n",
       " 'order_datetime=2021-08-19',\n",
       " 'order_datetime=2021-08-10',\n",
       " 'order_datetime=2021-08-17',\n",
       " 'order_datetime=2021-05-13',\n",
       " 'order_datetime=2021-05-14',\n",
       " 'order_datetime=2021-06-05',\n",
       " 'order_datetime=2021-05-22',\n",
       " 'order_datetime=2021-05-25',\n",
       " 'order_datetime=2021-06-02',\n",
       " 'order_datetime=2021-06-03',\n",
       " 'order_datetime=2021-05-24',\n",
       " 'order_datetime=2021-05-23',\n",
       " 'order_datetime=2021-06-04',\n",
       " 'order_datetime=2021-05-15',\n",
       " 'order_datetime=2021-05-12',\n",
       " 'order_datetime=2021-06-28',\n",
       " '_SUCCESS',\n",
       " 'order_datetime=2021-06-17',\n",
       " 'order_datetime=2021-05-30',\n",
       " 'order_datetime=2021-05-08',\n",
       " 'order_datetime=2021-06-10',\n",
       " 'order_datetime=2021-06-19',\n",
       " 'order_datetime=2021-05-01',\n",
       " 'order_datetime=2021-06-26',\n",
       " 'order_datetime=2021-06-21',\n",
       " 'order_datetime=2021-05-06',\n",
       " 'order_datetime=2021-05-07',\n",
       " 'order_datetime=2021-06-20',\n",
       " 'order_datetime=2021-06-18',\n",
       " 'order_datetime=2021-02-28',\n",
       " 'order_datetime=2021-06-27',\n",
       " 'order_datetime=2021-05-09',\n",
       " 'order_datetime=2021-06-11',\n",
       " 'order_datetime=2021-06-29',\n",
       " 'order_datetime=2021-05-31',\n",
       " 'order_datetime=2021-06-16',\n",
       " 'order_datetime=2021-08-04',\n",
       " 'order_datetime=2021-08-03',\n",
       " 'order_datetime=2021-03-10',\n",
       " 'order_datetime=2021-04-07',\n",
       " 'order_datetime=2021-07-20',\n",
       " 'order_datetime=2021-07-18',\n",
       " 'order_datetime=2021-03-28',\n",
       " 'order_datetime=2021-07-27',\n",
       " 'order_datetime=2021-03-17',\n",
       " 'order_datetime=2021-04-09',\n",
       " 'order_datetime=2021-07-11',\n",
       " 'order_datetime=2021-03-21',\n",
       " 'order_datetime=2021-03-19',\n",
       " 'order_datetime=2021-07-29',\n",
       " 'order_datetime=2021-03-26',\n",
       " 'order_datetime=2021-07-16',\n",
       " 'order_datetime=2021-08-02',\n",
       " 'order_datetime=2021-08-05',\n",
       " 'order_datetime=2021-07-28',\n",
       " 'order_datetime=2021-03-18',\n",
       " 'order_datetime=2021-07-17',\n",
       " 'order_datetime=2021-04-30',\n",
       " 'order_datetime=2021-03-27',\n",
       " 'order_datetime=2021-04-08',\n",
       " 'order_datetime=2021-03-20',\n",
       " 'order_datetime=2021-07-10',\n",
       " 'order_datetime=2021-03-29',\n",
       " 'order_datetime=2021-07-19',\n",
       " 'order_datetime=2021-03-16',\n",
       " 'order_datetime=2021-04-01',\n",
       " 'order_datetime=2021-07-26',\n",
       " 'order_datetime=2021-07-21',\n",
       " 'order_datetime=2021-04-06']"
      ]
     },
     "execution_count": 10,
     "metadata": {},
     "output_type": "execute_result"
    }
   ],
   "source": [
    "path = \"transactions_20210228_20210827_snapshot/\"\n",
    "list_files = os.listdir(path)\n",
    "list_files = list_files[1:(len(list_files)-1)]\n",
    "list_files"
   ]
  },
  {
   "cell_type": "code",
   "execution_count": null,
   "id": "8bfba2da",
   "metadata": {},
   "outputs": [],
   "source": [
    "# import modules\n",
    "from pyspark.sql import SparkSession\n",
    "import functools\n",
    " \n",
    "# explicit function\n",
    "def unionAll(dfs):\n",
    "    return functools.reduce(lambda df1, df2: df1.union(df2.select(df1.columns)), dfs)\n",
    "\n",
    "# insert datetime\n",
    "file_name = os.listdir(path+ list_files[0])[1]\n",
    "transaction = spark.read.parquet(path+ list_files[0] +\"/\" + file_name)\n",
    "for i in list_files[1:]:\n",
    "    file_name = os.listdir(path + i)[1]\n",
    "    tmp = spark.read.parquet(path+ i +\"/\" + file_name)\n",
    "    transaction = unionAll([transaction, tmp] )"
   ]
  },
  {
   "cell_type": "markdown",
   "id": "27a8f867",
   "metadata": {},
   "source": [
    "### Inspecting transaction dataset"
   ]
  },
  {
   "cell_type": "code",
   "execution_count": 39,
   "id": "5790fc47",
   "metadata": {},
   "outputs": [
    {
     "data": {
      "text/html": [
       "<table border='1'>\n",
       "<tr><th>user_id</th><th>merchant_abn</th><th>dollar_value</th><th>order_id</th><th>order_datetime</th></tr>\n",
       "<tr><td>11139</td><td>96152467973</td><td>16.213590228273233</td><td>785b0080-9e4b-471...</td><td>2022-08-20</td></tr>\n",
       "<tr><td>1</td><td>98973094975</td><td>86.97955945703498</td><td>2560f7b0-ee5d-4b3...</td><td>2022-08-20</td></tr>\n",
       "<tr><td>11139</td><td>56762458844</td><td>31.513502323509194</td><td>0311717b-8b5b-410...</td><td>2022-08-20</td></tr>\n",
       "<tr><td>1</td><td>89502033586</td><td>124.18468694868491</td><td>f8891626-f098-45b...</td><td>2022-08-20</td></tr>\n",
       "<tr><td>11139</td><td>96161808980</td><td>61.620445567668966</td><td>d90a421f-f1da-4bf...</td><td>2022-08-20</td></tr>\n",
       "<tr><td>2</td><td>72472909171</td><td>32.26524985312485</td><td>523e0403-b677-450...</td><td>2022-08-20</td></tr>\n",
       "<tr><td>11139</td><td>91923722701</td><td>11.331586767322225</td><td>f45a842b-0366-41d...</td><td>2022-08-20</td></tr>\n",
       "<tr><td>3</td><td>46380096952</td><td>119.80011239189334</td><td>58d0f423-037c-43f...</td><td>2022-08-20</td></tr>\n",
       "<tr><td>11140</td><td>79283124876</td><td>198.13027742225435</td><td>60b12d41-41d6-4c1...</td><td>2022-08-20</td></tr>\n",
       "<tr><td>4</td><td>67202032418</td><td>206.20865323560022</td><td>64a05a23-a078-481...</td><td>2022-08-20</td></tr>\n",
       "<tr><td>11140</td><td>72673996108</td><td>82.44500432461442</td><td>c2d463cb-3481-4d3...</td><td>2022-08-20</td></tr>\n",
       "<tr><td>5</td><td>85556646149</td><td>324.66955798522173</td><td>461bebeb-d7a4-4af...</td><td>2022-08-20</td></tr>\n",
       "<tr><td>11141</td><td>49891706470</td><td>39.35105988443739</td><td>7f3a2c66-a479-409...</td><td>2022-08-20</td></tr>\n",
       "<tr><td>6</td><td>61242800720</td><td>29.238746305393224</td><td>4afb8cbb-6a3b-4f4...</td><td>2022-08-20</td></tr>\n",
       "<tr><td>11141</td><td>86578477987</td><td>68.45470123518632</td><td>39749f02-2687-4bf...</td><td>2022-08-20</td></tr>\n",
       "<tr><td>6</td><td>85502310765</td><td>115.96055046552485</td><td>4fb8d931-4da0-43b...</td><td>2022-08-20</td></tr>\n",
       "<tr><td>11142</td><td>90173050473</td><td>63.47415980715575</td><td>add785dc-e302-497...</td><td>2022-08-20</td></tr>\n",
       "<tr><td>7</td><td>92681936901</td><td>217.2372943457977</td><td>fdaaa57d-b2ef-438...</td><td>2022-08-20</td></tr>\n",
       "<tr><td>11143</td><td>60956456424</td><td>37.99353258229883</td><td>4f96b8f8-8ee8-496...</td><td>2022-08-20</td></tr>\n",
       "<tr><td>8</td><td>85529538986</td><td>911.8091035442362</td><td>c2d2a03a-bd82-432...</td><td>2022-08-20</td></tr>\n",
       "</table>\n",
       "only showing top 20 rows\n"
      ],
      "text/plain": [
       "+-------+------------+------------------+--------------------+--------------+\n",
       "|user_id|merchant_abn|      dollar_value|            order_id|order_datetime|\n",
       "+-------+------------+------------------+--------------------+--------------+\n",
       "|  11139| 96152467973|16.213590228273233|785b0080-9e4b-471...|    2022-08-20|\n",
       "|      1| 98973094975| 86.97955945703498|2560f7b0-ee5d-4b3...|    2022-08-20|\n",
       "|  11139| 56762458844|31.513502323509194|0311717b-8b5b-410...|    2022-08-20|\n",
       "|      1| 89502033586|124.18468694868491|f8891626-f098-45b...|    2022-08-20|\n",
       "|  11139| 96161808980|61.620445567668966|d90a421f-f1da-4bf...|    2022-08-20|\n",
       "|      2| 72472909171| 32.26524985312485|523e0403-b677-450...|    2022-08-20|\n",
       "|  11139| 91923722701|11.331586767322225|f45a842b-0366-41d...|    2022-08-20|\n",
       "|      3| 46380096952|119.80011239189334|58d0f423-037c-43f...|    2022-08-20|\n",
       "|  11140| 79283124876|198.13027742225435|60b12d41-41d6-4c1...|    2022-08-20|\n",
       "|      4| 67202032418|206.20865323560022|64a05a23-a078-481...|    2022-08-20|\n",
       "|  11140| 72673996108| 82.44500432461442|c2d463cb-3481-4d3...|    2022-08-20|\n",
       "|      5| 85556646149|324.66955798522173|461bebeb-d7a4-4af...|    2022-08-20|\n",
       "|  11141| 49891706470| 39.35105988443739|7f3a2c66-a479-409...|    2022-08-20|\n",
       "|      6| 61242800720|29.238746305393224|4afb8cbb-6a3b-4f4...|    2022-08-20|\n",
       "|  11141| 86578477987| 68.45470123518632|39749f02-2687-4bf...|    2022-08-20|\n",
       "|      6| 85502310765|115.96055046552485|4fb8d931-4da0-43b...|    2022-08-20|\n",
       "|  11142| 90173050473| 63.47415980715575|add785dc-e302-497...|    2022-08-20|\n",
       "|      7| 92681936901| 217.2372943457977|fdaaa57d-b2ef-438...|    2022-08-20|\n",
       "|  11143| 60956456424| 37.99353258229883|4f96b8f8-8ee8-496...|    2022-08-20|\n",
       "|      8| 85529538986| 911.8091035442362|c2d2a03a-bd82-432...|    2022-08-20|\n",
       "+-------+------------+------------------+--------------------+--------------+\n",
       "only showing top 20 rows"
      ]
     },
     "execution_count": 39,
     "metadata": {},
     "output_type": "execute_result"
    }
   ],
   "source": [
    "transaction"
   ]
  },
  {
   "cell_type": "code",
   "execution_count": 50,
   "id": "14489ee0",
   "metadata": {},
   "outputs": [],
   "source": [
    "from pyspark.sql.types import IntegerType\n",
    "consumer = consumer.withColumn(\"consumer_id\", consumer[\"consumer_id\"].cast(IntegerType()))"
   ]
  },
  {
   "cell_type": "code",
   "execution_count": 51,
   "id": "7fbdcde1",
   "metadata": {},
   "outputs": [
    {
     "data": {
      "text/html": [
       "<table border='1'>\n",
       "<tr><th>name</th><th>address</th><th>state</th><th>postcode</th><th>gender</th><th>consumer_id</th></tr>\n",
       "<tr><td>Yolanda Williams</td><td>413 Haney Gardens...</td><td>WA</td><td>6935</td><td>Female</td><td>1195503</td></tr>\n",
       "<tr><td>Mary Smith</td><td>3764 Amber Oval</td><td>NSW</td><td>2782</td><td>Female</td><td>179208</td></tr>\n",
       "<tr><td>Jill Jones MD</td><td>40693 Henry Greens</td><td>NT</td><td>862</td><td>Female</td><td>1194530</td></tr>\n",
       "<tr><td>Lindsay Jimenez</td><td>00653 Davenport C...</td><td>NSW</td><td>2780</td><td>Female</td><td>154128</td></tr>\n",
       "<tr><td>Rebecca Blanchard</td><td>9271 Michael Mano...</td><td>WA</td><td>6355</td><td>Female</td><td>712975</td></tr>\n",
       "<tr><td>Karen Chapman</td><td>2706 Stewart Oval...</td><td>NSW</td><td>2033</td><td>Female</td><td>407340</td></tr>\n",
       "<tr><td>Andrea Jones</td><td>122 Brandon Cliff</td><td>QLD</td><td>4606</td><td>Female</td><td>511685</td></tr>\n",
       "<tr><td>Stephen Williams</td><td>6804 Wright Crest...</td><td>WA</td><td>6056</td><td>Male</td><td>448088</td></tr>\n",
       "<tr><td>Stephanie Reyes</td><td>5813 Denise Land ...</td><td>NSW</td><td>2482</td><td>Female</td><td>650435</td></tr>\n",
       "<tr><td>Jillian Gonzales</td><td>461 Ryan Common S...</td><td>VIC</td><td>3220</td><td>Female</td><td>1058499</td></tr>\n",
       "<tr><td>Eugene Lucas</td><td>33983 Kevin Drive...</td><td>VIC</td><td>3063</td><td>Undisclosed</td><td>428325</td></tr>\n",
       "<tr><td>Melissa Jones</td><td>13706 Kimberly Port</td><td>WA</td><td>6743</td><td>Female</td><td>1494640</td></tr>\n",
       "<tr><td>Angela Brown PhD</td><td>0236 Mills Land S...</td><td>QLD</td><td>4673</td><td>Female</td><td>1146717</td></tr>\n",
       "<tr><td>Lance Butler</td><td>8943 Kenneth Camp</td><td>VIC</td><td>3332</td><td>Male</td><td>1343547</td></tr>\n",
       "<tr><td>Paul Abbott</td><td>60495 Ryan Hill</td><td>QLD</td><td>4512</td><td>Male</td><td>1463076</td></tr>\n",
       "<tr><td>Tracy Hart</td><td>9671 Jacob Harbor...</td><td>NSW</td><td>2452</td><td>Male</td><td>1356405</td></tr>\n",
       "<tr><td>Alyssa Wilson</td><td>44353 Nathan Ridge</td><td>VIC</td><td>3719</td><td>Female</td><td>1331093</td></tr>\n",
       "<tr><td>Michael Burnett</td><td>89400 Torres Fort</td><td>NSW</td><td>1109</td><td>Male</td><td>80965</td></tr>\n",
       "<tr><td>Victoria Gonzalez</td><td>68657 Johnson Gle...</td><td>TAS</td><td>7276</td><td>Female</td><td>1226530</td></tr>\n",
       "<tr><td>James Norris</td><td>790 Ramos Landing</td><td>VIC</td><td>3234</td><td>Undisclosed</td><td>1390367</td></tr>\n",
       "</table>\n",
       "only showing top 20 rows\n"
      ],
      "text/plain": [
       "+-----------------+--------------------+-----+--------+-----------+-----------+\n",
       "|             name|             address|state|postcode|     gender|consumer_id|\n",
       "+-----------------+--------------------+-----+--------+-----------+-----------+\n",
       "| Yolanda Williams|413 Haney Gardens...|   WA|    6935|     Female|    1195503|\n",
       "|       Mary Smith|     3764 Amber Oval|  NSW|    2782|     Female|     179208|\n",
       "|    Jill Jones MD|  40693 Henry Greens|   NT|     862|     Female|    1194530|\n",
       "|  Lindsay Jimenez|00653 Davenport C...|  NSW|    2780|     Female|     154128|\n",
       "|Rebecca Blanchard|9271 Michael Mano...|   WA|    6355|     Female|     712975|\n",
       "|    Karen Chapman|2706 Stewart Oval...|  NSW|    2033|     Female|     407340|\n",
       "|     Andrea Jones|   122 Brandon Cliff|  QLD|    4606|     Female|     511685|\n",
       "| Stephen Williams|6804 Wright Crest...|   WA|    6056|       Male|     448088|\n",
       "|  Stephanie Reyes|5813 Denise Land ...|  NSW|    2482|     Female|     650435|\n",
       "| Jillian Gonzales|461 Ryan Common S...|  VIC|    3220|     Female|    1058499|\n",
       "|     Eugene Lucas|33983 Kevin Drive...|  VIC|    3063|Undisclosed|     428325|\n",
       "|    Melissa Jones| 13706 Kimberly Port|   WA|    6743|     Female|    1494640|\n",
       "| Angela Brown PhD|0236 Mills Land S...|  QLD|    4673|     Female|    1146717|\n",
       "|     Lance Butler|   8943 Kenneth Camp|  VIC|    3332|       Male|    1343547|\n",
       "|      Paul Abbott|     60495 Ryan Hill|  QLD|    4512|       Male|    1463076|\n",
       "|       Tracy Hart|9671 Jacob Harbor...|  NSW|    2452|       Male|    1356405|\n",
       "|    Alyssa Wilson|  44353 Nathan Ridge|  VIC|    3719|     Female|    1331093|\n",
       "|  Michael Burnett|   89400 Torres Fort|  NSW|    1109|       Male|      80965|\n",
       "|Victoria Gonzalez|68657 Johnson Gle...|  TAS|    7276|     Female|    1226530|\n",
       "|     James Norris|   790 Ramos Landing|  VIC|    3234|Undisclosed|    1390367|\n",
       "+-----------------+--------------------+-----+--------+-----------+-----------+\n",
       "only showing top 20 rows"
      ]
     },
     "execution_count": 51,
     "metadata": {},
     "output_type": "execute_result"
    }
   ],
   "source": [
    "consumer"
   ]
  },
  {
   "cell_type": "code",
   "execution_count": 52,
   "id": "2470a67d",
   "metadata": {},
   "outputs": [],
   "source": [
    "ud_consumer_id = set(user_detail.select('consumer_id').distinct().toPandas()['consumer_id'].unique().tolist())\n",
    "consumer_id = set(consumer.select('consumer_id').distinct().toPandas()['consumer_id'].unique().tolist())"
   ]
  },
  {
   "cell_type": "code",
   "execution_count": 54,
   "id": "e94a0e18",
   "metadata": {},
   "outputs": [
    {
     "data": {
      "text/plain": [
       "set()"
      ]
     },
     "execution_count": 54,
     "metadata": {},
     "output_type": "execute_result"
    }
   ],
   "source": [
    "ud_consumer_id - consumer_id"
   ]
  },
  {
   "cell_type": "code",
   "execution_count": 55,
   "id": "ad075113",
   "metadata": {},
   "outputs": [
    {
     "data": {
      "text/plain": [
       "True"
      ]
     },
     "execution_count": 55,
     "metadata": {},
     "output_type": "execute_result"
    }
   ],
   "source": [
    "def isOneToOne(col1, col2):\n",
    "    df = user_detail.toPandas()\n",
    "    first = df.groupby(col1)[col2].count().max()\n",
    "    second = df.groupby(col2)[col1].count().max()\n",
    "    return first + second == 2\n",
    "\n",
    "isOneToOne('user_id','consumer_id')\n",
    "#True"
   ]
  },
  {
   "cell_type": "code",
   "execution_count": 40,
   "id": "d0873a0c",
   "metadata": {},
   "outputs": [],
   "source": [
    "transaction_user_id = set(transaction.select('user_id').distinct().toPandas()['user_id'].unique().tolist())"
   ]
  },
  {
   "cell_type": "code",
   "execution_count": 41,
   "id": "212c9128",
   "metadata": {},
   "outputs": [],
   "source": [
    "consumer_user_id = set(user_detail.select('user_id').distinct().toPandas()['user_id'].unique().tolist())"
   ]
  },
  {
   "cell_type": "code",
   "execution_count": 42,
   "id": "2682e154",
   "metadata": {},
   "outputs": [
    {
     "data": {
      "text/plain": [
       "set()"
      ]
     },
     "execution_count": 42,
     "metadata": {},
     "output_type": "execute_result"
    }
   ],
   "source": [
    "transaction_user_id - consumer_user_id"
   ]
  },
  {
   "cell_type": "code",
   "execution_count": 131,
   "id": "06eb3520",
   "metadata": {},
   "outputs": [],
   "source": [
    "transaction.write.parquet(\"/Users/oliver/Downloads/sales_by_region.parquet\")"
   ]
  },
  {
   "cell_type": "code",
   "execution_count": 8,
   "id": "d225b05d",
   "metadata": {},
   "outputs": [
    {
     "name": "stdout",
     "output_type": "stream",
     "text": [
      "root\n",
      " |-- user_id: long (nullable = true)\n",
      " |-- merchant_abn: long (nullable = true)\n",
      " |-- dollar_value: double (nullable = true)\n",
      " |-- order_id: string (nullable = true)\n",
      " |-- order_datetime: date (nullable = true)\n",
      "\n"
     ]
    }
   ],
   "source": [
    "transaction.printSchema()"
   ]
  },
  {
   "cell_type": "code",
   "execution_count": 9,
   "id": "9e64ddf9",
   "metadata": {},
   "outputs": [
    {
     "name": "stdout",
     "output_type": "stream",
     "text": [
      "Dataset details: \n",
      "\tNumber of rows: 3643266 \n",
      "\tNumber of distinct order: 3643266 \n",
      "\tPeriod: 2021-02-28 - 2021-08-27\n"
     ]
    }
   ],
   "source": [
    "min_date, max_date = transaction.select(min(\"order_datetime\"), max(\"order_datetime\")).first()\n",
    "\n",
    "print(f\"Dataset details: \\n\\tNumber of rows: {transaction.count()}\", \\\n",
    "      f\"\\n\\tNumber of distinct order: {transaction.select('order_id').distinct().count()}\", \\\n",
    "      f\"\\n\\tPeriod: {min_date} - {max_date}\")"
   ]
  },
  {
   "cell_type": "markdown",
   "id": "169e0ae7",
   "metadata": {},
   "source": [
    "### Checking for missing values in transaction dataset"
   ]
  },
  {
   "cell_type": "code",
   "execution_count": 110,
   "id": "21080cb6",
   "metadata": {},
   "outputs": [
    {
     "data": {
      "text/html": [
       "<table border='1'>\n",
       "<tr><th>user_id</th><th>merchant_abn</th><th>dollar_value</th><th>order_id</th></tr>\n",
       "<tr><td>0</td><td>0</td><td>0</td><td>0</td></tr>\n",
       "</table>\n"
      ],
      "text/plain": [
       "+-------+------------+------------+--------+\n",
       "|user_id|merchant_abn|dollar_value|order_id|\n",
       "+-------+------------+------------+--------+\n",
       "|      0|           0|           0|       0|\n",
       "+-------+------------+------------+--------+"
      ]
     },
     "execution_count": 110,
     "metadata": {},
     "output_type": "execute_result"
    }
   ],
   "source": [
    "missing_values_check(transaction)"
   ]
  },
  {
   "cell_type": "code",
   "execution_count": null,
   "id": "d438def5",
   "metadata": {},
   "outputs": [],
   "source": [
    "transaction.count()"
   ]
  },
  {
   "cell_type": "markdown",
   "id": "7b7ae258",
   "metadata": {},
   "source": [
    "# Merchant dataset"
   ]
  },
  {
   "cell_type": "code",
   "execution_count": 138,
   "id": "5ddc32c4",
   "metadata": {},
   "outputs": [
    {
     "data": {
      "text/html": [
       "<table border='1'>\n",
       "<tr><th>name</th><th>tags</th><th>merchant_abn</th></tr>\n",
       "<tr><td>Felis Limited</td><td>((furniture, home...</td><td>10023283211</td></tr>\n",
       "<tr><td>Arcu Ac Orci Corp...</td><td>([cable, satellit...</td><td>10142254217</td></tr>\n",
       "<tr><td>Nunc Sed Company</td><td>([jewelry, watch,...</td><td>10165489824</td></tr>\n",
       "<tr><td>Ultricies Digniss...</td><td>([wAtch, clock, a...</td><td>10187291046</td></tr>\n",
       "<tr><td>Enim Condimentum PC</td><td>([music shops - m...</td><td>10192359162</td></tr>\n",
       "<tr><td>Fusce Company</td><td>[(gift, card, nov...</td><td>10206519221</td></tr>\n",
       "<tr><td>Aliquam Enim Inco...</td><td>[(computers, comP...</td><td>10255988167</td></tr>\n",
       "<tr><td>Ipsum Primis Ltd</td><td>[[watch, clock, a...</td><td>10264435225</td></tr>\n",
       "<tr><td>Pede Ultrices Ind...</td><td>([computer progra...</td><td>10279061213</td></tr>\n",
       "<tr><td>Nunc Inc.</td><td>[(furniture, home...</td><td>10323485998</td></tr>\n",
       "<tr><td>Facilisis Facilis...</td><td>([computers, comp...</td><td>10342410215</td></tr>\n",
       "<tr><td>Odio Institute</td><td>((equipment, tool...</td><td>10346855916</td></tr>\n",
       "<tr><td>Rutrum Justo Ltd</td><td>([music shops - m...</td><td>10364012396</td></tr>\n",
       "<tr><td>Tellus Foundation</td><td>[[artist supply a...</td><td>10385011947</td></tr>\n",
       "<tr><td>Sed Et Company</td><td>([florists suppli...</td><td>10385163239</td></tr>\n",
       "<tr><td>Id Ltd</td><td>([computers, comp...</td><td>10385250025</td></tr>\n",
       "<tr><td>Consequat Foundation</td><td>[[antique shops -...</td><td>10404542215</td></tr>\n",
       "<tr><td>Sit Amet Nulla Corp.</td><td>[[motor vehicle s...</td><td>10430380319</td></tr>\n",
       "<tr><td>Massa Vestibulum ...</td><td>[(moTor vehicle s...</td><td>10441711491</td></tr>\n",
       "<tr><td>Ut Consulting</td><td>([gift, card, nov...</td><td>10462560289</td></tr>\n",
       "</table>\n",
       "only showing top 20 rows\n"
      ],
      "text/plain": [
       "+--------------------+--------------------+------------+\n",
       "|                name|                tags|merchant_abn|\n",
       "+--------------------+--------------------+------------+\n",
       "|       Felis Limited|((furniture, home...| 10023283211|\n",
       "|Arcu Ac Orci Corp...|([cable, satellit...| 10142254217|\n",
       "|    Nunc Sed Company|([jewelry, watch,...| 10165489824|\n",
       "|Ultricies Digniss...|([wAtch, clock, a...| 10187291046|\n",
       "| Enim Condimentum PC|([music shops - m...| 10192359162|\n",
       "|       Fusce Company|[(gift, card, nov...| 10206519221|\n",
       "|Aliquam Enim Inco...|[(computers, comP...| 10255988167|\n",
       "|    Ipsum Primis Ltd|[[watch, clock, a...| 10264435225|\n",
       "|Pede Ultrices Ind...|([computer progra...| 10279061213|\n",
       "|           Nunc Inc.|[(furniture, home...| 10323485998|\n",
       "|Facilisis Facilis...|([computers, comp...| 10342410215|\n",
       "|      Odio Institute|((equipment, tool...| 10346855916|\n",
       "|    Rutrum Justo Ltd|([music shops - m...| 10364012396|\n",
       "|   Tellus Foundation|[[artist supply a...| 10385011947|\n",
       "|      Sed Et Company|([florists suppli...| 10385163239|\n",
       "|              Id Ltd|([computers, comp...| 10385250025|\n",
       "|Consequat Foundation|[[antique shops -...| 10404542215|\n",
       "|Sit Amet Nulla Corp.|[[motor vehicle s...| 10430380319|\n",
       "|Massa Vestibulum ...|[(moTor vehicle s...| 10441711491|\n",
       "|       Ut Consulting|([gift, card, nov...| 10462560289|\n",
       "+--------------------+--------------------+------------+\n",
       "only showing top 20 rows"
      ]
     },
     "execution_count": 138,
     "metadata": {},
     "output_type": "execute_result"
    }
   ],
   "source": [
    "merchant = spark.read.parquet(\"tbl_merchants.parquet\")\n",
    "merchant"
   ]
  },
  {
   "cell_type": "code",
   "execution_count": 113,
   "id": "8d0eab7c",
   "metadata": {},
   "outputs": [
    {
     "name": "stdout",
     "output_type": "stream",
     "text": [
      "root\n",
      " |-- name: string (nullable = true)\n",
      " |-- tags: string (nullable = true)\n",
      " |-- merchant_abn: long (nullable = true)\n",
      "\n"
     ]
    }
   ],
   "source": [
    "merchant.printSchema()"
   ]
  },
  {
   "cell_type": "code",
   "execution_count": 114,
   "id": "742580a3",
   "metadata": {},
   "outputs": [
    {
     "name": "stdout",
     "output_type": "stream",
     "text": [
      "Dataset details: \n",
      "\tNumber of rows: 4026 \n",
      "\tNumber of distinct Merchant ABN: 4026\n"
     ]
    }
   ],
   "source": [
    "print(f\"Dataset details: \\n\\tNumber of rows: {merchant.count()}\", \\\n",
    "      f\"\\n\\tNumber of distinct Merchant ABN: {merchant.select('merchant_abn').distinct().count()}\")"
   ]
  },
  {
   "cell_type": "markdown",
   "id": "b3999afc",
   "metadata": {},
   "source": [
    "### Checking for missing values in merchant dataset"
   ]
  },
  {
   "cell_type": "code",
   "execution_count": 115,
   "id": "3a3ae0c4",
   "metadata": {},
   "outputs": [
    {
     "data": {
      "text/html": [
       "<table border='1'>\n",
       "<tr><th>name</th><th>tags</th><th>merchant_abn</th></tr>\n",
       "<tr><td>0</td><td>0</td><td>0</td></tr>\n",
       "</table>\n"
      ],
      "text/plain": [
       "+----+----+------------+\n",
       "|name|tags|merchant_abn|\n",
       "+----+----+------------+\n",
       "|   0|   0|           0|\n",
       "+----+----+------------+"
      ]
     },
     "execution_count": 115,
     "metadata": {},
     "output_type": "execute_result"
    }
   ],
   "source": [
    "missing_values_check(merchant)"
   ]
  },
  {
   "cell_type": "markdown",
   "id": "edad95ea",
   "metadata": {},
   "source": [
    "### The tags column consists of tags, revenue levels and take rate of a merchant\n",
    "- **Revenue Levels**: (a, b, c, d, e) represents the **level of revenue bands** (unknown to groups). a denotes the smallest band whilst e denotes the highest revenue band. <font color='red'>**Highly relevant in ranking merchant</font> \n",
    "- **Take Rate**: the **fee charged by the BNPL firm** to a merchant on a transaction. That is, for each transaction made, a certain percentage is taken by the BNPL firm.<font color='red'>**Highly relevant in ranking merchant</font> \n",
    "- The dataset has been created to mimic a Salesforce data extract (i.e salespeople will type in tags and segments within a **free-text** field). <font color='red'>This suggests use of lemmatizating/stemming/fuzzy methods to group similar texts?</font> \n",
    "- As such, please be aware of small **human errors** when parsing the dataset.\n",
    "- For Example, the tag field may have errors as they were manually input by employees."
   ]
  },
  {
   "cell_type": "markdown",
   "id": "864bcbb6",
   "metadata": {},
   "source": [
    "Since the data is small, we will be using Pandas to deal with Merchant data for convenience."
   ]
  },
  {
   "cell_type": "code",
   "execution_count": 122,
   "id": "cd295f03",
   "metadata": {},
   "outputs": [],
   "source": [
    "merchant = merchant.toPandas()"
   ]
  },
  {
   "cell_type": "code",
   "execution_count": 123,
   "id": "42711880",
   "metadata": {},
   "outputs": [
    {
     "name": "stdout",
     "output_type": "stream",
     "text": [
      "((furniture, home furnishings and equipment shops, and manufacturers, except appliances), (e), (take rate: 0.18))\n",
      "([cable, satellite, and otHer pay television and radio services], [b], [take rate: 4.22])\n",
      "([jewelry, watch, clock, and silverware shops], [b], [take rate: 4.40])\n",
      "([wAtch, clock, and jewelry repair shops], [b], [take rate: 3.29])\n",
      "([music shops - musical instruments, pianos, and sheet music], [a], [take rate: 6.33])\n"
     ]
    }
   ],
   "source": [
    "# Display first 5 rows for \"tags\"\n",
    "for idx, row in merchant.head(5).iterrows():\n",
    "    print(row['tags'])\n"
   ]
  },
  {
   "cell_type": "markdown",
   "id": "9ba957ed",
   "metadata": {},
   "source": [
    "### Extract Revenue Levels and Take Rate columns"
   ]
  },
  {
   "cell_type": "code",
   "execution_count": 148,
   "id": "fb2a176d",
   "metadata": {},
   "outputs": [
    {
     "data": {
      "text/html": [
       "<div>\n",
       "<style scoped>\n",
       "    .dataframe tbody tr th:only-of-type {\n",
       "        vertical-align: middle;\n",
       "    }\n",
       "\n",
       "    .dataframe tbody tr th {\n",
       "        vertical-align: top;\n",
       "    }\n",
       "\n",
       "    .dataframe thead th {\n",
       "        text-align: right;\n",
       "    }\n",
       "</style>\n",
       "<table border=\"1\" class=\"dataframe\">\n",
       "  <thead>\n",
       "    <tr style=\"text-align: right;\">\n",
       "      <th></th>\n",
       "      <th>name</th>\n",
       "      <th>merchant_abn</th>\n",
       "      <th>tag</th>\n",
       "      <th>revenue_level</th>\n",
       "      <th>take_rate</th>\n",
       "    </tr>\n",
       "  </thead>\n",
       "  <tbody>\n",
       "    <tr>\n",
       "      <th>0</th>\n",
       "      <td>Felis Limited</td>\n",
       "      <td>10023283211</td>\n",
       "      <td>furniture, home furnishings and equipment shop...</td>\n",
       "      <td>e</td>\n",
       "      <td>0.18</td>\n",
       "    </tr>\n",
       "    <tr>\n",
       "      <th>1</th>\n",
       "      <td>Arcu Ac Orci Corporation</td>\n",
       "      <td>10142254217</td>\n",
       "      <td>cable, satellite, and other pay television and...</td>\n",
       "      <td>b</td>\n",
       "      <td>4.22</td>\n",
       "    </tr>\n",
       "    <tr>\n",
       "      <th>2</th>\n",
       "      <td>Nunc Sed Company</td>\n",
       "      <td>10165489824</td>\n",
       "      <td>jewelry, watch, clock, and silverware shops</td>\n",
       "      <td>b</td>\n",
       "      <td>4.40</td>\n",
       "    </tr>\n",
       "    <tr>\n",
       "      <th>3</th>\n",
       "      <td>Ultricies Dignissim Lacus Foundation</td>\n",
       "      <td>10187291046</td>\n",
       "      <td>watch, clock, and jewelry repair shops</td>\n",
       "      <td>b</td>\n",
       "      <td>3.29</td>\n",
       "    </tr>\n",
       "    <tr>\n",
       "      <th>4</th>\n",
       "      <td>Enim Condimentum PC</td>\n",
       "      <td>10192359162</td>\n",
       "      <td>music shops - musical instruments, pianos, and...</td>\n",
       "      <td>a</td>\n",
       "      <td>6.33</td>\n",
       "    </tr>\n",
       "    <tr>\n",
       "      <th>...</th>\n",
       "      <td>...</td>\n",
       "      <td>...</td>\n",
       "      <td>...</td>\n",
       "      <td>...</td>\n",
       "      <td>...</td>\n",
       "    </tr>\n",
       "    <tr>\n",
       "      <th>4021</th>\n",
       "      <td>Elit Dictum Eu Ltd</td>\n",
       "      <td>99938978285</td>\n",
       "      <td>opticians, optical goods, and eyeglasses</td>\n",
       "      <td>b</td>\n",
       "      <td>4.50</td>\n",
       "    </tr>\n",
       "    <tr>\n",
       "      <th>4022</th>\n",
       "      <td>Mollis LLP</td>\n",
       "      <td>99974311662</td>\n",
       "      <td>books, periodicals, and newspapers</td>\n",
       "      <td>b</td>\n",
       "      <td>3.17</td>\n",
       "    </tr>\n",
       "    <tr>\n",
       "      <th>4023</th>\n",
       "      <td>Sociosqu Corp.</td>\n",
       "      <td>99976658299</td>\n",
       "      <td>shoe  shops</td>\n",
       "      <td>a</td>\n",
       "      <td>6.57</td>\n",
       "    </tr>\n",
       "    <tr>\n",
       "      <th>4024</th>\n",
       "      <td>Commodo Hendrerit LLC</td>\n",
       "      <td>99987905597</td>\n",
       "      <td>motor vehicle supplies and new parts</td>\n",
       "      <td>a</td>\n",
       "      <td>6.82</td>\n",
       "    </tr>\n",
       "    <tr>\n",
       "      <th>4025</th>\n",
       "      <td>Massa PC</td>\n",
       "      <td>99990536339</td>\n",
       "      <td>motor vehicle supplies and new parts</td>\n",
       "      <td>e</td>\n",
       "      <td>0.18</td>\n",
       "    </tr>\n",
       "  </tbody>\n",
       "</table>\n",
       "<p>4026 rows × 5 columns</p>\n",
       "</div>"
      ],
      "text/plain": [
       "                                      name  merchant_abn  \\\n",
       "0                            Felis Limited   10023283211   \n",
       "1                 Arcu Ac Orci Corporation   10142254217   \n",
       "2                         Nunc Sed Company   10165489824   \n",
       "3     Ultricies Dignissim Lacus Foundation   10187291046   \n",
       "4                      Enim Condimentum PC   10192359162   \n",
       "...                                    ...           ...   \n",
       "4021                    Elit Dictum Eu Ltd   99938978285   \n",
       "4022                            Mollis LLP   99974311662   \n",
       "4023                        Sociosqu Corp.   99976658299   \n",
       "4024                 Commodo Hendrerit LLC   99987905597   \n",
       "4025                              Massa PC   99990536339   \n",
       "\n",
       "                                                    tag revenue_level  \\\n",
       "0     furniture, home furnishings and equipment shop...             e   \n",
       "1     cable, satellite, and other pay television and...             b   \n",
       "2           jewelry, watch, clock, and silverware shops             b   \n",
       "3                watch, clock, and jewelry repair shops             b   \n",
       "4     music shops - musical instruments, pianos, and...             a   \n",
       "...                                                 ...           ...   \n",
       "4021           opticians, optical goods, and eyeglasses             b   \n",
       "4022                 books, periodicals, and newspapers             b   \n",
       "4023                                        shoe  shops             a   \n",
       "4024               motor vehicle supplies and new parts             a   \n",
       "4025               motor vehicle supplies and new parts             e   \n",
       "\n",
       "      take_rate  \n",
       "0          0.18  \n",
       "1          4.22  \n",
       "2          4.40  \n",
       "3          3.29  \n",
       "4          6.33  \n",
       "...         ...  \n",
       "4021       4.50  \n",
       "4022       3.17  \n",
       "4023       6.57  \n",
       "4024       6.82  \n",
       "4025       0.18  \n",
       "\n",
       "[4026 rows x 5 columns]"
      ]
     },
     "execution_count": 148,
     "metadata": {},
     "output_type": "execute_result"
    }
   ],
   "source": [
    "extract_tags(merchant)"
   ]
  },
  {
   "cell_type": "code",
   "execution_count": 124,
   "id": "f16619ed",
   "metadata": {},
   "outputs": [],
   "source": [
    "# Function to extract tags, revenue level and take rate from tags column\n",
    "def extract_tags(arr, category='tags'):\n",
    "    \n",
    "    # Split tags into the three components\n",
    "    arr = arr[1:-1]\n",
    "    split_arr = re.split('\\), \\(|\\], \\[', arr.strip('[()]'))\n",
    "    \n",
    "    if category == 'take_rate':\n",
    "        return re.findall('[\\d\\.\\d]+', split_arr[2])[0]\n",
    "    \n",
    "    elif category == 'revenue_level':\n",
    "        return split_arr[1].lower()\n",
    "    \n",
    "    # by default return tags\n",
    "    return split_arr[0].lower()\n"
   ]
  },
  {
   "cell_type": "code",
   "execution_count": 125,
   "id": "edcf8d17",
   "metadata": {},
   "outputs": [],
   "source": [
    "# Extract all three components in tags as standalone columns\n",
    "merchant['take_rate'] = merchant['tags'].apply(lambda x : extract_tags(x, 'take_rate'))\n",
    "merchant['revenue_level'] = merchant['tags'].apply(lambda x : extract_tags(x, 'revenue_level'))\n",
    "merchant['tags'] = merchant['tags'].apply(lambda x : extract_tags(x, 'tags'))\n"
   ]
  },
  {
   "cell_type": "code",
   "execution_count": 126,
   "id": "d5ce5f78",
   "metadata": {},
   "outputs": [
    {
     "name": "stdout",
     "output_type": "stream",
     "text": [
      "Unique value in Revenue Level: ['e' 'b' 'a' 'c' 'd']\n",
      "Range of Take Rate: 0.10 - 7.00\n"
     ]
    }
   ],
   "source": [
    "# Check if we extracted the take_rate and rev_level values correctly\n",
    "print(f\"Unique value in Revenue Level: {merchant['revenue_level'].unique()}\")\n",
    "print(f\"Range of Take Rate: {merchant['take_rate'].min()} - {merchant['take_rate'].max()}\")\n"
   ]
  },
  {
   "cell_type": "code",
   "execution_count": 127,
   "id": "5f51e0b6",
   "metadata": {},
   "outputs": [
    {
     "data": {
      "text/plain": [
       "name             object\n",
       "tags             object\n",
       "merchant_abn      int64\n",
       "take_rate        object\n",
       "revenue_level    object\n",
       "dtype: object"
      ]
     },
     "execution_count": 127,
     "metadata": {},
     "output_type": "execute_result"
    }
   ],
   "source": [
    "# Check data type for columns\n",
    "merchant.dtypes"
   ]
  },
  {
   "cell_type": "code",
   "execution_count": 128,
   "id": "98a36470",
   "metadata": {},
   "outputs": [],
   "source": [
    "merchant['take_rate'] = pd.to_numeric(merchant['take_rate'])"
   ]
  },
  {
   "cell_type": "code",
   "execution_count": 129,
   "id": "d9f7e3c2",
   "metadata": {},
   "outputs": [
    {
     "data": {
      "text/plain": [
       "name              object\n",
       "tags              object\n",
       "merchant_abn       int64\n",
       "take_rate        float64\n",
       "revenue_level     object\n",
       "dtype: object"
      ]
     },
     "execution_count": 129,
     "metadata": {},
     "output_type": "execute_result"
    }
   ],
   "source": [
    "# Check data type for columns\n",
    "merchant.dtypes"
   ]
  },
  {
   "cell_type": "code",
   "execution_count": 130,
   "id": "8d860f5a",
   "metadata": {},
   "outputs": [],
   "source": [
    "merchant.to_csv('../curated/clean_merchant.csv')"
   ]
  },
  {
   "cell_type": "markdown",
   "id": "ed5ce1fd",
   "metadata": {},
   "source": [
    "# Aggregation\n",
    "\n",
    "Here we generate various aggregate data to supplement our analyses and modelling."
   ]
  },
  {
   "cell_type": "markdown",
   "id": "826f6168",
   "metadata": {},
   "source": [
    "### Merchant Sales"
   ]
  },
  {
   "cell_type": "code",
   "execution_count": 16,
   "id": "054be57d",
   "metadata": {},
   "outputs": [],
   "source": [
    "# Generate data which summarizes merchants' sales\n",
    "merchant_sales = (transaction.groupby('merchant_abn', 'order_datetime')\n",
    "                             .agg({'dollar_value':'sum',\n",
    "                                   'order_id':'count'})\n",
    "                             .withColumnRenamed('sum(dollar_value)', 'sales_revenue')\n",
    "                             .withColumnRenamed('count(order_id)', 'no_orders'))"
   ]
  },
  {
   "cell_type": "code",
   "execution_count": 17,
   "id": "d356826d",
   "metadata": {},
   "outputs": [
    {
     "data": {
      "text/html": [
       "<table border='1'>\n",
       "<tr><th>merchant_abn</th><th>order_datetime</th><th>sales_revenue</th><th>no_orders</th></tr>\n",
       "<tr><td>90173050473</td><td>2021-08-20</td><td>10065.92598002776</td><td>41</td></tr>\n",
       "<tr><td>91455531890</td><td>2021-08-20</td><td>1486.8427457787936</td><td>3</td></tr>\n",
       "<tr><td>14480530534</td><td>2021-08-20</td><td>3273.1834477999028</td><td>2</td></tr>\n",
       "<tr><td>54062916822</td><td>2021-08-20</td><td>33.80538233308192</td><td>1</td></tr>\n",
       "<tr><td>73225085327</td><td>2021-08-20</td><td>342.0587279527964</td><td>1</td></tr>\n",
       "<tr><td>34558201737</td><td>2021-08-20</td><td>623.7741963160896</td><td>13</td></tr>\n",
       "<tr><td>63523606379</td><td>2021-08-20</td><td>748.1316659657341</td><td>2</td></tr>\n",
       "<tr><td>15130143460</td><td>2021-08-20</td><td>3389.0731959179543</td><td>6</td></tr>\n",
       "<tr><td>49167531725</td><td>2021-08-20</td><td>404.49218244684687</td><td>8</td></tr>\n",
       "<tr><td>10023283211</td><td>2021-08-20</td><td>957.3137092766215</td><td>5</td></tr>\n",
       "<tr><td>46622394552</td><td>2021-08-20</td><td>1073.3666428950974</td><td>2</td></tr>\n",
       "<tr><td>87639550697</td><td>2021-08-21</td><td>1934.478533315841</td><td>30</td></tr>\n",
       "<tr><td>89260537373</td><td>2021-08-21</td><td>5480.46445786499</td><td>11</td></tr>\n",
       "<tr><td>71523080801</td><td>2021-08-21</td><td>863.3654660941532</td><td>1</td></tr>\n",
       "<tr><td>48390524826</td><td>2021-08-21</td><td>1332.544828068976</td><td>7</td></tr>\n",
       "<tr><td>97903083009</td><td>2021-08-21</td><td>1133.6689623660864</td><td>2</td></tr>\n",
       "<tr><td>61376261291</td><td>2021-08-21</td><td>570.9557533950517</td><td>1</td></tr>\n",
       "<tr><td>29613837166</td><td>2021-08-21</td><td>1.055506256053634</td><td>1</td></tr>\n",
       "<tr><td>59128133246</td><td>2021-08-19</td><td>323.60194002406206</td><td>12</td></tr>\n",
       "<tr><td>23754348523</td><td>2021-08-19</td><td>1551.119853964816</td><td>4</td></tr>\n",
       "</table>\n",
       "only showing top 20 rows\n"
      ],
      "text/plain": [
       "+------------+--------------+------------------+---------+\n",
       "|merchant_abn|order_datetime|     sales_revenue|no_orders|\n",
       "+------------+--------------+------------------+---------+\n",
       "| 90173050473|    2021-08-20| 10065.92598002776|       41|\n",
       "| 91455531890|    2021-08-20|1486.8427457787936|        3|\n",
       "| 14480530534|    2021-08-20|3273.1834477999028|        2|\n",
       "| 54062916822|    2021-08-20| 33.80538233308192|        1|\n",
       "| 73225085327|    2021-08-20| 342.0587279527964|        1|\n",
       "| 34558201737|    2021-08-20| 623.7741963160896|       13|\n",
       "| 63523606379|    2021-08-20| 748.1316659657341|        2|\n",
       "| 15130143460|    2021-08-20|3389.0731959179543|        6|\n",
       "| 49167531725|    2021-08-20|404.49218244684687|        8|\n",
       "| 10023283211|    2021-08-20| 957.3137092766215|        5|\n",
       "| 46622394552|    2021-08-20|1073.3666428950974|        2|\n",
       "| 87639550697|    2021-08-21| 1934.478533315841|       30|\n",
       "| 89260537373|    2021-08-21|  5480.46445786499|       11|\n",
       "| 71523080801|    2021-08-21| 863.3654660941532|        1|\n",
       "| 48390524826|    2021-08-21| 1332.544828068976|        7|\n",
       "| 97903083009|    2021-08-21|1133.6689623660864|        2|\n",
       "| 61376261291|    2021-08-21| 570.9557533950517|        1|\n",
       "| 29613837166|    2021-08-21| 1.055506256053634|        1|\n",
       "| 59128133246|    2021-08-19|323.60194002406206|       12|\n",
       "| 23754348523|    2021-08-19| 1551.119853964816|        4|\n",
       "+------------+--------------+------------------+---------+\n",
       "only showing top 20 rows"
      ]
     },
     "execution_count": 17,
     "metadata": {},
     "output_type": "execute_result"
    }
   ],
   "source": [
    "merchant_sales"
   ]
  },
  {
   "cell_type": "code",
   "execution_count": 117,
   "id": "f88dd739",
   "metadata": {},
   "outputs": [],
   "source": [
    "# Download data\n",
    "merchant_sales.write.parquet(\"../curated/merchant_sales.parquet\")"
   ]
  },
  {
   "cell_type": "markdown",
   "id": "34b6df5b",
   "metadata": {},
   "source": [
    "### Customers Purchase Behaviour"
   ]
  },
  {
   "cell_type": "code",
   "execution_count": 18,
   "id": "d4e1b548",
   "metadata": {},
   "outputs": [],
   "source": [
    "# Generate data which summarizes customers spendings\n",
    "customer_purchases = (transaction.groupby('user_id', 'order_datetime')\n",
    "                                 .agg({'dollar_value':'sum',\n",
    "                                       'order_id':'count'})\n",
    "                                 .withColumnRenamed('sum(dollar_value)', 'dollar_spent')\n",
    "                                 .withColumnRenamed('count(order_id)', 'no_orders'))\n"
   ]
  },
  {
   "cell_type": "code",
   "execution_count": 150,
   "id": "3085f9eb",
   "metadata": {},
   "outputs": [
    {
     "data": {
      "text/html": [
       "<table border='1'>\n",
       "<tr><th>user_id</th><th>order_datetime</th><th>dollar_spent</th><th>no_orders</th></tr>\n",
       "<tr><td>18488</td><td>2021-08-20</td><td>468.9797223930378</td><td>3</td></tr>\n",
       "<tr><td>686</td><td>2021-08-20</td><td>231.87884410751695</td><td>2</td></tr>\n",
       "<tr><td>19292</td><td>2021-08-20</td><td>961.7931435852486</td><td>1</td></tr>\n",
       "<tr><td>778</td><td>2021-08-20</td><td>64.44320007323647</td><td>2</td></tr>\n",
       "<tr><td>786</td><td>2021-08-20</td><td>80.29337626952264</td><td>1</td></tr>\n",
       "<tr><td>19476</td><td>2021-08-20</td><td>506.69827263377283</td><td>2</td></tr>\n",
       "<tr><td>19497</td><td>2021-08-20</td><td>185.18180257359967</td><td>2</td></tr>\n",
       "<tr><td>19628</td><td>2021-08-20</td><td>421.706928005088</td><td>2</td></tr>\n",
       "<tr><td>19631</td><td>2021-08-20</td><td>15.836078616105175</td><td>1</td></tr>\n",
       "<tr><td>19672</td><td>2021-08-20</td><td>58.311520840379146</td><td>3</td></tr>\n",
       "<tr><td>1205</td><td>2021-08-20</td><td>115.134188726205</td><td>2</td></tr>\n",
       "<tr><td>1491</td><td>2021-08-20</td><td>162.98586479264534</td><td>2</td></tr>\n",
       "<tr><td>1691</td><td>2021-08-20</td><td>357.30538098715726</td><td>1</td></tr>\n",
       "<tr><td>1693</td><td>2021-08-20</td><td>359.4497819857119</td><td>3</td></tr>\n",
       "<tr><td>20431</td><td>2021-08-20</td><td>6.212269201799761</td><td>1</td></tr>\n",
       "<tr><td>20834</td><td>2021-08-20</td><td>51.921419955145815</td><td>1</td></tr>\n",
       "<tr><td>2243</td><td>2021-08-20</td><td>338.23809472641636</td><td>4</td></tr>\n",
       "<tr><td>21061</td><td>2021-08-20</td><td>51.943165085659054</td><td>1</td></tr>\n",
       "<tr><td>2647</td><td>2021-08-20</td><td>181.92268348829896</td><td>1</td></tr>\n",
       "<tr><td>2716</td><td>2021-08-20</td><td>134.35872561661037</td><td>2</td></tr>\n",
       "</table>\n",
       "only showing top 20 rows\n"
      ],
      "text/plain": [
       "DataFrame[user_id: bigint, order_datetime: date, dollar_spent: double, no_orders: bigint]"
      ]
     },
     "execution_count": 150,
     "metadata": {},
     "output_type": "execute_result"
    }
   ],
   "source": [
    "customer_purchases"
   ]
  },
  {
   "cell_type": "code",
   "execution_count": null,
   "id": "546f16ab",
   "metadata": {},
   "outputs": [],
   "source": [
    "# Download data\n",
    "customer_purchases.write.parquet(\"../curated/customer_purchase_behaviour.parquet\")"
   ]
  },
  {
   "cell_type": "markdown",
   "id": "ba877e0a",
   "metadata": {},
   "source": [
    "### Sales by Region"
   ]
  },
  {
   "cell_type": "code",
   "execution_count": 43,
   "id": "19b4364c",
   "metadata": {},
   "outputs": [],
   "source": [
    "# Join transaction data with customer data\n",
    "customer_transaction = (transaction.join(user_detail, transaction.user_id == user_detail.user_id)\n",
    "                                   .drop(user_detail.user_id))\n",
    "\n",
    "customer_transaction = (customer_transaction.join(consumer, customer_transaction.consumer_id == consumer.consumer_id)\n",
    "                                            .drop(consumer.consumer_id)\n",
    "                                            .select(transaction['*'], consumer.postcode, consumer.state, consumer.gender))"
   ]
  },
  {
   "cell_type": "code",
   "execution_count": 44,
   "id": "6af4bab7",
   "metadata": {},
   "outputs": [
    {
     "data": {
      "text/html": [
       "<table border='1'>\n",
       "<tr><th>user_id</th><th>merchant_abn</th><th>dollar_value</th><th>order_id</th><th>order_datetime</th><th>postcode</th><th>state</th><th>gender</th></tr>\n",
       "<tr><td>5630</td><td>60956456424</td><td>145.26081329000152</td><td>1e14adeb-8e13-44f...</td><td>2021-08-21</td><td>841</td><td>NT</td><td>Undisclosed</td></tr>\n",
       "<tr><td>5630</td><td>48534649627</td><td>120.25889985200416</td><td>08476339-f383-4ab...</td><td>2021-08-15</td><td>841</td><td>NT</td><td>Undisclosed</td></tr>\n",
       "<tr><td>5630</td><td>60956456424</td><td>135.5412540082104</td><td>aacfd47a-438b-47f...</td><td>2021-08-15</td><td>841</td><td>NT</td><td>Undisclosed</td></tr>\n",
       "<tr><td>5630</td><td>89932674734</td><td>95.37693966478514</td><td>6d5790c9-0eef-453...</td><td>2021-08-16</td><td>841</td><td>NT</td><td>Undisclosed</td></tr>\n",
       "<tr><td>5630</td><td>14089706307</td><td>440.12097711482835</td><td>43d1361a-1101-41a...</td><td>2021-08-16</td><td>841</td><td>NT</td><td>Undisclosed</td></tr>\n",
       "<tr><td>5630</td><td>33604812025</td><td>268.4088838875397</td><td>4d8b6deb-a4d7-412...</td><td>2021-08-13</td><td>841</td><td>NT</td><td>Undisclosed</td></tr>\n",
       "<tr><td>5630</td><td>81219314324</td><td>48.20692954489542</td><td>6454fbb0-7cbd-4db...</td><td>2021-07-23</td><td>841</td><td>NT</td><td>Undisclosed</td></tr>\n",
       "<tr><td>5630</td><td>94472466107</td><td>141.26779955902157</td><td>d85af812-4f34-46b...</td><td>2021-05-21</td><td>841</td><td>NT</td><td>Undisclosed</td></tr>\n",
       "<tr><td>5630</td><td>15903176024</td><td>44.68660714566651</td><td>4bae0c2f-0d25-4f6...</td><td>2021-05-21</td><td>841</td><td>NT</td><td>Undisclosed</td></tr>\n",
       "<tr><td>5630</td><td>73527950332</td><td>654.6729455135422</td><td>44f25667-6711-4c5...</td><td>2021-07-30</td><td>841</td><td>NT</td><td>Undisclosed</td></tr>\n",
       "<tr><td>5630</td><td>23490868997</td><td>324.78811381152974</td><td>7e0a5f73-6d50-42b...</td><td>2021-06-30</td><td>841</td><td>NT</td><td>Undisclosed</td></tr>\n",
       "<tr><td>5630</td><td>57471217202</td><td>54.749417435993955</td><td>1bbc622f-ea43-46a...</td><td>2021-06-30</td><td>841</td><td>NT</td><td>Undisclosed</td></tr>\n",
       "<tr><td>5630</td><td>44780100984</td><td>194.84683025649386</td><td>ddfd8edc-ce95-474...</td><td>2021-08-26</td><td>841</td><td>NT</td><td>Undisclosed</td></tr>\n",
       "<tr><td>5630</td><td>86101203168</td><td>1326.070680180749</td><td>482d01a4-bcb8-4bb...</td><td>2021-06-25</td><td>841</td><td>NT</td><td>Undisclosed</td></tr>\n",
       "<tr><td>5630</td><td>20325086904</td><td>43.85379530476626</td><td>2df24114-739f-462...</td><td>2021-07-29</td><td>841</td><td>NT</td><td>Undisclosed</td></tr>\n",
       "<tr><td>5630</td><td>13447011295</td><td>84.47749255584314</td><td>92ebd4f3-7c85-431...</td><td>2021-08-08</td><td>841</td><td>NT</td><td>Undisclosed</td></tr>\n",
       "<tr><td>5630</td><td>97861055416</td><td>46.26975781161185</td><td>a5cfaa65-99dd-4ef...</td><td>2021-06-18</td><td>841</td><td>NT</td><td>Undisclosed</td></tr>\n",
       "<tr><td>5630</td><td>20985347699</td><td>31.50860015471529</td><td>1ae9e6fa-591d-46c...</td><td>2021-07-31</td><td>841</td><td>NT</td><td>Undisclosed</td></tr>\n",
       "<tr><td>5630</td><td>43186523025</td><td>13.938409140735315</td><td>e6b04ad7-896c-4f8...</td><td>2021-07-22</td><td>841</td><td>NT</td><td>Undisclosed</td></tr>\n",
       "<tr><td>5630</td><td>24852446429</td><td>9.04089293184002</td><td>8cf04571-92ec-4be...</td><td>2021-07-22</td><td>841</td><td>NT</td><td>Undisclosed</td></tr>\n",
       "</table>\n",
       "only showing top 20 rows\n"
      ],
      "text/plain": [
       "+-------+------------+------------------+--------------------+--------------+--------+-----+-----------+\n",
       "|user_id|merchant_abn|      dollar_value|            order_id|order_datetime|postcode|state|     gender|\n",
       "+-------+------------+------------------+--------------------+--------------+--------+-----+-----------+\n",
       "|   5630| 60956456424|145.26081329000152|1e14adeb-8e13-44f...|    2021-08-21|     841|   NT|Undisclosed|\n",
       "|   5630| 48534649627|120.25889985200416|08476339-f383-4ab...|    2021-08-15|     841|   NT|Undisclosed|\n",
       "|   5630| 60956456424| 135.5412540082104|aacfd47a-438b-47f...|    2021-08-15|     841|   NT|Undisclosed|\n",
       "|   5630| 89932674734| 95.37693966478514|6d5790c9-0eef-453...|    2021-08-16|     841|   NT|Undisclosed|\n",
       "|   5630| 14089706307|440.12097711482835|43d1361a-1101-41a...|    2021-08-16|     841|   NT|Undisclosed|\n",
       "|   5630| 33604812025| 268.4088838875397|4d8b6deb-a4d7-412...|    2021-08-13|     841|   NT|Undisclosed|\n",
       "|   5630| 81219314324| 48.20692954489542|6454fbb0-7cbd-4db...|    2021-07-23|     841|   NT|Undisclosed|\n",
       "|   5630| 94472466107|141.26779955902157|d85af812-4f34-46b...|    2021-05-21|     841|   NT|Undisclosed|\n",
       "|   5630| 15903176024| 44.68660714566651|4bae0c2f-0d25-4f6...|    2021-05-21|     841|   NT|Undisclosed|\n",
       "|   5630| 73527950332| 654.6729455135422|44f25667-6711-4c5...|    2021-07-30|     841|   NT|Undisclosed|\n",
       "|   5630| 23490868997|324.78811381152974|7e0a5f73-6d50-42b...|    2021-06-30|     841|   NT|Undisclosed|\n",
       "|   5630| 57471217202|54.749417435993955|1bbc622f-ea43-46a...|    2021-06-30|     841|   NT|Undisclosed|\n",
       "|   5630| 44780100984|194.84683025649386|ddfd8edc-ce95-474...|    2021-08-26|     841|   NT|Undisclosed|\n",
       "|   5630| 86101203168| 1326.070680180749|482d01a4-bcb8-4bb...|    2021-06-25|     841|   NT|Undisclosed|\n",
       "|   5630| 20325086904| 43.85379530476626|2df24114-739f-462...|    2021-07-29|     841|   NT|Undisclosed|\n",
       "|   5630| 13447011295| 84.47749255584314|92ebd4f3-7c85-431...|    2021-08-08|     841|   NT|Undisclosed|\n",
       "|   5630| 97861055416| 46.26975781161185|a5cfaa65-99dd-4ef...|    2021-06-18|     841|   NT|Undisclosed|\n",
       "|   5630| 20985347699| 31.50860015471529|1ae9e6fa-591d-46c...|    2021-07-31|     841|   NT|Undisclosed|\n",
       "|   5630| 43186523025|13.938409140735315|e6b04ad7-896c-4f8...|    2021-07-22|     841|   NT|Undisclosed|\n",
       "|   5630| 24852446429|  9.04089293184002|8cf04571-92ec-4be...|    2021-07-22|     841|   NT|Undisclosed|\n",
       "+-------+------------+------------------+--------------------+--------------+--------+-----+-----------+\n",
       "only showing top 20 rows"
      ]
     },
     "execution_count": 44,
     "metadata": {},
     "output_type": "execute_result"
    }
   ],
   "source": [
    "customer_transaction"
   ]
  },
  {
   "cell_type": "code",
   "execution_count": null,
   "id": "ba55624c",
   "metadata": {},
   "outputs": [],
   "source": [
    "# Download data\n",
    "customer_transaction.write.parquet(\"../curated/customer_join_transaction.parquet\")\n"
   ]
  },
  {
   "cell_type": "code",
   "execution_count": 45,
   "id": "0d4b4cba",
   "metadata": {},
   "outputs": [],
   "source": [
    "# Aggregate by state -> postcode -> date\n",
    "sales_by_region = (customer_transaction.groupby('state', 'postcode', 'order_datetime')\n",
    "                                       .agg({'dollar_value':'sum',\n",
    "                                             'order_id':'count'})\n",
    "                                       .withColumnRenamed('sum(dollar_value)', 'dollar_spent')\n",
    "                                       .withColumnRenamed('count(order_id)', 'no_orders'))\n"
   ]
  },
  {
   "cell_type": "code",
   "execution_count": 46,
   "id": "379cb869",
   "metadata": {},
   "outputs": [
    {
     "data": {
      "text/html": [
       "<table border='1'>\n",
       "<tr><th>state</th><th>postcode</th><th>order_datetime</th><th>dollar_spent</th><th>no_orders</th></tr>\n",
       "<tr><td>NSW</td><td>2212</td><td>2021-07-21</td><td>1799.2035091441462</td><td>7</td></tr>\n",
       "<tr><td>VIC</td><td>3194</td><td>2021-04-03</td><td>658.0240558265559</td><td>8</td></tr>\n",
       "<tr><td>VIC</td><td>3123</td><td>2021-03-10</td><td>437.83024056803663</td><td>4</td></tr>\n",
       "<tr><td>NSW</td><td>2472</td><td>2021-07-23</td><td>1339.0905111892507</td><td>14</td></tr>\n",
       "<tr><td>NSW</td><td>2198</td><td>2021-06-30</td><td>632.2719516638596</td><td>9</td></tr>\n",
       "<tr><td>NSW</td><td>2198</td><td>2021-07-29</td><td>236.9399442110043</td><td>4</td></tr>\n",
       "<tr><td>VIC</td><td>3610</td><td>2021-06-01</td><td>2531.7924958543076</td><td>12</td></tr>\n",
       "<tr><td>VIC</td><td>3053</td><td>2021-03-20</td><td>867.1311793948004</td><td>7</td></tr>\n",
       "<tr><td>VIC</td><td>3631</td><td>2021-07-28</td><td>1224.3308918097925</td><td>8</td></tr>\n",
       "<tr><td>QLD</td><td>4001</td><td>2021-05-16</td><td>659.0746049473196</td><td>9</td></tr>\n",
       "<tr><td>NSW</td><td>2164</td><td>2021-06-30</td><td>1249.265891676425</td><td>11</td></tr>\n",
       "<tr><td>NSW</td><td>2164</td><td>2021-03-28</td><td>1165.7212554008902</td><td>5</td></tr>\n",
       "<tr><td>VIC</td><td>3375</td><td>2021-08-26</td><td>453.75279829736064</td><td>12</td></tr>\n",
       "<tr><td>VIC</td><td>3375</td><td>2021-08-07</td><td>3658.9075761423082</td><td>10</td></tr>\n",
       "<tr><td>NSW</td><td>2216</td><td>2021-05-04</td><td>980.523695868479</td><td>14</td></tr>\n",
       "<tr><td>NSW</td><td>2228</td><td>2021-03-01</td><td>2145.7296464640185</td><td>10</td></tr>\n",
       "<tr><td>VIC</td><td>3733</td><td>2021-04-10</td><td>239.00195368167834</td><td>6</td></tr>\n",
       "<tr><td>NSW</td><td>2361</td><td>2021-07-30</td><td>784.3354452892288</td><td>7</td></tr>\n",
       "<tr><td>QLD</td><td>9009</td><td>2021-07-17</td><td>426.32376497174187</td><td>4</td></tr>\n",
       "<tr><td>VIC</td><td>3161</td><td>2021-08-12</td><td>1161.9747089032817</td><td>10</td></tr>\n",
       "</table>\n",
       "only showing top 20 rows\n"
      ],
      "text/plain": [
       "+-----+--------+--------------+------------------+---------+\n",
       "|state|postcode|order_datetime|      dollar_spent|no_orders|\n",
       "+-----+--------+--------------+------------------+---------+\n",
       "|  NSW|    2212|    2021-07-21|1799.2035091441462|        7|\n",
       "|  VIC|    3194|    2021-04-03| 658.0240558265559|        8|\n",
       "|  VIC|    3123|    2021-03-10|437.83024056803663|        4|\n",
       "|  NSW|    2472|    2021-07-23|1339.0905111892507|       14|\n",
       "|  NSW|    2198|    2021-06-30| 632.2719516638596|        9|\n",
       "|  NSW|    2198|    2021-07-29| 236.9399442110043|        4|\n",
       "|  VIC|    3610|    2021-06-01|2531.7924958543076|       12|\n",
       "|  VIC|    3053|    2021-03-20| 867.1311793948004|        7|\n",
       "|  VIC|    3631|    2021-07-28|1224.3308918097925|        8|\n",
       "|  QLD|    4001|    2021-05-16| 659.0746049473196|        9|\n",
       "|  NSW|    2164|    2021-06-30| 1249.265891676425|       11|\n",
       "|  NSW|    2164|    2021-03-28|1165.7212554008902|        5|\n",
       "|  VIC|    3375|    2021-08-26|453.75279829736064|       12|\n",
       "|  VIC|    3375|    2021-08-07|3658.9075761423082|       10|\n",
       "|  NSW|    2216|    2021-05-04|  980.523695868479|       14|\n",
       "|  NSW|    2228|    2021-03-01|2145.7296464640185|       10|\n",
       "|  VIC|    3733|    2021-04-10|239.00195368167834|        6|\n",
       "|  NSW|    2361|    2021-07-30| 784.3354452892288|        7|\n",
       "|  QLD|    9009|    2021-07-17|426.32376497174187|        4|\n",
       "|  VIC|    3161|    2021-08-12|1161.9747089032817|       10|\n",
       "+-----+--------+--------------+------------------+---------+\n",
       "only showing top 20 rows"
      ]
     },
     "execution_count": 46,
     "metadata": {},
     "output_type": "execute_result"
    }
   ],
   "source": [
    "sales_by_region"
   ]
  },
  {
   "cell_type": "code",
   "execution_count": null,
   "id": "46d53f4c",
   "metadata": {},
   "outputs": [],
   "source": [
    "# Download data\n",
    "sales_by_region.write.parquet(\"../curated/sales_by_region.parquet\")"
   ]
  }
 ],
 "metadata": {
  "kernelspec": {
   "display_name": "Python 3",
   "language": "python",
   "name": "python3"
  },
  "language_info": {
   "codemirror_mode": {
    "name": "ipython",
    "version": 3
   },
   "file_extension": ".py",
   "mimetype": "text/x-python",
   "name": "python",
   "nbconvert_exporter": "python",
   "pygments_lexer": "ipython3",
   "version": "3.7.4"
  }
 },
 "nbformat": 4,
 "nbformat_minor": 5
}
