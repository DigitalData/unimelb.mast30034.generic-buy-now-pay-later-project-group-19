{
 "cells": [
  {
   "cell_type": "markdown",
   "id": "3667f3a1",
   "metadata": {},
   "source": [
    "# ETL Processes\n",
    "***\n",
    "## Lists of tasks:\n",
    "- ### <del>Consolidating Datasets</del>\n",
    "- ### Normalising/Restructuring Tables\n",
    "- ### Exploratory Data Analysis\n",
    "- ### Data Cleaning\n",
    "- ### Package ETL.py into a Class\n",
    "***\n",
    "\n",
    "## Content:\n",
    "- ### [Consumer Dataset](#Consumer-dataset)\n",
    "- ### [Transaction Dataset](#Transaction-dataset)\n",
    "- ### [Merchant Dataset](#Merchant-dataset)\n",
    "- ### [Data Aggregations](#Aggregation)\n"
   ]
  },
  {
   "cell_type": "code",
   "execution_count": 1,
   "id": "79f83e0d",
   "metadata": {},
   "outputs": [
    {
     "name": "stdout",
     "output_type": "stream",
     "text": [
      "22/09/03 11:17:41 WARN Utils: Your hostname, DESKTOP-IK201ES resolves to a loopback address: 127.0.1.1; using 172.22.50.162 instead (on interface eth0)\n",
      "22/09/03 11:17:41 WARN Utils: Set SPARK_LOCAL_IP if you need to bind to another address\n"
     ]
    },
    {
     "name": "stderr",
     "output_type": "stream",
     "text": [
      "Setting default log level to \"WARN\".\n",
      "To adjust logging level use sc.setLogLevel(newLevel). For SparkR, use setLogLevel(newLevel).\n"
     ]
    },
    {
     "name": "stdout",
     "output_type": "stream",
     "text": [
      "22/09/03 11:17:43 WARN NativeCodeLoader: Unable to load native-hadoop library for your platform... using builtin-java classes where applicable\n",
      "Welcome to\n",
      "      ____              __\n",
      "     / __/__  ___ _____/ /__\n",
      "    _\\ \\/ _ \\/ _ `/ __/  '_/\n",
      "   /__ / .__/\\_,_/_/ /_/\\_\\   version 3.3.0\n",
      "      /_/\n",
      "\n",
      "Using Python version 3.8.10 (default, Jun 22 2022 20:18:18)\n",
      "Spark context Web UI available at http://172.22.50.162:4040\n",
      "Spark context available as 'sc' (master = local[*], app id = local-1662167864763).\n",
      "SparkSession available as 'spark'.\n",
      "22/09/03 11:17:46 WARN SparkSession: Using an existing Spark session; only runtime SQL configurations will take effect.\n"
     ]
    }
   ],
   "source": [
    "import pandas as pd\n",
    "import numpy as np\n",
    "import os\n",
    "import re\n",
    "\n",
    "# Set working directory\n",
    "if not \"/data/tables\" in os.getcwd():\n",
    "    os.chdir(\"../data/tables\")\n",
    "\n",
    "from pyspark.sql import SparkSession\n",
    "from pyspark.shell import spark\n",
    "from pyspark.sql import SQLContext\n",
    "from pyspark.sql.functions import *\n",
    "import matplotlib.pyplot as plt\n",
    "\n",
    "spark = (\n",
    "    SparkSession.builder.appName(\"MAST30034 Project 2\")\n",
    "    .config(\"spark.sql.repl.eagerEval.enabled\", True) \n",
    "    .config(\"spark.sql.parquet.cacheMetadata\", \"true\")\n",
    "    .config(\"spark.sql.session.timeZone\", \"Etc/UTC\")\n",
    "    .config(\"spark.driver.memory\", \"4g\")\n",
    "    .getOrCreate()\n",
    ")"
   ]
  },
  {
   "cell_type": "markdown",
   "id": "d5458a7a",
   "metadata": {},
   "source": [
    "# Consumer dataset"
   ]
  },
  {
   "cell_type": "code",
   "execution_count": 2,
   "id": "42f5285b",
   "metadata": {},
   "outputs": [
    {
     "data": {
      "text/html": [
       "<table border='1'>\n",
       "<tr><th>name</th><th>address</th><th>state</th><th>postcode</th><th>gender</th><th>consumer_id</th></tr>\n",
       "<tr><td>Yolanda Williams</td><td>413 Haney Gardens...</td><td>WA</td><td>6935</td><td>Female</td><td>1195503</td></tr>\n",
       "<tr><td>Mary Smith</td><td>3764 Amber Oval</td><td>NSW</td><td>2782</td><td>Female</td><td>179208</td></tr>\n",
       "<tr><td>Jill Jones MD</td><td>40693 Henry Greens</td><td>NT</td><td>862</td><td>Female</td><td>1194530</td></tr>\n",
       "<tr><td>Lindsay Jimenez</td><td>00653 Davenport C...</td><td>NSW</td><td>2780</td><td>Female</td><td>154128</td></tr>\n",
       "<tr><td>Rebecca Blanchard</td><td>9271 Michael Mano...</td><td>WA</td><td>6355</td><td>Female</td><td>712975</td></tr>\n",
       "<tr><td>Karen Chapman</td><td>2706 Stewart Oval...</td><td>NSW</td><td>2033</td><td>Female</td><td>407340</td></tr>\n",
       "<tr><td>Andrea Jones</td><td>122 Brandon Cliff</td><td>QLD</td><td>4606</td><td>Female</td><td>511685</td></tr>\n",
       "<tr><td>Stephen Williams</td><td>6804 Wright Crest...</td><td>WA</td><td>6056</td><td>Male</td><td>448088</td></tr>\n",
       "<tr><td>Stephanie Reyes</td><td>5813 Denise Land ...</td><td>NSW</td><td>2482</td><td>Female</td><td>650435</td></tr>\n",
       "<tr><td>Jillian Gonzales</td><td>461 Ryan Common S...</td><td>VIC</td><td>3220</td><td>Female</td><td>1058499</td></tr>\n",
       "<tr><td>Eugene Lucas</td><td>33983 Kevin Drive...</td><td>VIC</td><td>3063</td><td>Undisclosed</td><td>428325</td></tr>\n",
       "<tr><td>Melissa Jones</td><td>13706 Kimberly Port</td><td>WA</td><td>6743</td><td>Female</td><td>1494640</td></tr>\n",
       "<tr><td>Angela Brown PhD</td><td>0236 Mills Land S...</td><td>QLD</td><td>4673</td><td>Female</td><td>1146717</td></tr>\n",
       "<tr><td>Lance Butler</td><td>8943 Kenneth Camp</td><td>VIC</td><td>3332</td><td>Male</td><td>1343547</td></tr>\n",
       "<tr><td>Paul Abbott</td><td>60495 Ryan Hill</td><td>QLD</td><td>4512</td><td>Male</td><td>1463076</td></tr>\n",
       "<tr><td>Tracy Hart</td><td>9671 Jacob Harbor...</td><td>NSW</td><td>2452</td><td>Male</td><td>1356405</td></tr>\n",
       "<tr><td>Alyssa Wilson</td><td>44353 Nathan Ridge</td><td>VIC</td><td>3719</td><td>Female</td><td>1331093</td></tr>\n",
       "<tr><td>Michael Burnett</td><td>89400 Torres Fort</td><td>NSW</td><td>1109</td><td>Male</td><td>80965</td></tr>\n",
       "<tr><td>Victoria Gonzalez</td><td>68657 Johnson Gle...</td><td>TAS</td><td>7276</td><td>Female</td><td>1226530</td></tr>\n",
       "<tr><td>James Norris</td><td>790 Ramos Landing</td><td>VIC</td><td>3234</td><td>Undisclosed</td><td>1390367</td></tr>\n",
       "</table>\n",
       "only showing top 20 rows\n"
      ],
      "text/plain": [
       "+-----------------+--------------------+-----+--------+-----------+-----------+\n",
       "|             name|             address|state|postcode|     gender|consumer_id|\n",
       "+-----------------+--------------------+-----+--------+-----------+-----------+\n",
       "| Yolanda Williams|413 Haney Gardens...|   WA|    6935|     Female|    1195503|\n",
       "|       Mary Smith|     3764 Amber Oval|  NSW|    2782|     Female|     179208|\n",
       "|    Jill Jones MD|  40693 Henry Greens|   NT|     862|     Female|    1194530|\n",
       "|  Lindsay Jimenez|00653 Davenport C...|  NSW|    2780|     Female|     154128|\n",
       "|Rebecca Blanchard|9271 Michael Mano...|   WA|    6355|     Female|     712975|\n",
       "|    Karen Chapman|2706 Stewart Oval...|  NSW|    2033|     Female|     407340|\n",
       "|     Andrea Jones|   122 Brandon Cliff|  QLD|    4606|     Female|     511685|\n",
       "| Stephen Williams|6804 Wright Crest...|   WA|    6056|       Male|     448088|\n",
       "|  Stephanie Reyes|5813 Denise Land ...|  NSW|    2482|     Female|     650435|\n",
       "| Jillian Gonzales|461 Ryan Common S...|  VIC|    3220|     Female|    1058499|\n",
       "|     Eugene Lucas|33983 Kevin Drive...|  VIC|    3063|Undisclosed|     428325|\n",
       "|    Melissa Jones| 13706 Kimberly Port|   WA|    6743|     Female|    1494640|\n",
       "| Angela Brown PhD|0236 Mills Land S...|  QLD|    4673|     Female|    1146717|\n",
       "|     Lance Butler|   8943 Kenneth Camp|  VIC|    3332|       Male|    1343547|\n",
       "|      Paul Abbott|     60495 Ryan Hill|  QLD|    4512|       Male|    1463076|\n",
       "|       Tracy Hart|9671 Jacob Harbor...|  NSW|    2452|       Male|    1356405|\n",
       "|    Alyssa Wilson|  44353 Nathan Ridge|  VIC|    3719|     Female|    1331093|\n",
       "|  Michael Burnett|   89400 Torres Fort|  NSW|    1109|       Male|      80965|\n",
       "|Victoria Gonzalez|68657 Johnson Gle...|  TAS|    7276|     Female|    1226530|\n",
       "|     James Norris|   790 Ramos Landing|  VIC|    3234|Undisclosed|    1390367|\n",
       "+-----------------+--------------------+-----+--------+-----------+-----------+\n",
       "only showing top 20 rows"
      ]
     },
     "execution_count": 2,
     "metadata": {},
     "output_type": "execute_result"
    }
   ],
   "source": [
    "# Read csv file\n",
    "consumer = spark.read.option(\"delimiter\", \"|\").csv('tbl_consumer.csv', header = True)\n",
    "consumer"
   ]
  },
  {
   "cell_type": "code",
   "execution_count": 3,
   "id": "171b8ae6",
   "metadata": {},
   "outputs": [
    {
     "name": "stderr",
     "output_type": "stream",
     "text": [
      "                                                                                \r"
     ]
    },
    {
     "name": "stdout",
     "output_type": "stream",
     "text": [
      "Dataset details: \n",
      "\tNumber of rows: 499999 \n",
      "\tNumber of distinct Consumer ID: 499999 \n",
      "\tNumber of distinct Postcodes: 3167\n"
     ]
    }
   ],
   "source": [
    "print(f\"Dataset details: \\n\\tNumber of rows: {consumer.count()}\", \\\n",
    "      f\"\\n\\tNumber of distinct Consumer ID: {consumer.select('consumer_id').distinct().count()}\", \\\n",
    "      f\"\\n\\tNumber of distinct Postcodes: {consumer.select('postcode').distinct().count()}\")"
   ]
  },
  {
   "cell_type": "markdown",
   "id": "15020dc3",
   "metadata": {},
   "source": [
    "Note: \n",
    "- The **address field is fake** and derived from USA street names. We have included it to mimic a more realistic dataset, but the streets themselves are non-existent and if there are any matches, it will be a pure coincidence. <font color='red'>**Not sure what sort of information we can extract here if they are all fake</font> \n",
    "- The **postcode field is accurate** and should be **used for aggregated analysis** for joining with other geospatial datasets for demographic information (i.e ABS datasets) <font color='red'>**Highly relevant for geospatial analysis</font> \n",
    "- There is roughly a **uniform distribution at the state level** (i.e number of consumers per state is the same for all states)."
   ]
  },
  {
   "cell_type": "markdown",
   "id": "4ecbc19d",
   "metadata": {},
   "source": [
    "### Checking for missing values in consumer dataset"
   ]
  },
  {
   "cell_type": "code",
   "execution_count": 4,
   "id": "d6895ed9",
   "metadata": {},
   "outputs": [],
   "source": [
    "def missing_values_check(sdf):\n",
    "    \"\"\"Check missing values in each column of the spark dataframe\"\"\"\n",
    "    \n",
    "    missing_count = sdf.select([count(when(col(c).contains('None') | \\\n",
    "                                           col(c).contains('NULL') | \\\n",
    "                                          (col(c) == '' ) | \\\n",
    "                                           col(c).isNull() | \\\n",
    "                                           isnan(c), c))\n",
    "                                     .alias(c)\n",
    "                                for c, dtype in sdf.dtypes if dtype != 'date'])\n",
    "    \n",
    "    return missing_count\n"
   ]
  },
  {
   "cell_type": "code",
   "execution_count": 5,
   "id": "a0c8a31f",
   "metadata": {},
   "outputs": [
    {
     "name": "stderr",
     "output_type": "stream",
     "text": [
      "                                                                                \r"
     ]
    },
    {
     "data": {
      "text/html": [
       "<table border='1'>\n",
       "<tr><th>name</th><th>address</th><th>state</th><th>postcode</th><th>gender</th><th>consumer_id</th></tr>\n",
       "<tr><td>0</td><td>0</td><td>0</td><td>0</td><td>0</td><td>0</td></tr>\n",
       "</table>\n"
      ],
      "text/plain": [
       "+----+-------+-----+--------+------+-----------+\n",
       "|name|address|state|postcode|gender|consumer_id|\n",
       "+----+-------+-----+--------+------+-----------+\n",
       "|   0|      0|    0|       0|     0|          0|\n",
       "+----+-------+-----+--------+------+-----------+"
      ]
     },
     "execution_count": 5,
     "metadata": {},
     "output_type": "execute_result"
    }
   ],
   "source": [
    "missing_values_check(consumer)"
   ]
  },
  {
   "cell_type": "markdown",
   "id": "6863fddb",
   "metadata": {},
   "source": [
    "### User detail dataset"
   ]
  },
  {
   "cell_type": "code",
   "execution_count": 6,
   "id": "69f48788",
   "metadata": {},
   "outputs": [
    {
     "data": {
      "text/html": [
       "<table border='1'>\n",
       "<tr><th>user_id</th><th>consumer_id</th></tr>\n",
       "<tr><td>1</td><td>1195503</td></tr>\n",
       "<tr><td>2</td><td>179208</td></tr>\n",
       "<tr><td>3</td><td>1194530</td></tr>\n",
       "<tr><td>4</td><td>154128</td></tr>\n",
       "<tr><td>5</td><td>712975</td></tr>\n",
       "<tr><td>6</td><td>407340</td></tr>\n",
       "<tr><td>7</td><td>511685</td></tr>\n",
       "<tr><td>8</td><td>448088</td></tr>\n",
       "<tr><td>9</td><td>650435</td></tr>\n",
       "<tr><td>10</td><td>1058499</td></tr>\n",
       "<tr><td>11</td><td>428325</td></tr>\n",
       "<tr><td>12</td><td>1494640</td></tr>\n",
       "<tr><td>13</td><td>1146717</td></tr>\n",
       "<tr><td>14</td><td>1343547</td></tr>\n",
       "<tr><td>15</td><td>1463076</td></tr>\n",
       "<tr><td>16</td><td>1356405</td></tr>\n",
       "<tr><td>17</td><td>1331093</td></tr>\n",
       "<tr><td>18</td><td>80965</td></tr>\n",
       "<tr><td>19</td><td>1226530</td></tr>\n",
       "<tr><td>20</td><td>1390367</td></tr>\n",
       "</table>\n",
       "only showing top 20 rows\n"
      ],
      "text/plain": [
       "+-------+-----------+\n",
       "|user_id|consumer_id|\n",
       "+-------+-----------+\n",
       "|      1|    1195503|\n",
       "|      2|     179208|\n",
       "|      3|    1194530|\n",
       "|      4|     154128|\n",
       "|      5|     712975|\n",
       "|      6|     407340|\n",
       "|      7|     511685|\n",
       "|      8|     448088|\n",
       "|      9|     650435|\n",
       "|     10|    1058499|\n",
       "|     11|     428325|\n",
       "|     12|    1494640|\n",
       "|     13|    1146717|\n",
       "|     14|    1343547|\n",
       "|     15|    1463076|\n",
       "|     16|    1356405|\n",
       "|     17|    1331093|\n",
       "|     18|      80965|\n",
       "|     19|    1226530|\n",
       "|     20|    1390367|\n",
       "+-------+-----------+\n",
       "only showing top 20 rows"
      ]
     },
     "execution_count": 6,
     "metadata": {},
     "output_type": "execute_result"
    }
   ],
   "source": [
    "user_detail = spark.read.parquet(\"consumer_user_details.parquet\")\n",
    "user_detail"
   ]
  },
  {
   "cell_type": "code",
   "execution_count": 7,
   "id": "1ade5173",
   "metadata": {},
   "outputs": [
    {
     "name": "stdout",
     "output_type": "stream",
     "text": [
      "Dataset details: \n",
      "\tNumber of rows: 499999 \n",
      "\tNumber of distinct User ID: 499999 \n",
      "\tNumber of distinct Consumer ID: 499999\n"
     ]
    }
   ],
   "source": [
    "print(f\"Dataset details: \\n\\tNumber of rows: {user_detail.count()}\", \\\n",
    "      f\"\\n\\tNumber of distinct User ID: {user_detail.select('user_id').distinct().count()}\", \\\n",
    "      f\"\\n\\tNumber of distinct Consumer ID: {user_detail.select('consumer_id').distinct().count()}\")"
   ]
  },
  {
   "cell_type": "markdown",
   "id": "299440ed",
   "metadata": {},
   "source": [
    "### Checking for missing values in user detail dataset"
   ]
  },
  {
   "cell_type": "code",
   "execution_count": 8,
   "id": "6911a191",
   "metadata": {},
   "outputs": [
    {
     "data": {
      "text/html": [
       "<table border='1'>\n",
       "<tr><th>user_id</th><th>consumer_id</th></tr>\n",
       "<tr><td>0</td><td>0</td></tr>\n",
       "</table>\n"
      ],
      "text/plain": [
       "+-------+-----------+\n",
       "|user_id|consumer_id|\n",
       "+-------+-----------+\n",
       "|      0|          0|\n",
       "+-------+-----------+"
      ]
     },
     "execution_count": 8,
     "metadata": {},
     "output_type": "execute_result"
    }
   ],
   "source": [
    "missing_values_check(user_detail)"
   ]
  },
  {
   "cell_type": "markdown",
   "id": "641f04be",
   "metadata": {},
   "source": [
    "Note:\n",
    "- Due to a difference between the internal system and a poor design choice (for some reason), the transaction tables use a **surrogate key** for each new user_id. <font color='red'>**Transaction dataset uses `user_id` to map customer but customer data are mapped to their own unique `customer_id` so the user detail data serves to map those two together</font> \n",
    "- However, the Consumer table has a **unique ID (some are missing on purpose)** field which will require some form of mapping between consumer_id to user_id. <font color='red'>**Might require further investigation and decide on whether it is appropriate to remove</font> \n",
    "- An additional mapping table has been provided to join the two datasets together.\n"
   ]
  },
  {
   "cell_type": "markdown",
   "id": "48daeb03",
   "metadata": {},
   "source": [
    "# Transaction dataset"
   ]
  },
  {
   "cell_type": "code",
   "execution_count": 9,
   "id": "d682d1fe",
   "metadata": {},
   "outputs": [
    {
     "name": "stderr",
     "output_type": "stream",
     "text": [
      "                                                                                \r"
     ]
    }
   ],
   "source": [
    "transaction = spark.read.parquet(\"transactions_20210228_20210827_snapshot/\")"
   ]
  },
  {
   "cell_type": "markdown",
   "id": "2b71bec0",
   "metadata": {},
   "source": [
    "<div class=\"alert alert-block alert-warning\">\n",
    "<b>Note:</b> Use the following code to load the transactions files if you have problems running the code above.\n",
    "</div>"
   ]
  },
  {
   "cell_type": "code",
   "execution_count": 10,
   "id": "e6d6141d",
   "metadata": {},
   "outputs": [
    {
     "data": {
      "text/plain": [
       "['order_datetime=2021-08-15',\n",
       " 'order_datetime=2021-08-23',\n",
       " 'order_datetime=2021-08-24',\n",
       " 'order_datetime=2021-04-20',\n",
       " 'order_datetime=2021-07-07',\n",
       " 'order_datetime=2021-03-08',\n",
       " 'order_datetime=2021-04-27',\n",
       " 'order_datetime=2021-03-30',\n",
       " 'order_datetime=2021-04-18',\n",
       " 'order_datetime=2021-04-11',\n",
       " 'order_datetime=2021-03-06',\n",
       " 'order_datetime=2021-07-09',\n",
       " 'order_datetime=2021-03-01',\n",
       " 'order_datetime=2021-04-16',\n",
       " 'order_datetime=2021-07-31',\n",
       " 'order_datetime=2021-04-29',\n",
       " 'order_datetime=2021-08-25',\n",
       " 'order_datetime=2021-08-22',\n",
       " 'order_datetime=2021-08-14',\n",
       " 'order_datetime=2021-08-13',\n",
       " 'order_datetime=2021-07-30',\n",
       " 'order_datetime=2021-04-17',\n",
       " 'order_datetime=2021-04-28',\n",
       " 'order_datetime=2021-03-07',\n",
       " 'order_datetime=2021-04-10',\n",
       " 'order_datetime=2021-07-08',\n",
       " 'order_datetime=2021-03-31',\n",
       " 'order_datetime=2021-04-26',\n",
       " 'order_datetime=2021-07-01',\n",
       " 'order_datetime=2021-04-19',\n",
       " 'order_datetime=2021-07-06',\n",
       " 'order_datetime=2021-04-21',\n",
       " 'order_datetime=2021-03-09',\n",
       " '.DS_Store',\n",
       " 'order_datetime=2021-06-30',\n",
       " 'order_datetime=2021-05-17',\n",
       " 'order_datetime=2021-05-28',\n",
       " 'order_datetime=2021-05-10',\n",
       " 'order_datetime=2021-06-08',\n",
       " 'order_datetime=2021-05-26',\n",
       " 'order_datetime=2021-06-01',\n",
       " 'order_datetime=2021-05-19',\n",
       " 'order_datetime=2021-06-06',\n",
       " 'order_datetime=2021-05-21',\n",
       " 'order_datetime=2021-05-20',\n",
       " 'order_datetime=2021-06-07',\n",
       " 'order_datetime=2021-05-27',\n",
       " 'order_datetime=2021-05-18',\n",
       " 'order_datetime=2021-05-11',\n",
       " 'order_datetime=2021-06-09',\n",
       " 'order_datetime=2021-05-16',\n",
       " 'order_datetime=2021-05-29',\n",
       " 'order_datetime=2021-06-13',\n",
       " 'order_datetime=2021-06-14',\n",
       " 'order_datetime=2021-06-22',\n",
       " 'order_datetime=2021-05-05',\n",
       " 'order_datetime=2021-05-02',\n",
       " 'order_datetime=2021-06-25',\n",
       " '._SUCCESS.crc',\n",
       " 'order_datetime=2021-06-24',\n",
       " 'order_datetime=2021-05-03',\n",
       " 'order_datetime=2021-05-04',\n",
       " 'order_datetime=2021-06-23',\n",
       " 'order_datetime=2021-06-15',\n",
       " 'order_datetime=2021-06-12',\n",
       " 'order_datetime=2021-07-24',\n",
       " 'order_datetime=2021-03-14',\n",
       " 'order_datetime=2021-04-03',\n",
       " 'order_datetime=2021-04-04',\n",
       " 'order_datetime=2021-03-13',\n",
       " 'order_datetime=2021-07-23',\n",
       " 'order_datetime=2021-03-25',\n",
       " 'order_datetime=2021-07-15',\n",
       " 'order_datetime=2021-07-12',\n",
       " 'order_datetime=2021-03-22',\n",
       " 'order_datetime=2021-08-09',\n",
       " 'order_datetime=2021-08-07',\n",
       " 'order_datetime=2021-03-23',\n",
       " 'order_datetime=2021-07-13',\n",
       " 'order_datetime=2021-07-14',\n",
       " 'order_datetime=2021-03-24',\n",
       " 'order_datetime=2021-07-22',\n",
       " 'order_datetime=2021-03-12',\n",
       " 'order_datetime=2021-04-05',\n",
       " 'order_datetime=2021-04-02',\n",
       " 'order_datetime=2021-03-15',\n",
       " 'order_datetime=2021-07-25',\n",
       " 'order_datetime=2021-08-06',\n",
       " 'order_datetime=2021-08-01',\n",
       " 'order_datetime=2021-08-08',\n",
       " 'order_datetime=2021-07-03',\n",
       " 'order_datetime=2021-04-24',\n",
       " 'order_datetime=2021-04-23',\n",
       " 'order_datetime=2021-07-04',\n",
       " 'order_datetime=2021-04-15',\n",
       " 'order_datetime=2021-03-02',\n",
       " 'order_datetime=2021-03-05',\n",
       " 'order_datetime=2021-04-12',\n",
       " 'order_datetime=2021-08-16',\n",
       " 'order_datetime=2021-08-11',\n",
       " 'order_datetime=2021-08-27',\n",
       " 'order_datetime=2021-08-18',\n",
       " 'order_datetime=2021-08-20',\n",
       " 'order_datetime=2021-04-13',\n",
       " 'order_datetime=2021-03-04',\n",
       " 'order_datetime=2021-03-03',\n",
       " 'order_datetime=2021-04-14',\n",
       " 'order_datetime=2021-07-05',\n",
       " 'order_datetime=2021-04-22',\n",
       " 'order_datetime=2021-04-25',\n",
       " 'order_datetime=2021-07-02',\n",
       " 'order_datetime=2021-08-21',\n",
       " 'order_datetime=2021-08-26',\n",
       " 'order_datetime=2021-08-19',\n",
       " 'order_datetime=2021-08-10',\n",
       " 'order_datetime=2021-08-17',\n",
       " 'order_datetime=2021-05-13',\n",
       " 'order_datetime=2021-05-14',\n",
       " 'order_datetime=2021-06-05',\n",
       " 'order_datetime=2021-05-22',\n",
       " 'order_datetime=2021-05-25',\n",
       " 'order_datetime=2021-06-02',\n",
       " 'order_datetime=2021-06-03',\n",
       " 'order_datetime=2021-05-24',\n",
       " 'order_datetime=2021-05-23',\n",
       " 'order_datetime=2021-06-04',\n",
       " 'order_datetime=2021-05-15',\n",
       " 'order_datetime=2021-05-12',\n",
       " 'order_datetime=2021-06-28',\n",
       " '_SUCCESS',\n",
       " 'order_datetime=2021-06-17',\n",
       " 'order_datetime=2021-05-30',\n",
       " 'order_datetime=2021-05-08',\n",
       " 'order_datetime=2021-06-10',\n",
       " 'order_datetime=2021-06-19',\n",
       " 'order_datetime=2021-05-01',\n",
       " 'order_datetime=2021-06-26',\n",
       " 'order_datetime=2021-06-21',\n",
       " 'order_datetime=2021-05-06',\n",
       " 'order_datetime=2021-05-07',\n",
       " 'order_datetime=2021-06-20',\n",
       " 'order_datetime=2021-06-18',\n",
       " 'order_datetime=2021-02-28',\n",
       " 'order_datetime=2021-06-27',\n",
       " 'order_datetime=2021-05-09',\n",
       " 'order_datetime=2021-06-11',\n",
       " 'order_datetime=2021-06-29',\n",
       " 'order_datetime=2021-05-31',\n",
       " 'order_datetime=2021-06-16',\n",
       " 'order_datetime=2021-08-04',\n",
       " 'order_datetime=2021-08-03',\n",
       " 'order_datetime=2021-03-10',\n",
       " 'order_datetime=2021-04-07',\n",
       " 'order_datetime=2021-07-20',\n",
       " 'order_datetime=2021-07-18',\n",
       " 'order_datetime=2021-03-28',\n",
       " 'order_datetime=2021-07-27',\n",
       " 'order_datetime=2021-03-17',\n",
       " 'order_datetime=2021-04-09',\n",
       " 'order_datetime=2021-07-11',\n",
       " 'order_datetime=2021-03-21',\n",
       " 'order_datetime=2021-03-19',\n",
       " 'order_datetime=2021-07-29',\n",
       " 'order_datetime=2021-03-26',\n",
       " 'order_datetime=2021-07-16',\n",
       " 'order_datetime=2021-08-02',\n",
       " 'order_datetime=2021-08-05',\n",
       " 'order_datetime=2021-07-28',\n",
       " 'order_datetime=2021-03-18',\n",
       " 'order_datetime=2021-07-17',\n",
       " 'order_datetime=2021-04-30',\n",
       " 'order_datetime=2021-03-27',\n",
       " 'order_datetime=2021-04-08',\n",
       " 'order_datetime=2021-03-20',\n",
       " 'order_datetime=2021-07-10',\n",
       " 'order_datetime=2021-03-29',\n",
       " 'order_datetime=2021-07-19',\n",
       " 'order_datetime=2021-03-16',\n",
       " 'order_datetime=2021-04-01',\n",
       " 'order_datetime=2021-07-26',\n",
       " 'order_datetime=2021-07-21',\n",
       " 'order_datetime=2021-04-06']"
      ]
     },
     "execution_count": 10,
     "metadata": {},
     "output_type": "execute_result"
    }
   ],
   "source": [
    "path = \"transactions_20210228_20210827_snapshot/\"\n",
    "list_files = os.listdir(path)\n",
    "list_files = list_files[1:(len(list_files)-1)]\n",
    "list_files"
   ]
  },
  {
   "cell_type": "code",
   "execution_count": null,
   "id": "8bfba2da",
   "metadata": {},
   "outputs": [],
   "source": [
    "# import modules\n",
    "from pyspark.sql import SparkSession\n",
    "import functools\n",
    " \n",
    "# explicit function\n",
    "def unionAll(dfs):\n",
    "    return functools.reduce(lambda df1, df2: df1.union(df2.select(df1.columns)), dfs)\n",
    "\n",
    "# insert datetime\n",
    "file_name = os.listdir(path+ list_files[0])[1]\n",
    "transaction = spark.read.parquet(path+ list_files[0] +\"/\" + file_name)\n",
    "for i in list_files[1:]:\n",
    "    file_name = os.listdir(path + i)[1]\n",
    "    tmp = spark.read.parquet(path+ i +\"/\" + file_name)\n",
    "    transaction = unionAll([transaction, tmp] )"
   ]
  },
  {
   "cell_type": "markdown",
   "id": "eb903c2a",
   "metadata": {},
   "source": [
    "### Inspecting transaction dataset"
   ]
  },
  {
   "cell_type": "code",
   "execution_count": 10,
   "id": "8b422961",
   "metadata": {},
   "outputs": [
    {
     "data": {
      "text/html": [
       "<table border='1'>\n",
       "<tr><th>user_id</th><th>merchant_abn</th><th>dollar_value</th><th>order_id</th><th>order_datetime</th></tr>\n",
       "<tr><td>18478</td><td>62191208634</td><td>63.255848959735246</td><td>949a63c8-29f7-4ab...</td><td>2021-08-20</td></tr>\n",
       "<tr><td>2</td><td>15549624934</td><td>130.3505283105634</td><td>6a84c3cf-612a-457...</td><td>2021-08-20</td></tr>\n",
       "<tr><td>18479</td><td>64403598239</td><td>120.15860593212783</td><td>b10dcc33-e53f-425...</td><td>2021-08-20</td></tr>\n",
       "<tr><td>3</td><td>60956456424</td><td>136.6785200286976</td><td>0f09c5a5-784e-447...</td><td>2021-08-20</td></tr>\n",
       "<tr><td>18479</td><td>94493496784</td><td>72.96316578355305</td><td>f6c78c1a-4600-4c5...</td><td>2021-08-20</td></tr>\n",
       "<tr><td>3</td><td>76819856970</td><td>448.529684285612</td><td>5ace6a24-cdf0-4aa...</td><td>2021-08-20</td></tr>\n",
       "<tr><td>18479</td><td>67609108741</td><td>86.4040605836911</td><td>d0e180f0-cb06-42a...</td><td>2021-08-20</td></tr>\n",
       "<tr><td>3</td><td>34096466752</td><td>301.5793450525113</td><td>6fb1ff48-24bb-4f9...</td><td>2021-08-20</td></tr>\n",
       "<tr><td>18482</td><td>70501974849</td><td>68.75486276223054</td><td>8505fb33-b69a-412...</td><td>2021-08-20</td></tr>\n",
       "<tr><td>4</td><td>49891706470</td><td>48.89796461900801</td><td>ed11e477-b09f-4ae...</td><td>2021-08-20</td></tr>\n",
       "<tr><td>18482</td><td>46804135891</td><td>6.6168976971833615</td><td>05b5edb5-b925-414...</td><td>2021-08-20</td></tr>\n",
       "<tr><td>7</td><td>33064796871</td><td>373.0873675184212</td><td>fe188788-b89f-4dd...</td><td>2021-08-20</td></tr>\n",
       "<tr><td>18483</td><td>44160392990</td><td>83.98473054761176</td><td>7c44302d-98b3-48b...</td><td>2021-08-20</td></tr>\n",
       "<tr><td>7</td><td>68435002949</td><td>232.5364986739752</td><td>b4a89891-a113-45e...</td><td>2021-08-20</td></tr>\n",
       "<tr><td>18484</td><td>70033549200</td><td>871.7678061729196</td><td>4b1d941a-21a1-43e...</td><td>2021-08-20</td></tr>\n",
       "<tr><td>7</td><td>41944909975</td><td>30.910755230234322</td><td>302ae628-8eba-4a5...</td><td>2021-08-20</td></tr>\n",
       "<tr><td>18485</td><td>41705715409</td><td>309.5417224575787</td><td>67f4f98e-3149-4e8...</td><td>2021-08-20</td></tr>\n",
       "<tr><td>8</td><td>29566626791</td><td>74.15732460440282</td><td>71a81652-cc91-4bf...</td><td>2021-08-20</td></tr>\n",
       "<tr><td>18487</td><td>32361057556</td><td>119.19055863068847</td><td>15577921-1104-470...</td><td>2021-08-20</td></tr>\n",
       "<tr><td>9</td><td>47663262928</td><td>36.69873283148887</td><td>c4fcb49a-ce87-4e1...</td><td>2021-08-20</td></tr>\n",
       "</table>\n",
       "only showing top 20 rows\n"
      ],
      "text/plain": [
       "+-------+------------+------------------+--------------------+--------------+\n",
       "|user_id|merchant_abn|      dollar_value|            order_id|order_datetime|\n",
       "+-------+------------+------------------+--------------------+--------------+\n",
       "|  18478| 62191208634|63.255848959735246|949a63c8-29f7-4ab...|    2021-08-20|\n",
       "|      2| 15549624934| 130.3505283105634|6a84c3cf-612a-457...|    2021-08-20|\n",
       "|  18479| 64403598239|120.15860593212783|b10dcc33-e53f-425...|    2021-08-20|\n",
       "|      3| 60956456424| 136.6785200286976|0f09c5a5-784e-447...|    2021-08-20|\n",
       "|  18479| 94493496784| 72.96316578355305|f6c78c1a-4600-4c5...|    2021-08-20|\n",
       "|      3| 76819856970|  448.529684285612|5ace6a24-cdf0-4aa...|    2021-08-20|\n",
       "|  18479| 67609108741|  86.4040605836911|d0e180f0-cb06-42a...|    2021-08-20|\n",
       "|      3| 34096466752| 301.5793450525113|6fb1ff48-24bb-4f9...|    2021-08-20|\n",
       "|  18482| 70501974849| 68.75486276223054|8505fb33-b69a-412...|    2021-08-20|\n",
       "|      4| 49891706470| 48.89796461900801|ed11e477-b09f-4ae...|    2021-08-20|\n",
       "|  18482| 46804135891|6.6168976971833615|05b5edb5-b925-414...|    2021-08-20|\n",
       "|      7| 33064796871| 373.0873675184212|fe188788-b89f-4dd...|    2021-08-20|\n",
       "|  18483| 44160392990| 83.98473054761176|7c44302d-98b3-48b...|    2021-08-20|\n",
       "|      7| 68435002949| 232.5364986739752|b4a89891-a113-45e...|    2021-08-20|\n",
       "|  18484| 70033549200| 871.7678061729196|4b1d941a-21a1-43e...|    2021-08-20|\n",
       "|      7| 41944909975|30.910755230234322|302ae628-8eba-4a5...|    2021-08-20|\n",
       "|  18485| 41705715409| 309.5417224575787|67f4f98e-3149-4e8...|    2021-08-20|\n",
       "|      8| 29566626791| 74.15732460440282|71a81652-cc91-4bf...|    2021-08-20|\n",
       "|  18487| 32361057556|119.19055863068847|15577921-1104-470...|    2021-08-20|\n",
       "|      9| 47663262928| 36.69873283148887|c4fcb49a-ce87-4e1...|    2021-08-20|\n",
       "+-------+------------+------------------+--------------------+--------------+\n",
       "only showing top 20 rows"
      ]
     },
     "execution_count": 10,
     "metadata": {},
     "output_type": "execute_result"
    }
   ],
   "source": [
    "transaction"
   ]
  },
  {
   "cell_type": "code",
   "execution_count": 8,
   "id": "c42781c2",
   "metadata": {},
   "outputs": [
    {
     "name": "stdout",
     "output_type": "stream",
     "text": [
      "root\n",
      " |-- user_id: long (nullable = true)\n",
      " |-- merchant_abn: long (nullable = true)\n",
      " |-- dollar_value: double (nullable = true)\n",
      " |-- order_id: string (nullable = true)\n",
      " |-- order_datetime: date (nullable = true)\n",
      "\n"
     ]
    }
   ],
   "source": [
    "transaction.printSchema()"
   ]
  },
  {
   "cell_type": "code",
   "execution_count": 11,
   "id": "e30de101",
   "metadata": {},
   "outputs": [
    {
     "name": "stderr",
     "output_type": "stream",
     "text": [
      "[Stage 60:>                                                       (0 + 12) / 13]\r"
     ]
    },
    {
     "name": "stdout",
     "output_type": "stream",
     "text": [
      "Dataset details: \n",
      "\tNumber of rows: 3643266 \n",
      "\tNumber of distinct order: 3643266 \n",
      "\tPeriod: 2021-02-28 - 2021-08-27\n"
     ]
    },
    {
     "name": "stderr",
     "output_type": "stream",
     "text": [
      "                                                                                \r"
     ]
    }
   ],
   "source": [
    "min_date, max_date = transaction.select(min(\"order_datetime\"), max(\"order_datetime\")).first()\n",
    "\n",
    "print(f\"Dataset details: \\n\\tNumber of rows: {transaction.count()}\", \\\n",
    "      f\"\\n\\tNumber of distinct order: {transaction.select('order_id').distinct().count()}\", \\\n",
    "      f\"\\n\\tPeriod: {min_date} - {max_date}\")"
   ]
  },
  {
   "cell_type": "markdown",
   "id": "460d7b22",
   "metadata": {},
   "source": [
    "### Checking for missing values in transaction dataset"
   ]
  },
  {
   "cell_type": "code",
   "execution_count": 12,
   "id": "84fa497f",
   "metadata": {},
   "outputs": [
    {
     "name": "stderr",
     "output_type": "stream",
     "text": [
      "                                                                                \r"
     ]
    },
    {
     "data": {
      "text/html": [
       "<table border='1'>\n",
       "<tr><th>user_id</th><th>merchant_abn</th><th>dollar_value</th><th>order_id</th></tr>\n",
       "<tr><td>0</td><td>0</td><td>0</td><td>0</td></tr>\n",
       "</table>\n"
      ],
      "text/plain": [
       "+-------+------------+------------+--------+\n",
       "|user_id|merchant_abn|dollar_value|order_id|\n",
       "+-------+------------+------------+--------+\n",
       "|      0|           0|           0|       0|\n",
       "+-------+------------+------------+--------+"
      ]
     },
     "execution_count": 12,
     "metadata": {},
     "output_type": "execute_result"
    }
   ],
   "source": [
    "missing_values_check(transaction)"
   ]
  },
  {
   "cell_type": "code",
   "execution_count": 13,
   "id": "d438def5",
   "metadata": {},
   "outputs": [
    {
     "name": "stderr",
     "output_type": "stream",
     "text": [
      "                                                                                \r"
     ]
    },
    {
     "data": {
      "text/plain": [
       "3643266"
      ]
     },
     "execution_count": 13,
     "metadata": {},
     "output_type": "execute_result"
    }
   ],
   "source": [
    "transaction.count()"
   ]
  },
  {
   "cell_type": "markdown",
   "id": "7b7ae258",
   "metadata": {},
   "source": [
    "# Merchant dataset"
   ]
  },
  {
   "cell_type": "code",
   "execution_count": 14,
   "id": "5ddc32c4",
   "metadata": {},
   "outputs": [
    {
     "data": {
      "text/html": [
       "<table border='1'>\n",
       "<tr><th>name</th><th>tags</th><th>merchant_abn</th></tr>\n",
       "<tr><td>Felis Limited</td><td>((furniture, home...</td><td>10023283211</td></tr>\n",
       "<tr><td>Arcu Ac Orci Corp...</td><td>([cable, satellit...</td><td>10142254217</td></tr>\n",
       "<tr><td>Nunc Sed Company</td><td>([jewelry, watch,...</td><td>10165489824</td></tr>\n",
       "<tr><td>Ultricies Digniss...</td><td>([wAtch, clock, a...</td><td>10187291046</td></tr>\n",
       "<tr><td>Enim Condimentum PC</td><td>([music shops - m...</td><td>10192359162</td></tr>\n",
       "<tr><td>Fusce Company</td><td>[(gift, card, nov...</td><td>10206519221</td></tr>\n",
       "<tr><td>Aliquam Enim Inco...</td><td>[(computers, comP...</td><td>10255988167</td></tr>\n",
       "<tr><td>Ipsum Primis Ltd</td><td>[[watch, clock, a...</td><td>10264435225</td></tr>\n",
       "<tr><td>Pede Ultrices Ind...</td><td>([computer progra...</td><td>10279061213</td></tr>\n",
       "<tr><td>Nunc Inc.</td><td>[(furniture, home...</td><td>10323485998</td></tr>\n",
       "<tr><td>Facilisis Facilis...</td><td>([computers, comp...</td><td>10342410215</td></tr>\n",
       "<tr><td>Odio Institute</td><td>((equipment, tool...</td><td>10346855916</td></tr>\n",
       "<tr><td>Rutrum Justo Ltd</td><td>([music shops - m...</td><td>10364012396</td></tr>\n",
       "<tr><td>Tellus Foundation</td><td>[[artist supply a...</td><td>10385011947</td></tr>\n",
       "<tr><td>Sed Et Company</td><td>([florists suppli...</td><td>10385163239</td></tr>\n",
       "<tr><td>Id Ltd</td><td>([computers, comp...</td><td>10385250025</td></tr>\n",
       "<tr><td>Consequat Foundation</td><td>[[antique shops -...</td><td>10404542215</td></tr>\n",
       "<tr><td>Sit Amet Nulla Corp.</td><td>[[motor vehicle s...</td><td>10430380319</td></tr>\n",
       "<tr><td>Massa Vestibulum ...</td><td>[(moTor vehicle s...</td><td>10441711491</td></tr>\n",
       "<tr><td>Ut Consulting</td><td>([gift, card, nov...</td><td>10462560289</td></tr>\n",
       "</table>\n",
       "only showing top 20 rows\n"
      ],
      "text/plain": [
       "+--------------------+--------------------+------------+\n",
       "|                name|                tags|merchant_abn|\n",
       "+--------------------+--------------------+------------+\n",
       "|       Felis Limited|((furniture, home...| 10023283211|\n",
       "|Arcu Ac Orci Corp...|([cable, satellit...| 10142254217|\n",
       "|    Nunc Sed Company|([jewelry, watch,...| 10165489824|\n",
       "|Ultricies Digniss...|([wAtch, clock, a...| 10187291046|\n",
       "| Enim Condimentum PC|([music shops - m...| 10192359162|\n",
       "|       Fusce Company|[(gift, card, nov...| 10206519221|\n",
       "|Aliquam Enim Inco...|[(computers, comP...| 10255988167|\n",
       "|    Ipsum Primis Ltd|[[watch, clock, a...| 10264435225|\n",
       "|Pede Ultrices Ind...|([computer progra...| 10279061213|\n",
       "|           Nunc Inc.|[(furniture, home...| 10323485998|\n",
       "|Facilisis Facilis...|([computers, comp...| 10342410215|\n",
       "|      Odio Institute|((equipment, tool...| 10346855916|\n",
       "|    Rutrum Justo Ltd|([music shops - m...| 10364012396|\n",
       "|   Tellus Foundation|[[artist supply a...| 10385011947|\n",
       "|      Sed Et Company|([florists suppli...| 10385163239|\n",
       "|              Id Ltd|([computers, comp...| 10385250025|\n",
       "|Consequat Foundation|[[antique shops -...| 10404542215|\n",
       "|Sit Amet Nulla Corp.|[[motor vehicle s...| 10430380319|\n",
       "|Massa Vestibulum ...|[(moTor vehicle s...| 10441711491|\n",
       "|       Ut Consulting|([gift, card, nov...| 10462560289|\n",
       "+--------------------+--------------------+------------+\n",
       "only showing top 20 rows"
      ]
     },
     "execution_count": 14,
     "metadata": {},
     "output_type": "execute_result"
    }
   ],
   "source": [
    "merchant = spark.read.parquet(\"tbl_merchants.parquet\")\n",
    "merchant"
   ]
  },
  {
   "cell_type": "code",
   "execution_count": 15,
   "id": "476dc842",
   "metadata": {},
   "outputs": [
    {
     "name": "stdout",
     "output_type": "stream",
     "text": [
      "root\n",
      " |-- name: string (nullable = true)\n",
      " |-- tags: string (nullable = true)\n",
      " |-- merchant_abn: long (nullable = true)\n",
      "\n"
     ]
    }
   ],
   "source": [
    "merchant.printSchema()"
   ]
  },
  {
   "cell_type": "code",
   "execution_count": 16,
   "id": "38f195f3",
   "metadata": {},
   "outputs": [
    {
     "name": "stdout",
     "output_type": "stream",
     "text": [
      "Dataset details: \n",
      "\tNumber of rows: 4026 \n",
      "\tNumber of distinct Merchant ABN: 4026\n"
     ]
    }
   ],
   "source": [
    "print(f\"Dataset details: \\n\\tNumber of rows: {merchant.count()}\", \\\n",
    "      f\"\\n\\tNumber of distinct Merchant ABN: {merchant.select('merchant_abn').distinct().count()}\")"
   ]
  },
  {
   "cell_type": "markdown",
   "id": "95b644f9",
   "metadata": {},
   "source": [
    "### Checking for missing values in merchant dataset"
   ]
  },
  {
   "cell_type": "code",
   "execution_count": 115,
   "id": "23db193c",
   "metadata": {},
   "outputs": [
    {
     "data": {
      "text/html": [
       "<table border='1'>\n",
       "<tr><th>name</th><th>tags</th><th>merchant_abn</th></tr>\n",
       "<tr><td>0</td><td>0</td><td>0</td></tr>\n",
       "</table>\n"
      ],
      "text/plain": [
       "+----+----+------------+\n",
       "|name|tags|merchant_abn|\n",
       "+----+----+------------+\n",
       "|   0|   0|           0|\n",
       "+----+----+------------+"
      ]
     },
     "execution_count": 115,
     "metadata": {},
     "output_type": "execute_result"
    }
   ],
   "source": [
    "missing_values_check(merchant)"
   ]
  },
  {
   "cell_type": "markdown",
   "id": "b628402d",
   "metadata": {},
   "source": [
    "### The tags column consists of tags, revenue levels and take rate of a merchant\n",
    "- **Revenue Levels**: (a, b, c, d, e) represents the **level of revenue bands** (unknown to groups). a denotes the smallest band whilst e denotes the highest revenue band. <font color='red'>**Highly relevant in ranking merchant</font> \n",
    "- **Take Rate**: the **fee charged by the BNPL firm** to a merchant on a transaction. That is, for each transaction made, a certain percentage is taken by the BNPL firm.<font color='red'>**Highly relevant in ranking merchant</font> \n",
    "- The dataset has been created to mimic a Salesforce data extract (i.e salespeople will type in tags and segments within a **free-text** field). <font color='red'>This suggests use of lemmatizating/stemming/fuzzy methods to group similar texts?</font> \n",
    "- As such, please be aware of small **human errors** when parsing the dataset.\n",
    "- For Example, the tag field may have errors as they were manually input by employees."
   ]
  },
  {
   "cell_type": "markdown",
   "id": "afb77c16",
   "metadata": {},
   "source": [
    "Since the data is small, we will be using Pandas to deal with Merchant data for convenience."
   ]
  },
  {
   "cell_type": "code",
   "execution_count": 19,
   "id": "00afbd4f",
   "metadata": {},
   "outputs": [
    {
     "ename": "AttributeError",
     "evalue": "'DataFrame' object has no attribute 'toPandas'",
     "output_type": "error",
     "traceback": [
      "\u001b[0;31m---------------------------------------------------------------------------\u001b[0m",
      "\u001b[0;31mAttributeError\u001b[0m                            Traceback (most recent call last)",
      "\u001b[1;32m/mnt/d/Unimelb/Year 3 Sem 2/Applied Data Science/Project 2 Github/generic-buy-now-pay-later-project-group-19/notebooks/ETL.ipynb Cell 36\u001b[0m in \u001b[0;36m<cell line: 1>\u001b[0;34m()\u001b[0m\n\u001b[0;32m----> <a href='vscode-notebook-cell://wsl%2Bubuntu-20.04/mnt/d/Unimelb/Year%203%20Sem%202/Applied%20Data%20Science/Project%202%20Github/generic-buy-now-pay-later-project-group-19/notebooks/ETL.ipynb#X50sdnNjb2RlLXJlbW90ZQ%3D%3D?line=0'>1</a>\u001b[0m merchant \u001b[39m=\u001b[39m merchant\u001b[39m.\u001b[39;49mtoPandas()\n",
      "File \u001b[0;32m~/.local/lib/python3.8/site-packages/pandas/core/generic.py:5575\u001b[0m, in \u001b[0;36mNDFrame.__getattr__\u001b[0;34m(self, name)\u001b[0m\n\u001b[1;32m   5568\u001b[0m \u001b[39mif\u001b[39;00m (\n\u001b[1;32m   5569\u001b[0m     name \u001b[39mnot\u001b[39;00m \u001b[39min\u001b[39;00m \u001b[39mself\u001b[39m\u001b[39m.\u001b[39m_internal_names_set\n\u001b[1;32m   5570\u001b[0m     \u001b[39mand\u001b[39;00m name \u001b[39mnot\u001b[39;00m \u001b[39min\u001b[39;00m \u001b[39mself\u001b[39m\u001b[39m.\u001b[39m_metadata\n\u001b[1;32m   5571\u001b[0m     \u001b[39mand\u001b[39;00m name \u001b[39mnot\u001b[39;00m \u001b[39min\u001b[39;00m \u001b[39mself\u001b[39m\u001b[39m.\u001b[39m_accessors\n\u001b[1;32m   5572\u001b[0m     \u001b[39mand\u001b[39;00m \u001b[39mself\u001b[39m\u001b[39m.\u001b[39m_info_axis\u001b[39m.\u001b[39m_can_hold_identifiers_and_holds_name(name)\n\u001b[1;32m   5573\u001b[0m ):\n\u001b[1;32m   5574\u001b[0m     \u001b[39mreturn\u001b[39;00m \u001b[39mself\u001b[39m[name]\n\u001b[0;32m-> 5575\u001b[0m \u001b[39mreturn\u001b[39;00m \u001b[39mobject\u001b[39;49m\u001b[39m.\u001b[39;49m\u001b[39m__getattribute__\u001b[39;49m(\u001b[39mself\u001b[39;49m, name)\n",
      "\u001b[0;31mAttributeError\u001b[0m: 'DataFrame' object has no attribute 'toPandas'"
     ]
    }
   ],
   "source": [
    "merchant = merchant.toPandas()"
   ]
  },
  {
   "cell_type": "code",
   "execution_count": 20,
   "id": "42711880",
   "metadata": {},
   "outputs": [
    {
     "name": "stdout",
     "output_type": "stream",
     "text": [
      "((furniture, home furnishings and equipment shops, and manufacturers, except appliances), (e), (take rate: 0.18))\n",
      "([cable, satellite, and otHer pay television and radio services], [b], [take rate: 4.22])\n",
      "([jewelry, watch, clock, and silverware shops], [b], [take rate: 4.40])\n",
      "([wAtch, clock, and jewelry repair shops], [b], [take rate: 3.29])\n",
      "([music shops - musical instruments, pianos, and sheet music], [a], [take rate: 6.33])\n"
     ]
    }
   ],
   "source": [
    "# Display first 5 rows for \"tags\"\n",
    "for idx, row in merchant.head(5).iterrows():\n",
    "    print(row['tags'])\n"
   ]
  },
  {
   "cell_type": "markdown",
   "id": "d3bf034a",
   "metadata": {},
   "source": [
    "### Extract Revenue Levels and Take Rate columns"
   ]
  },
  {
   "cell_type": "code",
   "execution_count": 21,
   "id": "196915ad",
   "metadata": {},
   "outputs": [],
   "source": [
    "# Function to extract tags, revenue level and take rate from tags column\n",
    "def extract_tags(arr, category='tags'):\n",
    "    \n",
    "    # Split tags into the three components\n",
    "    arr = arr[1:-1]\n",
    "    split_arr = re.split('\\), \\(|\\], \\[', arr.strip('[()]'))\n",
    "    \n",
    "    if category == 'take_rate':\n",
    "        return re.findall('[\\d\\.\\d]+', split_arr[2])[0]\n",
    "    \n",
    "    elif category == 'revenue_level':\n",
    "        return split_arr[1].lower()\n",
    "    \n",
    "    return split_arr[0].lower()\n"
   ]
  },
  {
   "cell_type": "code",
   "execution_count": 22,
   "id": "edcf8d17",
   "metadata": {},
   "outputs": [],
   "source": [
    "# Extract all three components in tags as standalone columns\n",
    "merchant['take_rate'] = merchant['tags'].apply(lambda x : extract_tags(x, 'take_rate'))\n",
    "merchant['revenue_level'] = merchant['tags'].apply(lambda x : extract_tags(x, 'revenue_level'))\n",
    "merchant['tags'] = merchant['tags'].apply(lambda x : extract_tags(x, 'tags'))\n"
   ]
  },
  {
   "cell_type": "code",
   "execution_count": 23,
   "id": "fa04047f",
   "metadata": {},
   "outputs": [
    {
     "name": "stdout",
     "output_type": "stream",
     "text": [
      "Unique value in Revenue Level: ['e' 'b' 'a' 'c' 'd']\n",
      "Range of Take Rate: 0.10 - 7.00\n"
     ]
    }
   ],
   "source": [
    "# Check if we extracted the take_rate and rev_level values correctly\n",
    "print(f\"Unique value in Revenue Level: {merchant['revenue_level'].unique()}\")\n",
    "print(f\"Range of Take Rate: {merchant['take_rate'].min()} - {merchant['take_rate'].max()}\")\n"
   ]
  },
  {
   "cell_type": "code",
   "execution_count": 24,
   "id": "3de0fff1",
   "metadata": {},
   "outputs": [
    {
     "data": {
      "text/plain": [
       "name             object\n",
       "tags             object\n",
       "merchant_abn      int64\n",
       "take_rate        object\n",
       "revenue_level    object\n",
       "dtype: object"
      ]
     },
     "execution_count": 24,
     "metadata": {},
     "output_type": "execute_result"
    }
   ],
   "source": [
    "# Check data type for columns\n",
    "merchant.dtypes"
   ]
  },
  {
   "cell_type": "code",
   "execution_count": 28,
   "id": "a4961b7a",
   "metadata": {},
   "outputs": [
    {
     "data": {
      "text/html": [
       "<div>\n",
       "<style scoped>\n",
       "    .dataframe tbody tr th:only-of-type {\n",
       "        vertical-align: middle;\n",
       "    }\n",
       "\n",
       "    .dataframe tbody tr th {\n",
       "        vertical-align: top;\n",
       "    }\n",
       "\n",
       "    .dataframe thead th {\n",
       "        text-align: right;\n",
       "    }\n",
       "</style>\n",
       "<table border=\"1\" class=\"dataframe\">\n",
       "  <thead>\n",
       "    <tr style=\"text-align: right;\">\n",
       "      <th></th>\n",
       "      <th>name</th>\n",
       "      <th>tags</th>\n",
       "      <th>merchant_abn</th>\n",
       "      <th>take_rate</th>\n",
       "      <th>revenue_level</th>\n",
       "    </tr>\n",
       "  </thead>\n",
       "  <tbody>\n",
       "    <tr>\n",
       "      <th>0</th>\n",
       "      <td>Felis Limited</td>\n",
       "      <td>furniture, home furnishings and equipment shop...</td>\n",
       "      <td>10023283211</td>\n",
       "      <td>0.18</td>\n",
       "      <td>e</td>\n",
       "    </tr>\n",
       "    <tr>\n",
       "      <th>1</th>\n",
       "      <td>Arcu Ac Orci Corporation</td>\n",
       "      <td>cable, satellite, and other pay television and...</td>\n",
       "      <td>10142254217</td>\n",
       "      <td>4.22</td>\n",
       "      <td>b</td>\n",
       "    </tr>\n",
       "    <tr>\n",
       "      <th>2</th>\n",
       "      <td>Nunc Sed Company</td>\n",
       "      <td>jewelry, watch, clock, and silverware shops</td>\n",
       "      <td>10165489824</td>\n",
       "      <td>4.40</td>\n",
       "      <td>b</td>\n",
       "    </tr>\n",
       "    <tr>\n",
       "      <th>3</th>\n",
       "      <td>Ultricies Dignissim Lacus Foundation</td>\n",
       "      <td>watch, clock, and jewelry repair shops</td>\n",
       "      <td>10187291046</td>\n",
       "      <td>3.29</td>\n",
       "      <td>b</td>\n",
       "    </tr>\n",
       "    <tr>\n",
       "      <th>4</th>\n",
       "      <td>Enim Condimentum PC</td>\n",
       "      <td>music shops - musical instruments, pianos, and...</td>\n",
       "      <td>10192359162</td>\n",
       "      <td>6.33</td>\n",
       "      <td>a</td>\n",
       "    </tr>\n",
       "    <tr>\n",
       "      <th>...</th>\n",
       "      <td>...</td>\n",
       "      <td>...</td>\n",
       "      <td>...</td>\n",
       "      <td>...</td>\n",
       "      <td>...</td>\n",
       "    </tr>\n",
       "    <tr>\n",
       "      <th>4021</th>\n",
       "      <td>Elit Dictum Eu Ltd</td>\n",
       "      <td>opticians, optical goods, and eyeglasses</td>\n",
       "      <td>99938978285</td>\n",
       "      <td>4.50</td>\n",
       "      <td>b</td>\n",
       "    </tr>\n",
       "    <tr>\n",
       "      <th>4022</th>\n",
       "      <td>Mollis LLP</td>\n",
       "      <td>books, periodicals, and newspapers</td>\n",
       "      <td>99974311662</td>\n",
       "      <td>3.17</td>\n",
       "      <td>b</td>\n",
       "    </tr>\n",
       "    <tr>\n",
       "      <th>4023</th>\n",
       "      <td>Sociosqu Corp.</td>\n",
       "      <td>shoe  shops</td>\n",
       "      <td>99976658299</td>\n",
       "      <td>6.57</td>\n",
       "      <td>a</td>\n",
       "    </tr>\n",
       "    <tr>\n",
       "      <th>4024</th>\n",
       "      <td>Commodo Hendrerit LLC</td>\n",
       "      <td>motor vehicle supplies and new parts</td>\n",
       "      <td>99987905597</td>\n",
       "      <td>6.82</td>\n",
       "      <td>a</td>\n",
       "    </tr>\n",
       "    <tr>\n",
       "      <th>4025</th>\n",
       "      <td>Massa PC</td>\n",
       "      <td>motor vehicle supplies and new parts</td>\n",
       "      <td>99990536339</td>\n",
       "      <td>0.18</td>\n",
       "      <td>e</td>\n",
       "    </tr>\n",
       "  </tbody>\n",
       "</table>\n",
       "<p>4026 rows × 5 columns</p>\n",
       "</div>"
      ],
      "text/plain": [
       "                                      name  \\\n",
       "0                            Felis Limited   \n",
       "1                 Arcu Ac Orci Corporation   \n",
       "2                         Nunc Sed Company   \n",
       "3     Ultricies Dignissim Lacus Foundation   \n",
       "4                      Enim Condimentum PC   \n",
       "...                                    ...   \n",
       "4021                    Elit Dictum Eu Ltd   \n",
       "4022                            Mollis LLP   \n",
       "4023                        Sociosqu Corp.   \n",
       "4024                 Commodo Hendrerit LLC   \n",
       "4025                              Massa PC   \n",
       "\n",
       "                                                   tags  merchant_abn  \\\n",
       "0     furniture, home furnishings and equipment shop...   10023283211   \n",
       "1     cable, satellite, and other pay television and...   10142254217   \n",
       "2           jewelry, watch, clock, and silverware shops   10165489824   \n",
       "3                watch, clock, and jewelry repair shops   10187291046   \n",
       "4     music shops - musical instruments, pianos, and...   10192359162   \n",
       "...                                                 ...           ...   \n",
       "4021           opticians, optical goods, and eyeglasses   99938978285   \n",
       "4022                 books, periodicals, and newspapers   99974311662   \n",
       "4023                                        shoe  shops   99976658299   \n",
       "4024               motor vehicle supplies and new parts   99987905597   \n",
       "4025               motor vehicle supplies and new parts   99990536339   \n",
       "\n",
       "      take_rate revenue_level  \n",
       "0          0.18             e  \n",
       "1          4.22             b  \n",
       "2          4.40             b  \n",
       "3          3.29             b  \n",
       "4          6.33             a  \n",
       "...         ...           ...  \n",
       "4021       4.50             b  \n",
       "4022       3.17             b  \n",
       "4023       6.57             a  \n",
       "4024       6.82             a  \n",
       "4025       0.18             e  \n",
       "\n",
       "[4026 rows x 5 columns]"
      ]
     },
     "execution_count": 28,
     "metadata": {},
     "output_type": "execute_result"
    }
   ],
   "source": [
    "merchant"
   ]
  },
  {
   "cell_type": "code",
   "execution_count": 25,
   "id": "59999e40",
   "metadata": {},
   "outputs": [],
   "source": [
    "merchant['take_rate'] = pd.to_numeric(merchant['take_rate'])"
   ]
  },
  {
   "cell_type": "code",
   "execution_count": 26,
   "id": "0d8c1b07",
   "metadata": {},
   "outputs": [
    {
     "data": {
      "text/plain": [
       "name              object\n",
       "tags              object\n",
       "merchant_abn       int64\n",
       "take_rate        float64\n",
       "revenue_level     object\n",
       "dtype: object"
      ]
     },
     "execution_count": 26,
     "metadata": {},
     "output_type": "execute_result"
    }
   ],
   "source": [
    "# Check data type for columns\n",
    "merchant.dtypes"
   ]
  },
  {
   "cell_type": "code",
   "execution_count": 29,
   "id": "3080d8f0",
   "metadata": {},
   "outputs": [],
   "source": [
    "merchant.to_csv('../curated/clean_merchant.csv')"
   ]
  },
  {
   "cell_type": "markdown",
   "id": "fac89c80",
   "metadata": {},
   "source": [
    "# Aggregation\n",
    "\n",
    "Here we generate various aggregate data to supplement our analyses and modelling."
   ]
  },
  {
   "cell_type": "markdown",
   "id": "9a27b933",
   "metadata": {},
   "source": [
    "### Merchant Sales"
   ]
  },
  {
   "cell_type": "code",
   "execution_count": 30,
   "id": "c9863407",
   "metadata": {},
   "outputs": [],
   "source": [
    "# Generate data which summarizes merchants' sales\n",
    "merchant_sales = (transaction.groupby('merchant_abn', 'order_datetime')\n",
    "                             .agg({'dollar_value':'sum',\n",
    "                                   'order_id':'count'})\n",
    "                             .withColumnRenamed('sum(dollar_value)', 'sales_revenue')\n",
    "                             .withColumnRenamed('count(order_id)', 'no_orders'))"
   ]
  },
  {
   "cell_type": "code",
   "execution_count": 42,
   "id": "569f2db4",
   "metadata": {},
   "outputs": [
    {
     "name": "stderr",
     "output_type": "stream",
     "text": [
      "                                                                                \r"
     ]
    },
    {
     "data": {
      "text/plain": [
       "385132"
      ]
     },
     "execution_count": 42,
     "metadata": {},
     "output_type": "execute_result"
    }
   ],
   "source": [
    "merchant_sales.count()"
   ]
  },
  {
   "cell_type": "code",
   "execution_count": 32,
   "id": "97528a4e",
   "metadata": {},
   "outputs": [
    {
     "name": "stderr",
     "output_type": "stream",
     "text": [
      "[Stage 92:====>                                                   (1 + 11) / 12]\r"
     ]
    },
    {
     "name": "stdout",
     "output_type": "stream",
     "text": [
      "22/09/03 11:51:40 WARN MemoryManager: Total allocation exceeds 95.00% (906,992,014 bytes) of heap memory\n",
      "Scaling row group sizes to 96.54% for 7 writers\n",
      "22/09/03 11:51:40 WARN MemoryManager: Total allocation exceeds 95.00% (906,992,014 bytes) of heap memory\n",
      "Scaling row group sizes to 84.47% for 8 writers\n"
     ]
    },
    {
     "name": "stderr",
     "output_type": "stream",
     "text": [
      "[Stage 94:>                                                         (0 + 8) / 8]\r"
     ]
    },
    {
     "name": "stdout",
     "output_type": "stream",
     "text": [
      "22/09/03 11:51:40 WARN MemoryManager: Total allocation exceeds 95.00% (906,992,014 bytes) of heap memory\n",
      "Scaling row group sizes to 96.54% for 7 writers\n"
     ]
    },
    {
     "name": "stderr",
     "output_type": "stream",
     "text": [
      "                                                                                \r"
     ]
    }
   ],
   "source": [
    "# Download data\n",
    "merchant_sales.write.parquet(\"../curated/merchant_sales.parquet\")"
   ]
  },
  {
   "cell_type": "markdown",
   "id": "d95626c2",
   "metadata": {},
   "source": [
    "### Customers Purchase Behaviour"
   ]
  },
  {
   "cell_type": "code",
   "execution_count": 33,
   "id": "d2fba7b7",
   "metadata": {},
   "outputs": [],
   "source": [
    "# Generate data which summarizes customers spendings\n",
    "customer_purchases = (transaction.groupby('user_id', 'order_datetime')\n",
    "                                 .agg({'dollar_value':'sum',\n",
    "                                       'order_id':'count'})\n",
    "                                 .withColumnRenamed('sum(dollar_value)', 'dollar_spent')\n",
    "                                 .withColumnRenamed('count(order_id)', 'no_orders'))\n"
   ]
  },
  {
   "cell_type": "code",
   "execution_count": 34,
   "id": "745f147a",
   "metadata": {},
   "outputs": [
    {
     "name": "stderr",
     "output_type": "stream",
     "text": [
      "                                                                                \r"
     ]
    },
    {
     "data": {
      "text/html": [
       "<table border='1'>\n",
       "<tr><th>user_id</th><th>order_datetime</th><th>dollar_spent</th><th>no_orders</th></tr>\n",
       "<tr><td>18488</td><td>2021-08-20</td><td>468.9797223930378</td><td>3</td></tr>\n",
       "<tr><td>686</td><td>2021-08-20</td><td>231.87884410751695</td><td>2</td></tr>\n",
       "<tr><td>19292</td><td>2021-08-20</td><td>961.7931435852486</td><td>1</td></tr>\n",
       "<tr><td>778</td><td>2021-08-20</td><td>64.44320007323647</td><td>2</td></tr>\n",
       "<tr><td>786</td><td>2021-08-20</td><td>80.29337626952264</td><td>1</td></tr>\n",
       "<tr><td>19476</td><td>2021-08-20</td><td>506.69827263377283</td><td>2</td></tr>\n",
       "<tr><td>19497</td><td>2021-08-20</td><td>185.18180257359967</td><td>2</td></tr>\n",
       "<tr><td>19628</td><td>2021-08-20</td><td>421.706928005088</td><td>2</td></tr>\n",
       "<tr><td>19631</td><td>2021-08-20</td><td>15.836078616105175</td><td>1</td></tr>\n",
       "<tr><td>19672</td><td>2021-08-20</td><td>58.311520840379146</td><td>3</td></tr>\n",
       "<tr><td>1205</td><td>2021-08-20</td><td>115.134188726205</td><td>2</td></tr>\n",
       "<tr><td>1491</td><td>2021-08-20</td><td>162.98586479264534</td><td>2</td></tr>\n",
       "<tr><td>1691</td><td>2021-08-20</td><td>357.30538098715726</td><td>1</td></tr>\n",
       "<tr><td>1693</td><td>2021-08-20</td><td>359.4497819857119</td><td>3</td></tr>\n",
       "<tr><td>20431</td><td>2021-08-20</td><td>6.212269201799761</td><td>1</td></tr>\n",
       "<tr><td>20834</td><td>2021-08-20</td><td>51.921419955145815</td><td>1</td></tr>\n",
       "<tr><td>2243</td><td>2021-08-20</td><td>338.23809472641636</td><td>4</td></tr>\n",
       "<tr><td>21061</td><td>2021-08-20</td><td>51.943165085659054</td><td>1</td></tr>\n",
       "<tr><td>2647</td><td>2021-08-20</td><td>181.92268348829896</td><td>1</td></tr>\n",
       "<tr><td>2716</td><td>2021-08-20</td><td>134.35872561661037</td><td>2</td></tr>\n",
       "</table>\n",
       "only showing top 20 rows\n"
      ],
      "text/plain": [
       "+-------+--------------+------------------+---------+\n",
       "|user_id|order_datetime|      dollar_spent|no_orders|\n",
       "+-------+--------------+------------------+---------+\n",
       "|  18488|    2021-08-20| 468.9797223930378|        3|\n",
       "|    686|    2021-08-20|231.87884410751695|        2|\n",
       "|  19292|    2021-08-20| 961.7931435852486|        1|\n",
       "|    778|    2021-08-20| 64.44320007323647|        2|\n",
       "|    786|    2021-08-20| 80.29337626952264|        1|\n",
       "|  19476|    2021-08-20|506.69827263377283|        2|\n",
       "|  19497|    2021-08-20|185.18180257359967|        2|\n",
       "|  19628|    2021-08-20|  421.706928005088|        2|\n",
       "|  19631|    2021-08-20|15.836078616105175|        1|\n",
       "|  19672|    2021-08-20|58.311520840379146|        3|\n",
       "|   1205|    2021-08-20|  115.134188726205|        2|\n",
       "|   1491|    2021-08-20|162.98586479264534|        2|\n",
       "|   1691|    2021-08-20|357.30538098715726|        1|\n",
       "|   1693|    2021-08-20| 359.4497819857119|        3|\n",
       "|  20431|    2021-08-20| 6.212269201799761|        1|\n",
       "|  20834|    2021-08-20|51.921419955145815|        1|\n",
       "|   2243|    2021-08-20|338.23809472641636|        4|\n",
       "|  21061|    2021-08-20|51.943165085659054|        1|\n",
       "|   2647|    2021-08-20|181.92268348829896|        1|\n",
       "|   2716|    2021-08-20|134.35872561661037|        2|\n",
       "+-------+--------------+------------------+---------+\n",
       "only showing top 20 rows"
      ]
     },
     "execution_count": 34,
     "metadata": {},
     "output_type": "execute_result"
    }
   ],
   "source": [
    "customer_purchases"
   ]
  },
  {
   "cell_type": "code",
   "execution_count": 35,
   "id": "b40fd062",
   "metadata": {},
   "outputs": [
    {
     "name": "stderr",
     "output_type": "stream",
     "text": [
      "[Stage 101:=========>                                             (2 + 10) / 12]\r"
     ]
    },
    {
     "name": "stdout",
     "output_type": "stream",
     "text": [
      "22/09/03 11:51:51 WARN MemoryManager: Total allocation exceeds 95.00% (906,992,014 bytes) of heap memory\n",
      "Scaling row group sizes to 96.54% for 7 writers\n",
      "22/09/03 11:51:51 WARN MemoryManager: Total allocation exceeds 95.00% (906,992,014 bytes) of heap memory\n",
      "Scaling row group sizes to 84.47% for 8 writers\n",
      "22/09/03 11:51:51 WARN MemoryManager: Total allocation exceeds 95.00% (906,992,014 bytes) of heap memory\n",
      "Scaling row group sizes to 75.08% for 9 writers\n",
      "22/09/03 11:51:51 WARN MemoryManager: Total allocation exceeds 95.00% (906,992,014 bytes) of heap memory\n",
      "Scaling row group sizes to 67.58% for 10 writers\n",
      "22/09/03 11:51:51 WARN MemoryManager: Total allocation exceeds 95.00% (906,992,014 bytes) of heap memory\n",
      "Scaling row group sizes to 61.43% for 11 writers\n",
      "22/09/03 11:51:51 WARN MemoryManager: Total allocation exceeds 95.00% (906,992,014 bytes) of heap memory\n",
      "Scaling row group sizes to 56.31% for 12 writers\n"
     ]
    },
    {
     "name": "stderr",
     "output_type": "stream",
     "text": [
      "[Stage 103:>                                                      (0 + 12) / 13]\r"
     ]
    },
    {
     "name": "stdout",
     "output_type": "stream",
     "text": [
      "22/09/03 11:51:52 WARN MemoryManager: Total allocation exceeds 95.00% (906,992,014 bytes) of heap memory\n",
      "Scaling row group sizes to 61.43% for 11 writers\n",
      "22/09/03 11:51:52 WARN MemoryManager: Total allocation exceeds 95.00% (906,992,014 bytes) of heap memory\n",
      "Scaling row group sizes to 67.58% for 10 writers\n",
      "22/09/03 11:51:52 WARN MemoryManager: Total allocation exceeds 95.00% (906,992,014 bytes) of heap memory\n",
      "Scaling row group sizes to 75.08% for 9 writers\n",
      "22/09/03 11:51:52 WARN MemoryManager: Total allocation exceeds 95.00% (906,992,014 bytes) of heap memory\n",
      "Scaling row group sizes to 84.47% for 8 writers\n",
      "22/09/03 11:51:52 WARN MemoryManager: Total allocation exceeds 95.00% (906,992,014 bytes) of heap memory\n",
      "Scaling row group sizes to 96.54% for 7 writers\n"
     ]
    },
    {
     "name": "stderr",
     "output_type": "stream",
     "text": [
      "                                                                                \r"
     ]
    }
   ],
   "source": [
    "# Download data\n",
    "customer_purchases.write.parquet(\"../curated/customer_purchase_behaviour.parquet\")"
   ]
  },
  {
   "cell_type": "markdown",
   "id": "14eaff49",
   "metadata": {},
   "source": [
    "### Sales by Region"
   ]
  },
  {
   "cell_type": "code",
   "execution_count": 36,
   "id": "4d3e262b",
   "metadata": {},
   "outputs": [],
   "source": [
    "# Join transaction data with customer data\n",
    "customer_transaction = (transaction.join(user_detail, transaction.user_id == user_detail.user_id)\n",
    "                                   .drop(user_detail.user_id))\n",
    "\n",
    "customer_transaction = (customer_transaction.join(consumer, customer_transaction.consumer_id == consumer.consumer_id)\n",
    "                                            .drop(consumer.consumer_id)\n",
    "                                            .select(transaction['*'], consumer.postcode, consumer.state, consumer.gender))"
   ]
  },
  {
   "cell_type": "code",
   "execution_count": 37,
   "id": "2f4123af",
   "metadata": {},
   "outputs": [
    {
     "name": "stderr",
     "output_type": "stream",
     "text": [
      "                                                                                \r"
     ]
    },
    {
     "data": {
      "text/html": [
       "<table border='1'>\n",
       "<tr><th>user_id</th><th>merchant_abn</th><th>dollar_value</th><th>order_id</th><th>order_datetime</th><th>postcode</th><th>state</th><th>gender</th></tr>\n",
       "<tr><td>3471</td><td>68216911708</td><td>39.2325218595659</td><td>c921263e-489e-45a...</td><td>2021-08-21</td><td>2021</td><td>NSW</td><td>Male</td></tr>\n",
       "<tr><td>3471</td><td>77698107389</td><td>90.16967584866273</td><td>aaea14f5-48e8-4ef...</td><td>2021-08-21</td><td>2021</td><td>NSW</td><td>Male</td></tr>\n",
       "<tr><td>3471</td><td>46451548968</td><td>3.8405569898888428</td><td>7e8e7fca-04a1-4f2...</td><td>2021-08-19</td><td>2021</td><td>NSW</td><td>Male</td></tr>\n",
       "<tr><td>3471</td><td>35556933338</td><td>66.18325079406301</td><td>13b0be6a-20b7-439...</td><td>2021-08-22</td><td>2021</td><td>NSW</td><td>Male</td></tr>\n",
       "<tr><td>3471</td><td>91772719127</td><td>33.692747732339996</td><td>3750984f-4313-47d...</td><td>2021-08-14</td><td>2021</td><td>NSW</td><td>Male</td></tr>\n",
       "<tr><td>3471</td><td>29216160692</td><td>171.76081688162495</td><td>f5917c53-caca-4b6...</td><td>2021-08-15</td><td>2021</td><td>NSW</td><td>Male</td></tr>\n",
       "<tr><td>3471</td><td>32234779638</td><td>80.46099153654205</td><td>b9423d5c-9083-4e6...</td><td>2021-07-15</td><td>2021</td><td>NSW</td><td>Male</td></tr>\n",
       "<tr><td>3471</td><td>68216911708</td><td>60.713668658695276</td><td>94fbe85c-434a-4e6...</td><td>2021-07-15</td><td>2021</td><td>NSW</td><td>Male</td></tr>\n",
       "<tr><td>3471</td><td>75034515922</td><td>5.4642431321898375</td><td>12e4b9c7-1738-481...</td><td>2021-07-15</td><td>2021</td><td>NSW</td><td>Male</td></tr>\n",
       "<tr><td>3471</td><td>24852446429</td><td>56.947518842650844</td><td>8e65c8ee-67f1-411...</td><td>2021-08-16</td><td>2021</td><td>NSW</td><td>Male</td></tr>\n",
       "<tr><td>3471</td><td>60111071436</td><td>65.18552675559465</td><td>5f7d4237-81ca-4e7...</td><td>2021-08-27</td><td>2021</td><td>NSW</td><td>Male</td></tr>\n",
       "<tr><td>3471</td><td>22019664345</td><td>41.38591300683678</td><td>d0a09e6d-27b9-445...</td><td>2021-07-23</td><td>2021</td><td>NSW</td><td>Male</td></tr>\n",
       "<tr><td>3471</td><td>23338656015</td><td>205.42563371167512</td><td>8104669d-ccf3-43a...</td><td>2021-07-23</td><td>2021</td><td>NSW</td><td>Male</td></tr>\n",
       "<tr><td>3471</td><td>94472466107</td><td>52.08746331531157</td><td>2d9872f8-7bfb-4b9...</td><td>2021-05-21</td><td>2021</td><td>NSW</td><td>Male</td></tr>\n",
       "<tr><td>3471</td><td>79645157255</td><td>38.86563882630112</td><td>81b41437-e167-419...</td><td>2021-05-21</td><td>2021</td><td>NSW</td><td>Male</td></tr>\n",
       "<tr><td>3471</td><td>75244502629</td><td>25.044226573432795</td><td>2ced6917-a1d6-4b3...</td><td>2021-05-21</td><td>2021</td><td>NSW</td><td>Male</td></tr>\n",
       "<tr><td>3471</td><td>25884436429</td><td>497.6997419580171</td><td>dd12bbf6-44ec-42a...</td><td>2021-07-30</td><td>2021</td><td>NSW</td><td>Male</td></tr>\n",
       "<tr><td>3471</td><td>29936037423</td><td>84.50125683204189</td><td>2e825100-9a9c-447...</td><td>2021-05-28</td><td>2021</td><td>NSW</td><td>Male</td></tr>\n",
       "<tr><td>3471</td><td>89726005175</td><td>35.35344876130378</td><td>818c3807-db8f-47a...</td><td>2021-08-26</td><td>2021</td><td>NSW</td><td>Male</td></tr>\n",
       "<tr><td>3471</td><td>68216911708</td><td>43.38612720283835</td><td>ef47dcdf-e73e-437...</td><td>2021-06-25</td><td>2021</td><td>NSW</td><td>Male</td></tr>\n",
       "</table>\n",
       "only showing top 20 rows\n"
      ],
      "text/plain": [
       "+-------+------------+------------------+--------------------+--------------+--------+-----+------+\n",
       "|user_id|merchant_abn|      dollar_value|            order_id|order_datetime|postcode|state|gender|\n",
       "+-------+------------+------------------+--------------------+--------------+--------+-----+------+\n",
       "|   3471| 68216911708|  39.2325218595659|c921263e-489e-45a...|    2021-08-21|    2021|  NSW|  Male|\n",
       "|   3471| 77698107389| 90.16967584866273|aaea14f5-48e8-4ef...|    2021-08-21|    2021|  NSW|  Male|\n",
       "|   3471| 46451548968|3.8405569898888428|7e8e7fca-04a1-4f2...|    2021-08-19|    2021|  NSW|  Male|\n",
       "|   3471| 35556933338| 66.18325079406301|13b0be6a-20b7-439...|    2021-08-22|    2021|  NSW|  Male|\n",
       "|   3471| 91772719127|33.692747732339996|3750984f-4313-47d...|    2021-08-14|    2021|  NSW|  Male|\n",
       "|   3471| 29216160692|171.76081688162495|f5917c53-caca-4b6...|    2021-08-15|    2021|  NSW|  Male|\n",
       "|   3471| 32234779638| 80.46099153654205|b9423d5c-9083-4e6...|    2021-07-15|    2021|  NSW|  Male|\n",
       "|   3471| 68216911708|60.713668658695276|94fbe85c-434a-4e6...|    2021-07-15|    2021|  NSW|  Male|\n",
       "|   3471| 75034515922|5.4642431321898375|12e4b9c7-1738-481...|    2021-07-15|    2021|  NSW|  Male|\n",
       "|   3471| 24852446429|56.947518842650844|8e65c8ee-67f1-411...|    2021-08-16|    2021|  NSW|  Male|\n",
       "|   3471| 60111071436| 65.18552675559465|5f7d4237-81ca-4e7...|    2021-08-27|    2021|  NSW|  Male|\n",
       "|   3471| 22019664345| 41.38591300683678|d0a09e6d-27b9-445...|    2021-07-23|    2021|  NSW|  Male|\n",
       "|   3471| 23338656015|205.42563371167512|8104669d-ccf3-43a...|    2021-07-23|    2021|  NSW|  Male|\n",
       "|   3471| 94472466107| 52.08746331531157|2d9872f8-7bfb-4b9...|    2021-05-21|    2021|  NSW|  Male|\n",
       "|   3471| 79645157255| 38.86563882630112|81b41437-e167-419...|    2021-05-21|    2021|  NSW|  Male|\n",
       "|   3471| 75244502629|25.044226573432795|2ced6917-a1d6-4b3...|    2021-05-21|    2021|  NSW|  Male|\n",
       "|   3471| 25884436429| 497.6997419580171|dd12bbf6-44ec-42a...|    2021-07-30|    2021|  NSW|  Male|\n",
       "|   3471| 29936037423| 84.50125683204189|2e825100-9a9c-447...|    2021-05-28|    2021|  NSW|  Male|\n",
       "|   3471| 89726005175| 35.35344876130378|818c3807-db8f-47a...|    2021-08-26|    2021|  NSW|  Male|\n",
       "|   3471| 68216911708| 43.38612720283835|ef47dcdf-e73e-437...|    2021-06-25|    2021|  NSW|  Male|\n",
       "+-------+------------+------------------+--------------------+--------------+--------+-----+------+\n",
       "only showing top 20 rows"
      ]
     },
     "execution_count": 37,
     "metadata": {},
     "output_type": "execute_result"
    }
   ],
   "source": [
    "customer_transaction"
   ]
  },
  {
   "cell_type": "code",
   "execution_count": 38,
   "id": "7d4a2ddc",
   "metadata": {},
   "outputs": [
    {
     "name": "stderr",
     "output_type": "stream",
     "text": [
      "[Stage 121:>                                                      (0 + 12) / 13]\r"
     ]
    },
    {
     "name": "stdout",
     "output_type": "stream",
     "text": [
      "22/09/03 11:52:09 WARN MemoryManager: Total allocation exceeds 95.00% (906,992,014 bytes) of heap memory\n",
      "Scaling row group sizes to 96.54% for 7 writers\n",
      "22/09/03 11:52:09 WARN MemoryManager: Total allocation exceeds 95.00% (906,992,014 bytes) of heap memory\n",
      "Scaling row group sizes to 84.47% for 8 writers\n",
      "22/09/03 11:52:09 WARN MemoryManager: Total allocation exceeds 95.00% (906,992,014 bytes) of heap memory\n",
      "Scaling row group sizes to 75.08% for 9 writers\n",
      "22/09/03 11:52:09 WARN MemoryManager: Total allocation exceeds 95.00% (906,992,014 bytes) of heap memory\n",
      "Scaling row group sizes to 67.58% for 10 writers\n",
      "22/09/03 11:52:09 WARN MemoryManager: Total allocation exceeds 95.00% (906,992,014 bytes) of heap memory\n",
      "Scaling row group sizes to 61.43% for 11 writers\n",
      "22/09/03 11:52:09 WARN MemoryManager: Total allocation exceeds 95.00% (906,992,014 bytes) of heap memory\n",
      "Scaling row group sizes to 56.31% for 12 writers\n",
      "22/09/03 11:52:13 WARN MemoryManager: Total allocation exceeds 95.00% (906,992,014 bytes) of heap memory\n",
      "Scaling row group sizes to 61.43% for 11 writers\n",
      "22/09/03 11:52:13 WARN MemoryManager: Total allocation exceeds 95.00% (906,992,014 bytes) of heap memory\n",
      "Scaling row group sizes to 67.58% for 10 writers\n",
      "22/09/03 11:52:13 WARN MemoryManager: Total allocation exceeds 95.00% (906,992,014 bytes) of heap memory\n",
      "Scaling row group sizes to 75.08% for 9 writers\n",
      "22/09/03 11:52:13 WARN MemoryManager: Total allocation exceeds 95.00% (906,992,014 bytes) of heap memory\n",
      "Scaling row group sizes to 84.47% for 8 writers\n",
      "22/09/03 11:52:13 WARN MemoryManager: Total allocation exceeds 95.00% (906,992,014 bytes) of heap memory\n",
      "Scaling row group sizes to 96.54% for 7 writers\n"
     ]
    },
    {
     "name": "stderr",
     "output_type": "stream",
     "text": [
      "                                                                                \r"
     ]
    }
   ],
   "source": [
    "# Download data\n",
    "customer_transaction.write.parquet(\"../curated/customer_join_transaction.parquet\")\n"
   ]
  },
  {
   "cell_type": "code",
   "execution_count": 43,
   "id": "c6371fc0",
   "metadata": {},
   "outputs": [],
   "source": [
    "# Aggregate by state -> postcode -> date\n",
    "sales_by_region = (customer_transaction.groupby('state', 'postcode', 'order_datetime')\n",
    "                                       .agg({'dollar_value':'sum',\n",
    "                                             'order_id':'count'})\n",
    "                                       .withColumnRenamed('sum(dollar_value)', 'dollar_spent')\n",
    "                                       .withColumnRenamed('count(order_id)', 'no_orders'))\n"
   ]
  },
  {
   "cell_type": "code",
   "execution_count": 44,
   "id": "60d2347c",
   "metadata": {},
   "outputs": [
    {
     "name": "stderr",
     "output_type": "stream",
     "text": [
      "[Stage 160:==============>                                         (3 + 9) / 12]\r"
     ]
    },
    {
     "name": "stdout",
     "output_type": "stream",
     "text": [
      "22/09/03 12:03:58 WARN RowBasedKeyValueBatch: Calling spill() on RowBasedKeyValueBatch. Will not spill but return 0.\n",
      "22/09/03 12:03:58 WARN RowBasedKeyValueBatch: Calling spill() on RowBasedKeyValueBatch. Will not spill but return 0.\n",
      "22/09/03 12:03:58 WARN RowBasedKeyValueBatch: Calling spill() on RowBasedKeyValueBatch. Will not spill but return 0.\n",
      "22/09/03 12:03:58 WARN RowBasedKeyValueBatch: Calling spill() on RowBasedKeyValueBatch. Will not spill but return 0.\n",
      "22/09/03 12:03:58 WARN RowBasedKeyValueBatch: Calling spill() on RowBasedKeyValueBatch. Will not spill but return 0.\n",
      "22/09/03 12:03:58 WARN RowBasedKeyValueBatch: Calling spill() on RowBasedKeyValueBatch. Will not spill but return 0.\n",
      "22/09/03 12:03:58 WARN RowBasedKeyValueBatch: Calling spill() on RowBasedKeyValueBatch. Will not spill but return 0.\n",
      "22/09/03 12:03:58 WARN RowBasedKeyValueBatch: Calling spill() on RowBasedKeyValueBatch. Will not spill but return 0.\n",
      "22/09/03 12:03:58 WARN RowBasedKeyValueBatch: Calling spill() on RowBasedKeyValueBatch. Will not spill but return 0.\n",
      "22/09/03 12:03:58 WARN RowBasedKeyValueBatch: Calling spill() on RowBasedKeyValueBatch. Will not spill but return 0.\n",
      "22/09/03 12:03:58 WARN RowBasedKeyValueBatch: Calling spill() on RowBasedKeyValueBatch. Will not spill but return 0.\n",
      "22/09/03 12:03:58 WARN RowBasedKeyValueBatch: Calling spill() on RowBasedKeyValueBatch. Will not spill but return 0.\n"
     ]
    },
    {
     "name": "stderr",
     "output_type": "stream",
     "text": [
      "[Stage 163:>                                                      (0 + 12) / 13]\r"
     ]
    },
    {
     "name": "stdout",
     "output_type": "stream",
     "text": [
      "22/09/03 12:03:59 WARN RowBasedKeyValueBatch: Calling spill() on RowBasedKeyValueBatch. Will not spill but return 0.\n",
      "22/09/03 12:03:59 WARN RowBasedKeyValueBatch: Calling spill() on RowBasedKeyValueBatch. Will not spill but return 0.\n",
      "22/09/03 12:03:59 WARN RowBasedKeyValueBatch: Calling spill() on RowBasedKeyValueBatch. Will not spill but return 0.\n",
      "22/09/03 12:03:59 WARN RowBasedKeyValueBatch: Calling spill() on RowBasedKeyValueBatch. Will not spill but return 0.\n",
      "22/09/03 12:03:59 WARN RowBasedKeyValueBatch: Calling spill() on RowBasedKeyValueBatch. Will not spill but return 0.\n",
      "22/09/03 12:03:59 WARN RowBasedKeyValueBatch: Calling spill() on RowBasedKeyValueBatch. Will not spill but return 0.\n",
      "22/09/03 12:03:59 WARN RowBasedKeyValueBatch: Calling spill() on RowBasedKeyValueBatch. Will not spill but return 0.\n",
      "22/09/03 12:03:59 WARN RowBasedKeyValueBatch: Calling spill() on RowBasedKeyValueBatch. Will not spill but return 0.\n",
      "22/09/03 12:03:59 WARN RowBasedKeyValueBatch: Calling spill() on RowBasedKeyValueBatch. Will not spill but return 0.\n",
      "22/09/03 12:03:59 WARN RowBasedKeyValueBatch: Calling spill() on RowBasedKeyValueBatch. Will not spill but return 0.\n",
      "22/09/03 12:03:59 WARN RowBasedKeyValueBatch: Calling spill() on RowBasedKeyValueBatch. Will not spill but return 0.\n",
      "22/09/03 12:03:59 WARN RowBasedKeyValueBatch: Calling spill() on RowBasedKeyValueBatch. Will not spill but return 0.\n"
     ]
    },
    {
     "name": "stderr",
     "output_type": "stream",
     "text": [
      "[Stage 170:==================>                                     (4 + 8) / 12]\r"
     ]
    },
    {
     "name": "stdout",
     "output_type": "stream",
     "text": [
      "22/09/03 12:04:04 WARN RowBasedKeyValueBatch: Calling spill() on RowBasedKeyValueBatch. Will not spill but return 0.\n",
      "22/09/03 12:04:04 WARN RowBasedKeyValueBatch: Calling spill() on RowBasedKeyValueBatch. Will not spill but return 0.\n",
      "22/09/03 12:04:04 WARN RowBasedKeyValueBatch: Calling spill() on RowBasedKeyValueBatch. Will not spill but return 0.\n",
      "22/09/03 12:04:04 WARN RowBasedKeyValueBatch: Calling spill() on RowBasedKeyValueBatch. Will not spill but return 0.\n",
      "22/09/03 12:04:04 WARN RowBasedKeyValueBatch: Calling spill() on RowBasedKeyValueBatch. Will not spill but return 0.\n",
      "22/09/03 12:04:04 WARN RowBasedKeyValueBatch: Calling spill() on RowBasedKeyValueBatch. Will not spill but return 0.\n",
      "22/09/03 12:04:04 WARN RowBasedKeyValueBatch: Calling spill() on RowBasedKeyValueBatch. Will not spill but return 0.\n",
      "22/09/03 12:04:04 WARN RowBasedKeyValueBatch: Calling spill() on RowBasedKeyValueBatch. Will not spill but return 0.\n",
      "22/09/03 12:04:04 WARN RowBasedKeyValueBatch: Calling spill() on RowBasedKeyValueBatch. Will not spill but return 0.\n",
      "22/09/03 12:04:04 WARN RowBasedKeyValueBatch: Calling spill() on RowBasedKeyValueBatch. Will not spill but return 0.\n",
      "22/09/03 12:04:04 WARN RowBasedKeyValueBatch: Calling spill() on RowBasedKeyValueBatch. Will not spill but return 0.\n",
      "22/09/03 12:04:04 WARN RowBasedKeyValueBatch: Calling spill() on RowBasedKeyValueBatch. Will not spill but return 0.\n"
     ]
    },
    {
     "name": "stderr",
     "output_type": "stream",
     "text": [
      "[Stage 173:>                                                      (0 + 12) / 13]\r"
     ]
    },
    {
     "name": "stdout",
     "output_type": "stream",
     "text": [
      "22/09/03 12:04:05 WARN RowBasedKeyValueBatch: Calling spill() on RowBasedKeyValueBatch. Will not spill but return 0.\n",
      "22/09/03 12:04:05 WARN RowBasedKeyValueBatch: Calling spill() on RowBasedKeyValueBatch. Will not spill but return 0.\n",
      "22/09/03 12:04:05 WARN RowBasedKeyValueBatch: Calling spill() on RowBasedKeyValueBatch. Will not spill but return 0.\n",
      "22/09/03 12:04:05 WARN RowBasedKeyValueBatch: Calling spill() on RowBasedKeyValueBatch. Will not spill but return 0.\n",
      "22/09/03 12:04:05 WARN RowBasedKeyValueBatch: Calling spill() on RowBasedKeyValueBatch. Will not spill but return 0.\n",
      "22/09/03 12:04:05 WARN RowBasedKeyValueBatch: Calling spill() on RowBasedKeyValueBatch. Will not spill but return 0.\n",
      "22/09/03 12:04:05 WARN RowBasedKeyValueBatch: Calling spill() on RowBasedKeyValueBatch. Will not spill but return 0.\n",
      "22/09/03 12:04:05 WARN RowBasedKeyValueBatch: Calling spill() on RowBasedKeyValueBatch. Will not spill but return 0.\n",
      "22/09/03 12:04:05 WARN RowBasedKeyValueBatch: Calling spill() on RowBasedKeyValueBatch. Will not spill but return 0.\n",
      "22/09/03 12:04:05 WARN RowBasedKeyValueBatch: Calling spill() on RowBasedKeyValueBatch. Will not spill but return 0.\n",
      "22/09/03 12:04:05 WARN RowBasedKeyValueBatch: Calling spill() on RowBasedKeyValueBatch. Will not spill but return 0.\n",
      "22/09/03 12:04:05 WARN RowBasedKeyValueBatch: Calling spill() on RowBasedKeyValueBatch. Will not spill but return 0.\n"
     ]
    },
    {
     "name": "stderr",
     "output_type": "stream",
     "text": [
      "                                                                                \r"
     ]
    },
    {
     "data": {
      "text/html": [
       "<table border='1'>\n",
       "<tr><th>state</th><th>postcode</th><th>order_datetime</th><th>dollar_spent</th><th>no_orders</th></tr>\n",
       "<tr><td>NSW</td><td>2323</td><td>2021-04-25</td><td>629.1146122051694</td><td>6</td></tr>\n",
       "<tr><td>WA</td><td>6057</td><td>2021-03-29</td><td>1310.8507255713155</td><td>10</td></tr>\n",
       "<tr><td>WA</td><td>6057</td><td>2021-07-17</td><td>812.4529038034008</td><td>10</td></tr>\n",
       "<tr><td>WA</td><td>6415</td><td>2021-03-08</td><td>1519.5689069927444</td><td>8</td></tr>\n",
       "<tr><td>WA</td><td>6034</td><td>2021-07-20</td><td>451.85365021587256</td><td>8</td></tr>\n",
       "<tr><td>NSW</td><td>2021</td><td>2021-06-05</td><td>473.48949207659206</td><td>7</td></tr>\n",
       "<tr><td>VIC</td><td>3467</td><td>2021-04-09</td><td>429.13287469775173</td><td>5</td></tr>\n",
       "<tr><td>WA</td><td>6490</td><td>2021-05-03</td><td>1639.4244314840735</td><td>11</td></tr>\n",
       "<tr><td>NSW</td><td>2826</td><td>2021-05-13</td><td>641.4857552343333</td><td>8</td></tr>\n",
       "<tr><td>VIC</td><td>3864</td><td>2021-07-15</td><td>1383.166062186577</td><td>12</td></tr>\n",
       "<tr><td>SA</td><td>5089</td><td>2021-06-29</td><td>1293.800755395474</td><td>11</td></tr>\n",
       "<tr><td>WA</td><td>6956</td><td>2021-04-23</td><td>510.2836209924264</td><td>5</td></tr>\n",
       "<tr><td>SA</td><td>5554</td><td>2021-05-13</td><td>1205.1735656542646</td><td>6</td></tr>\n",
       "<tr><td>NSW</td><td>1034</td><td>2021-08-02</td><td>2065.117842082431</td><td>10</td></tr>\n",
       "<tr><td>QLD</td><td>4478</td><td>2021-04-01</td><td>1302.6736369632886</td><td>5</td></tr>\n",
       "<tr><td>NSW</td><td>2350</td><td>2021-05-04</td><td>1393.0278945760829</td><td>7</td></tr>\n",
       "<tr><td>SA</td><td>5560</td><td>2021-08-16</td><td>2466.1999613307507</td><td>11</td></tr>\n",
       "<tr><td>NSW</td><td>2160</td><td>2021-07-14</td><td>2608.8947489130687</td><td>14</td></tr>\n",
       "<tr><td>NSW</td><td>2212</td><td>2021-07-21</td><td>1799.2035091441462</td><td>7</td></tr>\n",
       "<tr><td>SA</td><td>5075</td><td>2021-06-02</td><td>754.0730376361195</td><td>6</td></tr>\n",
       "</table>\n",
       "only showing top 20 rows\n"
      ],
      "text/plain": [
       "+-----+--------+--------------+------------------+---------+\n",
       "|state|postcode|order_datetime|      dollar_spent|no_orders|\n",
       "+-----+--------+--------------+------------------+---------+\n",
       "|  NSW|    2323|    2021-04-25| 629.1146122051694|        6|\n",
       "|   WA|    6057|    2021-03-29|1310.8507255713155|       10|\n",
       "|   WA|    6057|    2021-07-17| 812.4529038034008|       10|\n",
       "|   WA|    6415|    2021-03-08|1519.5689069927444|        8|\n",
       "|   WA|    6034|    2021-07-20|451.85365021587256|        8|\n",
       "|  NSW|    2021|    2021-06-05|473.48949207659206|        7|\n",
       "|  VIC|    3467|    2021-04-09|429.13287469775173|        5|\n",
       "|   WA|    6490|    2021-05-03|1639.4244314840735|       11|\n",
       "|  NSW|    2826|    2021-05-13| 641.4857552343333|        8|\n",
       "|  VIC|    3864|    2021-07-15| 1383.166062186577|       12|\n",
       "|   SA|    5089|    2021-06-29| 1293.800755395474|       11|\n",
       "|   WA|    6956|    2021-04-23| 510.2836209924264|        5|\n",
       "|   SA|    5554|    2021-05-13|1205.1735656542646|        6|\n",
       "|  NSW|    1034|    2021-08-02| 2065.117842082431|       10|\n",
       "|  QLD|    4478|    2021-04-01|1302.6736369632886|        5|\n",
       "|  NSW|    2350|    2021-05-04|1393.0278945760829|        7|\n",
       "|   SA|    5560|    2021-08-16|2466.1999613307507|       11|\n",
       "|  NSW|    2160|    2021-07-14|2608.8947489130687|       14|\n",
       "|  NSW|    2212|    2021-07-21|1799.2035091441462|        7|\n",
       "|   SA|    5075|    2021-06-02| 754.0730376361195|        6|\n",
       "+-----+--------+--------------+------------------+---------+\n",
       "only showing top 20 rows"
      ]
     },
     "execution_count": 44,
     "metadata": {},
     "output_type": "execute_result"
    }
   ],
   "source": [
    "sales_by_region"
   ]
  },
  {
   "cell_type": "code",
   "execution_count": 41,
   "id": "2dc4cc3c",
   "metadata": {},
   "outputs": [
    {
     "name": "stderr",
     "output_type": "stream",
     "text": [
      "[Stage 144:=============================================>         (10 + 2) / 12]\r"
     ]
    },
    {
     "name": "stdout",
     "output_type": "stream",
     "text": [
      "22/09/03 11:52:33 WARN RowBasedKeyValueBatch: Calling spill() on RowBasedKeyValueBatch. Will not spill but return 0.\n",
      "22/09/03 11:52:33 WARN RowBasedKeyValueBatch: Calling spill() on RowBasedKeyValueBatch. Will not spill but return 0.\n",
      "22/09/03 11:52:33 WARN RowBasedKeyValueBatch: Calling spill() on RowBasedKeyValueBatch. Will not spill but return 0.\n",
      "22/09/03 11:52:33 WARN RowBasedKeyValueBatch: Calling spill() on RowBasedKeyValueBatch. Will not spill but return 0.\n",
      "22/09/03 11:52:33 WARN RowBasedKeyValueBatch: Calling spill() on RowBasedKeyValueBatch. Will not spill but return 0.\n",
      "22/09/03 11:52:33 WARN RowBasedKeyValueBatch: Calling spill() on RowBasedKeyValueBatch. Will not spill but return 0.\n",
      "22/09/03 11:52:33 WARN RowBasedKeyValueBatch: Calling spill() on RowBasedKeyValueBatch. Will not spill but return 0.\n",
      "22/09/03 11:52:33 WARN RowBasedKeyValueBatch: Calling spill() on RowBasedKeyValueBatch. Will not spill but return 0.\n",
      "22/09/03 11:52:33 WARN RowBasedKeyValueBatch: Calling spill() on RowBasedKeyValueBatch. Will not spill but return 0.\n",
      "22/09/03 11:52:33 WARN RowBasedKeyValueBatch: Calling spill() on RowBasedKeyValueBatch. Will not spill but return 0.\n",
      "22/09/03 11:52:33 WARN RowBasedKeyValueBatch: Calling spill() on RowBasedKeyValueBatch. Will not spill but return 0.\n",
      "22/09/03 11:52:33 WARN RowBasedKeyValueBatch: Calling spill() on RowBasedKeyValueBatch. Will not spill but return 0.\n"
     ]
    },
    {
     "name": "stderr",
     "output_type": "stream",
     "text": [
      "[Stage 147:>                                                      (0 + 12) / 13]\r"
     ]
    },
    {
     "name": "stdout",
     "output_type": "stream",
     "text": [
      "22/09/03 11:52:33 WARN RowBasedKeyValueBatch: Calling spill() on RowBasedKeyValueBatch. Will not spill but return 0.\n",
      "22/09/03 11:52:33 WARN RowBasedKeyValueBatch: Calling spill() on RowBasedKeyValueBatch. Will not spill but return 0.\n",
      "22/09/03 11:52:33 WARN RowBasedKeyValueBatch: Calling spill() on RowBasedKeyValueBatch. Will not spill but return 0.\n",
      "22/09/03 11:52:33 WARN RowBasedKeyValueBatch: Calling spill() on RowBasedKeyValueBatch. Will not spill but return 0.\n",
      "22/09/03 11:52:33 WARN RowBasedKeyValueBatch: Calling spill() on RowBasedKeyValueBatch. Will not spill but return 0.\n",
      "22/09/03 11:52:33 WARN RowBasedKeyValueBatch: Calling spill() on RowBasedKeyValueBatch. Will not spill but return 0.\n",
      "22/09/03 11:52:33 WARN RowBasedKeyValueBatch: Calling spill() on RowBasedKeyValueBatch. Will not spill but return 0.\n",
      "22/09/03 11:52:33 WARN RowBasedKeyValueBatch: Calling spill() on RowBasedKeyValueBatch. Will not spill but return 0.\n",
      "22/09/03 11:52:33 WARN RowBasedKeyValueBatch: Calling spill() on RowBasedKeyValueBatch. Will not spill but return 0.\n",
      "22/09/03 11:52:33 WARN RowBasedKeyValueBatch: Calling spill() on RowBasedKeyValueBatch. Will not spill but return 0.\n",
      "22/09/03 11:52:33 WARN RowBasedKeyValueBatch: Calling spill() on RowBasedKeyValueBatch. Will not spill but return 0.\n",
      "22/09/03 11:52:33 WARN RowBasedKeyValueBatch: Calling spill() on RowBasedKeyValueBatch. Will not spill but return 0.\n"
     ]
    },
    {
     "name": "stderr",
     "output_type": "stream",
     "text": [
      "[Stage 147:====>                                                  (1 + 12) / 13]\r"
     ]
    },
    {
     "name": "stdout",
     "output_type": "stream",
     "text": [
      "22/09/03 11:52:35 WARN MemoryManager: Total allocation exceeds 95.00% (906,992,014 bytes) of heap memory\n",
      "Scaling row group sizes to 96.54% for 7 writers\n",
      "22/09/03 11:52:35 WARN MemoryManager: Total allocation exceeds 95.00% (906,992,014 bytes) of heap memory\n",
      "Scaling row group sizes to 84.47% for 8 writers\n",
      "22/09/03 11:52:35 WARN MemoryManager: Total allocation exceeds 95.00% (906,992,014 bytes) of heap memory\n",
      "Scaling row group sizes to 75.08% for 9 writers\n",
      "22/09/03 11:52:35 WARN MemoryManager: Total allocation exceeds 95.00% (906,992,014 bytes) of heap memory\n",
      "Scaling row group sizes to 67.58% for 10 writers\n",
      "22/09/03 11:52:35 WARN MemoryManager: Total allocation exceeds 95.00% (906,992,014 bytes) of heap memory\n",
      "Scaling row group sizes to 61.43% for 11 writers\n",
      "22/09/03 11:52:35 WARN MemoryManager: Total allocation exceeds 95.00% (906,992,014 bytes) of heap memory\n",
      "Scaling row group sizes to 56.31% for 12 writers\n",
      "22/09/03 11:52:35 WARN MemoryManager: Total allocation exceeds 95.00% (906,992,014 bytes) of heap memory\n",
      "Scaling row group sizes to 61.43% for 11 writers\n",
      "22/09/03 11:52:35 WARN MemoryManager: Total allocation exceeds 95.00% (906,992,014 bytes) of heap memory\n",
      "Scaling row group sizes to 67.58% for 10 writers\n",
      "22/09/03 11:52:35 WARN MemoryManager: Total allocation exceeds 95.00% (906,992,014 bytes) of heap memory\n",
      "Scaling row group sizes to 75.08% for 9 writers\n",
      "22/09/03 11:52:35 WARN MemoryManager: Total allocation exceeds 95.00% (906,992,014 bytes) of heap memory\n",
      "Scaling row group sizes to 84.47% for 8 writers\n",
      "22/09/03 11:52:35 WARN MemoryManager: Total allocation exceeds 95.00% (906,992,014 bytes) of heap memory\n",
      "Scaling row group sizes to 96.54% for 7 writers\n"
     ]
    },
    {
     "name": "stderr",
     "output_type": "stream",
     "text": [
      "                                                                                \r"
     ]
    }
   ],
   "source": [
    "# Download data\n",
    "sales_by_region.write.parquet(\"../curated/sales_by_region.parquet\")"
   ]
  },
  {
   "cell_type": "code",
   "execution_count": null,
   "id": "b4d6f231",
   "metadata": {},
   "outputs": [],
   "source": []
  }
 ],
 "metadata": {
  "kernelspec": {
   "display_name": "Python 3.8.10 64-bit",
   "language": "python",
   "name": "python3"
  },
  "language_info": {
   "codemirror_mode": {
    "name": "ipython",
    "version": 3
   },
   "file_extension": ".py",
   "mimetype": "text/x-python",
   "name": "python",
   "nbconvert_exporter": "python",
   "pygments_lexer": "ipython3",
   "version": "3.9.7"
  },
  "vscode": {
   "interpreter": {
    "hash": "31f2aee4e71d21fbe5cf8b01ff0e069b9275f58929596ceb00d14d90e3e16cd6"
   }
  }
 },
 "nbformat": 4,
 "nbformat_minor": 5
}
