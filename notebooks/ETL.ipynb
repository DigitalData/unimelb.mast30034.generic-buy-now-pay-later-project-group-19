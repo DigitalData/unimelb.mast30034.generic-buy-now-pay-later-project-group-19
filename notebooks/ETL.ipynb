{
 "cells": [
  {
   "cell_type": "markdown",
   "id": "3667f3a1",
   "metadata": {},
   "source": [
    "# ETL Processes\n",
    "***\n",
    "## Lists of tasks:\n",
    "- ### <del>Consolidating Datasets</del>\n",
    "- ### Normalising/Restructuring Tables\n",
    "- ### Exploratory Data Analysis\n",
    "- ### Data Cleaning\n",
    "- ### Package ETL.py into a Class\n",
    "***\n",
    "\n",
    "## Content:\n",
    "- ### [Consumer Dataset](#Consumer-dataset)\n",
    "- ### [Transaction Dataset](#Transaction-dataset)\n",
    "- ### [Merchant Dataset](#Merchant-dataset)\n",
    "- ### [Data Aggregations](#Aggregation)\n"
   ]
  },
  {
   "cell_type": "code",
   "execution_count": 1,
   "id": "79f83e0d",
   "metadata": {},
   "outputs": [
    {
     "name": "stdout",
     "output_type": "stream",
     "text": [
      "Welcome to\n",
      "      ____              __\n",
      "     / __/__  ___ _____/ /__\n",
      "    _\\ \\/ _ \\/ _ `/ __/  '_/\n",
      "   /__ / .__/\\_,_/_/ /_/\\_\\   version 3.1.2\n",
      "      /_/\n",
      "\n",
      "Using Python version 3.7.4 (default, Aug 13 2019 15:17:50)\n",
      "Spark context Web UI available at http://169.254.224.157:4040\n",
      "Spark context available as 'sc' (master = local[*], app id = local-1661970285241).\n",
      "SparkSession available as 'spark'.\n"
     ]
    }
   ],
   "source": [
    "import pandas as pd\n",
    "import numpy as np\n",
    "import os\n",
    "import re\n",
    "\n",
    "# Set working directory\n",
    "if not \"/data/tables\" in os.getcwd():\n",
    "    os.chdir(\"../data/tables\")\n",
    "\n",
    "from pyspark.sql import SparkSession\n",
    "from pyspark.shell import spark\n",
    "from pyspark.sql import SQLContext\n",
    "from pyspark.sql.functions import *\n",
    "import matplotlib.pyplot as plt\n",
    "\n",
    "spark = (\n",
    "    SparkSession.builder.appName(\"MAST30034 Project 2\")\n",
    "    .config(\"spark.sql.repl.eagerEval.enabled\", True) \n",
    "    .config(\"spark.sql.parquet.cacheMetadata\", \"true\")\n",
    "    .config(\"spark.sql.session.timeZone\", \"Etc/UTC\")\n",
    "    .config(\"spark.driver.memory\", \"4g\")\n",
    "    .getOrCreate()\n",
    ")"
   ]
  },
  {
   "cell_type": "markdown",
   "id": "d5458a7a",
   "metadata": {},
   "source": [
    "# Consumer dataset"
   ]
  },
  {
   "cell_type": "code",
   "execution_count": 2,
   "id": "42f5285b",
   "metadata": {},
   "outputs": [
    {
     "data": {
      "text/html": [
       "<table border='1'>\n",
       "<tr><th>name</th><th>address</th><th>state</th><th>postcode</th><th>gender</th><th>consumer_id</th></tr>\n",
       "<tr><td>Yolanda Williams</td><td>413 Haney Gardens...</td><td>WA</td><td>6935</td><td>Female</td><td>1195503</td></tr>\n",
       "<tr><td>Mary Smith</td><td>3764 Amber Oval</td><td>NSW</td><td>2782</td><td>Female</td><td>179208</td></tr>\n",
       "<tr><td>Jill Jones MD</td><td>40693 Henry Greens</td><td>NT</td><td>862</td><td>Female</td><td>1194530</td></tr>\n",
       "<tr><td>Lindsay Jimenez</td><td>00653 Davenport C...</td><td>NSW</td><td>2780</td><td>Female</td><td>154128</td></tr>\n",
       "<tr><td>Rebecca Blanchard</td><td>9271 Michael Mano...</td><td>WA</td><td>6355</td><td>Female</td><td>712975</td></tr>\n",
       "<tr><td>Karen Chapman</td><td>2706 Stewart Oval...</td><td>NSW</td><td>2033</td><td>Female</td><td>407340</td></tr>\n",
       "<tr><td>Andrea Jones</td><td>122 Brandon Cliff</td><td>QLD</td><td>4606</td><td>Female</td><td>511685</td></tr>\n",
       "<tr><td>Stephen Williams</td><td>6804 Wright Crest...</td><td>WA</td><td>6056</td><td>Male</td><td>448088</td></tr>\n",
       "<tr><td>Stephanie Reyes</td><td>5813 Denise Land ...</td><td>NSW</td><td>2482</td><td>Female</td><td>650435</td></tr>\n",
       "<tr><td>Jillian Gonzales</td><td>461 Ryan Common S...</td><td>VIC</td><td>3220</td><td>Female</td><td>1058499</td></tr>\n",
       "<tr><td>Eugene Lucas</td><td>33983 Kevin Drive...</td><td>VIC</td><td>3063</td><td>Undisclosed</td><td>428325</td></tr>\n",
       "<tr><td>Melissa Jones</td><td>13706 Kimberly Port</td><td>WA</td><td>6743</td><td>Female</td><td>1494640</td></tr>\n",
       "<tr><td>Angela Brown PhD</td><td>0236 Mills Land S...</td><td>QLD</td><td>4673</td><td>Female</td><td>1146717</td></tr>\n",
       "<tr><td>Lance Butler</td><td>8943 Kenneth Camp</td><td>VIC</td><td>3332</td><td>Male</td><td>1343547</td></tr>\n",
       "<tr><td>Paul Abbott</td><td>60495 Ryan Hill</td><td>QLD</td><td>4512</td><td>Male</td><td>1463076</td></tr>\n",
       "<tr><td>Tracy Hart</td><td>9671 Jacob Harbor...</td><td>NSW</td><td>2452</td><td>Male</td><td>1356405</td></tr>\n",
       "<tr><td>Alyssa Wilson</td><td>44353 Nathan Ridge</td><td>VIC</td><td>3719</td><td>Female</td><td>1331093</td></tr>\n",
       "<tr><td>Michael Burnett</td><td>89400 Torres Fort</td><td>NSW</td><td>1109</td><td>Male</td><td>80965</td></tr>\n",
       "<tr><td>Victoria Gonzalez</td><td>68657 Johnson Gle...</td><td>TAS</td><td>7276</td><td>Female</td><td>1226530</td></tr>\n",
       "<tr><td>James Norris</td><td>790 Ramos Landing</td><td>VIC</td><td>3234</td><td>Undisclosed</td><td>1390367</td></tr>\n",
       "</table>\n",
       "only showing top 20 rows\n"
      ],
      "text/plain": [
       "+-----------------+--------------------+-----+--------+-----------+-----------+\n",
       "|             name|             address|state|postcode|     gender|consumer_id|\n",
       "+-----------------+--------------------+-----+--------+-----------+-----------+\n",
       "| Yolanda Williams|413 Haney Gardens...|   WA|    6935|     Female|    1195503|\n",
       "|       Mary Smith|     3764 Amber Oval|  NSW|    2782|     Female|     179208|\n",
       "|    Jill Jones MD|  40693 Henry Greens|   NT|     862|     Female|    1194530|\n",
       "|  Lindsay Jimenez|00653 Davenport C...|  NSW|    2780|     Female|     154128|\n",
       "|Rebecca Blanchard|9271 Michael Mano...|   WA|    6355|     Female|     712975|\n",
       "|    Karen Chapman|2706 Stewart Oval...|  NSW|    2033|     Female|     407340|\n",
       "|     Andrea Jones|   122 Brandon Cliff|  QLD|    4606|     Female|     511685|\n",
       "| Stephen Williams|6804 Wright Crest...|   WA|    6056|       Male|     448088|\n",
       "|  Stephanie Reyes|5813 Denise Land ...|  NSW|    2482|     Female|     650435|\n",
       "| Jillian Gonzales|461 Ryan Common S...|  VIC|    3220|     Female|    1058499|\n",
       "|     Eugene Lucas|33983 Kevin Drive...|  VIC|    3063|Undisclosed|     428325|\n",
       "|    Melissa Jones| 13706 Kimberly Port|   WA|    6743|     Female|    1494640|\n",
       "| Angela Brown PhD|0236 Mills Land S...|  QLD|    4673|     Female|    1146717|\n",
       "|     Lance Butler|   8943 Kenneth Camp|  VIC|    3332|       Male|    1343547|\n",
       "|      Paul Abbott|     60495 Ryan Hill|  QLD|    4512|       Male|    1463076|\n",
       "|       Tracy Hart|9671 Jacob Harbor...|  NSW|    2452|       Male|    1356405|\n",
       "|    Alyssa Wilson|  44353 Nathan Ridge|  VIC|    3719|     Female|    1331093|\n",
       "|  Michael Burnett|   89400 Torres Fort|  NSW|    1109|       Male|      80965|\n",
       "|Victoria Gonzalez|68657 Johnson Gle...|  TAS|    7276|     Female|    1226530|\n",
       "|     James Norris|   790 Ramos Landing|  VIC|    3234|Undisclosed|    1390367|\n",
       "+-----------------+--------------------+-----+--------+-----------+-----------+\n",
       "only showing top 20 rows"
      ]
     },
     "execution_count": 2,
     "metadata": {},
     "output_type": "execute_result"
    }
   ],
   "source": [
    "# Read csv file\n",
    "consumer = spark.read.option(\"delimiter\", \"|\").csv('tbl_consumer.csv', header = True)\n",
    "consumer"
   ]
  },
  {
   "cell_type": "code",
   "execution_count": 3,
   "id": "171b8ae6",
   "metadata": {},
   "outputs": [
    {
     "name": "stdout",
     "output_type": "stream",
     "text": [
      "Dataset details: \n",
      "\tNumber of rows: 499999 \n",
      "\tNumber of distinct Consumer ID: 499999 \n",
      "\tNumber of distinct Postcodes: 3167\n"
     ]
    }
   ],
   "source": [
    "print(f\"Dataset details: \\n\\tNumber of rows: {consumer.count()}\", \\\n",
    "      f\"\\n\\tNumber of distinct Consumer ID: {consumer.select('consumer_id').distinct().count()}\", \\\n",
    "      f\"\\n\\tNumber of distinct Postcodes: {consumer.select('postcode').distinct().count()}\")"
   ]
  },
  {
   "cell_type": "markdown",
   "id": "15020dc3",
   "metadata": {},
   "source": [
    "Note: \n",
    "- The **address field is fake** and derived from USA street names. We have included it to mimic a more realistic dataset, but the streets themselves are non-existent and if there are any matches, it will be a pure coincidence. <font color='red'>**Not sure what sort of information we can extract here if they are all fake</font> \n",
    "- The **postcode field is accurate** and should be **used for aggregated analysis** for joining with other geospatial datasets for demographic information (i.e ABS datasets) <font color='red'>**Highly relevant for geospatial analysis</font> \n",
    "- There is roughly a **uniform distribution at the state level** (i.e number of consumers per state is the same for all states)."
   ]
  },
  {
   "cell_type": "markdown",
   "id": "4ecbc19d",
   "metadata": {},
   "source": [
    "### Checking for missing values in consumer dataset"
   ]
  },
  {
   "cell_type": "code",
   "execution_count": 107,
   "id": "d6895ed9",
   "metadata": {},
   "outputs": [],
   "source": [
    "def missing_values_check(sdf):\n",
    "    \"\"\"Check missing values in each column of the spark dataframe\"\"\"\n",
    "    \n",
    "    missing_count = sdf.select([count(when(col(c).contains('None') | \\\n",
    "                                           col(c).contains('NULL') | \\\n",
    "                                          (col(c) == '' ) | \\\n",
    "                                           col(c).isNull() | \\\n",
    "                                           isnan(c), c))\n",
    "                                     .alias(c)\n",
    "                                for c, dtype in sdf.dtypes if dtype != 'date'])\n",
    "    \n",
    "    return missing_count\n"
   ]
  },
  {
   "cell_type": "code",
   "execution_count": 109,
   "id": "a0c8a31f",
   "metadata": {},
   "outputs": [
    {
     "data": {
      "text/html": [
       "<table border='1'>\n",
       "<tr><th>name</th><th>address</th><th>state</th><th>postcode</th><th>gender</th><th>consumer_id</th></tr>\n",
       "<tr><td>0</td><td>0</td><td>0</td><td>0</td><td>0</td><td>0</td></tr>\n",
       "</table>\n"
      ],
      "text/plain": [
       "+----+-------+-----+--------+------+-----------+\n",
       "|name|address|state|postcode|gender|consumer_id|\n",
       "+----+-------+-----+--------+------+-----------+\n",
       "|   0|      0|    0|       0|     0|          0|\n",
       "+----+-------+-----+--------+------+-----------+"
      ]
     },
     "execution_count": 109,
     "metadata": {},
     "output_type": "execute_result"
    }
   ],
   "source": [
    "missing_values_check(consumer)"
   ]
  },
  {
   "cell_type": "markdown",
   "id": "6863fddb",
   "metadata": {},
   "source": [
    "### User detail dataset"
   ]
  },
  {
   "cell_type": "code",
   "execution_count": 4,
   "id": "69f48788",
   "metadata": {},
   "outputs": [
    {
     "data": {
      "text/html": [
       "<table border='1'>\n",
       "<tr><th>user_id</th><th>consumer_id</th></tr>\n",
       "<tr><td>1</td><td>1195503</td></tr>\n",
       "<tr><td>2</td><td>179208</td></tr>\n",
       "<tr><td>3</td><td>1194530</td></tr>\n",
       "<tr><td>4</td><td>154128</td></tr>\n",
       "<tr><td>5</td><td>712975</td></tr>\n",
       "<tr><td>6</td><td>407340</td></tr>\n",
       "<tr><td>7</td><td>511685</td></tr>\n",
       "<tr><td>8</td><td>448088</td></tr>\n",
       "<tr><td>9</td><td>650435</td></tr>\n",
       "<tr><td>10</td><td>1058499</td></tr>\n",
       "<tr><td>11</td><td>428325</td></tr>\n",
       "<tr><td>12</td><td>1494640</td></tr>\n",
       "<tr><td>13</td><td>1146717</td></tr>\n",
       "<tr><td>14</td><td>1343547</td></tr>\n",
       "<tr><td>15</td><td>1463076</td></tr>\n",
       "<tr><td>16</td><td>1356405</td></tr>\n",
       "<tr><td>17</td><td>1331093</td></tr>\n",
       "<tr><td>18</td><td>80965</td></tr>\n",
       "<tr><td>19</td><td>1226530</td></tr>\n",
       "<tr><td>20</td><td>1390367</td></tr>\n",
       "</table>\n",
       "only showing top 20 rows\n"
      ],
      "text/plain": [
       "+-------+-----------+\n",
       "|user_id|consumer_id|\n",
       "+-------+-----------+\n",
       "|      1|    1195503|\n",
       "|      2|     179208|\n",
       "|      3|    1194530|\n",
       "|      4|     154128|\n",
       "|      5|     712975|\n",
       "|      6|     407340|\n",
       "|      7|     511685|\n",
       "|      8|     448088|\n",
       "|      9|     650435|\n",
       "|     10|    1058499|\n",
       "|     11|     428325|\n",
       "|     12|    1494640|\n",
       "|     13|    1146717|\n",
       "|     14|    1343547|\n",
       "|     15|    1463076|\n",
       "|     16|    1356405|\n",
       "|     17|    1331093|\n",
       "|     18|      80965|\n",
       "|     19|    1226530|\n",
       "|     20|    1390367|\n",
       "+-------+-----------+\n",
       "only showing top 20 rows"
      ]
     },
     "execution_count": 4,
     "metadata": {},
     "output_type": "execute_result"
    }
   ],
   "source": [
    "user_detail = spark.read.parquet(\"consumer_user_details.parquet\")\n",
    "user_detail"
   ]
  },
  {
   "cell_type": "code",
   "execution_count": 5,
   "id": "1ade5173",
   "metadata": {},
   "outputs": [
    {
     "name": "stdout",
     "output_type": "stream",
     "text": [
      "Dataset details: \n",
      "\tNumber of rows: 499999 \n",
      "\tNumber of distinct User ID: 499999 \n",
      "\tNumber of distinct Consumer ID: 499999\n"
     ]
    }
   ],
   "source": [
    "print(f\"Dataset details: \\n\\tNumber of rows: {user_detail.count()}\", \\\n",
    "      f\"\\n\\tNumber of distinct User ID: {user_detail.select('user_id').distinct().count()}\", \\\n",
    "      f\"\\n\\tNumber of distinct Consumer ID: {user_detail.select('consumer_id').distinct().count()}\")"
   ]
  },
  {
   "cell_type": "markdown",
   "id": "299440ed",
   "metadata": {},
   "source": [
    "### Checking for missing values in user detail dataset"
   ]
  },
  {
   "cell_type": "code",
   "execution_count": 108,
   "id": "6911a191",
   "metadata": {},
   "outputs": [
    {
     "data": {
      "text/html": [
       "<table border='1'>\n",
       "<tr><th>user_id</th><th>consumer_id</th></tr>\n",
       "<tr><td>0</td><td>0</td></tr>\n",
       "</table>\n"
      ],
      "text/plain": [
       "+-------+-----------+\n",
       "|user_id|consumer_id|\n",
       "+-------+-----------+\n",
       "|      0|          0|\n",
       "+-------+-----------+"
      ]
     },
     "execution_count": 108,
     "metadata": {},
     "output_type": "execute_result"
    }
   ],
   "source": [
    "missing_values_check(user_detail)"
   ]
  },
  {
   "cell_type": "markdown",
   "id": "641f04be",
   "metadata": {},
   "source": [
    "Note:\n",
    "- Due to a difference between the internal system and a poor design choice (for some reason), the transaction tables use a **surrogate key** for each new user_id. <font color='red'>**Transaction dataset uses `user_id` to map customer but customer data are mapped to their own unique `customer_id` so the user detail data serves to map those two together</font> \n",
    "- However, the Consumer table has a **unique ID (some are missing on purpose)** field which will require some form of mapping between consumer_id to user_id. <font color='red'>**Might require further investigation and decide on whether it is appropriate to remove</font> \n",
    "- An additional mapping table has been provided to join the two datasets together.\n"
   ]
  },
  {
   "cell_type": "markdown",
   "id": "48daeb03",
   "metadata": {},
   "source": [
    "# Transaction dataset"
   ]
  },
  {
   "cell_type": "code",
   "execution_count": 6,
   "id": "d682d1fe",
   "metadata": {},
   "outputs": [],
   "source": [
    "transaction = spark.read.parquet(\"transactions_20210228_20210827_snapshot/\")"
   ]
  },
  {
   "cell_type": "markdown",
   "id": "2b71bec0",
   "metadata": {},
   "source": [
    "<div class=\"alert alert-block alert-warning\">\n",
    "<b>Note:</b> Use the following code to load the transactions files if you have problems running the code above.\n",
    "</div>"
   ]
  },
  {
   "cell_type": "code",
   "execution_count": 10,
   "id": "e6d6141d",
   "metadata": {},
   "outputs": [
    {
     "data": {
      "text/plain": [
       "['order_datetime=2021-08-15',\n",
       " 'order_datetime=2021-08-23',\n",
       " 'order_datetime=2021-08-24',\n",
       " 'order_datetime=2021-04-20',\n",
       " 'order_datetime=2021-07-07',\n",
       " 'order_datetime=2021-03-08',\n",
       " 'order_datetime=2021-04-27',\n",
       " 'order_datetime=2021-03-30',\n",
       " 'order_datetime=2021-04-18',\n",
       " 'order_datetime=2021-04-11',\n",
       " 'order_datetime=2021-03-06',\n",
       " 'order_datetime=2021-07-09',\n",
       " 'order_datetime=2021-03-01',\n",
       " 'order_datetime=2021-04-16',\n",
       " 'order_datetime=2021-07-31',\n",
       " 'order_datetime=2021-04-29',\n",
       " 'order_datetime=2021-08-25',\n",
       " 'order_datetime=2021-08-22',\n",
       " 'order_datetime=2021-08-14',\n",
       " 'order_datetime=2021-08-13',\n",
       " 'order_datetime=2021-07-30',\n",
       " 'order_datetime=2021-04-17',\n",
       " 'order_datetime=2021-04-28',\n",
       " 'order_datetime=2021-03-07',\n",
       " 'order_datetime=2021-04-10',\n",
       " 'order_datetime=2021-07-08',\n",
       " 'order_datetime=2021-03-31',\n",
       " 'order_datetime=2021-04-26',\n",
       " 'order_datetime=2021-07-01',\n",
       " 'order_datetime=2021-04-19',\n",
       " 'order_datetime=2021-07-06',\n",
       " 'order_datetime=2021-04-21',\n",
       " 'order_datetime=2021-03-09',\n",
       " '.DS_Store',\n",
       " 'order_datetime=2021-06-30',\n",
       " 'order_datetime=2021-05-17',\n",
       " 'order_datetime=2021-05-28',\n",
       " 'order_datetime=2021-05-10',\n",
       " 'order_datetime=2021-06-08',\n",
       " 'order_datetime=2021-05-26',\n",
       " 'order_datetime=2021-06-01',\n",
       " 'order_datetime=2021-05-19',\n",
       " 'order_datetime=2021-06-06',\n",
       " 'order_datetime=2021-05-21',\n",
       " 'order_datetime=2021-05-20',\n",
       " 'order_datetime=2021-06-07',\n",
       " 'order_datetime=2021-05-27',\n",
       " 'order_datetime=2021-05-18',\n",
       " 'order_datetime=2021-05-11',\n",
       " 'order_datetime=2021-06-09',\n",
       " 'order_datetime=2021-05-16',\n",
       " 'order_datetime=2021-05-29',\n",
       " 'order_datetime=2021-06-13',\n",
       " 'order_datetime=2021-06-14',\n",
       " 'order_datetime=2021-06-22',\n",
       " 'order_datetime=2021-05-05',\n",
       " 'order_datetime=2021-05-02',\n",
       " 'order_datetime=2021-06-25',\n",
       " '._SUCCESS.crc',\n",
       " 'order_datetime=2021-06-24',\n",
       " 'order_datetime=2021-05-03',\n",
       " 'order_datetime=2021-05-04',\n",
       " 'order_datetime=2021-06-23',\n",
       " 'order_datetime=2021-06-15',\n",
       " 'order_datetime=2021-06-12',\n",
       " 'order_datetime=2021-07-24',\n",
       " 'order_datetime=2021-03-14',\n",
       " 'order_datetime=2021-04-03',\n",
       " 'order_datetime=2021-04-04',\n",
       " 'order_datetime=2021-03-13',\n",
       " 'order_datetime=2021-07-23',\n",
       " 'order_datetime=2021-03-25',\n",
       " 'order_datetime=2021-07-15',\n",
       " 'order_datetime=2021-07-12',\n",
       " 'order_datetime=2021-03-22',\n",
       " 'order_datetime=2021-08-09',\n",
       " 'order_datetime=2021-08-07',\n",
       " 'order_datetime=2021-03-23',\n",
       " 'order_datetime=2021-07-13',\n",
       " 'order_datetime=2021-07-14',\n",
       " 'order_datetime=2021-03-24',\n",
       " 'order_datetime=2021-07-22',\n",
       " 'order_datetime=2021-03-12',\n",
       " 'order_datetime=2021-04-05',\n",
       " 'order_datetime=2021-04-02',\n",
       " 'order_datetime=2021-03-15',\n",
       " 'order_datetime=2021-07-25',\n",
       " 'order_datetime=2021-08-06',\n",
       " 'order_datetime=2021-08-01',\n",
       " 'order_datetime=2021-08-08',\n",
       " 'order_datetime=2021-07-03',\n",
       " 'order_datetime=2021-04-24',\n",
       " 'order_datetime=2021-04-23',\n",
       " 'order_datetime=2021-07-04',\n",
       " 'order_datetime=2021-04-15',\n",
       " 'order_datetime=2021-03-02',\n",
       " 'order_datetime=2021-03-05',\n",
       " 'order_datetime=2021-04-12',\n",
       " 'order_datetime=2021-08-16',\n",
       " 'order_datetime=2021-08-11',\n",
       " 'order_datetime=2021-08-27',\n",
       " 'order_datetime=2021-08-18',\n",
       " 'order_datetime=2021-08-20',\n",
       " 'order_datetime=2021-04-13',\n",
       " 'order_datetime=2021-03-04',\n",
       " 'order_datetime=2021-03-03',\n",
       " 'order_datetime=2021-04-14',\n",
       " 'order_datetime=2021-07-05',\n",
       " 'order_datetime=2021-04-22',\n",
       " 'order_datetime=2021-04-25',\n",
       " 'order_datetime=2021-07-02',\n",
       " 'order_datetime=2021-08-21',\n",
       " 'order_datetime=2021-08-26',\n",
       " 'order_datetime=2021-08-19',\n",
       " 'order_datetime=2021-08-10',\n",
       " 'order_datetime=2021-08-17',\n",
       " 'order_datetime=2021-05-13',\n",
       " 'order_datetime=2021-05-14',\n",
       " 'order_datetime=2021-06-05',\n",
       " 'order_datetime=2021-05-22',\n",
       " 'order_datetime=2021-05-25',\n",
       " 'order_datetime=2021-06-02',\n",
       " 'order_datetime=2021-06-03',\n",
       " 'order_datetime=2021-05-24',\n",
       " 'order_datetime=2021-05-23',\n",
       " 'order_datetime=2021-06-04',\n",
       " 'order_datetime=2021-05-15',\n",
       " 'order_datetime=2021-05-12',\n",
       " 'order_datetime=2021-06-28',\n",
       " '_SUCCESS',\n",
       " 'order_datetime=2021-06-17',\n",
       " 'order_datetime=2021-05-30',\n",
       " 'order_datetime=2021-05-08',\n",
       " 'order_datetime=2021-06-10',\n",
       " 'order_datetime=2021-06-19',\n",
       " 'order_datetime=2021-05-01',\n",
       " 'order_datetime=2021-06-26',\n",
       " 'order_datetime=2021-06-21',\n",
       " 'order_datetime=2021-05-06',\n",
       " 'order_datetime=2021-05-07',\n",
       " 'order_datetime=2021-06-20',\n",
       " 'order_datetime=2021-06-18',\n",
       " 'order_datetime=2021-02-28',\n",
       " 'order_datetime=2021-06-27',\n",
       " 'order_datetime=2021-05-09',\n",
       " 'order_datetime=2021-06-11',\n",
       " 'order_datetime=2021-06-29',\n",
       " 'order_datetime=2021-05-31',\n",
       " 'order_datetime=2021-06-16',\n",
       " 'order_datetime=2021-08-04',\n",
       " 'order_datetime=2021-08-03',\n",
       " 'order_datetime=2021-03-10',\n",
       " 'order_datetime=2021-04-07',\n",
       " 'order_datetime=2021-07-20',\n",
       " 'order_datetime=2021-07-18',\n",
       " 'order_datetime=2021-03-28',\n",
       " 'order_datetime=2021-07-27',\n",
       " 'order_datetime=2021-03-17',\n",
       " 'order_datetime=2021-04-09',\n",
       " 'order_datetime=2021-07-11',\n",
       " 'order_datetime=2021-03-21',\n",
       " 'order_datetime=2021-03-19',\n",
       " 'order_datetime=2021-07-29',\n",
       " 'order_datetime=2021-03-26',\n",
       " 'order_datetime=2021-07-16',\n",
       " 'order_datetime=2021-08-02',\n",
       " 'order_datetime=2021-08-05',\n",
       " 'order_datetime=2021-07-28',\n",
       " 'order_datetime=2021-03-18',\n",
       " 'order_datetime=2021-07-17',\n",
       " 'order_datetime=2021-04-30',\n",
       " 'order_datetime=2021-03-27',\n",
       " 'order_datetime=2021-04-08',\n",
       " 'order_datetime=2021-03-20',\n",
       " 'order_datetime=2021-07-10',\n",
       " 'order_datetime=2021-03-29',\n",
       " 'order_datetime=2021-07-19',\n",
       " 'order_datetime=2021-03-16',\n",
       " 'order_datetime=2021-04-01',\n",
       " 'order_datetime=2021-07-26',\n",
       " 'order_datetime=2021-07-21',\n",
       " 'order_datetime=2021-04-06']"
      ]
     },
     "execution_count": 10,
     "metadata": {},
     "output_type": "execute_result"
    }
   ],
   "source": [
    "path = \"transactions_20210228_20210827_snapshot/\"\n",
    "list_files = os.listdir(path)\n",
    "list_files = list_files[1:(len(list_files)-1)]\n",
    "list_files"
   ]
  },
  {
   "cell_type": "code",
   "execution_count": null,
   "id": "8bfba2da",
   "metadata": {},
   "outputs": [],
   "source": [
    "# import modules\n",
    "from pyspark.sql import SparkSession\n",
    "import functools\n",
    " \n",
    "# explicit function\n",
    "def unionAll(dfs):\n",
    "    return functools.reduce(lambda df1, df2: df1.union(df2.select(df1.columns)), dfs)\n",
    "\n",
    "# insert datetime\n",
    "file_name = os.listdir(path+ list_files[0])[1]\n",
    "transaction = spark.read.parquet(path+ list_files[0] +\"/\" + file_name)\n",
    "for i in list_files[1:]:\n",
    "    file_name = os.listdir(path + i)[1]\n",
    "    tmp = spark.read.parquet(path+ i +\"/\" + file_name)\n",
    "    transaction = unionAll([transaction, tmp] )"
   ]
  },
  {
   "cell_type": "markdown",
   "id": "eb903c2a",
   "metadata": {},
   "source": [
    "### Inspecting transaction dataset"
   ]
  },
  {
   "cell_type": "code",
   "execution_count": 7,
   "id": "8b422961",
   "metadata": {},
   "outputs": [
    {
     "data": {
      "text/html": [
       "<table border='1'>\n",
       "<tr><th>user_id</th><th>merchant_abn</th><th>dollar_value</th><th>order_id</th><th>order_datetime</th></tr>\n",
       "<tr><td>18478</td><td>62191208634</td><td>63.255848959735246</td><td>949a63c8-29f7-4ab...</td><td>2021-08-20</td></tr>\n",
       "<tr><td>2</td><td>15549624934</td><td>130.3505283105634</td><td>6a84c3cf-612a-457...</td><td>2021-08-20</td></tr>\n",
       "<tr><td>18479</td><td>64403598239</td><td>120.15860593212783</td><td>b10dcc33-e53f-425...</td><td>2021-08-20</td></tr>\n",
       "<tr><td>3</td><td>60956456424</td><td>136.6785200286976</td><td>0f09c5a5-784e-447...</td><td>2021-08-20</td></tr>\n",
       "<tr><td>18479</td><td>94493496784</td><td>72.96316578355305</td><td>f6c78c1a-4600-4c5...</td><td>2021-08-20</td></tr>\n",
       "<tr><td>3</td><td>76819856970</td><td>448.529684285612</td><td>5ace6a24-cdf0-4aa...</td><td>2021-08-20</td></tr>\n",
       "<tr><td>18479</td><td>67609108741</td><td>86.4040605836911</td><td>d0e180f0-cb06-42a...</td><td>2021-08-20</td></tr>\n",
       "<tr><td>3</td><td>34096466752</td><td>301.5793450525113</td><td>6fb1ff48-24bb-4f9...</td><td>2021-08-20</td></tr>\n",
       "<tr><td>18482</td><td>70501974849</td><td>68.75486276223054</td><td>8505fb33-b69a-412...</td><td>2021-08-20</td></tr>\n",
       "<tr><td>4</td><td>49891706470</td><td>48.89796461900801</td><td>ed11e477-b09f-4ae...</td><td>2021-08-20</td></tr>\n",
       "<tr><td>18482</td><td>46804135891</td><td>6.6168976971833615</td><td>05b5edb5-b925-414...</td><td>2021-08-20</td></tr>\n",
       "<tr><td>7</td><td>33064796871</td><td>373.0873675184212</td><td>fe188788-b89f-4dd...</td><td>2021-08-20</td></tr>\n",
       "<tr><td>18483</td><td>44160392990</td><td>83.98473054761176</td><td>7c44302d-98b3-48b...</td><td>2021-08-20</td></tr>\n",
       "<tr><td>7</td><td>68435002949</td><td>232.5364986739752</td><td>b4a89891-a113-45e...</td><td>2021-08-20</td></tr>\n",
       "<tr><td>18484</td><td>70033549200</td><td>871.7678061729196</td><td>4b1d941a-21a1-43e...</td><td>2021-08-20</td></tr>\n",
       "<tr><td>7</td><td>41944909975</td><td>30.910755230234322</td><td>302ae628-8eba-4a5...</td><td>2021-08-20</td></tr>\n",
       "<tr><td>18485</td><td>41705715409</td><td>309.5417224575787</td><td>67f4f98e-3149-4e8...</td><td>2021-08-20</td></tr>\n",
       "<tr><td>8</td><td>29566626791</td><td>74.15732460440282</td><td>71a81652-cc91-4bf...</td><td>2021-08-20</td></tr>\n",
       "<tr><td>18487</td><td>32361057556</td><td>119.19055863068847</td><td>15577921-1104-470...</td><td>2021-08-20</td></tr>\n",
       "<tr><td>9</td><td>47663262928</td><td>36.69873283148887</td><td>c4fcb49a-ce87-4e1...</td><td>2021-08-20</td></tr>\n",
       "</table>\n",
       "only showing top 20 rows\n"
      ],
      "text/plain": [
       "+-------+------------+------------------+--------------------+--------------+\n",
       "|user_id|merchant_abn|      dollar_value|            order_id|order_datetime|\n",
       "+-------+------------+------------------+--------------------+--------------+\n",
       "|  18478| 62191208634|63.255848959735246|949a63c8-29f7-4ab...|    2021-08-20|\n",
       "|      2| 15549624934| 130.3505283105634|6a84c3cf-612a-457...|    2021-08-20|\n",
       "|  18479| 64403598239|120.15860593212783|b10dcc33-e53f-425...|    2021-08-20|\n",
       "|      3| 60956456424| 136.6785200286976|0f09c5a5-784e-447...|    2021-08-20|\n",
       "|  18479| 94493496784| 72.96316578355305|f6c78c1a-4600-4c5...|    2021-08-20|\n",
       "|      3| 76819856970|  448.529684285612|5ace6a24-cdf0-4aa...|    2021-08-20|\n",
       "|  18479| 67609108741|  86.4040605836911|d0e180f0-cb06-42a...|    2021-08-20|\n",
       "|      3| 34096466752| 301.5793450525113|6fb1ff48-24bb-4f9...|    2021-08-20|\n",
       "|  18482| 70501974849| 68.75486276223054|8505fb33-b69a-412...|    2021-08-20|\n",
       "|      4| 49891706470| 48.89796461900801|ed11e477-b09f-4ae...|    2021-08-20|\n",
       "|  18482| 46804135891|6.6168976971833615|05b5edb5-b925-414...|    2021-08-20|\n",
       "|      7| 33064796871| 373.0873675184212|fe188788-b89f-4dd...|    2021-08-20|\n",
       "|  18483| 44160392990| 83.98473054761176|7c44302d-98b3-48b...|    2021-08-20|\n",
       "|      7| 68435002949| 232.5364986739752|b4a89891-a113-45e...|    2021-08-20|\n",
       "|  18484| 70033549200| 871.7678061729196|4b1d941a-21a1-43e...|    2021-08-20|\n",
       "|      7| 41944909975|30.910755230234322|302ae628-8eba-4a5...|    2021-08-20|\n",
       "|  18485| 41705715409| 309.5417224575787|67f4f98e-3149-4e8...|    2021-08-20|\n",
       "|      8| 29566626791| 74.15732460440282|71a81652-cc91-4bf...|    2021-08-20|\n",
       "|  18487| 32361057556|119.19055863068847|15577921-1104-470...|    2021-08-20|\n",
       "|      9| 47663262928| 36.69873283148887|c4fcb49a-ce87-4e1...|    2021-08-20|\n",
       "+-------+------------+------------------+--------------------+--------------+\n",
       "only showing top 20 rows"
      ]
     },
     "execution_count": 7,
     "metadata": {},
     "output_type": "execute_result"
    }
   ],
   "source": [
    "transaction"
   ]
  },
  {
   "cell_type": "code",
   "execution_count": 8,
   "id": "c42781c2",
   "metadata": {},
   "outputs": [
    {
     "name": "stdout",
     "output_type": "stream",
     "text": [
      "root\n",
      " |-- user_id: long (nullable = true)\n",
      " |-- merchant_abn: long (nullable = true)\n",
      " |-- dollar_value: double (nullable = true)\n",
      " |-- order_id: string (nullable = true)\n",
      " |-- order_datetime: date (nullable = true)\n",
      "\n"
     ]
    }
   ],
   "source": [
    "transaction.printSchema()"
   ]
  },
  {
   "cell_type": "code",
   "execution_count": 9,
   "id": "e30de101",
   "metadata": {},
   "outputs": [
    {
     "name": "stdout",
     "output_type": "stream",
     "text": [
      "Dataset details: \n",
      "\tNumber of rows: 3643266 \n",
      "\tNumber of distinct order: 3643266 \n",
      "\tPeriod: 2021-02-28 - 2021-08-27\n"
     ]
    }
   ],
   "source": [
    "min_date, max_date = transaction.select(min(\"order_datetime\"), max(\"order_datetime\")).first()\n",
    "\n",
    "print(f\"Dataset details: \\n\\tNumber of rows: {transaction.count()}\", \\\n",
    "      f\"\\n\\tNumber of distinct order: {transaction.select('order_id').distinct().count()}\", \\\n",
    "      f\"\\n\\tPeriod: {min_date} - {max_date}\")"
   ]
  },
  {
   "cell_type": "markdown",
   "id": "460d7b22",
   "metadata": {},
   "source": [
    "### Checking for missing values in transaction dataset"
   ]
  },
  {
   "cell_type": "code",
   "execution_count": 110,
   "id": "84fa497f",
   "metadata": {},
   "outputs": [
    {
     "data": {
      "text/html": [
       "<table border='1'>\n",
       "<tr><th>user_id</th><th>merchant_abn</th><th>dollar_value</th><th>order_id</th></tr>\n",
       "<tr><td>0</td><td>0</td><td>0</td><td>0</td></tr>\n",
       "</table>\n"
      ],
      "text/plain": [
       "+-------+------------+------------+--------+\n",
       "|user_id|merchant_abn|dollar_value|order_id|\n",
       "+-------+------------+------------+--------+\n",
       "|      0|           0|           0|       0|\n",
       "+-------+------------+------------+--------+"
      ]
     },
     "execution_count": 110,
     "metadata": {},
     "output_type": "execute_result"
    }
   ],
   "source": [
    "missing_values_check(transaction)"
   ]
  },
  {
   "cell_type": "code",
   "execution_count": null,
   "id": "d438def5",
   "metadata": {},
   "outputs": [],
   "source": [
    "transaction.count()"
   ]
  },
  {
   "cell_type": "markdown",
   "id": "7b7ae258",
   "metadata": {},
   "source": [
    "# Merchant dataset"
   ]
  },
  {
   "cell_type": "code",
   "execution_count": 112,
   "id": "5ddc32c4",
   "metadata": {},
   "outputs": [
    {
     "data": {
      "text/html": [
       "<table border='1'>\n",
       "<tr><th>name</th><th>tags</th><th>merchant_abn</th></tr>\n",
       "<tr><td>Felis Limited</td><td>((furniture, home...</td><td>10023283211</td></tr>\n",
       "<tr><td>Arcu Ac Orci Corp...</td><td>([cable, satellit...</td><td>10142254217</td></tr>\n",
       "<tr><td>Nunc Sed Company</td><td>([jewelry, watch,...</td><td>10165489824</td></tr>\n",
       "<tr><td>Ultricies Digniss...</td><td>([wAtch, clock, a...</td><td>10187291046</td></tr>\n",
       "<tr><td>Enim Condimentum PC</td><td>([music shops - m...</td><td>10192359162</td></tr>\n",
       "<tr><td>Fusce Company</td><td>[(gift, card, nov...</td><td>10206519221</td></tr>\n",
       "<tr><td>Aliquam Enim Inco...</td><td>[(computers, comP...</td><td>10255988167</td></tr>\n",
       "<tr><td>Ipsum Primis Ltd</td><td>[[watch, clock, a...</td><td>10264435225</td></tr>\n",
       "<tr><td>Pede Ultrices Ind...</td><td>([computer progra...</td><td>10279061213</td></tr>\n",
       "<tr><td>Nunc Inc.</td><td>[(furniture, home...</td><td>10323485998</td></tr>\n",
       "<tr><td>Facilisis Facilis...</td><td>([computers, comp...</td><td>10342410215</td></tr>\n",
       "<tr><td>Odio Institute</td><td>((equipment, tool...</td><td>10346855916</td></tr>\n",
       "<tr><td>Rutrum Justo Ltd</td><td>([music shops - m...</td><td>10364012396</td></tr>\n",
       "<tr><td>Tellus Foundation</td><td>[[artist supply a...</td><td>10385011947</td></tr>\n",
       "<tr><td>Sed Et Company</td><td>([florists suppli...</td><td>10385163239</td></tr>\n",
       "<tr><td>Id Ltd</td><td>([computers, comp...</td><td>10385250025</td></tr>\n",
       "<tr><td>Consequat Foundation</td><td>[[antique shops -...</td><td>10404542215</td></tr>\n",
       "<tr><td>Sit Amet Nulla Corp.</td><td>[[motor vehicle s...</td><td>10430380319</td></tr>\n",
       "<tr><td>Massa Vestibulum ...</td><td>[(moTor vehicle s...</td><td>10441711491</td></tr>\n",
       "<tr><td>Ut Consulting</td><td>([gift, card, nov...</td><td>10462560289</td></tr>\n",
       "</table>\n",
       "only showing top 20 rows\n"
      ],
      "text/plain": [
       "+--------------------+--------------------+------------+\n",
       "|                name|                tags|merchant_abn|\n",
       "+--------------------+--------------------+------------+\n",
       "|       Felis Limited|((furniture, home...| 10023283211|\n",
       "|Arcu Ac Orci Corp...|([cable, satellit...| 10142254217|\n",
       "|    Nunc Sed Company|([jewelry, watch,...| 10165489824|\n",
       "|Ultricies Digniss...|([wAtch, clock, a...| 10187291046|\n",
       "| Enim Condimentum PC|([music shops - m...| 10192359162|\n",
       "|       Fusce Company|[(gift, card, nov...| 10206519221|\n",
       "|Aliquam Enim Inco...|[(computers, comP...| 10255988167|\n",
       "|    Ipsum Primis Ltd|[[watch, clock, a...| 10264435225|\n",
       "|Pede Ultrices Ind...|([computer progra...| 10279061213|\n",
       "|           Nunc Inc.|[(furniture, home...| 10323485998|\n",
       "|Facilisis Facilis...|([computers, comp...| 10342410215|\n",
       "|      Odio Institute|((equipment, tool...| 10346855916|\n",
       "|    Rutrum Justo Ltd|([music shops - m...| 10364012396|\n",
       "|   Tellus Foundation|[[artist supply a...| 10385011947|\n",
       "|      Sed Et Company|([florists suppli...| 10385163239|\n",
       "|              Id Ltd|([computers, comp...| 10385250025|\n",
       "|Consequat Foundation|[[antique shops -...| 10404542215|\n",
       "|Sit Amet Nulla Corp.|[[motor vehicle s...| 10430380319|\n",
       "|Massa Vestibulum ...|[(moTor vehicle s...| 10441711491|\n",
       "|       Ut Consulting|([gift, card, nov...| 10462560289|\n",
       "+--------------------+--------------------+------------+\n",
       "only showing top 20 rows"
      ]
     },
     "execution_count": 112,
     "metadata": {},
     "output_type": "execute_result"
    }
   ],
   "source": [
    "merchant = spark.read.parquet(\"tbl_merchants.parquet\")\n",
    "merchant"
   ]
  },
  {
   "cell_type": "code",
   "execution_count": 113,
   "id": "476dc842",
   "metadata": {},
   "outputs": [
    {
     "name": "stdout",
     "output_type": "stream",
     "text": [
      "root\n",
      " |-- name: string (nullable = true)\n",
      " |-- tags: string (nullable = true)\n",
      " |-- merchant_abn: long (nullable = true)\n",
      "\n"
     ]
    }
   ],
   "source": [
    "merchant.printSchema()"
   ]
  },
  {
   "cell_type": "code",
   "execution_count": 114,
   "id": "38f195f3",
   "metadata": {},
   "outputs": [
    {
     "name": "stdout",
     "output_type": "stream",
     "text": [
      "Dataset details: \n",
      "\tNumber of rows: 4026 \n",
      "\tNumber of distinct Merchant ABN: 4026\n"
     ]
    }
   ],
   "source": [
    "print(f\"Dataset details: \\n\\tNumber of rows: {merchant.count()}\", \\\n",
    "      f\"\\n\\tNumber of distinct Merchant ABN: {merchant.select('merchant_abn').distinct().count()}\")"
   ]
  },
  {
   "cell_type": "markdown",
   "id": "95b644f9",
   "metadata": {},
   "source": [
    "### Checking for missing values in merchant dataset"
   ]
  },
  {
   "cell_type": "code",
   "execution_count": 115,
   "id": "23db193c",
   "metadata": {},
   "outputs": [
    {
     "data": {
      "text/html": [
       "<table border='1'>\n",
       "<tr><th>name</th><th>tags</th><th>merchant_abn</th></tr>\n",
       "<tr><td>0</td><td>0</td><td>0</td></tr>\n",
       "</table>\n"
      ],
      "text/plain": [
       "+----+----+------------+\n",
       "|name|tags|merchant_abn|\n",
       "+----+----+------------+\n",
       "|   0|   0|           0|\n",
       "+----+----+------------+"
      ]
     },
     "execution_count": 115,
     "metadata": {},
     "output_type": "execute_result"
    }
   ],
   "source": [
    "missing_values_check(merchant)"
   ]
  },
  {
   "cell_type": "markdown",
   "id": "b628402d",
   "metadata": {},
   "source": [
    "### The tags column consists of tags, revenue levels and take rate of a merchant\n",
    "- **Revenue Levels**: (a, b, c, d, e) represents the **level of revenue bands** (unknown to groups). a denotes the smallest band whilst e denotes the highest revenue band. <font color='red'>**Highly relevant in ranking merchant</font> \n",
    "- **Take Rate**: the **fee charged by the BNPL firm** to a merchant on a transaction. That is, for each transaction made, a certain percentage is taken by the BNPL firm.<font color='red'>**Highly relevant in ranking merchant</font> \n",
    "- The dataset has been created to mimic a Salesforce data extract (i.e salespeople will type in tags and segments within a **free-text** field). <font color='red'>This suggests use of lemmatizating/stemming/fuzzy methods to group similar texts?</font> \n",
    "- As such, please be aware of small **human errors** when parsing the dataset.\n",
    "- For Example, the tag field may have errors as they were manually input by employees."
   ]
  },
  {
   "cell_type": "markdown",
   "id": "afb77c16",
   "metadata": {},
   "source": [
    "Since the data is small, we will be using Pandas to deal with Merchant data for convenience."
   ]
  },
  {
   "cell_type": "code",
   "execution_count": 122,
   "id": "00afbd4f",
   "metadata": {},
   "outputs": [],
   "source": [
    "merchant = merchant.toPandas()"
   ]
  },
  {
   "cell_type": "code",
   "execution_count": 123,
   "id": "42711880",
   "metadata": {},
   "outputs": [
    {
     "name": "stdout",
     "output_type": "stream",
     "text": [
      "((furniture, home furnishings and equipment shops, and manufacturers, except appliances), (e), (take rate: 0.18))\n",
      "([cable, satellite, and otHer pay television and radio services], [b], [take rate: 4.22])\n",
      "([jewelry, watch, clock, and silverware shops], [b], [take rate: 4.40])\n",
      "([wAtch, clock, and jewelry repair shops], [b], [take rate: 3.29])\n",
      "([music shops - musical instruments, pianos, and sheet music], [a], [take rate: 6.33])\n"
     ]
    }
   ],
   "source": [
    "# Display first 5 rows for \"tags\"\n",
    "for idx, row in merchant.head(5).iterrows():\n",
    "    print(row['tags'])\n"
   ]
  },
  {
   "cell_type": "markdown",
   "id": "d3bf034a",
   "metadata": {},
   "source": [
    "### Extract Revenue Levels and Take Rate columns"
   ]
  },
  {
   "cell_type": "code",
   "execution_count": 124,
   "id": "196915ad",
   "metadata": {},
   "outputs": [],
   "source": [
    "# Function to extract tags, revenue level and take rate from tags column\n",
    "def extract_tags(arr, category='tags'):\n",
    "    \n",
    "    # Split tags into the three components\n",
    "    arr = arr[1:-1]\n",
    "    split_arr = re.split('\\), \\(|\\], \\[', arr.strip('[()]'))\n",
    "    \n",
    "    if category == 'take_rate':\n",
    "        return re.findall('[\\d\\.\\d]+', split_arr[2])[0]\n",
    "    \n",
    "    elif category == 'revenue_level':\n",
    "        return split_arr[1].lower()\n",
    "    \n",
    "    return split_arr[0].lower()\n"
   ]
  },
  {
   "cell_type": "code",
   "execution_count": 125,
   "id": "edcf8d17",
   "metadata": {},
   "outputs": [],
   "source": [
    "# Extract all three components in tags as standalone columns\n",
    "merchant['take_rate'] = merchant['tags'].apply(lambda x : extract_tags(x, 'take_rate'))\n",
    "merchant['revenue_level'] = merchant['tags'].apply(lambda x : extract_tags(x, 'revenue_level'))\n",
    "merchant['tags'] = merchant['tags'].apply(lambda x : extract_tags(x, 'tags'))\n"
   ]
  },
  {
   "cell_type": "code",
   "execution_count": 126,
   "id": "fa04047f",
   "metadata": {},
   "outputs": [
    {
     "name": "stdout",
     "output_type": "stream",
     "text": [
      "Unique value in Revenue Level: ['e' 'b' 'a' 'c' 'd']\n",
      "Range of Take Rate: 0.10 - 7.00\n"
     ]
    }
   ],
   "source": [
    "# Check if we extracted the take_rate and rev_level values correctly\n",
    "print(f\"Unique value in Revenue Level: {merchant['revenue_level'].unique()}\")\n",
    "print(f\"Range of Take Rate: {merchant['take_rate'].min()} - {merchant['take_rate'].max()}\")\n"
   ]
  },
  {
   "cell_type": "code",
   "execution_count": 127,
   "id": "3de0fff1",
   "metadata": {},
   "outputs": [
    {
     "data": {
      "text/plain": [
       "name             object\n",
       "tags             object\n",
       "merchant_abn      int64\n",
       "take_rate        object\n",
       "revenue_level    object\n",
       "dtype: object"
      ]
     },
     "execution_count": 127,
     "metadata": {},
     "output_type": "execute_result"
    }
   ],
   "source": [
    "# Check data type for columns\n",
    "merchant.dtypes"
   ]
  },
  {
   "cell_type": "code",
   "execution_count": 128,
   "id": "59999e40",
   "metadata": {},
   "outputs": [],
   "source": [
    "merchant['take_rate'] = pd.to_numeric(merchant['take_rate'])"
   ]
  },
  {
   "cell_type": "code",
   "execution_count": 129,
   "id": "0d8c1b07",
   "metadata": {},
   "outputs": [
    {
     "data": {
      "text/plain": [
       "name              object\n",
       "tags              object\n",
       "merchant_abn       int64\n",
       "take_rate        float64\n",
       "revenue_level     object\n",
       "dtype: object"
      ]
     },
     "execution_count": 129,
     "metadata": {},
     "output_type": "execute_result"
    }
   ],
   "source": [
    "# Check data type for columns\n",
    "merchant.dtypes"
   ]
  },
  {
   "cell_type": "code",
   "execution_count": 130,
   "id": "3080d8f0",
   "metadata": {},
   "outputs": [],
   "source": [
    "merchant.to_csv('../curated/clean_merchant.csv')"
   ]
  },
  {
   "cell_type": "markdown",
   "id": "fac89c80",
   "metadata": {},
   "source": [
    "# Aggregation\n",
    "\n",
    "Here we generate various aggregate data to supplement our analyses and modelling."
   ]
  },
  {
   "cell_type": "markdown",
   "id": "9a27b933",
   "metadata": {},
   "source": [
    "### Merchant Sales"
   ]
  },
  {
   "cell_type": "code",
   "execution_count": 16,
   "id": "c9863407",
   "metadata": {},
   "outputs": [],
   "source": [
    "# Generate data which summarizes merchants' sales\n",
    "merchant_sales = (transaction.groupby('merchant_abn', 'order_datetime')\n",
    "                             .agg({'dollar_value':'sum',\n",
    "                                   'order_id':'count'})\n",
    "                             .withColumnRenamed('sum(dollar_value)', 'sales_revenue')\n",
    "                             .withColumnRenamed('count(order_id)', 'no_orders'))"
   ]
  },
  {
   "cell_type": "code",
   "execution_count": 17,
   "id": "569f2db4",
   "metadata": {},
   "outputs": [
    {
     "data": {
      "text/html": [
       "<table border='1'>\n",
       "<tr><th>merchant_abn</th><th>order_datetime</th><th>sales_revenue</th><th>no_orders</th></tr>\n",
       "<tr><td>90173050473</td><td>2021-08-20</td><td>10065.92598002776</td><td>41</td></tr>\n",
       "<tr><td>91455531890</td><td>2021-08-20</td><td>1486.8427457787936</td><td>3</td></tr>\n",
       "<tr><td>14480530534</td><td>2021-08-20</td><td>3273.1834477999028</td><td>2</td></tr>\n",
       "<tr><td>54062916822</td><td>2021-08-20</td><td>33.80538233308192</td><td>1</td></tr>\n",
       "<tr><td>73225085327</td><td>2021-08-20</td><td>342.0587279527964</td><td>1</td></tr>\n",
       "<tr><td>34558201737</td><td>2021-08-20</td><td>623.7741963160896</td><td>13</td></tr>\n",
       "<tr><td>63523606379</td><td>2021-08-20</td><td>748.1316659657341</td><td>2</td></tr>\n",
       "<tr><td>15130143460</td><td>2021-08-20</td><td>3389.0731959179543</td><td>6</td></tr>\n",
       "<tr><td>49167531725</td><td>2021-08-20</td><td>404.49218244684687</td><td>8</td></tr>\n",
       "<tr><td>10023283211</td><td>2021-08-20</td><td>957.3137092766215</td><td>5</td></tr>\n",
       "<tr><td>46622394552</td><td>2021-08-20</td><td>1073.3666428950974</td><td>2</td></tr>\n",
       "<tr><td>87639550697</td><td>2021-08-21</td><td>1934.478533315841</td><td>30</td></tr>\n",
       "<tr><td>89260537373</td><td>2021-08-21</td><td>5480.46445786499</td><td>11</td></tr>\n",
       "<tr><td>71523080801</td><td>2021-08-21</td><td>863.3654660941532</td><td>1</td></tr>\n",
       "<tr><td>48390524826</td><td>2021-08-21</td><td>1332.544828068976</td><td>7</td></tr>\n",
       "<tr><td>97903083009</td><td>2021-08-21</td><td>1133.6689623660864</td><td>2</td></tr>\n",
       "<tr><td>61376261291</td><td>2021-08-21</td><td>570.9557533950517</td><td>1</td></tr>\n",
       "<tr><td>29613837166</td><td>2021-08-21</td><td>1.055506256053634</td><td>1</td></tr>\n",
       "<tr><td>59128133246</td><td>2021-08-19</td><td>323.60194002406206</td><td>12</td></tr>\n",
       "<tr><td>23754348523</td><td>2021-08-19</td><td>1551.119853964816</td><td>4</td></tr>\n",
       "</table>\n",
       "only showing top 20 rows\n"
      ],
      "text/plain": [
       "+------------+--------------+------------------+---------+\n",
       "|merchant_abn|order_datetime|     sales_revenue|no_orders|\n",
       "+------------+--------------+------------------+---------+\n",
       "| 90173050473|    2021-08-20| 10065.92598002776|       41|\n",
       "| 91455531890|    2021-08-20|1486.8427457787936|        3|\n",
       "| 14480530534|    2021-08-20|3273.1834477999028|        2|\n",
       "| 54062916822|    2021-08-20| 33.80538233308192|        1|\n",
       "| 73225085327|    2021-08-20| 342.0587279527964|        1|\n",
       "| 34558201737|    2021-08-20| 623.7741963160896|       13|\n",
       "| 63523606379|    2021-08-20| 748.1316659657341|        2|\n",
       "| 15130143460|    2021-08-20|3389.0731959179543|        6|\n",
       "| 49167531725|    2021-08-20|404.49218244684687|        8|\n",
       "| 10023283211|    2021-08-20| 957.3137092766215|        5|\n",
       "| 46622394552|    2021-08-20|1073.3666428950974|        2|\n",
       "| 87639550697|    2021-08-21| 1934.478533315841|       30|\n",
       "| 89260537373|    2021-08-21|  5480.46445786499|       11|\n",
       "| 71523080801|    2021-08-21| 863.3654660941532|        1|\n",
       "| 48390524826|    2021-08-21| 1332.544828068976|        7|\n",
       "| 97903083009|    2021-08-21|1133.6689623660864|        2|\n",
       "| 61376261291|    2021-08-21| 570.9557533950517|        1|\n",
       "| 29613837166|    2021-08-21| 1.055506256053634|        1|\n",
       "| 59128133246|    2021-08-19|323.60194002406206|       12|\n",
       "| 23754348523|    2021-08-19| 1551.119853964816|        4|\n",
       "+------------+--------------+------------------+---------+\n",
       "only showing top 20 rows"
      ]
     },
     "execution_count": 17,
     "metadata": {},
     "output_type": "execute_result"
    }
   ],
   "source": [
    "merchant_sales"
   ]
  },
  {
   "cell_type": "code",
   "execution_count": 117,
   "id": "97528a4e",
   "metadata": {},
   "outputs": [],
   "source": [
    "# Download data\n",
    "merchant_sales.write.parquet(\"../curated/merchant_sales.parquet\")"
   ]
  },
  {
   "cell_type": "markdown",
   "id": "d95626c2",
   "metadata": {},
   "source": [
    "### Customers Purchase Behaviour"
   ]
  },
  {
   "cell_type": "code",
   "execution_count": 18,
   "id": "d2fba7b7",
   "metadata": {},
   "outputs": [],
   "source": [
    "# Generate data which summarizes customers spendings\n",
    "customer_purchases = (transaction.groupby('user_id', 'order_datetime')\n",
    "                                 .agg({'dollar_value':'sum',\n",
    "                                       'order_id':'count'})\n",
    "                                 .withColumnRenamed('sum(dollar_value)', 'dollar_spent')\n",
    "                                 .withColumnRenamed('count(order_id)', 'no_orders'))\n"
   ]
  },
  {
   "cell_type": "code",
   "execution_count": 19,
   "id": "745f147a",
   "metadata": {},
   "outputs": [
    {
     "data": {
      "text/html": [
       "<table border='1'>\n",
       "<tr><th>user_id</th><th>order_datetime</th><th>dollar_spent</th><th>no_orders</th></tr>\n",
       "<tr><td>18488</td><td>2021-08-20</td><td>468.9797223930378</td><td>3</td></tr>\n",
       "<tr><td>686</td><td>2021-08-20</td><td>231.87884410751695</td><td>2</td></tr>\n",
       "<tr><td>19292</td><td>2021-08-20</td><td>961.7931435852486</td><td>1</td></tr>\n",
       "<tr><td>778</td><td>2021-08-20</td><td>64.44320007323647</td><td>2</td></tr>\n",
       "<tr><td>786</td><td>2021-08-20</td><td>80.29337626952264</td><td>1</td></tr>\n",
       "<tr><td>19476</td><td>2021-08-20</td><td>506.69827263377283</td><td>2</td></tr>\n",
       "<tr><td>19497</td><td>2021-08-20</td><td>185.18180257359967</td><td>2</td></tr>\n",
       "<tr><td>19628</td><td>2021-08-20</td><td>421.706928005088</td><td>2</td></tr>\n",
       "<tr><td>19631</td><td>2021-08-20</td><td>15.836078616105175</td><td>1</td></tr>\n",
       "<tr><td>19672</td><td>2021-08-20</td><td>58.311520840379146</td><td>3</td></tr>\n",
       "<tr><td>1205</td><td>2021-08-20</td><td>115.134188726205</td><td>2</td></tr>\n",
       "<tr><td>1491</td><td>2021-08-20</td><td>162.98586479264534</td><td>2</td></tr>\n",
       "<tr><td>1691</td><td>2021-08-20</td><td>357.30538098715726</td><td>1</td></tr>\n",
       "<tr><td>1693</td><td>2021-08-20</td><td>359.4497819857119</td><td>3</td></tr>\n",
       "<tr><td>20431</td><td>2021-08-20</td><td>6.212269201799761</td><td>1</td></tr>\n",
       "<tr><td>20834</td><td>2021-08-20</td><td>51.921419955145815</td><td>1</td></tr>\n",
       "<tr><td>2243</td><td>2021-08-20</td><td>338.23809472641636</td><td>4</td></tr>\n",
       "<tr><td>21061</td><td>2021-08-20</td><td>51.943165085659054</td><td>1</td></tr>\n",
       "<tr><td>2647</td><td>2021-08-20</td><td>181.92268348829896</td><td>1</td></tr>\n",
       "<tr><td>2716</td><td>2021-08-20</td><td>134.35872561661037</td><td>2</td></tr>\n",
       "</table>\n",
       "only showing top 20 rows\n"
      ],
      "text/plain": [
       "+-------+--------------+------------------+---------+\n",
       "|user_id|order_datetime|      dollar_spent|no_orders|\n",
       "+-------+--------------+------------------+---------+\n",
       "|  18488|    2021-08-20| 468.9797223930378|        3|\n",
       "|    686|    2021-08-20|231.87884410751695|        2|\n",
       "|  19292|    2021-08-20| 961.7931435852486|        1|\n",
       "|    778|    2021-08-20| 64.44320007323647|        2|\n",
       "|    786|    2021-08-20| 80.29337626952264|        1|\n",
       "|  19476|    2021-08-20|506.69827263377283|        2|\n",
       "|  19497|    2021-08-20|185.18180257359967|        2|\n",
       "|  19628|    2021-08-20|  421.706928005088|        2|\n",
       "|  19631|    2021-08-20|15.836078616105175|        1|\n",
       "|  19672|    2021-08-20|58.311520840379146|        3|\n",
       "|   1205|    2021-08-20|  115.134188726205|        2|\n",
       "|   1491|    2021-08-20|162.98586479264534|        2|\n",
       "|   1691|    2021-08-20|357.30538098715726|        1|\n",
       "|   1693|    2021-08-20| 359.4497819857119|        3|\n",
       "|  20431|    2021-08-20| 6.212269201799761|        1|\n",
       "|  20834|    2021-08-20|51.921419955145815|        1|\n",
       "|   2243|    2021-08-20|338.23809472641636|        4|\n",
       "|  21061|    2021-08-20|51.943165085659054|        1|\n",
       "|   2647|    2021-08-20|181.92268348829896|        1|\n",
       "|   2716|    2021-08-20|134.35872561661037|        2|\n",
       "+-------+--------------+------------------+---------+\n",
       "only showing top 20 rows"
      ]
     },
     "execution_count": 19,
     "metadata": {},
     "output_type": "execute_result"
    }
   ],
   "source": [
    "customer_purchases"
   ]
  },
  {
   "cell_type": "code",
   "execution_count": null,
   "id": "b40fd062",
   "metadata": {},
   "outputs": [],
   "source": [
    "# Download data\n",
    "customer_purchases.write.parquet(\"../curated/customer_purchase_behaviour.parquet\")"
   ]
  },
  {
   "cell_type": "markdown",
   "id": "14eaff49",
   "metadata": {},
   "source": [
    "### Sales by Region"
   ]
  },
  {
   "cell_type": "code",
   "execution_count": 43,
   "id": "4d3e262b",
   "metadata": {},
   "outputs": [],
   "source": [
    "# Join transaction data with customer data\n",
    "customer_transaction = (transaction.join(user_detail, transaction.user_id == user_detail.user_id)\n",
    "                                   .drop(user_detail.user_id))\n",
    "\n",
    "customer_transaction = (customer_transaction.join(consumer, customer_transaction.consumer_id == consumer.consumer_id)\n",
    "                                            .drop(consumer.consumer_id)\n",
    "                                            .select(transaction['*'], consumer.postcode, consumer.state, consumer.gender))"
   ]
  },
  {
   "cell_type": "code",
   "execution_count": 44,
   "id": "2f4123af",
   "metadata": {},
   "outputs": [
    {
     "data": {
      "text/html": [
       "<table border='1'>\n",
       "<tr><th>user_id</th><th>merchant_abn</th><th>dollar_value</th><th>order_id</th><th>order_datetime</th><th>postcode</th><th>state</th><th>gender</th></tr>\n",
       "<tr><td>5630</td><td>60956456424</td><td>145.26081329000152</td><td>1e14adeb-8e13-44f...</td><td>2021-08-21</td><td>841</td><td>NT</td><td>Undisclosed</td></tr>\n",
       "<tr><td>5630</td><td>48534649627</td><td>120.25889985200416</td><td>08476339-f383-4ab...</td><td>2021-08-15</td><td>841</td><td>NT</td><td>Undisclosed</td></tr>\n",
       "<tr><td>5630</td><td>60956456424</td><td>135.5412540082104</td><td>aacfd47a-438b-47f...</td><td>2021-08-15</td><td>841</td><td>NT</td><td>Undisclosed</td></tr>\n",
       "<tr><td>5630</td><td>89932674734</td><td>95.37693966478514</td><td>6d5790c9-0eef-453...</td><td>2021-08-16</td><td>841</td><td>NT</td><td>Undisclosed</td></tr>\n",
       "<tr><td>5630</td><td>14089706307</td><td>440.12097711482835</td><td>43d1361a-1101-41a...</td><td>2021-08-16</td><td>841</td><td>NT</td><td>Undisclosed</td></tr>\n",
       "<tr><td>5630</td><td>33604812025</td><td>268.4088838875397</td><td>4d8b6deb-a4d7-412...</td><td>2021-08-13</td><td>841</td><td>NT</td><td>Undisclosed</td></tr>\n",
       "<tr><td>5630</td><td>81219314324</td><td>48.20692954489542</td><td>6454fbb0-7cbd-4db...</td><td>2021-07-23</td><td>841</td><td>NT</td><td>Undisclosed</td></tr>\n",
       "<tr><td>5630</td><td>94472466107</td><td>141.26779955902157</td><td>d85af812-4f34-46b...</td><td>2021-05-21</td><td>841</td><td>NT</td><td>Undisclosed</td></tr>\n",
       "<tr><td>5630</td><td>15903176024</td><td>44.68660714566651</td><td>4bae0c2f-0d25-4f6...</td><td>2021-05-21</td><td>841</td><td>NT</td><td>Undisclosed</td></tr>\n",
       "<tr><td>5630</td><td>73527950332</td><td>654.6729455135422</td><td>44f25667-6711-4c5...</td><td>2021-07-30</td><td>841</td><td>NT</td><td>Undisclosed</td></tr>\n",
       "<tr><td>5630</td><td>23490868997</td><td>324.78811381152974</td><td>7e0a5f73-6d50-42b...</td><td>2021-06-30</td><td>841</td><td>NT</td><td>Undisclosed</td></tr>\n",
       "<tr><td>5630</td><td>57471217202</td><td>54.749417435993955</td><td>1bbc622f-ea43-46a...</td><td>2021-06-30</td><td>841</td><td>NT</td><td>Undisclosed</td></tr>\n",
       "<tr><td>5630</td><td>44780100984</td><td>194.84683025649386</td><td>ddfd8edc-ce95-474...</td><td>2021-08-26</td><td>841</td><td>NT</td><td>Undisclosed</td></tr>\n",
       "<tr><td>5630</td><td>86101203168</td><td>1326.070680180749</td><td>482d01a4-bcb8-4bb...</td><td>2021-06-25</td><td>841</td><td>NT</td><td>Undisclosed</td></tr>\n",
       "<tr><td>5630</td><td>20325086904</td><td>43.85379530476626</td><td>2df24114-739f-462...</td><td>2021-07-29</td><td>841</td><td>NT</td><td>Undisclosed</td></tr>\n",
       "<tr><td>5630</td><td>13447011295</td><td>84.47749255584314</td><td>92ebd4f3-7c85-431...</td><td>2021-08-08</td><td>841</td><td>NT</td><td>Undisclosed</td></tr>\n",
       "<tr><td>5630</td><td>97861055416</td><td>46.26975781161185</td><td>a5cfaa65-99dd-4ef...</td><td>2021-06-18</td><td>841</td><td>NT</td><td>Undisclosed</td></tr>\n",
       "<tr><td>5630</td><td>20985347699</td><td>31.50860015471529</td><td>1ae9e6fa-591d-46c...</td><td>2021-07-31</td><td>841</td><td>NT</td><td>Undisclosed</td></tr>\n",
       "<tr><td>5630</td><td>43186523025</td><td>13.938409140735315</td><td>e6b04ad7-896c-4f8...</td><td>2021-07-22</td><td>841</td><td>NT</td><td>Undisclosed</td></tr>\n",
       "<tr><td>5630</td><td>24852446429</td><td>9.04089293184002</td><td>8cf04571-92ec-4be...</td><td>2021-07-22</td><td>841</td><td>NT</td><td>Undisclosed</td></tr>\n",
       "</table>\n",
       "only showing top 20 rows\n"
      ],
      "text/plain": [
       "+-------+------------+------------------+--------------------+--------------+--------+-----+-----------+\n",
       "|user_id|merchant_abn|      dollar_value|            order_id|order_datetime|postcode|state|     gender|\n",
       "+-------+------------+------------------+--------------------+--------------+--------+-----+-----------+\n",
       "|   5630| 60956456424|145.26081329000152|1e14adeb-8e13-44f...|    2021-08-21|     841|   NT|Undisclosed|\n",
       "|   5630| 48534649627|120.25889985200416|08476339-f383-4ab...|    2021-08-15|     841|   NT|Undisclosed|\n",
       "|   5630| 60956456424| 135.5412540082104|aacfd47a-438b-47f...|    2021-08-15|     841|   NT|Undisclosed|\n",
       "|   5630| 89932674734| 95.37693966478514|6d5790c9-0eef-453...|    2021-08-16|     841|   NT|Undisclosed|\n",
       "|   5630| 14089706307|440.12097711482835|43d1361a-1101-41a...|    2021-08-16|     841|   NT|Undisclosed|\n",
       "|   5630| 33604812025| 268.4088838875397|4d8b6deb-a4d7-412...|    2021-08-13|     841|   NT|Undisclosed|\n",
       "|   5630| 81219314324| 48.20692954489542|6454fbb0-7cbd-4db...|    2021-07-23|     841|   NT|Undisclosed|\n",
       "|   5630| 94472466107|141.26779955902157|d85af812-4f34-46b...|    2021-05-21|     841|   NT|Undisclosed|\n",
       "|   5630| 15903176024| 44.68660714566651|4bae0c2f-0d25-4f6...|    2021-05-21|     841|   NT|Undisclosed|\n",
       "|   5630| 73527950332| 654.6729455135422|44f25667-6711-4c5...|    2021-07-30|     841|   NT|Undisclosed|\n",
       "|   5630| 23490868997|324.78811381152974|7e0a5f73-6d50-42b...|    2021-06-30|     841|   NT|Undisclosed|\n",
       "|   5630| 57471217202|54.749417435993955|1bbc622f-ea43-46a...|    2021-06-30|     841|   NT|Undisclosed|\n",
       "|   5630| 44780100984|194.84683025649386|ddfd8edc-ce95-474...|    2021-08-26|     841|   NT|Undisclosed|\n",
       "|   5630| 86101203168| 1326.070680180749|482d01a4-bcb8-4bb...|    2021-06-25|     841|   NT|Undisclosed|\n",
       "|   5630| 20325086904| 43.85379530476626|2df24114-739f-462...|    2021-07-29|     841|   NT|Undisclosed|\n",
       "|   5630| 13447011295| 84.47749255584314|92ebd4f3-7c85-431...|    2021-08-08|     841|   NT|Undisclosed|\n",
       "|   5630| 97861055416| 46.26975781161185|a5cfaa65-99dd-4ef...|    2021-06-18|     841|   NT|Undisclosed|\n",
       "|   5630| 20985347699| 31.50860015471529|1ae9e6fa-591d-46c...|    2021-07-31|     841|   NT|Undisclosed|\n",
       "|   5630| 43186523025|13.938409140735315|e6b04ad7-896c-4f8...|    2021-07-22|     841|   NT|Undisclosed|\n",
       "|   5630| 24852446429|  9.04089293184002|8cf04571-92ec-4be...|    2021-07-22|     841|   NT|Undisclosed|\n",
       "+-------+------------+------------------+--------------------+--------------+--------+-----+-----------+\n",
       "only showing top 20 rows"
      ]
     },
     "execution_count": 44,
     "metadata": {},
     "output_type": "execute_result"
    }
   ],
   "source": [
    "customer_transaction"
   ]
  },
  {
   "cell_type": "code",
   "execution_count": null,
   "id": "7d4a2ddc",
   "metadata": {},
   "outputs": [],
   "source": [
    "# Download data\n",
    "customer_transaction.write.parquet(\"../curated/customer_join_transaction.parquet\")\n"
   ]
  },
  {
   "cell_type": "code",
   "execution_count": 45,
   "id": "c6371fc0",
   "metadata": {},
   "outputs": [],
   "source": [
    "# Aggregate by state -> postcode -> date\n",
    "sales_by_region = (customer_transaction.groupby('state', 'postcode', 'order_datetime')\n",
    "                                       .agg({'dollar_value':'sum',\n",
    "                                             'order_id':'count'})\n",
    "                                       .withColumnRenamed('sum(dollar_value)', 'dollar_spent')\n",
    "                                       .withColumnRenamed('count(order_id)', 'no_orders'))\n"
   ]
  },
  {
   "cell_type": "code",
   "execution_count": 46,
   "id": "60d2347c",
   "metadata": {},
   "outputs": [
    {
     "data": {
      "text/html": [
       "<table border='1'>\n",
       "<tr><th>state</th><th>postcode</th><th>order_datetime</th><th>dollar_spent</th><th>no_orders</th></tr>\n",
       "<tr><td>NSW</td><td>2212</td><td>2021-07-21</td><td>1799.2035091441462</td><td>7</td></tr>\n",
       "<tr><td>VIC</td><td>3194</td><td>2021-04-03</td><td>658.0240558265559</td><td>8</td></tr>\n",
       "<tr><td>VIC</td><td>3123</td><td>2021-03-10</td><td>437.83024056803663</td><td>4</td></tr>\n",
       "<tr><td>NSW</td><td>2472</td><td>2021-07-23</td><td>1339.0905111892507</td><td>14</td></tr>\n",
       "<tr><td>NSW</td><td>2198</td><td>2021-06-30</td><td>632.2719516638596</td><td>9</td></tr>\n",
       "<tr><td>NSW</td><td>2198</td><td>2021-07-29</td><td>236.9399442110043</td><td>4</td></tr>\n",
       "<tr><td>VIC</td><td>3610</td><td>2021-06-01</td><td>2531.7924958543076</td><td>12</td></tr>\n",
       "<tr><td>VIC</td><td>3053</td><td>2021-03-20</td><td>867.1311793948004</td><td>7</td></tr>\n",
       "<tr><td>VIC</td><td>3631</td><td>2021-07-28</td><td>1224.3308918097925</td><td>8</td></tr>\n",
       "<tr><td>QLD</td><td>4001</td><td>2021-05-16</td><td>659.0746049473196</td><td>9</td></tr>\n",
       "<tr><td>NSW</td><td>2164</td><td>2021-06-30</td><td>1249.265891676425</td><td>11</td></tr>\n",
       "<tr><td>NSW</td><td>2164</td><td>2021-03-28</td><td>1165.7212554008902</td><td>5</td></tr>\n",
       "<tr><td>VIC</td><td>3375</td><td>2021-08-26</td><td>453.75279829736064</td><td>12</td></tr>\n",
       "<tr><td>VIC</td><td>3375</td><td>2021-08-07</td><td>3658.9075761423082</td><td>10</td></tr>\n",
       "<tr><td>NSW</td><td>2216</td><td>2021-05-04</td><td>980.523695868479</td><td>14</td></tr>\n",
       "<tr><td>NSW</td><td>2228</td><td>2021-03-01</td><td>2145.7296464640185</td><td>10</td></tr>\n",
       "<tr><td>VIC</td><td>3733</td><td>2021-04-10</td><td>239.00195368167834</td><td>6</td></tr>\n",
       "<tr><td>NSW</td><td>2361</td><td>2021-07-30</td><td>784.3354452892288</td><td>7</td></tr>\n",
       "<tr><td>QLD</td><td>9009</td><td>2021-07-17</td><td>426.32376497174187</td><td>4</td></tr>\n",
       "<tr><td>VIC</td><td>3161</td><td>2021-08-12</td><td>1161.9747089032817</td><td>10</td></tr>\n",
       "</table>\n",
       "only showing top 20 rows\n"
      ],
      "text/plain": [
       "+-----+--------+--------------+------------------+---------+\n",
       "|state|postcode|order_datetime|      dollar_spent|no_orders|\n",
       "+-----+--------+--------------+------------------+---------+\n",
       "|  NSW|    2212|    2021-07-21|1799.2035091441462|        7|\n",
       "|  VIC|    3194|    2021-04-03| 658.0240558265559|        8|\n",
       "|  VIC|    3123|    2021-03-10|437.83024056803663|        4|\n",
       "|  NSW|    2472|    2021-07-23|1339.0905111892507|       14|\n",
       "|  NSW|    2198|    2021-06-30| 632.2719516638596|        9|\n",
       "|  NSW|    2198|    2021-07-29| 236.9399442110043|        4|\n",
       "|  VIC|    3610|    2021-06-01|2531.7924958543076|       12|\n",
       "|  VIC|    3053|    2021-03-20| 867.1311793948004|        7|\n",
       "|  VIC|    3631|    2021-07-28|1224.3308918097925|        8|\n",
       "|  QLD|    4001|    2021-05-16| 659.0746049473196|        9|\n",
       "|  NSW|    2164|    2021-06-30| 1249.265891676425|       11|\n",
       "|  NSW|    2164|    2021-03-28|1165.7212554008902|        5|\n",
       "|  VIC|    3375|    2021-08-26|453.75279829736064|       12|\n",
       "|  VIC|    3375|    2021-08-07|3658.9075761423082|       10|\n",
       "|  NSW|    2216|    2021-05-04|  980.523695868479|       14|\n",
       "|  NSW|    2228|    2021-03-01|2145.7296464640185|       10|\n",
       "|  VIC|    3733|    2021-04-10|239.00195368167834|        6|\n",
       "|  NSW|    2361|    2021-07-30| 784.3354452892288|        7|\n",
       "|  QLD|    9009|    2021-07-17|426.32376497174187|        4|\n",
       "|  VIC|    3161|    2021-08-12|1161.9747089032817|       10|\n",
       "+-----+--------+--------------+------------------+---------+\n",
       "only showing top 20 rows"
      ]
     },
     "execution_count": 46,
     "metadata": {},
     "output_type": "execute_result"
    }
   ],
   "source": [
    "sales_by_region"
   ]
  },
  {
   "cell_type": "code",
   "execution_count": null,
   "id": "2dc4cc3c",
   "metadata": {},
   "outputs": [],
   "source": [
    "# Download data\n",
    "sales_by_region.write.parquet(\"../curated/sales_by_region.parquet\")"
   ]
  }
 ],
 "metadata": {
  "kernelspec": {
   "display_name": "Python 3",
   "language": "python",
   "name": "python3"
  },
  "language_info": {
   "codemirror_mode": {
    "name": "ipython",
    "version": 3
   },
   "file_extension": ".py",
   "mimetype": "text/x-python",
   "name": "python",
   "nbconvert_exporter": "python",
   "pygments_lexer": "ipython3",
   "version": "3.7.4"
  }
 },
 "nbformat": 4,
 "nbformat_minor": 5
}
