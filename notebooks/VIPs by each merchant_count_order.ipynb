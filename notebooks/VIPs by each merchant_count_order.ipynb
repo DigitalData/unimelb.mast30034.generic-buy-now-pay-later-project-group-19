{
 "cells": [
  {
   "cell_type": "code",
   "execution_count": 49,
   "id": "19d79625",
   "metadata": {},
   "outputs": [],
   "source": [
    "import pandas as pd\n",
    "import numpy as np\n",
    "import os\n",
    "import re\n",
    "\n",
    "# Set working directory\n",
    "if not \"/data/tables\" in os.getcwd():\n",
    "    os.chdir(\"../data/tables\")\n",
    "\n",
    "from pyspark.sql import SparkSession\n",
    "from pyspark.shell import spark\n",
    "from pyspark.sql import SQLContext\n",
    "from pyspark.sql.functions import *\n",
    "import matplotlib.pyplot as plt\n",
    "\n",
    "%matplotlib inline\n",
    "\n",
    "spark = (\n",
    "    SparkSession.builder.appName(\"MAST30034 Project 2\")\n",
    "    .config(\"spark.sql.repl.eagerEval.enabled\", True) \n",
    "    .config(\"spark.sql.parquet.cacheMetadata\", \"true\")\n",
    "    .config(\"spark.sql.session.timeZone\", \"Etc/UTC\")\n",
    "    .config(\"spark.driver.memory\", \"4g\")\n",
    "    .getOrCreate()\n",
    ")"
   ]
  },
  {
   "cell_type": "markdown",
   "id": "cc8ab0ed",
   "metadata": {},
   "source": [
    "# Reading Dataset"
   ]
  },
  {
   "cell_type": "code",
   "execution_count": 2,
   "id": "a3955c04",
   "metadata": {},
   "outputs": [
    {
     "data": {
      "text/html": [
       "<table border='1'>\n",
       "<tr><th>state</th><th>postcode</th><th>gender</th><th>consumer_id</th></tr>\n",
       "<tr><td>WA</td><td>6935</td><td>Female</td><td>1195503</td></tr>\n",
       "<tr><td>NSW</td><td>2782</td><td>Female</td><td>179208</td></tr>\n",
       "<tr><td>NT</td><td>862</td><td>Female</td><td>1194530</td></tr>\n",
       "<tr><td>NSW</td><td>2780</td><td>Female</td><td>154128</td></tr>\n",
       "<tr><td>WA</td><td>6355</td><td>Female</td><td>712975</td></tr>\n",
       "<tr><td>NSW</td><td>2033</td><td>Female</td><td>407340</td></tr>\n",
       "<tr><td>QLD</td><td>4606</td><td>Female</td><td>511685</td></tr>\n",
       "<tr><td>WA</td><td>6056</td><td>Male</td><td>448088</td></tr>\n",
       "<tr><td>NSW</td><td>2482</td><td>Female</td><td>650435</td></tr>\n",
       "<tr><td>VIC</td><td>3220</td><td>Female</td><td>1058499</td></tr>\n",
       "<tr><td>VIC</td><td>3063</td><td>Undisclosed</td><td>428325</td></tr>\n",
       "<tr><td>WA</td><td>6743</td><td>Female</td><td>1494640</td></tr>\n",
       "<tr><td>QLD</td><td>4673</td><td>Female</td><td>1146717</td></tr>\n",
       "<tr><td>VIC</td><td>3332</td><td>Male</td><td>1343547</td></tr>\n",
       "<tr><td>QLD</td><td>4512</td><td>Male</td><td>1463076</td></tr>\n",
       "<tr><td>NSW</td><td>2452</td><td>Male</td><td>1356405</td></tr>\n",
       "<tr><td>VIC</td><td>3719</td><td>Female</td><td>1331093</td></tr>\n",
       "<tr><td>NSW</td><td>1109</td><td>Male</td><td>80965</td></tr>\n",
       "<tr><td>TAS</td><td>7276</td><td>Female</td><td>1226530</td></tr>\n",
       "<tr><td>VIC</td><td>3234</td><td>Undisclosed</td><td>1390367</td></tr>\n",
       "</table>\n",
       "only showing top 20 rows\n"
      ],
      "text/plain": [
       "+-----+--------+-----------+-----------+\n",
       "|state|postcode|     gender|consumer_id|\n",
       "+-----+--------+-----------+-----------+\n",
       "|   WA|    6935|     Female|    1195503|\n",
       "|  NSW|    2782|     Female|     179208|\n",
       "|   NT|     862|     Female|    1194530|\n",
       "|  NSW|    2780|     Female|     154128|\n",
       "|   WA|    6355|     Female|     712975|\n",
       "|  NSW|    2033|     Female|     407340|\n",
       "|  QLD|    4606|     Female|     511685|\n",
       "|   WA|    6056|       Male|     448088|\n",
       "|  NSW|    2482|     Female|     650435|\n",
       "|  VIC|    3220|     Female|    1058499|\n",
       "|  VIC|    3063|Undisclosed|     428325|\n",
       "|   WA|    6743|     Female|    1494640|\n",
       "|  QLD|    4673|     Female|    1146717|\n",
       "|  VIC|    3332|       Male|    1343547|\n",
       "|  QLD|    4512|       Male|    1463076|\n",
       "|  NSW|    2452|       Male|    1356405|\n",
       "|  VIC|    3719|     Female|    1331093|\n",
       "|  NSW|    1109|       Male|      80965|\n",
       "|  TAS|    7276|     Female|    1226530|\n",
       "|  VIC|    3234|Undisclosed|    1390367|\n",
       "+-----+--------+-----------+-----------+\n",
       "only showing top 20 rows"
      ]
     },
     "execution_count": 2,
     "metadata": {},
     "output_type": "execute_result"
    }
   ],
   "source": [
    "# consumer dataset\n",
    "consumer = spark.read.option(\"delimiter\", \"|\").csv('tbl_consumer.csv', header = True)\n",
    "consumer_postcode = consumer.drop(\"name\",\"address\")\n",
    "consumer_postcode"
   ]
  },
  {
   "cell_type": "code",
   "execution_count": 3,
   "id": "490828c9",
   "metadata": {},
   "outputs": [
    {
     "data": {
      "text/html": [
       "<div>\n",
       "<style scoped>\n",
       "    .dataframe tbody tr th:only-of-type {\n",
       "        vertical-align: middle;\n",
       "    }\n",
       "\n",
       "    .dataframe tbody tr th {\n",
       "        vertical-align: top;\n",
       "    }\n",
       "\n",
       "    .dataframe thead th {\n",
       "        text-align: right;\n",
       "    }\n",
       "</style>\n",
       "<table border=\"1\" class=\"dataframe\">\n",
       "  <thead>\n",
       "    <tr style=\"text-align: right;\">\n",
       "      <th></th>\n",
       "      <th>state</th>\n",
       "      <th>postcode</th>\n",
       "      <th>gender</th>\n",
       "      <th>consumer_id</th>\n",
       "    </tr>\n",
       "  </thead>\n",
       "  <tbody>\n",
       "    <tr>\n",
       "      <th>0</th>\n",
       "      <td>WA</td>\n",
       "      <td>6935</td>\n",
       "      <td>Female</td>\n",
       "      <td>1195503</td>\n",
       "    </tr>\n",
       "    <tr>\n",
       "      <th>1</th>\n",
       "      <td>NSW</td>\n",
       "      <td>2782</td>\n",
       "      <td>Female</td>\n",
       "      <td>179208</td>\n",
       "    </tr>\n",
       "    <tr>\n",
       "      <th>2</th>\n",
       "      <td>NT</td>\n",
       "      <td>862</td>\n",
       "      <td>Female</td>\n",
       "      <td>1194530</td>\n",
       "    </tr>\n",
       "    <tr>\n",
       "      <th>3</th>\n",
       "      <td>NSW</td>\n",
       "      <td>2780</td>\n",
       "      <td>Female</td>\n",
       "      <td>154128</td>\n",
       "    </tr>\n",
       "    <tr>\n",
       "      <th>4</th>\n",
       "      <td>WA</td>\n",
       "      <td>6355</td>\n",
       "      <td>Female</td>\n",
       "      <td>712975</td>\n",
       "    </tr>\n",
       "    <tr>\n",
       "      <th>...</th>\n",
       "      <td>...</td>\n",
       "      <td>...</td>\n",
       "      <td>...</td>\n",
       "      <td>...</td>\n",
       "    </tr>\n",
       "    <tr>\n",
       "      <th>499994</th>\n",
       "      <td>QLD</td>\n",
       "      <td>4400</td>\n",
       "      <td>Female</td>\n",
       "      <td>1385608</td>\n",
       "    </tr>\n",
       "    <tr>\n",
       "      <th>499995</th>\n",
       "      <td>VIC</td>\n",
       "      <td>3097</td>\n",
       "      <td>Undisclosed</td>\n",
       "      <td>1466964</td>\n",
       "    </tr>\n",
       "    <tr>\n",
       "      <th>499996</th>\n",
       "      <td>NSW</td>\n",
       "      <td>2756</td>\n",
       "      <td>Undisclosed</td>\n",
       "      <td>1253484</td>\n",
       "    </tr>\n",
       "    <tr>\n",
       "      <th>499997</th>\n",
       "      <td>VIC</td>\n",
       "      <td>3989</td>\n",
       "      <td>Female</td>\n",
       "      <td>175005</td>\n",
       "    </tr>\n",
       "    <tr>\n",
       "      <th>499998</th>\n",
       "      <td>NSW</td>\n",
       "      <td>1755</td>\n",
       "      <td>Female</td>\n",
       "      <td>746835</td>\n",
       "    </tr>\n",
       "  </tbody>\n",
       "</table>\n",
       "<p>499999 rows × 4 columns</p>\n",
       "</div>"
      ],
      "text/plain": [
       "       state  postcode       gender consumer_id\n",
       "0         WA      6935       Female     1195503\n",
       "1        NSW      2782       Female      179208\n",
       "2         NT       862       Female     1194530\n",
       "3        NSW      2780       Female      154128\n",
       "4         WA      6355       Female      712975\n",
       "...      ...       ...          ...         ...\n",
       "499994   QLD      4400       Female     1385608\n",
       "499995   VIC      3097  Undisclosed     1466964\n",
       "499996   NSW      2756  Undisclosed     1253484\n",
       "499997   VIC      3989       Female      175005\n",
       "499998   NSW      1755       Female      746835\n",
       "\n",
       "[499999 rows x 4 columns]"
      ]
     },
     "execution_count": 3,
     "metadata": {},
     "output_type": "execute_result"
    }
   ],
   "source": [
    "consumer_postcode = consumer_postcode.toPandas()\n",
    "consumer_postcode[\"postcode\"] = pd.to_numeric(consumer_postcode[\"postcode\"])\n",
    "consumer_postcode"
   ]
  },
  {
   "cell_type": "code",
   "execution_count": 4,
   "id": "f527ad5b",
   "metadata": {},
   "outputs": [
    {
     "name": "stderr",
     "output_type": "stream",
     "text": [
      "/opt/anaconda3/lib/python3.7/site-packages/pandas/core/frame.py:5047: SettingWithCopyWarning: \n",
      "A value is trying to be set on a copy of a slice from a DataFrame\n",
      "\n",
      "See the caveats in the documentation: https://pandas.pydata.org/pandas-docs/stable/user_guide/indexing.html#returning-a-view-versus-a-copy\n",
      "  errors=errors,\n"
     ]
    },
    {
     "data": {
      "text/html": [
       "<div>\n",
       "<style scoped>\n",
       "    .dataframe tbody tr th:only-of-type {\n",
       "        vertical-align: middle;\n",
       "    }\n",
       "\n",
       "    .dataframe tbody tr th {\n",
       "        vertical-align: top;\n",
       "    }\n",
       "\n",
       "    .dataframe thead th {\n",
       "        text-align: right;\n",
       "    }\n",
       "</style>\n",
       "<table border=\"1\" class=\"dataframe\">\n",
       "  <thead>\n",
       "    <tr style=\"text-align: right;\">\n",
       "      <th></th>\n",
       "      <th>postcode</th>\n",
       "      <th>SA2_code</th>\n",
       "    </tr>\n",
       "  </thead>\n",
       "  <tbody>\n",
       "    <tr>\n",
       "      <th>0</th>\n",
       "      <td>200</td>\n",
       "      <td>801051049.0</td>\n",
       "    </tr>\n",
       "    <tr>\n",
       "      <th>2</th>\n",
       "      <td>800</td>\n",
       "      <td>701011002.0</td>\n",
       "    </tr>\n",
       "    <tr>\n",
       "      <th>4</th>\n",
       "      <td>801</td>\n",
       "      <td>701011002.0</td>\n",
       "    </tr>\n",
       "    <tr>\n",
       "      <th>5</th>\n",
       "      <td>804</td>\n",
       "      <td>701011007.0</td>\n",
       "    </tr>\n",
       "    <tr>\n",
       "      <th>6</th>\n",
       "      <td>810</td>\n",
       "      <td>701021010.0</td>\n",
       "    </tr>\n",
       "    <tr>\n",
       "      <th>...</th>\n",
       "      <td>...</td>\n",
       "      <td>...</td>\n",
       "    </tr>\n",
       "    <tr>\n",
       "      <th>18437</th>\n",
       "      <td>9013</td>\n",
       "      <td>305011105.0</td>\n",
       "    </tr>\n",
       "    <tr>\n",
       "      <th>18438</th>\n",
       "      <td>9015</td>\n",
       "      <td>305011105.0</td>\n",
       "    </tr>\n",
       "    <tr>\n",
       "      <th>18439</th>\n",
       "      <td>9464</td>\n",
       "      <td>302031038.0</td>\n",
       "    </tr>\n",
       "    <tr>\n",
       "      <th>18440</th>\n",
       "      <td>9726</td>\n",
       "      <td>309101268.0</td>\n",
       "    </tr>\n",
       "    <tr>\n",
       "      <th>18441</th>\n",
       "      <td>9999</td>\n",
       "      <td>206041122.0</td>\n",
       "    </tr>\n",
       "  </tbody>\n",
       "</table>\n",
       "<p>5588 rows × 2 columns</p>\n",
       "</div>"
      ],
      "text/plain": [
       "       postcode     SA2_code\n",
       "0           200  801051049.0\n",
       "2           800  701011002.0\n",
       "4           801  701011002.0\n",
       "5           804  701011007.0\n",
       "6           810  701021010.0\n",
       "...         ...          ...\n",
       "18437      9013  305011105.0\n",
       "18438      9015  305011105.0\n",
       "18439      9464  302031038.0\n",
       "18440      9726  309101268.0\n",
       "18441      9999  206041122.0\n",
       "\n",
       "[5588 rows x 2 columns]"
      ]
     },
     "execution_count": 4,
     "metadata": {},
     "output_type": "execute_result"
    }
   ],
   "source": [
    "# SA2 dataset\n",
    "import pandas as pd\n",
    "import io\n",
    "import requests\n",
    "url=\"https://www.matthewproctor.com/Content/postcodes/australian_postcodes.csv\"\n",
    "s=requests.get(url).content\n",
    "df=pd.read_csv(io.StringIO(s.decode('utf-8')))\n",
    "sa2_code = df[['postcode','SA2_MAINCODE_2016']]\n",
    "sa2_code.rename(columns = {'SA2_MAINCODE_2016':'SA2_code'},inplace=True)\n",
    "sa2_code = sa2_code.drop_duplicates()\n",
    "\n",
    "sa2_code"
   ]
  },
  {
   "cell_type": "code",
   "execution_count": 5,
   "id": "4b47902a",
   "metadata": {},
   "outputs": [
    {
     "data": {
      "text/html": [
       "<div>\n",
       "<style scoped>\n",
       "    .dataframe tbody tr th:only-of-type {\n",
       "        vertical-align: middle;\n",
       "    }\n",
       "\n",
       "    .dataframe tbody tr th {\n",
       "        vertical-align: top;\n",
       "    }\n",
       "\n",
       "    .dataframe thead th {\n",
       "        text-align: right;\n",
       "    }\n",
       "</style>\n",
       "<table border=\"1\" class=\"dataframe\">\n",
       "  <thead>\n",
       "    <tr style=\"text-align: right;\">\n",
       "      <th></th>\n",
       "      <th>SA2_code</th>\n",
       "      <th>Median_age_persons</th>\n",
       "      <th>Median_tot_prsnl_inc_weekly</th>\n",
       "    </tr>\n",
       "  </thead>\n",
       "  <tbody>\n",
       "    <tr>\n",
       "      <th>0</th>\n",
       "      <td>101021007</td>\n",
       "      <td>51</td>\n",
       "      <td>760</td>\n",
       "    </tr>\n",
       "    <tr>\n",
       "      <th>1</th>\n",
       "      <td>101021008</td>\n",
       "      <td>38</td>\n",
       "      <td>975</td>\n",
       "    </tr>\n",
       "    <tr>\n",
       "      <th>2</th>\n",
       "      <td>101021009</td>\n",
       "      <td>37</td>\n",
       "      <td>996</td>\n",
       "    </tr>\n",
       "    <tr>\n",
       "      <th>3</th>\n",
       "      <td>101021010</td>\n",
       "      <td>36</td>\n",
       "      <td>1104</td>\n",
       "    </tr>\n",
       "    <tr>\n",
       "      <th>4</th>\n",
       "      <td>101021012</td>\n",
       "      <td>37</td>\n",
       "      <td>1357</td>\n",
       "    </tr>\n",
       "    <tr>\n",
       "      <th>...</th>\n",
       "      <td>...</td>\n",
       "      <td>...</td>\n",
       "      <td>...</td>\n",
       "    </tr>\n",
       "    <tr>\n",
       "      <th>2467</th>\n",
       "      <td>901021002</td>\n",
       "      <td>40</td>\n",
       "      <td>741</td>\n",
       "    </tr>\n",
       "    <tr>\n",
       "      <th>2468</th>\n",
       "      <td>901031003</td>\n",
       "      <td>38</td>\n",
       "      <td>585</td>\n",
       "    </tr>\n",
       "    <tr>\n",
       "      <th>2469</th>\n",
       "      <td>901041004</td>\n",
       "      <td>50</td>\n",
       "      <td>736</td>\n",
       "    </tr>\n",
       "    <tr>\n",
       "      <th>2470</th>\n",
       "      <td>997979799</td>\n",
       "      <td>0</td>\n",
       "      <td>0</td>\n",
       "    </tr>\n",
       "    <tr>\n",
       "      <th>2471</th>\n",
       "      <td>999999499</td>\n",
       "      <td>0</td>\n",
       "      <td>0</td>\n",
       "    </tr>\n",
       "  </tbody>\n",
       "</table>\n",
       "<p>2472 rows × 3 columns</p>\n",
       "</div>"
      ],
      "text/plain": [
       "       SA2_code  Median_age_persons  Median_tot_prsnl_inc_weekly\n",
       "0     101021007                  51                          760\n",
       "1     101021008                  38                          975\n",
       "2     101021009                  37                          996\n",
       "3     101021010                  36                         1104\n",
       "4     101021012                  37                         1357\n",
       "...         ...                 ...                          ...\n",
       "2467  901021002                  40                          741\n",
       "2468  901031003                  38                          585\n",
       "2469  901041004                  50                          736\n",
       "2470  997979799                   0                            0\n",
       "2471  999999499                   0                            0\n",
       "\n",
       "[2472 rows x 3 columns]"
      ]
     },
     "execution_count": 5,
     "metadata": {},
     "output_type": "execute_result"
    }
   ],
   "source": [
    "# Income dataset\n",
    "income = pd.read_csv(\"./SA2/AUS/2021Census_G02_AUST_SA2.csv\")\n",
    "income = income[['SA2_CODE_2021','Median_age_persons','Median_tot_prsnl_inc_weekly']]\n",
    "income.rename(columns = {'SA2_CODE_2021':'SA2_code'},inplace=True)\n",
    "income"
   ]
  },
  {
   "cell_type": "markdown",
   "id": "6828d93f",
   "metadata": {},
   "source": [
    "# join"
   ]
  },
  {
   "cell_type": "code",
   "execution_count": 6,
   "id": "b8129792",
   "metadata": {},
   "outputs": [
    {
     "data": {
      "text/html": [
       "<div>\n",
       "<style scoped>\n",
       "    .dataframe tbody tr th:only-of-type {\n",
       "        vertical-align: middle;\n",
       "    }\n",
       "\n",
       "    .dataframe tbody tr th {\n",
       "        vertical-align: top;\n",
       "    }\n",
       "\n",
       "    .dataframe thead th {\n",
       "        text-align: right;\n",
       "    }\n",
       "</style>\n",
       "<table border=\"1\" class=\"dataframe\">\n",
       "  <thead>\n",
       "    <tr style=\"text-align: right;\">\n",
       "      <th></th>\n",
       "      <th>state</th>\n",
       "      <th>postcode</th>\n",
       "      <th>gender</th>\n",
       "      <th>consumer_id</th>\n",
       "      <th>SA2_code</th>\n",
       "      <th>Median_age_persons</th>\n",
       "      <th>Median_tot_prsnl_inc_weekly</th>\n",
       "    </tr>\n",
       "  </thead>\n",
       "  <tbody>\n",
       "    <tr>\n",
       "      <th>0</th>\n",
       "      <td>WA</td>\n",
       "      <td>6935</td>\n",
       "      <td>Female</td>\n",
       "      <td>1195503</td>\n",
       "      <td>504031066.0</td>\n",
       "      <td>40.0</td>\n",
       "      <td>749.0</td>\n",
       "    </tr>\n",
       "    <tr>\n",
       "      <th>1</th>\n",
       "      <td>NSW</td>\n",
       "      <td>2782</td>\n",
       "      <td>Female</td>\n",
       "      <td>179208</td>\n",
       "      <td>124011455.0</td>\n",
       "      <td>50.0</td>\n",
       "      <td>740.0</td>\n",
       "    </tr>\n",
       "    <tr>\n",
       "      <th>2</th>\n",
       "      <td>NT</td>\n",
       "      <td>862</td>\n",
       "      <td>Female</td>\n",
       "      <td>1194530</td>\n",
       "      <td>702021055.0</td>\n",
       "      <td>26.0</td>\n",
       "      <td>416.0</td>\n",
       "    </tr>\n",
       "    <tr>\n",
       "      <th>3</th>\n",
       "      <td>NT</td>\n",
       "      <td>862</td>\n",
       "      <td>Female</td>\n",
       "      <td>1194530</td>\n",
       "      <td>702051066.0</td>\n",
       "      <td>28.0</td>\n",
       "      <td>276.0</td>\n",
       "    </tr>\n",
       "    <tr>\n",
       "      <th>4</th>\n",
       "      <td>NT</td>\n",
       "      <td>862</td>\n",
       "      <td>Female</td>\n",
       "      <td>1194530</td>\n",
       "      <td>702021056.0</td>\n",
       "      <td>33.0</td>\n",
       "      <td>671.0</td>\n",
       "    </tr>\n",
       "    <tr>\n",
       "      <th>...</th>\n",
       "      <td>...</td>\n",
       "      <td>...</td>\n",
       "      <td>...</td>\n",
       "      <td>...</td>\n",
       "      <td>...</td>\n",
       "      <td>...</td>\n",
       "      <td>...</td>\n",
       "    </tr>\n",
       "    <tr>\n",
       "      <th>882478</th>\n",
       "      <td>NSW</td>\n",
       "      <td>2756</td>\n",
       "      <td>Undisclosed</td>\n",
       "      <td>1253484</td>\n",
       "      <td>124041466.0</td>\n",
       "      <td>39.0</td>\n",
       "      <td>790.0</td>\n",
       "    </tr>\n",
       "    <tr>\n",
       "      <th>882479</th>\n",
       "      <td>NSW</td>\n",
       "      <td>2756</td>\n",
       "      <td>Undisclosed</td>\n",
       "      <td>1253484</td>\n",
       "      <td>115031300.0</td>\n",
       "      <td>40.0</td>\n",
       "      <td>907.0</td>\n",
       "    </tr>\n",
       "    <tr>\n",
       "      <th>882480</th>\n",
       "      <td>NSW</td>\n",
       "      <td>2756</td>\n",
       "      <td>Undisclosed</td>\n",
       "      <td>1253484</td>\n",
       "      <td>115041301.0</td>\n",
       "      <td>39.0</td>\n",
       "      <td>920.0</td>\n",
       "    </tr>\n",
       "    <tr>\n",
       "      <th>882481</th>\n",
       "      <td>VIC</td>\n",
       "      <td>3989</td>\n",
       "      <td>Female</td>\n",
       "      <td>175005</td>\n",
       "      <td>NaN</td>\n",
       "      <td>NaN</td>\n",
       "      <td>NaN</td>\n",
       "    </tr>\n",
       "    <tr>\n",
       "      <th>882482</th>\n",
       "      <td>NSW</td>\n",
       "      <td>1755</td>\n",
       "      <td>Female</td>\n",
       "      <td>746835</td>\n",
       "      <td>115011290.0</td>\n",
       "      <td>39.0</td>\n",
       "      <td>974.0</td>\n",
       "    </tr>\n",
       "  </tbody>\n",
       "</table>\n",
       "<p>882483 rows × 7 columns</p>\n",
       "</div>"
      ],
      "text/plain": [
       "       state  postcode       gender consumer_id     SA2_code  \\\n",
       "0         WA      6935       Female     1195503  504031066.0   \n",
       "1        NSW      2782       Female      179208  124011455.0   \n",
       "2         NT       862       Female     1194530  702021055.0   \n",
       "3         NT       862       Female     1194530  702051066.0   \n",
       "4         NT       862       Female     1194530  702021056.0   \n",
       "...      ...       ...          ...         ...          ...   \n",
       "882478   NSW      2756  Undisclosed     1253484  124041466.0   \n",
       "882479   NSW      2756  Undisclosed     1253484  115031300.0   \n",
       "882480   NSW      2756  Undisclosed     1253484  115041301.0   \n",
       "882481   VIC      3989       Female      175005          NaN   \n",
       "882482   NSW      1755       Female      746835  115011290.0   \n",
       "\n",
       "        Median_age_persons  Median_tot_prsnl_inc_weekly  \n",
       "0                     40.0                        749.0  \n",
       "1                     50.0                        740.0  \n",
       "2                     26.0                        416.0  \n",
       "3                     28.0                        276.0  \n",
       "4                     33.0                        671.0  \n",
       "...                    ...                          ...  \n",
       "882478                39.0                        790.0  \n",
       "882479                40.0                        907.0  \n",
       "882480                39.0                        920.0  \n",
       "882481                 NaN                          NaN  \n",
       "882482                39.0                        974.0  \n",
       "\n",
       "[882483 rows x 7 columns]"
      ]
     },
     "execution_count": 6,
     "metadata": {},
     "output_type": "execute_result"
    }
   ],
   "source": [
    "merge1 = pd.merge(consumer_postcode, sa2_code, how='left', on = 'postcode')\n",
    "merge2 = pd.merge(merge1,income, how = 'left',on='SA2_code')\n",
    "merge2"
   ]
  },
  {
   "cell_type": "markdown",
   "id": "ddf93634",
   "metadata": {},
   "source": [
    "I merged consumer dataset and sa2 dataset by postcode, and named merge1.\n",
    "\n",
    "Then I merged income dataset with merge1 by sa2_code, then named merge2."
   ]
  },
  {
   "cell_type": "code",
   "execution_count": 7,
   "id": "f9bd91e1",
   "metadata": {
    "scrolled": true
   },
   "outputs": [
    {
     "data": {
      "text/html": [
       "<table border='1'>\n",
       "<tr><th>user_id</th><th>consumer_id</th></tr>\n",
       "<tr><td>1</td><td>1195503</td></tr>\n",
       "<tr><td>2</td><td>179208</td></tr>\n",
       "<tr><td>3</td><td>1194530</td></tr>\n",
       "<tr><td>4</td><td>154128</td></tr>\n",
       "<tr><td>5</td><td>712975</td></tr>\n",
       "<tr><td>6</td><td>407340</td></tr>\n",
       "<tr><td>7</td><td>511685</td></tr>\n",
       "<tr><td>8</td><td>448088</td></tr>\n",
       "<tr><td>9</td><td>650435</td></tr>\n",
       "<tr><td>10</td><td>1058499</td></tr>\n",
       "<tr><td>11</td><td>428325</td></tr>\n",
       "<tr><td>12</td><td>1494640</td></tr>\n",
       "<tr><td>13</td><td>1146717</td></tr>\n",
       "<tr><td>14</td><td>1343547</td></tr>\n",
       "<tr><td>15</td><td>1463076</td></tr>\n",
       "<tr><td>16</td><td>1356405</td></tr>\n",
       "<tr><td>17</td><td>1331093</td></tr>\n",
       "<tr><td>18</td><td>80965</td></tr>\n",
       "<tr><td>19</td><td>1226530</td></tr>\n",
       "<tr><td>20</td><td>1390367</td></tr>\n",
       "</table>\n",
       "only showing top 20 rows\n"
      ],
      "text/plain": [
       "+-------+-----------+\n",
       "|user_id|consumer_id|\n",
       "+-------+-----------+\n",
       "|      1|    1195503|\n",
       "|      2|     179208|\n",
       "|      3|    1194530|\n",
       "|      4|     154128|\n",
       "|      5|     712975|\n",
       "|      6|     407340|\n",
       "|      7|     511685|\n",
       "|      8|     448088|\n",
       "|      9|     650435|\n",
       "|     10|    1058499|\n",
       "|     11|     428325|\n",
       "|     12|    1494640|\n",
       "|     13|    1146717|\n",
       "|     14|    1343547|\n",
       "|     15|    1463076|\n",
       "|     16|    1356405|\n",
       "|     17|    1331093|\n",
       "|     18|      80965|\n",
       "|     19|    1226530|\n",
       "|     20|    1390367|\n",
       "+-------+-----------+\n",
       "only showing top 20 rows"
      ]
     },
     "execution_count": 7,
     "metadata": {},
     "output_type": "execute_result"
    }
   ],
   "source": [
    "user_detail = spark.read.parquet(\"consumer_user_details.parquet\")\n",
    "user_detail"
   ]
  },
  {
   "cell_type": "code",
   "execution_count": 8,
   "id": "bc2b27c5",
   "metadata": {},
   "outputs": [],
   "source": [
    "#!pip install pandasql"
   ]
  },
  {
   "cell_type": "code",
   "execution_count": 8,
   "id": "d700a954",
   "metadata": {},
   "outputs": [
    {
     "ename": "ModuleNotFoundError",
     "evalue": "No module named 'pandasql'",
     "output_type": "error",
     "traceback": [
      "\u001b[0;31m---------------------------------------------------------------------------\u001b[0m",
      "\u001b[0;31mModuleNotFoundError\u001b[0m                       Traceback (most recent call last)",
      "\u001b[0;32m<ipython-input-8-275e4564170d>\u001b[0m in \u001b[0;36m<module>\u001b[0;34m\u001b[0m\n\u001b[0;32m----> 1\u001b[0;31m \u001b[0;32mfrom\u001b[0m \u001b[0mpandasql\u001b[0m \u001b[0;32mimport\u001b[0m \u001b[0msqldf\u001b[0m\u001b[0;34m\u001b[0m\u001b[0;34m\u001b[0m\u001b[0m\n\u001b[0m\u001b[1;32m      2\u001b[0m \u001b[0;34m\u001b[0m\u001b[0m\n\u001b[1;32m      3\u001b[0m query = \"\"\"\n\u001b[1;32m      4\u001b[0m \u001b[0mSELECT\u001b[0m \u001b[0mconsumer_id\u001b[0m\u001b[0;34m,\u001b[0m\u001b[0;34m\u001b[0m\u001b[0;34m\u001b[0m\u001b[0m\n\u001b[1;32m      5\u001b[0m \u001b[0mavg\u001b[0m\u001b[0;34m(\u001b[0m\u001b[0mMedian_age_persons\u001b[0m\u001b[0;34m)\u001b[0m \u001b[0;32mas\u001b[0m \u001b[0mmean_age\u001b[0m\u001b[0;34m,\u001b[0m\u001b[0;34m\u001b[0m\u001b[0;34m\u001b[0m\u001b[0m\n",
      "\u001b[0;31mModuleNotFoundError\u001b[0m: No module named 'pandasql'"
     ]
    }
   ],
   "source": [
    "from pandasql import sqldf\n",
    "\n",
    "query = \"\"\"\n",
    "SELECT consumer_id,\n",
    "avg(Median_age_persons) as mean_age,\n",
    "avg(Median_tot_prsnl_inc_weekly) as mean_tot_prsnl_inc_weekly\n",
    "\n",
    "from merge2\n",
    "group by consumer_id\n",
    "order by consumer_id\n",
    "\n",
    "\"\"\"\n",
    "\n",
    "\n",
    "df1 = sqldf(query)\n",
    "\n",
    "df1"
   ]
  },
  {
   "cell_type": "code",
   "execution_count": 10,
   "id": "e3e820aa",
   "metadata": {},
   "outputs": [
    {
     "data": {
      "text/html": [
       "<table border='1'>\n",
       "<tr><th>consumer_id</th><th>mean_age</th><th>mean_tot_prsnl_inc_weekly</th></tr>\n",
       "<tr><td>10</td><td>42.0</td><td>770.0</td></tr>\n",
       "<tr><td>100</td><td>null</td><td>null</td></tr>\n",
       "<tr><td>1000002</td><td>55.0</td><td>562.0</td></tr>\n",
       "<tr><td>1000003</td><td>40.0</td><td>780.0</td></tr>\n",
       "<tr><td>1000006</td><td>45.0</td><td>830.0</td></tr>\n",
       "<tr><td>1000008</td><td>47.0</td><td>768.0</td></tr>\n",
       "<tr><td>1000023</td><td>39.0</td><td>871.0</td></tr>\n",
       "<tr><td>1000024</td><td>null</td><td>null</td></tr>\n",
       "<tr><td>1000027</td><td>39.0</td><td>931.0</td></tr>\n",
       "<tr><td>1000030</td><td>50.0</td><td>684.0</td></tr>\n",
       "<tr><td>1000031</td><td>38.0</td><td>513.0</td></tr>\n",
       "<tr><td>1000033</td><td>null</td><td>null</td></tr>\n",
       "<tr><td>1000036</td><td>50.5</td><td>545.0</td></tr>\n",
       "<tr><td>1000038</td><td>47.0</td><td>707.0</td></tr>\n",
       "<tr><td>1000041</td><td>40.0</td><td>882.0</td></tr>\n",
       "<tr><td>1000044</td><td>null</td><td>null</td></tr>\n",
       "<tr><td>1000045</td><td>49.0</td><td>604.0</td></tr>\n",
       "<tr><td>1000047</td><td>41.0</td><td>862.0</td></tr>\n",
       "<tr><td>100005</td><td>43.0</td><td>690.6666666666666</td></tr>\n",
       "<tr><td>1000051</td><td>36.833333333333336</td><td>1004.1666666666666</td></tr>\n",
       "</table>\n",
       "only showing top 20 rows\n"
      ],
      "text/plain": [
       "+-----------+------------------+-------------------------+\n",
       "|consumer_id|          mean_age|mean_tot_prsnl_inc_weekly|\n",
       "+-----------+------------------+-------------------------+\n",
       "|         10|              42.0|                    770.0|\n",
       "|        100|              null|                     null|\n",
       "|    1000002|              55.0|                    562.0|\n",
       "|    1000003|              40.0|                    780.0|\n",
       "|    1000006|              45.0|                    830.0|\n",
       "|    1000008|              47.0|                    768.0|\n",
       "|    1000023|              39.0|                    871.0|\n",
       "|    1000024|              null|                     null|\n",
       "|    1000027|              39.0|                    931.0|\n",
       "|    1000030|              50.0|                    684.0|\n",
       "|    1000031|              38.0|                    513.0|\n",
       "|    1000033|              null|                     null|\n",
       "|    1000036|              50.5|                    545.0|\n",
       "|    1000038|              47.0|                    707.0|\n",
       "|    1000041|              40.0|                    882.0|\n",
       "|    1000044|              null|                     null|\n",
       "|    1000045|              49.0|                    604.0|\n",
       "|    1000047|              41.0|                    862.0|\n",
       "|     100005|              43.0|        690.6666666666666|\n",
       "|    1000051|36.833333333333336|       1004.1666666666666|\n",
       "+-----------+------------------+-------------------------+\n",
       "only showing top 20 rows"
      ]
     },
     "execution_count": 10,
     "metadata": {},
     "output_type": "execute_result"
    }
   ],
   "source": [
    "df1.to_csv(\"../curated/weekly_income.csv\", index = None)\n",
    "df1 = spark.read.csv(\"../curated/weekly_income.csv\",header = True)\n",
    "df1"
   ]
  },
  {
   "cell_type": "markdown",
   "id": "0867361d",
   "metadata": {},
   "source": [
    "df1 table shows mean age and mean weekly income of consumers(consumer_id)."
   ]
  },
  {
   "cell_type": "code",
   "execution_count": 11,
   "id": "211dda9f",
   "metadata": {},
   "outputs": [
    {
     "data": {
      "text/html": [
       "<table border='1'>\n",
       "<tr><th>consumer_id</th><th>mean_age</th><th>mean_tot_prsnl_inc_weekly</th><th>user_id</th></tr>\n",
       "<tr><td>1195503</td><td>40.0</td><td>749.0</td><td>1</td></tr>\n",
       "<tr><td>179208</td><td>50.0</td><td>740.0</td><td>2</td></tr>\n",
       "<tr><td>1194530</td><td>29.0</td><td>454.3333333333333</td><td>3</td></tr>\n",
       "<tr><td>154128</td><td>50.0</td><td>687.0</td><td>4</td></tr>\n",
       "<tr><td>712975</td><td>44.0</td><td>897.0</td><td>5</td></tr>\n",
       "<tr><td>407340</td><td>32.0</td><td>946.0</td><td>6</td></tr>\n",
       "<tr><td>511685</td><td>47.0</td><td>490.0</td><td>7</td></tr>\n",
       "<tr><td>448088</td><td>39.333333333333336</td><td>803.0</td><td>8</td></tr>\n",
       "<tr><td>650435</td><td>46.0</td><td>654.0</td><td>9</td></tr>\n",
       "<tr><td>1058499</td><td>40.0</td><td>922.0</td><td>10</td></tr>\n",
       "<tr><td>428325</td><td>32.5</td><td>833.5</td><td>11</td></tr>\n",
       "<tr><td>1494640</td><td>31.0</td><td>689.0</td><td>12</td></tr>\n",
       "<tr><td>1146717</td><td>49.0</td><td>571.0</td><td>13</td></tr>\n",
       "<tr><td>1343547</td><td>40.0</td><td>780.0</td><td>14</td></tr>\n",
       "<tr><td>1463076</td><td>41.0</td><td>731.0</td><td>15</td></tr>\n",
       "<tr><td>1356405</td><td>45.0</td><td>683.0</td><td>16</td></tr>\n",
       "<tr><td>1331093</td><td>54.0</td><td>643.0</td><td>17</td></tr>\n",
       "<tr><td>80965</td><td>null</td><td>null</td><td>18</td></tr>\n",
       "<tr><td>1226530</td><td>50.0</td><td>643.0</td><td>19</td></tr>\n",
       "<tr><td>1390367</td><td>52.0</td><td>681.0</td><td>20</td></tr>\n",
       "</table>\n",
       "only showing top 20 rows\n"
      ],
      "text/plain": [
       "+-----------+------------------+-------------------------+-------+\n",
       "|consumer_id|          mean_age|mean_tot_prsnl_inc_weekly|user_id|\n",
       "+-----------+------------------+-------------------------+-------+\n",
       "|    1195503|              40.0|                    749.0|      1|\n",
       "|     179208|              50.0|                    740.0|      2|\n",
       "|    1194530|              29.0|        454.3333333333333|      3|\n",
       "|     154128|              50.0|                    687.0|      4|\n",
       "|     712975|              44.0|                    897.0|      5|\n",
       "|     407340|              32.0|                    946.0|      6|\n",
       "|     511685|              47.0|                    490.0|      7|\n",
       "|     448088|39.333333333333336|                    803.0|      8|\n",
       "|     650435|              46.0|                    654.0|      9|\n",
       "|    1058499|              40.0|                    922.0|     10|\n",
       "|     428325|              32.5|                    833.5|     11|\n",
       "|    1494640|              31.0|                    689.0|     12|\n",
       "|    1146717|              49.0|                    571.0|     13|\n",
       "|    1343547|              40.0|                    780.0|     14|\n",
       "|    1463076|              41.0|                    731.0|     15|\n",
       "|    1356405|              45.0|                    683.0|     16|\n",
       "|    1331093|              54.0|                    643.0|     17|\n",
       "|      80965|              null|                     null|     18|\n",
       "|    1226530|              50.0|                    643.0|     19|\n",
       "|    1390367|              52.0|                    681.0|     20|\n",
       "+-----------+------------------+-------------------------+-------+\n",
       "only showing top 20 rows"
      ]
     },
     "execution_count": 11,
     "metadata": {},
     "output_type": "execute_result"
    }
   ],
   "source": [
    "df1.createOrReplaceTempView(\"df1\") \n",
    "user_detail.createOrReplaceTempView(\"user_detail_tmp\")\n",
    "\n",
    "user_detail_income = spark.sql(\n",
    "    \"\"\"\n",
    "    Select a.*, b.user_id\n",
    "\n",
    "    from df1 as a right join user_detail_tmp as b\n",
    "    on  a.consumer_id = b.consumer_id \n",
    "    \"\"\")\n",
    "\n",
    "user_detail_income"
   ]
  },
  {
   "cell_type": "markdown",
   "id": "5d0f627a",
   "metadata": {},
   "source": [
    "Then, I joined with user_detail dataset to get user_id, and named user_detail_income."
   ]
  },
  {
   "cell_type": "code",
   "execution_count": 10,
   "id": "34c195fe",
   "metadata": {},
   "outputs": [
    {
     "data": {
      "text/html": [
       "<table border='1'>\n",
       "<tr><th>user_id</th><th>merchant_abn</th><th>dollar_value</th><th>order_id</th><th>order_datetime</th><th>postcode</th><th>state</th><th>gender</th><th>order_datetime</th><th>month</th></tr>\n",
       "<tr><td>5630</td><td>60956456424</td><td>145.26081329000152</td><td>1e14adeb-8e13-44f...</td><td>2021-08-21</td><td>841</td><td>NT</td><td>Undisclosed</td><td>2021-08-21</td><td>8</td></tr>\n",
       "<tr><td>5630</td><td>48534649627</td><td>120.25889985200416</td><td>08476339-f383-4ab...</td><td>2021-08-15</td><td>841</td><td>NT</td><td>Undisclosed</td><td>2021-08-15</td><td>8</td></tr>\n",
       "<tr><td>5630</td><td>60956456424</td><td>135.5412540082104</td><td>aacfd47a-438b-47f...</td><td>2021-08-15</td><td>841</td><td>NT</td><td>Undisclosed</td><td>2021-08-15</td><td>8</td></tr>\n",
       "<tr><td>5630</td><td>89932674734</td><td>95.37693966478514</td><td>6d5790c9-0eef-453...</td><td>2021-08-16</td><td>841</td><td>NT</td><td>Undisclosed</td><td>2021-08-16</td><td>8</td></tr>\n",
       "<tr><td>5630</td><td>14089706307</td><td>440.12097711482835</td><td>43d1361a-1101-41a...</td><td>2021-08-16</td><td>841</td><td>NT</td><td>Undisclosed</td><td>2021-08-16</td><td>8</td></tr>\n",
       "<tr><td>5630</td><td>33604812025</td><td>268.4088838875397</td><td>4d8b6deb-a4d7-412...</td><td>2021-08-13</td><td>841</td><td>NT</td><td>Undisclosed</td><td>2021-08-13</td><td>8</td></tr>\n",
       "<tr><td>5630</td><td>81219314324</td><td>48.20692954489542</td><td>6454fbb0-7cbd-4db...</td><td>2021-07-23</td><td>841</td><td>NT</td><td>Undisclosed</td><td>2021-07-23</td><td>7</td></tr>\n",
       "<tr><td>5630</td><td>94472466107</td><td>141.26779955902157</td><td>d85af812-4f34-46b...</td><td>2021-05-21</td><td>841</td><td>NT</td><td>Undisclosed</td><td>2021-05-21</td><td>5</td></tr>\n",
       "<tr><td>5630</td><td>15903176024</td><td>44.68660714566651</td><td>4bae0c2f-0d25-4f6...</td><td>2021-05-21</td><td>841</td><td>NT</td><td>Undisclosed</td><td>2021-05-21</td><td>5</td></tr>\n",
       "<tr><td>5630</td><td>73527950332</td><td>654.6729455135422</td><td>44f25667-6711-4c5...</td><td>2021-07-30</td><td>841</td><td>NT</td><td>Undisclosed</td><td>2021-07-30</td><td>7</td></tr>\n",
       "<tr><td>5630</td><td>23490868997</td><td>324.78811381152974</td><td>7e0a5f73-6d50-42b...</td><td>2021-06-30</td><td>841</td><td>NT</td><td>Undisclosed</td><td>2021-06-30</td><td>6</td></tr>\n",
       "<tr><td>5630</td><td>57471217202</td><td>54.749417435993955</td><td>1bbc622f-ea43-46a...</td><td>2021-06-30</td><td>841</td><td>NT</td><td>Undisclosed</td><td>2021-06-30</td><td>6</td></tr>\n",
       "<tr><td>5630</td><td>44780100984</td><td>194.84683025649386</td><td>ddfd8edc-ce95-474...</td><td>2021-08-26</td><td>841</td><td>NT</td><td>Undisclosed</td><td>2021-08-26</td><td>8</td></tr>\n",
       "<tr><td>5630</td><td>86101203168</td><td>1326.070680180749</td><td>482d01a4-bcb8-4bb...</td><td>2021-06-25</td><td>841</td><td>NT</td><td>Undisclosed</td><td>2021-06-25</td><td>6</td></tr>\n",
       "<tr><td>5630</td><td>20325086904</td><td>43.85379530476626</td><td>2df24114-739f-462...</td><td>2021-07-29</td><td>841</td><td>NT</td><td>Undisclosed</td><td>2021-07-29</td><td>7</td></tr>\n",
       "<tr><td>5630</td><td>13447011295</td><td>84.47749255584314</td><td>92ebd4f3-7c85-431...</td><td>2021-08-08</td><td>841</td><td>NT</td><td>Undisclosed</td><td>2021-08-08</td><td>8</td></tr>\n",
       "<tr><td>5630</td><td>97861055416</td><td>46.26975781161185</td><td>a5cfaa65-99dd-4ef...</td><td>2021-06-18</td><td>841</td><td>NT</td><td>Undisclosed</td><td>2021-06-18</td><td>6</td></tr>\n",
       "<tr><td>5630</td><td>20985347699</td><td>31.50860015471529</td><td>1ae9e6fa-591d-46c...</td><td>2021-07-31</td><td>841</td><td>NT</td><td>Undisclosed</td><td>2021-07-31</td><td>7</td></tr>\n",
       "<tr><td>5630</td><td>43186523025</td><td>13.938409140735315</td><td>e6b04ad7-896c-4f8...</td><td>2021-07-22</td><td>841</td><td>NT</td><td>Undisclosed</td><td>2021-07-22</td><td>7</td></tr>\n",
       "<tr><td>5630</td><td>24852446429</td><td>9.04089293184002</td><td>8cf04571-92ec-4be...</td><td>2021-07-22</td><td>841</td><td>NT</td><td>Undisclosed</td><td>2021-07-22</td><td>7</td></tr>\n",
       "</table>\n",
       "only showing top 20 rows\n"
      ],
      "text/plain": [
       "+-------+------------+------------------+--------------------+--------------+--------+-----+-----------+--------------+-----+\n",
       "|user_id|merchant_abn|      dollar_value|            order_id|order_datetime|postcode|state|     gender|order_datetime|month|\n",
       "+-------+------------+------------------+--------------------+--------------+--------+-----+-----------+--------------+-----+\n",
       "|   5630| 60956456424|145.26081329000152|1e14adeb-8e13-44f...|    2021-08-21|     841|   NT|Undisclosed|    2021-08-21|    8|\n",
       "|   5630| 48534649627|120.25889985200416|08476339-f383-4ab...|    2021-08-15|     841|   NT|Undisclosed|    2021-08-15|    8|\n",
       "|   5630| 60956456424| 135.5412540082104|aacfd47a-438b-47f...|    2021-08-15|     841|   NT|Undisclosed|    2021-08-15|    8|\n",
       "|   5630| 89932674734| 95.37693966478514|6d5790c9-0eef-453...|    2021-08-16|     841|   NT|Undisclosed|    2021-08-16|    8|\n",
       "|   5630| 14089706307|440.12097711482835|43d1361a-1101-41a...|    2021-08-16|     841|   NT|Undisclosed|    2021-08-16|    8|\n",
       "|   5630| 33604812025| 268.4088838875397|4d8b6deb-a4d7-412...|    2021-08-13|     841|   NT|Undisclosed|    2021-08-13|    8|\n",
       "|   5630| 81219314324| 48.20692954489542|6454fbb0-7cbd-4db...|    2021-07-23|     841|   NT|Undisclosed|    2021-07-23|    7|\n",
       "|   5630| 94472466107|141.26779955902157|d85af812-4f34-46b...|    2021-05-21|     841|   NT|Undisclosed|    2021-05-21|    5|\n",
       "|   5630| 15903176024| 44.68660714566651|4bae0c2f-0d25-4f6...|    2021-05-21|     841|   NT|Undisclosed|    2021-05-21|    5|\n",
       "|   5630| 73527950332| 654.6729455135422|44f25667-6711-4c5...|    2021-07-30|     841|   NT|Undisclosed|    2021-07-30|    7|\n",
       "|   5630| 23490868997|324.78811381152974|7e0a5f73-6d50-42b...|    2021-06-30|     841|   NT|Undisclosed|    2021-06-30|    6|\n",
       "|   5630| 57471217202|54.749417435993955|1bbc622f-ea43-46a...|    2021-06-30|     841|   NT|Undisclosed|    2021-06-30|    6|\n",
       "|   5630| 44780100984|194.84683025649386|ddfd8edc-ce95-474...|    2021-08-26|     841|   NT|Undisclosed|    2021-08-26|    8|\n",
       "|   5630| 86101203168| 1326.070680180749|482d01a4-bcb8-4bb...|    2021-06-25|     841|   NT|Undisclosed|    2021-06-25|    6|\n",
       "|   5630| 20325086904| 43.85379530476626|2df24114-739f-462...|    2021-07-29|     841|   NT|Undisclosed|    2021-07-29|    7|\n",
       "|   5630| 13447011295| 84.47749255584314|92ebd4f3-7c85-431...|    2021-08-08|     841|   NT|Undisclosed|    2021-08-08|    8|\n",
       "|   5630| 97861055416| 46.26975781161185|a5cfaa65-99dd-4ef...|    2021-06-18|     841|   NT|Undisclosed|    2021-06-18|    6|\n",
       "|   5630| 20985347699| 31.50860015471529|1ae9e6fa-591d-46c...|    2021-07-31|     841|   NT|Undisclosed|    2021-07-31|    7|\n",
       "|   5630| 43186523025|13.938409140735315|e6b04ad7-896c-4f8...|    2021-07-22|     841|   NT|Undisclosed|    2021-07-22|    7|\n",
       "|   5630| 24852446429|  9.04089293184002|8cf04571-92ec-4be...|    2021-07-22|     841|   NT|Undisclosed|    2021-07-22|    7|\n",
       "+-------+------------+------------------+--------------------+--------------+--------+-----+-----------+--------------+-----+\n",
       "only showing top 20 rows"
      ]
     },
     "execution_count": 10,
     "metadata": {},
     "output_type": "execute_result"
    }
   ],
   "source": [
    "path = \"transactions_20210228_20210827_snapshot/\"\n",
    "# list_files = os.listdir(path)\n",
    "# list_files = list_files[1:(len(list_files)-1)]\n",
    "\n",
    "# # import modules\n",
    "# from pyspark.sql import SparkSession\n",
    "# import functools\n",
    " \n",
    "# # explicit function\n",
    "# def unionAll(dfs):\n",
    "#     return functools.reduce(lambda df1, df2: df1.union(df2.select(df1.columns)), dfs)\n",
    "\n",
    "# # read files\n",
    "# file_name = os.listdir(path+ list_files[0])[1]\n",
    "# transaction = spark.read.parquet(path+ list_files[0] +\"/\" + file_name)\n",
    "# transaction = transaction.withColumn('order_datetime',lit(list_files[0][15:]))\n",
    "# for i in list_files[1:]:\n",
    "#     file_name = os.listdir(path + i)[1]\n",
    "#     tmp = spark.read.parquet(path+ i +\"/\" + file_name)\n",
    "#     tmp = tmp.withColumn('order_datetime',lit(i[15:]))\n",
    "#     transaction = unionAll([transaction, tmp] )\n",
    "\n",
    "transaction = spark.read.parquet(path,header = True)\n",
    "\n",
    "# Join transaction data with customer data\n",
    "customer_transaction = (transaction.join(user_detail, transaction.user_id == user_detail.user_id)\n",
    "                                   .drop(user_detail.user_id))\n",
    "\n",
    "customer_transaction = (customer_transaction.join(consumer, customer_transaction.consumer_id == consumer.consumer_id)\n",
    "                                            .drop(consumer.consumer_id)\n",
    "                                            .select(transaction['*'], consumer.postcode, consumer.state, consumer.gender))\n",
    "#make 'month' column extracting from 'order_datetime'\n",
    "customer_transaction = customer_transaction.select(col(\"*\"),col(\"order_datetime\"),\n",
    "          month(col(\"order_datetime\")).alias('month')\n",
    "                           )\n",
    "customer_transaction"
   ]
  },
  {
   "cell_type": "markdown",
   "id": "a6c9acb9",
   "metadata": {},
   "source": [
    "I brought this code from ETL-yjc.ipynb.\n",
    "\n",
    "It reads transaction folder, join with customer and made 'month' column extracting from 'order_datetime'. This dataset is customer_transaction."
   ]
  },
  {
   "cell_type": "markdown",
   "id": "11dd493f",
   "metadata": {},
   "source": [
    "# Making VIP data"
   ]
  },
  {
   "cell_type": "markdown",
   "id": "319ebf2b",
   "metadata": {},
   "source": [
    "### For each customers(user_id), which merchants and how many times did they visit?"
   ]
  },
  {
   "cell_type": "code",
   "execution_count": 11,
   "id": "1c6a88d5",
   "metadata": {},
   "outputs": [
    {
     "data": {
      "text/html": [
       "<table border='1'>\n",
       "<tr><th>user_id</th><th>merchant_abn</th><th>count_order</th></tr>\n",
       "<tr><td>5024</td><td>43186523025</td><td>12</td></tr>\n",
       "<tr><td>15077</td><td>24852446429</td><td>12</td></tr>\n",
       "<tr><td>18011</td><td>24852446429</td><td>12</td></tr>\n",
       "<tr><td>1118</td><td>24852446429</td><td>11</td></tr>\n",
       "<tr><td>9852</td><td>24852446429</td><td>11</td></tr>\n",
       "<tr><td>13856</td><td>24852446429</td><td>11</td></tr>\n",
       "<tr><td>8951</td><td>86578477987</td><td>11</td></tr>\n",
       "<tr><td>8633</td><td>86578477987</td><td>11</td></tr>\n",
       "<tr><td>21272</td><td>86578477987</td><td>11</td></tr>\n",
       "<tr><td>1640</td><td>64203420245</td><td>11</td></tr>\n",
       "<tr><td>8009</td><td>86578477987</td><td>11</td></tr>\n",
       "<tr><td>9928</td><td>64203420245</td><td>11</td></tr>\n",
       "<tr><td>21030</td><td>64203420245</td><td>11</td></tr>\n",
       "<tr><td>11998</td><td>86578477987</td><td>11</td></tr>\n",
       "<tr><td>16270</td><td>24852446429</td><td>11</td></tr>\n",
       "<tr><td>11288</td><td>24852446429</td><td>11</td></tr>\n",
       "<tr><td>1782</td><td>45629217853</td><td>11</td></tr>\n",
       "<tr><td>20370</td><td>24852446429</td><td>11</td></tr>\n",
       "<tr><td>19036</td><td>24852446429</td><td>11</td></tr>\n",
       "<tr><td>1120</td><td>45629217853</td><td>11</td></tr>\n",
       "</table>\n",
       "only showing top 20 rows\n"
      ],
      "text/plain": [
       "+-------+------------+-----------+\n",
       "|user_id|merchant_abn|count_order|\n",
       "+-------+------------+-----------+\n",
       "|  15077| 24852446429|         12|\n",
       "|   5024| 43186523025|         12|\n",
       "|  18011| 24852446429|         12|\n",
       "|   1118| 24852446429|         11|\n",
       "|   8951| 86578477987|         11|\n",
       "|  13856| 24852446429|         11|\n",
       "|  11998| 86578477987|         11|\n",
       "|   9928| 64203420245|         11|\n",
       "|  11288| 24852446429|         11|\n",
       "|   1640| 64203420245|         11|\n",
       "|   1782| 45629217853|         11|\n",
       "|   1120| 45629217853|         11|\n",
       "|   9852| 24852446429|         11|\n",
       "|   8633| 86578477987|         11|\n",
       "|  16270| 24852446429|         11|\n",
       "|  21030| 64203420245|         11|\n",
       "|  21272| 86578477987|         11|\n",
       "|  20370| 24852446429|         11|\n",
       "|  19036| 24852446429|         11|\n",
       "|   8009| 86578477987|         11|\n",
       "+-------+------------+-----------+\n",
       "only showing top 20 rows"
      ]
     },
     "execution_count": 11,
     "metadata": {},
     "output_type": "execute_result"
    }
   ],
   "source": [
    "customer_transaction.createOrReplaceTempView(\"customer_transaction\")\n",
    "\n",
    "\n",
    "customer_transaction_count = spark.sql(\n",
    "    \"\"\"\n",
    "    Select  user_id, merchant_abn,\n",
    "    count(order_id) as count_order\n",
    "\n",
    "    from customer_transaction\n",
    "    group by user_id, merchant_abn \n",
    "    order by  count_order desc\n",
    "    \"\"\")\n",
    "customer_transaction_count"
   ]
  },
  {
   "cell_type": "markdown",
   "id": "d4e1cb9d",
   "metadata": {},
   "source": [
    "This table shows which customer visited which merchants for how many times.\n",
    "\n",
    "For example, user_id 5024 visited 43186523025 merchant for 12 times."
   ]
  },
  {
   "cell_type": "markdown",
   "id": "8beb7e89",
   "metadata": {},
   "source": [
    "# What is the distribution of visited number of consumers(count_order)?"
   ]
  },
  {
   "cell_type": "code",
   "execution_count": 12,
   "id": "2f858cb4",
   "metadata": {},
   "outputs": [
    {
     "data": {
      "text/html": [
       "<table border='1'>\n",
       "<tr><th>count_order</th><th>N</th></tr>\n",
       "<tr><td>7</td><td>2723</td></tr>\n",
       "<tr><td>6</td><td>7341</td></tr>\n",
       "<tr><td>9</td><td>283</td></tr>\n",
       "<tr><td>5</td><td>17885</td></tr>\n",
       "<tr><td>1</td><td>2455398</td></tr>\n",
       "<tr><td>10</td><td>78</td></tr>\n",
       "<tr><td>3</td><td>89832</td></tr>\n",
       "<tr><td>12</td><td>3</td></tr>\n",
       "<tr><td>8</td><td>872</td></tr>\n",
       "<tr><td>11</td><td>19</td></tr>\n",
       "<tr><td>2</td><td>298654</td></tr>\n",
       "<tr><td>4</td><td>39496</td></tr>\n",
       "</table>\n"
      ],
      "text/plain": [
       "+-----------+-------+\n",
       "|count_order|      N|\n",
       "+-----------+-------+\n",
       "|          7|   2723|\n",
       "|          6|   7341|\n",
       "|          9|    283|\n",
       "|          5|  17885|\n",
       "|          1|2455398|\n",
       "|         10|     78|\n",
       "|          3|  89832|\n",
       "|         12|      3|\n",
       "|          8|    872|\n",
       "|         11|     19|\n",
       "|          2| 298654|\n",
       "|          4|  39496|\n",
       "+-----------+-------+"
      ]
     },
     "execution_count": 12,
     "metadata": {},
     "output_type": "execute_result"
    }
   ],
   "source": [
    "customer_transaction_count.createOrReplaceTempView(\"customer_transaction_count\")\n",
    "\n",
    "\n",
    "dist = spark.sql(\n",
    "    \"\"\"\n",
    "    Select  count_order,\n",
    "    count(count_order) as N \n",
    "\n",
    "    from customer_transaction_count\n",
    "    group by count_order\n",
    "    \"\"\")\n",
    "dist"
   ]
  },
  {
   "cell_type": "code",
   "execution_count": 13,
   "id": "62b69761",
   "metadata": {},
   "outputs": [
    {
     "data": {
      "text/html": [
       "<div>\n",
       "<style scoped>\n",
       "    .dataframe tbody tr th:only-of-type {\n",
       "        vertical-align: middle;\n",
       "    }\n",
       "\n",
       "    .dataframe tbody tr th {\n",
       "        vertical-align: top;\n",
       "    }\n",
       "\n",
       "    .dataframe thead th {\n",
       "        text-align: right;\n",
       "    }\n",
       "</style>\n",
       "<table border=\"1\" class=\"dataframe\">\n",
       "  <thead>\n",
       "    <tr style=\"text-align: right;\">\n",
       "      <th></th>\n",
       "      <th>count_order</th>\n",
       "      <th>N</th>\n",
       "    </tr>\n",
       "  </thead>\n",
       "  <tbody>\n",
       "    <tr>\n",
       "      <th>4</th>\n",
       "      <td>1</td>\n",
       "      <td>2455398</td>\n",
       "    </tr>\n",
       "    <tr>\n",
       "      <th>10</th>\n",
       "      <td>2</td>\n",
       "      <td>298654</td>\n",
       "    </tr>\n",
       "    <tr>\n",
       "      <th>6</th>\n",
       "      <td>3</td>\n",
       "      <td>89832</td>\n",
       "    </tr>\n",
       "    <tr>\n",
       "      <th>11</th>\n",
       "      <td>4</td>\n",
       "      <td>39496</td>\n",
       "    </tr>\n",
       "    <tr>\n",
       "      <th>3</th>\n",
       "      <td>5</td>\n",
       "      <td>17885</td>\n",
       "    </tr>\n",
       "    <tr>\n",
       "      <th>1</th>\n",
       "      <td>6</td>\n",
       "      <td>7341</td>\n",
       "    </tr>\n",
       "    <tr>\n",
       "      <th>0</th>\n",
       "      <td>7</td>\n",
       "      <td>2723</td>\n",
       "    </tr>\n",
       "    <tr>\n",
       "      <th>8</th>\n",
       "      <td>8</td>\n",
       "      <td>872</td>\n",
       "    </tr>\n",
       "    <tr>\n",
       "      <th>2</th>\n",
       "      <td>9</td>\n",
       "      <td>283</td>\n",
       "    </tr>\n",
       "    <tr>\n",
       "      <th>5</th>\n",
       "      <td>10</td>\n",
       "      <td>78</td>\n",
       "    </tr>\n",
       "    <tr>\n",
       "      <th>9</th>\n",
       "      <td>11</td>\n",
       "      <td>19</td>\n",
       "    </tr>\n",
       "    <tr>\n",
       "      <th>7</th>\n",
       "      <td>12</td>\n",
       "      <td>3</td>\n",
       "    </tr>\n",
       "  </tbody>\n",
       "</table>\n",
       "</div>"
      ],
      "text/plain": [
       "    count_order        N\n",
       "4             1  2455398\n",
       "10            2   298654\n",
       "6             3    89832\n",
       "11            4    39496\n",
       "3             5    17885\n",
       "1             6     7341\n",
       "0             7     2723\n",
       "8             8      872\n",
       "2             9      283\n",
       "5            10       78\n",
       "9            11       19\n",
       "7            12        3"
      ]
     },
     "execution_count": 13,
     "metadata": {},
     "output_type": "execute_result"
    }
   ],
   "source": [
    "dist = dist.toPandas()\n",
    "dist = dist.sort_values(by = 'count_order')\n",
    "dist"
   ]
  },
  {
   "cell_type": "code",
   "execution_count": 14,
   "id": "0f762b04",
   "metadata": {},
   "outputs": [
    {
     "data": {
      "image/png": "[encoded data removed]",
      "text/plain": [
       "<Figure size 640x480 with 1 Axes>"
      ]
     },
     "metadata": {},
     "output_type": "display_data"
    }
   ],
   "source": [
    "# importing the required library\n",
    "import seaborn as sns\n",
    "import matplotlib.pyplot as plt\n",
    "sns.barplot(x = 'count_order',\n",
    "            y = 'N',\n",
    "            data = dist)\n",
    " \n",
    "# Show the plot\n",
    "plt.show()"
   ]
  },
  {
   "cell_type": "markdown",
   "id": "a1ec390f",
   "metadata": {},
   "source": [
    "According to the bar plot, it shows that the distribution follows Poisson distribution.\n",
    "\n",
    "Hence, the standard of VIPs will be set based on this distribution."
   ]
  },
  {
   "cell_type": "code",
   "execution_count": 66,
   "id": "bdc49912",
   "metadata": {},
   "outputs": [
    {
     "data": {
      "text/html": [
       "<table border='1'>\n",
       "<tr><th>mean</th><th>std</th></tr>\n",
       "<tr><td>1.2508707045015697</td><td>0.7097678950711641</td></tr>\n",
       "</table>\n"
      ],
      "text/plain": [
       "+------------------+------------------+\n",
       "|              mean|               std|\n",
       "+------------------+------------------+\n",
       "|1.2508707045015697|0.7097678950711641|\n",
       "+------------------+------------------+"
      ]
     },
     "execution_count": 66,
     "metadata": {},
     "output_type": "execute_result"
    }
   ],
   "source": [
    "customer_trans_count.select(\n",
    "    mean(col('count(order_id)')).alias('mean'),\n",
    "    stddev(col('count(order_id)')).alias('std')\n",
    ")"
   ]
  },
  {
   "cell_type": "code",
   "execution_count": 67,
   "id": "41c6c5a3",
   "metadata": {},
   "outputs": [
    {
     "data": {
      "text/plain": [
       "0.50381604"
      ]
     },
     "execution_count": 67,
     "metadata": {},
     "output_type": "execute_result"
    }
   ],
   "source": [
    "# variance of total orders per cust on a merchant\n",
    "0.7098**2"
   ]
  },
  {
   "cell_type": "markdown",
   "id": "ba6e7d88",
   "metadata": {},
   "source": [
    "mean $\\neq$ variance. So I dont think Poisson fits the data."
   ]
  },
  {
   "cell_type": "markdown",
   "id": "32d46e5b",
   "metadata": {},
   "source": [
    "### Setting Returning Customers metrics"
   ]
  },
  {
   "cell_type": "markdown",
   "id": "344cc789",
   "metadata": {},
   "source": [
    "Test if there's any difference in grouping method using sql and built in function."
   ]
  },
  {
   "cell_type": "code",
   "execution_count": 38,
   "id": "472ecf1b",
   "metadata": {},
   "outputs": [],
   "source": [
    "customer_trans_count = customer_transaction.groupby(['merchant_abn','user_id']).agg({'order_id':'count',\n",
    "                                                                                     'dollar_value':'sum'})"
   ]
  },
  {
   "cell_type": "code",
   "execution_count": 19,
   "id": "ee567755",
   "metadata": {},
   "outputs": [
    {
     "data": {
      "text/html": [
       "<table border='1'>\n",
       "<tr><th>count(order_id)</th><th>count(user_id)</th></tr>\n",
       "<tr><td>7</td><td>2723</td></tr>\n",
       "<tr><td>6</td><td>7341</td></tr>\n",
       "<tr><td>9</td><td>283</td></tr>\n",
       "<tr><td>5</td><td>17885</td></tr>\n",
       "<tr><td>1</td><td>2455398</td></tr>\n",
       "<tr><td>10</td><td>78</td></tr>\n",
       "<tr><td>3</td><td>89832</td></tr>\n",
       "<tr><td>12</td><td>3</td></tr>\n",
       "<tr><td>8</td><td>872</td></tr>\n",
       "<tr><td>11</td><td>19</td></tr>\n",
       "<tr><td>2</td><td>298654</td></tr>\n",
       "<tr><td>4</td><td>39496</td></tr>\n",
       "</table>\n"
      ],
      "text/plain": [
       "+---------------+--------------+\n",
       "|count(order_id)|count(user_id)|\n",
       "+---------------+--------------+\n",
       "|              7|          2723|\n",
       "|              6|          7341|\n",
       "|              9|           283|\n",
       "|              5|         17885|\n",
       "|              1|       2455398|\n",
       "|             10|            78|\n",
       "|              3|         89832|\n",
       "|             12|             3|\n",
       "|              8|           872|\n",
       "|             11|            19|\n",
       "|              2|        298654|\n",
       "|              4|         39496|\n",
       "+---------------+--------------+"
      ]
     },
     "execution_count": 19,
     "metadata": {},
     "output_type": "execute_result"
    }
   ],
   "source": [
    "customer_trans_count.groupby('count(order_id)').agg({'user_id':'count'})"
   ]
  },
  {
   "cell_type": "code",
   "execution_count": 39,
   "id": "e25928e4",
   "metadata": {},
   "outputs": [],
   "source": [
    "return_metric = customer_trans_count.groupby('merchant_abn').agg(\n",
    "    count(when(col('count(order_id)')>2, True)).alias('returning_customer')\n",
    ")\n",
    "\n"
   ]
  },
  {
   "cell_type": "code",
   "execution_count": 40,
   "id": "21cce3a3",
   "metadata": {},
   "outputs": [
    {
     "data": {
      "text/html": [
       "<table border='1'>\n",
       "<tr><th>merchant_abn</th><th>returning_customer</th></tr>\n",
       "<tr><td>24406529929</td><td>0</td></tr>\n",
       "<tr><td>15613631617</td><td>0</td></tr>\n",
       "<tr><td>83412691377</td><td>11</td></tr>\n",
       "<tr><td>38700038932</td><td>0</td></tr>\n",
       "<tr><td>73256306726</td><td>0</td></tr>\n",
       "<tr><td>35344855546</td><td>0</td></tr>\n",
       "<tr><td>48214071373</td><td>0</td></tr>\n",
       "<tr><td>96946925998</td><td>0</td></tr>\n",
       "<tr><td>73841664453</td><td>0</td></tr>\n",
       "<tr><td>19839532017</td><td>0</td></tr>\n",
       "<tr><td>52763133264</td><td>0</td></tr>\n",
       "<tr><td>78916025936</td><td>0</td></tr>\n",
       "<tr><td>60654402457</td><td>0</td></tr>\n",
       "<tr><td>38986645707</td><td>0</td></tr>\n",
       "<tr><td>12516851436</td><td>0</td></tr>\n",
       "<tr><td>34440496342</td><td>0</td></tr>\n",
       "<tr><td>41956465747</td><td>0</td></tr>\n",
       "<tr><td>57798993346</td><td>0</td></tr>\n",
       "<tr><td>92202115241</td><td>0</td></tr>\n",
       "<tr><td>56395390867</td><td>0</td></tr>\n",
       "</table>\n",
       "only showing top 20 rows\n"
      ],
      "text/plain": [
       "+------------+------------------+\n",
       "|merchant_abn|returning_customer|\n",
       "+------------+------------------+\n",
       "| 24406529929|                 0|\n",
       "| 15613631617|                 0|\n",
       "| 83412691377|                11|\n",
       "| 38700038932|                 0|\n",
       "| 73256306726|                 0|\n",
       "| 35344855546|                 0|\n",
       "| 48214071373|                 0|\n",
       "| 96946925998|                 0|\n",
       "| 73841664453|                 0|\n",
       "| 19839532017|                 0|\n",
       "| 52763133264|                 0|\n",
       "| 78916025936|                 0|\n",
       "| 60654402457|                 0|\n",
       "| 38986645707|                 0|\n",
       "| 12516851436|                 0|\n",
       "| 34440496342|                 0|\n",
       "| 41956465747|                 0|\n",
       "| 57798993346|                 0|\n",
       "| 92202115241|                 0|\n",
       "| 56395390867|                 0|\n",
       "+------------+------------------+\n",
       "only showing top 20 rows"
      ]
     },
     "execution_count": 40,
     "metadata": {},
     "output_type": "execute_result"
    }
   ],
   "source": [
    "return_metric"
   ]
  },
  {
   "cell_type": "code",
   "execution_count": 41,
   "id": "04d3c45e",
   "metadata": {},
   "outputs": [
    {
     "data": {
      "text/plain": [
       "574"
      ]
     },
     "execution_count": 41,
     "metadata": {},
     "output_type": "execute_result"
    }
   ],
   "source": [
    "return_metric.where(col('returning_customer')>0).count()"
   ]
  },
  {
   "cell_type": "markdown",
   "id": "1c5ea8fd",
   "metadata": {},
   "source": [
    "Only 574/4359 (13.2%) of merchants have 1 or more returning customers."
   ]
  },
  {
   "cell_type": "markdown",
   "id": "1daac8ca",
   "metadata": {},
   "source": [
    "### By each merchant, what is average number of visiting frequency per 1 customer and the value of standard deviation?"
   ]
  },
  {
   "cell_type": "code",
   "execution_count": 35,
   "id": "79ce64b9",
   "metadata": {
    "scrolled": true
   },
   "outputs": [
    {
     "data": {
      "text/html": [
       "<table border='1'>\n",
       "<tr><th>merchant_abn</th><th>mean_visited_user</th><th>std_visited_user</th></tr>\n",
       "<tr><td>83412691377</td><td>1.0780834072759538</td><td>0.28020806960531564</td></tr>\n",
       "<tr><td>24406529929</td><td>1.0215475024485798</td><td>0.14527173640515173</td></tr>\n",
       "<tr><td>38700038932</td><td>1.0318613750698715</td><td>0.1756800491057901</td></tr>\n",
       "<tr><td>73841664453</td><td>1.0077220077220077</td><td>0.08770448939204492</td></tr>\n",
       "<tr><td>73256306726</td><td>1.029126213592233</td><td>0.16822310100410454</td></tr>\n",
       "<tr><td>35344855546</td><td>1.0078740157480315</td><td>0.08850182800306422</td></tr>\n",
       "<tr><td>19839532017</td><td>1.0106382978723405</td><td>0.10286597386359325</td></tr>\n",
       "<tr><td>15613631617</td><td>1.005859375</td><td>0.07639661003892982</td></tr>\n",
       "<tr><td>29216160692</td><td>1.0239574090505768</td><td>0.1586833871813572</td></tr>\n",
       "<tr><td>59128133246</td><td>1.0303217821782178</td><td>0.17509702338859554</td></tr>\n",
       "<tr><td>48723861274</td><td>1.010989010989011</td><td>0.10439440941149356</td></tr>\n",
       "<tr><td>87211363921</td><td>1.00625</td><td>0.07905694150420949</td></tr>\n",
       "<tr><td>35769589414</td><td>1.0063694267515924</td><td>0.07980868844676221</td></tr>\n",
       "<tr><td>45339304653</td><td>1.0069204152249136</td><td>0.08304448208871282</td></tr>\n",
       "<tr><td>10648956813</td><td>1.120814568239671</td><td>0.35361083285394046</td></tr>\n",
       "<tr><td>86662713230</td><td>1.118366541724206</td><td>0.34378576084790885</td></tr>\n",
       "<tr><td>90568944804</td><td>1.049593180937621</td><td>0.22243549090106332</td></tr>\n",
       "<tr><td>11944993446</td><td>1.0635276532137519</td><td>0.2515003940493463</td></tr>\n",
       "<tr><td>87802246756</td><td>1.0334190231362468</td><td>0.19362791673615945</td></tr>\n",
       "<tr><td>45899477665</td><td>1.0295602018745493</td><td>0.17363782721038365</td></tr>\n",
       "</table>\n",
       "only showing top 20 rows\n"
      ],
      "text/plain": [
       "+------------+------------------+-------------------+\n",
       "|merchant_abn| mean_visited_user|   std_visited_user|\n",
       "+------------+------------------+-------------------+\n",
       "| 83412691377|1.0780834072759538|0.28020806960531564|\n",
       "| 24406529929|1.0215475024485798|0.14527173640515173|\n",
       "| 38700038932|1.0318613750698715| 0.1756800491057901|\n",
       "| 73841664453|1.0077220077220077|0.08770448939204492|\n",
       "| 73256306726| 1.029126213592233|0.16822310100410454|\n",
       "| 35344855546|1.0078740157480315|0.08850182800306422|\n",
       "| 19839532017|1.0106382978723405|0.10286597386359325|\n",
       "| 15613631617|       1.005859375|0.07639661003892982|\n",
       "| 29216160692|1.0239574090505768| 0.1586833871813572|\n",
       "| 59128133246|1.0303217821782178|0.17509702338859554|\n",
       "| 48723861274| 1.010989010989011|0.10439440941149356|\n",
       "| 87211363921|           1.00625|0.07905694150420949|\n",
       "| 35769589414|1.0063694267515924|0.07980868844676221|\n",
       "| 45339304653|1.0069204152249136|0.08304448208871282|\n",
       "| 10648956813| 1.120814568239671|0.35361083285394046|\n",
       "| 86662713230| 1.118366541724206|0.34378576084790885|\n",
       "| 90568944804| 1.049593180937621|0.22243549090106332|\n",
       "| 11944993446|1.0635276532137519| 0.2515003940493463|\n",
       "| 87802246756|1.0334190231362468|0.19362791673615945|\n",
       "| 45899477665|1.0295602018745493|0.17363782721038365|\n",
       "+------------+------------------+-------------------+\n",
       "only showing top 20 rows"
      ]
     },
     "execution_count": 35,
     "metadata": {},
     "output_type": "execute_result"
    }
   ],
   "source": [
    "customer_transaction_count.createOrReplaceTempView(\"customer_transaction_count\")\n",
    "\n",
    "\n",
    "customer_transaction_count_mean = spark.sql(\n",
    "    \"\"\"\n",
    "    Select  merchant_abn,\n",
    "    avg(count_order) as mean_visited_user ,\n",
    "    std(count_order) as std_visited_user \n",
    "\n",
    "    from customer_transaction_count\n",
    "    group by merchant_abn \n",
    "    \"\"\")\n",
    "customer_transaction_count_mean"
   ]
  },
  {
   "cell_type": "markdown",
   "id": "5ba31431",
   "metadata": {},
   "source": [
    "Using 'customer_transaction_count' dataset, I figured out the mean and standard deviation of 'count_user_id' per 1 customer by each merchant."
   ]
  },
  {
   "cell_type": "markdown",
   "id": "bdaf5c8e",
   "metadata": {},
   "source": [
    "### How to set the standard of VIPs?"
   ]
  },
  {
   "cell_type": "code",
   "execution_count": 36,
   "id": "43e541ad",
   "metadata": {},
   "outputs": [
    {
     "data": {
      "text/html": [
       "<table border='1'>\n",
       "<tr><th>user_id</th><th>merchant_abn</th><th>count_order</th><th>mean_visited_user</th><th>std_visited_user</th><th>vip_standard</th></tr>\n",
       "<tr><td>21223</td><td>49891706470</td><td>11</td><td>2.843536198184501</td><td>1.5045697489880956</td><td>6.60496057065474</td></tr>\n",
       "<tr><td>5024</td><td>43186523025</td><td>12</td><td>2.426085320539956</td><td>1.3264281797203297</td><td>5.74215576984078</td></tr>\n",
       "<tr><td>1120</td><td>45629217853</td><td>11</td><td>2.640505638413969</td><td>1.4262816579485622</td><td>6.206209783285375</td></tr>\n",
       "<tr><td>1782</td><td>45629217853</td><td>11</td><td>2.640505638413969</td><td>1.4262816579485622</td><td>6.206209783285375</td></tr>\n",
       "<tr><td>8009</td><td>86578477987</td><td>11</td><td>3.060587461639632</td><td>1.6002360205596278</td><td>7.061177513038702</td></tr>\n",
       "<tr><td>11998</td><td>86578477987</td><td>11</td><td>3.060587461639632</td><td>1.6002360205596278</td><td>7.061177513038702</td></tr>\n",
       "<tr><td>8951</td><td>86578477987</td><td>11</td><td>3.060587461639632</td><td>1.6002360205596278</td><td>7.061177513038702</td></tr>\n",
       "<tr><td>8633</td><td>86578477987</td><td>11</td><td>3.060587461639632</td><td>1.6002360205596278</td><td>7.061177513038702</td></tr>\n",
       "<tr><td>21272</td><td>86578477987</td><td>11</td><td>3.060587461639632</td><td>1.6002360205596278</td><td>7.061177513038702</td></tr>\n",
       "<tr><td>9928</td><td>64203420245</td><td>11</td><td>2.958622518898369</td><td>1.538645566811654</td><td>6.805236435927505</td></tr>\n",
       "<tr><td>21030</td><td>64203420245</td><td>11</td><td>2.958622518898369</td><td>1.538645566811654</td><td>6.805236435927505</td></tr>\n",
       "<tr><td>1640</td><td>64203420245</td><td>11</td><td>2.958622518898369</td><td>1.538645566811654</td><td>6.805236435927505</td></tr>\n",
       "<tr><td>15077</td><td>24852446429</td><td>12</td><td>3.231912482566248</td><td>1.6619584271423433</td><td>7.386808550422106</td></tr>\n",
       "<tr><td>18011</td><td>24852446429</td><td>12</td><td>3.231912482566248</td><td>1.6619584271423433</td><td>7.386808550422106</td></tr>\n",
       "<tr><td>19036</td><td>24852446429</td><td>11</td><td>3.231912482566248</td><td>1.6619584271423433</td><td>7.386808550422106</td></tr>\n",
       "<tr><td>16270</td><td>24852446429</td><td>11</td><td>3.231912482566248</td><td>1.6619584271423433</td><td>7.386808550422106</td></tr>\n",
       "<tr><td>9852</td><td>24852446429</td><td>11</td><td>3.231912482566248</td><td>1.6619584271423433</td><td>7.386808550422106</td></tr>\n",
       "<tr><td>11288</td><td>24852446429</td><td>11</td><td>3.231912482566248</td><td>1.6619584271423433</td><td>7.386808550422106</td></tr>\n",
       "<tr><td>20370</td><td>24852446429</td><td>11</td><td>3.231912482566248</td><td>1.6619584271423433</td><td>7.386808550422106</td></tr>\n",
       "<tr><td>13856</td><td>24852446429</td><td>11</td><td>3.231912482566248</td><td>1.6619584271423433</td><td>7.386808550422106</td></tr>\n",
       "</table>\n",
       "only showing top 20 rows\n"
      ],
      "text/plain": [
       "+-------+------------+-----------+-----------------+------------------+-----------------+\n",
       "|user_id|merchant_abn|count_order|mean_visited_user|  std_visited_user|     vip_standard|\n",
       "+-------+------------+-----------+-----------------+------------------+-----------------+\n",
       "|  21223| 49891706470|         11|2.843536198184501|1.5045697489880956| 6.60496057065474|\n",
       "|   5024| 43186523025|         12|2.426085320539956|1.3264281797203297| 5.74215576984078|\n",
       "|   1120| 45629217853|         11|2.640505638413969|1.4262816579485622|6.206209783285375|\n",
       "|   1782| 45629217853|         11|2.640505638413969|1.4262816579485622|6.206209783285375|\n",
       "|   8009| 86578477987|         11|3.060587461639632|1.6002360205596278|7.061177513038702|\n",
       "|  11998| 86578477987|         11|3.060587461639632|1.6002360205596278|7.061177513038702|\n",
       "|   8951| 86578477987|         11|3.060587461639632|1.6002360205596278|7.061177513038702|\n",
       "|   8633| 86578477987|         11|3.060587461639632|1.6002360205596278|7.061177513038702|\n",
       "|  21272| 86578477987|         11|3.060587461639632|1.6002360205596278|7.061177513038702|\n",
       "|   9928| 64203420245|         11|2.958622518898369| 1.538645566811654|6.805236435927505|\n",
       "|  21030| 64203420245|         11|2.958622518898369| 1.538645566811654|6.805236435927505|\n",
       "|   1640| 64203420245|         11|2.958622518898369| 1.538645566811654|6.805236435927505|\n",
       "|  15077| 24852446429|         12|3.231912482566248|1.6619584271423433|7.386808550422106|\n",
       "|  18011| 24852446429|         12|3.231912482566248|1.6619584271423433|7.386808550422106|\n",
       "|  19036| 24852446429|         11|3.231912482566248|1.6619584271423433|7.386808550422106|\n",
       "|  16270| 24852446429|         11|3.231912482566248|1.6619584271423433|7.386808550422106|\n",
       "|   9852| 24852446429|         11|3.231912482566248|1.6619584271423433|7.386808550422106|\n",
       "|  11288| 24852446429|         11|3.231912482566248|1.6619584271423433|7.386808550422106|\n",
       "|  20370| 24852446429|         11|3.231912482566248|1.6619584271423433|7.386808550422106|\n",
       "|  13856| 24852446429|         11|3.231912482566248|1.6619584271423433|7.386808550422106|\n",
       "+-------+------------+-----------+-----------------+------------------+-----------------+\n",
       "only showing top 20 rows"
      ]
     },
     "execution_count": 36,
     "metadata": {},
     "output_type": "execute_result"
    }
   ],
   "source": [
    "#https://stats.stackexchange.com/questions/296255/is-the-proporation-of-outliers-detected-by-mean-2-5standard-deviation-for-poi -> 2.5인 이유\n",
    "\n",
    "customer_transaction_count_mean.createOrReplaceTempView(\"customer_transaction_count_mean\")\\\n",
    "\n",
    "join_data = spark.sql(\n",
    "    \"\"\"\n",
    "    Select a.*, b.mean_visited_user, b.std_visited_user,\n",
    "    b.mean_visited_user + 2.5* b.std_visited_user as vip_standard\n",
    "\n",
    "    from customer_transaction_count as a left join customer_transaction_count_mean as b\n",
    "    on  a.merchant_abn = b.merchant_abn \n",
    "    \"\"\")\n",
    "join_data\n"
   ]
  },
  {
   "cell_type": "markdown",
   "id": "94e4f9ac",
   "metadata": {},
   "source": [
    "### Is this customer can be VIP of the merchant?"
   ]
  },
  {
   "cell_type": "code",
   "execution_count": 38,
   "id": "1b16aaa1",
   "metadata": {},
   "outputs": [
    {
     "data": {
      "text/html": [
       "<table border='1'>\n",
       "<tr><th>user_id</th><th>merchant_abn</th><th>count_order</th><th>mean_visited_user</th><th>std_visited_user</th><th>vip_standard</th><th>VIP</th></tr>\n",
       "<tr><td>3539</td><td>73256306726</td><td>1</td><td>1.029126213592233</td><td>0.16822310100410454</td><td>1.4496839661024943</td><td>0</td></tr>\n",
       "<tr><td>14703</td><td>83412691377</td><td>1</td><td>1.0780834072759538</td><td>0.28020806960531564</td><td>1.778603581289243</td><td>0</td></tr>\n",
       "<tr><td>17474</td><td>19839532017</td><td>1</td><td>1.0106382978723405</td><td>0.10286597386359325</td><td>1.2678032325313238</td><td>0</td></tr>\n",
       "<tr><td>4014</td><td>73841664453</td><td>1</td><td>1.0077220077220077</td><td>0.08770448939204492</td><td>1.22698323120212</td><td>0</td></tr>\n",
       "<tr><td>20627</td><td>24406529929</td><td>1</td><td>1.0215475024485798</td><td>0.14527173640515173</td><td>1.384726843461459</td><td>0</td></tr>\n",
       "<tr><td>21162</td><td>34440496342</td><td>1</td><td>1.0</td><td>0.0</td><td>1.0</td><td>0</td></tr>\n",
       "<tr><td>18306</td><td>24406529929</td><td>1</td><td>1.0215475024485798</td><td>0.14527173640515173</td><td>1.384726843461459</td><td>0</td></tr>\n",
       "<tr><td>15297</td><td>24406529929</td><td>1</td><td>1.0215475024485798</td><td>0.14527173640515173</td><td>1.384726843461459</td><td>0</td></tr>\n",
       "<tr><td>8586</td><td>19839532017</td><td>1</td><td>1.0106382978723405</td><td>0.10286597386359325</td><td>1.2678032325313238</td><td>0</td></tr>\n",
       "<tr><td>6238</td><td>73256306726</td><td>1</td><td>1.029126213592233</td><td>0.16822310100410454</td><td>1.4496839661024943</td><td>0</td></tr>\n",
       "<tr><td>23445</td><td>73256306726</td><td>1</td><td>1.029126213592233</td><td>0.16822310100410454</td><td>1.4496839661024943</td><td>0</td></tr>\n",
       "<tr><td>16587</td><td>38700038932</td><td>1</td><td>1.0318613750698715</td><td>0.1756800491057901</td><td>1.4710614978343468</td><td>0</td></tr>\n",
       "<tr><td>18938</td><td>38700038932</td><td>1</td><td>1.0318613750698715</td><td>0.1756800491057901</td><td>1.4710614978343468</td><td>0</td></tr>\n",
       "<tr><td>16678</td><td>24406529929</td><td>1</td><td>1.0215475024485798</td><td>0.14527173640515173</td><td>1.384726843461459</td><td>0</td></tr>\n",
       "<tr><td>17906</td><td>83412691377</td><td>2</td><td>1.0780834072759538</td><td>0.28020806960531564</td><td>1.778603581289243</td><td>1</td></tr>\n",
       "<tr><td>3375</td><td>83412691377</td><td>2</td><td>1.0780834072759538</td><td>0.28020806960531564</td><td>1.778603581289243</td><td>1</td></tr>\n",
       "<tr><td>14915</td><td>83412691377</td><td>1</td><td>1.0780834072759538</td><td>0.28020806960531564</td><td>1.778603581289243</td><td>0</td></tr>\n",
       "<tr><td>3363</td><td>24406529929</td><td>1</td><td>1.0215475024485798</td><td>0.14527173640515173</td><td>1.384726843461459</td><td>0</td></tr>\n",
       "<tr><td>12960</td><td>73841664453</td><td>1</td><td>1.0077220077220077</td><td>0.08770448939204492</td><td>1.22698323120212</td><td>0</td></tr>\n",
       "<tr><td>12090</td><td>83412691377</td><td>1</td><td>1.0780834072759538</td><td>0.28020806960531564</td><td>1.778603581289243</td><td>0</td></tr>\n",
       "</table>\n",
       "only showing top 20 rows\n"
      ],
      "text/plain": [
       "+-------+------------+-----------+------------------+-------------------+------------------+---+\n",
       "|user_id|merchant_abn|count_order| mean_visited_user|   std_visited_user|      vip_standard|VIP|\n",
       "+-------+------------+-----------+------------------+-------------------+------------------+---+\n",
       "|   3539| 73256306726|          1| 1.029126213592233|0.16822310100410454|1.4496839661024943|  0|\n",
       "|  14703| 83412691377|          1|1.0780834072759538|0.28020806960531564| 1.778603581289243|  0|\n",
       "|  17474| 19839532017|          1|1.0106382978723405|0.10286597386359325|1.2678032325313238|  0|\n",
       "|   4014| 73841664453|          1|1.0077220077220077|0.08770448939204492|  1.22698323120212|  0|\n",
       "|  20627| 24406529929|          1|1.0215475024485798|0.14527173640515173| 1.384726843461459|  0|\n",
       "|  21162| 34440496342|          1|               1.0|                0.0|               1.0|  0|\n",
       "|  18306| 24406529929|          1|1.0215475024485798|0.14527173640515173| 1.384726843461459|  0|\n",
       "|  15297| 24406529929|          1|1.0215475024485798|0.14527173640515173| 1.384726843461459|  0|\n",
       "|   8586| 19839532017|          1|1.0106382978723405|0.10286597386359325|1.2678032325313238|  0|\n",
       "|   6238| 73256306726|          1| 1.029126213592233|0.16822310100410454|1.4496839661024943|  0|\n",
       "|  23445| 73256306726|          1| 1.029126213592233|0.16822310100410454|1.4496839661024943|  0|\n",
       "|  16587| 38700038932|          1|1.0318613750698715| 0.1756800491057901|1.4710614978343468|  0|\n",
       "|  18938| 38700038932|          1|1.0318613750698715| 0.1756800491057901|1.4710614978343468|  0|\n",
       "|  16678| 24406529929|          1|1.0215475024485798|0.14527173640515173| 1.384726843461459|  0|\n",
       "|  17906| 83412691377|          2|1.0780834072759538|0.28020806960531564| 1.778603581289243|  1|\n",
       "|   3375| 83412691377|          2|1.0780834072759538|0.28020806960531564| 1.778603581289243|  1|\n",
       "|  14915| 83412691377|          1|1.0780834072759538|0.28020806960531564| 1.778603581289243|  0|\n",
       "|   3363| 24406529929|          1|1.0215475024485798|0.14527173640515173| 1.384726843461459|  0|\n",
       "|  12960| 73841664453|          1|1.0077220077220077|0.08770448939204492|  1.22698323120212|  0|\n",
       "|  12090| 83412691377|          1|1.0780834072759538|0.28020806960531564| 1.778603581289243|  0|\n",
       "+-------+------------+-----------+------------------+-------------------+------------------+---+\n",
       "only showing top 20 rows"
      ]
     },
     "execution_count": 38,
     "metadata": {},
     "output_type": "execute_result"
    }
   ],
   "source": [
    "vip = join_data.withColumn(\"VIP\", \\\n",
    "   when((join_data.count_order > join_data.vip_standard), lit(1)) \\\n",
    "     .otherwise(lit(0)) \\\n",
    "  )\n",
    "vip"
   ]
  },
  {
   "cell_type": "markdown",
   "id": "f923be04",
   "metadata": {},
   "source": [
    "Using join_data, if 'count_user_id'(how many times one visited) > vip_standard(standard to become possible VIP), write 1.\n",
    "\n",
    "Otherwise, 0."
   ]
  },
  {
   "cell_type": "markdown",
   "id": "a3945f6e",
   "metadata": {},
   "source": [
    "### How many vips are in each merchant?\n",
    "### What is the percentage of the vips in each merchant?"
   ]
  },
  {
   "cell_type": "code",
   "execution_count": 39,
   "id": "a68fcf1b",
   "metadata": {},
   "outputs": [
    {
     "data": {
      "text/html": [
       "<table border='1'>\n",
       "<tr><th>merchant_abn</th><th>sum_vip</th><th>percentage_vip</th></tr>\n",
       "<tr><td>20985347699</td><td>723</td><td>6.11985779583545</td></tr>\n",
       "<tr><td>89726005175</td><td>708</td><td>3.265833294893676</td></tr>\n",
       "<tr><td>72472909171</td><td>597</td><td>3.734751329371286</td></tr>\n",
       "<tr><td>43186523025</td><td>574</td><td>2.6997789379615256</td></tr>\n",
       "<tr><td>37459245212</td><td>573</td><td>10.758542996620353</td></tr>\n",
       "<tr><td>86662713230</td><td>567</td><td>11.185638192937462</td></tr>\n",
       "<tr><td>14430838529</td><td>555</td><td>11.0381861575179</td></tr>\n",
       "<tr><td>79417999332</td><td>552</td><td>3.5298631538559917</td></tr>\n",
       "<tr><td>39649557865</td><td>550</td><td>10.880316518298715</td></tr>\n",
       "<tr><td>64203420245</td><td>546</td><td>2.4136863975951552</td></tr>\n",
       "<tr><td>30122382323</td><td>523</td><td>10.688739014919273</td></tr>\n",
       "<tr><td>41974958954</td><td>521</td><td>10.870018777383684</td></tr>\n",
       "<tr><td>94493496784</td><td>519</td><td>3.310582381833259</td></tr>\n",
       "<tr><td>98973094975</td><td>514</td><td>4.872037914691943</td></tr>\n",
       "<tr><td>47086412084</td><td>513</td><td>4.860255802936997</td></tr>\n",
       "<tr><td>32560075533</td><td>509</td><td>10.704521556256571</td></tr>\n",
       "<tr><td>11237511112</td><td>501</td><td>10.41796631316282</td></tr>\n",
       "<tr><td>66079287213</td><td>500</td><td>10.49317943336831</td></tr>\n",
       "<tr><td>80324045558</td><td>496</td><td>2.345930095066925</td></tr>\n",
       "<tr><td>78760357380</td><td>486</td><td>10.572112247117685</td></tr>\n",
       "</table>\n",
       "only showing top 20 rows\n"
      ],
      "text/plain": [
       "+------------+-------+------------------+\n",
       "|merchant_abn|sum_vip|    percentage_vip|\n",
       "+------------+-------+------------------+\n",
       "| 20985347699|    723|  6.11985779583545|\n",
       "| 89726005175|    708| 3.265833294893676|\n",
       "| 72472909171|    597| 3.734751329371286|\n",
       "| 43186523025|    574|2.6997789379615256|\n",
       "| 37459245212|    573|10.758542996620353|\n",
       "| 86662713230|    567|11.185638192937462|\n",
       "| 14430838529|    555|  11.0381861575179|\n",
       "| 79417999332|    552|3.5298631538559917|\n",
       "| 39649557865|    550|10.880316518298715|\n",
       "| 64203420245|    546|2.4136863975951552|\n",
       "| 30122382323|    523|10.688739014919273|\n",
       "| 41974958954|    521|10.870018777383684|\n",
       "| 94493496784|    519| 3.310582381833259|\n",
       "| 98973094975|    514| 4.872037914691943|\n",
       "| 47086412084|    513| 4.860255802936997|\n",
       "| 32560075533|    509|10.704521556256571|\n",
       "| 11237511112|    501| 10.41796631316282|\n",
       "| 66079287213|    500| 10.49317943336831|\n",
       "| 80324045558|    496| 2.345930095066925|\n",
       "| 78760357380|    486|10.572112247117685|\n",
       "+------------+-------+------------------+\n",
       "only showing top 20 rows"
      ]
     },
     "execution_count": 39,
     "metadata": {},
     "output_type": "execute_result"
    }
   ],
   "source": [
    "vip.createOrReplaceTempView(\"vip\")\n",
    "\n",
    "\n",
    "vip_count = spark.sql(\n",
    "    \"\"\"\n",
    "    Select   merchant_abn,\n",
    "    sum(VIP) as sum_vip,\n",
    "    avg(VIP) * 100 as percentage_vip \n",
    "\n",
    "    from vip\n",
    "    group by merchant_abn \n",
    "    order by  sum_vip desc, percentage_vip desc\n",
    "    \"\"\")\n",
    "vip_count"
   ]
  },
  {
   "cell_type": "code",
   "execution_count": 40,
   "id": "597cb4f8",
   "metadata": {},
   "outputs": [],
   "source": [
    "vip_count = vip_count.toPandas()"
   ]
  },
  {
   "cell_type": "code",
   "execution_count": 41,
   "id": "4e17313c",
   "metadata": {},
   "outputs": [],
   "source": [
    "vip_count.to_csv(\"../curated/vip_count.csv\")"
   ]
  },
  {
   "cell_type": "markdown",
   "id": "f3672fe5",
   "metadata": {},
   "source": [
    "Using vip dataset, I showed the number of vip customers and the percentage of vip customers compared to all the number of visited customers in each merchant."
   ]
  },
  {
   "cell_type": "markdown",
   "id": "64dbc880",
   "metadata": {},
   "source": [
    "### Alternative VIP metric - Find number of customers who spent more than x amount for each merchant"
   ]
  },
  {
   "cell_type": "code",
   "execution_count": 45,
   "id": "42d3cd4a",
   "metadata": {},
   "outputs": [],
   "source": [
    "tot_spend_per_cust = customer_trans_count.select('sum(dollar_value)').toPandas()"
   ]
  },
  {
   "cell_type": "code",
   "execution_count": 52,
   "id": "416421ed",
   "metadata": {},
   "outputs": [],
   "source": [
    "tot_spend_per_cust['log(dollar_value)'] = np.log(tot_spend_per_cust['sum(dollar_value)'])"
   ]
  },
  {
   "cell_type": "code",
   "execution_count": 55,
   "id": "11c884ac",
   "metadata": {},
   "outputs": [
    {
     "data": {
      "text/plain": [
       "207.9946248641335"
      ]
     },
     "execution_count": 55,
     "metadata": {},
     "output_type": "execute_result"
    }
   ],
   "source": [
    "tot_spend_per_cust['sum(dollar_value)'].mean()"
   ]
  },
  {
   "cell_type": "code",
   "execution_count": 59,
   "id": "d11ef8e3",
   "metadata": {},
   "outputs": [
    {
     "data": {
      "text/plain": [
       "337413.9699932315"
      ]
     },
     "execution_count": 59,
     "metadata": {},
     "output_type": "execute_result"
    }
   ],
   "source": [
    "(tot_spend_per_cust['sum(dollar_value)'].std())**2"
   ]
  },
  {
   "cell_type": "markdown",
   "id": "ad446c79",
   "metadata": {},
   "source": [
    "Mean $\\neq$ variance so Poisson definitely does not fit here."
   ]
  },
  {
   "cell_type": "code",
   "execution_count": 68,
   "id": "94c11bbc",
   "metadata": {},
   "outputs": [
    {
     "data": {
      "text/plain": [
       "(array([2.911333e+06, 9.390000e+02, 2.330000e+02, 5.700000e+01,\n",
       "        1.500000e+01, 4.000000e+00, 1.000000e+00, 1.000000e+00,\n",
       "        0.000000e+00, 1.000000e+00]),\n",
       " array([9.75665810e-08, 1.05193886e+04, 2.10387772e+04, 3.15581657e+04,\n",
       "        4.20775543e+04, 5.25969429e+04, 6.31163315e+04, 7.36357201e+04,\n",
       "        8.41551086e+04, 9.46744972e+04, 1.05193886e+05]),\n",
       " <BarContainer object of 10 artists>)"
      ]
     },
     "execution_count": 68,
     "metadata": {},
     "output_type": "execute_result"
    },
    {
     "data": {
      "image/png": "[encoded data removed]",
      "text/plain": [
       "<Figure size 432x288 with 1 Axes>"
      ]
     },
     "metadata": {
      "needs_background": "light"
     },
     "output_type": "display_data"
    }
   ],
   "source": [
    "plt.hist(tot_spend_per_cust['sum(dollar_value)'])"
   ]
  },
  {
   "cell_type": "markdown",
   "id": "49355386",
   "metadata": {},
   "source": [
    "way too skewed. Need to check by sorting descending order."
   ]
  },
  {
   "cell_type": "code",
   "execution_count": 69,
   "id": "124e0b0f",
   "metadata": {},
   "outputs": [
    {
     "data": {
      "text/html": [
       "<div>\n",
       "<style scoped>\n",
       "    .dataframe tbody tr th:only-of-type {\n",
       "        vertical-align: middle;\n",
       "    }\n",
       "\n",
       "    .dataframe tbody tr th {\n",
       "        vertical-align: top;\n",
       "    }\n",
       "\n",
       "    .dataframe thead th {\n",
       "        text-align: right;\n",
       "    }\n",
       "</style>\n",
       "<table border=\"1\" class=\"dataframe\">\n",
       "  <thead>\n",
       "    <tr style=\"text-align: right;\">\n",
       "      <th></th>\n",
       "      <th>sum(dollar_value)</th>\n",
       "      <th>log(dollar_value)</th>\n",
       "    </tr>\n",
       "  </thead>\n",
       "  <tbody>\n",
       "    <tr>\n",
       "      <th>374967</th>\n",
       "      <td>1.051939e+05</td>\n",
       "      <td>11.563560</td>\n",
       "    </tr>\n",
       "    <tr>\n",
       "      <th>227616</th>\n",
       "      <td>7.713421e+04</td>\n",
       "      <td>11.253302</td>\n",
       "    </tr>\n",
       "    <tr>\n",
       "      <th>2287703</th>\n",
       "      <td>6.566003e+04</td>\n",
       "      <td>11.092246</td>\n",
       "    </tr>\n",
       "    <tr>\n",
       "      <th>1966991</th>\n",
       "      <td>5.922393e+04</td>\n",
       "      <td>10.989081</td>\n",
       "    </tr>\n",
       "    <tr>\n",
       "      <th>2383527</th>\n",
       "      <td>5.817653e+04</td>\n",
       "      <td>10.971237</td>\n",
       "    </tr>\n",
       "    <tr>\n",
       "      <th>...</th>\n",
       "      <td>...</td>\n",
       "      <td>...</td>\n",
       "    </tr>\n",
       "    <tr>\n",
       "      <th>226738</th>\n",
       "      <td>2.350175e-04</td>\n",
       "      <td>-8.355850</td>\n",
       "    </tr>\n",
       "    <tr>\n",
       "      <th>117845</th>\n",
       "      <td>1.731625e-04</td>\n",
       "      <td>-8.661280</td>\n",
       "    </tr>\n",
       "    <tr>\n",
       "      <th>133142</th>\n",
       "      <td>1.153147e-04</td>\n",
       "      <td>-9.067846</td>\n",
       "    </tr>\n",
       "    <tr>\n",
       "      <th>426619</th>\n",
       "      <td>5.364306e-05</td>\n",
       "      <td>-9.833159</td>\n",
       "    </tr>\n",
       "    <tr>\n",
       "      <th>2432075</th>\n",
       "      <td>9.756658e-08</td>\n",
       "      <td>-16.142731</td>\n",
       "    </tr>\n",
       "  </tbody>\n",
       "</table>\n",
       "<p>2912584 rows × 2 columns</p>\n",
       "</div>"
      ],
      "text/plain": [
       "         sum(dollar_value)  log(dollar_value)\n",
       "374967        1.051939e+05          11.563560\n",
       "227616        7.713421e+04          11.253302\n",
       "2287703       6.566003e+04          11.092246\n",
       "1966991       5.922393e+04          10.989081\n",
       "2383527       5.817653e+04          10.971237\n",
       "...                    ...                ...\n",
       "226738        2.350175e-04          -8.355850\n",
       "117845        1.731625e-04          -8.661280\n",
       "133142        1.153147e-04          -9.067846\n",
       "426619        5.364306e-05          -9.833159\n",
       "2432075       9.756658e-08         -16.142731\n",
       "\n",
       "[2912584 rows x 2 columns]"
      ]
     },
     "execution_count": 69,
     "metadata": {},
     "output_type": "execute_result"
    }
   ],
   "source": [
    "tot_spend_per_cust.sort_values('sum(dollar_value)', ascending=False)"
   ]
  },
  {
   "cell_type": "markdown",
   "id": "fd1b7101",
   "metadata": {},
   "source": [
    "<div class=\"alert alert-block alert-danger\">Turned out the dataset used is is uncleaned ones, so the analysis might not be correct. Moving analysis to a new notebook. </div>"
   ]
  },
  {
   "cell_type": "markdown",
   "id": "c3cf6c4c",
   "metadata": {},
   "source": [
    "# In Progress - merge with income dataset"
   ]
  },
  {
   "cell_type": "code",
   "execution_count": 42,
   "id": "114440a4",
   "metadata": {},
   "outputs": [
    {
     "data": {
      "text/html": [
       "<table border='1'>\n",
       "<tr><th>consumer_id</th><th>mean_age</th><th>mean_tot_prsnl_inc_weekly</th><th>user_id</th><th>merchant_abn</th></tr>\n",
       "<tr><td>511685</td><td>47.0</td><td>490.0</td><td>7</td><td>90543168331</td></tr>\n",
       "<tr><td>738803</td><td>49.0</td><td>718.0</td><td>22</td><td>89726005175</td></tr>\n",
       "<tr><td>1421465</td><td>51.0</td><td>572.0</td><td>26</td><td>94493496784</td></tr>\n",
       "<tr><td>1036773</td><td>48.75</td><td>636.25</td><td>1640</td><td>64203420245</td></tr>\n",
       "<tr><td>567823</td><td>null</td><td>null</td><td>1782</td><td>45629217853</td></tr>\n",
       "<tr><td>846132</td><td>41.0</td><td>775.0</td><td>9852</td><td>24852446429</td></tr>\n",
       "<tr><td>355159</td><td>33.0</td><td>862.0</td><td>21223</td><td>49891706470</td></tr>\n",
       "<tr><td>717325</td><td>36.5</td><td>630.25</td><td>21272</td><td>86578477987</td></tr>\n",
       "<tr><td>1242900</td><td>43.0</td><td>672.5</td><td>5517</td><td>30122382323</td></tr>\n",
       "<tr><td>1242900</td><td>43.0</td><td>672.5</td><td>5517</td><td>31940875883</td></tr>\n",
       "<tr><td>1242900</td><td>43.0</td><td>672.5</td><td>5517</td><td>94493496784</td></tr>\n",
       "<tr><td>782012</td><td>36.0</td><td>940.0</td><td>13856</td><td>24852446429</td></tr>\n",
       "<tr><td>1470379</td><td>35.0</td><td>845.5</td><td>18011</td><td>24852446429</td></tr>\n",
       "<tr><td>407340</td><td>32.0</td><td>946.0</td><td>6</td><td>31637210281</td></tr>\n",
       "<tr><td>407340</td><td>32.0</td><td>946.0</td><td>6</td><td>72472909171</td></tr>\n",
       "<tr><td>1486986</td><td>43.0</td><td>903.0</td><td>9928</td><td>64203420245</td></tr>\n",
       "<tr><td>143981</td><td>43.0</td><td>796.0</td><td>16270</td><td>24852446429</td></tr>\n",
       "<tr><td>410186</td><td>40.5</td><td>805.5</td><td>19036</td><td>24852446429</td></tr>\n",
       "<tr><td>650435</td><td>46.0</td><td>654.0</td><td>9</td><td>21439773999</td></tr>\n",
       "<tr><td>1331093</td><td>54.0</td><td>643.0</td><td>17</td><td>24852446429</td></tr>\n",
       "</table>\n",
       "only showing top 20 rows\n"
      ],
      "text/plain": [
       "+-----------+--------+-------------------------+-------+------------+\n",
       "|consumer_id|mean_age|mean_tot_prsnl_inc_weekly|user_id|merchant_abn|\n",
       "+-----------+--------+-------------------------+-------+------------+\n",
       "|     511685|    47.0|                    490.0|      7| 90543168331|\n",
       "|     738803|    49.0|                    718.0|     22| 89726005175|\n",
       "|    1421465|    51.0|                    572.0|     26| 94493496784|\n",
       "|    1036773|   48.75|                   636.25|   1640| 64203420245|\n",
       "|     567823|    null|                     null|   1782| 45629217853|\n",
       "|     846132|    41.0|                    775.0|   9852| 24852446429|\n",
       "|     355159|    33.0|                    862.0|  21223| 49891706470|\n",
       "|     717325|    36.5|                   630.25|  21272| 86578477987|\n",
       "|    1242900|    43.0|                    672.5|   5517| 30122382323|\n",
       "|    1242900|    43.0|                    672.5|   5517| 31940875883|\n",
       "|    1242900|    43.0|                    672.5|   5517| 94493496784|\n",
       "|     782012|    36.0|                    940.0|  13856| 24852446429|\n",
       "|    1470379|    35.0|                    845.5|  18011| 24852446429|\n",
       "|     407340|    32.0|                    946.0|      6| 31637210281|\n",
       "|     407340|    32.0|                    946.0|      6| 72472909171|\n",
       "|    1486986|    43.0|                    903.0|   9928| 64203420245|\n",
       "|     143981|    43.0|                    796.0|  16270| 24852446429|\n",
       "|     410186|    40.5|                    805.5|  19036| 24852446429|\n",
       "|     650435|    46.0|                    654.0|      9| 21439773999|\n",
       "|    1331093|    54.0|                    643.0|     17| 24852446429|\n",
       "+-----------+--------+-------------------------+-------+------------+\n",
       "only showing top 20 rows"
      ]
     },
     "execution_count": 42,
     "metadata": {},
     "output_type": "execute_result"
    }
   ],
   "source": [
    "user_detail_income.createOrReplaceTempView(\"user_detail_income\") \n",
    "customer_transaction_count.createOrReplaceTempView(\"customer_transaction_count\")\n",
    "\n",
    "user_detail_income_merchant = spark.sql(\n",
    "    \"\"\"\n",
    "    Select a.*, b.merchant_abn\n",
    "\n",
    "    from user_detail_income as a right join customer_transaction_count as b\n",
    "    on  a.user_id = b.user_id \n",
    "    \"\"\")\n",
    "\n",
    "user_detail_income_merchant"
   ]
  },
  {
   "cell_type": "code",
   "execution_count": 43,
   "id": "e804ae3c",
   "metadata": {},
   "outputs": [
    {
     "data": {
      "text/html": [
       "<table border='1'>\n",
       "<tr><th>merchant_abn</th><th>mean_customer_inc_weekly</th><th>std_customer_inc_weekly</th></tr>\n",
       "<tr><td>38700038932</td><td>796.6748411331818</td><td>227.68765173631013</td></tr>\n",
       "<tr><td>83412691377</td><td>861.9971800208293</td><td>2389.3626201637076</td></tr>\n",
       "<tr><td>73256306726</td><td>810.0606773561418</td><td>219.64286554809624</td></tr>\n",
       "<tr><td>24406529929</td><td>799.099053109456</td><td>227.24310631029138</td></tr>\n",
       "<tr><td>35344855546</td><td>794.3024451792552</td><td>213.5763669300188</td></tr>\n",
       "<tr><td>19839532017</td><td>1380.199381412725</td><td>7184.5666090689765</td></tr>\n",
       "<tr><td>73841664453</td><td>784.7087688294201</td><td>221.6568946570267</td></tr>\n",
       "<tr><td>15613631617</td><td>805.9568355836848</td><td>214.10612016484242</td></tr>\n",
       "<tr><td>60654402457</td><td>2904.4457364341088</td><td>13989.429224668596</td></tr>\n",
       "<tr><td>92202115241</td><td>784.6686274509805</td><td>187.51042654577603</td></tr>\n",
       "<tr><td>52763133264</td><td>829.7135714285715</td><td>261.1412879175794</td></tr>\n",
       "<tr><td>34440496342</td><td>801.7198333333332</td><td>257.10270653743004</td></tr>\n",
       "<tr><td>48214071373</td><td>771.6331632653062</td><td>210.26707395404725</td></tr>\n",
       "<tr><td>41956465747</td><td>2292.631989247312</td><td>11646.146090800696</td></tr>\n",
       "<tr><td>38986645707</td><td>940.0</td><td>462.79585132107655</td></tr>\n",
       "<tr><td>56395390867</td><td>830.5</td><td>202.1887731799172</td></tr>\n",
       "<tr><td>12516851436</td><td>775.2993551587301</td><td>167.08591705319603</td></tr>\n",
       "<tr><td>57798993346</td><td>1108.8333333333333</td><td>230.81179201534167</td></tr>\n",
       "<tr><td>96946925998</td><td>746.2857142857143</td><td>179.77102616589667</td></tr>\n",
       "<tr><td>29216160692</td><td>890.8397237587619</td><td>2911.74803239729</td></tr>\n",
       "</table>\n",
       "only showing top 20 rows\n"
      ],
      "text/plain": [
       "+------------+------------------------+-----------------------+\n",
       "|merchant_abn|mean_customer_inc_weekly|std_customer_inc_weekly|\n",
       "+------------+------------------------+-----------------------+\n",
       "| 38700038932|       796.6748411331818|     227.68765173631013|\n",
       "| 83412691377|       861.9971800208293|     2389.3626201637076|\n",
       "| 73256306726|       810.0606773561418|     219.64286554809624|\n",
       "| 24406529929|        799.099053109456|     227.24310631029138|\n",
       "| 35344855546|       794.3024451792552|      213.5763669300188|\n",
       "| 19839532017|       1380.199381412725|     7184.5666090689765|\n",
       "| 73841664453|       784.7087688294201|      221.6568946570267|\n",
       "| 15613631617|       805.9568355836848|     214.10612016484242|\n",
       "| 60654402457|      2904.4457364341088|     13989.429224668596|\n",
       "| 92202115241|       784.6686274509805|     187.51042654577603|\n",
       "| 52763133264|       829.7135714285715|      261.1412879175794|\n",
       "| 34440496342|       801.7198333333332|     257.10270653743004|\n",
       "| 48214071373|       771.6331632653062|     210.26707395404725|\n",
       "| 41956465747|       2292.631989247312|     11646.146090800696|\n",
       "| 38986645707|                   940.0|     462.79585132107655|\n",
       "| 56395390867|                   830.5|      202.1887731799172|\n",
       "| 12516851436|       775.2993551587301|     167.08591705319603|\n",
       "| 57798993346|      1108.8333333333333|     230.81179201534167|\n",
       "| 96946925998|       746.2857142857143|     179.77102616589667|\n",
       "| 29216160692|       890.8397237587619|       2911.74803239729|\n",
       "+------------+------------------------+-----------------------+\n",
       "only showing top 20 rows"
      ]
     },
     "execution_count": 43,
     "metadata": {},
     "output_type": "execute_result"
    }
   ],
   "source": [
    "user_detail_income_merchant.createOrReplaceTempView(\"user_detail_income_merchant\")\n",
    "\n",
    "\n",
    "user_detail_income_merchant_mean = spark.sql(\n",
    "    \"\"\"\n",
    "    Select  merchant_abn,\n",
    "    avg(mean_tot_prsnl_inc_weekly) as mean_customer_inc_weekly ,\n",
    "    std(mean_tot_prsnl_inc_weekly) as std_customer_inc_weekly \n",
    "\n",
    "    from user_detail_income_merchant\n",
    "    group by merchant_abn \n",
    "    \"\"\")\n",
    "user_detail_income_merchant_mean"
   ]
  },
  {
   "cell_type": "code",
   "execution_count": 45,
   "id": "061bc718",
   "metadata": {},
   "outputs": [
    {
     "data": {
      "text/html": [
       "<table border='1'>\n",
       "<tr><th>consumer_id</th><th>mean_age</th><th>mean_tot_prsnl_inc_weekly</th><th>user_id</th><th>merchant_abn</th><th>mean_customer_inc_weekly</th><th>std_customer_inc_weekly</th><th>vip_standard_inc</th></tr>\n",
       "<tr><td>355159</td><td>33.0</td><td>862.0</td><td>21223</td><td>49891706470</td><td>825.1245865999408</td><td>1611.9196138705338</td><td>4854.923621276275</td></tr>\n",
       "<tr><td>738803</td><td>49.0</td><td>718.0</td><td>22</td><td>89726005175</td><td>821.1339349261254</td><td>1496.9190331121415</td><td>4563.431517706479</td></tr>\n",
       "<tr><td>567823</td><td>null</td><td>null</td><td>1782</td><td>45629217853</td><td>821.010150238438</td><td>1486.913477316326</td><td>4538.293843529253</td></tr>\n",
       "<tr><td>717325</td><td>36.5</td><td>630.25</td><td>21272</td><td>86578477987</td><td>824.9359953950548</td><td>1597.3929321966116</td><td>4818.418325886583</td></tr>\n",
       "<tr><td>511685</td><td>47.0</td><td>490.0</td><td>7</td><td>90543168331</td><td>822.2811525858966</td><td>1604.0780604388299</td><td>4832.476303682972</td></tr>\n",
       "<tr><td>1036773</td><td>48.75</td><td>636.25</td><td>1640</td><td>64203420245</td><td>820.2745744128619</td><td>1466.9804502931156</td><td>4487.725700145651</td></tr>\n",
       "<tr><td>1421465</td><td>51.0</td><td>572.0</td><td>26</td><td>94493496784</td><td>811.7238604854531</td><td>1124.0147502802868</td><td>3621.76073618617</td></tr>\n",
       "<tr><td>846132</td><td>41.0</td><td>775.0</td><td>9852</td><td>24852446429</td><td>820.7515093668708</td><td>1455.9374735925157</td><td>4460.59519334816</td></tr>\n",
       "<tr><td>782012</td><td>36.0</td><td>940.0</td><td>13856</td><td>24852446429</td><td>820.7515093668708</td><td>1455.9374735925157</td><td>4460.59519334816</td></tr>\n",
       "<tr><td>1470379</td><td>35.0</td><td>845.5</td><td>18011</td><td>24852446429</td><td>820.7515093668708</td><td>1455.9374735925157</td><td>4460.59519334816</td></tr>\n",
       "<tr><td>1486986</td><td>43.0</td><td>903.0</td><td>9928</td><td>64203420245</td><td>820.2745744128619</td><td>1466.9804502931156</td><td>4487.725700145651</td></tr>\n",
       "<tr><td>407340</td><td>32.0</td><td>946.0</td><td>6</td><td>72472909171</td><td>823.2544825523196</td><td>1558.3831089574785</td><td>4719.212254946016</td></tr>\n",
       "<tr><td>407340</td><td>32.0</td><td>946.0</td><td>6</td><td>31637210281</td><td>827.6333954588629</td><td>1762.3947871659932</td><td>5233.620363373846</td></tr>\n",
       "<tr><td>143981</td><td>43.0</td><td>796.0</td><td>16270</td><td>24852446429</td><td>820.7515093668708</td><td>1455.9374735925157</td><td>4460.59519334816</td></tr>\n",
       "<tr><td>410186</td><td>40.5</td><td>805.5</td><td>19036</td><td>24852446429</td><td>820.7515093668708</td><td>1455.9374735925157</td><td>4460.59519334816</td></tr>\n",
       "<tr><td>1471796</td><td>44.0</td><td>812.6666666666666</td><td>27</td><td>29521780474</td><td>844.1575312972108</td><td>1997.77780266483</td><td>5838.602037959286</td></tr>\n",
       "<tr><td>1331093</td><td>54.0</td><td>643.0</td><td>17</td><td>24852446429</td><td>820.7515093668708</td><td>1455.9374735925157</td><td>4460.59519334816</td></tr>\n",
       "<tr><td>650435</td><td>46.0</td><td>654.0</td><td>9</td><td>21439773999</td><td>827.4303607671516</td><td>1665.2755553633774</td><td>4990.6192491755955</td></tr>\n",
       "<tr><td>1161896</td><td>58.0</td><td>526.0</td><td>16172</td><td>89932674734</td><td>825.7903732151553</td><td>1539.9136480201573</td><td>4675.574493265549</td></tr>\n",
       "<tr><td>1058499</td><td>40.0</td><td>922.0</td><td>10</td><td>62694031334</td><td>829.3791222419694</td><td>1724.036851888198</td><td>5139.4712519624645</td></tr>\n",
       "</table>\n",
       "only showing top 20 rows\n"
      ],
      "text/plain": [
       "+-----------+--------+-------------------------+-------+------------+------------------------+-----------------------+------------------+\n",
       "|consumer_id|mean_age|mean_tot_prsnl_inc_weekly|user_id|merchant_abn|mean_customer_inc_weekly|std_customer_inc_weekly|  vip_standard_inc|\n",
       "+-----------+--------+-------------------------+-------+------------+------------------------+-----------------------+------------------+\n",
       "|     355159|    33.0|                    862.0|  21223| 49891706470|       825.1245865999408|     1611.9196138705338| 4854.923621276275|\n",
       "|     738803|    49.0|                    718.0|     22| 89726005175|       821.1339349261254|     1496.9190331121415| 4563.431517706479|\n",
       "|     567823|    null|                     null|   1782| 45629217853|        821.010150238438|      1486.913477316326| 4538.293843529253|\n",
       "|     717325|    36.5|                   630.25|  21272| 86578477987|       824.9359953950548|     1597.3929321966116| 4818.418325886583|\n",
       "|     511685|    47.0|                    490.0|      7| 90543168331|       822.2811525858966|     1604.0780604388299| 4832.476303682972|\n",
       "|    1036773|   48.75|                   636.25|   1640| 64203420245|       820.2745744128619|     1466.9804502931156| 4487.725700145651|\n",
       "|    1421465|    51.0|                    572.0|     26| 94493496784|       811.7238604854531|     1124.0147502802868|  3621.76073618617|\n",
       "|     846132|    41.0|                    775.0|   9852| 24852446429|       820.7515093668708|     1455.9374735925157|  4460.59519334816|\n",
       "|     782012|    36.0|                    940.0|  13856| 24852446429|       820.7515093668708|     1455.9374735925157|  4460.59519334816|\n",
       "|    1470379|    35.0|                    845.5|  18011| 24852446429|       820.7515093668708|     1455.9374735925157|  4460.59519334816|\n",
       "|    1486986|    43.0|                    903.0|   9928| 64203420245|       820.2745744128619|     1466.9804502931156| 4487.725700145651|\n",
       "|     407340|    32.0|                    946.0|      6| 72472909171|       823.2544825523196|     1558.3831089574785| 4719.212254946016|\n",
       "|     407340|    32.0|                    946.0|      6| 31637210281|       827.6333954588629|     1762.3947871659932| 5233.620363373846|\n",
       "|     143981|    43.0|                    796.0|  16270| 24852446429|       820.7515093668708|     1455.9374735925157|  4460.59519334816|\n",
       "|     410186|    40.5|                    805.5|  19036| 24852446429|       820.7515093668708|     1455.9374735925157|  4460.59519334816|\n",
       "|    1471796|    44.0|        812.6666666666666|     27| 29521780474|       844.1575312972108|       1997.77780266483| 5838.602037959286|\n",
       "|    1331093|    54.0|                    643.0|     17| 24852446429|       820.7515093668708|     1455.9374735925157|  4460.59519334816|\n",
       "|     650435|    46.0|                    654.0|      9| 21439773999|       827.4303607671516|     1665.2755553633774|4990.6192491755955|\n",
       "|    1161896|    58.0|                    526.0|  16172| 89932674734|       825.7903732151553|     1539.9136480201573| 4675.574493265549|\n",
       "|    1058499|    40.0|                    922.0|     10| 62694031334|       829.3791222419694|      1724.036851888198|5139.4712519624645|\n",
       "+-----------+--------+-------------------------+-------+------------+------------------------+-----------------------+------------------+\n",
       "only showing top 20 rows"
      ]
     },
     "execution_count": 45,
     "metadata": {},
     "output_type": "execute_result"
    }
   ],
   "source": [
    "user_detail_income_merchant_mean.createOrReplaceTempView(\"user_detail_income_merchant_mean\")\n",
    "\n",
    "join_data_income = spark.sql(\n",
    "    \"\"\"\n",
    "    Select a.*, b.mean_customer_inc_weekly, b.std_customer_inc_weekly,\n",
    "    b.mean_customer_inc_weekly + 2.5* b.std_customer_inc_weekly as vip_standard_inc\n",
    "\n",
    "    from user_detail_income_merchant as a left join user_detail_income_merchant_mean as b\n",
    "    on a.merchant_abn = b.merchant_abn \n",
    "    \"\"\")\n",
    "join_data_income"
   ]
  },
  {
   "cell_type": "code",
   "execution_count": null,
   "id": "3750faea",
   "metadata": {},
   "outputs": [],
   "source": []
  }
 ],
 "metadata": {
  "kernelspec": {
   "display_name": "Python 3",
   "language": "python",
   "name": "python3"
  },
  "language_info": {
   "codemirror_mode": {
    "name": "ipython",
    "version": 3
   },
   "file_extension": ".py",
   "mimetype": "text/x-python",
   "name": "python",
   "nbconvert_exporter": "python",
   "pygments_lexer": "ipython3",
   "version": "3.7.4"
  }
 },
 "nbformat": 4,
 "nbformat_minor": 5
}
