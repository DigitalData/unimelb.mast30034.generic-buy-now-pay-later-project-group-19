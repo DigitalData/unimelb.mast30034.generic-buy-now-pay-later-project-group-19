{
 "cells": [
  {
   "cell_type": "markdown",
   "metadata": {},
   "source": [
    "We will be analyzing the number of regions each merchant sells to, in order to generate our metric for ranking system\n"
   ]
  },
  {
   "cell_type": "code",
   "execution_count": 1,
   "metadata": {},
   "outputs": [
    {
     "name": "stderr",
     "output_type": "stream",
     "text": [
      "/usr/lib/python3/dist-packages/requests/__init__.py:89: RequestsDependencyWarning: urllib3 (1.26.12) or chardet (3.0.4) doesn't match a supported version!\n",
      "  warnings.warn(\"urllib3 ({}) or chardet ({}) doesn't match a supported \"\n"
     ]
    },
    {
     "name": "stdout",
     "output_type": "stream",
     "text": [
      "22/09/19 15:53:50 WARN Utils: Your hostname, DESKTOP-IK201ES resolves to a loopback address: 127.0.1.1; using 172.29.74.252 instead (on interface eth0)\n",
      "22/09/19 15:53:50 WARN Utils: Set SPARK_LOCAL_IP if you need to bind to another address\n"
     ]
    },
    {
     "name": "stderr",
     "output_type": "stream",
     "text": [
      "Setting default log level to \"WARN\".\n",
      "To adjust logging level use sc.setLogLevel(newLevel). For SparkR, use setLogLevel(newLevel).\n"
     ]
    },
    {
     "name": "stdout",
     "output_type": "stream",
     "text": [
      "22/09/19 15:53:52 WARN NativeCodeLoader: Unable to load native-hadoop library for your platform... using builtin-java classes where applicable\n",
      "22/09/19 15:53:53 WARN Utils: Service 'SparkUI' could not bind on port 4040. Attempting port 4041.\n",
      "Welcome to\n",
      "      ____              __\n",
      "     / __/__  ___ _____/ /__\n",
      "    _\\ \\/ _ \\/ _ `/ __/  '_/\n",
      "   /__ / .__/\\_,_/_/ /_/\\_\\   version 3.3.0\n",
      "      /_/\n",
      "\n",
      "Using Python version 3.8.10 (default, Jun 22 2022 20:18:18)\n",
      "Spark context Web UI available at http://172.29.74.252:4041\n",
      "Spark context available as 'sc' (master = local[*], app id = local-1663566833311).\n",
      "SparkSession available as 'spark'.\n",
      "22/09/19 15:53:55 WARN SparkSession: Using an existing Spark session; only runtime SQL configurations will take effect.\n"
     ]
    }
   ],
   "source": [
    "import pandas as pd\n",
    "import numpy as np\n",
    "import io\n",
    "import requests\n",
    "import os\n",
    "\n",
    "# Set working directory\n",
    "if not \"/data/tables\" in os.getcwd():\n",
    "    os.chdir(\"../data/tables\")\n",
    "\n",
    "from pyspark.sql import SparkSession\n",
    "from pyspark.shell import spark\n",
    "from pyspark.sql import SQLContext\n",
    "import pyspark.sql.functions as F\n",
    "import matplotlib.pyplot as plt\n",
    "from pyspark.sql.types import IntegerType\n",
    "from pyspark.sql.functions import countDistinct\n",
    "\n",
    "%matplotlib inline\n",
    "\n",
    "    \n",
    "spark = (\n",
    "    SparkSession.builder.appName(\"MAST30034 Project 2\")\n",
    "    .config(\"spark.sql.repl.eagerEval.enabled\", True) \n",
    "    .config(\"spark.sql.parquet.cacheMetadata\", \"true\")\n",
    "    .config(\"spark.sql.session.timeZone\", \"Etc/UTC\")\n",
    "    .config(\"spark.driver.memory\", \"4g\")\n",
    "    .config(\"spark.sql.broadcastTimeout\", -1)\n",
    "    .getOrCreate()\n",
    ")"
   ]
  },
  {
   "cell_type": "code",
   "execution_count": 2,
   "metadata": {},
   "outputs": [
    {
     "name": "stderr",
     "output_type": "stream",
     "text": [
      "                                                                                \r"
     ]
    }
   ],
   "source": [
    "consumer = spark.read.option(\"delimiter\", \"|\").csv('tbl_consumer.csv', header = True)\n",
    "user_detail = spark.read.parquet(\"consumer_user_details.parquet\")\n",
    "transaction = spark.read.parquet(\"transactions_20210828_20220227_snapshot/\")"
   ]
  },
  {
   "cell_type": "code",
   "execution_count": 3,
   "metadata": {},
   "outputs": [],
   "source": [
    "def read_url_data(url, data_format='csv'):\n",
    "    \n",
    "    content = requests.get(url).content\n",
    "    \n",
    "    if data_format == 'xlsx':\n",
    "        return pd.read_excel(content)\n",
    "        \n",
    "    else:\n",
    "        return pd.read_csv(io.StringIO(content.decode('utf-8')))\n",
    "\n",
    "\n"
   ]
  },
  {
   "cell_type": "code",
   "execution_count": 4,
   "metadata": {},
   "outputs": [],
   "source": [
    "sa2_data = read_url_data(\"https://www.abs.gov.au/statistics/standards/australian-statistical-geography-standard-asgs-edition-3/jul2021-jun2026/access-and-downloads/allocation-files/SA2_2021_AUST.xlsx\", 'xlsx')\n",
    "postcode_database = read_url_data(\"https://www.matthewproctor.com/Content/postcodes/australian_postcodes.csv\", \"csv\")\n"
   ]
  },
  {
   "cell_type": "code",
   "execution_count": 5,
   "metadata": {},
   "outputs": [],
   "source": [
    "invalid_postcodes = consumer.where(~(F.col('postcode').isin(postcode_database['postcode'].unique().tolist())))"
   ]
  },
  {
   "cell_type": "code",
   "execution_count": 6,
   "metadata": {},
   "outputs": [
    {
     "name": "stderr",
     "output_type": "stream",
     "text": [
      "                                                                                \r"
     ]
    },
    {
     "data": {
      "text/plain": [
       "0"
      ]
     },
     "execution_count": 6,
     "metadata": {},
     "output_type": "execute_result"
    }
   ],
   "source": [
    "invalid_postcodes.count()"
   ]
  },
  {
   "cell_type": "code",
   "execution_count": 7,
   "metadata": {},
   "outputs": [],
   "source": [
    "postcode_sdf = spark.createDataFrame(postcode_database[['postcode', 'SA2_MAINCODE_2016']])\n",
    "new_consumer = consumer.join(postcode_sdf,\n",
    "                             consumer.postcode == postcode_sdf.postcode,\n",
    "                             how='left')"
   ]
  },
  {
   "cell_type": "code",
   "execution_count": 8,
   "metadata": {},
   "outputs": [],
   "source": [
    "new_consumer = new_consumer.join(user_detail, \n",
    "                                 ['consumer_id'],\n",
    "                                 how = 'left')                      \n",
    "                    "
   ]
  },
  {
   "cell_type": "code",
   "execution_count": 9,
   "metadata": {},
   "outputs": [
    {
     "name": "stderr",
     "output_type": "stream",
     "text": [
      "                                                                                \r"
     ]
    },
    {
     "data": {
      "text/html": [
       "<table border='1'>\n",
       "<tr><th>consumer_id</th><th>name</th><th>address</th><th>state</th><th>postcode</th><th>gender</th><th>postcode</th><th>SA2_MAINCODE_2016</th><th>user_id</th></tr>\n",
       "<tr><td>407340</td><td>Karen Chapman</td><td>2706 Stewart Oval...</td><td>NSW</td><td>2033</td><td>Female</td><td>2033</td><td>1.18021564E8</td><td>6</td></tr>\n",
       "<tr><td>712975</td><td>Rebecca Blanchard</td><td>9271 Michael Mano...</td><td>WA</td><td>6355</td><td>Female</td><td>6355</td><td>5.09031247E8</td><td>5</td></tr>\n",
       "<tr><td>712975</td><td>Rebecca Blanchard</td><td>9271 Michael Mano...</td><td>WA</td><td>6355</td><td>Female</td><td>6355</td><td>5.09031247E8</td><td>5</td></tr>\n",
       "<tr><td>712975</td><td>Rebecca Blanchard</td><td>9271 Michael Mano...</td><td>WA</td><td>6355</td><td>Female</td><td>6355</td><td>5.09031247E8</td><td>5</td></tr>\n",
       "<tr><td>712975</td><td>Rebecca Blanchard</td><td>9271 Michael Mano...</td><td>WA</td><td>6355</td><td>Female</td><td>6355</td><td>5.09031247E8</td><td>5</td></tr>\n",
       "<tr><td>712975</td><td>Rebecca Blanchard</td><td>9271 Michael Mano...</td><td>WA</td><td>6355</td><td>Female</td><td>6355</td><td>5.09031247E8</td><td>5</td></tr>\n",
       "<tr><td>712975</td><td>Rebecca Blanchard</td><td>9271 Michael Mano...</td><td>WA</td><td>6355</td><td>Female</td><td>6355</td><td>5.09031247E8</td><td>5</td></tr>\n",
       "<tr><td>712975</td><td>Rebecca Blanchard</td><td>9271 Michael Mano...</td><td>WA</td><td>6355</td><td>Female</td><td>6355</td><td>5.09031247E8</td><td>5</td></tr>\n",
       "<tr><td>712975</td><td>Rebecca Blanchard</td><td>9271 Michael Mano...</td><td>WA</td><td>6355</td><td>Female</td><td>6355</td><td>5.09031247E8</td><td>5</td></tr>\n",
       "<tr><td>712975</td><td>Rebecca Blanchard</td><td>9271 Michael Mano...</td><td>WA</td><td>6355</td><td>Female</td><td>6355</td><td>5.09031247E8</td><td>5</td></tr>\n",
       "<tr><td>712975</td><td>Rebecca Blanchard</td><td>9271 Michael Mano...</td><td>WA</td><td>6355</td><td>Female</td><td>6355</td><td>5.09031247E8</td><td>5</td></tr>\n",
       "<tr><td>712975</td><td>Rebecca Blanchard</td><td>9271 Michael Mano...</td><td>WA</td><td>6355</td><td>Female</td><td>6355</td><td>5.09031247E8</td><td>5</td></tr>\n",
       "<tr><td>298861</td><td>Wendy Singh</td><td>903 Holder Freewa...</td><td>SA</td><td>5353</td><td>Female</td><td>5353</td><td>4.07031164E8</td><td>21</td></tr>\n",
       "<tr><td>298861</td><td>Wendy Singh</td><td>903 Holder Freewa...</td><td>SA</td><td>5353</td><td>Female</td><td>5353</td><td>4.07031164E8</td><td>21</td></tr>\n",
       "<tr><td>298861</td><td>Wendy Singh</td><td>903 Holder Freewa...</td><td>SA</td><td>5353</td><td>Female</td><td>5353</td><td>4.07031164E8</td><td>21</td></tr>\n",
       "<tr><td>298861</td><td>Wendy Singh</td><td>903 Holder Freewa...</td><td>SA</td><td>5353</td><td>Female</td><td>5353</td><td>4.07031164E8</td><td>21</td></tr>\n",
       "<tr><td>298861</td><td>Wendy Singh</td><td>903 Holder Freewa...</td><td>SA</td><td>5353</td><td>Female</td><td>5353</td><td>4.0501111E8</td><td>21</td></tr>\n",
       "<tr><td>298861</td><td>Wendy Singh</td><td>903 Holder Freewa...</td><td>SA</td><td>5353</td><td>Female</td><td>5353</td><td>4.0501111E8</td><td>21</td></tr>\n",
       "<tr><td>298861</td><td>Wendy Singh</td><td>903 Holder Freewa...</td><td>SA</td><td>5353</td><td>Female</td><td>5353</td><td>4.0501111E8</td><td>21</td></tr>\n",
       "<tr><td>298861</td><td>Wendy Singh</td><td>903 Holder Freewa...</td><td>SA</td><td>5353</td><td>Female</td><td>5353</td><td>4.07031164E8</td><td>21</td></tr>\n",
       "</table>\n",
       "only showing top 20 rows\n"
      ],
      "text/plain": [
       "+-----------+-----------------+--------------------+-----+--------+------+--------+-----------------+-------+\n",
       "|consumer_id|             name|             address|state|postcode|gender|postcode|SA2_MAINCODE_2016|user_id|\n",
       "+-----------+-----------------+--------------------+-----+--------+------+--------+-----------------+-------+\n",
       "|     407340|    Karen Chapman|2706 Stewart Oval...|  NSW|    2033|Female|    2033|     1.18021564E8|      6|\n",
       "|     712975|Rebecca Blanchard|9271 Michael Mano...|   WA|    6355|Female|    6355|     5.09031247E8|      5|\n",
       "|     712975|Rebecca Blanchard|9271 Michael Mano...|   WA|    6355|Female|    6355|     5.09031247E8|      5|\n",
       "|     712975|Rebecca Blanchard|9271 Michael Mano...|   WA|    6355|Female|    6355|     5.09031247E8|      5|\n",
       "|     712975|Rebecca Blanchard|9271 Michael Mano...|   WA|    6355|Female|    6355|     5.09031247E8|      5|\n",
       "|     712975|Rebecca Blanchard|9271 Michael Mano...|   WA|    6355|Female|    6355|     5.09031247E8|      5|\n",
       "|     712975|Rebecca Blanchard|9271 Michael Mano...|   WA|    6355|Female|    6355|     5.09031247E8|      5|\n",
       "|     712975|Rebecca Blanchard|9271 Michael Mano...|   WA|    6355|Female|    6355|     5.09031247E8|      5|\n",
       "|     712975|Rebecca Blanchard|9271 Michael Mano...|   WA|    6355|Female|    6355|     5.09031247E8|      5|\n",
       "|     712975|Rebecca Blanchard|9271 Michael Mano...|   WA|    6355|Female|    6355|     5.09031247E8|      5|\n",
       "|     712975|Rebecca Blanchard|9271 Michael Mano...|   WA|    6355|Female|    6355|     5.09031247E8|      5|\n",
       "|     712975|Rebecca Blanchard|9271 Michael Mano...|   WA|    6355|Female|    6355|     5.09031247E8|      5|\n",
       "|     298861|      Wendy Singh|903 Holder Freewa...|   SA|    5353|Female|    5353|     4.07031164E8|     21|\n",
       "|     298861|      Wendy Singh|903 Holder Freewa...|   SA|    5353|Female|    5353|     4.07031164E8|     21|\n",
       "|     298861|      Wendy Singh|903 Holder Freewa...|   SA|    5353|Female|    5353|     4.07031164E8|     21|\n",
       "|     298861|      Wendy Singh|903 Holder Freewa...|   SA|    5353|Female|    5353|     4.07031164E8|     21|\n",
       "|     298861|      Wendy Singh|903 Holder Freewa...|   SA|    5353|Female|    5353|      4.0501111E8|     21|\n",
       "|     298861|      Wendy Singh|903 Holder Freewa...|   SA|    5353|Female|    5353|      4.0501111E8|     21|\n",
       "|     298861|      Wendy Singh|903 Holder Freewa...|   SA|    5353|Female|    5353|      4.0501111E8|     21|\n",
       "|     298861|      Wendy Singh|903 Holder Freewa...|   SA|    5353|Female|    5353|     4.07031164E8|     21|\n",
       "+-----------+-----------------+--------------------+-----+--------+------+--------+-----------------+-------+\n",
       "only showing top 20 rows"
      ]
     },
     "execution_count": 9,
     "metadata": {},
     "output_type": "execute_result"
    }
   ],
   "source": [
    "new_consumer"
   ]
  },
  {
   "cell_type": "markdown",
   "metadata": {},
   "source": [
    "We will be using an external dataset that contains the weekly median total personal income as our main feature for ranking"
   ]
  },
  {
   "cell_type": "code",
   "execution_count": 10,
   "metadata": {},
   "outputs": [],
   "source": [
    "census_data = spark.read.csv(\"2021Census_G02_AUST_SA2.csv\", header = True)"
   ]
  },
  {
   "cell_type": "code",
   "execution_count": 11,
   "metadata": {},
   "outputs": [],
   "source": [
    "weekly_personal_income = census_data['SA2_CODE_2021', 'Median_tot_prsnl_inc_weekly']\n",
    "weekly_personal_income = weekly_personal_income.withColumnRenamed('SA2_CODE_2021', 'SA2_MAINCODE_2016')"
   ]
  },
  {
   "cell_type": "code",
   "execution_count": 12,
   "metadata": {},
   "outputs": [],
   "source": [
    "new_consumer = new_consumer.join(weekly_personal_income,\n",
    "                                ['SA2_MAINCODE_2016'],\n",
    "                                how = \"left\")"
   ]
  },
  {
   "cell_type": "code",
   "execution_count": 13,
   "metadata": {},
   "outputs": [
    {
     "data": {
      "text/html": [
       "<table border='1'>\n",
       "<tr><th>SA2_MAINCODE_2016</th><th>consumer_id</th><th>name</th><th>address</th><th>state</th><th>postcode</th><th>gender</th><th>postcode</th><th>user_id</th><th>Median_tot_prsnl_inc_weekly</th></tr>\n",
       "<tr><td>1.18021564E8</td><td>407340</td><td>Karen Chapman</td><td>2706 Stewart Oval...</td><td>NSW</td><td>2033</td><td>Female</td><td>2033</td><td>6</td><td>946</td></tr>\n",
       "<tr><td>5.09031247E8</td><td>712975</td><td>Rebecca Blanchard</td><td>9271 Michael Mano...</td><td>WA</td><td>6355</td><td>Female</td><td>6355</td><td>5</td><td>897</td></tr>\n",
       "<tr><td>5.09031247E8</td><td>712975</td><td>Rebecca Blanchard</td><td>9271 Michael Mano...</td><td>WA</td><td>6355</td><td>Female</td><td>6355</td><td>5</td><td>897</td></tr>\n",
       "<tr><td>5.09031247E8</td><td>712975</td><td>Rebecca Blanchard</td><td>9271 Michael Mano...</td><td>WA</td><td>6355</td><td>Female</td><td>6355</td><td>5</td><td>897</td></tr>\n",
       "<tr><td>5.09031247E8</td><td>712975</td><td>Rebecca Blanchard</td><td>9271 Michael Mano...</td><td>WA</td><td>6355</td><td>Female</td><td>6355</td><td>5</td><td>897</td></tr>\n",
       "<tr><td>5.09031247E8</td><td>712975</td><td>Rebecca Blanchard</td><td>9271 Michael Mano...</td><td>WA</td><td>6355</td><td>Female</td><td>6355</td><td>5</td><td>897</td></tr>\n",
       "<tr><td>5.09031247E8</td><td>712975</td><td>Rebecca Blanchard</td><td>9271 Michael Mano...</td><td>WA</td><td>6355</td><td>Female</td><td>6355</td><td>5</td><td>897</td></tr>\n",
       "<tr><td>5.09031247E8</td><td>712975</td><td>Rebecca Blanchard</td><td>9271 Michael Mano...</td><td>WA</td><td>6355</td><td>Female</td><td>6355</td><td>5</td><td>897</td></tr>\n",
       "<tr><td>5.09031247E8</td><td>712975</td><td>Rebecca Blanchard</td><td>9271 Michael Mano...</td><td>WA</td><td>6355</td><td>Female</td><td>6355</td><td>5</td><td>897</td></tr>\n",
       "<tr><td>5.09031247E8</td><td>712975</td><td>Rebecca Blanchard</td><td>9271 Michael Mano...</td><td>WA</td><td>6355</td><td>Female</td><td>6355</td><td>5</td><td>897</td></tr>\n",
       "<tr><td>5.09031247E8</td><td>712975</td><td>Rebecca Blanchard</td><td>9271 Michael Mano...</td><td>WA</td><td>6355</td><td>Female</td><td>6355</td><td>5</td><td>897</td></tr>\n",
       "<tr><td>5.09031247E8</td><td>712975</td><td>Rebecca Blanchard</td><td>9271 Michael Mano...</td><td>WA</td><td>6355</td><td>Female</td><td>6355</td><td>5</td><td>897</td></tr>\n",
       "<tr><td>4.07031164E8</td><td>298861</td><td>Wendy Singh</td><td>903 Holder Freewa...</td><td>SA</td><td>5353</td><td>Female</td><td>5353</td><td>21</td><td>505</td></tr>\n",
       "<tr><td>4.07031164E8</td><td>298861</td><td>Wendy Singh</td><td>903 Holder Freewa...</td><td>SA</td><td>5353</td><td>Female</td><td>5353</td><td>21</td><td>505</td></tr>\n",
       "<tr><td>4.07031164E8</td><td>298861</td><td>Wendy Singh</td><td>903 Holder Freewa...</td><td>SA</td><td>5353</td><td>Female</td><td>5353</td><td>21</td><td>505</td></tr>\n",
       "<tr><td>4.07031164E8</td><td>298861</td><td>Wendy Singh</td><td>903 Holder Freewa...</td><td>SA</td><td>5353</td><td>Female</td><td>5353</td><td>21</td><td>505</td></tr>\n",
       "<tr><td>4.0501111E8</td><td>298861</td><td>Wendy Singh</td><td>903 Holder Freewa...</td><td>SA</td><td>5353</td><td>Female</td><td>5353</td><td>21</td><td>737</td></tr>\n",
       "<tr><td>4.0501111E8</td><td>298861</td><td>Wendy Singh</td><td>903 Holder Freewa...</td><td>SA</td><td>5353</td><td>Female</td><td>5353</td><td>21</td><td>737</td></tr>\n",
       "<tr><td>4.0501111E8</td><td>298861</td><td>Wendy Singh</td><td>903 Holder Freewa...</td><td>SA</td><td>5353</td><td>Female</td><td>5353</td><td>21</td><td>737</td></tr>\n",
       "<tr><td>4.07031164E8</td><td>298861</td><td>Wendy Singh</td><td>903 Holder Freewa...</td><td>SA</td><td>5353</td><td>Female</td><td>5353</td><td>21</td><td>505</td></tr>\n",
       "</table>\n",
       "only showing top 20 rows\n"
      ],
      "text/plain": [
       "+-----------------+-----------+-----------------+--------------------+-----+--------+------+--------+-------+---------------------------+\n",
       "|SA2_MAINCODE_2016|consumer_id|             name|             address|state|postcode|gender|postcode|user_id|Median_tot_prsnl_inc_weekly|\n",
       "+-----------------+-----------+-----------------+--------------------+-----+--------+------+--------+-------+---------------------------+\n",
       "|     1.18021564E8|     407340|    Karen Chapman|2706 Stewart Oval...|  NSW|    2033|Female|    2033|      6|                        946|\n",
       "|     5.09031247E8|     712975|Rebecca Blanchard|9271 Michael Mano...|   WA|    6355|Female|    6355|      5|                        897|\n",
       "|     5.09031247E8|     712975|Rebecca Blanchard|9271 Michael Mano...|   WA|    6355|Female|    6355|      5|                        897|\n",
       "|     5.09031247E8|     712975|Rebecca Blanchard|9271 Michael Mano...|   WA|    6355|Female|    6355|      5|                        897|\n",
       "|     5.09031247E8|     712975|Rebecca Blanchard|9271 Michael Mano...|   WA|    6355|Female|    6355|      5|                        897|\n",
       "|     5.09031247E8|     712975|Rebecca Blanchard|9271 Michael Mano...|   WA|    6355|Female|    6355|      5|                        897|\n",
       "|     5.09031247E8|     712975|Rebecca Blanchard|9271 Michael Mano...|   WA|    6355|Female|    6355|      5|                        897|\n",
       "|     5.09031247E8|     712975|Rebecca Blanchard|9271 Michael Mano...|   WA|    6355|Female|    6355|      5|                        897|\n",
       "|     5.09031247E8|     712975|Rebecca Blanchard|9271 Michael Mano...|   WA|    6355|Female|    6355|      5|                        897|\n",
       "|     5.09031247E8|     712975|Rebecca Blanchard|9271 Michael Mano...|   WA|    6355|Female|    6355|      5|                        897|\n",
       "|     5.09031247E8|     712975|Rebecca Blanchard|9271 Michael Mano...|   WA|    6355|Female|    6355|      5|                        897|\n",
       "|     5.09031247E8|     712975|Rebecca Blanchard|9271 Michael Mano...|   WA|    6355|Female|    6355|      5|                        897|\n",
       "|     4.07031164E8|     298861|      Wendy Singh|903 Holder Freewa...|   SA|    5353|Female|    5353|     21|                        505|\n",
       "|     4.07031164E8|     298861|      Wendy Singh|903 Holder Freewa...|   SA|    5353|Female|    5353|     21|                        505|\n",
       "|     4.07031164E8|     298861|      Wendy Singh|903 Holder Freewa...|   SA|    5353|Female|    5353|     21|                        505|\n",
       "|     4.07031164E8|     298861|      Wendy Singh|903 Holder Freewa...|   SA|    5353|Female|    5353|     21|                        505|\n",
       "|      4.0501111E8|     298861|      Wendy Singh|903 Holder Freewa...|   SA|    5353|Female|    5353|     21|                        737|\n",
       "|      4.0501111E8|     298861|      Wendy Singh|903 Holder Freewa...|   SA|    5353|Female|    5353|     21|                        737|\n",
       "|      4.0501111E8|     298861|      Wendy Singh|903 Holder Freewa...|   SA|    5353|Female|    5353|     21|                        737|\n",
       "|     4.07031164E8|     298861|      Wendy Singh|903 Holder Freewa...|   SA|    5353|Female|    5353|     21|                        505|\n",
       "+-----------------+-----------+-----------------+--------------------+-----+--------+------+--------+-------+---------------------------+\n",
       "only showing top 20 rows"
      ]
     },
     "execution_count": 13,
     "metadata": {},
     "output_type": "execute_result"
    }
   ],
   "source": [
    "new_consumer"
   ]
  },
  {
   "cell_type": "markdown",
   "metadata": {},
   "source": [
    "### Checking if each consumer has multiple regions\n",
    "Since consumer_id(s) have multiple locations (SA2), we will be taking the average personal income, which will be done further down the notebook"
   ]
  },
  {
   "cell_type": "code",
   "execution_count": 14,
   "metadata": {},
   "outputs": [
    {
     "name": "stderr",
     "output_type": "stream",
     "text": [
      "                                                                                \r"
     ]
    },
    {
     "data": {
      "text/html": [
       "<table border='1'>\n",
       "<tr><th>consumer_id</th><th>count(SA2_MAINCODE_2016)</th></tr>\n",
       "<tr><td>752008</td><td>1</td></tr>\n",
       "<tr><td>154770</td><td>2</td></tr>\n",
       "<tr><td>1271409</td><td>1</td></tr>\n",
       "<tr><td>779268</td><td>2</td></tr>\n",
       "<tr><td>709093</td><td>1</td></tr>\n",
       "<tr><td>359432</td><td>1</td></tr>\n",
       "<tr><td>1190791</td><td>1</td></tr>\n",
       "<tr><td>452212</td><td>1</td></tr>\n",
       "<tr><td>441664</td><td>1</td></tr>\n",
       "<tr><td>1358126</td><td>1</td></tr>\n",
       "<tr><td>437561</td><td>1</td></tr>\n",
       "<tr><td>85022</td><td>4</td></tr>\n",
       "<tr><td>263514</td><td>4</td></tr>\n",
       "<tr><td>179632</td><td>1</td></tr>\n",
       "<tr><td>633232</td><td>3</td></tr>\n",
       "<tr><td>826371</td><td>1</td></tr>\n",
       "<tr><td>1447931</td><td>1</td></tr>\n",
       "<tr><td>1244099</td><td>12</td></tr>\n",
       "<tr><td>35004</td><td>4</td></tr>\n",
       "<tr><td>770598</td><td>1</td></tr>\n",
       "</table>\n",
       "only showing top 20 rows\n"
      ],
      "text/plain": [
       "+-----------+------------------------+\n",
       "|consumer_id|count(SA2_MAINCODE_2016)|\n",
       "+-----------+------------------------+\n",
       "|     752008|                       1|\n",
       "|     154770|                       2|\n",
       "|    1271409|                       1|\n",
       "|     779268|                       2|\n",
       "|     709093|                       1|\n",
       "|     359432|                       1|\n",
       "|    1190791|                       1|\n",
       "|     452212|                       1|\n",
       "|     441664|                       1|\n",
       "|    1358126|                       1|\n",
       "|     437561|                       1|\n",
       "|      85022|                       4|\n",
       "|     263514|                       4|\n",
       "|     179632|                       1|\n",
       "|     633232|                       3|\n",
       "|     826371|                       1|\n",
       "|    1447931|                       1|\n",
       "|    1244099|                      12|\n",
       "|      35004|                       4|\n",
       "|     770598|                       1|\n",
       "+-----------+------------------------+\n",
       "only showing top 20 rows"
      ]
     },
     "execution_count": 14,
     "metadata": {},
     "output_type": "execute_result"
    }
   ],
   "source": [
    "new_consumer.groupBy('consumer_id')\\\n",
    "    .agg(countDistinct('SA2_MAINCODE_2016'))"
   ]
  },
  {
   "cell_type": "code",
   "execution_count": 15,
   "metadata": {},
   "outputs": [],
   "source": [
    "merchant_sales = transaction.join(new_consumer,\n",
    "                                 ['user_id'],\n",
    "                                 how = \"left\")"
   ]
  },
  {
   "cell_type": "code",
   "execution_count": 16,
   "metadata": {},
   "outputs": [
    {
     "name": "stderr",
     "output_type": "stream",
     "text": [
      "                                                                                \r"
     ]
    },
    {
     "data": {
      "text/html": [
       "<table border='1'>\n",
       "<tr><th>user_id</th><th>merchant_abn</th><th>dollar_value</th><th>order_id</th><th>order_datetime</th><th>SA2_MAINCODE_2016</th><th>consumer_id</th><th>name</th><th>address</th><th>state</th><th>postcode</th><th>gender</th><th>postcode</th><th>Median_tot_prsnl_inc_weekly</th></tr>\n",
       "<tr><td>7</td><td>80518954462</td><td>87.82641684859922</td><td>30e323a0-5e5d-45c...</td><td>2021-12-05</td><td>3.19021506E8</td><td>511685</td><td>Andrea Jones</td><td>122 Brandon Cliff</td><td>QLD</td><td>4606</td><td>Female</td><td>4606</td><td>490</td></tr>\n",
       "<tr><td>7</td><td>80518954462</td><td>87.82641684859922</td><td>30e323a0-5e5d-45c...</td><td>2021-12-05</td><td>3.19021506E8</td><td>511685</td><td>Andrea Jones</td><td>122 Brandon Cliff</td><td>QLD</td><td>4606</td><td>Female</td><td>4606</td><td>490</td></tr>\n",
       "<tr><td>7</td><td>80518954462</td><td>87.82641684859922</td><td>30e323a0-5e5d-45c...</td><td>2021-12-05</td><td>3.19021506E8</td><td>511685</td><td>Andrea Jones</td><td>122 Brandon Cliff</td><td>QLD</td><td>4606</td><td>Female</td><td>4606</td><td>490</td></tr>\n",
       "<tr><td>7</td><td>80518954462</td><td>87.82641684859922</td><td>30e323a0-5e5d-45c...</td><td>2021-12-05</td><td>3.19021506E8</td><td>511685</td><td>Andrea Jones</td><td>122 Brandon Cliff</td><td>QLD</td><td>4606</td><td>Female</td><td>4606</td><td>490</td></tr>\n",
       "<tr><td>7</td><td>80518954462</td><td>87.82641684859922</td><td>30e323a0-5e5d-45c...</td><td>2021-12-05</td><td>3.19021506E8</td><td>511685</td><td>Andrea Jones</td><td>122 Brandon Cliff</td><td>QLD</td><td>4606</td><td>Female</td><td>4606</td><td>490</td></tr>\n",
       "<tr><td>7</td><td>80518954462</td><td>87.82641684859922</td><td>30e323a0-5e5d-45c...</td><td>2021-12-05</td><td>3.19021506E8</td><td>511685</td><td>Andrea Jones</td><td>122 Brandon Cliff</td><td>QLD</td><td>4606</td><td>Female</td><td>4606</td><td>490</td></tr>\n",
       "<tr><td>7</td><td>80518954462</td><td>87.82641684859922</td><td>30e323a0-5e5d-45c...</td><td>2021-12-05</td><td>3.19021506E8</td><td>511685</td><td>Andrea Jones</td><td>122 Brandon Cliff</td><td>QLD</td><td>4606</td><td>Female</td><td>4606</td><td>490</td></tr>\n",
       "<tr><td>7</td><td>80518954462</td><td>87.82641684859922</td><td>30e323a0-5e5d-45c...</td><td>2021-12-05</td><td>3.19021506E8</td><td>511685</td><td>Andrea Jones</td><td>122 Brandon Cliff</td><td>QLD</td><td>4606</td><td>Female</td><td>4606</td><td>490</td></tr>\n",
       "<tr><td>7</td><td>80518954462</td><td>87.82641684859922</td><td>30e323a0-5e5d-45c...</td><td>2021-12-05</td><td>3.19021506E8</td><td>511685</td><td>Andrea Jones</td><td>122 Brandon Cliff</td><td>QLD</td><td>4606</td><td>Female</td><td>4606</td><td>490</td></tr>\n",
       "<tr><td>7</td><td>95279812400</td><td>23.855323140698204</td><td>e05b9df5-b068-4a0...</td><td>2021-12-05</td><td>3.19021506E8</td><td>511685</td><td>Andrea Jones</td><td>122 Brandon Cliff</td><td>QLD</td><td>4606</td><td>Female</td><td>4606</td><td>490</td></tr>\n",
       "<tr><td>7</td><td>95279812400</td><td>23.855323140698204</td><td>e05b9df5-b068-4a0...</td><td>2021-12-05</td><td>3.19021506E8</td><td>511685</td><td>Andrea Jones</td><td>122 Brandon Cliff</td><td>QLD</td><td>4606</td><td>Female</td><td>4606</td><td>490</td></tr>\n",
       "<tr><td>7</td><td>95279812400</td><td>23.855323140698204</td><td>e05b9df5-b068-4a0...</td><td>2021-12-05</td><td>3.19021506E8</td><td>511685</td><td>Andrea Jones</td><td>122 Brandon Cliff</td><td>QLD</td><td>4606</td><td>Female</td><td>4606</td><td>490</td></tr>\n",
       "<tr><td>7</td><td>95279812400</td><td>23.855323140698204</td><td>e05b9df5-b068-4a0...</td><td>2021-12-05</td><td>3.19021506E8</td><td>511685</td><td>Andrea Jones</td><td>122 Brandon Cliff</td><td>QLD</td><td>4606</td><td>Female</td><td>4606</td><td>490</td></tr>\n",
       "<tr><td>7</td><td>95279812400</td><td>23.855323140698204</td><td>e05b9df5-b068-4a0...</td><td>2021-12-05</td><td>3.19021506E8</td><td>511685</td><td>Andrea Jones</td><td>122 Brandon Cliff</td><td>QLD</td><td>4606</td><td>Female</td><td>4606</td><td>490</td></tr>\n",
       "<tr><td>7</td><td>95279812400</td><td>23.855323140698204</td><td>e05b9df5-b068-4a0...</td><td>2021-12-05</td><td>3.19021506E8</td><td>511685</td><td>Andrea Jones</td><td>122 Brandon Cliff</td><td>QLD</td><td>4606</td><td>Female</td><td>4606</td><td>490</td></tr>\n",
       "<tr><td>7</td><td>95279812400</td><td>23.855323140698204</td><td>e05b9df5-b068-4a0...</td><td>2021-12-05</td><td>3.19021506E8</td><td>511685</td><td>Andrea Jones</td><td>122 Brandon Cliff</td><td>QLD</td><td>4606</td><td>Female</td><td>4606</td><td>490</td></tr>\n",
       "<tr><td>7</td><td>95279812400</td><td>23.855323140698204</td><td>e05b9df5-b068-4a0...</td><td>2021-12-05</td><td>3.19021506E8</td><td>511685</td><td>Andrea Jones</td><td>122 Brandon Cliff</td><td>QLD</td><td>4606</td><td>Female</td><td>4606</td><td>490</td></tr>\n",
       "<tr><td>7</td><td>95279812400</td><td>23.855323140698204</td><td>e05b9df5-b068-4a0...</td><td>2021-12-05</td><td>3.19021506E8</td><td>511685</td><td>Andrea Jones</td><td>122 Brandon Cliff</td><td>QLD</td><td>4606</td><td>Female</td><td>4606</td><td>490</td></tr>\n",
       "<tr><td>7</td><td>49505931725</td><td>115.46599358090947</td><td>ead5e0ad-6929-4b8...</td><td>2021-12-22</td><td>3.19021506E8</td><td>511685</td><td>Andrea Jones</td><td>122 Brandon Cliff</td><td>QLD</td><td>4606</td><td>Female</td><td>4606</td><td>490</td></tr>\n",
       "<tr><td>7</td><td>49505931725</td><td>115.46599358090947</td><td>ead5e0ad-6929-4b8...</td><td>2021-12-22</td><td>3.19021506E8</td><td>511685</td><td>Andrea Jones</td><td>122 Brandon Cliff</td><td>QLD</td><td>4606</td><td>Female</td><td>4606</td><td>490</td></tr>\n",
       "</table>\n",
       "only showing top 20 rows\n"
      ],
      "text/plain": [
       "+-------+------------+------------------+--------------------+--------------+-----------------+-----------+------------+-----------------+-----+--------+------+--------+---------------------------+\n",
       "|user_id|merchant_abn|      dollar_value|            order_id|order_datetime|SA2_MAINCODE_2016|consumer_id|        name|          address|state|postcode|gender|postcode|Median_tot_prsnl_inc_weekly|\n",
       "+-------+------------+------------------+--------------------+--------------+-----------------+-----------+------------+-----------------+-----+--------+------+--------+---------------------------+\n",
       "|      7| 80518954462| 87.82641684859922|30e323a0-5e5d-45c...|    2021-12-05|     3.19021506E8|     511685|Andrea Jones|122 Brandon Cliff|  QLD|    4606|Female|    4606|                        490|\n",
       "|      7| 80518954462| 87.82641684859922|30e323a0-5e5d-45c...|    2021-12-05|     3.19021506E8|     511685|Andrea Jones|122 Brandon Cliff|  QLD|    4606|Female|    4606|                        490|\n",
       "|      7| 80518954462| 87.82641684859922|30e323a0-5e5d-45c...|    2021-12-05|     3.19021506E8|     511685|Andrea Jones|122 Brandon Cliff|  QLD|    4606|Female|    4606|                        490|\n",
       "|      7| 80518954462| 87.82641684859922|30e323a0-5e5d-45c...|    2021-12-05|     3.19021506E8|     511685|Andrea Jones|122 Brandon Cliff|  QLD|    4606|Female|    4606|                        490|\n",
       "|      7| 80518954462| 87.82641684859922|30e323a0-5e5d-45c...|    2021-12-05|     3.19021506E8|     511685|Andrea Jones|122 Brandon Cliff|  QLD|    4606|Female|    4606|                        490|\n",
       "|      7| 80518954462| 87.82641684859922|30e323a0-5e5d-45c...|    2021-12-05|     3.19021506E8|     511685|Andrea Jones|122 Brandon Cliff|  QLD|    4606|Female|    4606|                        490|\n",
       "|      7| 80518954462| 87.82641684859922|30e323a0-5e5d-45c...|    2021-12-05|     3.19021506E8|     511685|Andrea Jones|122 Brandon Cliff|  QLD|    4606|Female|    4606|                        490|\n",
       "|      7| 80518954462| 87.82641684859922|30e323a0-5e5d-45c...|    2021-12-05|     3.19021506E8|     511685|Andrea Jones|122 Brandon Cliff|  QLD|    4606|Female|    4606|                        490|\n",
       "|      7| 80518954462| 87.82641684859922|30e323a0-5e5d-45c...|    2021-12-05|     3.19021506E8|     511685|Andrea Jones|122 Brandon Cliff|  QLD|    4606|Female|    4606|                        490|\n",
       "|      7| 95279812400|23.855323140698204|e05b9df5-b068-4a0...|    2021-12-05|     3.19021506E8|     511685|Andrea Jones|122 Brandon Cliff|  QLD|    4606|Female|    4606|                        490|\n",
       "|      7| 95279812400|23.855323140698204|e05b9df5-b068-4a0...|    2021-12-05|     3.19021506E8|     511685|Andrea Jones|122 Brandon Cliff|  QLD|    4606|Female|    4606|                        490|\n",
       "|      7| 95279812400|23.855323140698204|e05b9df5-b068-4a0...|    2021-12-05|     3.19021506E8|     511685|Andrea Jones|122 Brandon Cliff|  QLD|    4606|Female|    4606|                        490|\n",
       "|      7| 95279812400|23.855323140698204|e05b9df5-b068-4a0...|    2021-12-05|     3.19021506E8|     511685|Andrea Jones|122 Brandon Cliff|  QLD|    4606|Female|    4606|                        490|\n",
       "|      7| 95279812400|23.855323140698204|e05b9df5-b068-4a0...|    2021-12-05|     3.19021506E8|     511685|Andrea Jones|122 Brandon Cliff|  QLD|    4606|Female|    4606|                        490|\n",
       "|      7| 95279812400|23.855323140698204|e05b9df5-b068-4a0...|    2021-12-05|     3.19021506E8|     511685|Andrea Jones|122 Brandon Cliff|  QLD|    4606|Female|    4606|                        490|\n",
       "|      7| 95279812400|23.855323140698204|e05b9df5-b068-4a0...|    2021-12-05|     3.19021506E8|     511685|Andrea Jones|122 Brandon Cliff|  QLD|    4606|Female|    4606|                        490|\n",
       "|      7| 95279812400|23.855323140698204|e05b9df5-b068-4a0...|    2021-12-05|     3.19021506E8|     511685|Andrea Jones|122 Brandon Cliff|  QLD|    4606|Female|    4606|                        490|\n",
       "|      7| 95279812400|23.855323140698204|e05b9df5-b068-4a0...|    2021-12-05|     3.19021506E8|     511685|Andrea Jones|122 Brandon Cliff|  QLD|    4606|Female|    4606|                        490|\n",
       "|      7| 49505931725|115.46599358090947|ead5e0ad-6929-4b8...|    2021-12-22|     3.19021506E8|     511685|Andrea Jones|122 Brandon Cliff|  QLD|    4606|Female|    4606|                        490|\n",
       "|      7| 49505931725|115.46599358090947|ead5e0ad-6929-4b8...|    2021-12-22|     3.19021506E8|     511685|Andrea Jones|122 Brandon Cliff|  QLD|    4606|Female|    4606|                        490|\n",
       "+-------+------------+------------------+--------------------+--------------+-----------------+-----------+------------+-----------------+-----+--------+------+--------+---------------------------+\n",
       "only showing top 20 rows"
      ]
     },
     "execution_count": 16,
     "metadata": {},
     "output_type": "execute_result"
    }
   ],
   "source": [
    "merchant_sales"
   ]
  },
  {
   "cell_type": "code",
   "execution_count": 56,
   "metadata": {},
   "outputs": [
    {
     "name": "stdout",
     "output_type": "stream",
     "text": [
      "root\n",
      " |-- user_id: long (nullable = true)\n",
      " |-- merchant_abn: long (nullable = true)\n",
      " |-- dollar_value: double (nullable = true)\n",
      " |-- order_id: string (nullable = true)\n",
      " |-- order_datetime: date (nullable = true)\n",
      " |-- consumer_id: string (nullable = true)\n",
      " |-- name: string (nullable = true)\n",
      " |-- address: string (nullable = true)\n",
      " |-- state: string (nullable = true)\n",
      " |-- postcode: string (nullable = true)\n",
      " |-- gender: string (nullable = true)\n",
      " |-- postcode: long (nullable = true)\n",
      " |-- SA2_MAINCODE_2016: double (nullable = true)\n",
      "\n"
     ]
    }
   ],
   "source": [
    "merchant_sales.printSchema()"
   ]
  },
  {
   "cell_type": "markdown",
   "metadata": {},
   "source": [
    "Since we will be mainly working on the number of SA2 level regions each merchant sells to, we will be removing columns that are not helpful in our case."
   ]
  },
  {
   "cell_type": "code",
   "execution_count": 17,
   "metadata": {},
   "outputs": [],
   "source": [
    "filter_cols = [\"merchant_abn\", \"consumer_id\", \"SA2_MAINCODE_2016\", \"order_id\", \"Median_tot_prsnl_inc_weekly\"]\n",
    "merchant_sales_filtered = merchant_sales[filter_cols]"
   ]
  },
  {
   "cell_type": "code",
   "execution_count": 18,
   "metadata": {},
   "outputs": [
    {
     "name": "stderr",
     "output_type": "stream",
     "text": [
      "                                                                                \r"
     ]
    },
    {
     "data": {
      "text/html": [
       "<table border='1'>\n",
       "<tr><th>merchant_abn</th><th>consumer_id</th><th>SA2_MAINCODE_2016</th><th>order_id</th><th>Median_tot_prsnl_inc_weekly</th></tr>\n",
       "<tr><td>80518954462</td><td>511685</td><td>3.19021506E8</td><td>30e323a0-5e5d-45c...</td><td>490</td></tr>\n",
       "<tr><td>80518954462</td><td>511685</td><td>3.19021506E8</td><td>30e323a0-5e5d-45c...</td><td>490</td></tr>\n",
       "<tr><td>80518954462</td><td>511685</td><td>3.19021506E8</td><td>30e323a0-5e5d-45c...</td><td>490</td></tr>\n",
       "<tr><td>80518954462</td><td>511685</td><td>3.19021506E8</td><td>30e323a0-5e5d-45c...</td><td>490</td></tr>\n",
       "<tr><td>80518954462</td><td>511685</td><td>3.19021506E8</td><td>30e323a0-5e5d-45c...</td><td>490</td></tr>\n",
       "<tr><td>80518954462</td><td>511685</td><td>3.19021506E8</td><td>30e323a0-5e5d-45c...</td><td>490</td></tr>\n",
       "<tr><td>80518954462</td><td>511685</td><td>3.19021506E8</td><td>30e323a0-5e5d-45c...</td><td>490</td></tr>\n",
       "<tr><td>80518954462</td><td>511685</td><td>3.19021506E8</td><td>30e323a0-5e5d-45c...</td><td>490</td></tr>\n",
       "<tr><td>80518954462</td><td>511685</td><td>3.19021506E8</td><td>30e323a0-5e5d-45c...</td><td>490</td></tr>\n",
       "<tr><td>95279812400</td><td>511685</td><td>3.19021506E8</td><td>e05b9df5-b068-4a0...</td><td>490</td></tr>\n",
       "<tr><td>95279812400</td><td>511685</td><td>3.19021506E8</td><td>e05b9df5-b068-4a0...</td><td>490</td></tr>\n",
       "<tr><td>95279812400</td><td>511685</td><td>3.19021506E8</td><td>e05b9df5-b068-4a0...</td><td>490</td></tr>\n",
       "<tr><td>95279812400</td><td>511685</td><td>3.19021506E8</td><td>e05b9df5-b068-4a0...</td><td>490</td></tr>\n",
       "<tr><td>95279812400</td><td>511685</td><td>3.19021506E8</td><td>e05b9df5-b068-4a0...</td><td>490</td></tr>\n",
       "<tr><td>95279812400</td><td>511685</td><td>3.19021506E8</td><td>e05b9df5-b068-4a0...</td><td>490</td></tr>\n",
       "<tr><td>95279812400</td><td>511685</td><td>3.19021506E8</td><td>e05b9df5-b068-4a0...</td><td>490</td></tr>\n",
       "<tr><td>95279812400</td><td>511685</td><td>3.19021506E8</td><td>e05b9df5-b068-4a0...</td><td>490</td></tr>\n",
       "<tr><td>95279812400</td><td>511685</td><td>3.19021506E8</td><td>e05b9df5-b068-4a0...</td><td>490</td></tr>\n",
       "<tr><td>49505931725</td><td>511685</td><td>3.19021506E8</td><td>ead5e0ad-6929-4b8...</td><td>490</td></tr>\n",
       "<tr><td>49505931725</td><td>511685</td><td>3.19021506E8</td><td>ead5e0ad-6929-4b8...</td><td>490</td></tr>\n",
       "</table>\n",
       "only showing top 20 rows\n"
      ],
      "text/plain": [
       "+------------+-----------+-----------------+--------------------+---------------------------+\n",
       "|merchant_abn|consumer_id|SA2_MAINCODE_2016|            order_id|Median_tot_prsnl_inc_weekly|\n",
       "+------------+-----------+-----------------+--------------------+---------------------------+\n",
       "| 80518954462|     511685|     3.19021506E8|30e323a0-5e5d-45c...|                        490|\n",
       "| 80518954462|     511685|     3.19021506E8|30e323a0-5e5d-45c...|                        490|\n",
       "| 80518954462|     511685|     3.19021506E8|30e323a0-5e5d-45c...|                        490|\n",
       "| 80518954462|     511685|     3.19021506E8|30e323a0-5e5d-45c...|                        490|\n",
       "| 80518954462|     511685|     3.19021506E8|30e323a0-5e5d-45c...|                        490|\n",
       "| 80518954462|     511685|     3.19021506E8|30e323a0-5e5d-45c...|                        490|\n",
       "| 80518954462|     511685|     3.19021506E8|30e323a0-5e5d-45c...|                        490|\n",
       "| 80518954462|     511685|     3.19021506E8|30e323a0-5e5d-45c...|                        490|\n",
       "| 80518954462|     511685|     3.19021506E8|30e323a0-5e5d-45c...|                        490|\n",
       "| 95279812400|     511685|     3.19021506E8|e05b9df5-b068-4a0...|                        490|\n",
       "| 95279812400|     511685|     3.19021506E8|e05b9df5-b068-4a0...|                        490|\n",
       "| 95279812400|     511685|     3.19021506E8|e05b9df5-b068-4a0...|                        490|\n",
       "| 95279812400|     511685|     3.19021506E8|e05b9df5-b068-4a0...|                        490|\n",
       "| 95279812400|     511685|     3.19021506E8|e05b9df5-b068-4a0...|                        490|\n",
       "| 95279812400|     511685|     3.19021506E8|e05b9df5-b068-4a0...|                        490|\n",
       "| 95279812400|     511685|     3.19021506E8|e05b9df5-b068-4a0...|                        490|\n",
       "| 95279812400|     511685|     3.19021506E8|e05b9df5-b068-4a0...|                        490|\n",
       "| 95279812400|     511685|     3.19021506E8|e05b9df5-b068-4a0...|                        490|\n",
       "| 49505931725|     511685|     3.19021506E8|ead5e0ad-6929-4b8...|                        490|\n",
       "| 49505931725|     511685|     3.19021506E8|ead5e0ad-6929-4b8...|                        490|\n",
       "+------------+-----------+-----------------+--------------------+---------------------------+\n",
       "only showing top 20 rows"
      ]
     },
     "execution_count": 18,
     "metadata": {},
     "output_type": "execute_result"
    }
   ],
   "source": [
    "merchant_sales_filtered"
   ]
  },
  {
   "cell_type": "markdown",
   "metadata": {},
   "source": [
    "Finding out how many regions each merchant sells to"
   ]
  },
  {
   "cell_type": "code",
   "execution_count": 19,
   "metadata": {},
   "outputs": [],
   "source": [
    "unique_regions_per_merchant = merchant_sales_filtered.groupby('merchant_abn')\\\n",
    "                                                     .agg(countDistinct('SA2_MAINCODE_2016'))\\\n",
    "                                                     .withColumnRenamed('count(SA2_MAINCODE_2016)', 'region_count')"
   ]
  },
  {
   "cell_type": "code",
   "execution_count": 20,
   "metadata": {},
   "outputs": [
    {
     "name": "stderr",
     "output_type": "stream",
     "text": [
      "                                                                                \r"
     ]
    },
    {
     "data": {
      "text/html": [
       "<table border='1'>\n",
       "<tr><th>merchant_abn</th><th>region_count</th></tr>\n",
       "<tr><td>15613631617</td><td>671</td></tr>\n",
       "<tr><td>24406529929</td><td>1159</td></tr>\n",
       "<tr><td>38700038932</td><td>1518</td></tr>\n",
       "<tr><td>41956465747</td><td>160</td></tr>\n",
       "<tr><td>83412691377</td><td>1858</td></tr>\n",
       "<tr><td>19839532017</td><td>327</td></tr>\n",
       "<tr><td>73256306726</td><td>1360</td></tr>\n",
       "<tr><td>96946925998</td><td>45</td></tr>\n",
       "<tr><td>35344855546</td><td>620</td></tr>\n",
       "<tr><td>73841664453</td><td>461</td></tr>\n",
       "<tr><td>34440496342</td><td>118</td></tr>\n",
       "<tr><td>52763133264</td><td>62</td></tr>\n",
       "<tr><td>78916025936</td><td>36</td></tr>\n",
       "<tr><td>48214071373</td><td>225</td></tr>\n",
       "<tr><td>12516851436</td><td>98</td></tr>\n",
       "<tr><td>38986645707</td><td>34</td></tr>\n",
       "<tr><td>56395390867</td><td>43</td></tr>\n",
       "<tr><td>98345415950</td><td>17</td></tr>\n",
       "<tr><td>92202115241</td><td>54</td></tr>\n",
       "<tr><td>60654402457</td><td>82</td></tr>\n",
       "</table>\n",
       "only showing top 20 rows\n"
      ],
      "text/plain": [
       "+------------+------------+\n",
       "|merchant_abn|region_count|\n",
       "+------------+------------+\n",
       "| 15613631617|         671|\n",
       "| 24406529929|        1159|\n",
       "| 38700038932|        1518|\n",
       "| 41956465747|         160|\n",
       "| 83412691377|        1858|\n",
       "| 19839532017|         327|\n",
       "| 73256306726|        1360|\n",
       "| 96946925998|          45|\n",
       "| 35344855546|         620|\n",
       "| 73841664453|         461|\n",
       "| 34440496342|         118|\n",
       "| 52763133264|          62|\n",
       "| 78916025936|          36|\n",
       "| 48214071373|         225|\n",
       "| 12516851436|          98|\n",
       "| 38986645707|          34|\n",
       "| 56395390867|          43|\n",
       "| 98345415950|          17|\n",
       "| 92202115241|          54|\n",
       "| 60654402457|          82|\n",
       "+------------+------------+\n",
       "only showing top 20 rows"
      ]
     },
     "execution_count": 20,
     "metadata": {},
     "output_type": "execute_result"
    }
   ],
   "source": [
    "unique_regions_per_merchant"
   ]
  },
  {
   "cell_type": "markdown",
   "metadata": {},
   "source": [
    "Finding out unique customers per region for each merchant"
   ]
  },
  {
   "cell_type": "code",
   "execution_count": 21,
   "metadata": {},
   "outputs": [],
   "source": [
    "unique_customers_per_region = merchant_sales_filtered.groupby('merchant_abn', 'SA2_MAINCODE_2016')\\\n",
    "                                              .agg(countDistinct('consumer_id'))\\\n",
    "                                              .orderBy('merchant_abn', 'SA2_MAINCODE_2016')\\\n",
    "                                              .withColumnRenamed('count(consumer_id)', 'unique_customers')\n"
   ]
  },
  {
   "cell_type": "code",
   "execution_count": 22,
   "metadata": {},
   "outputs": [
    {
     "name": "stderr",
     "output_type": "stream",
     "text": [
      "[Stage 180:==================================================>    (12 + 1) / 13]\r"
     ]
    },
    {
     "name": "stdout",
     "output_type": "stream",
     "text": [
      "22/09/19 16:16:23 WARN RowBasedKeyValueBatch: Calling spill() on RowBasedKeyValueBatch. Will not spill but return 0.\n",
      "22/09/19 16:16:23 WARN RowBasedKeyValueBatch: Calling spill() on RowBasedKeyValueBatch. Will not spill but return 0.\n",
      "22/09/19 16:16:23 WARN RowBasedKeyValueBatch: Calling spill() on RowBasedKeyValueBatch. Will not spill but return 0.\n",
      "22/09/19 16:16:23 WARN RowBasedKeyValueBatch: Calling spill() on RowBasedKeyValueBatch. Will not spill but return 0.\n",
      "22/09/19 16:16:23 WARN RowBasedKeyValueBatch: Calling spill() on RowBasedKeyValueBatch. Will not spill but return 0.\n",
      "22/09/19 16:16:23 WARN RowBasedKeyValueBatch: Calling spill() on RowBasedKeyValueBatch. Will not spill but return 0.\n",
      "22/09/19 16:16:23 WARN RowBasedKeyValueBatch: Calling spill() on RowBasedKeyValueBatch. Will not spill but return 0.\n",
      "22/09/19 16:16:23 WARN RowBasedKeyValueBatch: Calling spill() on RowBasedKeyValueBatch. Will not spill but return 0.\n",
      "22/09/19 16:16:23 WARN RowBasedKeyValueBatch: Calling spill() on RowBasedKeyValueBatch. Will not spill but return 0.\n",
      "22/09/19 16:16:23 WARN RowBasedKeyValueBatch: Calling spill() on RowBasedKeyValueBatch. Will not spill but return 0.\n",
      "22/09/19 16:16:23 WARN RowBasedKeyValueBatch: Calling spill() on RowBasedKeyValueBatch. Will not spill but return 0.\n",
      "22/09/19 16:16:23 WARN RowBasedKeyValueBatch: Calling spill() on RowBasedKeyValueBatch. Will not spill but return 0.\n"
     ]
    },
    {
     "name": "stderr",
     "output_type": "stream",
     "text": [
      "[Stage 185:>                                                      (0 + 12) / 13]\r"
     ]
    },
    {
     "name": "stdout",
     "output_type": "stream",
     "text": [
      "22/09/19 16:16:24 WARN RowBasedKeyValueBatch: Calling spill() on RowBasedKeyValueBatch. Will not spill but return 0.\n",
      "22/09/19 16:16:24 WARN RowBasedKeyValueBatch: Calling spill() on RowBasedKeyValueBatch. Will not spill but return 0.\n",
      "22/09/19 16:16:24 WARN RowBasedKeyValueBatch: Calling spill() on RowBasedKeyValueBatch. Will not spill but return 0.\n",
      "22/09/19 16:16:24 WARN RowBasedKeyValueBatch: Calling spill() on RowBasedKeyValueBatch. Will not spill but return 0.\n",
      "22/09/19 16:16:25 WARN RowBasedKeyValueBatch: Calling spill() on RowBasedKeyValueBatch. Will not spill but return 0.\n",
      "22/09/19 16:16:25 WARN RowBasedKeyValueBatch: Calling spill() on RowBasedKeyValueBatch. Will not spill but return 0.\n",
      "22/09/19 16:16:25 WARN RowBasedKeyValueBatch: Calling spill() on RowBasedKeyValueBatch. Will not spill but return 0.\n",
      "22/09/19 16:16:25 WARN RowBasedKeyValueBatch: Calling spill() on RowBasedKeyValueBatch. Will not spill but return 0.\n",
      "22/09/19 16:16:25 WARN RowBasedKeyValueBatch: Calling spill() on RowBasedKeyValueBatch. Will not spill but return 0.\n",
      "22/09/19 16:16:24 WARN RowBasedKeyValueBatch: Calling spill() on RowBasedKeyValueBatch. Will not spill but return 0.\n",
      "22/09/19 16:16:25 WARN RowBasedKeyValueBatch: Calling spill() on RowBasedKeyValueBatch. Will not spill but return 0.\n",
      "22/09/19 16:16:25 WARN RowBasedKeyValueBatch: Calling spill() on RowBasedKeyValueBatch. Will not spill but return 0.\n"
     ]
    },
    {
     "name": "stderr",
     "output_type": "stream",
     "text": [
      "[Stage 204:==================================================>    (12 + 1) / 13]\r"
     ]
    },
    {
     "name": "stdout",
     "output_type": "stream",
     "text": [
      "22/09/19 16:16:35 WARN RowBasedKeyValueBatch: Calling spill() on RowBasedKeyValueBatch. Will not spill but return 0.\n",
      "22/09/19 16:16:35 WARN RowBasedKeyValueBatch: Calling spill() on RowBasedKeyValueBatch. Will not spill but return 0.\n",
      "22/09/19 16:16:35 WARN RowBasedKeyValueBatch: Calling spill() on RowBasedKeyValueBatch. Will not spill but return 0.\n",
      "22/09/19 16:16:35 WARN RowBasedKeyValueBatch: Calling spill() on RowBasedKeyValueBatch. Will not spill but return 0.\n",
      "22/09/19 16:16:35 WARN RowBasedKeyValueBatch: Calling spill() on RowBasedKeyValueBatch. Will not spill but return 0.\n",
      "22/09/19 16:16:35 WARN RowBasedKeyValueBatch: Calling spill() on RowBasedKeyValueBatch. Will not spill but return 0.\n",
      "22/09/19 16:16:35 WARN RowBasedKeyValueBatch: Calling spill() on RowBasedKeyValueBatch. Will not spill but return 0.\n",
      "22/09/19 16:16:35 WARN RowBasedKeyValueBatch: Calling spill() on RowBasedKeyValueBatch. Will not spill but return 0.\n",
      "22/09/19 16:16:35 WARN RowBasedKeyValueBatch: Calling spill() on RowBasedKeyValueBatch. Will not spill but return 0.\n",
      "22/09/19 16:16:35 WARN RowBasedKeyValueBatch: Calling spill() on RowBasedKeyValueBatch. Will not spill but return 0.\n",
      "22/09/19 16:16:35 WARN RowBasedKeyValueBatch: Calling spill() on RowBasedKeyValueBatch. Will not spill but return 0.\n",
      "22/09/19 16:16:35 WARN RowBasedKeyValueBatch: Calling spill() on RowBasedKeyValueBatch. Will not spill but return 0.\n"
     ]
    },
    {
     "name": "stderr",
     "output_type": "stream",
     "text": [
      "[Stage 209:>                                                      (0 + 12) / 13]\r"
     ]
    },
    {
     "name": "stdout",
     "output_type": "stream",
     "text": [
      "22/09/19 16:16:36 WARN RowBasedKeyValueBatch: Calling spill() on RowBasedKeyValueBatch. Will not spill but return 0.\n",
      "22/09/19 16:16:36 WARN RowBasedKeyValueBatch: Calling spill() on RowBasedKeyValueBatch. Will not spill but return 0.\n",
      "22/09/19 16:16:36 WARN RowBasedKeyValueBatch: Calling spill() on RowBasedKeyValueBatch. Will not spill but return 0.\n",
      "22/09/19 16:16:36 WARN RowBasedKeyValueBatch: Calling spill() on RowBasedKeyValueBatch. Will not spill but return 0.\n",
      "22/09/19 16:16:36 WARN RowBasedKeyValueBatch: Calling spill() on RowBasedKeyValueBatch. Will not spill but return 0.\n",
      "22/09/19 16:16:36 WARN RowBasedKeyValueBatch: Calling spill() on RowBasedKeyValueBatch. Will not spill but return 0.\n",
      "22/09/19 16:16:36 WARN RowBasedKeyValueBatch: Calling spill() on RowBasedKeyValueBatch. Will not spill but return 0.\n",
      "22/09/19 16:16:36 WARN RowBasedKeyValueBatch: Calling spill() on RowBasedKeyValueBatch. Will not spill but return 0.\n",
      "22/09/19 16:16:36 WARN RowBasedKeyValueBatch: Calling spill() on RowBasedKeyValueBatch. Will not spill but return 0.\n",
      "22/09/19 16:16:36 WARN RowBasedKeyValueBatch: Calling spill() on RowBasedKeyValueBatch. Will not spill but return 0.\n",
      "22/09/19 16:16:36 WARN RowBasedKeyValueBatch: Calling spill() on RowBasedKeyValueBatch. Will not spill but return 0.\n",
      "22/09/19 16:16:36 WARN RowBasedKeyValueBatch: Calling spill() on RowBasedKeyValueBatch. Will not spill but return 0.\n"
     ]
    },
    {
     "name": "stderr",
     "output_type": "stream",
     "text": [
      "                                                                                \r"
     ]
    },
    {
     "data": {
      "text/html": [
       "<table border='1'>\n",
       "<tr><th>merchant_abn</th><th>SA2_MAINCODE_2016</th><th>unique_customers</th></tr>\n",
       "<tr><td>10023283211</td><td>1.01021011E8</td><td>1</td></tr>\n",
       "<tr><td>10023283211</td><td>1.01031013E8</td><td>3</td></tr>\n",
       "<tr><td>10023283211</td><td>1.01031014E8</td><td>1</td></tr>\n",
       "<tr><td>10023283211</td><td>1.01031015E8</td><td>4</td></tr>\n",
       "<tr><td>10023283211</td><td>1.01031016E8</td><td>5</td></tr>\n",
       "<tr><td>10023283211</td><td>1.01041017E8</td><td>1</td></tr>\n",
       "<tr><td>10023283211</td><td>1.01041018E8</td><td>1</td></tr>\n",
       "<tr><td>10023283211</td><td>1.01041019E8</td><td>1</td></tr>\n",
       "<tr><td>10023283211</td><td>1.0104102E8</td><td>2</td></tr>\n",
       "<tr><td>10023283211</td><td>1.01041022E8</td><td>1</td></tr>\n",
       "<tr><td>10023283211</td><td>1.01041024E8</td><td>2</td></tr>\n",
       "<tr><td>10023283211</td><td>1.01041025E8</td><td>2</td></tr>\n",
       "<tr><td>10023283211</td><td>1.01061542E8</td><td>2</td></tr>\n",
       "<tr><td>10023283211</td><td>1.01061544E8</td><td>4</td></tr>\n",
       "<tr><td>10023283211</td><td>1.02011028E8</td><td>1</td></tr>\n",
       "<tr><td>10023283211</td><td>1.02011029E8</td><td>2</td></tr>\n",
       "<tr><td>10023283211</td><td>1.0201103E8</td><td>2</td></tr>\n",
       "<tr><td>10023283211</td><td>1.02011031E8</td><td>2</td></tr>\n",
       "<tr><td>10023283211</td><td>1.02011034E8</td><td>1</td></tr>\n",
       "<tr><td>10023283211</td><td>1.02011037E8</td><td>1</td></tr>\n",
       "</table>\n",
       "only showing top 20 rows\n"
      ],
      "text/plain": [
       "+------------+-----------------+----------------+\n",
       "|merchant_abn|SA2_MAINCODE_2016|unique_customers|\n",
       "+------------+-----------------+----------------+\n",
       "| 10023283211|     1.01021011E8|               1|\n",
       "| 10023283211|     1.01031013E8|               3|\n",
       "| 10023283211|     1.01031014E8|               1|\n",
       "| 10023283211|     1.01031015E8|               4|\n",
       "| 10023283211|     1.01031016E8|               5|\n",
       "| 10023283211|     1.01041017E8|               1|\n",
       "| 10023283211|     1.01041018E8|               1|\n",
       "| 10023283211|     1.01041019E8|               1|\n",
       "| 10023283211|      1.0104102E8|               2|\n",
       "| 10023283211|     1.01041022E8|               1|\n",
       "| 10023283211|     1.01041024E8|               2|\n",
       "| 10023283211|     1.01041025E8|               2|\n",
       "| 10023283211|     1.01061542E8|               2|\n",
       "| 10023283211|     1.01061544E8|               4|\n",
       "| 10023283211|     1.02011028E8|               1|\n",
       "| 10023283211|     1.02011029E8|               2|\n",
       "| 10023283211|      1.0201103E8|               2|\n",
       "| 10023283211|     1.02011031E8|               2|\n",
       "| 10023283211|     1.02011034E8|               1|\n",
       "| 10023283211|     1.02011037E8|               1|\n",
       "+------------+-----------------+----------------+\n",
       "only showing top 20 rows"
      ]
     },
     "execution_count": 22,
     "metadata": {},
     "output_type": "execute_result"
    }
   ],
   "source": [
    "unique_customers_per_region"
   ]
  },
  {
   "cell_type": "markdown",
   "metadata": {},
   "source": [
    "Previously, we mentioned that some consumer_ids have multiple locations (SA2), hence they have different weekly personal income in that case, we will be taking the average"
   ]
  },
  {
   "cell_type": "code",
   "execution_count": 24,
   "metadata": {},
   "outputs": [],
   "source": [
    "merchant_customer_avg_income = merchant_sales_filtered.groupby('merchant_abn', 'consumer_id')\\\n",
    "                                                        .agg(\n",
    "                                                            {\n",
    "                                                                'Median_tot_prsnl_inc_weekly': 'mean'\n",
    "                                                            }\n",
    "                                                        )\\\n",
    "                                                        .orderBy('merchant_abn', 'consumer_id')\\\n",
    "                                                        .withColumnRenamed('avg(Median_tot_prsnl_inc_weekly)', 'avg_cust_personal_inc')"
   ]
  },
  {
   "cell_type": "code",
   "execution_count": 29,
   "metadata": {},
   "outputs": [
    {
     "name": "stdout",
     "output_type": "stream",
     "text": [
      "root\n",
      " |-- merchant_abn: long (nullable = true)\n",
      " |-- consumer_id: string (nullable = true)\n",
      " |-- avg_cust_personal_inc: double (nullable = true)\n",
      "\n"
     ]
    }
   ],
   "source": [
    "merchant_customer_avg_income.printSchema()"
   ]
  },
  {
   "cell_type": "markdown",
   "metadata": {},
   "source": [
    "### Data imputation\n",
    "From the output generated above, we can see that there're multiple consumer_ids without average personal weekly income, and we will be looking for a solution for that below\n"
   ]
  },
  {
   "cell_type": "code",
   "execution_count": 35,
   "metadata": {},
   "outputs": [
    {
     "name": "stderr",
     "output_type": "stream",
     "text": [
      "                                                                                \r"
     ]
    },
    {
     "name": "stdout",
     "output_type": "stream",
     "text": [
      "22/09/19 16:58:17 WARN RowBasedKeyValueBatch: Calling spill() on RowBasedKeyValueBatch. Will not spill but return 0.\n",
      "22/09/19 16:58:17 WARN RowBasedKeyValueBatch: Calling spill() on RowBasedKeyValueBatch. Will not spill but return 0.\n",
      "22/09/19 16:58:17 WARN RowBasedKeyValueBatch: Calling spill() on RowBasedKeyValueBatch. Will not spill but return 0.\n",
      "22/09/19 16:58:17 WARN RowBasedKeyValueBatch: Calling spill() on RowBasedKeyValueBatch. Will not spill but return 0.\n",
      "22/09/19 16:58:17 WARN RowBasedKeyValueBatch: Calling spill() on RowBasedKeyValueBatch. Will not spill but return 0.\n",
      "22/09/19 16:58:17 WARN RowBasedKeyValueBatch: Calling spill() on RowBasedKeyValueBatch. Will not spill but return 0.\n",
      "22/09/19 16:58:17 WARN RowBasedKeyValueBatch: Calling spill() on RowBasedKeyValueBatch. Will not spill but return 0.\n",
      "22/09/19 16:58:17 WARN RowBasedKeyValueBatch: Calling spill() on RowBasedKeyValueBatch. Will not spill but return 0.\n",
      "22/09/19 16:58:17 WARN RowBasedKeyValueBatch: Calling spill() on RowBasedKeyValueBatch. Will not spill but return 0.\n",
      "22/09/19 16:58:17 WARN RowBasedKeyValueBatch: Calling spill() on RowBasedKeyValueBatch. Will not spill but return 0.\n",
      "22/09/19 16:58:17 WARN RowBasedKeyValueBatch: Calling spill() on RowBasedKeyValueBatch. Will not spill but return 0.\n",
      "22/09/19 16:58:17 WARN RowBasedKeyValueBatch: Calling spill() on RowBasedKeyValueBatch. Will not spill but return 0.\n",
      "22/09/19 16:58:17 WARN RowBasedKeyValueBatch: Calling spill() on RowBasedKeyValueBatch. Will not spill but return 0.\n",
      "22/09/19 16:58:17 WARN RowBasedKeyValueBatch: Calling spill() on RowBasedKeyValueBatch. Will not spill but return 0.\n",
      "22/09/19 16:58:17 WARN RowBasedKeyValueBatch: Calling spill() on RowBasedKeyValueBatch. Will not spill but return 0.\n",
      "22/09/19 16:58:17 WARN RowBasedKeyValueBatch: Calling spill() on RowBasedKeyValueBatch. Will not spill but return 0.\n",
      "22/09/19 16:58:17 WARN RowBasedKeyValueBatch: Calling spill() on RowBasedKeyValueBatch. Will not spill but return 0.\n",
      "22/09/19 16:58:17 WARN RowBasedKeyValueBatch: Calling spill() on RowBasedKeyValueBatch. Will not spill but return 0.\n",
      "22/09/19 16:58:17 WARN RowBasedKeyValueBatch: Calling spill() on RowBasedKeyValueBatch. Will not spill but return 0.\n",
      "22/09/19 16:58:17 WARN RowBasedKeyValueBatch: Calling spill() on RowBasedKeyValueBatch. Will not spill but return 0.\n",
      "22/09/19 16:58:17 WARN RowBasedKeyValueBatch: Calling spill() on RowBasedKeyValueBatch. Will not spill but return 0.\n",
      "22/09/19 16:58:17 WARN RowBasedKeyValueBatch: Calling spill() on RowBasedKeyValueBatch. Will not spill but return 0.\n",
      "22/09/19 16:58:17 WARN RowBasedKeyValueBatch: Calling spill() on RowBasedKeyValueBatch. Will not spill but return 0.\n",
      "22/09/19 16:58:17 WARN RowBasedKeyValueBatch: Calling spill() on RowBasedKeyValueBatch. Will not spill but return 0.\n"
     ]
    },
    {
     "name": "stderr",
     "output_type": "stream",
     "text": [
      "[Stage 336:>                                                      (0 + 12) / 13]\r"
     ]
    },
    {
     "name": "stdout",
     "output_type": "stream",
     "text": [
      "22/09/19 16:58:18 WARN RowBasedKeyValueBatch: Calling spill() on RowBasedKeyValueBatch. Will not spill but return 0.\n",
      "22/09/19 16:58:18 WARN RowBasedKeyValueBatch: Calling spill() on RowBasedKeyValueBatch. Will not spill but return 0.\n",
      "22/09/19 16:58:18 WARN RowBasedKeyValueBatch: Calling spill() on RowBasedKeyValueBatch. Will not spill but return 0.\n",
      "22/09/19 16:58:18 WARN RowBasedKeyValueBatch: Calling spill() on RowBasedKeyValueBatch. Will not spill but return 0.\n",
      "22/09/19 16:58:18 WARN RowBasedKeyValueBatch: Calling spill() on RowBasedKeyValueBatch. Will not spill but return 0.\n",
      "22/09/19 16:58:18 WARN RowBasedKeyValueBatch: Calling spill() on RowBasedKeyValueBatch. Will not spill but return 0.\n",
      "22/09/19 16:58:18 WARN RowBasedKeyValueBatch: Calling spill() on RowBasedKeyValueBatch. Will not spill but return 0.\n",
      "22/09/19 16:58:18 WARN RowBasedKeyValueBatch: Calling spill() on RowBasedKeyValueBatch. Will not spill but return 0.\n",
      "22/09/19 16:58:18 WARN RowBasedKeyValueBatch: Calling spill() on RowBasedKeyValueBatch. Will not spill but return 0.\n",
      "22/09/19 16:58:18 WARN RowBasedKeyValueBatch: Calling spill() on RowBasedKeyValueBatch. Will not spill but return 0.\n",
      "22/09/19 16:58:18 WARN RowBasedKeyValueBatch: Calling spill() on RowBasedKeyValueBatch. Will not spill but return 0.\n",
      "22/09/19 16:58:18 WARN RowBasedKeyValueBatch: Calling spill() on RowBasedKeyValueBatch. Will not spill but return 0.\n",
      "22/09/19 16:58:19 WARN RowBasedKeyValueBatch: Calling spill() on RowBasedKeyValueBatch. Will not spill but return 0.\n",
      "22/09/19 16:58:19 WARN RowBasedKeyValueBatch: Calling spill() on RowBasedKeyValueBatch. Will not spill but return 0.\n",
      "22/09/19 16:58:19 WARN RowBasedKeyValueBatch: Calling spill() on RowBasedKeyValueBatch. Will not spill but return 0.\n",
      "22/09/19 16:58:19 WARN RowBasedKeyValueBatch: Calling spill() on RowBasedKeyValueBatch. Will not spill but return 0.\n",
      "22/09/19 16:58:19 WARN RowBasedKeyValueBatch: Calling spill() on RowBasedKeyValueBatch. Will not spill but return 0.\n",
      "22/09/19 16:58:19 WARN RowBasedKeyValueBatch: Calling spill() on RowBasedKeyValueBatch. Will not spill but return 0.\n",
      "22/09/19 16:58:19 WARN RowBasedKeyValueBatch: Calling spill() on RowBasedKeyValueBatch. Will not spill but return 0.\n",
      "22/09/19 16:58:19 WARN RowBasedKeyValueBatch: Calling spill() on RowBasedKeyValueBatch. Will not spill but return 0.\n",
      "22/09/19 16:58:19 WARN RowBasedKeyValueBatch: Calling spill() on RowBasedKeyValueBatch. Will not spill but return 0.\n",
      "22/09/19 16:58:19 WARN RowBasedKeyValueBatch: Calling spill() on RowBasedKeyValueBatch. Will not spill but return 0.\n",
      "22/09/19 16:58:19 WARN RowBasedKeyValueBatch: Calling spill() on RowBasedKeyValueBatch. Will not spill but return 0.\n"
     ]
    },
    {
     "name": "stderr",
     "output_type": "stream",
     "text": [
      "[Stage 341:>                                                      (0 + 12) / 13]\r"
     ]
    },
    {
     "name": "stdout",
     "output_type": "stream",
     "text": [
      "+--------------------------------------------------------------+\n",
      "|count(CASE WHEN (avg_cust_personal_inc IS NULL) THEN true END)|\n",
      "+--------------------------------------------------------------+\n",
      "|                                                        401390|\n",
      "+--------------------------------------------------------------+\n",
      "\n"
     ]
    },
    {
     "name": "stderr",
     "output_type": "stream",
     "text": [
      "                                                                                \r"
     ]
    }
   ],
   "source": [
    "merchant_customer_avg_income.select([F.count(F.when(F.col('avg_cust_personal_inc').isNull(),True))]).show()"
   ]
  },
  {
   "cell_type": "code",
   "execution_count": 38,
   "metadata": {},
   "outputs": [
    {
     "name": "stdout",
     "output_type": "stream",
     "text": [
      "Merchant's customer average weekly income:\n"
     ]
    },
    {
     "name": "stderr",
     "output_type": "stream",
     "text": [
      "[Stage 413:>                                                      (0 + 12) / 13]\r"
     ]
    },
    {
     "name": "stdout",
     "output_type": "stream",
     "text": [
      "\tNumber of rows: 3477874\n",
      "\tNumber of null values in weekly income: 401390\n",
      "\tProportion of data with null values: 0.11541246175105827\n"
     ]
    },
    {
     "name": "stderr",
     "output_type": "stream",
     "text": [
      "                                                                                \r"
     ]
    }
   ],
   "source": [
    "print(\"Merchant's customer average weekly income:\")\n",
    "print(\"\\tNumber of rows:\", merchant_customer_avg_income.count())\n",
    "print(\"\\tNumber of null values in weekly income:\", 401390)\n",
    "print(\"\\tProportion of data with null values:\", 401390/3477874)"
   ]
  },
  {
   "cell_type": "markdown",
   "metadata": {},
   "source": [
    "We can see that more than 10 percent of the average weekly income of customers in the merchant sales are NULL, it is highly recommended to impute them instead of ignoring them\n"
   ]
  },
  {
   "cell_type": "code",
   "execution_count": 41,
   "metadata": {},
   "outputs": [
    {
     "ename": "TypeError",
     "evalue": "'Column' object is not callable",
     "output_type": "error",
     "traceback": [
      "\u001b[0;31m---------------------------------------------------------------------------\u001b[0m",
      "\u001b[0;31mTypeError\u001b[0m                                 Traceback (most recent call last)",
      "\u001b[1;32m/mnt/d/Unimelb/Year 3 Sem 2/Applied Data Science/Project 2 Github/generic-buy-now-pay-later-project-group-19/notebooks/merchant_customers.ipynb Cell 37\u001b[0m in \u001b[0;36m<cell line: 3>\u001b[0;34m()\u001b[0m\n\u001b[1;32m      <a href='vscode-notebook-cell://wsl%2Bubuntu-20.04/mnt/d/Unimelb/Year%203%20Sem%202/Applied%20Data%20Science/Project%202%20Github/generic-buy-now-pay-later-project-group-19/notebooks/merchant_customers.ipynb#X65sdnNjb2RlLXJlbW90ZQ%3D%3D?line=0'>1</a>\u001b[0m \u001b[39mimport\u001b[39;00m \u001b[39mseaborn\u001b[39;00m \u001b[39mas\u001b[39;00m \u001b[39msns\u001b[39;00m\n\u001b[0;32m----> <a href='vscode-notebook-cell://wsl%2Bubuntu-20.04/mnt/d/Unimelb/Year%203%20Sem%202/Applied%20Data%20Science/Project%202%20Github/generic-buy-now-pay-later-project-group-19/notebooks/merchant_customers.ipynb#X65sdnNjb2RlLXJlbW90ZQ%3D%3D?line=2'>3</a>\u001b[0m merchant_customer_avg_income[\u001b[39m'\u001b[39;49m\u001b[39mavg_cust_personal_inc\u001b[39;49m\u001b[39m'\u001b[39;49m]\u001b[39m.\u001b[39;49mshow()\n",
      "\u001b[0;31mTypeError\u001b[0m: 'Column' object is not callable"
     ]
    }
   ],
   "source": [
    "import seaborn as sns\n",
    "\n",
    "merchant_customer_avg_income.toPandas"
   ]
  },
  {
   "cell_type": "markdown",
   "metadata": {},
   "source": [
    "This will be the overall average customer personal income for each merchant"
   ]
  },
  {
   "cell_type": "code",
   "execution_count": 38,
   "metadata": {},
   "outputs": [],
   "source": [
    "merchant_ranking = merchant_customer_avg_income.groupby('merchant_abn')\\\n",
    "                                                .agg(\n",
    "                                                    {\n",
    "                                                        'avg_cust_personal_inc': 'mean'\n",
    "                                                    }\n",
    "                                                )\\\n",
    "                                                .withColumnRenamed('avg(avg_cust_personal_inc)', 'avg_customer_income')"
   ]
  },
  {
   "cell_type": "code",
   "execution_count": 39,
   "metadata": {},
   "outputs": [
    {
     "name": "stderr",
     "output_type": "stream",
     "text": [
      "                                                                                \r"
     ]
    },
    {
     "name": "stdout",
     "output_type": "stream",
     "text": [
      "22/09/15 00:43:57 WARN RowBasedKeyValueBatch: Calling spill() on RowBasedKeyValueBatch. Will not spill but return 0.\n",
      "22/09/15 00:43:57 WARN RowBasedKeyValueBatch: Calling spill() on RowBasedKeyValueBatch. Will not spill but return 0.\n",
      "22/09/15 00:43:57 WARN RowBasedKeyValueBatch: Calling spill() on RowBasedKeyValueBatch. Will not spill but return 0.\n",
      "22/09/15 00:43:57 WARN RowBasedKeyValueBatch: Calling spill() on RowBasedKeyValueBatch. Will not spill but return 0.\n",
      "22/09/15 00:43:57 WARN RowBasedKeyValueBatch: Calling spill() on RowBasedKeyValueBatch. Will not spill but return 0.\n",
      "22/09/15 00:43:57 WARN RowBasedKeyValueBatch: Calling spill() on RowBasedKeyValueBatch. Will not spill but return 0.\n",
      "22/09/15 00:43:57 WARN RowBasedKeyValueBatch: Calling spill() on RowBasedKeyValueBatch. Will not spill but return 0.\n",
      "22/09/15 00:43:57 WARN RowBasedKeyValueBatch: Calling spill() on RowBasedKeyValueBatch. Will not spill but return 0.\n",
      "22/09/15 00:43:57 WARN RowBasedKeyValueBatch: Calling spill() on RowBasedKeyValueBatch. Will not spill but return 0.\n",
      "22/09/15 00:43:57 WARN RowBasedKeyValueBatch: Calling spill() on RowBasedKeyValueBatch. Will not spill but return 0.\n",
      "22/09/15 00:43:57 WARN RowBasedKeyValueBatch: Calling spill() on RowBasedKeyValueBatch. Will not spill but return 0.\n",
      "22/09/15 00:43:57 WARN RowBasedKeyValueBatch: Calling spill() on RowBasedKeyValueBatch. Will not spill but return 0.\n",
      "22/09/15 00:43:57 WARN RowBasedKeyValueBatch: Calling spill() on RowBasedKeyValueBatch. Will not spill but return 0.\n",
      "22/09/15 00:43:57 WARN RowBasedKeyValueBatch: Calling spill() on RowBasedKeyValueBatch. Will not spill but return 0.\n",
      "22/09/15 00:43:57 WARN RowBasedKeyValueBatch: Calling spill() on RowBasedKeyValueBatch. Will not spill but return 0.\n",
      "22/09/15 00:43:57 WARN RowBasedKeyValueBatch: Calling spill() on RowBasedKeyValueBatch. Will not spill but return 0.\n",
      "22/09/15 00:43:57 WARN RowBasedKeyValueBatch: Calling spill() on RowBasedKeyValueBatch. Will not spill but return 0.\n",
      "22/09/15 00:43:57 WARN RowBasedKeyValueBatch: Calling spill() on RowBasedKeyValueBatch. Will not spill but return 0.\n",
      "22/09/15 00:43:57 WARN RowBasedKeyValueBatch: Calling spill() on RowBasedKeyValueBatch. Will not spill but return 0.\n",
      "22/09/15 00:43:57 WARN RowBasedKeyValueBatch: Calling spill() on RowBasedKeyValueBatch. Will not spill but return 0.\n",
      "22/09/15 00:43:57 WARN RowBasedKeyValueBatch: Calling spill() on RowBasedKeyValueBatch. Will not spill but return 0.\n",
      "22/09/15 00:43:57 WARN RowBasedKeyValueBatch: Calling spill() on RowBasedKeyValueBatch. Will not spill but return 0.\n",
      "22/09/15 00:43:57 WARN RowBasedKeyValueBatch: Calling spill() on RowBasedKeyValueBatch. Will not spill but return 0.\n",
      "22/09/15 00:43:58 WARN RowBasedKeyValueBatch: Calling spill() on RowBasedKeyValueBatch. Will not spill but return 0.\n"
     ]
    },
    {
     "name": "stderr",
     "output_type": "stream",
     "text": [
      "[Stage 418:>                                                      (0 + 12) / 13]\r"
     ]
    },
    {
     "name": "stdout",
     "output_type": "stream",
     "text": [
      "22/09/15 00:43:58 WARN RowBasedKeyValueBatch: Calling spill() on RowBasedKeyValueBatch. Will not spill but return 0.\n",
      "22/09/15 00:43:58 WARN RowBasedKeyValueBatch: Calling spill() on RowBasedKeyValueBatch. Will not spill but return 0.\n",
      "22/09/15 00:43:58 WARN RowBasedKeyValueBatch: Calling spill() on RowBasedKeyValueBatch. Will not spill but return 0.\n",
      "22/09/15 00:43:58 WARN RowBasedKeyValueBatch: Calling spill() on RowBasedKeyValueBatch. Will not spill but return 0.\n",
      "22/09/15 00:43:58 WARN RowBasedKeyValueBatch: Calling spill() on RowBasedKeyValueBatch. Will not spill but return 0.\n",
      "22/09/15 00:43:58 WARN RowBasedKeyValueBatch: Calling spill() on RowBasedKeyValueBatch. Will not spill but return 0.\n",
      "22/09/15 00:43:58 WARN RowBasedKeyValueBatch: Calling spill() on RowBasedKeyValueBatch. Will not spill but return 0.\n",
      "22/09/15 00:43:58 WARN RowBasedKeyValueBatch: Calling spill() on RowBasedKeyValueBatch. Will not spill but return 0.\n",
      "22/09/15 00:43:58 WARN RowBasedKeyValueBatch: Calling spill() on RowBasedKeyValueBatch. Will not spill but return 0.\n",
      "22/09/15 00:43:58 WARN RowBasedKeyValueBatch: Calling spill() on RowBasedKeyValueBatch. Will not spill but return 0.\n",
      "22/09/15 00:43:58 WARN RowBasedKeyValueBatch: Calling spill() on RowBasedKeyValueBatch. Will not spill but return 0.\n",
      "22/09/15 00:43:58 WARN RowBasedKeyValueBatch: Calling spill() on RowBasedKeyValueBatch. Will not spill but return 0.\n",
      "22/09/15 00:43:59 WARN RowBasedKeyValueBatch: Calling spill() on RowBasedKeyValueBatch. Will not spill but return 0.\n",
      "22/09/15 00:43:59 WARN RowBasedKeyValueBatch: Calling spill() on RowBasedKeyValueBatch. Will not spill but return 0.\n",
      "22/09/15 00:43:59 WARN RowBasedKeyValueBatch: Calling spill() on RowBasedKeyValueBatch. Will not spill but return 0.\n",
      "22/09/15 00:43:59 WARN RowBasedKeyValueBatch: Calling spill() on RowBasedKeyValueBatch. Will not spill but return 0.\n",
      "22/09/15 00:43:59 WARN RowBasedKeyValueBatch: Calling spill() on RowBasedKeyValueBatch. Will not spill but return 0.\n",
      "22/09/15 00:43:59 WARN RowBasedKeyValueBatch: Calling spill() on RowBasedKeyValueBatch. Will not spill but return 0.\n",
      "22/09/15 00:43:59 WARN RowBasedKeyValueBatch: Calling spill() on RowBasedKeyValueBatch. Will not spill but return 0.\n",
      "22/09/15 00:43:59 WARN RowBasedKeyValueBatch: Calling spill() on RowBasedKeyValueBatch. Will not spill but return 0.\n",
      "22/09/15 00:44:00 WARN RowBasedKeyValueBatch: Calling spill() on RowBasedKeyValueBatch. Will not spill but return 0.\n",
      "22/09/15 00:44:00 WARN RowBasedKeyValueBatch: Calling spill() on RowBasedKeyValueBatch. Will not spill but return 0.\n",
      "22/09/15 00:44:00 WARN RowBasedKeyValueBatch: Calling spill() on RowBasedKeyValueBatch. Will not spill but return 0.\n",
      "22/09/15 00:44:00 WARN RowBasedKeyValueBatch: Calling spill() on RowBasedKeyValueBatch. Will not spill but return 0.\n"
     ]
    },
    {
     "name": "stderr",
     "output_type": "stream",
     "text": [
      "                                                                                \r"
     ]
    },
    {
     "name": "stdout",
     "output_type": "stream",
     "text": [
      "22/09/15 00:44:08 WARN RowBasedKeyValueBatch: Calling spill() on RowBasedKeyValueBatch. Will not spill but return 0.\n",
      "22/09/15 00:44:08 WARN RowBasedKeyValueBatch: Calling spill() on RowBasedKeyValueBatch. Will not spill but return 0.\n",
      "22/09/15 00:44:08 WARN RowBasedKeyValueBatch: Calling spill() on RowBasedKeyValueBatch. Will not spill but return 0.\n",
      "22/09/15 00:44:08 WARN RowBasedKeyValueBatch: Calling spill() on RowBasedKeyValueBatch. Will not spill but return 0.\n",
      "22/09/15 00:44:08 WARN RowBasedKeyValueBatch: Calling spill() on RowBasedKeyValueBatch. Will not spill but return 0.\n",
      "22/09/15 00:44:08 WARN RowBasedKeyValueBatch: Calling spill() on RowBasedKeyValueBatch. Will not spill but return 0.\n",
      "22/09/15 00:44:08 WARN RowBasedKeyValueBatch: Calling spill() on RowBasedKeyValueBatch. Will not spill but return 0.\n",
      "22/09/15 00:44:08 WARN RowBasedKeyValueBatch: Calling spill() on RowBasedKeyValueBatch. Will not spill but return 0.\n",
      "22/09/15 00:44:08 WARN RowBasedKeyValueBatch: Calling spill() on RowBasedKeyValueBatch. Will not spill but return 0.\n",
      "22/09/15 00:44:08 WARN RowBasedKeyValueBatch: Calling spill() on RowBasedKeyValueBatch. Will not spill but return 0.\n",
      "22/09/15 00:44:08 WARN RowBasedKeyValueBatch: Calling spill() on RowBasedKeyValueBatch. Will not spill but return 0.\n",
      "22/09/15 00:44:08 WARN RowBasedKeyValueBatch: Calling spill() on RowBasedKeyValueBatch. Will not spill but return 0.\n",
      "22/09/15 00:44:08 WARN RowBasedKeyValueBatch: Calling spill() on RowBasedKeyValueBatch. Will not spill but return 0.\n",
      "22/09/15 00:44:08 WARN RowBasedKeyValueBatch: Calling spill() on RowBasedKeyValueBatch. Will not spill but return 0.\n",
      "22/09/15 00:44:08 WARN RowBasedKeyValueBatch: Calling spill() on RowBasedKeyValueBatch. Will not spill but return 0.\n",
      "22/09/15 00:44:08 WARN RowBasedKeyValueBatch: Calling spill() on RowBasedKeyValueBatch. Will not spill but return 0.\n",
      "22/09/15 00:44:08 WARN RowBasedKeyValueBatch: Calling spill() on RowBasedKeyValueBatch. Will not spill but return 0.\n",
      "22/09/15 00:44:08 WARN RowBasedKeyValueBatch: Calling spill() on RowBasedKeyValueBatch. Will not spill but return 0.\n",
      "22/09/15 00:44:08 WARN RowBasedKeyValueBatch: Calling spill() on RowBasedKeyValueBatch. Will not spill but return 0.\n",
      "22/09/15 00:44:08 WARN RowBasedKeyValueBatch: Calling spill() on RowBasedKeyValueBatch. Will not spill but return 0.\n",
      "22/09/15 00:44:08 WARN RowBasedKeyValueBatch: Calling spill() on RowBasedKeyValueBatch. Will not spill but return 0.\n",
      "22/09/15 00:44:08 WARN RowBasedKeyValueBatch: Calling spill() on RowBasedKeyValueBatch. Will not spill but return 0.\n",
      "22/09/15 00:44:08 WARN RowBasedKeyValueBatch: Calling spill() on RowBasedKeyValueBatch. Will not spill but return 0.\n",
      "22/09/15 00:44:08 WARN RowBasedKeyValueBatch: Calling spill() on RowBasedKeyValueBatch. Will not spill but return 0.\n"
     ]
    },
    {
     "name": "stderr",
     "output_type": "stream",
     "text": [
      "[Stage 454:>                                                      (0 + 12) / 13]\r"
     ]
    },
    {
     "name": "stdout",
     "output_type": "stream",
     "text": [
      "22/09/15 00:44:09 WARN RowBasedKeyValueBatch: Calling spill() on RowBasedKeyValueBatch. Will not spill but return 0.\n",
      "22/09/15 00:44:09 WARN RowBasedKeyValueBatch: Calling spill() on RowBasedKeyValueBatch. Will not spill but return 0.\n",
      "22/09/15 00:44:09 WARN RowBasedKeyValueBatch: Calling spill() on RowBasedKeyValueBatch. Will not spill but return 0.\n",
      "22/09/15 00:44:09 WARN RowBasedKeyValueBatch: Calling spill() on RowBasedKeyValueBatch. Will not spill but return 0.\n",
      "22/09/15 00:44:09 WARN RowBasedKeyValueBatch: Calling spill() on RowBasedKeyValueBatch. Will not spill but return 0.\n",
      "22/09/15 00:44:09 WARN RowBasedKeyValueBatch: Calling spill() on RowBasedKeyValueBatch. Will not spill but return 0.\n",
      "22/09/15 00:44:09 WARN RowBasedKeyValueBatch: Calling spill() on RowBasedKeyValueBatch. Will not spill but return 0.\n",
      "22/09/15 00:44:09 WARN RowBasedKeyValueBatch: Calling spill() on RowBasedKeyValueBatch. Will not spill but return 0.\n",
      "22/09/15 00:44:09 WARN RowBasedKeyValueBatch: Calling spill() on RowBasedKeyValueBatch. Will not spill but return 0.\n",
      "22/09/15 00:44:09 WARN RowBasedKeyValueBatch: Calling spill() on RowBasedKeyValueBatch. Will not spill but return 0.\n",
      "22/09/15 00:44:09 WARN RowBasedKeyValueBatch: Calling spill() on RowBasedKeyValueBatch. Will not spill but return 0.\n",
      "22/09/15 00:44:09 WARN RowBasedKeyValueBatch: Calling spill() on RowBasedKeyValueBatch. Will not spill but return 0.\n",
      "22/09/15 00:44:10 WARN RowBasedKeyValueBatch: Calling spill() on RowBasedKeyValueBatch. Will not spill but return 0.\n",
      "22/09/15 00:44:10 WARN RowBasedKeyValueBatch: Calling spill() on RowBasedKeyValueBatch. Will not spill but return 0.\n",
      "22/09/15 00:44:10 WARN RowBasedKeyValueBatch: Calling spill() on RowBasedKeyValueBatch. Will not spill but return 0.\n",
      "22/09/15 00:44:10 WARN RowBasedKeyValueBatch: Calling spill() on RowBasedKeyValueBatch. Will not spill but return 0.\n",
      "22/09/15 00:44:10 WARN RowBasedKeyValueBatch: Calling spill() on RowBasedKeyValueBatch. Will not spill but return 0.\n",
      "22/09/15 00:44:10 WARN RowBasedKeyValueBatch: Calling spill() on RowBasedKeyValueBatch. Will not spill but return 0.\n",
      "22/09/15 00:44:10 WARN RowBasedKeyValueBatch: Calling spill() on RowBasedKeyValueBatch. Will not spill but return 0.\n",
      "22/09/15 00:44:10 WARN RowBasedKeyValueBatch: Calling spill() on RowBasedKeyValueBatch. Will not spill but return 0.\n",
      "22/09/15 00:44:10 WARN RowBasedKeyValueBatch: Calling spill() on RowBasedKeyValueBatch. Will not spill but return 0.\n"
     ]
    },
    {
     "name": "stderr",
     "output_type": "stream",
     "text": [
      "                                                                                \r"
     ]
    },
    {
     "data": {
      "text/html": [
       "<table border='1'>\n",
       "<tr><th>merchant_abn</th><th>avg_customer_income</th></tr>\n",
       "<tr><td>12516851436</td><td>834.3608527735312</td></tr>\n",
       "<tr><td>15613631617</td><td>784.2667954850245</td></tr>\n",
       "<tr><td>15700338102</td><td>756.9344023323616</td></tr>\n",
       "<tr><td>10648956813</td><td>833.678194645838</td></tr>\n",
       "<tr><td>11944993446</td><td>795.3376453694681</td></tr>\n",
       "<tr><td>14148282104</td><td>809.1637892244471</td></tr>\n",
       "<tr><td>10346855916</td><td>780.0</td></tr>\n",
       "<tr><td>10714068705</td><td>801.6457184884257</td></tr>\n",
       "<tr><td>13467303030</td><td>514.1818181818181</td></tr>\n",
       "<tr><td>14315147591</td><td>684.7888888888889</td></tr>\n",
       "<tr><td>16334864366</td><td>912.9107583774252</td></tr>\n",
       "<tr><td>11076688542</td><td>761.1838624338625</td></tr>\n",
       "<tr><td>15293888435</td><td>null</td></tr>\n",
       "<tr><td>15514494276</td><td>793.7857142857143</td></tr>\n",
       "<tr><td>10023283211</td><td>796.814749274166</td></tr>\n",
       "<tr><td>14316652139</td><td>800.1892618469242</td></tr>\n",
       "<tr><td>14081759429</td><td>764.9950539952791</td></tr>\n",
       "<tr><td>15253672771</td><td>967.4132534695277</td></tr>\n",
       "<tr><td>14809247463</td><td>783.3342540480802</td></tr>\n",
       "<tr><td>11024352823</td><td>805.7627988191407</td></tr>\n",
       "</table>\n",
       "only showing top 20 rows\n"
      ],
      "text/plain": [
       "+------------+-------------------+\n",
       "|merchant_abn|avg_customer_income|\n",
       "+------------+-------------------+\n",
       "| 12516851436|  834.3608527735312|\n",
       "| 15613631617|  784.2667954850245|\n",
       "| 15700338102|  756.9344023323616|\n",
       "| 10648956813|   833.678194645838|\n",
       "| 11944993446|  795.3376453694681|\n",
       "| 14148282104|  809.1637892244471|\n",
       "| 10346855916|              780.0|\n",
       "| 10714068705|  801.6457184884257|\n",
       "| 13467303030|  514.1818181818181|\n",
       "| 14315147591|  684.7888888888889|\n",
       "| 16334864366|  912.9107583774252|\n",
       "| 11076688542|  761.1838624338625|\n",
       "| 15293888435|               null|\n",
       "| 15514494276|  793.7857142857143|\n",
       "| 10023283211|   796.814749274166|\n",
       "| 14316652139|  800.1892618469242|\n",
       "| 14081759429|  764.9950539952791|\n",
       "| 15253672771|  967.4132534695277|\n",
       "| 14809247463|  783.3342540480802|\n",
       "| 11024352823|  805.7627988191407|\n",
       "+------------+-------------------+\n",
       "only showing top 20 rows"
      ]
     },
     "execution_count": 39,
     "metadata": {},
     "output_type": "execute_result"
    }
   ],
   "source": [
    "merchant_ranking"
   ]
  }
 ],
 "metadata": {
  "kernelspec": {
   "display_name": "Python 3.8.10 64-bit",
   "language": "python",
   "name": "python3"
  },
  "language_info": {
   "codemirror_mode": {
    "name": "ipython",
    "version": 3
   },
   "file_extension": ".py",
   "mimetype": "text/x-python",
   "name": "python",
   "nbconvert_exporter": "python",
   "pygments_lexer": "ipython3",
   "version": "3.8.10"
  },
  "orig_nbformat": 4,
  "vscode": {
   "interpreter": {
    "hash": "31f2aee4e71d21fbe5cf8b01ff0e069b9275f58929596ceb00d14d90e3e16cd6"
   }
  }
 },
 "nbformat": 4,
 "nbformat_minor": 2
}
