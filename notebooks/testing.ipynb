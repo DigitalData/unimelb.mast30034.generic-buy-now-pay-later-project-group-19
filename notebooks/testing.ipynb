{
 "cells": [
  {
   "cell_type": "code",
   "execution_count": 1,
   "metadata": {},
   "outputs": [
    {
     "name": "stderr",
     "output_type": "stream",
     "text": [
      "/usr/lib/python3/dist-packages/requests/__init__.py:89: RequestsDependencyWarning: urllib3 (1.26.12) or chardet (3.0.4) doesn't match a supported version!\n",
      "  warnings.warn(\"urllib3 ({}) or chardet ({}) doesn't match a supported \"\n"
     ]
    },
    {
     "name": "stdout",
     "output_type": "stream",
     "text": [
      "22/09/19 15:53:48 WARN Utils: Your hostname, DESKTOP-IK201ES resolves to a loopback address: 127.0.1.1; using 172.29.74.252 instead (on interface eth0)\n",
      "22/09/19 15:53:48 WARN Utils: Set SPARK_LOCAL_IP if you need to bind to another address\n"
     ]
    },
    {
     "name": "stderr",
     "output_type": "stream",
     "text": [
      "Setting default log level to \"WARN\".\n",
      "To adjust logging level use sc.setLogLevel(newLevel). For SparkR, use setLogLevel(newLevel).\n"
     ]
    },
    {
     "name": "stdout",
     "output_type": "stream",
     "text": [
      "22/09/19 15:53:50 WARN NativeCodeLoader: Unable to load native-hadoop library for your platform... using builtin-java classes where applicable\n",
      "Welcome to\n",
      "      ____              __\n",
      "     / __/__  ___ _____/ /__\n",
      "    _\\ \\/ _ \\/ _ `/ __/  '_/\n",
      "   /__ / .__/\\_,_/_/ /_/\\_\\   version 3.3.0\n",
      "      /_/\n",
      "\n",
      "Using Python version 3.8.10 (default, Jun 22 2022 20:18:18)\n",
      "Spark context Web UI available at http://172.29.74.252:4040\n",
      "Spark context available as 'sc' (master = local[*], app id = local-1663566831214).\n",
      "SparkSession available as 'spark'.\n",
      "22/09/19 15:53:53 WARN SparkSession: Using an existing Spark session; only runtime SQL configurations will take effect.\n"
     ]
    }
   ],
   "source": [
    "import pandas as pd\n",
    "import numpy as np\n",
    "import io\n",
    "import requests\n",
    "import os\n",
    "\n",
    "# Set working directory\n",
    "if not \"/data/tables\" in os.getcwd():\n",
    "    os.chdir(\"../data/tables\")\n",
    "\n",
    "from pyspark.sql import SparkSession\n",
    "from pyspark.shell import spark\n",
    "from pyspark.sql import SQLContext\n",
    "import pyspark.sql.functions as F\n",
    "import matplotlib.pyplot as plt\n",
    "from pyspark.sql.types import IntegerType\n",
    "from pyspark.sql.functions import countDistinct\n",
    "\n",
    "%matplotlib inline\n",
    "\n",
    "    \n",
    "spark = (\n",
    "    SparkSession.builder.appName(\"MAST30034 Project 2\")\n",
    "    .config(\"spark.sql.repl.eagerEval.enabled\", True) \n",
    "    .config(\"spark.sql.parquet.cacheMetadata\", \"true\")\n",
    "    .config(\"spark.sql.session.timeZone\", \"Etc/UTC\")\n",
    "    .config(\"spark.driver.memory\", \"4g\")\n",
    "    .config(\"spark.sql.broadcastTimeout\", -1)\n",
    "    .getOrCreate()\n",
    ")"
   ]
  },
  {
   "cell_type": "code",
   "execution_count": 10,
   "metadata": {},
   "outputs": [],
   "source": [
    "consumer_fraud = spark.read.csv(\"consumer_fraud_probability.csv\", header='True')"
   ]
  },
  {
   "cell_type": "code",
   "execution_count": 11,
   "metadata": {},
   "outputs": [
    {
     "data": {
      "text/html": [
       "<table border='1'>\n",
       "<tr><th>user_id</th><th>order_datetime</th><th>fraud_probability</th></tr>\n",
       "<tr><td>6228</td><td>2021-12-19</td><td>97.6298077657765</td></tr>\n",
       "<tr><td>21419</td><td>2021-12-10</td><td>99.24738020302328</td></tr>\n",
       "<tr><td>5606</td><td>2021-10-17</td><td>84.05825045251777</td></tr>\n",
       "<tr><td>3101</td><td>2021-04-17</td><td>91.42192091901347</td></tr>\n",
       "<tr><td>22239</td><td>2021-10-19</td><td>94.70342477508035</td></tr>\n",
       "<tr><td>16556</td><td>2022-02-20</td><td>89.65663294494827</td></tr>\n",
       "<tr><td>10278</td><td>2021-09-28</td><td>83.59136689427714</td></tr>\n",
       "<tr><td>15790</td><td>2021-12-30</td><td>71.77065889280253</td></tr>\n",
       "<tr><td>5233</td><td>2021-08-29</td><td>85.87123303878818</td></tr>\n",
       "<tr><td>230</td><td>2021-08-28</td><td>86.28328808934151</td></tr>\n",
       "<tr><td>13601</td><td>2021-12-26</td><td>83.13696487489679</td></tr>\n",
       "<tr><td>6383</td><td>2021-09-15</td><td>66.2676451623754</td></tr>\n",
       "<tr><td>3513</td><td>2022-02-27</td><td>75.16981192247916</td></tr>\n",
       "<tr><td>18658</td><td>2021-10-19</td><td>82.98609082999361</td></tr>\n",
       "<tr><td>5965</td><td>2021-11-14</td><td>69.37164467869053</td></tr>\n",
       "<tr><td>18714</td><td>2021-11-14</td><td>83.78813794627237</td></tr>\n",
       "<tr><td>22957</td><td>2022-02-12</td><td>82.79065699075498</td></tr>\n",
       "<tr><td>20118</td><td>2021-09-05</td><td>80.34030486265003</td></tr>\n",
       "<tr><td>6436</td><td>2021-12-24</td><td>84.81618344606828</td></tr>\n",
       "<tr><td>17900</td><td>2022-02-25</td><td>92.73262811161372</td></tr>\n",
       "</table>\n",
       "only showing top 20 rows\n"
      ],
      "text/plain": [
       "+-------+--------------+-----------------+\n",
       "|user_id|order_datetime|fraud_probability|\n",
       "+-------+--------------+-----------------+\n",
       "|   6228|    2021-12-19| 97.6298077657765|\n",
       "|  21419|    2021-12-10|99.24738020302328|\n",
       "|   5606|    2021-10-17|84.05825045251777|\n",
       "|   3101|    2021-04-17|91.42192091901347|\n",
       "|  22239|    2021-10-19|94.70342477508035|\n",
       "|  16556|    2022-02-20|89.65663294494827|\n",
       "|  10278|    2021-09-28|83.59136689427714|\n",
       "|  15790|    2021-12-30|71.77065889280253|\n",
       "|   5233|    2021-08-29|85.87123303878818|\n",
       "|    230|    2021-08-28|86.28328808934151|\n",
       "|  13601|    2021-12-26|83.13696487489679|\n",
       "|   6383|    2021-09-15| 66.2676451623754|\n",
       "|   3513|    2022-02-27|75.16981192247916|\n",
       "|  18658|    2021-10-19|82.98609082999361|\n",
       "|   5965|    2021-11-14|69.37164467869053|\n",
       "|  18714|    2021-11-14|83.78813794627237|\n",
       "|  22957|    2022-02-12|82.79065699075498|\n",
       "|  20118|    2021-09-05|80.34030486265003|\n",
       "|   6436|    2021-12-24|84.81618344606828|\n",
       "|  17900|    2022-02-25|92.73262811161372|\n",
       "+-------+--------------+-----------------+\n",
       "only showing top 20 rows"
      ]
     },
     "execution_count": 11,
     "metadata": {},
     "output_type": "execute_result"
    }
   ],
   "source": [
    "consumer_fraud"
   ]
  },
  {
   "cell_type": "code",
   "execution_count": 12,
   "metadata": {},
   "outputs": [],
   "source": [
    "merchant_fraud = spark.read.csv(\"merchant_fraud_probability.csv\", header='True')"
   ]
  },
  {
   "cell_type": "code",
   "execution_count": 13,
   "metadata": {},
   "outputs": [
    {
     "data": {
      "text/html": [
       "<table border='1'>\n",
       "<tr><th>merchant_abn</th><th>order_datetime</th><th>fraud_probability</th></tr>\n",
       "<tr><td>19492220327</td><td>2021-11-28</td><td>44.403658647495355</td></tr>\n",
       "<tr><td>31334588839</td><td>2021-10-02</td><td>42.75530083865367</td></tr>\n",
       "<tr><td>19492220327</td><td>2021-12-22</td><td>38.867790051131095</td></tr>\n",
       "<tr><td>82999039227</td><td>2021-12-19</td><td>94.1347004808891</td></tr>\n",
       "<tr><td>90918180829</td><td>2021-09-02</td><td>43.32551731714902</td></tr>\n",
       "<tr><td>31334588839</td><td>2021-12-26</td><td>38.36165958070444</td></tr>\n",
       "<tr><td>23686790459</td><td>2021-12-10</td><td>79.4543441508535</td></tr>\n",
       "<tr><td>14827550074</td><td>2021-11-26</td><td>46.45775596795885</td></tr>\n",
       "<tr><td>31334588839</td><td>2021-11-26</td><td>36.20971272078342</td></tr>\n",
       "<tr><td>19492220327</td><td>2021-12-18</td><td>33.819672154331755</td></tr>\n",
       "<tr><td>31334588839</td><td>2021-11-29</td><td>35.386213297375505</td></tr>\n",
       "<tr><td>14827550074</td><td>2021-12-05</td><td>43.85519494291279</td></tr>\n",
       "<tr><td>19492220327</td><td>2021-11-18</td><td>32.193139919494016</td></tr>\n",
       "<tr><td>93260930990</td><td>2021-11-30</td><td>37.87197154172081</td></tr>\n",
       "<tr><td>90918180829</td><td>2021-09-16</td><td>36.62001350882694</td></tr>\n",
       "<tr><td>83199298021</td><td>2022-02-27</td><td>26.025158824861773</td></tr>\n",
       "<tr><td>83199298021</td><td>2022-02-17</td><td>25.77998392496447</td></tr>\n",
       "<tr><td>94311056026</td><td>2021-12-16</td><td>30.85150199484772</td></tr>\n",
       "<tr><td>97217894162</td><td>2022-01-21</td><td>34.94582650821017</td></tr>\n",
       "<tr><td>43083074133</td><td>2021-12-18</td><td>48.66890735193894</td></tr>\n",
       "</table>\n",
       "only showing top 20 rows\n"
      ],
      "text/plain": [
       "+------------+--------------+------------------+\n",
       "|merchant_abn|order_datetime| fraud_probability|\n",
       "+------------+--------------+------------------+\n",
       "| 19492220327|    2021-11-28|44.403658647495355|\n",
       "| 31334588839|    2021-10-02| 42.75530083865367|\n",
       "| 19492220327|    2021-12-22|38.867790051131095|\n",
       "| 82999039227|    2021-12-19|  94.1347004808891|\n",
       "| 90918180829|    2021-09-02| 43.32551731714902|\n",
       "| 31334588839|    2021-12-26| 38.36165958070444|\n",
       "| 23686790459|    2021-12-10|  79.4543441508535|\n",
       "| 14827550074|    2021-11-26| 46.45775596795885|\n",
       "| 31334588839|    2021-11-26| 36.20971272078342|\n",
       "| 19492220327|    2021-12-18|33.819672154331755|\n",
       "| 31334588839|    2021-11-29|35.386213297375505|\n",
       "| 14827550074|    2021-12-05| 43.85519494291279|\n",
       "| 19492220327|    2021-11-18|32.193139919494016|\n",
       "| 93260930990|    2021-11-30| 37.87197154172081|\n",
       "| 90918180829|    2021-09-16| 36.62001350882694|\n",
       "| 83199298021|    2022-02-27|26.025158824861773|\n",
       "| 83199298021|    2022-02-17| 25.77998392496447|\n",
       "| 94311056026|    2021-12-16| 30.85150199484772|\n",
       "| 97217894162|    2022-01-21| 34.94582650821017|\n",
       "| 43083074133|    2021-12-18| 48.66890735193894|\n",
       "+------------+--------------+------------------+\n",
       "only showing top 20 rows"
      ]
     },
     "execution_count": 13,
     "metadata": {},
     "output_type": "execute_result"
    }
   ],
   "source": [
    "merchant_fraud"
   ]
  }
 ],
 "metadata": {
  "kernelspec": {
   "display_name": "Python 3.8.10 64-bit",
   "language": "python",
   "name": "python3"
  },
  "language_info": {
   "codemirror_mode": {
    "name": "ipython",
    "version": 3
   },
   "file_extension": ".py",
   "mimetype": "text/x-python",
   "name": "python",
   "nbconvert_exporter": "python",
   "pygments_lexer": "ipython3",
   "version": "3.8.10"
  },
  "orig_nbformat": 4,
  "vscode": {
   "interpreter": {
    "hash": "31f2aee4e71d21fbe5cf8b01ff0e069b9275f58929596ceb00d14d90e3e16cd6"
   }
  }
 },
 "nbformat": 4,
 "nbformat_minor": 2
}
