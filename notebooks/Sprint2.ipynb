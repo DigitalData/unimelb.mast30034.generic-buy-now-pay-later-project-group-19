{
 "cells": [
  {
   "cell_type": "markdown",
   "id": "a691db85",
   "metadata": {},
   "source": [
    "# Sprint 2 Stand Up\n",
    "\n",
    "Short summary of this week's checkpoints."
   ]
  },
  {
   "cell_type": "code",
   "execution_count": 1,
   "id": "722032aa",
   "metadata": {},
   "outputs": [
    {
     "name": "stdout",
     "output_type": "stream",
     "text": [
      "Welcome to\n",
      "      ____              __\n",
      "     / __/__  ___ _____/ /__\n",
      "    _\\ \\/ _ \\/ _ `/ __/  '_/\n",
      "   /__ / .__/\\_,_/_/ /_/\\_\\   version 3.1.2\n",
      "      /_/\n",
      "\n",
      "Using Python version 3.7.4 (default, Aug 13 2019 15:17:50)\n",
      "Spark context Web UI available at http://169.254.224.157:4041\n",
      "Spark context available as 'sc' (master = local[*], app id = local-1662483539820).\n",
      "SparkSession available as 'spark'.\n"
     ]
    }
   ],
   "source": [
    "import pandas as pd\n",
    "import numpy as np\n",
    "import os\n",
    "\n",
    "# Set working directory\n",
    "if not \"/data/tables\" in os.getcwd():\n",
    "    os.chdir(\"../data/tables\")\n",
    "\n",
    "from pyspark.sql import SparkSession\n",
    "from pyspark.shell import spark\n",
    "from pyspark.sql import SQLContext\n",
    "import pyspark.sql.functions as F\n",
    "import matplotlib.pyplot as plt\n",
    "from pyspark.sql.types import IntegerType\n",
    "\n",
    "%matplotlib inline\n",
    "\n",
    "    \n",
    "spark = (\n",
    "    SparkSession.builder.appName(\"MAST30034 Project 2\")\n",
    "    .config(\"spark.sql.repl.eagerEval.enabled\", True) \n",
    "    .config(\"spark.sql.parquet.cacheMetadata\", \"true\")\n",
    "    .config(\"spark.sql.session.timeZone\", \"Etc/UTC\")\n",
    "    .config(\"spark.driver.memory\", \"4g\")\n",
    "    .config(\"spark.sql.broadcastTimeout\", -1)\n",
    "    .getOrCreate()\n",
    ")"
   ]
  },
  {
   "cell_type": "markdown",
   "id": "cd9444a9",
   "metadata": {},
   "source": [
    "### Post Codes Discrepancies When Joining with ABS Datasets"
   ]
  },
  {
   "cell_type": "code",
   "execution_count": 28,
   "id": "810dd4bc",
   "metadata": {},
   "outputs": [],
   "source": [
    "postcodes = []\n",
    "\n",
    "directory = os.getcwd() + '/POA/AUS/'\n",
    "for root,dirs,files in os.walk(directory):\n",
    "    for file in files:\n",
    "        if file.endswith(\".csv\"):\n",
    "            df = pd.read_csv(directory+file)\n",
    "            poa = df['POA_CODE_2021'].apply(lambda x:int(x[3:])).to_list()\n",
    "            postcodes += poa\n",
    "            \n",
    "postcodes = set(postcodes)\n"
   ]
  },
  {
   "cell_type": "code",
   "execution_count": 29,
   "id": "4ce08e30",
   "metadata": {},
   "outputs": [],
   "source": [
    "# Check available postcodes with the consumer data postcodes\n",
    "consumer = spark.read.option(\"delimiter\", \"|\").csv('tbl_consumer.csv', header = True)\n",
    "consumer = consumer.withColumn(\"postcode\", consumer[\"postcode\"].cast(IntegerType()))"
   ]
  },
  {
   "cell_type": "code",
   "execution_count": 31,
   "id": "046a2b51",
   "metadata": {},
   "outputs": [
    {
     "name": "stdout",
     "output_type": "stream",
     "text": [
      "ABS Dataset:\n",
      "\tNumber of distinct postcodes: 2643\n",
      "\tPostcode range: 800 - 9797\n",
      "\n",
      "Consumer Dataset:\n",
      "\tNumber of distinct postcodes: 3167 \n",
      "\tPostcode range: 200 - 9999\n",
      "\n",
      "Unmatched Postcodes:\n",
      "\tNumber of unmatched postcodes: 83181 out of 499999\n",
      "\t% unmatched postcodes in consumer dataset: 16.64%\n"
     ]
    }
   ],
   "source": [
    "print(\"ABS Dataset:\")\n",
    "print(f\"\\tNumber of distinct postcodes: {len(postcodes)}\\n\\tPostcode range: {min(postcodes)} - {max(postcodes)}\")\n",
    "print(\"\\nConsumer Dataset:\")\n",
    "print(f\"\\tNumber of distinct postcodes: {consumer.select('postcode').distinct().count()}\",\n",
    "      f\"\\n\\tPostcode range: {consumer.agg({'postcode': 'min'}).collect()[0]['min(postcode)']} - {consumer.agg({'postcode': 'max'}).collect()[0]['max(postcode)']}\")\n",
    "unmatched_postcodes = consumer.where(~F.col('postcode').isin(postcodes)).count()\n",
    "print(f\"\\nUnmatched Postcodes:\\n\\tNumber of unmatched postcodes: {unmatched_postcodes} out of {consumer.count()}\")\n",
    "print(f\"\\t% unmatched postcodes in consumer dataset: {(unmatched_postcodes/consumer.count())*100:.2f}%\")\n"
   ]
  },
  {
   "cell_type": "markdown",
   "id": "99fafbbb",
   "metadata": {},
   "source": [
    "### Solution - Reducing Granularity by Grouping based on SA2 Codes"
   ]
  },
  {
   "cell_type": "code",
   "execution_count": null,
   "id": "779bfdd6",
   "metadata": {},
   "outputs": [],
   "source": [
    "import pandas as pd\n",
    "import io\n",
    "import requests\n",
    "\n",
    "def read_url_data(url, data_format='csv'):\n",
    "    \n",
    "    content = requests.get(url).content\n",
    "    \n",
    "    if data_format == 'xlsx':\n",
    "        return pd.read_excel(content)\n",
    "        \n",
    "    else:\n",
    "        return pd.read_csv(io.StringIO(content.decode('utf-8')))\n",
    "\n",
    "\n"
   ]
  },
  {
   "cell_type": "code",
   "execution_count": null,
   "id": "d9dc304b",
   "metadata": {},
   "outputs": [],
   "source": [
    "sa2_data = read_url_data(\"https://www.abs.gov.au/statistics/standards/australian-statistical-geography-standard-asgs-edition-3/jul2021-jun2026/access-and-downloads/allocation-files/SA2_2021_AUST.xlsx\", 'xlsx')\n",
    "postcode_database = read_url_data(\"https://www.matthewproctor.com/Content/postcodes/australian_postcodes.csv\", \"csv\")\n"
   ]
  },
  {
   "cell_type": "code",
   "execution_count": null,
   "id": "eba8568f",
   "metadata": {},
   "outputs": [],
   "source": [
    "sa2_data"
   ]
  },
  {
   "cell_type": "code",
   "execution_count": null,
   "id": "69f4788d",
   "metadata": {},
   "outputs": [],
   "source": [
    "invalid_postcodes = consumer.where(~F.col('postcode').isin(postcodes))"
   ]
  },
  {
   "cell_type": "code",
   "execution_count": null,
   "id": "7b5ba766",
   "metadata": {},
   "outputs": [],
   "source": [
    "invalid_postcodes.count()"
   ]
  },
  {
   "cell_type": "markdown",
   "id": "5dee4fc8",
   "metadata": {},
   "source": [
    "Postcodes in Consumer dataset fully matched the postcodes in the database. Thus, we will have full information on SA2 code grouping on the consumer dataset."
   ]
  },
  {
   "cell_type": "code",
   "execution_count": null,
   "id": "f3b63a04",
   "metadata": {},
   "outputs": [],
   "source": [
    "postcode_sdf =spark.createDataFrame(postcode_database[['postcode', 'SA2_MAINCODE_2016']])\n",
    "new_consumer = consumer.join(postcode_sdf,\n",
    "                             consumer.postcode == postcode_sdf.postcode,\n",
    "                             how='left')"
   ]
  },
  {
   "cell_type": "markdown",
   "id": "497692c2",
   "metadata": {},
   "source": [
    "### Highly Skewed Distribution of Dollar Value in Transaction Dataset"
   ]
  },
  {
   "cell_type": "code",
   "execution_count": 2,
   "id": "275992f7",
   "metadata": {},
   "outputs": [],
   "source": [
    "transaction = spark.read.parquet(\"transactions_20210828_20220227_snapshot/\")"
   ]
  },
  {
   "cell_type": "code",
   "execution_count": 19,
   "id": "8d0de6fc",
   "metadata": {},
   "outputs": [
    {
     "data": {
      "text/html": [
       "<table border='1'>\n",
       "<tr><th>summary</th><th>user_id</th><th>merchant_abn</th><th>dollar_value</th><th>order_id</th><th>log(dollar_value)</th></tr>\n",
       "<tr><td>count</td><td>4508106</td><td>4508106</td><td>4508106</td><td>4508106</td><td>4508106</td></tr>\n",
       "<tr><td>mean</td><td>12042.986036264454</td><td>5.54256878138856E10</td><td>166.40234070352548</td><td>null</td><td>4.1058847083775625</td></tr>\n",
       "<tr><td>stddev</td><td>6950.24163490185</td><td>2.532127355935058...</td><td>520.1543793822153</td><td>null</td><td>1.4389585490910382</td></tr>\n",
       "<tr><td>min</td><td>1</td><td>10023283211</td><td>6.580118222113988E-6</td><td>000000d4-d252-4e2...</td><td>-11.931457845901827</td></tr>\n",
       "<tr><td>max</td><td>24081</td><td>99990536339</td><td>77320.86980270348</td><td>fffffca5-42ab-49d...</td><td>11.255719182647296</td></tr>\n",
       "</table>\n"
      ],
      "text/plain": [
       "+-------+------------------+--------------------+--------------------+--------------------+-------------------+\n",
       "|summary|           user_id|        merchant_abn|        dollar_value|            order_id|  log(dollar_value)|\n",
       "+-------+------------------+--------------------+--------------------+--------------------+-------------------+\n",
       "|  count|           4508106|             4508106|             4508106|             4508106|            4508106|\n",
       "|   mean|12042.986036264454| 5.54256878138856E10|  166.40234070352548|                null| 4.1058847083775625|\n",
       "| stddev|  6950.24163490185|2.532127355935058...|   520.1543793822153|                null| 1.4389585490910382|\n",
       "|    min|                 1|         10023283211|6.580118222113988E-6|000000d4-d252-4e2...|-11.931457845901827|\n",
       "|    max|             24081|         99990536339|   77320.86980270348|fffffca5-42ab-49d...| 11.255719182647296|\n",
       "+-------+------------------+--------------------+--------------------+--------------------+-------------------+"
      ]
     },
     "execution_count": 19,
     "metadata": {},
     "output_type": "execute_result"
    }
   ],
   "source": [
    "transaction.describe()"
   ]
  },
  {
   "cell_type": "code",
   "execution_count": 20,
   "id": "1a1939fc",
   "metadata": {},
   "outputs": [],
   "source": [
    "subsample = (transaction.sample(0.2)\n",
    "                        .select(['dollar_value','order_id'])\n",
    "                        .toPandas()\n",
    "            )"
   ]
  },
  {
   "cell_type": "code",
   "execution_count": 36,
   "id": "4ba0417a",
   "metadata": {},
   "outputs": [
    {
     "data": {
      "text/plain": [
       "Text(0.5, 0, 'Dollar Value')"
      ]
     },
     "execution_count": 36,
     "metadata": {},
     "output_type": "execute_result"
    },
    {
     "data": {
      "image/png": "[encoded data removed]",
      "text/plain": [
       "<Figure size 432x288 with 1 Axes>"
      ]
     },
     "metadata": {
      "needs_background": "light"
     },
     "output_type": "display_data"
    }
   ],
   "source": [
    "import seaborn as sns\n",
    "sns.histplot(subsample['dollar_value'])\n",
    "plt.title('Distribution of Dollar Value')\n",
    "plt.xlabel('Dollar Value')"
   ]
  },
  {
   "cell_type": "code",
   "execution_count": 37,
   "id": "a8a6ee03",
   "metadata": {},
   "outputs": [
    {
     "data": {
      "text/plain": [
       "Text(0.5, 0, 'log(Dollar Value)')"
      ]
     },
     "execution_count": 37,
     "metadata": {},
     "output_type": "execute_result"
    },
    {
     "data": {
      "image/png": "[encoded data removed]",
      "text/plain": [
       "<Figure size 432x288 with 1 Axes>"
      ]
     },
     "metadata": {
      "needs_background": "light"
     },
     "output_type": "display_data"
    }
   ],
   "source": [
    "sns.histplot(np.log(subsample['dollar_value']))\n",
    "plt.title('Distribution of log(Dollar Value)')\n",
    "plt.xlabel('log(Dollar Value)')"
   ]
  },
  {
   "cell_type": "markdown",
   "id": "c122b0c4",
   "metadata": {},
   "source": [
    "### Solution - Outlier Detection and Removal"
   ]
  },
  {
   "cell_type": "markdown",
   "id": "c5a6b476",
   "metadata": {},
   "source": [
    "Extremely positive-skewed data. We attempt the rule-of-thumb outlier detection method $1.5\\times IQR$ and check how much was removed."
   ]
  },
  {
   "cell_type": "code",
   "execution_count": 6,
   "id": "745bf146",
   "metadata": {},
   "outputs": [],
   "source": [
    "lwr, upr = transaction.approxQuantile('dollar_value', [0.25, 0.75], 0)\n",
    "iqr = upr - lwr\n",
    "lwr_bound = lwr - 1.5 * iqr\n",
    "upr_bound = upr + 1.5 * iqr"
   ]
  },
  {
   "cell_type": "code",
   "execution_count": 9,
   "id": "3341a8e8",
   "metadata": {},
   "outputs": [
    {
     "data": {
      "text/plain": [
       "(-160.33329721252636, 336.87985438863166)"
      ]
     },
     "execution_count": 9,
     "metadata": {},
     "output_type": "execute_result"
    }
   ],
   "source": [
    "(lwr_bound, upr_bound)"
   ]
  },
  {
   "cell_type": "markdown",
   "id": "5c2f2418",
   "metadata": {},
   "source": [
    "Not a good outlier detection range (unrealistic lower bound, highly plausible upper bound), likely due to the highly skewed distribution of `dollar_value`."
   ]
  },
  {
   "cell_type": "code",
   "execution_count": 11,
   "id": "86ec2dbc",
   "metadata": {},
   "outputs": [],
   "source": [
    "transaction = transaction.withColumn('log(dollar_value)',\n",
    "                                     F.log(F.col('dollar_value')))"
   ]
  },
  {
   "cell_type": "code",
   "execution_count": 12,
   "id": "e2b35716",
   "metadata": {},
   "outputs": [],
   "source": [
    "lwr, upr = transaction.approxQuantile('log(dollar_value)', [0.25, 0.75], 0)\n",
    "iqr = upr - lwr\n",
    "lwr_bound = lwr - 1.5 * iqr\n",
    "upr_bound = upr + 1.5 * iqr"
   ]
  },
  {
   "cell_type": "code",
   "execution_count": 15,
   "id": "aeaf487b",
   "metadata": {},
   "outputs": [],
   "source": [
    "lwr_bound, upr_bound = np.exp(lwr_bound), np.exp(upr_bound)"
   ]
  },
  {
   "cell_type": "code",
   "execution_count": 16,
   "id": "6f979729",
   "metadata": {},
   "outputs": [
    {
     "data": {
      "text/plain": [
       "(1.8902584230911532, 2078.7342190771465)"
      ]
     },
     "execution_count": 16,
     "metadata": {},
     "output_type": "execute_result"
    }
   ],
   "source": [
    "lwr_bound, upr_bound"
   ]
  },
  {
   "cell_type": "markdown",
   "id": "843c6c9b",
   "metadata": {},
   "source": [
    "Much better outlier range, likely due to a more symmetric and normal distribution after taking the log of `dollar_value`. Comparable to the upper bound with the industry leading competitor (Afterpay) which has a maximum limit per transaction of $1500."
   ]
  },
  {
   "cell_type": "code",
   "execution_count": 17,
   "id": "0bc53103",
   "metadata": {},
   "outputs": [],
   "source": [
    "new_transaction = transaction.where(\n",
    "    (F.col('dollar_value') >= lwr_bound) &\n",
    "    (F.col('dollar_value') <= upr_bound)\n",
    ")"
   ]
  },
  {
   "cell_type": "code",
   "execution_count": 23,
   "id": "ec8d277a",
   "metadata": {},
   "outputs": [],
   "source": [
    "subsample_2 = (new_transaction.sample(0.2)\n",
    "                              .select(['dollar_value','order_id'])\n",
    "                              .toPandas()\n",
    "               )"
   ]
  },
  {
   "cell_type": "code",
   "execution_count": 38,
   "id": "31958711",
   "metadata": {},
   "outputs": [
    {
     "data": {
      "text/plain": [
       "Text(0.5, 0, 'Dollar Value')"
      ]
     },
     "execution_count": 38,
     "metadata": {},
     "output_type": "execute_result"
    },
    {
     "data": {
      "image/png": "[encoded data removed]",
      "text/plain": [
       "<Figure size 432x288 with 1 Axes>"
      ]
     },
     "metadata": {
      "needs_background": "light"
     },
     "output_type": "display_data"
    }
   ],
   "source": [
    "sns.histplot(subsample_2['dollar_value'])\n",
    "plt.title('Distribution of Dollar Value after Outlier Removal')\n",
    "plt.xlabel('Dollar Value')"
   ]
  },
  {
   "cell_type": "code",
   "execution_count": 39,
   "id": "e351990e",
   "metadata": {},
   "outputs": [
    {
     "data": {
      "text/plain": [
       "Text(0.5, 0, 'log(Dollar Value)')"
      ]
     },
     "execution_count": 39,
     "metadata": {},
     "output_type": "execute_result"
    },
    {
     "data": {
      "image/png": "[encoded data removed]",
      "text/plain": [
       "<Figure size 432x288 with 1 Axes>"
      ]
     },
     "metadata": {
      "needs_background": "light"
     },
     "output_type": "display_data"
    }
   ],
   "source": [
    "sns.histplot(np.log(subsample_2['dollar_value']))\n",
    "plt.title('Distribution of log(Dollar Value) after Outlier Removal')\n",
    "plt.xlabel('log(Dollar Value)')"
   ]
  },
  {
   "cell_type": "code",
   "execution_count": 27,
   "id": "b81d2ac3",
   "metadata": {},
   "outputs": [
    {
     "name": "stdout",
     "output_type": "stream",
     "text": [
      "Number of instances after outlier removal: 4407823 \n",
      "Number of outliers removed: 100283 \n",
      "% data removed: 2.22%\n"
     ]
    }
   ],
   "source": [
    "pre_removal = transaction.count()\n",
    "post_removal = new_transaction.count()\n",
    "print(f\"Number of instances after outlier removal: {post_removal}\",\n",
    "      f\"\\nNumber of outliers removed: {pre_removal - post_removal}\",\n",
    "      f\"\\n% data removed: {((pre_removal - post_removal)/pre_removal)*100:.2f}%\")"
   ]
  },
  {
   "cell_type": "markdown",
   "id": "f873487f",
   "metadata": {},
   "source": [
    "Much better outlier range. Distribution of `dollar_value` is still highly positive-skewed but that is just the nature of the data. The log(`dollar_value`) transformation improved the skewness overall."
   ]
  },
  {
   "cell_type": "code",
   "execution_count": null,
   "id": "9d06bde2",
   "metadata": {},
   "outputs": [],
   "source": []
  }
 ],
 "metadata": {
  "kernelspec": {
   "display_name": "Python 3",
   "language": "python",
   "name": "python3"
  },
  "language_info": {
   "codemirror_mode": {
    "name": "ipython",
    "version": 3
   },
   "file_extension": ".py",
   "mimetype": "text/x-python",
   "name": "python",
   "nbconvert_exporter": "python",
   "pygments_lexer": "ipython3",
   "version": "3.7.4"
  }
 },
 "nbformat": 4,
 "nbformat_minor": 5
}
